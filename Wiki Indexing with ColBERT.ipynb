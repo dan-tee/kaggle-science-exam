{
 "cells": [
  {
   "cell_type": "markdown",
   "id": "9ec1e2d8-3265-4c14-99c1-7bf8e6a56512",
   "metadata": {
    "tags": []
   },
   "source": [
    "# Wikipedia Indexing with ColBERT"
   ]
  },
  {
   "cell_type": "code",
   "execution_count": 8,
   "id": "052ec193-3e4d-41be-a8be-84d5963de3a0",
   "metadata": {},
   "outputs": [],
   "source": [
    "# conda install polars pandas seaborn tqdm -c conda-forge\n",
    "# !pip install rank_bm25\n",
    "# !pip install -e './ColBERT'"
   ]
  },
  {
   "cell_type": "code",
   "execution_count": 6,
   "id": "63cca77c-5026-47ec-8479-401f6b87e322",
   "metadata": {
    "tags": []
   },
   "outputs": [],
   "source": [
    "# conda upgrade numpy -c conda-forge\n",
    "# # conda install -c conda-forge faiss-gpu"
   ]
  },
  {
   "cell_type": "code",
   "execution_count": 1,
   "id": "79a20bc5-89d2-41cf-a9c3-ad6c2569b4dc",
   "metadata": {
    "tags": []
   },
   "outputs": [
    {
     "name": "stderr",
     "output_type": "stream",
     "text": [
      "/home/daniel/mambaforge/envs/pytorch/lib/python3.10/site-packages/scipy/__init__.py:146: UserWarning: A NumPy version >=1.17.3 and <1.25.0 is required for this version of SciPy (detected version 1.26.0\n",
      "  warnings.warn(f\"A NumPy version >={np_minversion} and <{np_maxversion}\"\n"
     ]
    }
   ],
   "source": [
    "import os\n",
    "import glob\n",
    "import polars as pl\n",
    "import polars.selectors as cs\n",
    "import pandas as pd\n",
    "import pyarrow as pa\n",
    "import numpy as np\n",
    "import matplotlib.pyplot as plt\n",
    "import seaborn as sns\n",
    "from tqdm.notebook import tqdm\n",
    "from pathlib import Path\n",
    "import faiss\n",
    "\n",
    "from rank_bm25 import BM25Okapi\n",
    "from colbert.infra import Run, RunConfig, ColBERTConfig\n",
    "from colbert.data import Queries, Collection\n",
    "from colbert import Indexer, Searcher"
   ]
  },
  {
   "cell_type": "code",
   "execution_count": 2,
   "id": "d2ded6d6-ef12-4fde-9050-1da3dd0ec8fe",
   "metadata": {
    "tags": []
   },
   "outputs": [],
   "source": [
    "pl.Config(fmt_str_lengths=2000);"
   ]
  },
  {
   "cell_type": "code",
   "execution_count": 3,
   "id": "7d2e8160-d42c-4986-9b2c-c09a6f7374cf",
   "metadata": {
    "tags": []
   },
   "outputs": [],
   "source": [
    "# conda install pytorch torchvision torchaudio pytorch-cuda=11.8 -c pytorch -c nvidia -y"
   ]
  },
  {
   "cell_type": "code",
   "execution_count": 4,
   "id": "2c3b5c92-cf1b-4dc4-bb78-acaf24655132",
   "metadata": {},
   "outputs": [],
   "source": [
    "#!pip install rank_bm25"
   ]
  },
  {
   "cell_type": "code",
   "execution_count": 5,
   "id": "e73c0300-dbbf-463a-868b-ef27095970fd",
   "metadata": {
    "tags": []
   },
   "outputs": [],
   "source": [
    "# !conda list | grep bitsandbytes"
   ]
  },
  {
   "cell_type": "code",
   "execution_count": 6,
   "id": "dc30dded-8f0c-4399-a124-5b099d2f65fd",
   "metadata": {
    "tags": []
   },
   "outputs": [],
   "source": [
    "# !conda install -c conda-forge pyarrow -y"
   ]
  },
  {
   "cell_type": "code",
   "execution_count": 7,
   "id": "03d06b87-6da5-4e7d-b6f5-510d3e5f95c5",
   "metadata": {
    "tags": []
   },
   "outputs": [],
   "source": [
    "# !conda update -c conda-forge 'auto-gptq[triton]' -y"
   ]
  },
  {
   "cell_type": "code",
   "execution_count": 8,
   "id": "c174f049-e7d5-4c18-ba76-abab2e6ff4ce",
   "metadata": {
    "tags": []
   },
   "outputs": [],
   "source": [
    "# huggingface_hub.login(os.environ['HUGGING_FACE_TOKEN'])"
   ]
  },
  {
   "cell_type": "code",
   "execution_count": 9,
   "id": "34a5363a-7ae1-4ac9-ad64-2e4fd2093900",
   "metadata": {
    "tags": []
   },
   "outputs": [
    {
     "data": {
      "text/plain": [
       "((5799, 8),\n",
       " array(['question', 'correct', 'incorrect_1', 'incorrect_2', 'incorrect_3',\n",
       "        'incorrect_4', 'title', 'section_title'], dtype='<U13'))"
      ]
     },
     "execution_count": 9,
     "metadata": {},
     "output_type": "execute_result"
    }
   ],
   "source": [
    "questions = pl.read_parquet('./data/daniel_train/v_1_combined/daniel_train_v_1.parquet')\n",
    "questions = questions.filter(pl.col('question').is_not_null())\n",
    "questions.shape, np.array(questions.columns)"
   ]
  },
  {
   "cell_type": "code",
   "execution_count": 10,
   "id": "03bbd53d-40b4-4876-b61a-337b302ae46a",
   "metadata": {
    "tags": []
   },
   "outputs": [
    {
     "data": {
      "text/plain": [
       "((827713, 16),\n",
       " array(['section_id', 'title', 'category', 'page_id', 'parent_id',\n",
       "        'revision_id', 'revision_ts', 'short_description', 'sha1',\n",
       "        'page_bytes', 'section_index', 'section_title', 'section_level',\n",
       "        'section_text', 'title_section_rank', 'section_word_count'],\n",
       "       dtype='<U18'))"
      ]
     },
     "execution_count": 10,
     "metadata": {},
     "output_type": "execute_result"
    }
   ],
   "source": [
    "wiki_sections = pl.read_parquet('./data/wiki_with_category_v_4.parquet')\n",
    "section_word_counts = wiki_sections['section_text'].str.split(' ').list.lengths()\n",
    "wiki_sections = wiki_sections.with_columns(section_word_count=pl.Series(section_word_counts))\n",
    "\n",
    "wiki_sections = wiki_sections.filter(pl.col('section_word_count') > 11)\n",
    "wiki_sections.shape, np.array(wiki_sections.columns) # 833,300 sections"
   ]
  },
  {
   "cell_type": "code",
   "execution_count": 11,
   "id": "0cfed80a-95e4-4367-8c4b-35456dab91af",
   "metadata": {
    "tags": []
   },
   "outputs": [
    {
     "data": {
      "text/plain": [
       "154105"
      ]
     },
     "execution_count": 11,
     "metadata": {},
     "output_type": "execute_result"
    }
   ],
   "source": [
    "wiki_sections['title'].n_unique()"
   ]
  },
  {
   "cell_type": "code",
   "execution_count": 12,
   "id": "ee0f5f9a-e55c-4c5b-b4f8-89b32aa668a4",
   "metadata": {
    "tags": []
   },
   "outputs": [
    {
     "data": {
      "text/plain": [
       "'Mean word count: 207, median: 120'"
      ]
     },
     "execution_count": 12,
     "metadata": {},
     "output_type": "execute_result"
    },
    {
     "data": {
      "image/png": "[encoded data removed]",
      "text/plain": [
       "<Figure size 600x300 with 1 Axes>"
      ]
     },
     "metadata": {},
     "output_type": "display_data"
    }
   ],
   "source": [
    "plt.figure(figsize=[6,3])\n",
    "sns.histplot(wiki_sections['section_word_count'], binrange=[0, 1500])\n",
    "plt.title('Section Word Count')\n",
    "f'Mean word count: {section_word_counts.mean():.0f}, median: {section_word_counts.median():.0f}'"
   ]
  },
  {
   "cell_type": "code",
   "execution_count": 13,
   "id": "796b29d4-d611-43e5-a697-21d02f08fb78",
   "metadata": {
    "tags": []
   },
   "outputs": [
    {
     "data": {
      "text/html": [
       "<div><style>\n",
       ".dataframe > thead > tr > th,\n",
       ".dataframe > tbody > tr > td {\n",
       "  text-align: right;\n",
       "  white-space: pre-wrap;\n",
       "}\n",
       "</style>\n",
       "<small>shape: (0, 16)</small><table border=\"1\" class=\"dataframe\"><thead><tr><th>section_id</th><th>title</th><th>category</th><th>page_id</th><th>parent_id</th><th>revision_id</th><th>revision_ts</th><th>short_description</th><th>sha1</th><th>page_bytes</th><th>section_index</th><th>section_title</th><th>section_level</th><th>section_text</th><th>title_section_rank</th><th>section_word_count</th></tr><tr><td>u32</td><td>str</td><td>str</td><td>i64</td><td>i64</td><td>i64</td><td>datetime[μs]</td><td>str</td><td>str</td><td>i64</td><td>i64</td><td>str</td><td>i64</td><td>str</td><td>u32</td><td>u32</td></tr></thead><tbody></tbody></table></div>"
      ],
      "text/plain": [
       "shape: (0, 16)\n",
       "┌────────────┬───────┬──────────┬─────────┬───┬─────────────┬────────────┬────────────┬────────────┐\n",
       "│ section_id ┆ title ┆ category ┆ page_id ┆ … ┆ section_lev ┆ section_te ┆ title_sect ┆ section_wo │\n",
       "│ ---        ┆ ---   ┆ ---      ┆ ---     ┆   ┆ el          ┆ xt         ┆ ion_rank   ┆ rd_count   │\n",
       "│ u32        ┆ str   ┆ str      ┆ i64     ┆   ┆ ---         ┆ ---        ┆ ---        ┆ ---        │\n",
       "│            ┆       ┆          ┆         ┆   ┆ i64         ┆ str        ┆ u32        ┆ u32        │\n",
       "╞════════════╪═══════╪══════════╪═════════╪═══╪═════════════╪════════════╪════════════╪════════════╡\n",
       "└────────────┴───────┴──────────┴─────────┴───┴─────────────┴────────────┴────────────┴────────────┘"
      ]
     },
     "execution_count": 13,
     "metadata": {},
     "output_type": "execute_result"
    }
   ],
   "source": [
    "wiki_sections.filter(pl.col('title').str.starts_with('List of'))"
   ]
  },
  {
   "cell_type": "code",
   "execution_count": 14,
   "id": "595c2b68-cd9d-475c-96ec-aa0ee7cb40d1",
   "metadata": {
    "tags": []
   },
   "outputs": [],
   "source": [
    "# wiki_sections.sample(20)[['title', 'section_title', 'section_text']]"
   ]
  },
  {
   "cell_type": "code",
   "execution_count": 15,
   "id": "6a43f35a-5c74-47e7-980c-c8d3db836e86",
   "metadata": {
    "tags": []
   },
   "outputs": [],
   "source": [
    "# with pl.Config() as cfg:\n",
    "#     cfg.set_tbl_rows(100)\n",
    "#     display(wiki_sections.filter(pl.col('section_word_count') < 15)[['title', 'section_title', 'section_text']])"
   ]
  },
  {
   "cell_type": "code",
   "execution_count": 16,
   "id": "79de5947-5a6f-489d-a0c1-eea629be5362",
   "metadata": {
    "tags": []
   },
   "outputs": [],
   "source": [
    "max_words = 100\n",
    "doc_maxlen = 150\n",
    "query_maxlen = 150\n",
    "nbits = 1\n",
    "colbert_path = Path(f'./data/colbert_max_words_{max_words}_nbits_{nbits}-v5')\n",
    "os.makedirs(colbert_path, exist_ok=True)"
   ]
  },
  {
   "cell_type": "code",
   "execution_count": 17,
   "id": "1fb9d27d-7df5-41e1-bbd3-0573084db962",
   "metadata": {
    "tags": []
   },
   "outputs": [
    {
     "data": {
      "text/plain": [
       "((2396792, 9),\n",
       " ['passage_id',\n",
       "  'section_id',\n",
       "  'title',\n",
       "  'section_title',\n",
       "  'section_index',\n",
       "  'passage_text',\n",
       "  'title_section_rank',\n",
       "  'section_passage_num',\n",
       "  'titled_passage'])"
      ]
     },
     "execution_count": 17,
     "metadata": {},
     "output_type": "execute_result"
    }
   ],
   "source": [
    "def split_text_into_chunks(text):\n",
    "    chunks = []\n",
    "    current_chunk = []\n",
    "    current_length = 0\n",
    "    last_period = -1\n",
    "    section_words = text.split()\n",
    "\n",
    "    remaining_words = list(section_words)\n",
    "    split_sum = 0\n",
    "    for word in section_words:\n",
    "        current_length += 1\n",
    "        if word.endswith('.'):\n",
    "            last_period = current_length\n",
    "        \n",
    "        if current_length == max_words:\n",
    "            if last_period > -1:\n",
    "                chunk = remaining_words[:last_period]\n",
    "                chunks.append(\" \".join(chunk))\n",
    "                remaining_words = remaining_words[last_period:]             \n",
    "                current_length = current_length - last_period\n",
    "                split_sum += last_period\n",
    "            else:\n",
    "                # If no period exists, just split it at max_words\n",
    "                chunk = remaining_words[:current_length]\n",
    "                chunks.append(\" \".join(chunk))\n",
    "                remaining_words = remaining_words[current_length:]\n",
    "                current_length = 0\n",
    "                split_sum += current_length\n",
    "            last_period = -1\n",
    "\n",
    "    if remaining_words:\n",
    "        chunks.append(\" \".join(remaining_words))\n",
    "    \n",
    "    return chunks\n",
    "\n",
    "passages = wiki_sections[['section_id', 'title', 'section_title', 'section_index', 'section_text']]\n",
    "passages = passages.with_columns(\n",
    "    pl.col(\"section_text\")\n",
    "      .map_elements(split_text_into_chunks)\\\n",
    "      .cast(pl.List(pl.Utf8)).alias('passage_text')\\\n",
    ")\n",
    "passages = passages.drop('section_text')\n",
    "passages = passages.explode('passage_text')\n",
    "\n",
    "passages = passages.with_columns(pl.col('title')\\\n",
    "                   .rank(method=\"ordinal\")\\\n",
    "                   .over(['title', 'section_index', 'section_title', 'passage_text'])\\\n",
    "                   .alias('title_section_rank'))\n",
    "passages = passages.filter(pl.col('title_section_rank') == 1)\n",
    "passages = passages.filter(pl.col('passage_text').is_not_null())\\\n",
    "                   .with_row_count('passage_id')\n",
    "\n",
    "passages = passages.with_columns(pl.col('passage_text').str.replace_all('\\n', ' '))                      \n",
    "passages_file = colbert_path/'wiki_passages'\n",
    "passages.write_parquet(str(passages_file) +'.parquet')\n",
    "passages = passages.with_columns(pl.col('passage_id').rank(method=\"min\").over([\"section_id\"]).alias('section_passage_num'))\n",
    "\n",
    "# \\s: Matches any whitespace character, including spaces, tabs, and newline characters.\n",
    "# \\S: Matches any character that is NOT a whitespace character.\n",
    "passages = passages.with_columns(pl.col('section_title').str.replace_all('<ref[^>]*>[\\s\\S]*?<\\/ref>', ''))\n",
    "passages = passages.with_columns(pl.col('passage_text').str.replace_all('<ref[^>]*>[\\s\\S]*?<\\/ref>', ''))\n",
    "passages = passages.with_columns(titled_passage=pl.col('title') +\\\n",
    "                                  ':' + pl.col('section_title') + ':'\\\n",
    "                                  + pl.col('passage_text').str.replace_all(r\"[\\n\\t]+$\", \"\"))\n",
    "passages.shape, passages.columns # 2,500,036 of max_words 100"
   ]
  },
  {
   "cell_type": "code",
   "execution_count": 18,
   "id": "57f469d6-38f7-4043-b695-c6cfe7874a75",
   "metadata": {
    "tags": []
   },
   "outputs": [
    {
     "data": {
      "image/png": "[encoded data removed]",
      "text/plain": [
       "<Figure size 600x300 with 1 Axes>"
      ]
     },
     "metadata": {},
     "output_type": "display_data"
    }
   ],
   "source": [
    "plt.figure(figsize=[6,3])\n",
    "sns.histplot(passages['titled_passage'].str.split(' ').list.lengths(), binrange=[0, max_words]);"
   ]
  },
  {
   "cell_type": "code",
   "execution_count": 19,
   "id": "28fad48f-85df-4294-9034-140af0425063",
   "metadata": {
    "tags": []
   },
   "outputs": [
    {
     "data": {
      "text/html": [
       "<div><style>\n",
       ".dataframe > thead > tr > th,\n",
       ".dataframe > tbody > tr > td {\n",
       "  text-align: right;\n",
       "  white-space: pre-wrap;\n",
       "}\n",
       "</style>\n",
       "<small>shape: (0, 9)</small><table border=\"1\" class=\"dataframe\"><thead><tr><th>passage_id</th><th>section_id</th><th>title</th><th>section_title</th><th>section_index</th><th>passage_text</th><th>title_section_rank</th><th>section_passage_num</th><th>titled_passage</th></tr><tr><td>u32</td><td>u32</td><td>str</td><td>str</td><td>i64</td><td>str</td><td>u32</td><td>u32</td><td>str</td></tr></thead><tbody></tbody></table></div>"
      ],
      "text/plain": [
       "shape: (0, 9)\n",
       "┌────────────┬────────────┬───────┬────────────┬───┬───────────┬───────────┬───────────┬───────────┐\n",
       "│ passage_id ┆ section_id ┆ title ┆ section_ti ┆ … ┆ passage_t ┆ title_sec ┆ section_p ┆ titled_pa │\n",
       "│ ---        ┆ ---        ┆ ---   ┆ tle        ┆   ┆ ext       ┆ tion_rank ┆ assage_nu ┆ ssage     │\n",
       "│ u32        ┆ u32        ┆ str   ┆ ---        ┆   ┆ ---       ┆ ---       ┆ m         ┆ ---       │\n",
       "│            ┆            ┆       ┆ str        ┆   ┆ str       ┆ u32       ┆ ---       ┆ str       │\n",
       "│            ┆            ┆       ┆            ┆   ┆           ┆           ┆ u32       ┆           │\n",
       "╞════════════╪════════════╪═══════╪════════════╪═══╪═══════════╪═══════════╪═══════════╪═══════════╡\n",
       "└────────────┴────────────┴───────┴────────────┴───┴───────────┴───────────┴───────────┴───────────┘"
      ]
     },
     "execution_count": 19,
     "metadata": {},
     "output_type": "execute_result"
    }
   ],
   "source": [
    "# def split_text_into_chunks(text):\n",
    "#     chunks = []\n",
    "#     current_chunk = []\n",
    "#     current_length = 0\n",
    "#     last_period = -1\n",
    "#     section_words = text.split()\n",
    "\n",
    "#     remaining_words = list(section_words)\n",
    "#     split_sum = 0\n",
    "#     for word in section_words:\n",
    "#         current_length += 1\n",
    "#         if word.endswith('.'):\n",
    "#             last_period = current_length\n",
    "        \n",
    "#         if current_length == max_words:\n",
    "#             if last_period > -1:\n",
    "#                 chunk = remaining_words[:last_period]\n",
    "#                 chunks.append(\" \".join(chunk))\n",
    "#                 remaining_words = remaining_words[last_period:]             \n",
    "#                 current_length = current_length - last_period\n",
    "#                 split_sum += last_period\n",
    "#             else:\n",
    "#                 # If no period exists, just split it at max_words\n",
    "#                 chunk = remaining_words[:current_length]\n",
    "#                 chunks.append(\" \".join(chunk))\n",
    "#                 remaining_words = remaining_words[current_length:]\n",
    "#                 current_length = 0\n",
    "#                 split_sum += current_length\n",
    "#             last_period = -1\n",
    "\n",
    "#     if remaining_words:\n",
    "#         chunks.append(\" \".join(remaining_words))\n",
    "    \n",
    "#     return chunks\n",
    "\n",
    "# passages = wiki_sections[['section_Aid', 'title', 'section_title', 'section_index', 'section_text']]\n",
    "# passages = passages.with_columns(\n",
    "#     pl.col(\"section_text\")\n",
    "#       .map_elements(split_text_into_chunks)\\\n",
    "#       .cast(pl.List(pl.Utf8)).alias('passage_text')\\\n",
    "# )\n",
    "# passages = passages.drop('section_text')\n",
    "# passages = passages.explode('passage_text')\n",
    "passages.filter(passages.drop('section_id').is_duplicated()).sort(['title', 'section_title', 'section_index', 'passage_text'])"
   ]
  },
  {
   "cell_type": "markdown",
   "id": "1802e4d8-6515-4589-a6b7-06fd52e9baaf",
   "metadata": {},
   "source": [
    "## Using ColBERT to find Wiki Section"
   ]
  },
  {
   "cell_type": "code",
   "execution_count": 20,
   "id": "db6f01a8-acbc-42b1-b7f6-f8f0c0d68046",
   "metadata": {
    "tags": []
   },
   "outputs": [
    {
     "name": "stdout",
     "output_type": "stream",
     "text": [
      "[Sep 23, 16:49:35] #> Loading collection...\n",
      "0M 1M 2M \n"
     ]
    }
   ],
   "source": [
    "checkpoint = './checkpoints/colbertv2.0'\n",
    "indexer_name = f\"colbert_wiki_indexer\"\n",
    "\n",
    "passages[['passage_id', 'titled_passage']].write_csv(str(passages_file) + '.tsv', separator='\\t', has_header=False)\n",
    "c_collection = Collection(str(passages_file) + '.tsv')\n",
    "f'Loaded {len(c_collection):,} passages'\n",
    "\n",
    "os.environ['COLBERT_LOAD_TORCH_EXTENSION_VERBOSE'] = 'True'\n",
    "\n",
    "config = ColBERTConfig(\n",
    "    doc_maxlen=doc_maxlen,\n",
    "    query_maxlen=query_maxlen, \n",
    "    nbits=nbits\n",
    ")"
   ]
  },
  {
   "cell_type": "code",
   "execution_count": 21,
   "id": "9b14b8e2-8820-4591-8436-be1a5694e432",
   "metadata": {
    "tags": []
   },
   "outputs": [
    {
     "name": "stdout",
     "output_type": "stream",
     "text": [
      "\n",
      "\n",
      "[Sep 23, 16:49:37] #> Creating directory data/colbert_max_words_100_nbits_1-v5/colbert_wiki_indexer \n",
      "\n",
      "\n",
      "#> Starting...\n",
      "nranks = 1 \t num_gpus = 1 \t device=0\n",
      "{\n",
      "    \"query_token_id\": \"[unused0]\",\n",
      "    \"doc_token_id\": \"[unused1]\",\n",
      "    \"query_token\": \"[Q]\",\n",
      "    \"doc_token\": \"[D]\",\n",
      "    \"ncells\": null,\n",
      "    \"centroid_score_threshold\": null,\n",
      "    \"ndocs\": null,\n",
      "    \"index_path\": null,\n",
      "    \"nbits\": 1,\n",
      "    \"kmeans_niters\": 20,\n",
      "    \"resume\": false,\n",
      "    \"similarity\": \"cosine\",\n",
      "    \"bsize\": 64,\n",
      "    \"accumsteps\": 1,\n",
      "    \"lr\": 1e-5,\n",
      "    \"maxsteps\": 400000,\n",
      "    \"save_every\": null,\n",
      "    \"warmup\": 20000,\n",
      "    \"warmup_bert\": null,\n",
      "    \"relu\": false,\n",
      "    \"nway\": 64,\n",
      "    \"use_ib_negatives\": true,\n",
      "    \"reranker\": false,\n",
      "    \"distillation_alpha\": 1.0,\n",
      "    \"ignore_scores\": false,\n",
      "    \"model_name\": null,\n",
      "    \"query_maxlen\": 150,\n",
      "    \"attend_to_mask_tokens\": false,\n",
      "    \"interaction\": \"colbert\",\n",
      "    \"dim\": 128,\n",
      "    \"doc_maxlen\": 150,\n",
      "    \"mask_punctuation\": true,\n",
      "    \"checkpoint\": \".\\/checkpoints\\/colbertv2.0\",\n",
      "    \"triples\": \"\\/future\\/u\\/okhattab\\/root\\/unit\\/experiments\\/2021.10\\/downstream.distillation.round2.2_score\\/round2.nway6.cosine.ib\\/examples.64.json\",\n",
      "    \"collection\": \"data\\/colbert_max_words_100_nbits_1-v5\\/wiki_passages.tsv\",\n",
      "    \"queries\": \"\\/future\\/u\\/okhattab\\/data\\/MSMARCO\\/queries.train.tsv\",\n",
      "    \"index_name\": \"colbert_wiki_indexer\",\n",
      "    \"overwrite\": false,\n",
      "    \"root\": \"\\/home\\/daniel\\/code\\/kaggle-science-exam\\/experiments\",\n",
      "    \"experiment\": \"default\",\n",
      "    \"index_root\": \"data\\/colbert_max_words_100_nbits_1-v5\",\n",
      "    \"name\": \"2023-09\\/23\\/16.48.52\",\n",
      "    \"rank\": 0,\n",
      "    \"nranks\": 1,\n",
      "    \"amp\": true,\n",
      "    \"gpus\": 1\n",
      "}\n",
      "[Sep 23, 16:49:42] [0] \t\t # of sampled PIDs = 271348 \t sampled_pids[:3] = [1747430, 42652, 1252586]\n",
      "[Sep 23, 16:49:43] [0] \t\t #> Encoding 271348 passages..\n",
      "[Sep 23, 16:52:12] [0] \t\t avg_doclen_est = 100.28939056396484 \t len(local_sample) = 271,348\n",
      "[Sep 23, 16:52:15] [0] \t\t Creaing 131,072 partitions.\n",
      "[Sep 23, 16:52:15] [0] \t\t *Estimated* 240,372,808 embeddings.\n",
      "[Sep 23, 16:52:15] [0] \t\t #> Saving the indexing plan to data/colbert_max_words_100_nbits_1-v5/colbert_wiki_indexer/plan.json ..\n",
      "Clustering 27163326 points in 128D to 131072 clusters, redo 1 times, 20 iterations\n",
      "  Preprocessing in 1.19 s\n",
      "  Iteration 19 (993.93 s, search 972.05 s): objective=5.87406e+06 imbalance=1.254 nsplit=0       \n",
      "[Sep 23, 17:08:56] Loading decompress_residuals_cpp extension (set COLBERT_LOAD_TORCH_EXTENSION_VERBOSE=True for more info)...\n",
      "ninja: no work to do.\n",
      "[Sep 23, 17:08:56] Loading packbits_cpp extension (set COLBERT_LOAD_TORCH_EXTENSION_VERBOSE=True for more info)...\n",
      "ninja: no work to do.\n",
      "[0.033, 0.036, 0.035, 0.032, 0.033, 0.035, 0.036, 0.032, 0.033, 0.034, 0.033, 0.033, 0.034, 0.034, 0.032, 0.036, 0.03, 0.032, 0.033, 0.033, 0.034, 0.035, 0.033, 0.034, 0.033, 0.033, 0.034, 0.034, 0.033, 0.035, 0.034, 0.036, 0.036, 0.033, 0.033, 0.032, 0.036, 0.033, 0.033, 0.039, 0.035, 0.033, 0.034, 0.036, 0.033, 0.034, 0.032, 0.037, 0.034, 0.032, 0.033, 0.033, 0.034, 0.034, 0.033, 0.033, 0.039, 0.034, 0.039, 0.033, 0.033, 0.035, 0.034, 0.037, 0.035, 0.035, 0.037, 0.036, 0.033, 0.032, 0.037, 0.032, 0.033, 0.035, 0.033, 0.036, 0.036, 0.035, 0.036, 0.035, 0.035, 0.034, 0.035, 0.036, 0.032, 0.034, 0.034, 0.035, 0.032, 0.037, 0.033, 0.037, 0.033, 0.035, 0.034, 0.034, 0.038, 0.033, 0.033, 0.034, 0.035, 0.037, 0.036, 0.033, 0.037, 0.032, 0.034, 0.033, 0.035, 0.034, 0.035, 0.036, 0.035, 0.033, 0.034, 0.033, 0.036, 0.035, 0.034, 0.035, 0.033, 0.033, 0.035, 0.035, 0.032, 0.037, 0.034, 0.033]\n",
      "[Sep 23, 17:08:56] #> Got bucket_cutoffs_quantiles = tensor([0.5000], device='cuda:0') and bucket_weights_quantiles = tensor([0.2500, 0.7500], device='cuda:0')\n",
      "[Sep 23, 17:08:56] #> Got bucket_cutoffs = tensor([0.0001], device='cuda:0') and bucket_weights = tensor([-0.0273,  0.0277], device='cuda:0')\n",
      "[Sep 23, 17:08:56] avg_residual = 0.03424072265625\n"
     ]
    },
    {
     "name": "stderr",
     "output_type": "stream",
     "text": [
      "Using /home/daniel/.cache/torch_extensions/py310_cu118 as PyTorch extensions root...\n",
      "Detected CUDA files, patching ldflags\n",
      "Emitting ninja build file /home/daniel/.cache/torch_extensions/py310_cu118/decompress_residuals_cpp/build.ninja...\n",
      "Building extension module decompress_residuals_cpp...\n",
      "Allowing ninja to set a default number of workers... (overridable by setting the environment variable MAX_JOBS=N)\n",
      "Loading extension module decompress_residuals_cpp...\n",
      "Using /home/daniel/.cache/torch_extensions/py310_cu118 as PyTorch extensions root...\n",
      "Detected CUDA files, patching ldflags\n",
      "Emitting ninja build file /home/daniel/.cache/torch_extensions/py310_cu118/packbits_cpp/build.ninja...\n",
      "Building extension module packbits_cpp...\n",
      "Allowing ninja to set a default number of workers... (overridable by setting the environment variable MAX_JOBS=N)\n",
      "Loading extension module packbits_cpp...\n",
      "0it [00:00, ?it/s]"
     ]
    },
    {
     "name": "stdout",
     "output_type": "stream",
     "text": [
      "[Sep 23, 17:08:56] [0] \t\t #> Encoding 25000 passages..\n",
      "[Sep 23, 17:09:10] [0] \t\t #> Saving chunk 0: \t 25,000 passages and 2,514,054 embeddings. From #0 onward.\n"
     ]
    },
    {
     "name": "stderr",
     "output_type": "stream",
     "text": [
      "1it [00:15, 15.39s/it]"
     ]
    },
    {
     "name": "stdout",
     "output_type": "stream",
     "text": [
      "[Sep 23, 17:09:12] [0] \t\t #> Encoding 25000 passages..\n",
      "[Sep 23, 17:09:25] [0] \t\t #> Saving chunk 1: \t 25,000 passages and 2,536,381 embeddings. From #25,000 onward.\n"
     ]
    },
    {
     "name": "stderr",
     "output_type": "stream",
     "text": [
      "2it [00:30, 15.29s/it]"
     ]
    },
    {
     "name": "stdout",
     "output_type": "stream",
     "text": [
      "[Sep 23, 17:09:27] [0] \t\t #> Encoding 25000 passages..\n",
      "[Sep 23, 17:09:41] [0] \t\t #> Saving chunk 2: \t 25,000 passages and 2,465,671 embeddings. From #50,000 onward.\n"
     ]
    },
    {
     "name": "stderr",
     "output_type": "stream",
     "text": [
      "3it [00:45, 15.24s/it]"
     ]
    },
    {
     "name": "stdout",
     "output_type": "stream",
     "text": [
      "[Sep 23, 17:09:42] [0] \t\t #> Encoding 25000 passages..\n",
      "[Sep 23, 17:09:56] [0] \t\t #> Saving chunk 3: \t 25,000 passages and 2,502,451 embeddings. From #75,000 onward.\n"
     ]
    },
    {
     "name": "stderr",
     "output_type": "stream",
     "text": [
      "4it [01:01, 15.26s/it]"
     ]
    },
    {
     "name": "stdout",
     "output_type": "stream",
     "text": [
      "[Sep 23, 17:09:57] [0] \t\t #> Encoding 25000 passages..\n",
      "[Sep 23, 17:10:11] [0] \t\t #> Saving chunk 4: \t 25,000 passages and 2,518,696 embeddings. From #100,000 onward.\n"
     ]
    },
    {
     "name": "stderr",
     "output_type": "stream",
     "text": [
      "5it [01:16, 15.30s/it]"
     ]
    },
    {
     "name": "stdout",
     "output_type": "stream",
     "text": [
      "[Sep 23, 17:10:13] [0] \t\t #> Encoding 25000 passages..\n",
      "[Sep 23, 17:10:26] [0] \t\t #> Saving chunk 5: \t 25,000 passages and 2,521,527 embeddings. From #125,000 onward.\n"
     ]
    },
    {
     "name": "stderr",
     "output_type": "stream",
     "text": [
      "6it [01:31, 15.28s/it]"
     ]
    },
    {
     "name": "stdout",
     "output_type": "stream",
     "text": [
      "[Sep 23, 17:10:28] [0] \t\t #> Encoding 25000 passages..\n",
      "[Sep 23, 17:10:42] [0] \t\t #> Saving chunk 6: \t 25,000 passages and 2,513,895 embeddings. From #150,000 onward.\n"
     ]
    },
    {
     "name": "stderr",
     "output_type": "stream",
     "text": [
      "7it [01:46, 15.27s/it]"
     ]
    },
    {
     "name": "stdout",
     "output_type": "stream",
     "text": [
      "[Sep 23, 17:10:43] [0] \t\t #> Encoding 25000 passages..\n",
      "[Sep 23, 17:10:57] [0] \t\t #> Saving chunk 7: \t 25,000 passages and 2,536,249 embeddings. From #175,000 onward.\n"
     ]
    },
    {
     "name": "stderr",
     "output_type": "stream",
     "text": [
      "8it [02:02, 15.26s/it]"
     ]
    },
    {
     "name": "stdout",
     "output_type": "stream",
     "text": [
      "[Sep 23, 17:10:59] [0] \t\t #> Encoding 25000 passages..\n",
      "[Sep 23, 17:11:12] [0] \t\t #> Saving chunk 8: \t 25,000 passages and 2,448,831 embeddings. From #200,000 onward.\n"
     ]
    },
    {
     "name": "stderr",
     "output_type": "stream",
     "text": [
      "9it [02:17, 15.23s/it]"
     ]
    },
    {
     "name": "stdout",
     "output_type": "stream",
     "text": [
      "[Sep 23, 17:11:14] [0] \t\t #> Encoding 25000 passages..\n",
      "[Sep 23, 17:11:28] [0] \t\t #> Saving chunk 9: \t 25,000 passages and 2,504,737 embeddings. From #225,000 onward.\n"
     ]
    },
    {
     "name": "stderr",
     "output_type": "stream",
     "text": [
      "10it [02:32, 15.28s/it]"
     ]
    },
    {
     "name": "stdout",
     "output_type": "stream",
     "text": [
      "[Sep 23, 17:11:29] [0] \t\t #> Encoding 25000 passages..\n",
      "[Sep 23, 17:11:43] [0] \t\t #> Saving chunk 10: \t 25,000 passages and 2,528,385 embeddings. From #250,000 onward.\n"
     ]
    },
    {
     "name": "stderr",
     "output_type": "stream",
     "text": [
      "11it [02:48, 15.27s/it]"
     ]
    },
    {
     "name": "stdout",
     "output_type": "stream",
     "text": [
      "[Sep 23, 17:11:44] [0] \t\t #> Encoding 25000 passages..\n",
      "[Sep 23, 17:11:58] [0] \t\t #> Saving chunk 11: \t 25,000 passages and 2,521,046 embeddings. From #275,000 onward.\n"
     ]
    },
    {
     "name": "stderr",
     "output_type": "stream",
     "text": [
      "12it [03:03, 15.27s/it]"
     ]
    },
    {
     "name": "stdout",
     "output_type": "stream",
     "text": [
      "[Sep 23, 17:12:00] [0] \t\t #> Encoding 25000 passages..\n",
      "[Sep 23, 17:12:13] [0] \t\t #> Saving chunk 12: \t 25,000 passages and 2,518,252 embeddings. From #300,000 onward.\n"
     ]
    },
    {
     "name": "stderr",
     "output_type": "stream",
     "text": [
      "13it [03:18, 15.27s/it]"
     ]
    },
    {
     "name": "stdout",
     "output_type": "stream",
     "text": [
      "[Sep 23, 17:12:15] [0] \t\t #> Encoding 25000 passages..\n",
      "[Sep 23, 17:12:29] [0] \t\t #> Saving chunk 13: \t 25,000 passages and 2,545,243 embeddings. From #325,000 onward.\n"
     ]
    },
    {
     "name": "stderr",
     "output_type": "stream",
     "text": [
      "14it [03:33, 15.31s/it]"
     ]
    },
    {
     "name": "stdout",
     "output_type": "stream",
     "text": [
      "[Sep 23, 17:12:30] [0] \t\t #> Encoding 25000 passages..\n",
      "[Sep 23, 17:12:44] [0] \t\t #> Saving chunk 14: \t 25,000 passages and 2,450,535 embeddings. From #350,000 onward.\n"
     ]
    },
    {
     "name": "stderr",
     "output_type": "stream",
     "text": [
      "15it [03:49, 15.27s/it]"
     ]
    },
    {
     "name": "stdout",
     "output_type": "stream",
     "text": [
      "[Sep 23, 17:12:46] [0] \t\t #> Encoding 25000 passages..\n",
      "[Sep 23, 17:12:59] [0] \t\t #> Saving chunk 15: \t 25,000 passages and 2,491,506 embeddings. From #375,000 onward.\n"
     ]
    },
    {
     "name": "stderr",
     "output_type": "stream",
     "text": [
      "16it [04:04, 15.26s/it]"
     ]
    },
    {
     "name": "stdout",
     "output_type": "stream",
     "text": [
      "[Sep 23, 17:13:01] [0] \t\t #> Encoding 25000 passages..\n",
      "[Sep 23, 17:13:14] [0] \t\t #> Saving chunk 16: \t 25,000 passages and 2,511,432 embeddings. From #400,000 onward.\n"
     ]
    },
    {
     "name": "stderr",
     "output_type": "stream",
     "text": [
      "17it [04:19, 15.26s/it]"
     ]
    },
    {
     "name": "stdout",
     "output_type": "stream",
     "text": [
      "[Sep 23, 17:13:16] [0] \t\t #> Encoding 25000 passages..\n",
      "[Sep 23, 17:13:30] [0] \t\t #> Saving chunk 17: \t 25,000 passages and 2,524,358 embeddings. From #425,000 onward.\n"
     ]
    },
    {
     "name": "stderr",
     "output_type": "stream",
     "text": [
      "18it [04:35, 15.31s/it]"
     ]
    },
    {
     "name": "stdout",
     "output_type": "stream",
     "text": [
      "[Sep 23, 17:13:31] [0] \t\t #> Encoding 25000 passages..\n",
      "[Sep 23, 17:13:45] [0] \t\t #> Saving chunk 18: \t 25,000 passages and 2,508,514 embeddings. From #450,000 onward.\n"
     ]
    },
    {
     "name": "stderr",
     "output_type": "stream",
     "text": [
      "19it [04:50, 15.30s/it]"
     ]
    },
    {
     "name": "stdout",
     "output_type": "stream",
     "text": [
      "[Sep 23, 17:13:47] [0] \t\t #> Encoding 25000 passages..\n",
      "[Sep 23, 17:14:00] [0] \t\t #> Saving chunk 19: \t 25,000 passages and 2,541,259 embeddings. From #475,000 onward.\n"
     ]
    },
    {
     "name": "stderr",
     "output_type": "stream",
     "text": [
      "20it [05:05, 15.29s/it]"
     ]
    },
    {
     "name": "stdout",
     "output_type": "stream",
     "text": [
      "[Sep 23, 17:14:02] [0] \t\t #> Encoding 25000 passages..\n",
      "[Sep 23, 17:14:16] [0] \t\t #> Saving chunk 20: \t 25,000 passages and 2,445,172 embeddings. From #500,000 onward.\n"
     ]
    },
    {
     "name": "stderr",
     "output_type": "stream",
     "text": [
      "21it [05:20, 15.25s/it]"
     ]
    },
    {
     "name": "stdout",
     "output_type": "stream",
     "text": [
      "[Sep 23, 17:14:17] [0] \t\t #> Encoding 25000 passages..\n",
      "[Sep 23, 17:14:31] [0] \t\t #> Saving chunk 21: \t 25,000 passages and 2,510,216 embeddings. From #525,000 onward.\n"
     ]
    },
    {
     "name": "stderr",
     "output_type": "stream",
     "text": [
      "22it [05:36, 15.29s/it]"
     ]
    },
    {
     "name": "stdout",
     "output_type": "stream",
     "text": [
      "[Sep 23, 17:14:33] [0] \t\t #> Encoding 25000 passages..\n",
      "[Sep 23, 17:14:46] [0] \t\t #> Saving chunk 22: \t 25,000 passages and 2,512,227 embeddings. From #550,000 onward.\n"
     ]
    },
    {
     "name": "stderr",
     "output_type": "stream",
     "text": [
      "23it [05:51, 15.28s/it]"
     ]
    },
    {
     "name": "stdout",
     "output_type": "stream",
     "text": [
      "[Sep 23, 17:14:48] [0] \t\t #> Encoding 25000 passages..\n",
      "[Sep 23, 17:15:01] [0] \t\t #> Saving chunk 23: \t 25,000 passages and 2,524,881 embeddings. From #575,000 onward.\n"
     ]
    },
    {
     "name": "stderr",
     "output_type": "stream",
     "text": [
      "24it [06:06, 15.27s/it]"
     ]
    },
    {
     "name": "stdout",
     "output_type": "stream",
     "text": [
      "[Sep 23, 17:15:03] [0] \t\t #> Encoding 25000 passages..\n",
      "[Sep 23, 17:15:17] [0] \t\t #> Saving chunk 24: \t 25,000 passages and 2,513,437 embeddings. From #600,000 onward.\n"
     ]
    },
    {
     "name": "stderr",
     "output_type": "stream",
     "text": [
      "25it [06:21, 15.27s/it]"
     ]
    },
    {
     "name": "stdout",
     "output_type": "stream",
     "text": [
      "[Sep 23, 17:15:18] [0] \t\t #> Encoding 25000 passages..\n",
      "[Sep 23, 17:15:32] [0] \t\t #> Saving chunk 25: \t 25,000 passages and 2,540,111 embeddings. From #625,000 onward.\n"
     ]
    },
    {
     "name": "stderr",
     "output_type": "stream",
     "text": [
      "26it [06:37, 15.32s/it]"
     ]
    },
    {
     "name": "stdout",
     "output_type": "stream",
     "text": [
      "[Sep 23, 17:15:34] [0] \t\t #> Encoding 25000 passages..\n",
      "[Sep 23, 17:15:47] [0] \t\t #> Saving chunk 26: \t 25,000 passages and 2,445,548 embeddings. From #650,000 onward.\n"
     ]
    },
    {
     "name": "stderr",
     "output_type": "stream",
     "text": [
      "27it [06:52, 15.27s/it]"
     ]
    },
    {
     "name": "stdout",
     "output_type": "stream",
     "text": [
      "[Sep 23, 17:15:49] [0] \t\t #> Encoding 25000 passages..\n",
      "[Sep 23, 17:16:03] [0] \t\t #> Saving chunk 27: \t 25,000 passages and 2,501,335 embeddings. From #675,000 onward.\n"
     ]
    },
    {
     "name": "stderr",
     "output_type": "stream",
     "text": [
      "28it [07:07, 15.26s/it]"
     ]
    },
    {
     "name": "stdout",
     "output_type": "stream",
     "text": [
      "[Sep 23, 17:16:04] [0] \t\t #> Encoding 25000 passages..\n",
      "[Sep 23, 17:16:18] [0] \t\t #> Saving chunk 28: \t 25,000 passages and 2,510,210 embeddings. From #700,000 onward.\n"
     ]
    },
    {
     "name": "stderr",
     "output_type": "stream",
     "text": [
      "29it [07:23, 15.27s/it]"
     ]
    },
    {
     "name": "stdout",
     "output_type": "stream",
     "text": [
      "[Sep 23, 17:16:19] [0] \t\t #> Encoding 25000 passages..\n",
      "[Sep 23, 17:16:33] [0] \t\t #> Saving chunk 29: \t 25,000 passages and 2,526,799 embeddings. From #725,000 onward.\n"
     ]
    },
    {
     "name": "stderr",
     "output_type": "stream",
     "text": [
      "30it [07:38, 15.31s/it]"
     ]
    },
    {
     "name": "stdout",
     "output_type": "stream",
     "text": [
      "[Sep 23, 17:16:35] [0] \t\t #> Encoding 25000 passages..\n",
      "[Sep 23, 17:16:48] [0] \t\t #> Saving chunk 30: \t 25,000 passages and 2,510,619 embeddings. From #750,000 onward.\n"
     ]
    },
    {
     "name": "stderr",
     "output_type": "stream",
     "text": [
      "31it [07:53, 15.29s/it]"
     ]
    },
    {
     "name": "stdout",
     "output_type": "stream",
     "text": [
      "[Sep 23, 17:16:50] [0] \t\t #> Encoding 25000 passages..\n",
      "[Sep 23, 17:17:04] [0] \t\t #> Saving chunk 31: \t 25,000 passages and 2,546,089 embeddings. From #775,000 onward.\n"
     ]
    },
    {
     "name": "stderr",
     "output_type": "stream",
     "text": [
      "32it [08:08, 15.28s/it]"
     ]
    },
    {
     "name": "stdout",
     "output_type": "stream",
     "text": [
      "[Sep 23, 17:17:05] [0] \t\t #> Encoding 25000 passages..\n",
      "[Sep 23, 17:17:19] [0] \t\t #> Saving chunk 32: \t 25,000 passages and 2,450,050 embeddings. From #800,000 onward.\n"
     ]
    },
    {
     "name": "stderr",
     "output_type": "stream",
     "text": [
      "33it [08:24, 15.25s/it]"
     ]
    },
    {
     "name": "stdout",
     "output_type": "stream",
     "text": [
      "[Sep 23, 17:17:21] [0] \t\t #> Encoding 25000 passages..\n",
      "[Sep 23, 17:17:34] [0] \t\t #> Saving chunk 33: \t 25,000 passages and 2,507,013 embeddings. From #825,000 onward.\n"
     ]
    },
    {
     "name": "stderr",
     "output_type": "stream",
     "text": [
      "34it [08:39, 15.30s/it]"
     ]
    },
    {
     "name": "stdout",
     "output_type": "stream",
     "text": [
      "[Sep 23, 17:17:36] [0] \t\t #> Encoding 25000 passages..\n",
      "[Sep 23, 17:17:50] [0] \t\t #> Saving chunk 34: \t 25,000 passages and 2,514,902 embeddings. From #850,000 onward.\n"
     ]
    },
    {
     "name": "stderr",
     "output_type": "stream",
     "text": [
      "35it [08:54, 15.29s/it]"
     ]
    },
    {
     "name": "stdout",
     "output_type": "stream",
     "text": [
      "[Sep 23, 17:17:51] [0] \t\t #> Encoding 25000 passages..\n",
      "[Sep 23, 17:18:05] [0] \t\t #> Saving chunk 35: \t 25,000 passages and 2,521,433 embeddings. From #875,000 onward.\n"
     ]
    },
    {
     "name": "stderr",
     "output_type": "stream",
     "text": [
      "36it [09:10, 15.27s/it]"
     ]
    },
    {
     "name": "stdout",
     "output_type": "stream",
     "text": [
      "[Sep 23, 17:18:06] [0] \t\t #> Encoding 25000 passages..\n",
      "[Sep 23, 17:18:20] [0] \t\t #> Saving chunk 36: \t 25,000 passages and 2,505,852 embeddings. From #900,000 onward.\n"
     ]
    },
    {
     "name": "stderr",
     "output_type": "stream",
     "text": [
      "37it [09:25, 15.27s/it]"
     ]
    },
    {
     "name": "stdout",
     "output_type": "stream",
     "text": [
      "[Sep 23, 17:18:22] [0] \t\t #> Encoding 25000 passages..\n",
      "[Sep 23, 17:18:35] [0] \t\t #> Saving chunk 37: \t 25,000 passages and 2,540,378 embeddings. From #925,000 onward.\n"
     ]
    },
    {
     "name": "stderr",
     "output_type": "stream",
     "text": [
      "38it [09:40, 15.31s/it]"
     ]
    },
    {
     "name": "stdout",
     "output_type": "stream",
     "text": [
      "[Sep 23, 17:18:37] [0] \t\t #> Encoding 25000 passages..\n",
      "[Sep 23, 17:18:51] [0] \t\t #> Saving chunk 38: \t 25,000 passages and 2,447,202 embeddings. From #950,000 onward.\n"
     ]
    },
    {
     "name": "stderr",
     "output_type": "stream",
     "text": [
      "39it [09:55, 15.26s/it]"
     ]
    },
    {
     "name": "stdout",
     "output_type": "stream",
     "text": [
      "[Sep 23, 17:18:52] [0] \t\t #> Encoding 25000 passages..\n",
      "[Sep 23, 17:19:06] [0] \t\t #> Saving chunk 39: \t 25,000 passages and 2,505,542 embeddings. From #975,000 onward.\n"
     ]
    },
    {
     "name": "stderr",
     "output_type": "stream",
     "text": [
      "40it [10:11, 15.26s/it]"
     ]
    },
    {
     "name": "stdout",
     "output_type": "stream",
     "text": [
      "[Sep 23, 17:19:08] [0] \t\t #> Encoding 25000 passages..\n",
      "[Sep 23, 17:19:21] [0] \t\t #> Saving chunk 40: \t 25,000 passages and 2,506,188 embeddings. From #1,000,000 onward.\n"
     ]
    },
    {
     "name": "stderr",
     "output_type": "stream",
     "text": [
      "41it [10:26, 15.26s/it]"
     ]
    },
    {
     "name": "stdout",
     "output_type": "stream",
     "text": [
      "[Sep 23, 17:19:23] [0] \t\t #> Encoding 25000 passages..\n",
      "[Sep 23, 17:19:36] [0] \t\t #> Saving chunk 41: \t 25,000 passages and 2,519,271 embeddings. From #1,025,000 onward.\n"
     ]
    },
    {
     "name": "stderr",
     "output_type": "stream",
     "text": [
      "42it [10:41, 15.25s/it]"
     ]
    },
    {
     "name": "stdout",
     "output_type": "stream",
     "text": [
      "[Sep 23, 17:19:38] [0] \t\t #> Encoding 25000 passages..\n",
      "[Sep 23, 17:19:52] [0] \t\t #> Saving chunk 42: \t 25,000 passages and 2,516,713 embeddings. From #1,050,000 onward.\n"
     ]
    },
    {
     "name": "stderr",
     "output_type": "stream",
     "text": [
      "43it [10:56, 15.30s/it]"
     ]
    },
    {
     "name": "stdout",
     "output_type": "stream",
     "text": [
      "[Sep 23, 17:19:53] [0] \t\t #> Encoding 25000 passages..\n",
      "[Sep 23, 17:20:07] [0] \t\t #> Saving chunk 43: \t 25,000 passages and 2,540,847 embeddings. From #1,075,000 onward.\n"
     ]
    },
    {
     "name": "stderr",
     "output_type": "stream",
     "text": [
      "44it [11:12, 15.29s/it]"
     ]
    },
    {
     "name": "stdout",
     "output_type": "stream",
     "text": [
      "[Sep 23, 17:20:09] [0] \t\t #> Encoding 25000 passages..\n",
      "[Sep 23, 17:20:22] [0] \t\t #> Saving chunk 44: \t 25,000 passages and 2,442,446 embeddings. From #1,100,000 onward.\n"
     ]
    },
    {
     "name": "stderr",
     "output_type": "stream",
     "text": [
      "45it [11:27, 15.25s/it]"
     ]
    },
    {
     "name": "stdout",
     "output_type": "stream",
     "text": [
      "[Sep 23, 17:20:24] [0] \t\t #> Encoding 25000 passages..\n",
      "[Sep 23, 17:20:37] [0] \t\t #> Saving chunk 45: \t 25,000 passages and 2,507,686 embeddings. From #1,125,000 onward.\n"
     ]
    },
    {
     "name": "stderr",
     "output_type": "stream",
     "text": [
      "46it [11:42, 15.25s/it]"
     ]
    },
    {
     "name": "stdout",
     "output_type": "stream",
     "text": [
      "[Sep 23, 17:20:39] [0] \t\t #> Encoding 25000 passages..\n",
      "[Sep 23, 17:20:53] [0] \t\t #> Saving chunk 46: \t 25,000 passages and 2,515,938 embeddings. From #1,150,000 onward.\n"
     ]
    },
    {
     "name": "stderr",
     "output_type": "stream",
     "text": [
      "47it [11:58, 15.30s/it]"
     ]
    },
    {
     "name": "stdout",
     "output_type": "stream",
     "text": [
      "[Sep 23, 17:20:55] [0] \t\t #> Encoding 25000 passages..\n",
      "[Sep 23, 17:21:08] [0] \t\t #> Saving chunk 47: \t 25,000 passages and 2,518,171 embeddings. From #1,175,000 onward.\n"
     ]
    },
    {
     "name": "stderr",
     "output_type": "stream",
     "text": [
      "48it [12:13, 15.29s/it]"
     ]
    },
    {
     "name": "stdout",
     "output_type": "stream",
     "text": [
      "[Sep 23, 17:21:10] [0] \t\t #> Encoding 25000 passages..\n",
      "[Sep 23, 17:21:23] [0] \t\t #> Saving chunk 48: \t 25,000 passages and 2,511,464 embeddings. From #1,200,000 onward.\n"
     ]
    },
    {
     "name": "stderr",
     "output_type": "stream",
     "text": [
      "49it [12:28, 15.27s/it]"
     ]
    },
    {
     "name": "stdout",
     "output_type": "stream",
     "text": [
      "[Sep 23, 17:21:25] [0] \t\t #> Encoding 25000 passages..\n",
      "[Sep 23, 17:21:39] [0] \t\t #> Saving chunk 49: \t 25,000 passages and 2,550,117 embeddings. From #1,225,000 onward.\n"
     ]
    },
    {
     "name": "stderr",
     "output_type": "stream",
     "text": [
      "50it [12:43, 15.27s/it]"
     ]
    },
    {
     "name": "stdout",
     "output_type": "stream",
     "text": [
      "[Sep 23, 17:21:40] [0] \t\t #> Encoding 25000 passages..\n",
      "[Sep 23, 17:21:54] [0] \t\t #> Saving chunk 50: \t 25,000 passages and 2,439,239 embeddings. From #1,250,000 onward.\n"
     ]
    },
    {
     "name": "stderr",
     "output_type": "stream",
     "text": [
      "51it [12:59, 15.28s/it]"
     ]
    },
    {
     "name": "stdout",
     "output_type": "stream",
     "text": [
      "[Sep 23, 17:21:56] [0] \t\t #> Encoding 25000 passages..\n",
      "[Sep 23, 17:22:09] [0] \t\t #> Saving chunk 51: \t 25,000 passages and 2,507,035 embeddings. From #1,275,000 onward.\n"
     ]
    },
    {
     "name": "stderr",
     "output_type": "stream",
     "text": [
      "52it [13:14, 15.27s/it]"
     ]
    },
    {
     "name": "stdout",
     "output_type": "stream",
     "text": [
      "[Sep 23, 17:22:11] [0] \t\t #> Encoding 25000 passages..\n",
      "[Sep 23, 17:22:24] [0] \t\t #> Saving chunk 52: \t 25,000 passages and 2,504,972 embeddings. From #1,300,000 onward.\n"
     ]
    },
    {
     "name": "stderr",
     "output_type": "stream",
     "text": [
      "53it [13:29, 15.26s/it]"
     ]
    },
    {
     "name": "stdout",
     "output_type": "stream",
     "text": [
      "[Sep 23, 17:22:26] [0] \t\t #> Encoding 25000 passages..\n",
      "[Sep 23, 17:22:40] [0] \t\t #> Saving chunk 53: \t 25,000 passages and 2,536,191 embeddings. From #1,325,000 onward.\n"
     ]
    },
    {
     "name": "stderr",
     "output_type": "stream",
     "text": [
      "54it [13:44, 15.26s/it]"
     ]
    },
    {
     "name": "stdout",
     "output_type": "stream",
     "text": [
      "[Sep 23, 17:22:41] [0] \t\t #> Encoding 25000 passages..\n",
      "[Sep 23, 17:22:55] [0] \t\t #> Saving chunk 54: \t 25,000 passages and 2,505,700 embeddings. From #1,350,000 onward.\n"
     ]
    },
    {
     "name": "stderr",
     "output_type": "stream",
     "text": [
      "55it [14:00, 15.30s/it]"
     ]
    },
    {
     "name": "stdout",
     "output_type": "stream",
     "text": [
      "[Sep 23, 17:22:57] [0] \t\t #> Encoding 25000 passages..\n",
      "[Sep 23, 17:23:10] [0] \t\t #> Saving chunk 55: \t 25,000 passages and 2,551,848 embeddings. From #1,375,000 onward.\n"
     ]
    },
    {
     "name": "stderr",
     "output_type": "stream",
     "text": [
      "56it [14:15, 15.29s/it]"
     ]
    },
    {
     "name": "stdout",
     "output_type": "stream",
     "text": [
      "[Sep 23, 17:23:12] [0] \t\t #> Encoding 25000 passages..\n",
      "[Sep 23, 17:23:26] [0] \t\t #> Saving chunk 56: \t 25,000 passages and 2,454,690 embeddings. From #1,400,000 onward.\n"
     ]
    },
    {
     "name": "stderr",
     "output_type": "stream",
     "text": [
      "57it [14:30, 15.25s/it]"
     ]
    },
    {
     "name": "stdout",
     "output_type": "stream",
     "text": [
      "[Sep 23, 17:23:27] [0] \t\t #> Encoding 25000 passages..\n",
      "[Sep 23, 17:23:41] [0] \t\t #> Saving chunk 57: \t 25,000 passages and 2,507,808 embeddings. From #1,425,000 onward.\n"
     ]
    },
    {
     "name": "stderr",
     "output_type": "stream",
     "text": [
      "58it [14:45, 15.25s/it]"
     ]
    },
    {
     "name": "stdout",
     "output_type": "stream",
     "text": [
      "[Sep 23, 17:23:42] [0] \t\t #> Encoding 25000 passages..\n",
      "[Sep 23, 17:23:56] [0] \t\t #> Saving chunk 58: \t 25,000 passages and 2,506,739 embeddings. From #1,450,000 onward.\n"
     ]
    },
    {
     "name": "stderr",
     "output_type": "stream",
     "text": [
      "59it [15:01, 15.29s/it]"
     ]
    },
    {
     "name": "stdout",
     "output_type": "stream",
     "text": [
      "[Sep 23, 17:23:58] [0] \t\t #> Encoding 25000 passages..\n",
      "[Sep 23, 17:24:11] [0] \t\t #> Saving chunk 59: \t 25,000 passages and 2,525,751 embeddings. From #1,475,000 onward.\n"
     ]
    },
    {
     "name": "stderr",
     "output_type": "stream",
     "text": [
      "60it [15:16, 15.28s/it]"
     ]
    },
    {
     "name": "stdout",
     "output_type": "stream",
     "text": [
      "[Sep 23, 17:24:13] [0] \t\t #> Encoding 25000 passages..\n",
      "[Sep 23, 17:24:27] [0] \t\t #> Saving chunk 60: \t 25,000 passages and 2,507,529 embeddings. From #1,500,000 onward.\n"
     ]
    },
    {
     "name": "stderr",
     "output_type": "stream",
     "text": [
      "61it [15:31, 15.27s/it]"
     ]
    },
    {
     "name": "stdout",
     "output_type": "stream",
     "text": [
      "[Sep 23, 17:24:28] [0] \t\t #> Encoding 25000 passages..\n",
      "[Sep 23, 17:24:42] [0] \t\t #> Saving chunk 61: \t 25,000 passages and 2,552,019 embeddings. From #1,525,000 onward.\n"
     ]
    },
    {
     "name": "stderr",
     "output_type": "stream",
     "text": [
      "62it [15:47, 15.27s/it]"
     ]
    },
    {
     "name": "stdout",
     "output_type": "stream",
     "text": [
      "[Sep 23, 17:24:44] [0] \t\t #> Encoding 25000 passages..\n",
      "[Sep 23, 17:24:57] [0] \t\t #> Saving chunk 62: \t 25,000 passages and 2,447,429 embeddings. From #1,550,000 onward.\n"
     ]
    },
    {
     "name": "stderr",
     "output_type": "stream",
     "text": [
      "63it [16:02, 15.29s/it]"
     ]
    },
    {
     "name": "stdout",
     "output_type": "stream",
     "text": [
      "[Sep 23, 17:24:59] [0] \t\t #> Encoding 25000 passages..\n",
      "[Sep 23, 17:25:13] [0] \t\t #> Saving chunk 63: \t 25,000 passages and 2,502,052 embeddings. From #1,575,000 onward.\n"
     ]
    },
    {
     "name": "stderr",
     "output_type": "stream",
     "text": [
      "64it [16:17, 15.29s/it]"
     ]
    },
    {
     "name": "stdout",
     "output_type": "stream",
     "text": [
      "[Sep 23, 17:25:14] [0] \t\t #> Encoding 25000 passages..\n",
      "[Sep 23, 17:25:28] [0] \t\t #> Saving chunk 64: \t 25,000 passages and 2,513,086 embeddings. From #1,600,000 onward.\n"
     ]
    },
    {
     "name": "stderr",
     "output_type": "stream",
     "text": [
      "65it [16:32, 15.28s/it]"
     ]
    },
    {
     "name": "stdout",
     "output_type": "stream",
     "text": [
      "[Sep 23, 17:25:29] [0] \t\t #> Encoding 25000 passages..\n",
      "[Sep 23, 17:25:43] [0] \t\t #> Saving chunk 65: \t 25,000 passages and 2,519,844 embeddings. From #1,625,000 onward.\n"
     ]
    },
    {
     "name": "stderr",
     "output_type": "stream",
     "text": [
      "66it [16:48, 15.27s/it]"
     ]
    },
    {
     "name": "stdout",
     "output_type": "stream",
     "text": [
      "[Sep 23, 17:25:45] [0] \t\t #> Encoding 25000 passages..\n",
      "[Sep 23, 17:25:58] [0] \t\t #> Saving chunk 66: \t 25,000 passages and 2,512,996 embeddings. From #1,650,000 onward.\n"
     ]
    },
    {
     "name": "stderr",
     "output_type": "stream",
     "text": [
      "67it [17:03, 15.31s/it]"
     ]
    },
    {
     "name": "stdout",
     "output_type": "stream",
     "text": [
      "[Sep 23, 17:26:00] [0] \t\t #> Encoding 25000 passages..\n",
      "[Sep 23, 17:26:14] [0] \t\t #> Saving chunk 67: \t 25,000 passages and 2,536,514 embeddings. From #1,675,000 onward.\n"
     ]
    },
    {
     "name": "stderr",
     "output_type": "stream",
     "text": [
      "68it [17:18, 15.30s/it]"
     ]
    },
    {
     "name": "stdout",
     "output_type": "stream",
     "text": [
      "[Sep 23, 17:26:15] [0] \t\t #> Encoding 25000 passages..\n",
      "[Sep 23, 17:26:29] [0] \t\t #> Saving chunk 68: \t 25,000 passages and 2,454,377 embeddings. From #1,700,000 onward.\n"
     ]
    },
    {
     "name": "stderr",
     "output_type": "stream",
     "text": [
      "69it [17:34, 15.26s/it]"
     ]
    },
    {
     "name": "stdout",
     "output_type": "stream",
     "text": [
      "[Sep 23, 17:26:31] [0] \t\t #> Encoding 25000 passages..\n",
      "[Sep 23, 17:26:44] [0] \t\t #> Saving chunk 69: \t 25,000 passages and 2,507,680 embeddings. From #1,725,000 onward.\n"
     ]
    },
    {
     "name": "stderr",
     "output_type": "stream",
     "text": [
      "70it [17:49, 15.26s/it]"
     ]
    },
    {
     "name": "stdout",
     "output_type": "stream",
     "text": [
      "[Sep 23, 17:26:46] [0] \t\t #> Encoding 25000 passages..\n",
      "[Sep 23, 17:26:59] [0] \t\t #> Saving chunk 70: \t 25,000 passages and 2,518,580 embeddings. From #1,750,000 onward.\n"
     ]
    },
    {
     "name": "stderr",
     "output_type": "stream",
     "text": [
      "71it [18:04, 15.27s/it]"
     ]
    },
    {
     "name": "stdout",
     "output_type": "stream",
     "text": [
      "[Sep 23, 17:27:01] [0] \t\t #> Encoding 25000 passages..\n",
      "[Sep 23, 17:27:15] [0] \t\t #> Saving chunk 71: \t 25,000 passages and 2,528,720 embeddings. From #1,775,000 onward.\n"
     ]
    },
    {
     "name": "stderr",
     "output_type": "stream",
     "text": [
      "72it [18:20, 15.31s/it]"
     ]
    },
    {
     "name": "stdout",
     "output_type": "stream",
     "text": [
      "[Sep 23, 17:27:16] [0] \t\t #> Encoding 25000 passages..\n",
      "[Sep 23, 17:27:30] [0] \t\t #> Saving chunk 72: \t 25,000 passages and 2,509,152 embeddings. From #1,800,000 onward.\n"
     ]
    },
    {
     "name": "stderr",
     "output_type": "stream",
     "text": [
      "73it [18:35, 15.29s/it]"
     ]
    },
    {
     "name": "stdout",
     "output_type": "stream",
     "text": [
      "[Sep 23, 17:27:32] [0] \t\t #> Encoding 25000 passages..\n",
      "[Sep 23, 17:27:45] [0] \t\t #> Saving chunk 73: \t 25,000 passages and 2,549,209 embeddings. From #1,825,000 onward.\n"
     ]
    },
    {
     "name": "stderr",
     "output_type": "stream",
     "text": [
      "74it [18:50, 15.28s/it]"
     ]
    },
    {
     "name": "stdout",
     "output_type": "stream",
     "text": [
      "[Sep 23, 17:27:47] [0] \t\t #> Encoding 25000 passages..\n",
      "[Sep 23, 17:28:01] [0] \t\t #> Saving chunk 74: \t 25,000 passages and 2,457,739 embeddings. From #1,850,000 onward.\n"
     ]
    },
    {
     "name": "stderr",
     "output_type": "stream",
     "text": [
      "75it [19:05, 15.25s/it]"
     ]
    },
    {
     "name": "stdout",
     "output_type": "stream",
     "text": [
      "[Sep 23, 17:28:02] [0] \t\t #> Encoding 25000 passages..\n",
      "[Sep 23, 17:28:16] [0] \t\t #> Saving chunk 75: \t 25,000 passages and 2,501,656 embeddings. From #1,875,000 onward.\n"
     ]
    },
    {
     "name": "stderr",
     "output_type": "stream",
     "text": [
      "76it [19:21, 15.30s/it]"
     ]
    },
    {
     "name": "stdout",
     "output_type": "stream",
     "text": [
      "[Sep 23, 17:28:18] [0] \t\t #> Encoding 25000 passages..\n",
      "[Sep 23, 17:28:31] [0] \t\t #> Saving chunk 76: \t 25,000 passages and 2,509,106 embeddings. From #1,900,000 onward.\n"
     ]
    },
    {
     "name": "stderr",
     "output_type": "stream",
     "text": [
      "77it [19:36, 15.28s/it]"
     ]
    },
    {
     "name": "stdout",
     "output_type": "stream",
     "text": [
      "[Sep 23, 17:28:33] [0] \t\t #> Encoding 25000 passages..\n",
      "[Sep 23, 17:28:46] [0] \t\t #> Saving chunk 77: \t 25,000 passages and 2,515,839 embeddings. From #1,925,000 onward.\n"
     ]
    },
    {
     "name": "stderr",
     "output_type": "stream",
     "text": [
      "78it [19:51, 15.28s/it]"
     ]
    },
    {
     "name": "stdout",
     "output_type": "stream",
     "text": [
      "[Sep 23, 17:28:48] [0] \t\t #> Encoding 25000 passages..\n",
      "[Sep 23, 17:29:02] [0] \t\t #> Saving chunk 78: \t 25,000 passages and 2,503,100 embeddings. From #1,950,000 onward.\n"
     ]
    },
    {
     "name": "stderr",
     "output_type": "stream",
     "text": [
      "79it [20:06, 15.26s/it]"
     ]
    },
    {
     "name": "stdout",
     "output_type": "stream",
     "text": [
      "[Sep 23, 17:29:03] [0] \t\t #> Encoding 25000 passages..\n",
      "[Sep 23, 17:29:17] [0] \t\t #> Saving chunk 79: \t 25,000 passages and 2,557,440 embeddings. From #1,975,000 onward.\n"
     ]
    },
    {
     "name": "stderr",
     "output_type": "stream",
     "text": [
      "80it [20:22, 15.31s/it]"
     ]
    },
    {
     "name": "stdout",
     "output_type": "stream",
     "text": [
      "[Sep 23, 17:29:19] [0] \t\t #> Encoding 25000 passages..\n",
      "[Sep 23, 17:29:32] [0] \t\t #> Saving chunk 80: \t 25,000 passages and 2,444,574 embeddings. From #2,000,000 onward.\n"
     ]
    },
    {
     "name": "stderr",
     "output_type": "stream",
     "text": [
      "81it [20:37, 15.27s/it]"
     ]
    },
    {
     "name": "stdout",
     "output_type": "stream",
     "text": [
      "[Sep 23, 17:29:34] [0] \t\t #> Encoding 25000 passages..\n",
      "[Sep 23, 17:29:48] [0] \t\t #> Saving chunk 81: \t 25,000 passages and 2,506,390 embeddings. From #2,025,000 onward.\n"
     ]
    },
    {
     "name": "stderr",
     "output_type": "stream",
     "text": [
      "82it [20:52, 15.26s/it]"
     ]
    },
    {
     "name": "stdout",
     "output_type": "stream",
     "text": [
      "[Sep 23, 17:29:49] [0] \t\t #> Encoding 25000 passages..\n",
      "[Sep 23, 17:30:03] [0] \t\t #> Saving chunk 82: \t 25,000 passages and 2,510,399 embeddings. From #2,050,000 onward.\n"
     ]
    },
    {
     "name": "stderr",
     "output_type": "stream",
     "text": [
      "83it [21:07, 15.26s/it]"
     ]
    },
    {
     "name": "stdout",
     "output_type": "stream",
     "text": [
      "[Sep 23, 17:30:04] [0] \t\t #> Encoding 25000 passages..\n",
      "[Sep 23, 17:30:18] [0] \t\t #> Saving chunk 83: \t 25,000 passages and 2,517,277 embeddings. From #2,075,000 onward.\n"
     ]
    },
    {
     "name": "stderr",
     "output_type": "stream",
     "text": [
      "84it [21:23, 15.29s/it]"
     ]
    },
    {
     "name": "stdout",
     "output_type": "stream",
     "text": [
      "[Sep 23, 17:30:20] [0] \t\t #> Encoding 25000 passages..\n",
      "[Sep 23, 17:30:33] [0] \t\t #> Saving chunk 84: \t 25,000 passages and 2,515,146 embeddings. From #2,100,000 onward.\n"
     ]
    },
    {
     "name": "stderr",
     "output_type": "stream",
     "text": [
      "85it [21:38, 15.27s/it]"
     ]
    },
    {
     "name": "stdout",
     "output_type": "stream",
     "text": [
      "[Sep 23, 17:30:35] [0] \t\t #> Encoding 25000 passages..\n",
      "[Sep 23, 17:30:49] [0] \t\t #> Saving chunk 85: \t 25,000 passages and 2,555,557 embeddings. From #2,125,000 onward.\n"
     ]
    },
    {
     "name": "stderr",
     "output_type": "stream",
     "text": [
      "86it [21:53, 15.27s/it]"
     ]
    },
    {
     "name": "stdout",
     "output_type": "stream",
     "text": [
      "[Sep 23, 17:30:50] [0] \t\t #> Encoding 25000 passages..\n",
      "[Sep 23, 17:31:04] [0] \t\t #> Saving chunk 86: \t 25,000 passages and 2,452,890 embeddings. From #2,150,000 onward.\n"
     ]
    },
    {
     "name": "stderr",
     "output_type": "stream",
     "text": [
      "87it [22:09, 15.24s/it]"
     ]
    },
    {
     "name": "stdout",
     "output_type": "stream",
     "text": [
      "[Sep 23, 17:31:05] [0] \t\t #> Encoding 25000 passages..\n",
      "[Sep 23, 17:31:19] [0] \t\t #> Saving chunk 87: \t 25,000 passages and 2,512,597 embeddings. From #2,175,000 onward.\n"
     ]
    },
    {
     "name": "stderr",
     "output_type": "stream",
     "text": [
      "88it [22:24, 15.29s/it]"
     ]
    },
    {
     "name": "stdout",
     "output_type": "stream",
     "text": [
      "[Sep 23, 17:31:21] [0] \t\t #> Encoding 25000 passages..\n",
      "[Sep 23, 17:31:34] [0] \t\t #> Saving chunk 88: \t 25,000 passages and 2,521,536 embeddings. From #2,200,000 onward.\n"
     ]
    },
    {
     "name": "stderr",
     "output_type": "stream",
     "text": [
      "89it [22:39, 15.28s/it]"
     ]
    },
    {
     "name": "stdout",
     "output_type": "stream",
     "text": [
      "[Sep 23, 17:31:36] [0] \t\t #> Encoding 25000 passages..\n",
      "[Sep 23, 17:31:50] [0] \t\t #> Saving chunk 89: \t 25,000 passages and 2,525,911 embeddings. From #2,225,000 onward.\n"
     ]
    },
    {
     "name": "stderr",
     "output_type": "stream",
     "text": [
      "90it [22:54, 15.27s/it]"
     ]
    },
    {
     "name": "stdout",
     "output_type": "stream",
     "text": [
      "[Sep 23, 17:31:51] [0] \t\t #> Encoding 25000 passages..\n",
      "[Sep 23, 17:32:05] [0] \t\t #> Saving chunk 90: \t 25,000 passages and 2,515,639 embeddings. From #2,250,000 onward.\n"
     ]
    },
    {
     "name": "stderr",
     "output_type": "stream",
     "text": [
      "91it [23:10, 15.26s/it]"
     ]
    },
    {
     "name": "stdout",
     "output_type": "stream",
     "text": [
      "[Sep 23, 17:32:07] [0] \t\t #> Encoding 25000 passages..\n",
      "[Sep 23, 17:32:20] [0] \t\t #> Saving chunk 91: \t 25,000 passages and 2,541,724 embeddings. From #2,275,000 onward.\n"
     ]
    },
    {
     "name": "stderr",
     "output_type": "stream",
     "text": [
      "92it [23:25, 15.31s/it]"
     ]
    },
    {
     "name": "stdout",
     "output_type": "stream",
     "text": [
      "[Sep 23, 17:32:22] [0] \t\t #> Encoding 25000 passages..\n",
      "[Sep 23, 17:32:36] [0] \t\t #> Saving chunk 92: \t 25,000 passages and 2,445,030 embeddings. From #2,300,000 onward.\n"
     ]
    },
    {
     "name": "stderr",
     "output_type": "stream",
     "text": [
      "93it [23:40, 15.27s/it]"
     ]
    },
    {
     "name": "stdout",
     "output_type": "stream",
     "text": [
      "[Sep 23, 17:32:37] [0] \t\t #> Encoding 25000 passages..\n",
      "[Sep 23, 17:32:51] [0] \t\t #> Saving chunk 93: \t 25,000 passages and 2,499,218 embeddings. From #2,325,000 onward.\n"
     ]
    },
    {
     "name": "stderr",
     "output_type": "stream",
     "text": [
      "94it [23:55, 15.26s/it]"
     ]
    },
    {
     "name": "stdout",
     "output_type": "stream",
     "text": [
      "[Sep 23, 17:32:52] [0] \t\t #> Encoding 25000 passages..\n",
      "[Sep 23, 17:33:06] [0] \t\t #> Saving chunk 94: \t 25,000 passages and 2,512,349 embeddings. From #2,350,000 onward.\n"
     ]
    },
    {
     "name": "stderr",
     "output_type": "stream",
     "text": [
      "95it [24:11, 15.26s/it]"
     ]
    },
    {
     "name": "stdout",
     "output_type": "stream",
     "text": [
      "[Sep 23, 17:33:08] [0] \t\t #> Encoding 21792 passages..\n",
      "[Sep 23, 17:33:20] [0] \t\t #> Saving chunk 95: \t 21,792 passages and 2,214,373 embeddings. From #2,375,000 onward.\n"
     ]
    },
    {
     "name": "stderr",
     "output_type": "stream",
     "text": [
      "96it [24:24, 15.26s/it]\n"
     ]
    },
    {
     "name": "stdout",
     "output_type": "stream",
     "text": [
      "[Sep 23, 17:33:21] [0] \t\t #> Checking all files were saved...\n",
      "[Sep 23, 17:33:21] [0] \t\t Found all files!\n",
      "[Sep 23, 17:33:21] [0] \t\t #> Building IVF...\n",
      "[Sep 23, 17:33:21] [0] \t\t #> Loading codes...\n"
     ]
    },
    {
     "name": "stderr",
     "output_type": "stream",
     "text": [
      "100%|██████████| 96/96 [00:00<00:00, 401.55it/s]\n"
     ]
    },
    {
     "name": "stdout",
     "output_type": "stream",
     "text": [
      "[Sep 23, 17:33:21] [0] \t\t Sorting codes...\n",
      "[Sep 23, 17:33:34] [0] \t\t Getting unique codes...\n",
      "[Sep 23, 17:33:35] #> Optimizing IVF to store map from centroids to list of pids..\n",
      "[Sep 23, 17:33:35] #> Building the emb2pid mapping..\n",
      "[Sep 23, 17:33:37] len(emb2pid) = 240445529\n"
     ]
    },
    {
     "name": "stderr",
     "output_type": "stream",
     "text": [
      "100%|██████████| 131072/131072 [00:15<00:00, 8589.19it/s]\n"
     ]
    },
    {
     "name": "stdout",
     "output_type": "stream",
     "text": [
      "[Sep 23, 17:33:53] #> Saved optimized IVF to data/colbert_max_words_100_nbits_1-v5/colbert_wiki_indexer/ivf.pid.pt\n",
      "[Sep 23, 17:33:53] [0] \t\t #> Saving the indexing metadata to data/colbert_max_words_100_nbits_1-v5/colbert_wiki_indexer/metadata.json ..\n",
      "#> Joined...\n"
     ]
    }
   ],
   "source": [
    "rerun = True\n",
    "if rerun:\n",
    "    with Run().context(RunConfig(nranks=1, index_root=str(colbert_path))):\n",
    "        indexer = Indexer(checkpoint=checkpoint, config=config)\n",
    "        indexer.index(name=indexer_name,\n",
    "                      collection=c_collection,\n",
    "                      overwrite=True)"
   ]
  },
  {
   "cell_type": "markdown",
   "id": "7ca30d84-a62c-41db-8606-1057ad3bb6ba",
   "metadata": {
    "tags": []
   },
   "source": [
    "## Search for known sections"
   ]
  },
  {
   "cell_type": "code",
   "execution_count": 25,
   "id": "bdbb5412-0bae-4e99-beaa-da3ba63c2984",
   "metadata": {},
   "outputs": [
    {
     "name": "stdout",
     "output_type": "stream",
     "text": [
      "[Sep 23, 17:58:45] #> Loading the queries from ./data/wiki_queries.tsv ...\n",
      "[Sep 23, 17:58:45] #> Got 5799 queries. All QIDs are unique.\n",
      "\n"
     ]
    },
    {
     "data": {
      "text/plain": [
       "'Loaded 5799 queries'"
      ]
     },
     "execution_count": 25,
     "metadata": {},
     "output_type": "execute_result"
    }
   ],
   "source": [
    "queries = questions.with_row_count('qid')[['qid', 'question']]\n",
    "queries = queries.with_columns(pl.col('question').str.replace_all('\\n', ' '))\n",
    "queries_file = './data/wiki_queries.tsv'\n",
    "queries.write_csv(queries_file, separator='\\t', has_header=False)\n",
    "c_queries = Queries(queries_file)\n",
    "f'Loaded {len(c_queries)} queries'"
   ]
  },
  {
   "cell_type": "code",
   "execution_count": 43,
   "id": "5a799e41-278d-4fe7-a307-68b8c4323927",
   "metadata": {},
   "outputs": [
    {
     "name": "stdout",
     "output_type": "stream",
     "text": [
      "[Sep 23, 18:03:47] #> Loading collection...\n",
      "0M 1M 2M \n",
      "[Sep 23, 18:03:51] #> Loading codec...\n",
      "[Sep 23, 18:03:51] #> Loading IVF...\n",
      "[Sep 23, 18:03:52] #> Loading doclens...\n"
     ]
    },
    {
     "name": "stderr",
     "output_type": "stream",
     "text": [
      "100%|██████████| 96/96 [00:00<00:00, 2552.53it/s]"
     ]
    },
    {
     "name": "stdout",
     "output_type": "stream",
     "text": [
      "[Sep 23, 18:03:52] #> Loading codes and residuals...\n"
     ]
    },
    {
     "name": "stderr",
     "output_type": "stream",
     "text": [
      "\n",
      "100%|██████████| 96/96 [00:01<00:00, 95.65it/s]\n",
      "100%|██████████| 5799/5799 [00:43<00:00, 132.93it/s]\n"
     ]
    }
   ],
   "source": [
    "n_questions = 500\n",
    "n_results_per_question = 3\n",
    "\n",
    "with Run().context(RunConfig(nranks=1, index_root=str(colbert_path))):\n",
    "    searcher = Searcher(index=indexer_name, config=config)\n",
    "    ranking = searcher.search_all(c_queries, k=n_results_per_question)"
   ]
  },
  {
   "cell_type": "code",
   "execution_count": 44,
   "id": "183b29dd-f090-4a03-b385-519d3bf698c0",
   "metadata": {
    "tags": []
   },
   "outputs": [],
   "source": [
    "colbert = [tup[1] for tup in ranking.flat_ranking]\n",
    "colbert = pl.Series(\"colbert\", colbert[:n_questions * n_results_per_question], dtype=pl.UInt32)"
   ]
  },
  {
   "cell_type": "markdown",
   "id": "9b8b8942-113a-425c-9ea7-88999ab0abd4",
   "metadata": {
    "tags": []
   },
   "source": [
    "## BM25"
   ]
  },
  {
   "cell_type": "code",
   "execution_count": 45,
   "id": "fc46c02c-0d82-4e5c-a0d8-ce97d81ddb92",
   "metadata": {},
   "outputs": [
    {
     "data": {
      "application/vnd.jupyter.widget-view+json": {
       "model_id": "6a815f06b18c43889495eb7bb1feb953",
       "version_major": 2,
       "version_minor": 0
      },
      "text/plain": [
       "  0%|          | 0/500 [00:00<?, ?it/s]"
      ]
     },
     "metadata": {},
     "output_type": "display_data"
    }
   ],
   "source": [
    "rerun_bm25 = True\n",
    "\n",
    "tokenized_corpus = [doc.split(\" \") for doc in passages['titled_passage']]\n",
    "bm25_corpus = BM25Okapi(tokenized_corpus)\n",
    "\n",
    "def bm25_scores(query):\n",
    "    tokenized_query = query.split(\" \")\n",
    "    scores = pd.Series(bm25_corpus.get_scores(tokenized_query))\n",
    "    scores = scores.sort_values(ascending=False)\n",
    "    return scores\n",
    "\n",
    "\n",
    "file_path = Path('./data/bm25_scores.parquet')\n",
    "if file_path.exists() and not rerun_bm25:\n",
    "    bm25_res = pl.read_parquet(file_path)\n",
    "else:\n",
    "    scores = []\n",
    "    for question in tqdm(questions['question'][:n_questions]):\n",
    "        q_scores = pd.Series(bm25_scores(question))\n",
    "        top_10 = q_scores.sort_values(ascending=False)[:n_results_per_question].index.to_list()\n",
    "        scores.append(top_10)\n",
    "\n",
    "    bm25_res = pl.Series(\"bm25\", scores, dtype=pl.List(pl.UInt32))\n",
    "    bm25_res = questions[:n_questions][['question', 'title', 'section_title']].with_columns(bm25_res)\n",
    "    bm25_res = bm25_res.with_row_count('qid')\n",
    "    bm25_res = bm25_res.explode('bm25')\n",
    "    bm25_res = bm25_res.with_columns(pl.lit(1).alias(\"ones\"))\\\n",
    "                       .select([\n",
    "                           pl.all().exclude(\"ones\"),\n",
    "                           pl.col(\"ones\").cumsum().over(\"qid\").flatten().alias(\"result_idx\")\n",
    "                       ])\n",
    "    bm25_res = bm25_res.join(passages, how='left', left_on='bm25', right_on='passage_id', suffix='_bm25', validate='m:1')\n",
    "    bm25_res.write_parquet(file_path)"
   ]
  },
  {
   "cell_type": "markdown",
   "id": "23e9ad95-1103-4801-ab2e-bcddb69cdd99",
   "metadata": {},
   "source": [
    "### Precision"
   ]
  },
  {
   "cell_type": "code",
   "execution_count": 46,
   "id": "42e16d64-530a-4922-8ba7-7e23468b6656",
   "metadata": {
    "tags": []
   },
   "outputs": [],
   "source": [
    "colbert_col = [tup[1] for tup in ranking.flat_ranking]\n",
    "colbert_col = pl.Series(\"colbert\", colbert[:n_questions * n_results_per_question], dtype=pl.UInt32)\n",
    "res = bm25_res.with_columns(colbert_col)\n",
    "res = res.join(passages, how='left', left_on='colbert', right_on='passage_id', validate='m:1', suffix='_col')\n",
    "res = res.with_columns([\n",
    "    (pl.col('title') == pl.col('title_bm25')).alias('bm25_title_match'),\n",
    "    (pl.col('title') == pl.col('title_col')).alias('col_title_match')\n",
    "])"
   ]
  },
  {
   "cell_type": "code",
   "execution_count": 47,
   "id": "82ebe6c0-b81e-4396-91f7-7e4cff21a61e",
   "metadata": {
    "tags": []
   },
   "outputs": [
    {
     "data": {
      "text/plain": [
       "0.396"
      ]
     },
     "execution_count": 47,
     "metadata": {},
     "output_type": "execute_result"
    }
   ],
   "source": [
    "res.filter(pl.col('result_idx') == 1)['bm25_title_match'].mean() # 100 words 0.358"
   ]
  },
  {
   "cell_type": "code",
   "execution_count": 48,
   "id": "08172fc1-b083-4b31-81a4-31111f0abe2c",
   "metadata": {
    "tags": []
   },
   "outputs": [
    {
     "data": {
      "text/plain": [
       "0.84"
      ]
     },
     "execution_count": 48,
     "metadata": {},
     "output_type": "execute_result"
    }
   ],
   "source": [
    "res.filter(pl.col('result_idx') == 1)['col_title_match'].mean() # 2 bit 100 words: 0.822"
   ]
  },
  {
   "cell_type": "markdown",
   "id": "930a694a-1928-46d6-b038-f5bdad8d48cd",
   "metadata": {
    "tags": []
   },
   "source": [
    "### Recall at 2"
   ]
  },
  {
   "cell_type": "code",
   "execution_count": 49,
   "id": "d7a8eec2-a3a0-4ba8-a36e-03a97212e949",
   "metadata": {
    "tags": []
   },
   "outputs": [
    {
     "name": "stderr",
     "output_type": "stream",
     "text": [
      "/tmp/ipykernel_6168/3435713241.py:1: DeprecationWarning: `groupby` is deprecated. It has been renamed to `group_by`.\n",
      "  res.filter(pl.col('result_idx') <= 2).groupby('qid').agg(pl.max('bm25_title_match'))['bm25_title_match'].mean() # 100 words: 0.452\n"
     ]
    },
    {
     "data": {
      "text/plain": [
       "0.482"
      ]
     },
     "execution_count": 49,
     "metadata": {},
     "output_type": "execute_result"
    }
   ],
   "source": [
    "res.filter(pl.col('result_idx') <= 2).groupby('qid').agg(pl.max('bm25_title_match'))['bm25_title_match'].mean() # 100 words: 0.452 "
   ]
  },
  {
   "cell_type": "code",
   "execution_count": 50,
   "id": "aa088a5f-4c86-4a44-adf9-0045ac444330",
   "metadata": {
    "tags": []
   },
   "outputs": [
    {
     "name": "stderr",
     "output_type": "stream",
     "text": [
      "/tmp/ipykernel_6168/1362811731.py:1: DeprecationWarning: `groupby` is deprecated. It has been renamed to `group_by`.\n",
      "  res.filter(pl.col('result_idx') <= 2).groupby('qid').agg(pl.max('col_title_match'))['col_title_match'].mean() # 2 bits 100 words: 0.898\n"
     ]
    },
    {
     "data": {
      "text/plain": [
       "0.902"
      ]
     },
     "execution_count": 50,
     "metadata": {},
     "output_type": "execute_result"
    }
   ],
   "source": [
    "res.filter(pl.col('result_idx') <= 2).groupby('qid').agg(pl.max('col_title_match'))['col_title_match'].mean() # 2 bits 100 words: 0.898 "
   ]
  },
  {
   "cell_type": "markdown",
   "id": "f0d750ad-c822-443a-aea6-2318517e9ef4",
   "metadata": {},
   "source": [
    "### Recall at 3"
   ]
  },
  {
   "cell_type": "code",
   "execution_count": 51,
   "id": "40b6ff13-ba74-4ef5-b03a-0f4dd8e56f4c",
   "metadata": {
    "tags": []
   },
   "outputs": [
    {
     "name": "stderr",
     "output_type": "stream",
     "text": [
      "/tmp/ipykernel_6168/3886800790.py:1: DeprecationWarning: `groupby` is deprecated. It has been renamed to `group_by`.\n",
      "  res.filter(pl.col('result_idx') <= 3).groupby('qid').agg(pl.max('bm25_title_match'))['bm25_title_match'].mean() # 100 words: 0.51\n"
     ]
    },
    {
     "data": {
      "text/plain": [
       "0.54"
      ]
     },
     "execution_count": 51,
     "metadata": {},
     "output_type": "execute_result"
    }
   ],
   "source": [
    "res.filter(pl.col('result_idx') <= 3).groupby('qid').agg(pl.max('bm25_title_match'))['bm25_title_match'].mean() # 100 words: 0.51 "
   ]
  },
  {
   "cell_type": "code",
   "execution_count": 52,
   "id": "be2397de-91a7-4455-a704-69e4c38881fb",
   "metadata": {
    "tags": []
   },
   "outputs": [
    {
     "name": "stderr",
     "output_type": "stream",
     "text": [
      "/tmp/ipykernel_6168/3501852387.py:1: DeprecationWarning: `groupby` is deprecated. It has been renamed to `group_by`.\n",
      "  res.filter(pl.col('result_idx') <= 3).groupby('qid').agg(pl.max('col_title_match'))['col_title_match'].mean() # 2 bis 100 words: 0.92\n"
     ]
    },
    {
     "data": {
      "text/plain": [
       "0.924"
      ]
     },
     "execution_count": 52,
     "metadata": {},
     "output_type": "execute_result"
    }
   ],
   "source": [
    "res.filter(pl.col('result_idx') <= 3).groupby('qid').agg(pl.max('col_title_match'))['col_title_match'].mean() # 2 bis 100 words: 0.92"
   ]
  },
  {
   "cell_type": "code",
   "execution_count": null,
   "id": "07f97955-7217-4a53-b9c0-a78d1e1e0c98",
   "metadata": {},
   "outputs": [],
   "source": []
  },
  {
   "cell_type": "code",
   "execution_count": null,
   "id": "5a41072c-9170-43ec-9e49-c1005b4389bc",
   "metadata": {},
   "outputs": [],
   "source": []
  },
  {
   "cell_type": "code",
   "execution_count": null,
   "id": "68ea7122-cc0f-4f76-b08f-2eeed295bd50",
   "metadata": {},
   "outputs": [],
   "source": []
  },
  {
   "cell_type": "code",
   "execution_count": null,
   "id": "0825ef66-6728-493c-9ada-3710b656e9f9",
   "metadata": {},
   "outputs": [],
   "source": []
  },
  {
   "cell_type": "code",
   "execution_count": 33,
   "id": "eaf7a5be-d194-4a9a-a635-70dfc42cd415",
   "metadata": {
    "tags": []
   },
   "outputs": [
    {
     "data": {
      "text/html": [
       "<div><style>\n",
       ".dataframe > thead > tr > th,\n",
       ".dataframe > tbody > tr > td {\n",
       "  text-align: right;\n",
       "}\n",
       "</style>\n",
       "<small>shape: (2, 3)</small><table border=\"1\" class=\"dataframe\"><thead><tr><th>question</th><th>passage_text</th><th>passage_text_col</th></tr><tr><td>str</td><td>str</td><td>str</td></tr></thead><tbody><tr><td>&quot;What is the net rate of flow of electric charge through a surface called?&quot;</td><td>&quot;pp-vandalismsmallyes ElectromagnetismNetwork An electric current is a flow of charged particles, such as electrons or ions, moving through an electrical conductor or space. It is defined as the net rate of flow of electric charge through a surface.rp2rp622 The moving particles are called charge carriers, which may be one of several types of particles, depending on the conductor. In electric circuits the charge carriers are often electrons moving through a wire. In semiconductors they can be electrons or Electron hole. In an Electrolyte#Electrochemistry the charge carriers are ions, while in Plasma (physics), an ionized gas, they are ions and electrons.&quot;</td><td>&quot;pp-vandalismsmallyes ElectromagnetismNetwork An electric current is a flow of charged particles, such as electrons or ions, moving through an electrical conductor or space. It is defined as the net rate of flow of electric charge through a surface.rp2rp622 The moving particles are called charge carriers, which may be one of several types of particles, depending on the conductor. In electric circuits the charge carriers are often electrons moving through a wire. In semiconductors they can be electrons or Electron hole. In an Electrolyte#Electrochemistry the charge carriers are ions, while in Plasma (physics), an ionized gas, they are ions and electrons.&quot;</td></tr><tr><td>&quot;What is the net rate of flow of electric charge through a surface called?&quot;</td><td>&quot;In this view, electric current is a flow caused by the electromotive force and is the analogue of velocity caused by a mechanical force. At the capacitor, this current causes a &quot;displacement current&quot; whose rate of change is equal to the current. The displacement is viewed as an electric deformation (mechanics)#Strain, like a mechanical strain in a compressed spring. The existence of a flow of physical charge is denied, as is the buildup of charge on the capacitor plates.&quot;</td><td>&quot;More generally, electric current can be represented as the rate at which charge flows through a given surface as: I = fracmathrmdQmathrmdt , .&quot;</td></tr></tbody></table></div>"
      ],
      "text/plain": [
       "shape: (2, 3)\n",
       "┌────────────────────────────────┬────────────────────────────────┬────────────────────────────────┐\n",
       "│ question                       ┆ passage_text                   ┆ passage_text_col               │\n",
       "│ ---                            ┆ ---                            ┆ ---                            │\n",
       "│ str                            ┆ str                            ┆ str                            │\n",
       "╞════════════════════════════════╪════════════════════════════════╪════════════════════════════════╡\n",
       "│ What is the net rate of flow   ┆ pp-vandalismsmallyes           ┆ pp-vandalismsmallyes           │\n",
       "│ of electric charge through a   ┆ ElectromagnetismNetwork An     ┆ ElectromagnetismNetwork An     │\n",
       "│ surface called?                ┆ electric current is a flow of  ┆ electric current is a flow of  │\n",
       "│                                ┆ charged particles, such as     ┆ charged particles, such as     │\n",
       "│                                ┆ electrons or ions, moving      ┆ electrons or ions, moving      │\n",
       "│                                ┆ through an electrical          ┆ through an electrical          │\n",
       "│                                ┆ conductor or space. It is      ┆ conductor or space. It is      │\n",
       "│                                ┆ defined as the net rate of     ┆ defined as the net rate of     │\n",
       "│                                ┆ flow of electric charge        ┆ flow of electric charge        │\n",
       "│                                ┆ through a surface.rp2rp622 The ┆ through a surface.rp2rp622 The │\n",
       "│                                ┆ moving particles are called    ┆ moving particles are called    │\n",
       "│                                ┆ charge carriers, which may be  ┆ charge carriers, which may be  │\n",
       "│                                ┆ one of several types of        ┆ one of several types of        │\n",
       "│                                ┆ particles, depending on the    ┆ particles, depending on the    │\n",
       "│                                ┆ conductor. In electric         ┆ conductor. In electric         │\n",
       "│                                ┆ circuits the charge carriers   ┆ circuits the charge carriers   │\n",
       "│                                ┆ are often electrons moving     ┆ are often electrons moving     │\n",
       "│                                ┆ through a wire. In             ┆ through a wire. In             │\n",
       "│                                ┆ semiconductors they can be     ┆ semiconductors they can be     │\n",
       "│                                ┆ electrons or Electron hole. In ┆ electrons or Electron hole. In │\n",
       "│                                ┆ an                             ┆ an                             │\n",
       "│                                ┆ Electrolyte#Electrochemistry   ┆ Electrolyte#Electrochemistry   │\n",
       "│                                ┆ the charge carriers are ions,  ┆ the charge carriers are ions,  │\n",
       "│                                ┆ while in Plasma (physics), an  ┆ while in Plasma (physics), an  │\n",
       "│                                ┆ ionized gas, they are ions and ┆ ionized gas, they are ions and │\n",
       "│                                ┆ electrons.                     ┆ electrons.                     │\n",
       "│ What is the net rate of flow   ┆ In this view, electric current ┆ More generally, electric       │\n",
       "│ of electric charge through a   ┆ is a flow caused by the        ┆ current can be represented as  │\n",
       "│ surface called?                ┆ electromotive force and is the ┆ the rate at which charge flows │\n",
       "│                                ┆ analogue of velocity caused by ┆ through a given surface as: I  │\n",
       "│                                ┆ a mechanical force. At the     ┆ = fracmathrmdQmathrmdt , .     │\n",
       "│                                ┆ capacitor, this current causes ┆                                │\n",
       "│                                ┆ a \"displacement current\" whose ┆                                │\n",
       "│                                ┆ rate of change is equal to the ┆                                │\n",
       "│                                ┆ current. The displacement is   ┆                                │\n",
       "│                                ┆ viewed as an electric          ┆                                │\n",
       "│                                ┆ deformation                    ┆                                │\n",
       "│                                ┆ (mechanics)#Strain, like a     ┆                                │\n",
       "│                                ┆ mechanical strain in a         ┆                                │\n",
       "│                                ┆ compressed spring. The         ┆                                │\n",
       "│                                ┆ existence of a flow of         ┆                                │\n",
       "│                                ┆ physical charge is denied, as  ┆                                │\n",
       "│                                ┆ is the buildup of charge on    ┆                                │\n",
       "│                                ┆ the capacitor plates.          ┆                                │\n",
       "└────────────────────────────────┴────────────────────────────────┴────────────────────────────────┘"
      ]
     },
     "execution_count": 33,
     "metadata": {},
     "output_type": "execute_result"
    }
   ],
   "source": [
    "question = 2\n",
    "res[['question', 'passage_text', 'passage_text_col']][question*n_results_per_question:(question+1)*n_results_per_question]"
   ]
  },
  {
   "cell_type": "code",
   "execution_count": null,
   "id": "a04ee3bf-cd06-4c29-b443-16fcc413eb0b",
   "metadata": {},
   "outputs": [],
   "source": [
    "# res = res.with_columns([\n",
    "#     (pl.col('title') == pl.col('title_bm25')).alias('bm25_title_match'),\n",
    "#     (pl.col('title') == pl.col('title_col')).alias('col_title_match')\n",
    "# ])"
   ]
  },
  {
   "cell_type": "code",
   "execution_count": null,
   "id": "10a15bdd-40f4-44ad-ac70-6af63213f324",
   "metadata": {},
   "outputs": [],
   "source": []
  },
  {
   "cell_type": "code",
   "execution_count": null,
   "id": "4fdd6556-0c0f-4b3a-84d3-eda86adaa7c4",
   "metadata": {},
   "outputs": [],
   "source": []
  },
  {
   "cell_type": "code",
   "execution_count": null,
   "id": "435b55b4-eb21-4d4b-8b15-95bf1a3d5e97",
   "metadata": {},
   "outputs": [],
   "source": []
  },
  {
   "cell_type": "code",
   "execution_count": null,
   "id": "31702514-6ee3-4162-9adc-cfc2cbc26e24",
   "metadata": {},
   "outputs": [],
   "source": []
  },
  {
   "cell_type": "code",
   "execution_count": null,
   "id": "9800029d-1461-4ea4-8b56-158831bb0193",
   "metadata": {},
   "outputs": [],
   "source": []
  },
  {
   "cell_type": "code",
   "execution_count": null,
   "id": "a65ac748-c7db-47c6-bb71-a3e01e62b1fd",
   "metadata": {},
   "outputs": [],
   "source": []
  }
 ],
 "metadata": {
  "kernelspec": {
   "display_name": "Python [conda env:pytorch]",
   "language": "python",
   "name": "conda-env-pytorch-py"
  },
  "language_info": {
   "codemirror_mode": {
    "name": "ipython",
    "version": 3
   },
   "file_extension": ".py",
   "mimetype": "text/x-python",
   "name": "python",
   "nbconvert_exporter": "python",
   "pygments_lexer": "ipython3",
   "version": "3.10.13"
  }
 },
 "nbformat": 4,
 "nbformat_minor": 5
}
