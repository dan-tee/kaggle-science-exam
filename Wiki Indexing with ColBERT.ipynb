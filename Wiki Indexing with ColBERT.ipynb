{
 "cells": [
  {
   "cell_type": "markdown",
   "id": "9ec1e2d8-3265-4c14-99c1-7bf8e6a56512",
   "metadata": {
    "tags": []
   },
   "source": [
    "# Wikipedia Indexing with ColBERT\n",
    "### <span style=\"color:red\">This needs to run in the colbert conda env</span>"
   ]
  },
  {
   "cell_type": "code",
   "execution_count": 8,
   "id": "052ec193-3e4d-41be-a8be-84d5963de3a0",
   "metadata": {},
   "outputs": [],
   "source": [
    "# conda install polars pandas seaborn tqdm -c conda-forge\n",
    "# !pip install rank_bm25\n",
    "# !pip install -e './ColBERT'"
   ]
  },
  {
   "cell_type": "code",
   "execution_count": 6,
   "id": "63cca77c-5026-47ec-8479-401f6b87e322",
   "metadata": {
    "tags": []
   },
   "outputs": [],
   "source": [
    "# conda upgrade numpy -c conda-forge\n",
    "# # conda install -c conda-forge faiss-gpu"
   ]
  },
  {
   "cell_type": "code",
   "execution_count": 1,
   "id": "79a20bc5-89d2-41cf-a9c3-ad6c2569b4dc",
   "metadata": {
    "tags": []
   },
   "outputs": [
    {
     "name": "stderr",
     "output_type": "stream",
     "text": [
      "/home/daniel/mambaforge/envs/pytorch/lib/python3.10/site-packages/scipy/__init__.py:146: UserWarning: A NumPy version >=1.17.3 and <1.25.0 is required for this version of SciPy (detected version 1.26.0\n",
      "  warnings.warn(f\"A NumPy version >={np_minversion} and <{np_maxversion}\"\n"
     ]
    }
   ],
   "source": [
    "import os\n",
    "import glob\n",
    "import polars as pl\n",
    "import polars.selectors as cs\n",
    "import pandas as pd\n",
    "import pyarrow as pa\n",
    "import numpy as np\n",
    "import matplotlib.pyplot as plt\n",
    "import seaborn as sns\n",
    "from tqdm.notebook import tqdm\n",
    "from pathlib import Path\n",
    "import faiss\n",
    "\n",
    "from rank_bm25 import BM25Okapi\n",
    "from colbert.infra import Run, RunConfig, ColBERTConfig\n",
    "from colbert.data import Queries, Collection\n",
    "from colbert import Indexer, Searcher"
   ]
  },
  {
   "cell_type": "code",
   "execution_count": 2,
   "id": "d2ded6d6-ef12-4fde-9050-1da3dd0ec8fe",
   "metadata": {
    "tags": []
   },
   "outputs": [],
   "source": [
    "pl.Config(fmt_str_lengths=2000);"
   ]
  },
  {
   "cell_type": "code",
   "execution_count": 3,
   "id": "7d2e8160-d42c-4986-9b2c-c09a6f7374cf",
   "metadata": {
    "tags": []
   },
   "outputs": [],
   "source": [
    "# conda install pytorch torchvision torchaudio pytorch-cuda=11.8 -c pytorch -c nvidia -y"
   ]
  },
  {
   "cell_type": "code",
   "execution_count": 4,
   "id": "2c3b5c92-cf1b-4dc4-bb78-acaf24655132",
   "metadata": {},
   "outputs": [],
   "source": [
    "#!pip install rank_bm25"
   ]
  },
  {
   "cell_type": "code",
   "execution_count": 5,
   "id": "e73c0300-dbbf-463a-868b-ef27095970fd",
   "metadata": {
    "tags": []
   },
   "outputs": [],
   "source": [
    "# !conda list | grep bitsandbytes"
   ]
  },
  {
   "cell_type": "code",
   "execution_count": 6,
   "id": "dc30dded-8f0c-4399-a124-5b099d2f65fd",
   "metadata": {
    "tags": []
   },
   "outputs": [],
   "source": [
    "# !conda install -c conda-forge pyarrow -y"
   ]
  },
  {
   "cell_type": "code",
   "execution_count": 7,
   "id": "03d06b87-6da5-4e7d-b6f5-510d3e5f95c5",
   "metadata": {
    "tags": []
   },
   "outputs": [],
   "source": [
    "# !conda update -c conda-forge 'auto-gptq[triton]' -y"
   ]
  },
  {
   "cell_type": "code",
   "execution_count": 8,
   "id": "c174f049-e7d5-4c18-ba76-abab2e6ff4ce",
   "metadata": {
    "tags": []
   },
   "outputs": [],
   "source": [
    "# huggingface_hub.login(os.environ['HUGGING_FACE_TOKEN'])"
   ]
  },
  {
   "cell_type": "code",
   "execution_count": 9,
   "id": "34a5363a-7ae1-4ac9-ad64-2e4fd2093900",
   "metadata": {
    "tags": []
   },
   "outputs": [],
   "source": [
    "# questions = pl.read_parquet('./data/daniel_train/v_1_combined/daniel_train_v_1.parquet')\n",
    "# questions = questions.filter(pl.col('question').is_not_null())\n",
    "# questions.shape, np.array(questions.columns)"
   ]
  },
  {
   "cell_type": "code",
   "execution_count": 20,
   "id": "03bbd53d-40b4-4876-b61a-337b302ae46a",
   "metadata": {
    "tags": []
   },
   "outputs": [
    {
     "data": {
      "text/plain": [
       "((853470, 16),\n",
       " array(['section_id', 'title', 'category', 'page_id', 'parent_id',\n",
       "        'revision_id', 'revision_ts', 'short_description', 'sha1',\n",
       "        'page_bytes', 'section_index', 'section_title', 'section_level',\n",
       "        'section_text', 'title_section_rank', 'section_word_count'],\n",
       "       dtype='<U18'))"
      ]
     },
     "execution_count": 20,
     "metadata": {},
     "output_type": "execute_result"
    }
   ],
   "source": [
    "wiki_sections = pl.read_parquet('./data/wiki_with_category_v_4.parquet')\n",
    "section_word_counts = wiki_sections['section_text'].str.split(' ').list.lengths()\n",
    "wiki_sections = wiki_sections.with_columns(section_word_count=pl.Series(section_word_counts))\n",
    "\n",
    "wiki_sections = wiki_sections.filter(pl.col('section_word_count') > 11)\n",
    "wiki_sections.shape, np.array(wiki_sections.columns)"
   ]
  },
  {
   "cell_type": "code",
   "execution_count": 21,
   "id": "0cfed80a-95e4-4367-8c4b-35456dab91af",
   "metadata": {
    "tags": []
   },
   "outputs": [
    {
     "data": {
      "text/plain": [
       "156238"
      ]
     },
     "execution_count": 21,
     "metadata": {},
     "output_type": "execute_result"
    }
   ],
   "source": [
    "wiki_sections['title'].n_unique()"
   ]
  },
  {
   "cell_type": "code",
   "execution_count": 12,
   "id": "ee0f5f9a-e55c-4c5b-b4f8-89b32aa668a4",
   "metadata": {
    "tags": []
   },
   "outputs": [
    {
     "data": {
      "text/plain": [
       "'Mean word count: 209, median: 119'"
      ]
     },
     "execution_count": 12,
     "metadata": {},
     "output_type": "execute_result"
    },
    {
     "data": {
      "image/png": "[encoded data removed]",
      "text/plain": [
       "<Figure size 600x300 with 1 Axes>"
      ]
     },
     "metadata": {},
     "output_type": "display_data"
    }
   ],
   "source": [
    "plt.figure(figsize=[6,3])\n",
    "sns.histplot(wiki_sections['section_word_count'], binrange=[0, 1500])\n",
    "plt.title('Section Word Count')\n",
    "f'Mean word count: {section_word_counts.mean():.0f}, median: {section_word_counts.median():.0f}'"
   ]
  },
  {
   "cell_type": "code",
   "execution_count": 13,
   "id": "6a43f35a-5c74-47e7-980c-c8d3db836e86",
   "metadata": {
    "tags": []
   },
   "outputs": [],
   "source": [
    "# with pl.Config() as cfg:\n",
    "#     cfg.set_tbl_rows(100)\n",
    "#     display(wiki_sections.filter(pl.col('section_word_count') < 15)[['title', 'section_title', 'section_text']])"
   ]
  },
  {
   "cell_type": "code",
   "execution_count": 14,
   "id": "79de5947-5a6f-489d-a0c1-eea629be5362",
   "metadata": {
    "tags": []
   },
   "outputs": [],
   "source": [
    "max_words = 100\n",
    "doc_maxlen = 150\n",
    "query_maxlen = 150\n",
    "nbits = 2\n",
    "colbert_path = Path(f'./data/colbert_max_words_{max_words}_nbits_{nbits}-v4')\n",
    "os.makedirs(colbert_path, exist_ok=True)"
   ]
  },
  {
   "cell_type": "code",
   "execution_count": 32,
   "id": "1fb9d27d-7df5-41e1-bbd3-0573084db962",
   "metadata": {
    "tags": []
   },
   "outputs": [
    {
     "data": {
      "text/plain": [
       "((2500036, 9),\n",
       " ['passage_id',\n",
       "  'section_id',\n",
       "  'title',\n",
       "  'section_title',\n",
       "  'section_index',\n",
       "  'passage_text',\n",
       "  'title_section_rank',\n",
       "  'section_passage_num',\n",
       "  'titled_passage'])"
      ]
     },
     "execution_count": 32,
     "metadata": {},
     "output_type": "execute_result"
    }
   ],
   "source": [
    "def split_text_into_chunks(text):\n",
    "    chunks = []\n",
    "    current_chunk = []\n",
    "    current_length = 0\n",
    "    last_period = -1\n",
    "    section_words = text.split()\n",
    "\n",
    "    remaining_words = list(section_words)\n",
    "    split_sum = 0\n",
    "    for word in section_words:\n",
    "        current_length += 1\n",
    "        if word.endswith('.'):\n",
    "            last_period = current_length\n",
    "        \n",
    "        if current_length == max_words:\n",
    "            if last_period > -1:\n",
    "                chunk = remaining_words[:last_period]\n",
    "                chunks.append(\" \".join(chunk))\n",
    "                remaining_words = remaining_words[last_period:]             \n",
    "                current_length = current_length - last_period\n",
    "                split_sum += last_period\n",
    "            else:\n",
    "                # If no period exists, just split it at max_words\n",
    "                chunk = remaining_words[:current_length]\n",
    "                chunks.append(\" \".join(chunk))\n",
    "                remaining_words = remaining_words[current_length:]\n",
    "                current_length = 0\n",
    "                split_sum += current_length\n",
    "            last_period = -1\n",
    "\n",
    "    if remaining_words:\n",
    "        chunks.append(\" \".join(remaining_words))\n",
    "    \n",
    "    return chunks\n",
    "\n",
    "passages = wiki_sections[['section_id', 'title', 'section_title', 'section_index', 'section_text']]\n",
    "passages = passages.with_columns(\n",
    "    pl.col(\"section_text\")\n",
    "      .map_elements(split_text_into_chunks)\\\n",
    "      .cast(pl.List(pl.Utf8)).alias('passage_text')\\\n",
    ")\n",
    "passages = passages.drop('section_text')\n",
    "passages = passages.explode('passage_text')\n",
    "\n",
    "passages = passages.with_columns(pl.col('title')\\\n",
    "                   .rank(method=\"ordinal\")\\\n",
    "                   .over(['title', 'section_index', 'section_title', 'passage_text'])\\\n",
    "                   .alias('title_section_rank'))\n",
    "passages = passages.filter(pl.col('title_section_rank') == 1)\n",
    "passages = passages.filter(pl.col('passage_text').is_not_null())\\\n",
    "                   .with_row_count('passage_id')\n",
    "\n",
    "passages = passages.with_columns(pl.col('passage_text').str.replace_all('\\n', ' '))                      \n",
    "passages_file = colbert_path/'wiki_passages'\n",
    "passages.write_parquet(str(passages_file) +'.parquet')\n",
    "passages = passages.with_columns(pl.col('passage_id').rank(method=\"min\").over([\"section_id\"]).alias('section_passage_num'))\n",
    "\n",
    "# \\s: Matches any whitespace character, including spaces, tabs, and newline characters.\n",
    "# \\S: Matches any character that is NOT a whitespace character.\n",
    "passages = passages.with_columns(pl.col('section_title').str.replace_all('<ref[^>]*>[\\s\\S]*?<\\/ref>', ''))\n",
    "passages = passages.with_columns(pl.col('passage_text').str.replace_all('<ref[^>]*>[\\s\\S]*?<\\/ref>', ''))\n",
    "passages = passages.with_columns(titled_passage=pl.col('title') +\\\n",
    "                                  ':' + pl.col('section_title') + ':'\\\n",
    "                                  + pl.col('passage_text').str.replace_all(r\"[\\n\\t]+$\", \"\"))\n",
    "passages.shape, passages.columns"
   ]
  },
  {
   "cell_type": "code",
   "execution_count": 33,
   "id": "57f469d6-38f7-4043-b695-c6cfe7874a75",
   "metadata": {
    "tags": []
   },
   "outputs": [
    {
     "data": {
      "image/png": "[encoded data removed]",
      "text/plain": [
       "<Figure size 600x300 with 1 Axes>"
      ]
     },
     "metadata": {},
     "output_type": "display_data"
    }
   ],
   "source": [
    "plt.figure(figsize=[6,3])\n",
    "sns.histplot(passages['titled_passage'].str.split(' ').list.lengths(), binrange=[0, max_words]);"
   ]
  },
  {
   "cell_type": "code",
   "execution_count": 34,
   "id": "28fad48f-85df-4294-9034-140af0425063",
   "metadata": {
    "tags": []
   },
   "outputs": [
    {
     "data": {
      "text/html": [
       "<div><style>\n",
       ".dataframe > thead > tr > th,\n",
       ".dataframe > tbody > tr > td {\n",
       "  text-align: right;\n",
       "  white-space: pre-wrap;\n",
       "}\n",
       "</style>\n",
       "<small>shape: (0, 9)</small><table border=\"1\" class=\"dataframe\"><thead><tr><th>passage_id</th><th>section_id</th><th>title</th><th>section_title</th><th>section_index</th><th>passage_text</th><th>title_section_rank</th><th>section_passage_num</th><th>titled_passage</th></tr><tr><td>u32</td><td>u32</td><td>str</td><td>str</td><td>i64</td><td>str</td><td>u32</td><td>u32</td><td>str</td></tr></thead><tbody></tbody></table></div>"
      ],
      "text/plain": [
       "shape: (0, 9)\n",
       "┌────────────┬────────────┬───────┬────────────┬───┬───────────┬───────────┬───────────┬───────────┐\n",
       "│ passage_id ┆ section_id ┆ title ┆ section_ti ┆ … ┆ passage_t ┆ title_sec ┆ section_p ┆ titled_pa │\n",
       "│ ---        ┆ ---        ┆ ---   ┆ tle        ┆   ┆ ext       ┆ tion_rank ┆ assage_nu ┆ ssage     │\n",
       "│ u32        ┆ u32        ┆ str   ┆ ---        ┆   ┆ ---       ┆ ---       ┆ m         ┆ ---       │\n",
       "│            ┆            ┆       ┆ str        ┆   ┆ str       ┆ u32       ┆ ---       ┆ str       │\n",
       "│            ┆            ┆       ┆            ┆   ┆           ┆           ┆ u32       ┆           │\n",
       "╞════════════╪════════════╪═══════╪════════════╪═══╪═══════════╪═══════════╪═══════════╪═══════════╡\n",
       "└────────────┴────────────┴───────┴────────────┴───┴───────────┴───────────┴───────────┴───────────┘"
      ]
     },
     "execution_count": 34,
     "metadata": {},
     "output_type": "execute_result"
    }
   ],
   "source": [
    "# def split_text_into_chunks(text):\n",
    "#     chunks = []\n",
    "#     current_chunk = []\n",
    "#     current_length = 0\n",
    "#     last_period = -1\n",
    "#     section_words = text.split()\n",
    "\n",
    "#     remaining_words = list(section_words)\n",
    "#     split_sum = 0\n",
    "#     for word in section_words:\n",
    "#         current_length += 1\n",
    "#         if word.endswith('.'):\n",
    "#             last_period = current_length\n",
    "        \n",
    "#         if current_length == max_words:\n",
    "#             if last_period > -1:\n",
    "#                 chunk = remaining_words[:last_period]\n",
    "#                 chunks.append(\" \".join(chunk))\n",
    "#                 remaining_words = remaining_words[last_period:]             \n",
    "#                 current_length = current_length - last_period\n",
    "#                 split_sum += last_period\n",
    "#             else:\n",
    "#                 # If no period exists, just split it at max_words\n",
    "#                 chunk = remaining_words[:current_length]\n",
    "#                 chunks.append(\" \".join(chunk))\n",
    "#                 remaining_words = remaining_words[current_length:]\n",
    "#                 current_length = 0\n",
    "#                 split_sum += current_length\n",
    "#             last_period = -1\n",
    "\n",
    "#     if remaining_words:\n",
    "#         chunks.append(\" \".join(remaining_words))\n",
    "    \n",
    "#     return chunks\n",
    "\n",
    "# passages = wiki_sections[['section_Aid', 'title', 'section_title', 'section_index', 'section_text']]\n",
    "# passages = passages.with_columns(\n",
    "#     pl.col(\"section_text\")\n",
    "#       .map_elements(split_text_into_chunks)\\\n",
    "#       .cast(pl.List(pl.Utf8)).alias('passage_text')\\\n",
    "# )\n",
    "# passages = passages.drop('section_text')\n",
    "# passages = passages.explode('passage_text')\n",
    "passages.filter(passages.drop('section_id').is_duplicated()).sort(['title', 'section_title', 'section_index', 'passage_text'])"
   ]
  },
  {
   "cell_type": "markdown",
   "id": "1802e4d8-6515-4589-a6b7-06fd52e9baaf",
   "metadata": {},
   "source": [
    "## Using ColBERT to find Wiki Section"
   ]
  },
  {
   "cell_type": "code",
   "execution_count": 35,
   "id": "db6f01a8-acbc-42b1-b7f6-f8f0c0d68046",
   "metadata": {
    "tags": []
   },
   "outputs": [
    {
     "name": "stdout",
     "output_type": "stream",
     "text": [
      "[Sep 22, 16:59:46] #> Loading collection...\n",
      "0M 1M 2M \n"
     ]
    }
   ],
   "source": [
    "checkpoint = './checkpoints/colbertv2.0'\n",
    "indexer_name = f\"colbert_wiki_indexer\"\n",
    "\n",
    "passages[['passage_id', 'titled_passage']].write_csv(str(passages_file) + '.tsv', separator='\\t', has_header=False)\n",
    "c_collection = Collection(str(passages_file) + '.tsv')\n",
    "f'Loaded {len(c_collection):,} passages'\n",
    "\n",
    "os.environ['COLBERT_LOAD_TORCH_EXTENSION_VERBOSE'] = 'True'\n",
    "\n",
    "config = ColBERTConfig(\n",
    "    doc_maxlen=doc_maxlen,\n",
    "    query_maxlen=query_maxlen, \n",
    "    nbits=nbits\n",
    ")"
   ]
  },
  {
   "cell_type": "code",
   "execution_count": null,
   "id": "9b14b8e2-8820-4591-8436-be1a5694e432",
   "metadata": {
    "tags": []
   },
   "outputs": [
    {
     "name": "stdout",
     "output_type": "stream",
     "text": [
      "\n",
      "\n",
      "[Sep 22, 16:59:48] #> Note: Output directory data/colbert_max_words_100_nbits_2-v4/colbert_wiki_indexer already exists\n",
      "\n",
      "\n",
      "[Sep 22, 16:59:48] #> Will delete 166 files already at data/colbert_max_words_100_nbits_2-v4/colbert_wiki_indexer in 20 seconds...\n",
      "#> Starting...\n",
      "nranks = 1 \t num_gpus = 1 \t device=0\n",
      "{\n",
      "    \"query_token_id\": \"[unused0]\",\n",
      "    \"doc_token_id\": \"[unused1]\",\n",
      "    \"query_token\": \"[Q]\",\n",
      "    \"doc_token\": \"[D]\",\n",
      "    \"ncells\": null,\n",
      "    \"centroid_score_threshold\": null,\n",
      "    \"ndocs\": null,\n",
      "    \"index_path\": null,\n",
      "    \"nbits\": 2,\n",
      "    \"kmeans_niters\": 20,\n",
      "    \"resume\": false,\n",
      "    \"similarity\": \"cosine\",\n",
      "    \"bsize\": 64,\n",
      "    \"accumsteps\": 1,\n",
      "    \"lr\": 1e-5,\n",
      "    \"maxsteps\": 400000,\n",
      "    \"save_every\": null,\n",
      "    \"warmup\": 20000,\n",
      "    \"warmup_bert\": null,\n",
      "    \"relu\": false,\n",
      "    \"nway\": 64,\n",
      "    \"use_ib_negatives\": true,\n",
      "    \"reranker\": false,\n",
      "    \"distillation_alpha\": 1.0,\n",
      "    \"ignore_scores\": false,\n",
      "    \"model_name\": null,\n",
      "    \"query_maxlen\": 150,\n",
      "    \"attend_to_mask_tokens\": false,\n",
      "    \"interaction\": \"colbert\",\n",
      "    \"dim\": 128,\n",
      "    \"doc_maxlen\": 150,\n",
      "    \"mask_punctuation\": true,\n",
      "    \"checkpoint\": \".\\/checkpoints\\/colbertv2.0\",\n",
      "    \"triples\": \"\\/future\\/u\\/okhattab\\/root\\/unit\\/experiments\\/2021.10\\/downstream.distillation.round2.2_score\\/round2.nway6.cosine.ib\\/examples.64.json\",\n",
      "    \"collection\": \"data\\/colbert_max_words_100_nbits_2-v4\\/wiki_passages.tsv\",\n",
      "    \"queries\": \"\\/future\\/u\\/okhattab\\/data\\/MSMARCO\\/queries.train.tsv\",\n",
      "    \"index_name\": \"colbert_wiki_indexer\",\n",
      "    \"overwrite\": false,\n",
      "    \"root\": \"\\/home\\/daniel\\/code\\/kaggle-science-exam\\/experiments\",\n",
      "    \"experiment\": \"default\",\n",
      "    \"index_root\": \"data\\/colbert_max_words_100_nbits_2-v4\",\n",
      "    \"name\": \"2023-09\\/22\\/16.19.48\",\n",
      "    \"rank\": 0,\n",
      "    \"nranks\": 1,\n",
      "    \"amp\": true,\n",
      "    \"gpus\": 1\n",
      "}\n",
      "[Sep 22, 17:00:14] [0] \t\t # of sampled PIDs = 277131 \t sampled_pids[:3] = [1747430, 42652, 1252586]\n",
      "[Sep 22, 17:00:14] [0] \t\t #> Encoding 277131 passages..\n"
     ]
    }
   ],
   "source": [
    "rerun = True\n",
    "if rerun:\n",
    "    with Run().context(RunConfig(nranks=1, index_root=str(colbert_path))):\n",
    "        indexer = Indexer(checkpoint=checkpoint, config=config)\n",
    "        indexer.index(name=indexer_name,\n",
    "                      collection=c_collection,\n",
    "                      overwrite=True)"
   ]
  },
  {
   "cell_type": "markdown",
   "id": "7ca30d84-a62c-41db-8606-1057ad3bb6ba",
   "metadata": {
    "tags": []
   },
   "source": [
    "## Search for known sections"
   ]
  },
  {
   "cell_type": "code",
   "execution_count": 19,
   "id": "bdbb5412-0bae-4e99-beaa-da3ba63c2984",
   "metadata": {},
   "outputs": [
    {
     "ename": "NameError",
     "evalue": "name 'questions' is not defined",
     "output_type": "error",
     "traceback": [
      "\u001b[0;31m---------------------------------------------------------------------------\u001b[0m",
      "\u001b[0;31mNameError\u001b[0m                                 Traceback (most recent call last)",
      "Cell \u001b[0;32mIn[19], line 1\u001b[0m\n\u001b[0;32m----> 1\u001b[0m queries \u001b[38;5;241m=\u001b[39m \u001b[43mquestions\u001b[49m\u001b[38;5;241m.\u001b[39mwith_row_count(\u001b[38;5;124m'\u001b[39m\u001b[38;5;124mqid\u001b[39m\u001b[38;5;124m'\u001b[39m)[[\u001b[38;5;124m'\u001b[39m\u001b[38;5;124mqid\u001b[39m\u001b[38;5;124m'\u001b[39m, \u001b[38;5;124m'\u001b[39m\u001b[38;5;124mquestion\u001b[39m\u001b[38;5;124m'\u001b[39m]]\n\u001b[1;32m      2\u001b[0m queries \u001b[38;5;241m=\u001b[39m queries\u001b[38;5;241m.\u001b[39mwith_columns(pl\u001b[38;5;241m.\u001b[39mcol(\u001b[38;5;124m'\u001b[39m\u001b[38;5;124mquestion\u001b[39m\u001b[38;5;124m'\u001b[39m)\u001b[38;5;241m.\u001b[39mstr\u001b[38;5;241m.\u001b[39mreplace_all(\u001b[38;5;124m'\u001b[39m\u001b[38;5;130;01m\\n\u001b[39;00m\u001b[38;5;124m'\u001b[39m, \u001b[38;5;124m'\u001b[39m\u001b[38;5;124m \u001b[39m\u001b[38;5;124m'\u001b[39m))\n\u001b[1;32m      3\u001b[0m queries_file \u001b[38;5;241m=\u001b[39m \u001b[38;5;124m'\u001b[39m\u001b[38;5;124m./data/wiki_queries.tsv\u001b[39m\u001b[38;5;124m'\u001b[39m\n",
      "\u001b[0;31mNameError\u001b[0m: name 'questions' is not defined"
     ]
    }
   ],
   "source": [
    "queries = questions.with_row_count('qid')[['qid', 'question']]\n",
    "queries = queries.with_columns(pl.col('question').str.replace_all('\\n', ' '))\n",
    "queries_file = './data/wiki_queries.tsv'\n",
    "queries.write_csv(queries_file, separator='\\t', has_header=False)\n",
    "c_queries = Queries(queries_file)\n",
    "f'Loaded {len(c_queries)} queries'"
   ]
  },
  {
   "cell_type": "code",
   "execution_count": null,
   "id": "5a799e41-278d-4fe7-a307-68b8c4323927",
   "metadata": {},
   "outputs": [],
   "source": [
    "with Run().context(RunConfig(nranks=1, index_root=f'./data/colbert-{max_words}-v3')):\n",
    "    searcher = Searcher(index=indexer_name, config=config)\n",
    "    ranking = searcher.search_all(c_queries, k=n_results_per_question)"
   ]
  },
  {
   "cell_type": "code",
   "execution_count": null,
   "id": "08e29ae5-d842-427c-a991-822cfa516a51",
   "metadata": {
    "tags": []
   },
   "outputs": [],
   "source": [
    "# info.with_columns(pl.lit(1).alias(\"ones\"))\\\n",
    "#     .select([\n",
    "#         pl.all().exclude(\"ones\"),\n",
    "#         pl.col(\"ones\").cumsum().over(\"qid\").flatten().alias(\"bm25_idx\")\n",
    "#     ])"
   ]
  },
  {
   "cell_type": "code",
   "execution_count": null,
   "id": "535aa3d3-76a1-4269-b9f1-a48f47a31cfa",
   "metadata": {
    "tags": []
   },
   "outputs": [],
   "source": [
    "n_questions, len(ranking.flat_ranking)"
   ]
  },
  {
   "cell_type": "code",
   "execution_count": null,
   "id": "183b29dd-f090-4a03-b385-519d3bf698c0",
   "metadata": {
    "tags": []
   },
   "outputs": [],
   "source": [
    "colbert = [tup[1] for tup in ranking.flat_ranking]\n",
    "colbert = pl.Series(\"colbert\", colbert[:n_questions * n_results_per_question], dtype=pl.UInt32)"
   ]
  },
  {
   "cell_type": "markdown",
   "id": "9b8b8942-113a-425c-9ea7-88999ab0abd4",
   "metadata": {
    "tags": []
   },
   "source": [
    "## BM25"
   ]
  },
  {
   "cell_type": "code",
   "execution_count": null,
   "id": "fc46c02c-0d82-4e5c-a0d8-ce97d81ddb92",
   "metadata": {},
   "outputs": [],
   "source": [
    "rerun_bm25 = True\n",
    "\n",
    "tokenized_corpus = [doc.split(\" \") for doc in passages['passage_text']]\n",
    "bm25_corpus = BM25Okapi(tokenized_corpus)\n",
    "\n",
    "def bm25_scores(query):\n",
    "    tokenized_query = query.split(\" \")\n",
    "    scores = pd.Series(bm25_corpus.get_scores(tokenized_query))\n",
    "    scores = scores.sort_values(ascending=False)\n",
    "    return scores\n",
    "\n",
    "n_questions = 500\n",
    "n_results_per_question = 3\n",
    "file_path = Path('./data/bm25_scores.parquet')\n",
    "if file_path.exists() and not rerun_bm25:\n",
    "    bm25_res = pl.read_parquet(file_path)\n",
    "else:\n",
    "    scores = []\n",
    "    for question in tqdm(questions['question'][:n_questions]):\n",
    "        q_scores = pd.Series(bm25_scores(question))\n",
    "        top_10 = q_scores.sort_values(ascending=False)[:n_results_per_question].index.to_list()\n",
    "        scores.append(top_10)\n",
    "\n",
    "    bm25_res = pl.Series(\"bm25\", scores, dtype=pl.List(pl.UInt32))\n",
    "    bm25_res = questions[:n_questions][['question', 'title', 'section_title']].with_columns(bm25_res)\n",
    "    bm25_res = bm25_res.with_row_count('qid')\n",
    "    bm25_res = bm25_res.explode('bm25')\n",
    "    bm25_res = bm25_res.with_columns(pl.lit(1).alias(\"ones\"))\\\n",
    "                       .select([\n",
    "                           pl.all().exclude(\"ones\"),\n",
    "                           pl.col(\"ones\").cumsum().over(\"qid\").flatten().alias(\"result_idx\")\n",
    "                       ])\n",
    "    bm25_res = bm25_res.join(passages, how='left', left_on='bm25', right_on='passage_id', suffix='_bm25', validate='m:1')\n",
    "    bm25_res.write_parquet(file_path)"
   ]
  },
  {
   "cell_type": "markdown",
   "id": "23e9ad95-1103-4801-ab2e-bcddb69cdd99",
   "metadata": {},
   "source": [
    "### Precision"
   ]
  },
  {
   "cell_type": "code",
   "execution_count": null,
   "id": "42e16d64-530a-4922-8ba7-7e23468b6656",
   "metadata": {
    "tags": []
   },
   "outputs": [],
   "source": [
    "colbert_col = [tup[1] for tup in ranking.flat_ranking]\n",
    "colbert_col = pl.Series(\"colbert\", colbert[:n_questions * n_results_per_question], dtype=pl.UInt32)\n",
    "res = bm25_res.with_columns(colbert_col)\n",
    "res = res.join(passages, how='left', left_on='colbert', right_on='passage_id', validate='m:1', suffix='_col')\n",
    "res = res.with_columns([\n",
    "    (pl.col('title') == pl.col('title_bm25')).alias('bm25_title_match'),\n",
    "    (pl.col('title') == pl.col('title_col')).alias('col_title_match')\n",
    "])"
   ]
  },
  {
   "cell_type": "code",
   "execution_count": null,
   "id": "82ebe6c0-b81e-4396-91f7-7e4cff21a61e",
   "metadata": {
    "tags": []
   },
   "outputs": [],
   "source": [
    "res.filter(pl.col('result_idx') == 1)['bm25_title_match'].mean()"
   ]
  },
  {
   "cell_type": "code",
   "execution_count": null,
   "id": "08172fc1-b083-4b31-81a4-31111f0abe2c",
   "metadata": {
    "tags": []
   },
   "outputs": [],
   "source": [
    "res.filter(pl.col('result_idx') == 1)['col_title_match'].mean()"
   ]
  },
  {
   "cell_type": "markdown",
   "id": "930a694a-1928-46d6-b038-f5bdad8d48cd",
   "metadata": {
    "tags": []
   },
   "source": [
    "### Recall at 2"
   ]
  },
  {
   "cell_type": "code",
   "execution_count": null,
   "id": "d7a8eec2-a3a0-4ba8-a36e-03a97212e949",
   "metadata": {
    "tags": []
   },
   "outputs": [],
   "source": [
    "res.filter(pl.col('result_idx') <= 2).groupby('qid').agg(pl.max('bm25_title_match'))['bm25_title_match'].mean()"
   ]
  },
  {
   "cell_type": "code",
   "execution_count": null,
   "id": "aa088a5f-4c86-4a44-adf9-0045ac444330",
   "metadata": {
    "tags": []
   },
   "outputs": [],
   "source": [
    "res.filter(pl.col('result_idx') <= 2).groupby('qid').agg(pl.max('col_title_match'))['col_title_match'].mean()"
   ]
  },
  {
   "cell_type": "markdown",
   "id": "f0d750ad-c822-443a-aea6-2318517e9ef4",
   "metadata": {},
   "source": [
    "### Recall at 3"
   ]
  },
  {
   "cell_type": "code",
   "execution_count": null,
   "id": "40b6ff13-ba74-4ef5-b03a-0f4dd8e56f4c",
   "metadata": {
    "tags": []
   },
   "outputs": [],
   "source": [
    "res.filter(pl.col('result_idx') <= 3).groupby('qid').agg(pl.max('bm25_title_match'))['bm25_title_match'].mean()"
   ]
  },
  {
   "cell_type": "code",
   "execution_count": null,
   "id": "be2397de-91a7-4455-a704-69e4c38881fb",
   "metadata": {
    "tags": []
   },
   "outputs": [],
   "source": [
    "res.filter(pl.col('result_idx') <= 3).groupby('qid').agg(pl.max('col_title_match'))['col_title_match'].mean()"
   ]
  },
  {
   "cell_type": "code",
   "execution_count": null,
   "id": "07f97955-7217-4a53-b9c0-a78d1e1e0c98",
   "metadata": {},
   "outputs": [],
   "source": []
  },
  {
   "cell_type": "code",
   "execution_count": null,
   "id": "5a41072c-9170-43ec-9e49-c1005b4389bc",
   "metadata": {},
   "outputs": [],
   "source": []
  },
  {
   "cell_type": "code",
   "execution_count": null,
   "id": "68ea7122-cc0f-4f76-b08f-2eeed295bd50",
   "metadata": {},
   "outputs": [],
   "source": []
  },
  {
   "cell_type": "code",
   "execution_count": null,
   "id": "0825ef66-6728-493c-9ada-3710b656e9f9",
   "metadata": {},
   "outputs": [],
   "source": []
  },
  {
   "cell_type": "code",
   "execution_count": 33,
   "id": "eaf7a5be-d194-4a9a-a635-70dfc42cd415",
   "metadata": {
    "tags": []
   },
   "outputs": [
    {
     "data": {
      "text/html": [
       "<div><style>\n",
       ".dataframe > thead > tr > th,\n",
       ".dataframe > tbody > tr > td {\n",
       "  text-align: right;\n",
       "}\n",
       "</style>\n",
       "<small>shape: (2, 3)</small><table border=\"1\" class=\"dataframe\"><thead><tr><th>question</th><th>passage_text</th><th>passage_text_col</th></tr><tr><td>str</td><td>str</td><td>str</td></tr></thead><tbody><tr><td>&quot;What is the net rate of flow of electric charge through a surface called?&quot;</td><td>&quot;pp-vandalismsmallyes ElectromagnetismNetwork An electric current is a flow of charged particles, such as electrons or ions, moving through an electrical conductor or space. It is defined as the net rate of flow of electric charge through a surface.rp2rp622 The moving particles are called charge carriers, which may be one of several types of particles, depending on the conductor. In electric circuits the charge carriers are often electrons moving through a wire. In semiconductors they can be electrons or Electron hole. In an Electrolyte#Electrochemistry the charge carriers are ions, while in Plasma (physics), an ionized gas, they are ions and electrons.&quot;</td><td>&quot;pp-vandalismsmallyes ElectromagnetismNetwork An electric current is a flow of charged particles, such as electrons or ions, moving through an electrical conductor or space. It is defined as the net rate of flow of electric charge through a surface.rp2rp622 The moving particles are called charge carriers, which may be one of several types of particles, depending on the conductor. In electric circuits the charge carriers are often electrons moving through a wire. In semiconductors they can be electrons or Electron hole. In an Electrolyte#Electrochemistry the charge carriers are ions, while in Plasma (physics), an ionized gas, they are ions and electrons.&quot;</td></tr><tr><td>&quot;What is the net rate of flow of electric charge through a surface called?&quot;</td><td>&quot;In this view, electric current is a flow caused by the electromotive force and is the analogue of velocity caused by a mechanical force. At the capacitor, this current causes a &quot;displacement current&quot; whose rate of change is equal to the current. The displacement is viewed as an electric deformation (mechanics)#Strain, like a mechanical strain in a compressed spring. The existence of a flow of physical charge is denied, as is the buildup of charge on the capacitor plates.&quot;</td><td>&quot;More generally, electric current can be represented as the rate at which charge flows through a given surface as: I = fracmathrmdQmathrmdt , .&quot;</td></tr></tbody></table></div>"
      ],
      "text/plain": [
       "shape: (2, 3)\n",
       "┌────────────────────────────────┬────────────────────────────────┬────────────────────────────────┐\n",
       "│ question                       ┆ passage_text                   ┆ passage_text_col               │\n",
       "│ ---                            ┆ ---                            ┆ ---                            │\n",
       "│ str                            ┆ str                            ┆ str                            │\n",
       "╞════════════════════════════════╪════════════════════════════════╪════════════════════════════════╡\n",
       "│ What is the net rate of flow   ┆ pp-vandalismsmallyes           ┆ pp-vandalismsmallyes           │\n",
       "│ of electric charge through a   ┆ ElectromagnetismNetwork An     ┆ ElectromagnetismNetwork An     │\n",
       "│ surface called?                ┆ electric current is a flow of  ┆ electric current is a flow of  │\n",
       "│                                ┆ charged particles, such as     ┆ charged particles, such as     │\n",
       "│                                ┆ electrons or ions, moving      ┆ electrons or ions, moving      │\n",
       "│                                ┆ through an electrical          ┆ through an electrical          │\n",
       "│                                ┆ conductor or space. It is      ┆ conductor or space. It is      │\n",
       "│                                ┆ defined as the net rate of     ┆ defined as the net rate of     │\n",
       "│                                ┆ flow of electric charge        ┆ flow of electric charge        │\n",
       "│                                ┆ through a surface.rp2rp622 The ┆ through a surface.rp2rp622 The │\n",
       "│                                ┆ moving particles are called    ┆ moving particles are called    │\n",
       "│                                ┆ charge carriers, which may be  ┆ charge carriers, which may be  │\n",
       "│                                ┆ one of several types of        ┆ one of several types of        │\n",
       "│                                ┆ particles, depending on the    ┆ particles, depending on the    │\n",
       "│                                ┆ conductor. In electric         ┆ conductor. In electric         │\n",
       "│                                ┆ circuits the charge carriers   ┆ circuits the charge carriers   │\n",
       "│                                ┆ are often electrons moving     ┆ are often electrons moving     │\n",
       "│                                ┆ through a wire. In             ┆ through a wire. In             │\n",
       "│                                ┆ semiconductors they can be     ┆ semiconductors they can be     │\n",
       "│                                ┆ electrons or Electron hole. In ┆ electrons or Electron hole. In │\n",
       "│                                ┆ an                             ┆ an                             │\n",
       "│                                ┆ Electrolyte#Electrochemistry   ┆ Electrolyte#Electrochemistry   │\n",
       "│                                ┆ the charge carriers are ions,  ┆ the charge carriers are ions,  │\n",
       "│                                ┆ while in Plasma (physics), an  ┆ while in Plasma (physics), an  │\n",
       "│                                ┆ ionized gas, they are ions and ┆ ionized gas, they are ions and │\n",
       "│                                ┆ electrons.                     ┆ electrons.                     │\n",
       "│ What is the net rate of flow   ┆ In this view, electric current ┆ More generally, electric       │\n",
       "│ of electric charge through a   ┆ is a flow caused by the        ┆ current can be represented as  │\n",
       "│ surface called?                ┆ electromotive force and is the ┆ the rate at which charge flows │\n",
       "│                                ┆ analogue of velocity caused by ┆ through a given surface as: I  │\n",
       "│                                ┆ a mechanical force. At the     ┆ = fracmathrmdQmathrmdt , .     │\n",
       "│                                ┆ capacitor, this current causes ┆                                │\n",
       "│                                ┆ a \"displacement current\" whose ┆                                │\n",
       "│                                ┆ rate of change is equal to the ┆                                │\n",
       "│                                ┆ current. The displacement is   ┆                                │\n",
       "│                                ┆ viewed as an electric          ┆                                │\n",
       "│                                ┆ deformation                    ┆                                │\n",
       "│                                ┆ (mechanics)#Strain, like a     ┆                                │\n",
       "│                                ┆ mechanical strain in a         ┆                                │\n",
       "│                                ┆ compressed spring. The         ┆                                │\n",
       "│                                ┆ existence of a flow of         ┆                                │\n",
       "│                                ┆ physical charge is denied, as  ┆                                │\n",
       "│                                ┆ is the buildup of charge on    ┆                                │\n",
       "│                                ┆ the capacitor plates.          ┆                                │\n",
       "└────────────────────────────────┴────────────────────────────────┴────────────────────────────────┘"
      ]
     },
     "execution_count": 33,
     "metadata": {},
     "output_type": "execute_result"
    }
   ],
   "source": [
    "question = 2\n",
    "res[['question', 'passage_text', 'passage_text_col']][question*n_results_per_question:(question+1)*n_results_per_question]"
   ]
  },
  {
   "cell_type": "code",
   "execution_count": null,
   "id": "a04ee3bf-cd06-4c29-b443-16fcc413eb0b",
   "metadata": {},
   "outputs": [],
   "source": [
    "# res = res.with_columns([\n",
    "#     (pl.col('title') == pl.col('title_bm25')).alias('bm25_title_match'),\n",
    "#     (pl.col('title') == pl.col('title_col')).alias('col_title_match')\n",
    "# ])"
   ]
  },
  {
   "cell_type": "code",
   "execution_count": null,
   "id": "10a15bdd-40f4-44ad-ac70-6af63213f324",
   "metadata": {},
   "outputs": [],
   "source": []
  },
  {
   "cell_type": "code",
   "execution_count": null,
   "id": "4fdd6556-0c0f-4b3a-84d3-eda86adaa7c4",
   "metadata": {},
   "outputs": [],
   "source": []
  },
  {
   "cell_type": "code",
   "execution_count": null,
   "id": "435b55b4-eb21-4d4b-8b15-95bf1a3d5e97",
   "metadata": {},
   "outputs": [],
   "source": []
  },
  {
   "cell_type": "code",
   "execution_count": null,
   "id": "31702514-6ee3-4162-9adc-cfc2cbc26e24",
   "metadata": {},
   "outputs": [],
   "source": []
  },
  {
   "cell_type": "code",
   "execution_count": null,
   "id": "9800029d-1461-4ea4-8b56-158831bb0193",
   "metadata": {},
   "outputs": [],
   "source": []
  },
  {
   "cell_type": "code",
   "execution_count": null,
   "id": "a65ac748-c7db-47c6-bb71-a3e01e62b1fd",
   "metadata": {},
   "outputs": [],
   "source": []
  }
 ],
 "metadata": {
  "kernelspec": {
   "display_name": "Python [conda env:pytorch]",
   "language": "python",
   "name": "conda-env-pytorch-py"
  },
  "language_info": {
   "codemirror_mode": {
    "name": "ipython",
    "version": 3
   },
   "file_extension": ".py",
   "mimetype": "text/x-python",
   "name": "python",
   "nbconvert_exporter": "python",
   "pygments_lexer": "ipython3",
   "version": "3.10.13"
  }
 },
 "nbformat": 4,
 "nbformat_minor": 5
}
