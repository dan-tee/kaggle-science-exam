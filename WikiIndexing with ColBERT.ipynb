{
 "cells": [
  {
   "cell_type": "markdown",
   "id": "9ec1e2d8-3265-4c14-99c1-7bf8e6a56512",
   "metadata": {
    "tags": []
   },
   "source": [
    "# Wikipedia Indexing with ColBERT"
   ]
  },
  {
   "cell_type": "code",
   "execution_count": 49,
   "id": "79a20bc5-89d2-41cf-a9c3-ad6c2569b4dc",
   "metadata": {
    "tags": []
   },
   "outputs": [],
   "source": [
    "import os\n",
    "import glob\n",
    "import polars as pl\n",
    "import polars.selectors as cs\n",
    "import pandas as pd\n",
    "import pyarrow as pa\n",
    "import numpy as np\n",
    "import matplotlib.pyplot as plt\n",
    "import seaborn as sns\n",
    "from tqdm.notebook import tqdm\n",
    "\n",
    "from rank_bm25 import BM25Okapi\n",
    "from colbert.infra import Run, RunConfig, ColBERTConfig\n",
    "from colbert.data import Queries, Collection\n",
    "from colbert import Indexer, Searcher"
   ]
  },
  {
   "cell_type": "code",
   "execution_count": 50,
   "id": "d2ded6d6-ef12-4fde-9050-1da3dd0ec8fe",
   "metadata": {
    "tags": []
   },
   "outputs": [],
   "source": [
    "pl.Config(fmt_str_lengths=2000);"
   ]
  },
  {
   "cell_type": "code",
   "execution_count": 51,
   "id": "7d2e8160-d42c-4986-9b2c-c09a6f7374cf",
   "metadata": {
    "tags": []
   },
   "outputs": [],
   "source": [
    "# conda install pytorch torchvision torchaudio pytorch-cuda=11.8 -c pytorch -c nvidia -y"
   ]
  },
  {
   "cell_type": "code",
   "execution_count": 52,
   "id": "2c3b5c92-cf1b-4dc4-bb78-acaf24655132",
   "metadata": {},
   "outputs": [],
   "source": [
    "#!pip install rank_bm25"
   ]
  },
  {
   "cell_type": "code",
   "execution_count": 53,
   "id": "e73c0300-dbbf-463a-868b-ef27095970fd",
   "metadata": {
    "tags": []
   },
   "outputs": [],
   "source": [
    "# !conda list | grep bitsandbytes"
   ]
  },
  {
   "cell_type": "code",
   "execution_count": 54,
   "id": "dc30dded-8f0c-4399-a124-5b099d2f65fd",
   "metadata": {
    "tags": []
   },
   "outputs": [],
   "source": [
    "# !conda install -c conda-forge pyarrow -y"
   ]
  },
  {
   "cell_type": "code",
   "execution_count": 55,
   "id": "03d06b87-6da5-4e7d-b6f5-510d3e5f95c5",
   "metadata": {
    "tags": []
   },
   "outputs": [],
   "source": [
    "# !conda update -c conda-forge 'auto-gptq[triton]' -y"
   ]
  },
  {
   "cell_type": "code",
   "execution_count": 56,
   "id": "c174f049-e7d5-4c18-ba76-abab2e6ff4ce",
   "metadata": {
    "tags": []
   },
   "outputs": [],
   "source": [
    "# huggingface_hub.login(os.environ['HUGGING_FACE_TOKEN'])"
   ]
  },
  {
   "cell_type": "code",
   "execution_count": 57,
   "id": "34a5363a-7ae1-4ac9-ad64-2e4fd2093900",
   "metadata": {
    "tags": []
   },
   "outputs": [],
   "source": [
    "dfs = []\n",
    "folder_path = './data/daniel_train/aug_30/*'\n",
    "columns = ['question', 'correct', 'incorrect_1', 'incorrect_2', 'incorrect_3', 'incorrect_4', 'title', 'section_title']\n",
    "\n",
    "for csv_file in glob.glob(folder_path):\n",
    "    df = pl.read_csv(csv_file)\n",
    "    dfs.append(df[columns])\n",
    "\n",
    "questions = pl.concat(dfs)"
   ]
  },
  {
   "cell_type": "code",
   "execution_count": 58,
   "id": "03bbd53d-40b4-4876-b61a-337b302ae46a",
   "metadata": {
    "tags": []
   },
   "outputs": [
    {
     "data": {
      "text/plain": [
       "(153622, 14)"
      ]
     },
     "execution_count": 58,
     "metadata": {},
     "output_type": "execute_result"
    }
   ],
   "source": [
    "wiki_sections = pl.read_parquet('./data/wiki_with_category.parquet')\n",
    "wiki_sections.shape"
   ]
  },
  {
   "cell_type": "code",
   "execution_count": 59,
   "id": "ee0f5f9a-e55c-4c5b-b4f8-89b32aa668a4",
   "metadata": {
    "tags": []
   },
   "outputs": [
    {
     "data": {
      "image/png": "[encoded data removed]",
      "text/plain": [
       "<Figure size 600x300 with 1 Axes>"
      ]
     },
     "metadata": {},
     "output_type": "display_data"
    }
   ],
   "source": [
    "plt.figure(figsize=[6,3])\n",
    "sns.histplot(wiki_sections['section_text'].str.lengths(), binrange=[0, 10000]);"
   ]
  },
  {
   "cell_type": "code",
   "execution_count": 70,
   "id": "1fb9d27d-7df5-41e1-bbd3-0573084db962",
   "metadata": {
    "tags": []
   },
   "outputs": [
    {
     "data": {
      "text/plain": [
       "((281127, 6),\n",
       " ['passage_id',\n",
       "  'section_id',\n",
       "  'title',\n",
       "  'section_title',\n",
       "  'passage_text',\n",
       "  'section_passage_num'])"
      ]
     },
     "execution_count": 70,
     "metadata": {},
     "output_type": "execute_result"
    }
   ],
   "source": [
    "max_words = 200\n",
    "def split_text_into_chunks(text):\n",
    "    chunks = []\n",
    "    current_chunk = []\n",
    "    current_length = 0\n",
    "    last_period = -1\n",
    "    section_words = text.split()\n",
    "\n",
    "    for word in section_words:\n",
    "        if word.endswith('.'):\n",
    "            last_period = current_length\n",
    "\n",
    "        if current_length < max_words:\n",
    "            current_length += 1\n",
    "        else:\n",
    "            if last_period > -1:\n",
    "                cut_point = last_period + 1\n",
    "                chunks.append(\" \".join(section_words[:cut_point]))\n",
    "                section_words = section_words[cut_point:]\n",
    "                last_period = -1\n",
    "                current_length = 0\n",
    "            else:\n",
    "                # If no period exists, just split it at max_words\n",
    "                chunks.append(\" \".join(section_words[:current_length]))\n",
    "                section_words = section_words[current_length:]\n",
    "                current_length = 0           \n",
    "\n",
    "    if section_words:\n",
    "        chunks.append(\" \".join(section_words))\n",
    "    \n",
    "    return chunks\n",
    "\n",
    "passages = wiki_sections[['section_id', 'title', 'section_title', 'section_text']]\n",
    "passages = passages.with_columns(\n",
    "    pl.col(\"section_text\")\n",
    "      .apply(split_text_into_chunks)\\\n",
    "      .cast(pl.List(pl.Utf8)).alias('passage_text')\\\n",
    ")\n",
    "passages = passages.drop('section_text')\n",
    "passages = passages.explode('passage_text')\n",
    "passages = passages.filter(pl.col('passage_text').is_not_null())\\\n",
    "                   .with_row_count('passage_id')\n",
    "\n",
    "passages = passages.with_columns(pl.col('passage_text').str.replace_all('\\n', ' '))                      \n",
    "passages_file = './data/wiki_passages_{max_words}'\n",
    "passages[['passage_id', 'passage_text']].write_csv(passages_file + '_colbert.tsv', separator='\\t', has_header=False)\n",
    "passages.write_parquet(passages_file+'.parquet')\n",
    "passages = passages.with_columns(pl.col('passage_id').rank(method=\"min\").over([\"section_id\"]).alias('section_passage_num'))\n",
    "passages.shape, passages.columns"
   ]
  },
  {
   "cell_type": "code",
   "execution_count": 71,
   "id": "57f469d6-38f7-4043-b695-c6cfe7874a75",
   "metadata": {
    "tags": []
   },
   "outputs": [
    {
     "data": {
      "image/png": "[encoded data removed]",
      "text/plain": [
       "<Figure size 600x300 with 1 Axes>"
      ]
     },
     "metadata": {},
     "output_type": "display_data"
    }
   ],
   "source": [
    "plt.figure(figsize=[6,3])\n",
    "sns.histplot(passages['passage_text'].str.lengths(), binrange=[0, 15000]);"
   ]
  },
  {
   "cell_type": "code",
   "execution_count": 72,
   "id": "7340be1f-62a1-4651-91bf-b650ab798078",
   "metadata": {
    "tags": []
   },
   "outputs": [
    {
     "data": {
      "text/html": [
       "<div><style>\n",
       ".dataframe > thead > tr > th,\n",
       ".dataframe > tbody > tr > td {\n",
       "  text-align: right;\n",
       "}\n",
       "</style>\n",
       "<small>shape: (1, 6)</small><table border=\"1\" class=\"dataframe\"><thead><tr><th>passage_id</th><th>section_id</th><th>title</th><th>section_title</th><th>passage_text</th><th>section_passage_num</th></tr><tr><td>u32</td><td>u32</td><td>str</td><td>str</td><td>str</td><td>u32</td></tr></thead><tbody><tr><td>138897</td><td>72837</td><td>&quot;Biologist&quot;</td><td>&quot;Research&quot;</td><td>&quot;File:Martinus Willem Beijerinck in the lab in 1921.jpg Biologists who work in basic research formulate theories and devise experiments to advance human knowledge on life including topics such as evolution, biochemistry, molecular biology, neuroscience and cell biology. Biologists typically conduct laboratory experiments involving animals, plants, microorganisms or biomolecules. However, a small part of biological research also occurs outside the laboratory and may involve natural observation rather than experimentation. For example, a botanist may investigate the plant species present in a particular environment, while an ecologist might study how a forest area recovers after a fire. Biologists who work in applied research use instead the accomplishments gained by basic research to further knowledge in particular fields or applications. For example, this applied research may be used to develop new pharmaceutical drugs, treatments and medical diagnostic tests. Biological scientists conducting applied research and product development in private industry may be required to describe their research plans or results to non-scientists who are in a position to veto or approve their ideas. These scientists must consider the business effects of their work.&quot;</td><td>1</td></tr></tbody></table></div>"
      ],
      "text/plain": [
       "shape: (1, 6)\n",
       "┌────────────┬────────────┬───────────┬───────────────┬──────────────────────┬─────────────────────┐\n",
       "│ passage_id ┆ section_id ┆ title     ┆ section_title ┆ passage_text         ┆ section_passage_num │\n",
       "│ ---        ┆ ---        ┆ ---       ┆ ---           ┆ ---                  ┆ ---                 │\n",
       "│ u32        ┆ u32        ┆ str       ┆ str           ┆ str                  ┆ u32                 │\n",
       "╞════════════╪════════════╪═══════════╪═══════════════╪══════════════════════╪═════════════════════╡\n",
       "│ 138897     ┆ 72837      ┆ Biologist ┆ Research      ┆ File:Martinus Willem ┆ 1                   │\n",
       "│            ┆            ┆           ┆               ┆ Beijerinck in the    ┆                     │\n",
       "│            ┆            ┆           ┆               ┆ lab in 1921.jpg      ┆                     │\n",
       "│            ┆            ┆           ┆               ┆ Biologists who work  ┆                     │\n",
       "│            ┆            ┆           ┆               ┆ in basic research    ┆                     │\n",
       "│            ┆            ┆           ┆               ┆ formulate theories   ┆                     │\n",
       "│            ┆            ┆           ┆               ┆ and devise           ┆                     │\n",
       "│            ┆            ┆           ┆               ┆ experiments to       ┆                     │\n",
       "│            ┆            ┆           ┆               ┆ advance human        ┆                     │\n",
       "│            ┆            ┆           ┆               ┆ knowledge on life    ┆                     │\n",
       "│            ┆            ┆           ┆               ┆ including topics     ┆                     │\n",
       "│            ┆            ┆           ┆               ┆ such as evolution,   ┆                     │\n",
       "│            ┆            ┆           ┆               ┆ biochemistry,        ┆                     │\n",
       "│            ┆            ┆           ┆               ┆ molecular biology,   ┆                     │\n",
       "│            ┆            ┆           ┆               ┆ neuroscience and     ┆                     │\n",
       "│            ┆            ┆           ┆               ┆ cell biology.        ┆                     │\n",
       "│            ┆            ┆           ┆               ┆ Biologists typically ┆                     │\n",
       "│            ┆            ┆           ┆               ┆ conduct laboratory   ┆                     │\n",
       "│            ┆            ┆           ┆               ┆ experiments          ┆                     │\n",
       "│            ┆            ┆           ┆               ┆ involving animals,   ┆                     │\n",
       "│            ┆            ┆           ┆               ┆ plants,              ┆                     │\n",
       "│            ┆            ┆           ┆               ┆ microorganisms or    ┆                     │\n",
       "│            ┆            ┆           ┆               ┆ biomolecules.        ┆                     │\n",
       "│            ┆            ┆           ┆               ┆ However, a small     ┆                     │\n",
       "│            ┆            ┆           ┆               ┆ part of biological   ┆                     │\n",
       "│            ┆            ┆           ┆               ┆ research also occurs ┆                     │\n",
       "│            ┆            ┆           ┆               ┆ outside the          ┆                     │\n",
       "│            ┆            ┆           ┆               ┆ laboratory and may   ┆                     │\n",
       "│            ┆            ┆           ┆               ┆ involve natural      ┆                     │\n",
       "│            ┆            ┆           ┆               ┆ observation rather   ┆                     │\n",
       "│            ┆            ┆           ┆               ┆ than                 ┆                     │\n",
       "│            ┆            ┆           ┆               ┆ experimentation. For ┆                     │\n",
       "│            ┆            ┆           ┆               ┆ example, a botanist  ┆                     │\n",
       "│            ┆            ┆           ┆               ┆ may investigate the  ┆                     │\n",
       "│            ┆            ┆           ┆               ┆ plant species        ┆                     │\n",
       "│            ┆            ┆           ┆               ┆ present in a         ┆                     │\n",
       "│            ┆            ┆           ┆               ┆ particular           ┆                     │\n",
       "│            ┆            ┆           ┆               ┆ environment, while   ┆                     │\n",
       "│            ┆            ┆           ┆               ┆ an ecologist might   ┆                     │\n",
       "│            ┆            ┆           ┆               ┆ study how a forest   ┆                     │\n",
       "│            ┆            ┆           ┆               ┆ area recovers after  ┆                     │\n",
       "│            ┆            ┆           ┆               ┆ a fire. Biologists   ┆                     │\n",
       "│            ┆            ┆           ┆               ┆ who work in applied  ┆                     │\n",
       "│            ┆            ┆           ┆               ┆ research use instead ┆                     │\n",
       "│            ┆            ┆           ┆               ┆ the accomplishments  ┆                     │\n",
       "│            ┆            ┆           ┆               ┆ gained by basic      ┆                     │\n",
       "│            ┆            ┆           ┆               ┆ research to further  ┆                     │\n",
       "│            ┆            ┆           ┆               ┆ knowledge in         ┆                     │\n",
       "│            ┆            ┆           ┆               ┆ particular fields or ┆                     │\n",
       "│            ┆            ┆           ┆               ┆ applications. For    ┆                     │\n",
       "│            ┆            ┆           ┆               ┆ example, this        ┆                     │\n",
       "│            ┆            ┆           ┆               ┆ applied research may ┆                     │\n",
       "│            ┆            ┆           ┆               ┆ be used to develop   ┆                     │\n",
       "│            ┆            ┆           ┆               ┆ new pharmaceutical   ┆                     │\n",
       "│            ┆            ┆           ┆               ┆ drugs, treatments    ┆                     │\n",
       "│            ┆            ┆           ┆               ┆ and medical          ┆                     │\n",
       "│            ┆            ┆           ┆               ┆ diagnostic tests.    ┆                     │\n",
       "│            ┆            ┆           ┆               ┆ Biological           ┆                     │\n",
       "│            ┆            ┆           ┆               ┆ scientists           ┆                     │\n",
       "│            ┆            ┆           ┆               ┆ conducting applied   ┆                     │\n",
       "│            ┆            ┆           ┆               ┆ research and product ┆                     │\n",
       "│            ┆            ┆           ┆               ┆ development in       ┆                     │\n",
       "│            ┆            ┆           ┆               ┆ private industry may ┆                     │\n",
       "│            ┆            ┆           ┆               ┆ be required to       ┆                     │\n",
       "│            ┆            ┆           ┆               ┆ describe their       ┆                     │\n",
       "│            ┆            ┆           ┆               ┆ research plans or    ┆                     │\n",
       "│            ┆            ┆           ┆               ┆ results to           ┆                     │\n",
       "│            ┆            ┆           ┆               ┆ non-scientists who   ┆                     │\n",
       "│            ┆            ┆           ┆               ┆ are in a position to ┆                     │\n",
       "│            ┆            ┆           ┆               ┆ veto or approve      ┆                     │\n",
       "│            ┆            ┆           ┆               ┆ their ideas. These   ┆                     │\n",
       "│            ┆            ┆           ┆               ┆ scientists must      ┆                     │\n",
       "│            ┆            ┆           ┆               ┆ consider the         ┆                     │\n",
       "│            ┆            ┆           ┆               ┆ business effects of  ┆                     │\n",
       "│            ┆            ┆           ┆               ┆ their work.          ┆                     │\n",
       "└────────────┴────────────┴───────────┴───────────────┴──────────────────────┴─────────────────────┘"
      ]
     },
     "execution_count": 72,
     "metadata": {},
     "output_type": "execute_result"
    }
   ],
   "source": [
    "passages.filter(pl.col('passage_id') == 138897)"
   ]
  },
  {
   "cell_type": "code",
   "execution_count": 73,
   "id": "d6c978fa-4ef7-4795-bcf3-1f9117ee1b4a",
   "metadata": {
    "tags": []
   },
   "outputs": [
    {
     "data": {
      "text/html": [
       "<div><style>\n",
       ".dataframe > thead > tr > th,\n",
       ".dataframe > tbody > tr > td {\n",
       "  text-align: right;\n",
       "}\n",
       "</style>\n",
       "<small>shape: (1, 3)</small><table border=\"1\" class=\"dataframe\"><thead><tr><th>title</th><th>section_title</th><th>section_text</th></tr><tr><td>str</td><td>str</td><td>str</td></tr></thead><tbody><tr><td>&quot;Hylomorphism (computer science)&quot;</td><td>&quot;Hylomorphisms in practice&quot;</td><td>&quot;Lists\n",
       "List (computing) are common data structures as they naturally reflect linear computational processes.  These processes arise in repeated (Iteration) function calls.  Therefore, it is sometimes necessary to generate a temporary list of intermediate results before reducing this list to a single result.\n",
       "\n",
       "One example of a commonly encountered hylomorphism is the canonical factorial function.\n",
       "\n",
       "syntaxhighlightlanghaskell\n",
       "factorial :: Integer -&gt; Integer\n",
       "factorial n\n",
       "  | n == 0 = 1\n",
       "  | n &gt; 0 = n * factorial (n - 1)\n",
       "syntaxhighlight\n",
       "\n",
       "In the previous example (written in Haskell (programming language), a purely functional programming language) it can be seen that this function, applied to any given valid input, will generate a linear call tree isomorphism to a list. For example, given n = 5 it will produce the following:\n",
       "\n",
       " factorial 5 = 5 * (factorial 4) = 120\n",
       " factorial 4 = 4 * (factorial 3) = 24\n",
       " factorial 3 = 3 * (factorial 2) = 6\n",
       " factorial 2 = 2 * (factorial 1) = 2\n",
       " factorial 1 = 1 * (factorial 0) = 1\n",
       " factorial 0 = 1\n",
       "\n",
       "In this example, the anamorphic part of the process is the generation of the call tree which is isomorphic to the list code[1, 1, 2, 3, 4, 5]code. The catamorphism, then, is the calculation of the product (mathematics) of the element (mathematics) of this list. Thus, in the notation given above, the factorial function may be written as textfactorial = [![(1,times),(g, p)]!] where g n = (n, n - 1) and p n = (n = 0).\n",
       "\n",
       "Trees\n",
       "\n",
       "However, the term &#x27;hylomorphism&#x27; does not apply solely to functions acting upon isomorphisms of lists. For example, a hylomorphism may also be defined by generating a non-linear call tree which is then collapsed. An example of such a function is the function to generate the nth Term (logic) of the Fibonacci sequence.\n",
       "\n",
       "syntaxhighlightlanghaskell\n",
       " fibonacci :: Integer -&gt; Integer\n",
       " fibonacci n\n",
       "   | n == 0 = 0\n",
       "   | n == 1 = 1\n",
       "   | n &gt; 1 = fibonacci (n - 2) + fibonacci (n - 1)\n",
       "syntaxhighlight\n",
       "\n",
       "Image:Fib 4.png\n",
       "\n",
       "This function, again applied …</td></tr></tbody></table></div>"
      ],
      "text/plain": [
       "shape: (1, 3)\n",
       "┌─────────────────────────────────┬───────────────────────────┬────────────────────────────────────┐\n",
       "│ title                           ┆ section_title             ┆ section_text                       │\n",
       "│ ---                             ┆ ---                       ┆ ---                                │\n",
       "│ str                             ┆ str                       ┆ str                                │\n",
       "╞═════════════════════════════════╪═══════════════════════════╪════════════════════════════════════╡\n",
       "│ Hylomorphism (computer science) ┆ Hylomorphisms in practice ┆ Lists                              │\n",
       "│                                 ┆                           ┆ List (computing) are common data   │\n",
       "│                                 ┆                           ┆ structures as they naturally       │\n",
       "│                                 ┆                           ┆ reflect linear computational       │\n",
       "│                                 ┆                           ┆ processes.  These processes arise  │\n",
       "│                                 ┆                           ┆ in repeated (Iteration) function   │\n",
       "│                                 ┆                           ┆ calls.  Therefore, it is sometimes │\n",
       "│                                 ┆                           ┆ necessary to generate a temporary  │\n",
       "│                                 ┆                           ┆ list of intermediate results       │\n",
       "│                                 ┆                           ┆ before reducing this list to a     │\n",
       "│                                 ┆                           ┆ single result.                     │\n",
       "│                                 ┆                           ┆                                    │\n",
       "│                                 ┆                           ┆ One example of a commonly          │\n",
       "│                                 ┆                           ┆ encountered hylomorphism is the    │\n",
       "│                                 ┆                           ┆ canonical factorial function.      │\n",
       "│                                 ┆                           ┆                                    │\n",
       "│                                 ┆                           ┆ syntaxhighlightlanghaskell         │\n",
       "│                                 ┆                           ┆ factorial :: Integer -> Integer    │\n",
       "│                                 ┆                           ┆ factorial n                        │\n",
       "│                                 ┆                           ┆   | n == 0 = 1                     │\n",
       "│                                 ┆                           ┆   | n > 0 = n * factorial (n - 1)  │\n",
       "│                                 ┆                           ┆ syntaxhighlight                    │\n",
       "│                                 ┆                           ┆                                    │\n",
       "│                                 ┆                           ┆ In the previous example (written   │\n",
       "│                                 ┆                           ┆ in Haskell (programming language), │\n",
       "│                                 ┆                           ┆ a purely functional programming    │\n",
       "│                                 ┆                           ┆ language) it can be seen that this │\n",
       "│                                 ┆                           ┆ function, applied to any given     │\n",
       "│                                 ┆                           ┆ valid input, will generate a       │\n",
       "│                                 ┆                           ┆ linear call tree isomorphism to a  │\n",
       "│                                 ┆                           ┆ list. For example, given n = 5 it  │\n",
       "│                                 ┆                           ┆ will produce the following:        │\n",
       "│                                 ┆                           ┆                                    │\n",
       "│                                 ┆                           ┆ factorial 5 = 5 * (factorial 4) =  │\n",
       "│                                 ┆                           ┆ 120                                │\n",
       "│                                 ┆                           ┆ factorial 4 = 4 * (factorial 3) =  │\n",
       "│                                 ┆                           ┆ 24                                 │\n",
       "│                                 ┆                           ┆ factorial 3 = 3 * (factorial 2) =  │\n",
       "│                                 ┆                           ┆ 6                                  │\n",
       "│                                 ┆                           ┆ factorial 2 = 2 * (factorial 1) =  │\n",
       "│                                 ┆                           ┆ 2                                  │\n",
       "│                                 ┆                           ┆ factorial 1 = 1 * (factorial 0) =  │\n",
       "│                                 ┆                           ┆ 1                                  │\n",
       "│                                 ┆                           ┆  factorial 0 = 1                   │\n",
       "│                                 ┆                           ┆                                    │\n",
       "│                                 ┆                           ┆ In this example, the anamorphic    │\n",
       "│                                 ┆                           ┆ part of the process is the         │\n",
       "│                                 ┆                           ┆ generation of the call tree which  │\n",
       "│                                 ┆                           ┆ is isomorphic to the list code[1,  │\n",
       "│                                 ┆                           ┆ 1, 2, 3, 4, 5]code. The            │\n",
       "│                                 ┆                           ┆ catamorphism, then, is the         │\n",
       "│                                 ┆                           ┆ calculation of the product         │\n",
       "│                                 ┆                           ┆ (mathematics) of the element       │\n",
       "│                                 ┆                           ┆ (mathematics) of this list. Thus,  │\n",
       "│                                 ┆                           ┆ in the notation given above, the   │\n",
       "│                                 ┆                           ┆ factorial function may be written  │\n",
       "│                                 ┆                           ┆ as textfactorial =                 │\n",
       "│                                 ┆                           ┆ [![(1,times),(g, p)]!] where g n = │\n",
       "│                                 ┆                           ┆ (n, n - 1) and p n = (n = 0).      │\n",
       "│                                 ┆                           ┆                                    │\n",
       "│                                 ┆                           ┆ Trees                              │\n",
       "│                                 ┆                           ┆                                    │\n",
       "│                                 ┆                           ┆ However, the term 'hylomorphism'   │\n",
       "│                                 ┆                           ┆ does not apply solely to functions │\n",
       "│                                 ┆                           ┆ acting upon isomorphisms of lists. │\n",
       "│                                 ┆                           ┆ For example, a hylomorphism may    │\n",
       "│                                 ┆                           ┆ also be defined by generating a    │\n",
       "│                                 ┆                           ┆ non-linear call tree which is then │\n",
       "│                                 ┆                           ┆ collapsed. An example of such a    │\n",
       "│                                 ┆                           ┆ function is the function to        │\n",
       "│                                 ┆                           ┆ generate the nth Term (logic) of   │\n",
       "│                                 ┆                           ┆ the Fibonacci sequence.            │\n",
       "│                                 ┆                           ┆                                    │\n",
       "│                                 ┆                           ┆ syntaxhighlightlanghaskell         │\n",
       "│                                 ┆                           ┆  fibonacci :: Integer -> Integer   │\n",
       "│                                 ┆                           ┆  fibonacci n                       │\n",
       "│                                 ┆                           ┆    | n == 0 = 0                    │\n",
       "│                                 ┆                           ┆    | n == 1 = 1                    │\n",
       "│                                 ┆                           ┆ | n > 1 = fibonacci (n - 2) +      │\n",
       "│                                 ┆                           ┆ fibonacci (n - 1)                  │\n",
       "│                                 ┆                           ┆ syntaxhighlight                    │\n",
       "│                                 ┆                           ┆                                    │\n",
       "│                                 ┆                           ┆ Image:Fib 4.png                    │\n",
       "│                                 ┆                           ┆                                    │\n",
       "│                                 ┆                           ┆ This function, again applied t…    │\n",
       "└─────────────────────────────────┴───────────────────────────┴────────────────────────────────────┘"
      ]
     },
     "execution_count": 73,
     "metadata": {},
     "output_type": "execute_result"
    }
   ],
   "source": [
    "wiki_sections.filter(pl.col('section_id') == 120418)[['title', 'section_title', 'section_text']]"
   ]
  },
  {
   "cell_type": "code",
   "execution_count": 74,
   "id": "c8d55290-7778-49f2-8a53-ab6f3d370b0c",
   "metadata": {
    "tags": []
   },
   "outputs": [],
   "source": [
    "tokenized_corpus = [doc.split(\" \") for doc in passages['passage_text']]\n",
    "bm25_corpus = BM25Okapi(tokenized_corpus)"
   ]
  },
  {
   "cell_type": "code",
   "execution_count": 75,
   "id": "9f653bc7-8df5-4078-b4da-d39576f62cad",
   "metadata": {
    "tags": []
   },
   "outputs": [
    {
     "data": {
      "application/vnd.jupyter.widget-view+json": {
       "model_id": "25665998d2f94b1caed9f06b53ede166",
       "version_major": 2,
       "version_minor": 0
      },
      "text/plain": [
       "  0%|          | 0/20 [00:00<?, ?it/s]"
      ]
     },
     "metadata": {},
     "output_type": "display_data"
    }
   ],
   "source": [
    "def bm25_scores(query):\n",
    "    tokenized_query = query.split(\" \")\n",
    "    scores = pd.Series(bm25_corpus.get_scores(tokenized_query))\n",
    "    scores = scores.sort_values(ascending=False)\n",
    "    return scores\n",
    "\n",
    "scores = []\n",
    "n_questions = 20\n",
    "n_results_per_question = 2\n",
    "for question in tqdm(questions['question'][:n_questions]):\n",
    "    q_scores = pd.Series(bm25_scores(question))\n",
    "    top_10 = q_scores.sort_values(ascending=False)[:n_results_per_question].index.to_list()\n",
    "    scores.append(top_10)"
   ]
  },
  {
   "cell_type": "code",
   "execution_count": 76,
   "id": "b1e60bf6-8596-4a3d-9e8c-175b82daf2ae",
   "metadata": {
    "tags": []
   },
   "outputs": [],
   "source": [
    "# pl.Series(\"bm25\", scores, dtype=pl.List(pl.UInt32))"
   ]
  },
  {
   "cell_type": "code",
   "execution_count": 77,
   "id": "50433e62-6bae-4085-8e56-19272865173e",
   "metadata": {
    "tags": []
   },
   "outputs": [],
   "source": [
    "bm25_res = pl.Series(\"bm25\", scores, dtype=pl.List(pl.UInt32))\n",
    "bm25_res = questions[:n_questions][['question', 'title', 'section_title']].with_columns(bm25_res)\n",
    "bm25_res = bm25_res.with_row_count('qid')\n",
    "bm25_res = bm25_res.explode('bm25')\n",
    "bm25_res = bm25_res.with_columns(pl.lit(1).alias(\"ones\"))\\\n",
    "                   .select([\n",
    "                       pl.all().exclude(\"ones\"),\n",
    "                       pl.col(\"ones\").cumsum().over(\"qid\").flatten().alias(\"result_idx\")\n",
    "                   ])\n",
    "bm25_res = bm25_res.join(passages, how='left', left_on='bm25', right_on='passage_id', suffix='_bm25', validate='m:1')\n",
    "# bm25_res.filter(pl.col('result_idx') < 4)"
   ]
  },
  {
   "cell_type": "markdown",
   "id": "1802e4d8-6515-4589-a6b7-06fd52e9baaf",
   "metadata": {},
   "source": [
    "## Using ColBERT to find Wiki Section"
   ]
  },
  {
   "cell_type": "code",
   "execution_count": 78,
   "id": "9ef46270-5875-48fb-9fe2-29bf3d793b1e",
   "metadata": {},
   "outputs": [],
   "source": [
    "queries = questions.with_row_count('qid')[['qid', 'question']]\n",
    "queries = queries.with_columns(pl.col('question').str.replace_all('\\n', ' ')) \n",
    "queries_file = './data/wiki_queries.tsv'\n",
    "queries.write_csv(queries_file, separator='\\t', has_header=False)"
   ]
  },
  {
   "cell_type": "code",
   "execution_count": 80,
   "id": "f6bb2981-b1cf-446d-b066-116f657dda94",
   "metadata": {
    "tags": []
   },
   "outputs": [
    {
     "name": "stdout",
     "output_type": "stream",
     "text": [
      "[Aug 31, 15:07:54] #> Loading collection...\n",
      "0M \n",
      "[Aug 31, 15:07:54] #> Loading the queries from ./data/wiki_queries.tsv ...\n",
      "[Aug 31, 15:07:54] #> Got 1000 queries. All QIDs are unique.\n",
      "\n"
     ]
    },
    {
     "data": {
      "text/plain": [
       "'Loaded 1000 queries and 281,127 passages'"
      ]
     },
     "execution_count": 80,
     "metadata": {},
     "output_type": "execute_result"
    }
   ],
   "source": [
    "c_collection = Collection(passages_file + '_colbert.tsv')\n",
    "c_queries = Queries(queries_file)\n",
    "f'Loaded {len(c_queries)} queries and {len(c_collection):,} passages'"
   ]
  },
  {
   "cell_type": "code",
   "execution_count": 81,
   "id": "51f62a73-3084-49f8-9e19-45dab7fcb213",
   "metadata": {
    "tags": []
   },
   "outputs": [],
   "source": [
    "# ColBERTConfig?"
   ]
  },
  {
   "cell_type": "code",
   "execution_count": 82,
   "id": "db6f01a8-acbc-42b1-b7f6-f8f0c0d68046",
   "metadata": {
    "tags": []
   },
   "outputs": [],
   "source": [
    "nbits = 2 # encode each dimension with 2 bits\n",
    "doc_maxlen = 512   # passages are tuncated to be around 512 tokens\n",
    "dim = 128 # 128 is max for BERT\n",
    "\n",
    "checkpoint = './checkpoints/colbertv2.0'\n",
    "experiment = 'wiki-science'\n",
    "indexer_name = f\"wiki_pages_index_{nbits}bits_max_words{max_words}\"\n",
    "\n",
    "os.environ['COLBERT_LOAD_TORCH_EXTENSION_VERBOSE'] = 'True'\n",
    "\n",
    "config = ColBERTConfig(\n",
    "    doc_maxlen=doc_maxlen,\n",
    "    nbits=nbits,\n",
    "    dim=dim\n",
    ")"
   ]
  },
  {
   "cell_type": "code",
   "execution_count": 86,
   "id": "9b14b8e2-8820-4591-8436-be1a5694e432",
   "metadata": {
    "tags": []
   },
   "outputs": [
    {
     "name": "stdout",
     "output_type": "stream",
     "text": [
      "\n",
      "\n",
      "[Aug 31, 15:09:09] #> Note: Output directory /home/daniel/code/kaggle-science-exam/experiments/wiki-science/indexes/wiki_pages_index_2bits_max_words200 already exists\n",
      "\n",
      "\n",
      "#> Starting...\n",
      "nranks = 1 \t num_gpus = 1 \t device=0\n",
      "{\n",
      "    \"query_token_id\": \"[unused0]\",\n",
      "    \"doc_token_id\": \"[unused1]\",\n",
      "    \"query_token\": \"[Q]\",\n",
      "    \"doc_token\": \"[D]\",\n",
      "    \"ncells\": null,\n",
      "    \"centroid_score_threshold\": null,\n",
      "    \"ndocs\": null,\n",
      "    \"index_path\": null,\n",
      "    \"nbits\": 2,\n",
      "    \"kmeans_niters\": 20,\n",
      "    \"resume\": false,\n",
      "    \"similarity\": \"cosine\",\n",
      "    \"bsize\": 64,\n",
      "    \"accumsteps\": 1,\n",
      "    \"lr\": 1e-5,\n",
      "    \"maxsteps\": 400000,\n",
      "    \"save_every\": null,\n",
      "    \"warmup\": 20000,\n",
      "    \"warmup_bert\": null,\n",
      "    \"relu\": false,\n",
      "    \"nway\": 64,\n",
      "    \"use_ib_negatives\": true,\n",
      "    \"reranker\": false,\n",
      "    \"distillation_alpha\": 1.0,\n",
      "    \"ignore_scores\": false,\n",
      "    \"model_name\": null,\n",
      "    \"query_maxlen\": 32,\n",
      "    \"attend_to_mask_tokens\": false,\n",
      "    \"interaction\": \"colbert\",\n",
      "    \"dim\": 128,\n",
      "    \"doc_maxlen\": 512,\n",
      "    \"mask_punctuation\": true,\n",
      "    \"checkpoint\": \".\\/checkpoints\\/colbertv2.0\",\n",
      "    \"triples\": \"\\/future\\/u\\/okhattab\\/root\\/unit\\/experiments\\/2021.10\\/downstream.distillation.round2.2_score\\/round2.nway6.cosine.ib\\/examples.64.json\",\n",
      "    \"collection\": \".\\/data\\/wiki_passages_{max_words}_colbert.tsv\",\n",
      "    \"queries\": \"\\/future\\/u\\/okhattab\\/data\\/MSMARCO\\/queries.train.tsv\",\n",
      "    \"index_name\": \"wiki_pages_index_2bits_max_words200\",\n",
      "    \"overwrite\": false,\n",
      "    \"root\": \"\\/home\\/daniel\\/code\\/kaggle-science-exam\\/experiments\",\n",
      "    \"experiment\": \"wiki-science\",\n",
      "    \"index_root\": null,\n",
      "    \"name\": \"2023-08\\/31\\/14.27.15\",\n",
      "    \"rank\": 0,\n",
      "    \"nranks\": 1,\n",
      "    \"amp\": true,\n",
      "    \"gpus\": 1\n",
      "}\n",
      "[Aug 31, 15:09:13] [0] \t\t # of sampled PIDs = 92932 \t sampled_pids[:3] = [218428, 5331, 156573]\n",
      "[Aug 31, 15:09:13] [0] \t\t #> Encoding 92932 passages..\n",
      "[Aug 31, 15:12:55] [0] \t\t avg_doclen_est = 181.7532958984375 \t len(local_sample) = 92,932\n",
      "[Aug 31, 15:12:57] [0] \t\t Creaing 65,536 partitions.\n",
      "[Aug 31, 15:12:57] [0] \t\t *Estimated* 51,095,758 embeddings.\n",
      "[Aug 31, 15:12:57] [0] \t\t #> Saving the indexing plan to /home/daniel/code/kaggle-science-exam/experiments/wiki-science/indexes/wiki_pages_index_2bits_max_words200/plan.json ..\n",
      "Sampling a subset of 16777216 / 16840698 for training\n",
      "Clustering 16777216 points in 128D to 65536 clusters, redo 1 times, 20 iterations\n",
      "  Preprocessing in 3.21 s\n",
      "  Iteration 19 (276.90 s, search 268.06 s): objective=3.77738e+06 imbalance=1.276 nsplit=0       \n",
      "[Aug 31, 15:17:41] Loading decompress_residuals_cpp extension (set COLBERT_LOAD_TORCH_EXTENSION_VERBOSE=True for more info)...\n"
     ]
    },
    {
     "name": "stderr",
     "output_type": "stream",
     "text": [
      "Using /home/daniel/.cache/torch_extensions/py38_cu117 as PyTorch extensions root...\n",
      "Detected CUDA files, patching ldflags\n",
      "Emitting ninja build file /home/daniel/.cache/torch_extensions/py38_cu117/decompress_residuals_cpp/build.ninja...\n",
      "Building extension module decompress_residuals_cpp...\n",
      "Allowing ninja to set a default number of workers... (overridable by setting the environment variable MAX_JOBS=N)\n"
     ]
    },
    {
     "name": "stdout",
     "output_type": "stream",
     "text": [
      "ninja: no work to do.\n",
      "[Aug 31, 15:17:41] Loading packbits_cpp extension (set COLBERT_LOAD_TORCH_EXTENSION_VERBOSE=True for more info)...\n"
     ]
    },
    {
     "name": "stderr",
     "output_type": "stream",
     "text": [
      "Loading extension module decompress_residuals_cpp...\n",
      "Using /home/daniel/.cache/torch_extensions/py38_cu117 as PyTorch extensions root...\n",
      "Detected CUDA files, patching ldflags\n",
      "Emitting ninja build file /home/daniel/.cache/torch_extensions/py38_cu117/packbits_cpp/build.ninja...\n",
      "Building extension module packbits_cpp...\n",
      "Allowing ninja to set a default number of workers... (overridable by setting the environment variable MAX_JOBS=N)\n",
      "Loading extension module packbits_cpp...\n",
      "0it [00:00, ?it/s]"
     ]
    },
    {
     "name": "stdout",
     "output_type": "stream",
     "text": [
      "ninja: no work to do.\n",
      "[0.034, 0.035, 0.034, 0.031, 0.033, 0.034, 0.034, 0.031, 0.032, 0.033, 0.032, 0.032, 0.033, 0.034, 0.032, 0.035, 0.029, 0.032, 0.033, 0.032, 0.033, 0.034, 0.033, 0.034, 0.032, 0.032, 0.034, 0.033, 0.033, 0.035, 0.033, 0.036, 0.034, 0.031, 0.033, 0.031, 0.036, 0.032, 0.032, 0.038, 0.035, 0.032, 0.033, 0.035, 0.032, 0.032, 0.032, 0.037, 0.034, 0.032, 0.033, 0.033, 0.034, 0.034, 0.033, 0.032, 0.039, 0.034, 0.038, 0.032, 0.033, 0.035, 0.034, 0.036, 0.034, 0.034, 0.037, 0.035, 0.033, 0.032, 0.036, 0.032, 0.033, 0.034, 0.033, 0.035, 0.036, 0.035, 0.035, 0.036, 0.034, 0.032, 0.034, 0.035, 0.032, 0.033, 0.032, 0.034, 0.032, 0.036, 0.033, 0.036, 0.033, 0.035, 0.032, 0.033, 0.037, 0.032, 0.033, 0.033, 0.033, 0.036, 0.035, 0.033, 0.036, 0.031, 0.032, 0.032, 0.034, 0.033, 0.034, 0.035, 0.035, 0.032, 0.035, 0.032, 0.035, 0.034, 0.032, 0.035, 0.032, 0.033, 0.035, 0.035, 0.031, 0.037, 0.033, 0.032]\n",
      "[Aug 31, 15:17:41] #> Got bucket_cutoffs_quantiles = tensor([0.2500, 0.5000, 0.7500], device='cuda:0') and bucket_weights_quantiles = tensor([0.1250, 0.3750, 0.6250, 0.8750], device='cuda:0')\n",
      "[Aug 31, 15:17:41] #> Got bucket_cutoffs = tensor([-0.0269,  0.0001,  0.0272], device='cuda:0') and bucket_weights = tensor([-0.0473, -0.0125,  0.0127,  0.0477], device='cuda:0')\n",
      "[Aug 31, 15:17:41] avg_residual = 0.0335693359375\n",
      "[Aug 31, 15:17:41] [0] \t\t #> Encoding 25000 passages..\n",
      "[Aug 31, 15:18:41] [0] \t\t #> Saving chunk 0: \t 25,000 passages and 4,449,620 embeddings. From #0 onward.\n"
     ]
    },
    {
     "name": "stderr",
     "output_type": "stream",
     "text": [
      "1it [01:01, 61.22s/it]"
     ]
    },
    {
     "name": "stdout",
     "output_type": "stream",
     "text": [
      "[Aug 31, 15:18:43] [0] \t\t #> Encoding 25000 passages..\n",
      "[Aug 31, 15:19:42] [0] \t\t #> Saving chunk 1: \t 25,000 passages and 4,548,699 embeddings. From #25,000 onward.\n"
     ]
    },
    {
     "name": "stderr",
     "output_type": "stream",
     "text": [
      "2it [02:02, 61.22s/it]"
     ]
    },
    {
     "name": "stdout",
     "output_type": "stream",
     "text": [
      "[Aug 31, 15:19:44] [0] \t\t #> Encoding 25000 passages..\n",
      "[Aug 31, 15:20:44] [0] \t\t #> Saving chunk 2: \t 25,000 passages and 4,515,040 embeddings. From #50,000 onward.\n"
     ]
    },
    {
     "name": "stderr",
     "output_type": "stream",
     "text": [
      "3it [03:03, 61.24s/it]"
     ]
    },
    {
     "name": "stdout",
     "output_type": "stream",
     "text": [
      "[Aug 31, 15:20:45] [0] \t\t #> Encoding 25000 passages..\n",
      "[Aug 31, 15:21:45] [0] \t\t #> Saving chunk 3: \t 25,000 passages and 4,478,639 embeddings. From #75,000 onward.\n"
     ]
    },
    {
     "name": "stderr",
     "output_type": "stream",
     "text": [
      "4it [04:04, 61.21s/it]"
     ]
    },
    {
     "name": "stdout",
     "output_type": "stream",
     "text": [
      "[Aug 31, 15:21:46] [0] \t\t #> Encoding 25000 passages..\n",
      "[Aug 31, 15:22:46] [0] \t\t #> Saving chunk 4: \t 25,000 passages and 4,595,829 embeddings. From #100,000 onward.\n"
     ]
    },
    {
     "name": "stderr",
     "output_type": "stream",
     "text": [
      "5it [05:06, 61.23s/it]"
     ]
    },
    {
     "name": "stdout",
     "output_type": "stream",
     "text": [
      "[Aug 31, 15:22:48] [0] \t\t #> Encoding 25000 passages..\n",
      "[Aug 31, 15:23:47] [0] \t\t #> Saving chunk 5: \t 25,000 passages and 4,991,187 embeddings. From #125,000 onward.\n"
     ]
    },
    {
     "name": "stderr",
     "output_type": "stream",
     "text": [
      "6it [06:07, 61.31s/it]"
     ]
    },
    {
     "name": "stdout",
     "output_type": "stream",
     "text": [
      "[Aug 31, 15:23:49] [0] \t\t #> Encoding 25000 passages..\n",
      "[Aug 31, 15:24:49] [0] \t\t #> Saving chunk 6: \t 25,000 passages and 4,757,205 embeddings. From #150,000 onward.\n"
     ]
    },
    {
     "name": "stderr",
     "output_type": "stream",
     "text": [
      "7it [07:08, 61.33s/it]"
     ]
    },
    {
     "name": "stdout",
     "output_type": "stream",
     "text": [
      "[Aug 31, 15:24:50] [0] \t\t #> Encoding 25000 passages..\n"
     ]
    },
    {
     "name": "stderr",
     "output_type": "stream",
     "text": [
      "8it [08:10, 61.28s/it]"
     ]
    },
    {
     "name": "stdout",
     "output_type": "stream",
     "text": [
      "[Aug 31, 15:25:52] [0] \t\t #> Encoding 25000 passages..\n",
      "[Aug 31, 15:26:51] [0] \t\t #> Saving chunk 8: \t 25,000 passages and 4,435,882 embeddings. From #200,000 onward.\n"
     ]
    },
    {
     "name": "stderr",
     "output_type": "stream",
     "text": [
      "9it [09:11, 61.25s/it]"
     ]
    },
    {
     "name": "stdout",
     "output_type": "stream",
     "text": [
      "[Aug 31, 15:26:53] [0] \t\t #> Encoding 25000 passages..\n",
      "[Aug 31, 15:27:52] [0] \t\t #> Saving chunk 9: \t 25,000 passages and 4,382,406 embeddings. From #225,000 onward.\n"
     ]
    },
    {
     "name": "stderr",
     "output_type": "stream",
     "text": [
      "10it [10:12, 61.22s/it]"
     ]
    },
    {
     "name": "stdout",
     "output_type": "stream",
     "text": [
      "[Aug 31, 15:27:54] [0] \t\t #> Encoding 25000 passages..\n",
      "[Aug 31, 15:28:54] [0] \t\t #> Saving chunk 10: \t 25,000 passages and 4,483,596 embeddings. From #250,000 onward.\n"
     ]
    },
    {
     "name": "stderr",
     "output_type": "stream",
     "text": [
      "11it [11:13, 61.24s/it]"
     ]
    },
    {
     "name": "stdout",
     "output_type": "stream",
     "text": [
      "[Aug 31, 15:28:55] [0] \t\t #> Encoding 6127 passages..\n",
      "[Aug 31, 15:29:10] [0] \t\t #> Saving chunk 11: \t 6,127 passages and 1,066,847 embeddings. From #275,000 onward.\n"
     ]
    },
    {
     "name": "stderr",
     "output_type": "stream",
     "text": [
      "12it [11:28, 57.40s/it]\n",
      "100%|██████████| 12/12 [00:00<00:00, 226.40it/s]"
     ]
    },
    {
     "name": "stdout",
     "output_type": "stream",
     "text": [
      "[Aug 31, 15:29:10] [0] \t\t #> Checking all files were saved...\n",
      "[Aug 31, 15:29:10] [0] \t\t Found all files!\n",
      "[Aug 31, 15:29:10] [0] \t\t #> Building IVF...\n",
      "[Aug 31, 15:29:10] [0] \t\t #> Loading codes...\n",
      "[Aug 31, 15:29:10] [0] \t\t Sorting codes...\n",
      "[Aug 31, 15:29:13] [0] \t\t Getting unique codes...\n",
      "[Aug 31, 15:29:13] #> Optimizing IVF to store map from centroids to list of pids..\n",
      "[Aug 31, 15:29:13] #> Building the emb2pid mapping..\n",
      "[Aug 31, 15:29:13] len(emb2pid) = 51114967\n"
     ]
    },
    {
     "name": "stderr",
     "output_type": "stream",
     "text": [
      "\n",
      "100%|██████████| 65536/65536 [00:02<00:00, 27404.81it/s]"
     ]
    },
    {
     "name": "stdout",
     "output_type": "stream",
     "text": [
      "[Aug 31, 15:29:16] #> Saved optimized IVF to /home/daniel/code/kaggle-science-exam/experiments/wiki-science/indexes/wiki_pages_index_2bits_max_words200/ivf.pid.pt\n",
      "[Aug 31, 15:29:16] [0] \t\t #> Saving the indexing metadata to /home/daniel/code/kaggle-science-exam/experiments/wiki-science/indexes/wiki_pages_index_2bits_max_words200/metadata.json ..\n"
     ]
    },
    {
     "name": "stderr",
     "output_type": "stream",
     "text": [
      "\n"
     ]
    },
    {
     "name": "stdout",
     "output_type": "stream",
     "text": [
      "#> Joined...\n"
     ]
    }
   ],
   "source": [
    "rerun = True\n",
    "if rerun:\n",
    "    with Run().context(RunConfig(nranks=1, experiment=experiment)):\n",
    "        indexer = Indexer(checkpoint=checkpoint, config=config)\n",
    "        indexer.index(name=indexer_name,\n",
    "                      collection=c_collection,\n",
    "                      overwrite=True)"
   ]
  },
  {
   "cell_type": "code",
   "execution_count": 87,
   "id": "5a799e41-278d-4fe7-a307-68b8c4323927",
   "metadata": {},
   "outputs": [
    {
     "name": "stdout",
     "output_type": "stream",
     "text": [
      "[Aug 31, 15:32:31] #> Loading collection...\n",
      "0M \n",
      "[Aug 31, 15:32:33] #> Loading codec...\n",
      "[Aug 31, 15:32:33] Loading decompress_residuals_cpp extension (set COLBERT_LOAD_TORCH_EXTENSION_VERBOSE=True for more info)...\n"
     ]
    },
    {
     "name": "stderr",
     "output_type": "stream",
     "text": [
      "Using /home/daniel/.cache/torch_extensions/py38_cu117 as PyTorch extensions root...\n",
      "Detected CUDA files, patching ldflags\n",
      "Emitting ninja build file /home/daniel/.cache/torch_extensions/py38_cu117/decompress_residuals_cpp/build.ninja...\n",
      "Building extension module decompress_residuals_cpp...\n",
      "Allowing ninja to set a default number of workers... (overridable by setting the environment variable MAX_JOBS=N)\n"
     ]
    },
    {
     "name": "stdout",
     "output_type": "stream",
     "text": [
      "ninja: no work to do.\n",
      "[Aug 31, 15:32:34] Loading packbits_cpp extension (set COLBERT_LOAD_TORCH_EXTENSION_VERBOSE=True for more info)...\n"
     ]
    },
    {
     "name": "stderr",
     "output_type": "stream",
     "text": [
      "Loading extension module decompress_residuals_cpp...\n",
      "Using /home/daniel/.cache/torch_extensions/py38_cu117 as PyTorch extensions root...\n",
      "Detected CUDA files, patching ldflags\n",
      "Emitting ninja build file /home/daniel/.cache/torch_extensions/py38_cu117/packbits_cpp/build.ninja...\n",
      "Building extension module packbits_cpp...\n",
      "Allowing ninja to set a default number of workers... (overridable by setting the environment variable MAX_JOBS=N)\n"
     ]
    },
    {
     "name": "stdout",
     "output_type": "stream",
     "text": [
      "ninja: no work to do.\n",
      "[Aug 31, 15:32:34] #> Loading IVF...\n",
      "[Aug 31, 15:32:34] #> Loading doclens...\n"
     ]
    },
    {
     "name": "stderr",
     "output_type": "stream",
     "text": [
      "Loading extension module packbits_cpp...\n",
      "100%|██████████| 12/12 [00:00<00:00, 2594.82it/s]"
     ]
    },
    {
     "name": "stdout",
     "output_type": "stream",
     "text": [
      "[Aug 31, 15:32:34] #> Loading codes and residuals...\n"
     ]
    },
    {
     "name": "stderr",
     "output_type": "stream",
     "text": [
      "\n",
      "100%|██████████| 12/12 [00:00<00:00, 20.47it/s]\n",
      "100%|██████████| 1000/1000 [00:03<00:00, 279.06it/s]\n"
     ]
    }
   ],
   "source": [
    "with Run().context(RunConfig(nranks=1, experiment=experiment)):\n",
    "    searcher = Searcher(index=indexer_name, config=config)\n",
    "    ranking = searcher.search_all(c_queries, k=n_results_per_question)"
   ]
  },
  {
   "cell_type": "code",
   "execution_count": 88,
   "id": "08e29ae5-d842-427c-a991-822cfa516a51",
   "metadata": {
    "tags": []
   },
   "outputs": [],
   "source": [
    "# info.with_columns(pl.lit(1).alias(\"ones\"))\\\n",
    "#     .select([\n",
    "#         pl.all().exclude(\"ones\"),\n",
    "#         pl.col(\"ones\").cumsum().over(\"qid\").flatten().alias(\"bm25_idx\")\n",
    "#     ])"
   ]
  },
  {
   "cell_type": "code",
   "execution_count": 89,
   "id": "c058c245-892c-4d2e-ad01-038bd330790a",
   "metadata": {
    "tags": []
   },
   "outputs": [],
   "source": [
    "colbert = [tup[1] for tup in ranking.flat_ranking]\n",
    "colbert = pl.Series(\"colbert\", colbert[:n_questions * n_results_per_question], dtype=pl.UInt32)\n",
    "res = bm25_res.with_columns(colbert)\n",
    "res = res.join(passages, how='left', left_on='colbert', right_on='passage_id', validate='m:1', suffix='_col')\n",
    "res = res.with_columns([\n",
    "    (pl.col('title') == pl.col('title_bm25')).alias('bm25_title_match'),\n",
    "    (pl.col('title') == pl.col('title_col')).alias('col_title_match')\n",
    "])"
   ]
  },
  {
   "cell_type": "code",
   "execution_count": 90,
   "id": "a8b96abf-8ae1-45b8-88c1-0aac96de749c",
   "metadata": {
    "tags": []
   },
   "outputs": [
    {
     "data": {
      "text/plain": [
       "0.5"
      ]
     },
     "execution_count": 90,
     "metadata": {},
     "output_type": "execute_result"
    }
   ],
   "source": [
    "res.filter(pl.col('result_idx') == 1)['bm25_title_match'].mean()"
   ]
  },
  {
   "cell_type": "code",
   "execution_count": 91,
   "id": "c503e3ce-a35a-4289-bffc-03a549b49889",
   "metadata": {
    "tags": []
   },
   "outputs": [
    {
     "data": {
      "text/plain": [
       "1.0"
      ]
     },
     "execution_count": 91,
     "metadata": {},
     "output_type": "execute_result"
    }
   ],
   "source": [
    "res.filter(pl.col('result_idx') == 1)['col_title_match'].mean()"
   ]
  },
  {
   "cell_type": "markdown",
   "id": "930a694a-1928-46d6-b038-f5bdad8d48cd",
   "metadata": {
    "tags": []
   },
   "source": [
    "### Recall at 10"
   ]
  },
  {
   "cell_type": "code",
   "execution_count": 92,
   "id": "d7a8eec2-a3a0-4ba8-a36e-03a97212e949",
   "metadata": {
    "tags": []
   },
   "outputs": [
    {
     "data": {
      "text/plain": [
       "0.6"
      ]
     },
     "execution_count": 92,
     "metadata": {},
     "output_type": "execute_result"
    }
   ],
   "source": [
    "res.filter(pl.col('result_idx') <= 10).groupby('qid').agg(pl.max('bm25_title_match'))['bm25_title_match'].mean()"
   ]
  },
  {
   "cell_type": "code",
   "execution_count": 93,
   "id": "aa088a5f-4c86-4a44-adf9-0045ac444330",
   "metadata": {
    "tags": []
   },
   "outputs": [
    {
     "data": {
      "text/plain": [
       "1.0"
      ]
     },
     "execution_count": 93,
     "metadata": {},
     "output_type": "execute_result"
    }
   ],
   "source": [
    "res.filter(pl.col('result_idx') <= 5).groupby('qid').agg(pl.max('col_title_match'))['col_title_match'].mean()"
   ]
  },
  {
   "cell_type": "code",
   "execution_count": 94,
   "id": "eaf7a5be-d194-4a9a-a635-70dfc42cd415",
   "metadata": {
    "tags": []
   },
   "outputs": [
    {
     "data": {
      "text/html": [
       "<div><style>\n",
       ".dataframe > thead > tr > th,\n",
       ".dataframe > tbody > tr > td {\n",
       "  text-align: right;\n",
       "}\n",
       "</style>\n",
       "<small>shape: (2, 3)</small><table border=\"1\" class=\"dataframe\"><thead><tr><th>question</th><th>passage_text</th><th>passage_text_col</th></tr><tr><td>str</td><td>str</td><td>str</td></tr></thead><tbody><tr><td>&quot;What is the net rate of flow of electric charge through a surface called?&quot;</td><td>&quot;pp-vandalismsmallyes ElectromagnetismNetwork An electric current is a flow of charged particles, such as electrons or ions, moving through an electrical conductor or space. It is defined as the net rate of flow of electric charge through a surface.rp2rp622 The moving particles are called charge carriers, which may be one of several types of particles, depending on the conductor. In electric circuits the charge carriers are often electrons moving through a wire. In semiconductors they can be electrons or Electron hole. In an Electrolyte#Electrochemistry the charge carriers are ions, while in Plasma (physics), an ionized gas, they are ions and electrons. The International System of Units unit of electric current is the ampere, or amp, which is the flow of electric charge across a surface at the rate of one coulomb per second. The ampere (symbol: A) is an SI base unit.rp15 Electric current is measured using a device called an ammeter.rp788 Electric currents create magnetic fields, which are used in motors, generators, inductors, and transformers. In ordinary conductors, they cause Joule heating, which creates light in incandescent light bulbs. Time-varying currents emit electromagnetic waves, which are used in telecommunications to broadcast information.&quot;</td><td>&quot;pp-vandalismsmallyes ElectromagnetismNetwork An electric current is a flow of charged particles, such as electrons or ions, moving through an electrical conductor or space. It is defined as the net rate of flow of electric charge through a surface.rp2rp622 The moving particles are called charge carriers, which may be one of several types of particles, depending on the conductor. In electric circuits the charge carriers are often electrons moving through a wire. In semiconductors they can be electrons or Electron hole. In an Electrolyte#Electrochemistry the charge carriers are ions, while in Plasma (physics), an ionized gas, they are ions and electrons. The International System of Units unit of electric current is the ampere, or amp, which is the flow of electric charge across a surface at the rate of one coulomb per second. The ampere (symbol: A) is an SI base unit.rp15 Electric current is measured using a device called an ammeter.rp788 Electric currents create magnetic fields, which are used in motors, generators, inductors, and transformers. In ordinary conductors, they cause Joule heating, which creates light in incandescent light bulbs. Time-varying currents emit electromagnetic waves, which are used in telecommunications to broadcast information.&quot;</td></tr><tr><td>&quot;What is the net rate of flow of electric charge through a surface called?&quot;</td><td>&quot;MainCharge conservation The total electric charge of an isolated system remains constant regardless of changes within the system itself. This law is inherent to all processes known to physics and can be derived in a local form from gauge invariance of the wave function. The conservation of charge results in the charge-current continuity equation. More generally, the rate of change in charge density ρ within a volume of integration V is equal to the area integral over the current density J through the closed surface S = ∂V, which is in turn equal to the net electric current I: oiintpreintegral- fracddt int_V rho , mathrmdV = intsubscptscriptstyle partial Vintegrand J cdotmathrmd S = int J mathrmdS costheta = I. Thus, the conservation of electric charge, as expressed by the continuity equation, gives the result: I = -fracmathrmdqmathrmdt. The charge transferred between times t_mathrmi and t_mathrmf is obtained by integrating both sides: q = int_t_mathrmit_mathrmf I, mathrmdt where I is the net outward current through a closed surface and q is the electric charge contained within the volume defined by the surface.&quot;</td><td>&quot;When a metal wire is subjected to electric force applied on its opposite ends, these free electrons rush in the direction of the force, thus forming what we call an electric current.&quot; When a metal wire is connected across the two terminals of a Direct current voltage source such as a battery (electricity), the source places an electric field across the conductor. The moment contact is made, the free electrons of the conductor are forced to drift toward the Positive (electrical polarity) terminal under the influence of this field. The free electrons are therefore the charge carrier in a typical solid conductor. For a steady flow of charge through a surface, the current I (in amperes) can be calculated with the following equation: I = Q over t , , where Q is the electric charge transferred through the surface over a time t. If Q and t are measured in coulombs and seconds respectively, I is in amperes. More generally, electric current can be represented as the rate at which charge flows through a given surface as: I = fracmathrmdQmathrmdt , .&quot;</td></tr></tbody></table></div>"
      ],
      "text/plain": [
       "shape: (2, 3)\n",
       "┌────────────────────────────────┬────────────────────────────────┬────────────────────────────────┐\n",
       "│ question                       ┆ passage_text                   ┆ passage_text_col               │\n",
       "│ ---                            ┆ ---                            ┆ ---                            │\n",
       "│ str                            ┆ str                            ┆ str                            │\n",
       "╞════════════════════════════════╪════════════════════════════════╪════════════════════════════════╡\n",
       "│ What is the net rate of flow   ┆ pp-vandalismsmallyes           ┆ pp-vandalismsmallyes           │\n",
       "│ of electric charge through a   ┆ ElectromagnetismNetwork An     ┆ ElectromagnetismNetwork An     │\n",
       "│ surface called?                ┆ electric current is a flow of  ┆ electric current is a flow of  │\n",
       "│                                ┆ charged particles, such as     ┆ charged particles, such as     │\n",
       "│                                ┆ electrons or ions, moving      ┆ electrons or ions, moving      │\n",
       "│                                ┆ through an electrical          ┆ through an electrical          │\n",
       "│                                ┆ conductor or space. It is      ┆ conductor or space. It is      │\n",
       "│                                ┆ defined as the net rate of     ┆ defined as the net rate of     │\n",
       "│                                ┆ flow of electric charge        ┆ flow of electric charge        │\n",
       "│                                ┆ through a surface.rp2rp622 The ┆ through a surface.rp2rp622 The │\n",
       "│                                ┆ moving particles are called    ┆ moving particles are called    │\n",
       "│                                ┆ charge carriers, which may be  ┆ charge carriers, which may be  │\n",
       "│                                ┆ one of several types of        ┆ one of several types of        │\n",
       "│                                ┆ particles, depending on the    ┆ particles, depending on the    │\n",
       "│                                ┆ conductor. In electric         ┆ conductor. In electric         │\n",
       "│                                ┆ circuits the charge carriers   ┆ circuits the charge carriers   │\n",
       "│                                ┆ are often electrons moving     ┆ are often electrons moving     │\n",
       "│                                ┆ through a wire. In             ┆ through a wire. In             │\n",
       "│                                ┆ semiconductors they can be     ┆ semiconductors they can be     │\n",
       "│                                ┆ electrons or Electron hole. In ┆ electrons or Electron hole. In │\n",
       "│                                ┆ an                             ┆ an                             │\n",
       "│                                ┆ Electrolyte#Electrochemistry   ┆ Electrolyte#Electrochemistry   │\n",
       "│                                ┆ the charge carriers are ions,  ┆ the charge carriers are ions,  │\n",
       "│                                ┆ while in Plasma (physics), an  ┆ while in Plasma (physics), an  │\n",
       "│                                ┆ ionized gas, they are ions and ┆ ionized gas, they are ions and │\n",
       "│                                ┆ electrons. The International   ┆ electrons. The International   │\n",
       "│                                ┆ System of Units unit of        ┆ System of Units unit of        │\n",
       "│                                ┆ electric current is the        ┆ electric current is the        │\n",
       "│                                ┆ ampere, or amp, which is the   ┆ ampere, or amp, which is the   │\n",
       "│                                ┆ flow of electric charge across ┆ flow of electric charge across │\n",
       "│                                ┆ a surface at the rate of one   ┆ a surface at the rate of one   │\n",
       "│                                ┆ coulomb per second. The ampere ┆ coulomb per second. The ampere │\n",
       "│                                ┆ (symbol: A) is an SI base      ┆ (symbol: A) is an SI base      │\n",
       "│                                ┆ unit.rp15 Electric current is  ┆ unit.rp15 Electric current is  │\n",
       "│                                ┆ measured using a device called ┆ measured using a device called │\n",
       "│                                ┆ an ammeter.rp788 Electric      ┆ an ammeter.rp788 Electric      │\n",
       "│                                ┆ currents create magnetic       ┆ currents create magnetic       │\n",
       "│                                ┆ fields, which are used in      ┆ fields, which are used in      │\n",
       "│                                ┆ motors, generators, inductors, ┆ motors, generators, inductors, │\n",
       "│                                ┆ and transformers. In ordinary  ┆ and transformers. In ordinary  │\n",
       "│                                ┆ conductors, they cause Joule   ┆ conductors, they cause Joule   │\n",
       "│                                ┆ heating, which creates light   ┆ heating, which creates light   │\n",
       "│                                ┆ in incandescent light bulbs.   ┆ in incandescent light bulbs.   │\n",
       "│                                ┆ Time-varying currents emit     ┆ Time-varying currents emit     │\n",
       "│                                ┆ electromagnetic waves, which   ┆ electromagnetic waves, which   │\n",
       "│                                ┆ are used in telecommunications ┆ are used in telecommunications │\n",
       "│                                ┆ to broadcast information.      ┆ to broadcast information.      │\n",
       "│ What is the net rate of flow   ┆ MainCharge conservation The    ┆ When a metal wire is subjected │\n",
       "│ of electric charge through a   ┆ total electric charge of an    ┆ to electric force applied on   │\n",
       "│ surface called?                ┆ isolated system remains        ┆ its opposite ends, these free  │\n",
       "│                                ┆ constant regardless of changes ┆ electrons rush in the          │\n",
       "│                                ┆ within the system itself. This ┆ direction of the force, thus   │\n",
       "│                                ┆ law is inherent to all         ┆ forming what we call an        │\n",
       "│                                ┆ processes known to physics and ┆ electric current.\" When a      │\n",
       "│                                ┆ can be derived in a local form ┆ metal wire is connected across │\n",
       "│                                ┆ from gauge invariance of the   ┆ the two terminals of a Direct  │\n",
       "│                                ┆ wave function. The             ┆ current voltage source such as │\n",
       "│                                ┆ conservation of charge results ┆ a battery (electricity), the   │\n",
       "│                                ┆ in the charge-current          ┆ source places an electric      │\n",
       "│                                ┆ continuity equation. More      ┆ field across the conductor.    │\n",
       "│                                ┆ generally, the rate of change  ┆ The moment contact is made,    │\n",
       "│                                ┆ in charge density ρ within a   ┆ the free electrons of the      │\n",
       "│                                ┆ volume of integration V is     ┆ conductor are forced to drift  │\n",
       "│                                ┆ equal to the area integral     ┆ toward the Positive            │\n",
       "│                                ┆ over the current density J     ┆ (electrical polarity) terminal │\n",
       "│                                ┆ through the closed surface S = ┆ under the influence of this    │\n",
       "│                                ┆ ∂V, which is in turn equal to  ┆ field. The free electrons are  │\n",
       "│                                ┆ the net electric current I:    ┆ therefore the charge carrier   │\n",
       "│                                ┆ oiintpreintegral- fracddt      ┆ in a typical solid conductor.  │\n",
       "│                                ┆ int_V rho , mathrmdV =         ┆ For a steady flow of charge    │\n",
       "│                                ┆ intsubscptscriptstyle partial  ┆ through a surface, the current │\n",
       "│                                ┆ Vintegrand J cdotmathrmd S =   ┆ I (in amperes) can be          │\n",
       "│                                ┆ int J mathrmdS costheta = I.   ┆ calculated with the following  │\n",
       "│                                ┆ Thus, the conservation of      ┆ equation: I = Q over t , ,     │\n",
       "│                                ┆ electric charge, as expressed  ┆ where Q is the electric charge │\n",
       "│                                ┆ by the continuity equation,    ┆ transferred through the        │\n",
       "│                                ┆ gives the result: I =          ┆ surface over a time t. If Q    │\n",
       "│                                ┆ -fracmathrmdqmathrmdt. The     ┆ and t are measured in coulombs │\n",
       "│                                ┆ charge transferred between     ┆ and seconds respectively, I is │\n",
       "│                                ┆ times t_mathrmi and t_mathrmf  ┆ in amperes. More generally,    │\n",
       "│                                ┆ is obtained by integrating     ┆ electric current can be        │\n",
       "│                                ┆ both sides: q =                ┆ represented as the rate at     │\n",
       "│                                ┆ int_t_mathrmit_mathrmf I,      ┆ which charge flows through a   │\n",
       "│                                ┆ mathrmdt where I is the net    ┆ given surface as: I =          │\n",
       "│                                ┆ outward current through a      ┆ fracmathrmdQmathrmdt , .       │\n",
       "│                                ┆ closed surface and q is the    ┆                                │\n",
       "│                                ┆ electric charge contained      ┆                                │\n",
       "│                                ┆ within the volume defined by   ┆                                │\n",
       "│                                ┆ the surface.                   ┆                                │\n",
       "└────────────────────────────────┴────────────────────────────────┴────────────────────────────────┘"
      ]
     },
     "execution_count": 94,
     "metadata": {},
     "output_type": "execute_result"
    }
   ],
   "source": [
    "question = 2\n",
    "res[['question', 'passage_text', 'passage_text_col']][question*n_results_per_question:(question+1)*n_results_per_question]"
   ]
  },
  {
   "cell_type": "code",
   "execution_count": 95,
   "id": "a04ee3bf-cd06-4c29-b443-16fcc413eb0b",
   "metadata": {},
   "outputs": [],
   "source": [
    "# res = res.with_columns([\n",
    "#     (pl.col('title') == pl.col('title_bm25')).alias('bm25_title_match'),\n",
    "#     (pl.col('title') == pl.col('title_col')).alias('col_title_match')\n",
    "# ])"
   ]
  },
  {
   "cell_type": "code",
   "execution_count": null,
   "id": "10a15bdd-40f4-44ad-ac70-6af63213f324",
   "metadata": {},
   "outputs": [],
   "source": []
  },
  {
   "cell_type": "code",
   "execution_count": null,
   "id": "4fdd6556-0c0f-4b3a-84d3-eda86adaa7c4",
   "metadata": {},
   "outputs": [],
   "source": []
  }
 ],
 "metadata": {
  "kernelspec": {
   "display_name": "Python [conda env:colbert]",
   "language": "python",
   "name": "conda-env-colbert-py"
  },
  "language_info": {
   "codemirror_mode": {
    "name": "ipython",
    "version": 3
   },
   "file_extension": ".py",
   "mimetype": "text/x-python",
   "name": "python",
   "nbconvert_exporter": "python",
   "pygments_lexer": "ipython3",
   "version": "3.8.17"
  }
 },
 "nbformat": 4,
 "nbformat_minor": 5
}
