{
 "cells": [
  {
   "cell_type": "markdown",
   "id": "9ec1e2d8-3265-4c14-99c1-7bf8e6a56512",
   "metadata": {
    "tags": []
   },
   "source": [
    "# Wikipedia Indexing with ColBERT"
   ]
  },
  {
   "cell_type": "code",
   "execution_count": 60,
   "id": "79a20bc5-89d2-41cf-a9c3-ad6c2569b4dc",
   "metadata": {
    "tags": []
   },
   "outputs": [],
   "source": [
    "import os\n",
    "import glob\n",
    "import polars as pl\n",
    "import polars.selectors as cs\n",
    "import pandas as pd\n",
    "import pyarrow as pa\n",
    "import numpy as np\n",
    "import matplotlib.pyplot as plt\n",
    "import seaborn as sns\n",
    "from tqdm.notebook import tqdm\n",
    "from pathlib import Path\n",
    "\n",
    "from rank_bm25 import BM25Okapi\n",
    "from colbert.infra import Run, RunConfig, ColBERTConfig\n",
    "from colbert.data import Queries, Collection\n",
    "from colbert import Indexer, Searcher"
   ]
  },
  {
   "cell_type": "code",
   "execution_count": 3,
   "id": "d2ded6d6-ef12-4fde-9050-1da3dd0ec8fe",
   "metadata": {
    "tags": []
   },
   "outputs": [],
   "source": [
    "pl.Config(fmt_str_lengths=2000);"
   ]
  },
  {
   "cell_type": "code",
   "execution_count": 4,
   "id": "7d2e8160-d42c-4986-9b2c-c09a6f7374cf",
   "metadata": {
    "tags": []
   },
   "outputs": [],
   "source": [
    "# conda install pytorch torchvision torchaudio pytorch-cuda=11.8 -c pytorch -c nvidia -y"
   ]
  },
  {
   "cell_type": "code",
   "execution_count": 5,
   "id": "2c3b5c92-cf1b-4dc4-bb78-acaf24655132",
   "metadata": {},
   "outputs": [],
   "source": [
    "#!pip install rank_bm25"
   ]
  },
  {
   "cell_type": "code",
   "execution_count": 6,
   "id": "e73c0300-dbbf-463a-868b-ef27095970fd",
   "metadata": {
    "tags": []
   },
   "outputs": [],
   "source": [
    "# !conda list | grep bitsandbytes"
   ]
  },
  {
   "cell_type": "code",
   "execution_count": 7,
   "id": "dc30dded-8f0c-4399-a124-5b099d2f65fd",
   "metadata": {
    "tags": []
   },
   "outputs": [],
   "source": [
    "# !conda install -c conda-forge pyarrow -y"
   ]
  },
  {
   "cell_type": "code",
   "execution_count": 8,
   "id": "03d06b87-6da5-4e7d-b6f5-510d3e5f95c5",
   "metadata": {
    "tags": []
   },
   "outputs": [],
   "source": [
    "# !conda update -c conda-forge 'auto-gptq[triton]' -y"
   ]
  },
  {
   "cell_type": "code",
   "execution_count": 9,
   "id": "c174f049-e7d5-4c18-ba76-abab2e6ff4ce",
   "metadata": {
    "tags": []
   },
   "outputs": [],
   "source": [
    "# huggingface_hub.login(os.environ['HUGGING_FACE_TOKEN'])"
   ]
  },
  {
   "cell_type": "code",
   "execution_count": 91,
   "id": "34a5363a-7ae1-4ac9-ad64-2e4fd2093900",
   "metadata": {
    "tags": []
   },
   "outputs": [
    {
     "data": {
      "text/plain": [
       "((2874, 8),\n",
       " array(['question', 'correct', 'incorrect_1', 'incorrect_2', 'incorrect_3',\n",
       "        'incorrect_4', 'title', 'section_title'], dtype='<U13'))"
      ]
     },
     "execution_count": 91,
     "metadata": {},
     "output_type": "execute_result"
    }
   ],
   "source": [
    "questions = pl.read_parquet('./data/daniel_train/v_1_combined/daniel_train_v_1.parquet')\n",
    "questions = questions.filter(pl.col('question').is_not_null())\n",
    "questions.shape, np.array(questions.columns)"
   ]
  },
  {
   "cell_type": "code",
   "execution_count": 11,
   "id": "03bbd53d-40b4-4876-b61a-337b302ae46a",
   "metadata": {
    "tags": []
   },
   "outputs": [
    {
     "data": {
      "text/plain": [
       "((153622, 14),\n",
       " array(['section_id', 'title', 'category', 'page_id', 'parent_id',\n",
       "        'revision_id', 'revision_ts', 'short_description', 'sha1',\n",
       "        'page_bytes', 'section_index', 'section_title', 'section_level',\n",
       "        'section_text'], dtype='<U17'))"
      ]
     },
     "execution_count": 11,
     "metadata": {},
     "output_type": "execute_result"
    }
   ],
   "source": [
    "wiki_sections = pl.read_parquet('./data/wiki_with_category.parquet')\n",
    "wiki_sections.shape, np.array(wiki_sections.columns)"
   ]
  },
  {
   "cell_type": "code",
   "execution_count": 12,
   "id": "ee0f5f9a-e55c-4c5b-b4f8-89b32aa668a4",
   "metadata": {
    "tags": []
   },
   "outputs": [
    {
     "data": {
      "text/plain": [
       "'Mean word count: 257, median: 155'"
      ]
     },
     "execution_count": 12,
     "metadata": {},
     "output_type": "execute_result"
    },
    {
     "data": {
      "image/png": "[encoded data removed]",
      "text/plain": [
       "<Figure size 600x300 with 1 Axes>"
      ]
     },
     "metadata": {},
     "output_type": "display_data"
    }
   ],
   "source": [
    "plt.figure(figsize=[6,3])\n",
    "section_word_counts = wiki_sections['section_text'].str.split(' ').list.lengths()\n",
    "sns.histplot(section_word_counts, binrange=[0, 1500])\n",
    "plt.title('Section Word Count')\n",
    "f'Mean word count: {section_word_counts.mean():.0f}, median: {section_word_counts.median():.0f}'"
   ]
  },
  {
   "cell_type": "code",
   "execution_count": 13,
   "id": "1fb9d27d-7df5-41e1-bbd3-0573084db962",
   "metadata": {
    "tags": []
   },
   "outputs": [
    {
     "data": {
      "text/plain": [
       "((290512, 6),\n",
       " ['passage_id',\n",
       "  'section_id',\n",
       "  'title',\n",
       "  'section_title',\n",
       "  'passage_text',\n",
       "  'section_passage_num'])"
      ]
     },
     "execution_count": 13,
     "metadata": {},
     "output_type": "execute_result"
    }
   ],
   "source": [
    "max_words = 200\n",
    "def split_text_into_chunks(text):\n",
    "    chunks = []\n",
    "    current_chunk = []\n",
    "    current_length = 0\n",
    "    last_period = -1\n",
    "    section_words = text.split()\n",
    "\n",
    "    remaining_words = list(section_words)\n",
    "    split_sum = 0\n",
    "    for word in section_words:\n",
    "        current_length += 1\n",
    "        if word.endswith('.'):\n",
    "            last_period = current_length\n",
    "        \n",
    "        if current_length == max_words:\n",
    "            if last_period > -1:\n",
    "                chunk = remaining_words[:last_period]\n",
    "                chunks.append(\" \".join(chunk))\n",
    "                remaining_words = remaining_words[last_period:]             \n",
    "                current_length = current_length - last_period\n",
    "                split_sum += last_period\n",
    "            else:\n",
    "                # If no period exists, just split it at max_words\n",
    "                chunk = remaining_words[:current_length]\n",
    "                chunks.append(\" \".join(chunk))\n",
    "                remaining_words = remaining_words[current_length:]\n",
    "                current_length = 0\n",
    "                split_sum += current_length\n",
    "            last_period = -1\n",
    "\n",
    "    if remaining_words:\n",
    "        chunks.append(\" \".join(remaining_words))\n",
    "    \n",
    "    return chunks\n",
    "\n",
    "passages = wiki_sections[['section_id', 'title', 'section_title', 'section_text']]\n",
    "passages = passages.with_columns(\n",
    "    pl.col(\"section_text\")\n",
    "      .apply(split_text_into_chunks)\\\n",
    "      .cast(pl.List(pl.Utf8)).alias('passage_text')\\\n",
    ")\n",
    "passages = passages.drop('section_text')\n",
    "passages = passages.explode('passage_text')\n",
    "passages = passages.filter(pl.col('passage_text').is_not_null())\\\n",
    "                   .with_row_count('passage_id')\n",
    "\n",
    "passages = passages.with_columns(pl.col('passage_text').str.replace_all('\\n', ' '))                      \n",
    "passages_file = f'./data/wiki_passages_{max_words}'\n",
    "passages[['passage_id', 'passage_text']].write_csv(passages_file + '_colbert.tsv', separator='\\t', has_header=False)\n",
    "passages.write_parquet(passages_file+'.parquet')\n",
    "passages = passages.with_columns(pl.col('passage_id').rank(method=\"min\").over([\"section_id\"]).alias('section_passage_num'))\n",
    "passages.shape, passages.columns"
   ]
  },
  {
   "cell_type": "code",
   "execution_count": 14,
   "id": "57f469d6-38f7-4043-b695-c6cfe7874a75",
   "metadata": {
    "tags": []
   },
   "outputs": [
    {
     "data": {
      "image/png": "[encoded data removed]",
      "text/plain": [
       "<Figure size 600x300 with 1 Axes>"
      ]
     },
     "metadata": {},
     "output_type": "display_data"
    }
   ],
   "source": [
    "plt.figure(figsize=[6,3])\n",
    "sns.histplot(passages['passage_text'].str.split(' ').list.lengths(), binrange=[0, max_words]);"
   ]
  },
  {
   "cell_type": "code",
   "execution_count": 15,
   "id": "c8d55290-7778-49f2-8a53-ab6f3d370b0c",
   "metadata": {
    "tags": []
   },
   "outputs": [],
   "source": [
    "tokenized_corpus = [doc.split(\" \") for doc in passages['passage_text']]\n",
    "bm25_corpus = BM25Okapi(tokenized_corpus)"
   ]
  },
  {
   "cell_type": "code",
   "execution_count": 61,
   "id": "9f653bc7-8df5-4078-b4da-d39576f62cad",
   "metadata": {
    "tags": []
   },
   "outputs": [],
   "source": [
    "def bm25_scores(query):\n",
    "    tokenized_query = query.split(\" \")\n",
    "    scores = pd.Series(bm25_corpus.get_scores(tokenized_query))\n",
    "    scores = scores.sort_values(ascending=False)\n",
    "    return scores\n",
    "\n",
    "file_path = Path('./data/bm25_scores.parquet')\n",
    "if file_path.exists():\n",
    "    bm25_res = pl.read_parquet(file_path)\n",
    "else:\n",
    "    scores = []\n",
    "    n_questions = 2875\n",
    "    n_results_per_question = 2\n",
    "    for question in tqdm(questions['question'][:n_questions]):\n",
    "        q_scores = pd.Series(bm25_scores(question))\n",
    "        top_10 = q_scores.sort_values(ascending=False)[:n_results_per_question].index.to_list()\n",
    "        scores.append(top_10)\n",
    "\n",
    "    bm25_res = pl.Series(\"bm25\", scores, dtype=pl.List(pl.UInt32))\n",
    "    bm25_res = questions[:n_questions][['question', 'title', 'section_title']].with_columns(bm25_res)\n",
    "    bm25_res = bm25_res.with_row_count('qid')\n",
    "    bm25_res = bm25_res.explode('bm25')\n",
    "    bm25_res = bm25_res.with_columns(pl.lit(1).alias(\"ones\"))\\\n",
    "                       .select([\n",
    "                           pl.all().exclude(\"ones\"),\n",
    "                           pl.col(\"ones\").cumsum().over(\"qid\").flatten().alias(\"result_idx\")\n",
    "                       ])\n",
    "    bm25_res = bm25_res.join(passages, how='left', left_on='bm25', right_on='passage_id', suffix='_bm25', validate='m:1')\n",
    "    bm25_res.write_parquet(file_path)"
   ]
  },
  {
   "cell_type": "markdown",
   "id": "1802e4d8-6515-4589-a6b7-06fd52e9baaf",
   "metadata": {},
   "source": [
    "## Using ColBERT to find Wiki Section"
   ]
  },
  {
   "cell_type": "code",
   "execution_count": 19,
   "id": "f6bb2981-b1cf-446d-b066-116f657dda94",
   "metadata": {
    "tags": []
   },
   "outputs": [
    {
     "name": "stdout",
     "output_type": "stream",
     "text": [
      "[Sep 07, 08:47:05] #> Loading collection...\n",
      "0M \n"
     ]
    },
    {
     "data": {
      "text/plain": [
       "'Loaded 290,512 passages'"
      ]
     },
     "execution_count": 19,
     "metadata": {},
     "output_type": "execute_result"
    }
   ],
   "source": [
    "c_collection = Collection(passages_file + '_colbert.tsv')\n",
    "f'Loaded {len(c_collection):,} passages'"
   ]
  },
  {
   "cell_type": "code",
   "execution_count": 20,
   "id": "51f62a73-3084-49f8-9e19-45dab7fcb213",
   "metadata": {
    "tags": []
   },
   "outputs": [],
   "source": [
    "# ColBERTConfig?"
   ]
  },
  {
   "cell_type": "code",
   "execution_count": 21,
   "id": "db6f01a8-acbc-42b1-b7f6-f8f0c0d68046",
   "metadata": {
    "tags": []
   },
   "outputs": [],
   "source": [
    "nbits = 2 # encode each dimension with 2 bits\n",
    "doc_maxlen = 512   # passages are tuncated to be around 512 tokens\n",
    "dim = 128 # 128 is max for BERT\n",
    "\n",
    "checkpoint = './checkpoints/colbertv2.0'\n",
    "experiment = 'wiki-science'\n",
    "indexer_name = f\"wiki_pages_index_{nbits}bits_max_words{max_words}\"\n",
    "\n",
    "os.environ['COLBERT_LOAD_TORCH_EXTENSION_VERBOSE'] = 'True'\n",
    "\n",
    "config = ColBERTConfig(\n",
    "    doc_maxlen=doc_maxlen,\n",
    "    nbits=nbits,\n",
    "    dim=dim\n",
    ")"
   ]
  },
  {
   "cell_type": "code",
   "execution_count": 22,
   "id": "9b14b8e2-8820-4591-8436-be1a5694e432",
   "metadata": {
    "tags": []
   },
   "outputs": [],
   "source": [
    "rerun = False\n",
    "if rerun:\n",
    "    with Run().context(RunConfig(nranks=1, experiment=experiment)):\n",
    "        indexer = Indexer(checkpoint=checkpoint, config=config)\n",
    "        indexer.index(name=indexer_name,\n",
    "                      collection=c_collection,\n",
    "                      overwrite=True)"
   ]
  },
  {
   "cell_type": "markdown",
   "id": "7ca30d84-a62c-41db-8606-1057ad3bb6ba",
   "metadata": {
    "tags": []
   },
   "source": [
    "## Search for known sections"
   ]
  },
  {
   "cell_type": "code",
   "execution_count": 92,
   "id": "bdbb5412-0bae-4e99-beaa-da3ba63c2984",
   "metadata": {},
   "outputs": [
    {
     "name": "stdout",
     "output_type": "stream",
     "text": [
      "[Sep 07, 10:26:58] #> Loading the queries from ./data/wiki_queries.tsv ...\n",
      "[Sep 07, 10:26:58] #> Got 2874 queries. All QIDs are unique.\n",
      "\n"
     ]
    },
    {
     "data": {
      "text/plain": [
       "'Loaded 2874 queries'"
      ]
     },
     "execution_count": 92,
     "metadata": {},
     "output_type": "execute_result"
    }
   ],
   "source": [
    "queries = questions.with_row_count('qid')[['qid', 'question']]\n",
    "queries = queries.with_columns(pl.col('question').str.replace_all('\\n', ' '))\n",
    "queries_file = './data/wiki_queries.tsv'\n",
    "queries.write_csv(queries_file, separator='\\t', has_header=False)\n",
    "c_queries = Queries(queries_file)\n",
    "f'Loaded {len(c_queries)} queries'"
   ]
  },
  {
   "cell_type": "code",
   "execution_count": 93,
   "id": "5a799e41-278d-4fe7-a307-68b8c4323927",
   "metadata": {},
   "outputs": [
    {
     "name": "stdout",
     "output_type": "stream",
     "text": [
      "[Sep 07, 10:26:59] #> Loading collection...\n",
      "0M \n",
      "[Sep 07, 10:27:00] #> Loading codec...\n",
      "[Sep 07, 10:27:00] #> Loading IVF...\n",
      "[Sep 07, 10:27:00] #> Loading doclens...\n"
     ]
    },
    {
     "name": "stderr",
     "output_type": "stream",
     "text": [
      "100%|██████████| 12/12 [00:00<00:00, 2920.49it/s]"
     ]
    },
    {
     "name": "stdout",
     "output_type": "stream",
     "text": [
      "[Sep 07, 10:27:00] #> Loading codes and residuals...\n"
     ]
    },
    {
     "name": "stderr",
     "output_type": "stream",
     "text": [
      "\n",
      "100%|██████████| 12/12 [00:00<00:00, 21.58it/s]\n",
      "100%|██████████| 2874/2874 [00:11<00:00, 250.63it/s]\n"
     ]
    }
   ],
   "source": [
    "with Run().context(RunConfig(nranks=1, experiment=experiment)):\n",
    "    searcher = Searcher(index=indexer_name, config=config)\n",
    "    ranking = searcher.search_all(c_queries, k=n_results_per_question)"
   ]
  },
  {
   "cell_type": "code",
   "execution_count": 94,
   "id": "08e29ae5-d842-427c-a991-822cfa516a51",
   "metadata": {
    "tags": []
   },
   "outputs": [],
   "source": [
    "# info.with_columns(pl.lit(1).alias(\"ones\"))\\\n",
    "#     .select([\n",
    "#         pl.all().exclude(\"ones\"),\n",
    "#         pl.col(\"ones\").cumsum().over(\"qid\").flatten().alias(\"bm25_idx\")\n",
    "#     ])"
   ]
  },
  {
   "cell_type": "code",
   "execution_count": null,
   "id": "cdffc672-c831-4129-bfc5-5b28bbde9fa6",
   "metadata": {},
   "outputs": [],
   "source": []
  },
  {
   "cell_type": "code",
   "execution_count": 101,
   "id": "535aa3d3-76a1-4269-b9f1-a48f47a31cfa",
   "metadata": {
    "tags": []
   },
   "outputs": [
    {
     "data": {
      "text/plain": [
       "(2875, 5748)"
      ]
     },
     "execution_count": 101,
     "metadata": {},
     "output_type": "execute_result"
    }
   ],
   "source": [
    "n_questions, len(ranking.flat_ranking)"
   ]
  },
  {
   "cell_type": "code",
   "execution_count": 102,
   "id": "183b29dd-f090-4a03-b385-519d3bf698c0",
   "metadata": {
    "tags": []
   },
   "outputs": [
    {
     "data": {
      "text/plain": [
       "5748"
      ]
     },
     "execution_count": 102,
     "metadata": {},
     "output_type": "execute_result"
    }
   ],
   "source": [
    "colbert = [tup[1] for tup in ranking.flat_ranking]\n",
    "colbert = pl.Series(\"colbert\", colbert[:n_questions * n_results_per_question], dtype=pl.UInt32)\n",
    "len(colbert)"
   ]
  },
  {
   "cell_type": "code",
   "execution_count": 103,
   "id": "c058c245-892c-4d2e-ad01-038bd330790a",
   "metadata": {
    "tags": []
   },
   "outputs": [],
   "source": [
    "colbert = [tup[1] for tup in ranking.flat_ranking]\n",
    "colbert = pl.Series(\"colbert\", colbert[:n_questions * n_results_per_question], dtype=pl.UInt32)\n",
    "res = bm25_res.with_columns(colbert)\n",
    "res = res.join(passages, how='left', left_on='colbert', right_on='passage_id', validate='m:1', suffix='_col')\n",
    "res = res.with_columns([\n",
    "    (pl.col('title') == pl.col('title_bm25')).alias('bm25_title_match'),\n",
    "    (pl.col('title') == pl.col('title_col')).alias('col_title_match')\n",
    "])"
   ]
  },
  {
   "cell_type": "code",
   "execution_count": 104,
   "id": "a8b96abf-8ae1-45b8-88c1-0aac96de749c",
   "metadata": {
    "tags": []
   },
   "outputs": [
    {
     "data": {
      "text/plain": [
       "0.523312456506611"
      ]
     },
     "execution_count": 104,
     "metadata": {},
     "output_type": "execute_result"
    }
   ],
   "source": [
    "res.filter(pl.col('result_idx') == 1)['bm25_title_match'].mean()"
   ]
  },
  {
   "cell_type": "code",
   "execution_count": 105,
   "id": "c503e3ce-a35a-4289-bffc-03a549b49889",
   "metadata": {
    "tags": []
   },
   "outputs": [
    {
     "data": {
      "text/plain": [
       "0.8256784968684759"
      ]
     },
     "execution_count": 105,
     "metadata": {},
     "output_type": "execute_result"
    }
   ],
   "source": [
    "res.filter(pl.col('result_idx') == 1)['col_title_match'].mean()"
   ]
  },
  {
   "cell_type": "markdown",
   "id": "930a694a-1928-46d6-b038-f5bdad8d48cd",
   "metadata": {
    "tags": []
   },
   "source": [
    "### Recall at 2"
   ]
  },
  {
   "cell_type": "code",
   "execution_count": 109,
   "id": "d7a8eec2-a3a0-4ba8-a36e-03a97212e949",
   "metadata": {
    "tags": []
   },
   "outputs": [
    {
     "data": {
      "text/plain": [
       "0.6151704940848991"
      ]
     },
     "execution_count": 109,
     "metadata": {},
     "output_type": "execute_result"
    }
   ],
   "source": [
    "res.filter(pl.col('result_idx') <= 2).groupby('qid').agg(pl.max('bm25_title_match'))['bm25_title_match'].mean()"
   ]
  },
  {
   "cell_type": "code",
   "execution_count": 108,
   "id": "aa088a5f-4c86-4a44-adf9-0045ac444330",
   "metadata": {
    "tags": []
   },
   "outputs": [
    {
     "data": {
      "text/plain": [
       "0.9147529575504524"
      ]
     },
     "execution_count": 108,
     "metadata": {},
     "output_type": "execute_result"
    }
   ],
   "source": [
    "res.filter(pl.col('result_idx') <= 2).groupby('qid').agg(pl.max('col_title_match'))['col_title_match'].mean()"
   ]
  },
  {
   "cell_type": "code",
   "execution_count": 33,
   "id": "eaf7a5be-d194-4a9a-a635-70dfc42cd415",
   "metadata": {
    "tags": []
   },
   "outputs": [
    {
     "data": {
      "text/html": [
       "<div><style>\n",
       ".dataframe > thead > tr > th,\n",
       ".dataframe > tbody > tr > td {\n",
       "  text-align: right;\n",
       "}\n",
       "</style>\n",
       "<small>shape: (2, 3)</small><table border=\"1\" class=\"dataframe\"><thead><tr><th>question</th><th>passage_text</th><th>passage_text_col</th></tr><tr><td>str</td><td>str</td><td>str</td></tr></thead><tbody><tr><td>&quot;What is the net rate of flow of electric charge through a surface called?&quot;</td><td>&quot;pp-vandalismsmallyes ElectromagnetismNetwork An electric current is a flow of charged particles, such as electrons or ions, moving through an electrical conductor or space. It is defined as the net rate of flow of electric charge through a surface.rp2rp622 The moving particles are called charge carriers, which may be one of several types of particles, depending on the conductor. In electric circuits the charge carriers are often electrons moving through a wire. In semiconductors they can be electrons or Electron hole. In an Electrolyte#Electrochemistry the charge carriers are ions, while in Plasma (physics), an ionized gas, they are ions and electrons.&quot;</td><td>&quot;pp-vandalismsmallyes ElectromagnetismNetwork An electric current is a flow of charged particles, such as electrons or ions, moving through an electrical conductor or space. It is defined as the net rate of flow of electric charge through a surface.rp2rp622 The moving particles are called charge carriers, which may be one of several types of particles, depending on the conductor. In electric circuits the charge carriers are often electrons moving through a wire. In semiconductors they can be electrons or Electron hole. In an Electrolyte#Electrochemistry the charge carriers are ions, while in Plasma (physics), an ionized gas, they are ions and electrons.&quot;</td></tr><tr><td>&quot;What is the net rate of flow of electric charge through a surface called?&quot;</td><td>&quot;In this view, electric current is a flow caused by the electromotive force and is the analogue of velocity caused by a mechanical force. At the capacitor, this current causes a &quot;displacement current&quot; whose rate of change is equal to the current. The displacement is viewed as an electric deformation (mechanics)#Strain, like a mechanical strain in a compressed spring. The existence of a flow of physical charge is denied, as is the buildup of charge on the capacitor plates.&quot;</td><td>&quot;More generally, electric current can be represented as the rate at which charge flows through a given surface as: I = fracmathrmdQmathrmdt , .&quot;</td></tr></tbody></table></div>"
      ],
      "text/plain": [
       "shape: (2, 3)\n",
       "┌────────────────────────────────┬────────────────────────────────┬────────────────────────────────┐\n",
       "│ question                       ┆ passage_text                   ┆ passage_text_col               │\n",
       "│ ---                            ┆ ---                            ┆ ---                            │\n",
       "│ str                            ┆ str                            ┆ str                            │\n",
       "╞════════════════════════════════╪════════════════════════════════╪════════════════════════════════╡\n",
       "│ What is the net rate of flow   ┆ pp-vandalismsmallyes           ┆ pp-vandalismsmallyes           │\n",
       "│ of electric charge through a   ┆ ElectromagnetismNetwork An     ┆ ElectromagnetismNetwork An     │\n",
       "│ surface called?                ┆ electric current is a flow of  ┆ electric current is a flow of  │\n",
       "│                                ┆ charged particles, such as     ┆ charged particles, such as     │\n",
       "│                                ┆ electrons or ions, moving      ┆ electrons or ions, moving      │\n",
       "│                                ┆ through an electrical          ┆ through an electrical          │\n",
       "│                                ┆ conductor or space. It is      ┆ conductor or space. It is      │\n",
       "│                                ┆ defined as the net rate of     ┆ defined as the net rate of     │\n",
       "│                                ┆ flow of electric charge        ┆ flow of electric charge        │\n",
       "│                                ┆ through a surface.rp2rp622 The ┆ through a surface.rp2rp622 The │\n",
       "│                                ┆ moving particles are called    ┆ moving particles are called    │\n",
       "│                                ┆ charge carriers, which may be  ┆ charge carriers, which may be  │\n",
       "│                                ┆ one of several types of        ┆ one of several types of        │\n",
       "│                                ┆ particles, depending on the    ┆ particles, depending on the    │\n",
       "│                                ┆ conductor. In electric         ┆ conductor. In electric         │\n",
       "│                                ┆ circuits the charge carriers   ┆ circuits the charge carriers   │\n",
       "│                                ┆ are often electrons moving     ┆ are often electrons moving     │\n",
       "│                                ┆ through a wire. In             ┆ through a wire. In             │\n",
       "│                                ┆ semiconductors they can be     ┆ semiconductors they can be     │\n",
       "│                                ┆ electrons or Electron hole. In ┆ electrons or Electron hole. In │\n",
       "│                                ┆ an                             ┆ an                             │\n",
       "│                                ┆ Electrolyte#Electrochemistry   ┆ Electrolyte#Electrochemistry   │\n",
       "│                                ┆ the charge carriers are ions,  ┆ the charge carriers are ions,  │\n",
       "│                                ┆ while in Plasma (physics), an  ┆ while in Plasma (physics), an  │\n",
       "│                                ┆ ionized gas, they are ions and ┆ ionized gas, they are ions and │\n",
       "│                                ┆ electrons.                     ┆ electrons.                     │\n",
       "│ What is the net rate of flow   ┆ In this view, electric current ┆ More generally, electric       │\n",
       "│ of electric charge through a   ┆ is a flow caused by the        ┆ current can be represented as  │\n",
       "│ surface called?                ┆ electromotive force and is the ┆ the rate at which charge flows │\n",
       "│                                ┆ analogue of velocity caused by ┆ through a given surface as: I  │\n",
       "│                                ┆ a mechanical force. At the     ┆ = fracmathrmdQmathrmdt , .     │\n",
       "│                                ┆ capacitor, this current causes ┆                                │\n",
       "│                                ┆ a \"displacement current\" whose ┆                                │\n",
       "│                                ┆ rate of change is equal to the ┆                                │\n",
       "│                                ┆ current. The displacement is   ┆                                │\n",
       "│                                ┆ viewed as an electric          ┆                                │\n",
       "│                                ┆ deformation                    ┆                                │\n",
       "│                                ┆ (mechanics)#Strain, like a     ┆                                │\n",
       "│                                ┆ mechanical strain in a         ┆                                │\n",
       "│                                ┆ compressed spring. The         ┆                                │\n",
       "│                                ┆ existence of a flow of         ┆                                │\n",
       "│                                ┆ physical charge is denied, as  ┆                                │\n",
       "│                                ┆ is the buildup of charge on    ┆                                │\n",
       "│                                ┆ the capacitor plates.          ┆                                │\n",
       "└────────────────────────────────┴────────────────────────────────┴────────────────────────────────┘"
      ]
     },
     "execution_count": 33,
     "metadata": {},
     "output_type": "execute_result"
    }
   ],
   "source": [
    "question = 2\n",
    "res[['question', 'passage_text', 'passage_text_col']][question*n_results_per_question:(question+1)*n_results_per_question]"
   ]
  },
  {
   "cell_type": "code",
   "execution_count": null,
   "id": "a04ee3bf-cd06-4c29-b443-16fcc413eb0b",
   "metadata": {},
   "outputs": [],
   "source": [
    "# res = res.with_columns([\n",
    "#     (pl.col('title') == pl.col('title_bm25')).alias('bm25_title_match'),\n",
    "#     (pl.col('title') == pl.col('title_col')).alias('col_title_match')\n",
    "# ])"
   ]
  },
  {
   "cell_type": "code",
   "execution_count": null,
   "id": "10a15bdd-40f4-44ad-ac70-6af63213f324",
   "metadata": {},
   "outputs": [],
   "source": []
  },
  {
   "cell_type": "code",
   "execution_count": null,
   "id": "4fdd6556-0c0f-4b3a-84d3-eda86adaa7c4",
   "metadata": {},
   "outputs": [],
   "source": []
  },
  {
   "cell_type": "code",
   "execution_count": null,
   "id": "435b55b4-eb21-4d4b-8b15-95bf1a3d5e97",
   "metadata": {},
   "outputs": [],
   "source": []
  },
  {
   "cell_type": "code",
   "execution_count": null,
   "id": "31702514-6ee3-4162-9adc-cfc2cbc26e24",
   "metadata": {},
   "outputs": [],
   "source": []
  },
  {
   "cell_type": "code",
   "execution_count": null,
   "id": "9800029d-1461-4ea4-8b56-158831bb0193",
   "metadata": {},
   "outputs": [],
   "source": []
  },
  {
   "cell_type": "code",
   "execution_count": null,
   "id": "a65ac748-c7db-47c6-bb71-a3e01e62b1fd",
   "metadata": {},
   "outputs": [],
   "source": []
  }
 ],
 "metadata": {
  "kernelspec": {
   "display_name": "Python [conda env:pytorch]",
   "language": "python",
   "name": "conda-env-pytorch-py"
  },
  "language_info": {
   "codemirror_mode": {
    "name": "ipython",
    "version": 3
   },
   "file_extension": ".py",
   "mimetype": "text/x-python",
   "name": "python",
   "nbconvert_exporter": "python",
   "pygments_lexer": "ipython3",
   "version": "3.8.17"
  }
 },
 "nbformat": 4,
 "nbformat_minor": 5
}
