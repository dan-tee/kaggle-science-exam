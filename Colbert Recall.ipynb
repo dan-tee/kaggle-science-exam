{
 "cells": [
  {
   "cell_type": "markdown",
   "id": "3e595478-c540-4016-8c45-b6b8173a3217",
   "metadata": {},
   "source": [
    "# Colbert Recall"
   ]
  },
  {
   "cell_type": "code",
   "execution_count": 1,
   "id": "3f654959-a1c7-43ff-9162-fe3a17747377",
   "metadata": {
    "tags": []
   },
   "outputs": [],
   "source": [
    "import os\n",
    "import polars as pl\n",
    "import polars.selectors as cs\n",
    "import pandas as pd\n",
    "import pyarrow as pa\n",
    "import numpy as np\n",
    "import matplotlib.pyplot as plt\n",
    "import seaborn as sns\n",
    "from tqdm.notebook import tqdm\n",
    "\n",
    "from rank_bm25 import BM25Okapi\n",
    "from colbert.infra import Run, RunConfig, ColBERTConfig\n",
    "from colbert.data import Queries, Collection\n",
    "from colbert import Indexer, Searcher\n",
    "\n",
    "pl.Config(fmt_str_lengths=2000);"
   ]
  },
  {
   "cell_type": "code",
   "execution_count": 13,
   "id": "8d239a83-59e6-47e2-a685-b8c9dc233a18",
   "metadata": {
    "tags": []
   },
   "outputs": [
    {
     "data": {
      "text/html": [
       "<div><style>\n",
       ".dataframe > thead > tr > th,\n",
       ".dataframe > tbody > tr > td {\n",
       "  text-align: right;\n",
       "}\n",
       "</style>\n",
       "<small>shape: (1, 9)</small><table border=\"1\" class=\"dataframe\"><thead><tr><th>question</th><th>correct</th><th>incorrect_1</th><th>incorrect_2</th><th>incorrect_3</th><th>incorrect_4</th><th>incorrect_5</th><th>title</th><th>section_title</th></tr><tr><td>str</td><td>str</td><td>str</td><td>str</td><td>str</td><td>str</td><td>str</td><td>str</td><td>str</td></tr></thead><tbody><tr><td>&quot;In mathematics, what is an iterated function?&quot;</td><td>&quot;An iterated function is a function obtained by composing another function with itself a certain number of times.&quot;</td><td>&quot;An iterated function is a function that can only be applied once.&quot;</td><td>&quot;An iterated function is a function that operates on a set of fixed points.&quot;</td><td>&quot;An iterated function is a function that guarantees convergence acceleration.&quot;</td><td>&quot;An iterated function is a function that produces quadratic convergence.&quot;</td><td>&quot;An iterated function is a function that involves the Aitken method.&quot;</td><td>&quot;Iterated function&quot;</td><td>&quot;Fixed points&quot;</td></tr></tbody></table></div>"
      ],
      "text/plain": [
       "shape: (1, 9)\n",
       "┌───────────┬───────────┬───────────┬───────────┬───┬───────────┬───────────┬───────────┬──────────┐\n",
       "│ question  ┆ correct   ┆ incorrect ┆ incorrect ┆ … ┆ incorrect ┆ incorrect ┆ title     ┆ section_ │\n",
       "│ ---       ┆ ---       ┆ _1        ┆ _2        ┆   ┆ _4        ┆ _5        ┆ ---       ┆ title    │\n",
       "│ str       ┆ str       ┆ ---       ┆ ---       ┆   ┆ ---       ┆ ---       ┆ str       ┆ ---      │\n",
       "│           ┆           ┆ str       ┆ str       ┆   ┆ str       ┆ str       ┆           ┆ str      │\n",
       "╞═══════════╪═══════════╪═══════════╪═══════════╪═══╪═══════════╪═══════════╪═══════════╪══════════╡\n",
       "│ In mathem ┆ An        ┆ An        ┆ An        ┆ … ┆ An        ┆ An        ┆ Iterated  ┆ Fixed    │\n",
       "│ atics,    ┆ iterated  ┆ iterated  ┆ iterated  ┆   ┆ iterated  ┆ iterated  ┆ function  ┆ points   │\n",
       "│ what is   ┆ function  ┆ function  ┆ function  ┆   ┆ function  ┆ function  ┆           ┆          │\n",
       "│ an        ┆ is a      ┆ is a      ┆ is a      ┆   ┆ is a      ┆ is a      ┆           ┆          │\n",
       "│ iterated  ┆ function  ┆ function  ┆ function  ┆   ┆ function  ┆ function  ┆           ┆          │\n",
       "│ function? ┆ obtained  ┆ that can  ┆ that      ┆   ┆ that      ┆ that      ┆           ┆          │\n",
       "│           ┆ by        ┆ only be   ┆ operates  ┆   ┆ produces  ┆ involves  ┆           ┆          │\n",
       "│           ┆ composing ┆ applied   ┆ on a set  ┆   ┆ quadratic ┆ the       ┆           ┆          │\n",
       "│           ┆ another   ┆ once.     ┆ of fixed  ┆   ┆ convergen ┆ Aitken    ┆           ┆          │\n",
       "│           ┆ function  ┆           ┆ points.   ┆   ┆ ce.       ┆ method.   ┆           ┆          │\n",
       "│           ┆ with      ┆           ┆           ┆   ┆           ┆           ┆           ┆          │\n",
       "│           ┆ itself a  ┆           ┆           ┆   ┆           ┆           ┆           ┆          │\n",
       "│           ┆ certain   ┆           ┆           ┆   ┆           ┆           ┆           ┆          │\n",
       "│           ┆ number of ┆           ┆           ┆   ┆           ┆           ┆           ┆          │\n",
       "│           ┆ times.    ┆           ┆           ┆   ┆           ┆           ┆           ┆          │\n",
       "└───────────┴───────────┴───────────┴───────────┴───┴───────────┴───────────┴───────────┴──────────┘"
      ]
     },
     "execution_count": 13,
     "metadata": {},
     "output_type": "execute_result"
    }
   ],
   "source": [
    "questions = pl.concat([\n",
    "    pl.read_csv('./data/daniel_train_aug_19_200-300.csv'),\n",
    "    pl.read_csv('./data/daniel_train_aug_19_400-500.csv')\n",
    "])\n",
    "questions.drop_in_place('incorrect_6')\n",
    "questions.shape\n",
    "questions[:1]"
   ]
  },
  {
   "cell_type": "code",
   "execution_count": 14,
   "id": "3fa3bc84-0474-48a3-bb94-20fd606027e9",
   "metadata": {
    "tags": []
   },
   "outputs": [],
   "source": [
    "nbits = 2   # encode each dimension with 2 bits\n",
    "doc_maxlen = 512   # truncate passages at 300 tokens\n",
    "dim = 512 # default is 128\n",
    "\n",
    "checkpoint = './checkpoints/colbertv2.0'\n",
    "experiment = 'wiki-science'\n",
    "indexer_name = f\"wiki_pages_index_{nbits}bits_{dim}dim\"\n",
    "\n",
    "# os.environ['COLBERT_LOAD_TORCH_EXTENSION_VERBOSE'] = 'True'\n",
    "\n",
    "config = ColBERTConfig(\n",
    "    doc_maxlen=doc_maxlen,\n",
    "    nbits=nbits,\n",
    "    dim=dim\n",
    ")"
   ]
  },
  {
   "cell_type": "code",
   "execution_count": null,
   "id": "14841ab0-6f7d-4e83-bbcc-bf1315f46f38",
   "metadata": {},
   "outputs": [],
   "source": []
  }
 ],
 "metadata": {
  "kernelspec": {
   "display_name": "Python [conda env:colbert]",
   "language": "python",
   "name": "conda-env-colbert-py"
  },
  "language_info": {
   "codemirror_mode": {
    "name": "ipython",
    "version": 3
   },
   "file_extension": ".py",
   "mimetype": "text/x-python",
   "name": "python",
   "nbconvert_exporter": "python",
   "pygments_lexer": "ipython3",
   "version": "3.8.17"
  }
 },
 "nbformat": 4,
 "nbformat_minor": 5
}
