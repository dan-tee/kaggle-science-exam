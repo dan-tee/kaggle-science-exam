{
 "cells": [
  {
   "cell_type": "markdown",
   "id": "b84ed421-c478-4163-9ac6-190defda2e72",
   "metadata": {
    "tags": []
   },
   "source": [
    "# Train With Colbert Q & A"
   ]
  },
  {
   "cell_type": "code",
   "execution_count": 1,
   "id": "cf5baf1f-60bc-4822-9b1d-afcaf349900c",
   "metadata": {
    "tags": []
   },
   "outputs": [],
   "source": [
    "# mamba update wandb -c conda-forge -y"
   ]
  },
  {
   "cell_type": "code",
   "execution_count": 2,
   "id": "740d27c0-1b63-42c3-aafc-33ce1db7297a",
   "metadata": {
    "tags": []
   },
   "outputs": [],
   "source": [
    "import os\n",
    "project_name = \"Science Exam - Kaggle\"\n",
    "run_name = \"V5 Q&A Context\"\n",
    "\n",
    "config = {\n",
    "    'max_words': 100,\n",
    "    'nbits': 1,\n",
    "    'colbert_indexer_version': 5,\n",
    "    'deberta_max_length': 450,\n",
    "    'use_train_daniel': True,\n",
    "    'use_osmu_6k': False,\n",
    "    'use_osmu_15k': True,\n",
    "    'n_extra_test_rows' : 500\n",
    "}\n",
    "\n",
    "from transformers import TrainingArguments, IntervalStrategy\n",
    "from pathlib import Path\n",
    "\n",
    "output_path = Path('./checkpoints')\n",
    "training_args = TrainingArguments(\n",
    "    learning_rate=5e-6,\n",
    "    num_train_epochs=2,\n",
    "    #fp16=True,\n",
    "    #warmup_ratio=0.5,\n",
    "    weight_decay=0,\n",
    "    per_device_train_batch_size=1,\n",
    "    per_device_eval_batch_size=8,\n",
    "    evaluation_strategy = IntervalStrategy.STEPS,\n",
    "    logging_steps=100,\n",
    "    eval_steps=1000,\n",
    "#   save_steps=20000,\n",
    "    report_to='wandb',\n",
    "    output_dir=str(output_path)\n",
    ")"
   ]
  },
  {
   "cell_type": "code",
   "execution_count": 3,
   "id": "97593488-22fb-401c-9a0e-e1c601b0fc21",
   "metadata": {
    "tags": []
   },
   "outputs": [
    {
     "name": "stderr",
     "output_type": "stream",
     "text": [
      "/home/daniel/mambaforge/envs/pytorch/lib/python3.10/site-packages/scipy/__init__.py:146: UserWarning: A NumPy version >=1.17.3 and <1.25.0 is required for this version of SciPy (detected version 1.26.0\n",
      "  warnings.warn(f\"A NumPy version >={np_minversion} and <{np_maxversion}\"\n"
     ]
    }
   ],
   "source": [
    "import os\n",
    "import glob\n",
    "import polars as pl\n",
    "import polars.selectors as cs\n",
    "import pandas as pd\n",
    "import pyarrow as pa\n",
    "import numpy as np\n",
    "import matplotlib.pyplot as plt\n",
    "import seaborn as sns\n",
    "from tqdm.notebook import tqdm\n",
    "from dataclasses import dataclass\n",
    "from typing import Optional, Union\n",
    "from scipy.special import softmax\n",
    "\n",
    "\n",
    "from colbert.infra import Run, RunConfig, ColBERTConfig\n",
    "from colbert.data import Queries\n",
    "from colbert import Indexer, Searcher\n",
    "\n",
    "import wandb\n",
    "\n",
    "import torch\n",
    "import evaluate\n",
    "from transformers import AutoTokenizer, AutoModelForMultipleChoice, Trainer, \\\n",
    "                        get_linear_schedule_with_warmup\n",
    "from transformers.integrations import WandbCallback\n",
    "from transformers.tokenization_utils_base import PreTrainedTokenizerBase, PaddingStrategy\n",
    "from transformers.utils.notebook import NotebookProgressCallback\n",
    "from datasets import Dataset # HuggingFace\n",
    "from torch.optim import AdamW\n",
    "from torch.optim.lr_scheduler import OneCycleLR"
   ]
  },
  {
   "cell_type": "code",
   "execution_count": 4,
   "id": "2d4d9e9e-81a7-4aab-8b01-4b9cbf4773db",
   "metadata": {
    "tags": []
   },
   "outputs": [],
   "source": [
    "pl.Config(fmt_str_lengths=2000);"
   ]
  },
  {
   "cell_type": "code",
   "execution_count": 5,
   "id": "60138f6d-28db-41bf-adcb-850c260e5a22",
   "metadata": {
    "tags": []
   },
   "outputs": [],
   "source": [
    "#!conda install -c conda-forge faiss-gpu -y"
   ]
  },
  {
   "cell_type": "code",
   "execution_count": null,
   "id": "52dfd5d4-a287-4012-a509-a56641c9c650",
   "metadata": {
    "tags": []
   },
   "outputs": [],
   "source": []
  },
  {
   "cell_type": "code",
   "execution_count": 6,
   "id": "206053ff-2baa-487e-8226-2a0e664266e2",
   "metadata": {
    "tags": []
   },
   "outputs": [
    {
     "name": "stdout",
     "output_type": "stream",
     "text": [
      "(7649, 9) ['question', 'title', 'section_title', 'A', 'B', 'C', 'D', 'E', 'answer']\n",
      "7149 500\n",
      "(5518, 8) (500, 8) ['question', 'A', 'C', 'B', 'D', 'E', 'answer', 'wikipedia_excerpt']\n"
     ]
    }
   ],
   "source": [
    "n_extra_test = config['n_extra_test_rows']\n",
    "train_sets = []\n",
    "test_sets = {}\n",
    "\n",
    "test = pl.read_csv('data/train.csv')\n",
    "test = test.rename({'prompt': 'question'})\n",
    "test = test.drop(columns=\"id\")\n",
    "test_sets['test'] = test\n",
    "\n",
    "train_cols = ['question', 'A', 'C', 'B', 'D', 'E', 'answer']\n",
    "if config['use_train_daniel']:\n",
    "    train_daniel = pl.read_parquet('./data/daniel_train/train_shuffled.parquet')\n",
    "    print(train_daniel.shape, train_daniel.columns)\n",
    "\n",
    "    test_daniel = train_daniel[train_daniel.shape[0] - n_extra_test:]\n",
    "    train_daniel = train_daniel[:train_daniel.shape[0] - n_extra_test]\n",
    "    train_sets.append(train_daniel[train_cols])\n",
    "    test_sets['test_daniel'] = test_daniel\n",
    "    print(train_daniel.shape[0], test_daniel.shape[0])\n",
    "    \n",
    "\n",
    "if config['use_osmu_6k'] and config['use_osmu_15k']:\n",
    "    raise Exception('The 6k Osmu set is contained in the 15k set, so only one should be used.')\n",
    "\n",
    "osmu_file = None\n",
    "if config['use_osmu_6k']:\n",
    "    osmu_file = './data/osmulski_15k.csv'\n",
    "if config['use_osmu_15k']:\n",
    "    osmu_file = './data/6000_wiki_en_sci_questions_with_excerpts.csv'\n",
    "    \n",
    "if osmu_file:\n",
    "    train_osmu = pl.read_csv(osmu_file) \\\n",
    "                   .filter(pl.col('A').is_not_null())\n",
    "    train_osmu = train_osmu.rename({'prompt': 'question'})\n",
    "\n",
    "    test_osmu = train_osmu[train_osmu.shape[0]- n_extra_test:]\n",
    "    train_osmu = train_osmu[:train_osmu.shape[0]- n_extra_test]\n",
    "    print(train_osmu.shape, test_osmu.shape, train_osmu.columns)\n",
    "    \n",
    "    train_sets.append(train_osmu[train_cols])\n",
    "    test_sets['test_osmu'] = test_osmu"
   ]
  },
  {
   "cell_type": "code",
   "execution_count": 7,
   "id": "80ad0ab9-587e-407e-bd7a-e64141e4daaf",
   "metadata": {
    "tags": []
   },
   "outputs": [],
   "source": [
    "train = pl.concat(train_sets)"
   ]
  },
  {
   "cell_type": "markdown",
   "id": "bc4d7781-4310-4cfc-8ef3-9fc50ea3c4a4",
   "metadata": {
    "tags": []
   },
   "source": [
    "## Retrieve Wiki Context via ColBERT"
   ]
  },
  {
   "cell_type": "code",
   "execution_count": 8,
   "id": "7c8f318e-ba0a-4b2e-923e-51bf0d152e74",
   "metadata": {
    "tags": []
   },
   "outputs": [
    {
     "data": {
      "text/plain": [
       "['passage_id',\n",
       " 'section_id',\n",
       " 'title',\n",
       " 'section_title',\n",
       " 'section_index',\n",
       " 'passage_text',\n",
       " 'title_section_rank']"
      ]
     },
     "execution_count": 8,
     "metadata": {},
     "output_type": "execute_result"
    }
   ],
   "source": [
    "max_words = config['max_words']\n",
    "nbits = config['nbits']\n",
    "colbert_indexer_version = config['colbert_indexer_version']\n",
    "colbert_path = Path(f'./data/colbert_max_words_{max_words}_nbits_{nbits}-v{colbert_indexer_version}')\n",
    "wiki_passages = pl.read_parquet(colbert_path/f'wiki_passages.parquet')\n",
    "wiki_passages.columns"
   ]
  },
  {
   "cell_type": "code",
   "execution_count": 9,
   "id": "4e420b8d-0936-4531-a8ff-be8ac44cdf1d",
   "metadata": {
    "tags": []
   },
   "outputs": [
    {
     "data": {
      "text/plain": [
       "100"
      ]
     },
     "execution_count": 9,
     "metadata": {},
     "output_type": "execute_result"
    }
   ],
   "source": [
    "word_counts = wiki_passages['passage_text'].str.split(' ').list.lengths()\n",
    "assert max_words == word_counts.max()\n",
    "word_counts.max()"
   ]
  },
  {
   "cell_type": "code",
   "execution_count": 10,
   "id": "086b8d15-7c58-4304-a61b-03ba85057199",
   "metadata": {
    "tags": []
   },
   "outputs": [
    {
     "data": {
      "image/png": "[encoded data removed]",
      "text/plain": [
       "<Figure size 600x300 with 1 Axes>"
      ]
     },
     "metadata": {},
     "output_type": "display_data"
    }
   ],
   "source": [
    "plt.figure(figsize=[6,3])\n",
    "sns.histplot(word_counts, binrange=[0, 150], bins=75)\n",
    "plt.title('Passages character length');"
   ]
  },
  {
   "cell_type": "code",
   "execution_count": 11,
   "id": "97bc9251-4b99-47be-bf46-02a8bb210b6c",
   "metadata": {
    "tags": []
   },
   "outputs": [],
   "source": [
    "n_results_per_question = 1\n",
    "\n",
    "#doc_maxlen = 160 # 512   # lenght in tokens\n",
    "#dim = 128 # 128 is max for BERT\n",
    "\n",
    "checkpoint = './checkpoints/colbertv2.0'\n",
    "\n",
    "indexer_name = f'colbert_wiki_indexer'\n",
    "#os.environ['COLBERT_LOAD_TORCH_EXTENSION_VERBOSE'] = 'True'\n",
    "\n",
    "colbert_config = ColBERTConfig(\n",
    "    #doc_maxlen=doc_maxlen,\n",
    "    nbits=nbits\n",
    "    #dim=dim\n",
    ")"
   ]
  },
  {
   "cell_type": "code",
   "execution_count": 12,
   "id": "8929ebb8-16bd-453d-bc47-175248a0a010",
   "metadata": {
    "tags": []
   },
   "outputs": [],
   "source": [
    "def add_q_colbert_context(data):\n",
    "    num_ctx_cols = 1\n",
    "    queries = data.with_row_count('qid')[['qid', 'question']]\n",
    "    queries = queries.with_columns(pl.col('question').str.replace_all('\\n', ' ')) \n",
    "    queries_file = './data/wiki_queries.tsv'\n",
    "    queries.write_csv(queries_file, separator='\\t', has_header=False)\n",
    "\n",
    "    c_queries = Queries(queries_file)\n",
    "\n",
    "    searcher = Searcher(index=indexer_name, \n",
    "                        config=colbert_config,\n",
    "                        collection=str(colbert_path/f'wiki_passages.tsv'))\n",
    "    ranking = searcher.search_all(c_queries, k=n_results_per_question)\n",
    "\n",
    "    colbert_passage_ids = pl.DataFrame(pd.DataFrame(ranking.items()))\n",
    "    colbert_passage_ids = colbert_passage_ids \\\n",
    "        .lazy() \\\n",
    "        .select([pl.col(\"1\").list.get(i).list.get(0).alias(f\"wiki_ctx_{i+1}\").cast(pl.UInt32) for i in range(num_ctx_cols)]) \\\n",
    "        .collect()\n",
    "    \n",
    "    passages = wiki_passages[['passage_id', 'passage_text']]\n",
    "    data_p = data.with_columns(colbert_passage_ids)\n",
    "    for i in range(num_ctx_cols):\n",
    "        data_p = data_p.join(passages, how='left', left_on=f'wiki_ctx_{i+1}', right_on='passage_id', validate='m:1', suffix=f'_{i+1}')\n",
    "    return data_p"
   ]
  },
  {
   "cell_type": "code",
   "execution_count": 13,
   "id": "a03f59e8-5f99-44d5-ba14-4284c0e63cc1",
   "metadata": {
    "tags": []
   },
   "outputs": [],
   "source": [
    "a_to_e = ['A', 'B', 'C', 'D', 'E']\n",
    "score_col_prefix = 'answer_passage_score_'\n",
    "\n",
    "def add_answer_colbert_context(data):\n",
    "    n_results_per_question = 1\n",
    "    \n",
    "    for letter in a_to_e:\n",
    "        answer_queries = data.with_row_count('qid')[['qid', letter]]\n",
    "        answer_queries = answer_queries.with_columns(pl.col(letter).str.replace_all('\\n', ' ')) \n",
    "        queries_file = './data/wiki_queries.tsv'\n",
    "        answer_queries.write_csv(queries_file, separator='\\t', has_header=False)\n",
    "\n",
    "        col_a_queries = Queries(queries_file)\n",
    "\n",
    "        searcher = Searcher(index=indexer_name, \n",
    "                            config=colbert_config,\n",
    "                            collection=str(colbert_path/f'wiki_passages.tsv'))\n",
    "        ranking = searcher.search_all(col_a_queries, k=n_results_per_question)\n",
    "\n",
    "        ranking = pl.DataFrame(pd.DataFrame(ranking.items()))\n",
    "        answer_passage_ids = ranking['1'].list.get(0).list.get(0)\n",
    "        answer_scores = ranking['1'].list.get(0).list.get(2)\n",
    "\n",
    "        id_col_name = f'passage_id_{letter}'\n",
    "        score_col_name = f'{score_col_prefix}{letter}'\n",
    "        data = data.with_columns(**{\n",
    "            id_col_name: answer_passage_ids.cast(pl.UInt32),\n",
    "            score_col_name: answer_scores\n",
    "        })\n",
    "\n",
    "        passages = wiki_passages[['passage_id', 'passage_text']]\n",
    "        data = data.join(passages, how='left', left_on=id_col_name, right_on='passage_id', validate='m:1', suffix=f'_{letter}')\n",
    "    return data\n",
    "    \n",
    "    \n",
    "def add_best_answer(data):\n",
    "    best_answer_matches = []\n",
    "    best_answer_letters = []\n",
    "    highscores = []\n",
    "    for row in data.iter_rows(named=True):\n",
    "\n",
    "        highest_score = 0\n",
    "        highscore_letter = None\n",
    "        for letter in a_to_e:\n",
    "            score_col_name = f'{score_col_prefix}{letter}'\n",
    "            if row[score_col_name] > highest_score:\n",
    "                highest_score = row[score_col_name]\n",
    "                highscore_letter = letter\n",
    "\n",
    "        id_col_name = f'passage_text_{highscore_letter}'\n",
    "        best_answer_matches.append(row[id_col_name])\n",
    "        best_answer_letters.append(highscore_letter)\n",
    "        highscores.append(highest_score)\n",
    "\n",
    "    return data.with_columns(best_answer_match=pl.Series(best_answer_matches),\n",
    "                             answer_score=pl.Series(highscores),\n",
    "                             best_answer_letter=pl.Series(best_answer_letters))"
   ]
  },
  {
   "cell_type": "code",
   "execution_count": 14,
   "id": "5ef0008d-09c3-4b9c-b858-6ff6e42fe9ed",
   "metadata": {
    "tags": []
   },
   "outputs": [],
   "source": [
    "rerun = False\n",
    "\n",
    "enriched_cache_path = Path(f'./data/qa_context_{max_words}')\n",
    "os.makedirs(enriched_cache_path, exist_ok=True)\n",
    "\n",
    "def cached_add_q_colbert_context(data, file_name):\n",
    "    file_path = enriched_cache_path/f'{file_name}.parquet'\n",
    "    if file_path.exists() and not rerun:\n",
    "        return pl.read_parquet(file_path)\n",
    "    else:\n",
    "        with Run().context(RunConfig(nranks=1,\n",
    "                                    index_root=str(colbert_path))):\n",
    "            with_context = add_q_colbert_context(data)\n",
    "            with_context = add_answer_colbert_context(with_context)\n",
    "        torch.cuda.empty_cache()\n",
    "        with_context = add_best_answer(with_context)\n",
    "        with_context.write_parquet(file_path)\n",
    "        return with_context\n",
    "    \n",
    "train_ctx = cached_add_q_colbert_context(train, 'train')\n",
    "test_sets_ctx = {}\n",
    "for name, data in test_sets.items():\n",
    "    test_sets_ctx[name] = cached_add_q_colbert_context(data, name)"
   ]
  },
  {
   "cell_type": "code",
   "execution_count": 15,
   "id": "840aa5bc-83af-4d47-9b05-483868459f7c",
   "metadata": {
    "tags": []
   },
   "outputs": [],
   "source": [
    "# with pl.Config(fmt_str_lengths=50):\n",
    "#     display(test_p[0])"
   ]
  },
  {
   "cell_type": "code",
   "execution_count": 16,
   "id": "45407120-ba68-45cc-9d45-7825d6c4d08a",
   "metadata": {
    "tags": []
   },
   "outputs": [],
   "source": [
    "# test_osmu_p['passage_text'].str.split(' ').list.lengths().max()"
   ]
  },
  {
   "cell_type": "markdown",
   "id": "f4f23d30-37e3-4cb6-9b19-bc929f86af41",
   "metadata": {},
   "source": [
    "## Prepare Train and Test for DeBERTa"
   ]
  },
  {
   "cell_type": "code",
   "execution_count": 17,
   "id": "e24fff00-e749-4daf-82c2-a10fbf3d1ae0",
   "metadata": {
    "tags": []
   },
   "outputs": [
    {
     "name": "stderr",
     "output_type": "stream",
     "text": [
      "Special tokens have been added in the vocabulary, make sure the associated word embeddings are fine-tuned or trained.\n",
      "/home/daniel/mambaforge/envs/pytorch/lib/python3.10/site-packages/transformers/convert_slow_tokenizer.py:473: UserWarning: The sentencepiece tokenizer that you are converting to a fast tokenizer uses the byte fallback option which is not implemented in the fast tokenizers. In practice this means that the fast version of the tokenizer can produce unknown tokens whereas the sentencepiece version would have converted these unknown tokens into a sequence of byte tokens matching the original piece of text.\n",
      "  warnings.warn(\n",
      "Special tokens have been added in the vocabulary, make sure the associated word embeddings are fine-tuned or trained.\n"
     ]
    }
   ],
   "source": [
    "deberta_v3_large = 'microsoft/deberta-v3-large'\n",
    "tokenizer = AutoTokenizer.from_pretrained(deberta_v3_large)"
   ]
  },
  {
   "cell_type": "code",
   "execution_count": 18,
   "id": "62ac41ab-9963-4c50-858c-3787c620073c",
   "metadata": {
    "tags": []
   },
   "outputs": [],
   "source": [
    "max_length = config['deberta_max_length']\n",
    "\n",
    "option_to_index = {option: idx for idx, option in enumerate('ABCDE')}\n",
    "index_to_option = {v: k for k,v in option_to_index.items()}\n",
    "\n",
    "@dataclass\n",
    "class DataCollatorForMultipleChoice:\n",
    "    tokenizer: PreTrainedTokenizerBase\n",
    "    max_length: Optional[int] = None\n",
    "\n",
    "    \n",
    "    def __call__(self, input_batch):\n",
    "        # input_batch is list of samples, choices, tokens\n",
    "        additional_cols = set(input_batch[0].keys()) - set(['input_ids', 'token_type_ids', 'attention_mask', 'label'])\n",
    "        if len(additional_cols) > 0:\n",
    "            print(f'{additional_cols=}')\n",
    "        \n",
    "        label_name = None\n",
    "        if 'label' in input_batch[0].keys():\n",
    "            label_name = 'label' \n",
    "            labels = [feature.pop(label_name) for feature in input_batch]\n",
    "        batch_size = len(input_batch)\n",
    "        num_choices = len(input_batch[0]['input_ids'])\n",
    "        flattened_input = [\n",
    "            [{k: v[i] for k, v in sample.items()} for i in range(num_choices)] for sample in input_batch\n",
    "        ]\n",
    "        flattened_input = sum(flattened_input, [])\n",
    "        \n",
    "        batch = self.tokenizer.pad(\n",
    "            flattened_input,\n",
    "            padding='max_length',\n",
    "            max_length=self.max_length,\n",
    "            return_tensors='pt',\n",
    "        )\n",
    "        \n",
    "        # batch.shape = (n_samples, n_choices, n_tokens)\n",
    "        batch = {k: v.view(batch_size, num_choices, -1) for k, v in batch.items()}\n",
    "        if label_name is not None:\n",
    "            batch['labels'] = torch.tensor(labels, dtype=torch.int64)\n",
    "        #print(np.array(batch['input_ids']).shape)\n",
    "        return batch"
   ]
  },
  {
   "cell_type": "code",
   "execution_count": 19,
   "id": "59284fda-4ec7-4f75-aaae-84fa8b5e4385",
   "metadata": {
    "tags": []
   },
   "outputs": [],
   "source": [
    "def preprocess(example):\n",
    "    # adding the wikipedia page as context for the question by adding it after a [SEP] token to the question.\n",
    "    first_sentence = [f\"\"\"{example['question']}\n",
    "[SEP]{example['passage_text']}\n",
    "[SEP]{example['best_answer_match']}\n",
    "\"\"\"] * 5\n",
    "# [SEP]{example['best_answer_letter']}\n",
    "    second_sentences = [example[option] for option in 'ABCDE']\n",
    "    tokenized_example = tokenizer(first_sentence, second_sentences, truncation='longest_first', max_length=max_length)\n",
    "    if 'answer' in example.keys():\n",
    "        tokenized_example['label'] = option_to_index[example['answer']]\n",
    "    \n",
    "    return tokenized_example\n",
    "\n",
    "def tokenized_dataset(data):\n",
    "    columns_to_keep = set(['input_ids', 'token_type_ids', 'attention_mask', 'label'])\n",
    "    dataset = Dataset.from_pandas(data.to_pandas(), preserve_index=False)\n",
    "    col_to_remove = set(data.columns) - columns_to_keep\n",
    "    tokenized = dataset.map(preprocess, remove_columns=col_to_remove)\n",
    "    return tokenized"
   ]
  },
  {
   "cell_type": "code",
   "execution_count": 20,
   "id": "89748f08-ce79-483f-a60f-157d7e41e43f",
   "metadata": {
    "tags": []
   },
   "outputs": [
    {
     "data": {
      "application/vnd.jupyter.widget-view+json": {
       "model_id": "406eef8e6c2a4696be9f83f2af915272",
       "version_major": 2,
       "version_minor": 0
      },
      "text/plain": [
       "Map:   0%|          | 0/7149 [00:00<?, ? examples/s]"
      ]
     },
     "metadata": {},
     "output_type": "display_data"
    },
    {
     "data": {
      "application/vnd.jupyter.widget-view+json": {
       "model_id": "7124a330bd834bdfb8e9042db1e50a7f",
       "version_major": 2,
       "version_minor": 0
      },
      "text/plain": [
       "Map:   0%|          | 0/200 [00:00<?, ? examples/s]"
      ]
     },
     "metadata": {},
     "output_type": "display_data"
    },
    {
     "data": {
      "application/vnd.jupyter.widget-view+json": {
       "model_id": "20a4f644c739417ab05657092c4e1e8e",
       "version_major": 2,
       "version_minor": 0
      },
      "text/plain": [
       "Map:   0%|          | 0/500 [00:00<?, ? examples/s]"
      ]
     },
     "metadata": {},
     "output_type": "display_data"
    },
    {
     "data": {
      "application/vnd.jupyter.widget-view+json": {
       "model_id": "0251ab1e6f8e4b0ca3e3ad169f5d02a5",
       "version_major": 2,
       "version_minor": 0
      },
      "text/plain": [
       "Map:   0%|          | 0/500 [00:00<?, ? examples/s]"
      ]
     },
     "metadata": {},
     "output_type": "display_data"
    }
   ],
   "source": [
    "tokenized_train = tokenized_dataset(train_ctx)\n",
    "eval_datasets = {}\n",
    "for name, data in test_sets_ctx.items():\n",
    "    eval_datasets[name] = tokenized_dataset(data)"
   ]
  },
  {
   "cell_type": "code",
   "execution_count": 21,
   "id": "f6b8390d-b1c8-4a19-9d2b-99131e0bda56",
   "metadata": {
    "tags": []
   },
   "outputs": [
    {
     "data": {
      "image/png": "[encoded data removed]",
      "text/plain": [
       "<Figure size 600x300 with 1 Axes>"
      ]
     },
     "metadata": {},
     "output_type": "display_data"
    }
   ],
   "source": [
    "def plot_length_hist(tokenized_data):\n",
    "    length_list = []\n",
    "    for sample in tokenized_data['input_ids']:\n",
    "        for option in sample:\n",
    "            length_list.append(len(option))\n",
    "\n",
    "    plt.figure(figsize=[6,3])\n",
    "    pd.Series(length_list).hist(bins=100)\n",
    "    \n",
    "plot_length_hist(tokenized_train)"
   ]
  },
  {
   "cell_type": "markdown",
   "id": "242a4727-fea3-4135-88dd-5b7e7fa0c473",
   "metadata": {
    "tags": []
   },
   "source": [
    "## Train DeBERTa"
   ]
  },
  {
   "cell_type": "code",
   "execution_count": 22,
   "id": "5cd72562-8f5c-42f2-a1a4-124e38c66ac4",
   "metadata": {
    "tags": []
   },
   "outputs": [],
   "source": [
    "def precision_at_k(predictions, actuals, k=3):        \n",
    "    if isinstance(actuals, list):\n",
    "        actuals = np.array(actuals)\n",
    "        \n",
    "    found_at = np.where(predictions == actuals.reshape(-1, 1))\n",
    "    # found_at is a tuple with the array of found indices in the second position\n",
    "    score = 1 / (1 + found_at[1])\n",
    "    score[score < 1/k] = 0\n",
    "    return score\n",
    "\n",
    "def mean_avg_precision_at_k(predictions, actual, k=3):\n",
    "    n = predictions.shape[0]\n",
    "    row_precision = precision_at_k(predictions, actual)\n",
    "    return row_precision.sum()/n\n",
    "\n",
    "acc_metric = evaluate.load(\"accuracy\")\n",
    "def compute_metrics(eval_pred):\n",
    "    predictions, labels = eval_pred\n",
    "    predictions = np.flip(predictions.argsort(axis=1), axis=1)\n",
    "    accuracy = acc_metric.compute(predictions=predictions[:,0], references=labels)['accuracy']\n",
    "    map_at_3 = mean_avg_precision_at_k(predictions, labels)\n",
    "    return {\n",
    "        'accuracy': accuracy,\n",
    "        'map_at_3': round(map_at_3, 3)\n",
    "    }"
   ]
  },
  {
   "cell_type": "code",
   "execution_count": null,
   "id": "29f2a1a5-1f9a-4c0a-9738-ce23c15c7f59",
   "metadata": {
    "tags": []
   },
   "outputs": [
    {
     "name": "stderr",
     "output_type": "stream",
     "text": [
      "Failed to detect the name of this notebook, you can set it manually with the WANDB_NOTEBOOK_NAME environment variable to enable code saving.\n",
      "\u001b[34m\u001b[1mwandb\u001b[0m: Currently logged in as: \u001b[33mdatadan\u001b[0m. Use \u001b[1m`wandb login --relogin`\u001b[0m to force relogin\n"
     ]
    },
    {
     "data": {
      "text/html": [
       "Tracking run with wandb version 0.15.11"
      ],
      "text/plain": [
       "<IPython.core.display.HTML object>"
      ]
     },
     "metadata": {},
     "output_type": "display_data"
    },
    {
     "data": {
      "text/html": [
       "Run data is saved locally in <code>/home/daniel/code/kaggle-science-exam/wandb/run-20230927_164728-kfd0nuip</code>"
      ],
      "text/plain": [
       "<IPython.core.display.HTML object>"
      ]
     },
     "metadata": {},
     "output_type": "display_data"
    },
    {
     "data": {
      "text/html": [
       "Syncing run <strong><a href='https://wandb.ai/datadan/Science%20Exam%20-%20Kaggle/runs/kfd0nuip' target=\"_blank\">V5 Q&A Context</a></strong> to <a href='https://wandb.ai/datadan/Science%20Exam%20-%20Kaggle' target=\"_blank\">Weights & Biases</a> (<a href='https://wandb.me/run' target=\"_blank\">docs</a>)<br/>"
      ],
      "text/plain": [
       "<IPython.core.display.HTML object>"
      ]
     },
     "metadata": {},
     "output_type": "display_data"
    },
    {
     "data": {
      "text/html": [
       " View project at <a href='https://wandb.ai/datadan/Science%20Exam%20-%20Kaggle' target=\"_blank\">https://wandb.ai/datadan/Science%20Exam%20-%20Kaggle</a>"
      ],
      "text/plain": [
       "<IPython.core.display.HTML object>"
      ]
     },
     "metadata": {},
     "output_type": "display_data"
    },
    {
     "data": {
      "text/html": [
       " View run at <a href='https://wandb.ai/datadan/Science%20Exam%20-%20Kaggle/runs/kfd0nuip' target=\"_blank\">https://wandb.ai/datadan/Science%20Exam%20-%20Kaggle/runs/kfd0nuip</a>"
      ],
      "text/plain": [
       "<IPython.core.display.HTML object>"
      ]
     },
     "metadata": {},
     "output_type": "display_data"
    },
    {
     "name": "stderr",
     "output_type": "stream",
     "text": [
      "Some weights of DebertaV2ForMultipleChoice were not initialized from the model checkpoint at microsoft/deberta-v3-large and are newly initialized: ['classifier.bias', 'pooler.dense.bias', 'classifier.weight', 'pooler.dense.weight']\n",
      "You should probably TRAIN this model on a down-stream task to be able to use it for predictions and inference.\n",
      "You're using a DebertaV2TokenizerFast tokenizer. Please note that with a fast tokenizer, using the `__call__` method is faster than using a method to encode the text followed by a call to the `pad` method to get a padded encoding.\n"
     ]
    }
   ],
   "source": [
    "retrain = True\n",
    "\n",
    "if not output_path.exists() or retrain:\n",
    "    wandb.init(\n",
    "        project=project_name,\n",
    "        name=run_name,\n",
    "        job_type='train',\n",
    "        config=config\n",
    "        # group=\"bert\"\n",
    "    )\n",
    "       \n",
    "    torch.cuda.empty_cache()\n",
    "    model = AutoModelForMultipleChoice.from_pretrained(deberta_v3_large)\n",
    "\n",
    "    # embedding_lr = 1e-8\n",
    "    # early_layers_lr = 1e-7\n",
    "    # middle_layers_lr = 1e-6\n",
    "    # late_layers_lr = 2e-5\n",
    "    # classifier_lr = 5e-5\n",
    "\n",
    "#     optimizer_grouped_parameters = [\n",
    "#         {'params': model.deberta.embeddings.parameters(), 'lr': embedding_lr},\n",
    "#         {'params': model.deberta.encoder.layer[:8].parameters(), 'lr': early_layers_lr},\n",
    "#         {'params': model.deberta.encoder.layer[8:16].parameters(), 'lr': middle_layers_lr},\n",
    "#         {'params': model.deberta.encoder.layer[16:].parameters(), 'lr': late_layers_lr},\n",
    "#         {'params': model.classifier.parameters(), 'lr': classifier_lr},\n",
    "#     ]\n",
    "    optimizer = AdamW(model.parameters(),\n",
    "                      lr=training_args.learning_rate,\n",
    "                      weight_decay=training_args.weight_decay)\n",
    "                      #optimizer_grouped_parameters)\n",
    "\n",
    "    total_steps = len(tokenized_train) // training_args.per_device_train_batch_size * training_args.num_train_epochs\n",
    "    #warmup_steps = int(total_steps * training_args.warmup_ratio)\n",
    "    #scheduler = get_linear_schedule_with_warmup(optimizer, num_warmup_steps=warmup_steps, num_training_steps=total_steps)\n",
    "    scheduler = OneCycleLR(optimizer, max_lr=training_args.learning_rate, total_steps=total_steps)\n",
    "    trainer = Trainer(\n",
    "        model=model,\n",
    "        args=training_args,\n",
    "        tokenizer=tokenizer,\n",
    "        data_collator=DataCollatorForMultipleChoice(tokenizer=tokenizer, max_length=600),\n",
    "        train_dataset=tokenized_train,\n",
    "        eval_dataset=eval_datasets,\n",
    "        compute_metrics=compute_metrics,\n",
    "        optimizers=(optimizer, scheduler)\n",
    "    )\n",
    "\n",
    "    # needed when there are multiple eval datasets\n",
    "    trainer.remove_callback(NotebookProgressCallback)\n",
    "    trainer.train()\n",
    "    # wandb.config.update(config)\n",
    "    wandb.finish()\n",
    "    trainer.save_model(output_path/training_args.run_name)\n",
    "else:\n",
    "    model = AutoModelForMultipleChoice.from_pretrained(output_path/training_args.run_name)"
   ]
  },
  {
   "cell_type": "markdown",
   "id": "33c7ffed-5442-4b18-a9b5-af19169840ee",
   "metadata": {},
   "source": [
    "## Predict Test Set"
   ]
  },
  {
   "cell_type": "code",
   "execution_count": null,
   "id": "8311360f-b360-4f5a-ac67-fa9ffd1ec40a",
   "metadata": {},
   "outputs": [],
   "source": [
    "trainer = Trainer(\n",
    "    model=model,\n",
    "    data_collator=DataCollatorForMultipleChoice(tokenizer=tokenizer, max_length=600),\n",
    ")"
   ]
  },
  {
   "cell_type": "code",
   "execution_count": null,
   "id": "2a5c44ec-5da4-4c04-a1c6-5a2fec5a1599",
   "metadata": {},
   "outputs": [],
   "source": [
    "def predict_testset(test_with_passages, tokenized_testset):\n",
    "    test_logits = trainer.predict(tokenized_testset).predictions\n",
    "    test_preds = np.argsort(-test_logits, 1)\n",
    "    test_letters = np.array(list('ABCDE'))[test_preds]\n",
    "    test_letters = pl.Series(test_letters[:,:3]).list.join(' ')\n",
    "\n",
    "    return test_with_passages.with_columns(all_prediction=test_letters, prediction=test_letters.str.slice(0,1))\n",
    "    \n",
    "test_pred = predict_testset(test_p, tokenized_test)"
   ]
  },
  {
   "cell_type": "code",
   "execution_count": null,
   "id": "95a4eecf-3187-479f-9df7-9f6449438f23",
   "metadata": {
    "tags": []
   },
   "outputs": [],
   "source": [
    "test_osmu_pred = predict_testset(test_osmu_p, tokenized_test_osmu)\n"
   ]
  },
  {
   "cell_type": "markdown",
   "id": "3fc8880d-9dab-49c5-9d50-51f3de04694c",
   "metadata": {},
   "source": [
    "### Osmu data notes\n",
    "0. Based on the wikipedia_excerpt, the wrong answer is marked as correct."
   ]
  },
  {
   "cell_type": "code",
   "execution_count": null,
   "id": "14c6e2e3-1ead-4ef1-988f-1ef7bf18daf8",
   "metadata": {
    "tags": []
   },
   "outputs": [],
   "source": [
    "wiki_passages.filter(pl.col('title').str.contains('chloro'))"
   ]
  },
  {
   "cell_type": "code",
   "execution_count": null,
   "id": "0650cbc5-54c8-4ffe-8855-4d32055a0282",
   "metadata": {
    "tags": []
   },
   "outputs": [],
   "source": [
    "test_osmu_pred[1]"
   ]
  },
  {
   "cell_type": "code",
   "execution_count": null,
   "id": "04031842-bdfa-458e-93a7-ce6823c2faa4",
   "metadata": {},
   "outputs": [],
   "source": [
    "# test_output = pl.DataFrame({'prediction':test_letters}).with_row_count('id')\n",
    "# test_output.write_csv('./data/submission.csv')"
   ]
  },
  {
   "cell_type": "markdown",
   "id": "cf74332a-ae4d-4c87-8020-781392de0ac5",
   "metadata": {},
   "source": [
    "## Check Test predictions"
   ]
  },
  {
   "cell_type": "code",
   "execution_count": null,
   "id": "37272c14-8671-4536-b012-272b24dc6385",
   "metadata": {
    "tags": []
   },
   "outputs": [],
   "source": [
    "check_test = test_p.with_columns(all_prediction=test_letters, prediction=test_letters.str.slice(0,1))"
   ]
  },
  {
   "cell_type": "code",
   "execution_count": null,
   "id": "ab9ff16a-7a96-4578-ac81-4187cfc5c1cc",
   "metadata": {
    "tags": []
   },
   "outputs": [],
   "source": [
    "wrong = check_test#.filter(pl.col('answer') != pl.col('prediction'))\n",
    "wrong = wrong.drop(['wiki_ctx_1', 'wiki_ctx_2'])\n",
    "wrong[:4]"
   ]
  },
  {
   "cell_type": "markdown",
   "id": "0d8dad1b-d65d-4bea-8031-82348eb22379",
   "metadata": {},
   "source": [
    "### Check Test Log\n",
    "- The passages are often very similar or even contain duplications.\n",
    "- Sometimes information from the answers could help make the passages more relevant.\n",
    "\n",
    "\n",
    "0. Dynamic scaling: Incorrect context, picked answeres with incorrect negations before the correct answer\n",
    "1. Triskeles: Incorrect context, no connection of context and question apparent\n",
    "2. Regularization in terms of renomralization (physics): The context is useful, longer context might have been helpful. The answers differ in subtleties that the model does not get.\n",
    "3. Gauss law, electic flux: The model seems to miss some subtle differences. The context is missing the formula.\n",
    "4. Blocking tempereature of a spin valve: Context describes spin valves, but not the blocking temperature."
   ]
  },
  {
   "cell_type": "code",
   "execution_count": null,
   "id": "05d5a88e-13fa-4211-a61e-2c0ddc3be99e",
   "metadata": {},
   "outputs": [],
   "source": []
  },
  {
   "cell_type": "code",
   "execution_count": null,
   "id": "bfc7c28f-dc9b-4086-b010-f349abf49768",
   "metadata": {},
   "outputs": [],
   "source": []
  },
  {
   "cell_type": "code",
   "execution_count": null,
   "id": "c7963ea1-a0b9-48e8-bee6-4ac4cbec647a",
   "metadata": {},
   "outputs": [],
   "source": []
  }
 ],
 "metadata": {
  "kernelspec": {
   "display_name": "Python [conda env:pytorch]",
   "language": "python",
   "name": "conda-env-pytorch-py"
  },
  "language_info": {
   "codemirror_mode": {
    "name": "ipython",
    "version": 3
   },
   "file_extension": ".py",
   "mimetype": "text/x-python",
   "name": "python",
   "nbconvert_exporter": "python",
   "pygments_lexer": "ipython3",
   "version": "3.10.13"
  }
 },
 "nbformat": 4,
 "nbformat_minor": 5
}
