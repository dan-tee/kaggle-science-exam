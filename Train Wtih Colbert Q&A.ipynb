{
 "cells": [
  {
   "cell_type": "markdown",
   "id": "b84ed421-c478-4163-9ac6-190defda2e72",
   "metadata": {
    "tags": []
   },
   "source": [
    "# Train With Colbert Q & A"
   ]
  },
  {
   "cell_type": "code",
   "execution_count": 1,
   "id": "a05a1600-d54f-4f2d-8b59-088c824085f4",
   "metadata": {
    "tags": []
   },
   "outputs": [],
   "source": [
    "#pip install bitsandbytes"
   ]
  },
  {
   "cell_type": "code",
   "execution_count": 2,
   "id": "cf5baf1f-60bc-4822-9b1d-afcaf349900c",
   "metadata": {
    "tags": []
   },
   "outputs": [],
   "source": [
    "#!mamba uninstall bitsandbytes -c conda-forge -y"
   ]
  },
  {
   "cell_type": "code",
   "execution_count": 3,
   "id": "740d27c0-1b63-42c3-aafc-33ce1db7297a",
   "metadata": {
    "tags": []
   },
   "outputs": [],
   "source": [
    "import os\n",
    "project_name = \"Science Exam - Kaggle\"\n",
    "run_name = \"new_prompt_sci_deb_xl_v2\"\n",
    "\n",
    "config = {\n",
    "    'max_words': 100,\n",
    "    'nbits': 1,\n",
    "    'colbert_indexer_version': 6,\n",
    "    'hf_model_id': 'microsoft/deberta-v2-xlarge',\n",
    "    'deberta_max_length': 512,\n",
    "    'large_train_deduped': False, # if this is True the individual ones below are skipped\n",
    "    'use_train_daniel': True,\n",
    "    'use_osmu_sci_6k': True,\n",
    "    'use_osmu_21k': False,\n",
    "    'use_mgoksu_13k': True,\n",
    "    'use_gigkpea_3k': True,\n",
    "    'n_extra_test_rows' : 300,\n",
    "    'lr_layer_factor': None, # set to an int to layer, None to not layer, need to be adapted to work with 8-bit Adam\n",
    "    'learning_rate': 1e-5,\n",
    "    'num_train_epochs': 1,\n",
    "    '8_bit_adam': True\n",
    "}\n",
    "\n",
    "from transformers import TrainingArguments, IntervalStrategy\n",
    "from pathlib import Path\n",
    "\n",
    "output_path = Path('./checkpoints')\n",
    "training_args = TrainingArguments(\n",
    "    learning_rate=config['learning_rate'],\n",
    "    num_train_epochs=config['num_train_epochs'],\n",
    "    # fp16=True,\n",
    "    # warmup_ratio=0.5,\n",
    "    weight_decay=0,\n",
    "    per_device_train_batch_size=4,\n",
    "    per_device_eval_batch_size=6,\n",
    "    gradient_accumulation_steps=4, # number of batches to sum up gradient for\n",
    "    gradient_checkpointing=True,\n",
    "    # optim='adafactor',\n",
    "    evaluation_strategy = IntervalStrategy.STEPS,\n",
    "    logging_steps=10,\n",
    "    eval_steps=100,\n",
    "    save_strategy='no',\n",
    "    # save_steps=20000,\n",
    "    report_to='wandb',\n",
    "    output_dir=str(output_path)\n",
    ")"
   ]
  },
  {
   "cell_type": "code",
   "execution_count": 4,
   "id": "343be254-a9b1-414a-a9b5-d33293bd0c97",
   "metadata": {
    "tags": []
   },
   "outputs": [],
   "source": [
    "os.environ['PYTORCH_CUDA_ALLOC_CONF'] = 'garbage_collection_threshold:0.6,max_split_size_mb:128'"
   ]
  },
  {
   "cell_type": "code",
   "execution_count": 5,
   "id": "97593488-22fb-401c-9a0e-e1c601b0fc21",
   "metadata": {
    "tags": []
   },
   "outputs": [],
   "source": [
    "import os\n",
    "import glob\n",
    "import gc\n",
    "import polars as pl\n",
    "import polars.selectors as cs\n",
    "import pandas as pd\n",
    "import pyarrow as pa\n",
    "import numpy as np\n",
    "import matplotlib.pyplot as plt\n",
    "import seaborn as sns\n",
    "from tqdm.notebook import tqdm\n",
    "from dataclasses import dataclass\n",
    "from typing import Optional, Union\n",
    "from scipy.special import softmax\n",
    "\n",
    "\n",
    "from colbert.infra import Run, RunConfig, ColBERTConfig\n",
    "from colbert.data import Queries\n",
    "from colbert import Indexer, Searcher\n",
    "\n",
    "import wandb\n",
    "\n",
    "import torch\n",
    "from torch import nn\n",
    "\n",
    "import evaluate\n",
    "from transformers import AutoTokenizer, AutoModelForMultipleChoice, Trainer, \\\n",
    "                        get_linear_schedule_with_warmup\n",
    "from transformers.integrations import WandbCallback\n",
    "from transformers.tokenization_utils_base import PreTrainedTokenizerBase, PaddingStrategy\n",
    "from transformers.utils.notebook import NotebookProgressCallback\n",
    "from transformers.trainer_pt_utils import get_parameter_names\n",
    "from datasets import Dataset # HuggingFace\n",
    "from torch.optim import AdamW\n",
    "from torch.optim.lr_scheduler import OneCycleLR\n",
    "\n",
    "import bitsandbytes as bnb"
   ]
  },
  {
   "cell_type": "code",
   "execution_count": 6,
   "id": "2d4d9e9e-81a7-4aab-8b01-4b9cbf4773db",
   "metadata": {
    "tags": []
   },
   "outputs": [],
   "source": [
    "pl.Config(fmt_str_lengths=2000);"
   ]
  },
  {
   "cell_type": "code",
   "execution_count": 7,
   "id": "60138f6d-28db-41bf-adcb-850c260e5a22",
   "metadata": {
    "tags": []
   },
   "outputs": [],
   "source": [
    "#!conda install -c conda-forge faiss-gpu -y"
   ]
  },
  {
   "cell_type": "code",
   "execution_count": 8,
   "id": "206053ff-2baa-487e-8226-2a0e664266e2",
   "metadata": {
    "tags": []
   },
   "outputs": [
    {
     "data": {
      "text/plain": [
       "'32,625'"
      ]
     },
     "execution_count": 8,
     "metadata": {},
     "output_type": "execute_result"
    }
   ],
   "source": [
    "n_extra_test = config['n_extra_test_rows']\n",
    "train_sets = []\n",
    "test_sets = {}\n",
    "\n",
    "test = pl.read_csv('data/train.csv')\n",
    "test = test.rename({'prompt': 'question'})\n",
    "test = test.drop(columns=\"id\")\n",
    "test_sets['test'] = test\n",
    "\n",
    "\n",
    "def read_training_files(file_paths, test_name):\n",
    "    if type(file_paths) == str:\n",
    "        file_paths = [file_paths]\n",
    "        \n",
    "    if file_paths[0].endswith('.parquet'):\n",
    "        train_raw = pl.concat(\n",
    "            [pl.read_parquet(file) for file in file_paths]\n",
    "        )\n",
    "    elif file_paths[0].endswith('.csv'):\n",
    "        train_raw = pl.concat(\n",
    "            [pl.read_csv(file) for file in file_paths]\n",
    "        )\n",
    "    \n",
    "    if 'prompt' in train_raw.columns:\n",
    "        train_raw = train_raw.rename({'prompt': 'question'})\n",
    "    train_cols = ['question', 'A', 'C', 'B', 'D', 'E', 'answer']\n",
    "    train_raw = train_raw[train_cols]\n",
    "    train_raw = train_raw.select(pl.all().fill_null('N/A'))\n",
    "    \n",
    "    test_split = train_raw[train_raw.shape[0] - n_extra_test:]\n",
    "    train = train_raw[:train_raw.shape[0] - n_extra_test]\n",
    "    \n",
    "    train_sets.append(train)\n",
    "    test_sets[test_name] = test_split\n",
    "\n",
    "if config['large_train_deduped']:\n",
    "    read_training_files('./data/large_train_dedupe.parquet', 'combined')\n",
    "else:        \n",
    "    if config['use_train_daniel']:\n",
    "        read_training_files('./data/train_dedupe/daniel.parquet', 'daniel')\n",
    "\n",
    "    if config['use_osmu_sci_6k']:\n",
    "        read_training_files('./data/train_dedupe/osmu_sci_6k.parquet', 'osmu_sci_6k')\n",
    "    if config['use_osmu_21k']:\n",
    "        read_training_files([\n",
    "            './data/train_dedupe/osmu_15k.parquet',\n",
    "            './data/train_dedupe/osmu_5_9k.parquet'\n",
    "            ], 'osmu_21k')\n",
    "\n",
    "    if config['use_mgoksu_13k']:\n",
    "        read_training_files('./data/train_dedupe/mgoksu.parquet', 'mgoksu')\n",
    "\n",
    "    if config['use_gigkpea_3k']:\n",
    "        read_training_files('./data/train_dedupe/gigkpea.parquet', 'gigkpea')\n",
    "\n",
    "train = pl.concat(train_sets)\n",
    "f'{train.shape[0]:,}'"
   ]
  },
  {
   "cell_type": "markdown",
   "id": "bc4d7781-4310-4cfc-8ef3-9fc50ea3c4a4",
   "metadata": {
    "tags": []
   },
   "source": [
    "## Retrieve Wiki Context via ColBERT"
   ]
  },
  {
   "cell_type": "code",
   "execution_count": 9,
   "id": "7c8f318e-ba0a-4b2e-923e-51bf0d152e74",
   "metadata": {
    "tags": []
   },
   "outputs": [
    {
     "data": {
      "text/plain": [
       "['passage_id',\n",
       " 'section_id',\n",
       " 'title',\n",
       " 'section_title',\n",
       " 'section_index',\n",
       " 'passage_text',\n",
       " 'title_section_rank',\n",
       " 'section_passage_num',\n",
       " 'titled_passage',\n",
       " 'word_count']"
      ]
     },
     "execution_count": 9,
     "metadata": {},
     "output_type": "execute_result"
    }
   ],
   "source": [
    "max_words = config['max_words']\n",
    "nbits = config['nbits']\n",
    "colbert_indexer_version = config['colbert_indexer_version']\n",
    "colbert_path = Path(f'./data/colbert_max_words_{max_words}_nbits_{nbits}-v{colbert_indexer_version}')\n",
    "wiki_passages = pl.read_parquet(colbert_path/f'wiki_passages.parquet')\n",
    "wiki_passages.columns"
   ]
  },
  {
   "cell_type": "code",
   "execution_count": 10,
   "id": "4e420b8d-0936-4531-a8ff-be8ac44cdf1d",
   "metadata": {
    "tags": []
   },
   "outputs": [
    {
     "data": {
      "image/png": "[encoded data removed]",
      "text/plain": [
       "<Figure size 600x300 with 1 Axes>"
      ]
     },
     "metadata": {},
     "output_type": "display_data"
    }
   ],
   "source": [
    "word_counts = wiki_passages['titled_passage'].str.split(' ').list.lengths()\n",
    "word_counts.max()\n",
    "plt.figure(figsize=[6,3])\n",
    "sns.histplot(word_counts, binrange=[0, max_words + 50]);"
   ]
  },
  {
   "cell_type": "code",
   "execution_count": 11,
   "id": "086b8d15-7c58-4304-a61b-03ba85057199",
   "metadata": {
    "tags": []
   },
   "outputs": [
    {
     "data": {
      "image/png": "[encoded data removed]",
      "text/plain": [
       "<Figure size 600x300 with 1 Axes>"
      ]
     },
     "metadata": {},
     "output_type": "display_data"
    }
   ],
   "source": [
    "plt.figure(figsize=[6,3])\n",
    "sns.histplot(word_counts, binrange=[0, 150], bins=75)\n",
    "plt.title('Passages character length');"
   ]
  },
  {
   "cell_type": "code",
   "execution_count": 12,
   "id": "97bc9251-4b99-47be-bf46-02a8bb210b6c",
   "metadata": {
    "tags": []
   },
   "outputs": [],
   "source": [
    "n_results_per_question = 3\n",
    "\n",
    "#doc_maxlen = 160 # 512   # lenght in tokens\n",
    "#dim = 128 # 128 is max for BERT\n",
    "\n",
    "checkpoint = './checkpoints/colbertv2.0'\n",
    "\n",
    "indexer_name = f'colbert_wiki_indexer'\n",
    "#os.environ['COLBERT_LOAD_TORCH_EXTENSION_VERBOSE'] = 'True'\n",
    "\n",
    "colbert_config = ColBERTConfig(\n",
    "    doc_maxlen=config['deberta_max_length'],\n",
    "    nbits=nbits\n",
    "    #dim=dim\n",
    ")"
   ]
  },
  {
   "cell_type": "code",
   "execution_count": 13,
   "id": "a03f59e8-5f99-44d5-ba14-4284c0e63cc1",
   "metadata": {
    "tags": []
   },
   "outputs": [],
   "source": [
    "a_to_e = ['A', 'B', 'C', 'D', 'E']\n",
    "score_col_prefix = 'answer_passage_score_'\n",
    "ctx_id_prefix = 'passage_id_'\n",
    "num_answer_ctx_cols = 2\n",
    "\n",
    "def add_answer_colbert_context(data, searcher):\n",
    "    for letter in a_to_e:\n",
    "        print(f'\\n{letter=}')\n",
    "        gc.collect()\n",
    "        answer_queries = data.with_columns((pl.col('question') + ' ' + pl.col(letter)).str.replace_all('\\n', ' ').alias('q_and_a'))\n",
    "        answer_queries = answer_queries.with_row_count('qid')[['qid', 'q_and_a']]\n",
    "        \n",
    "        queries_file = './data/wiki_queries.tsv'\n",
    "        answer_queries.write_csv(queries_file, separator='\\t', has_header=False)\n",
    "\n",
    "        col_a_queries = Queries(queries_file)\n",
    "       \n",
    "        ranking = searcher.search_all(col_a_queries, k=n_results_per_question)\n",
    "        torch.cuda.empty_cache()\n",
    "\n",
    "        ranking = pl.DataFrame([(id, tup_list) for id, tup_list in ranking.items()])\n",
    "        answer_passage_ids = [ranking['column_1'].list.get(i).list.get(0) for i in range(num_answer_ctx_cols)]\n",
    "        answer_scores = [ranking['column_1'].list.get(i).list.get(2) for i in range(num_answer_ctx_cols)]\n",
    "\n",
    "        for i in range(num_answer_ctx_cols): \n",
    "            id_col_name = f'{ctx_id_prefix}{letter}_{i+1}'\n",
    "            score_col_name = f'{score_col_prefix}{letter}_{i+1}'\n",
    "            data = data.with_columns(**{\n",
    "                id_col_name: answer_passage_ids[i].cast(pl.UInt32),\n",
    "                score_col_name: answer_scores[i]\n",
    "            })\n",
    "\n",
    "            passages = wiki_passages[['passage_id', 'titled_passage']]\n",
    "            data = data.join(passages, how='left', left_on=id_col_name, right_on='passage_id', validate='m:1', suffix=f'_{letter}_{i+1}')\n",
    "    \n",
    "    # if the job above already created the a colum titled passage, the first one will already be called titled_passage_A2\n",
    "    if 'titled_passage_A' not in data.columns:\n",
    "        data = data.rename({'titled_passage': 'titled_passage_A_1'})\n",
    "    return data\n",
    "    \n",
    "    \n",
    "# TODO make it possible to use answer context for multiple letters\n",
    "def add_best_answers(data):\n",
    "    best_answer_matches = []\n",
    "    second_answer_context = []\n",
    "    best_answer_letters = []\n",
    "    best_answer_ids = []\n",
    "    second_answer_ids = []\n",
    "    highscores = []\n",
    "    for row in data.iter_rows(named=True):\n",
    "        highest_score = 0\n",
    "        highscore_letter = None\n",
    "        best_answer_id = None\n",
    "        for letter in a_to_e:\n",
    "            score_col_name = f'{score_col_prefix}{letter}_1'\n",
    "            if row[score_col_name] > highest_score:\n",
    "                highest_score = row[score_col_name]\n",
    "                highscore_letter = letter\n",
    "                best_answer_id = row[f'{ctx_id_prefix}{letter}_1']\n",
    "             \n",
    "        second_score = 0\n",
    "        second_letter = None\n",
    "        second_num = None\n",
    "        second_answer_id = None\n",
    "        # print(highscore_letter, best_answer_id)\n",
    "        for letter in a_to_e:\n",
    "            for ctx_num in range(num_answer_ctx_cols):              \n",
    "                if letter == highscore_letter and ctx_num == 0:\n",
    "                    continue\n",
    "                score_col_name = f'{score_col_prefix}{letter}_{ctx_num+1}'\n",
    "                current_ctx_id = row[f'{ctx_id_prefix}{letter}_{ctx_num+1}']\n",
    "                # print(letter, ctx_num, current_ctx_id)\n",
    "                if row[score_col_name] > second_score and current_ctx_id != best_answer_id:\n",
    "                    second_score = row[score_col_name]\n",
    "                    second_letter = letter\n",
    "                    second_num = ctx_num+1\n",
    "                    second_answer_id = row[f'{ctx_id_prefix}{letter}_{second_num}']\n",
    "\n",
    "        passage_col_name = f'titled_passage_{highscore_letter}_1'\n",
    "        best_answer_matches.append(row[passage_col_name])\n",
    "        passage_col_2_name = f'titled_passage_{second_letter}_{second_num}'\n",
    "        second_answer_context.append(row[passage_col_2_name])\n",
    "        best_answer_letters.append(highscore_letter)\n",
    "        highscores.append(highest_score)\n",
    "        best_answer_ids.append(best_answer_id)\n",
    "        second_answer_ids.append(second_answer_id)\n",
    "\n",
    "    return data.with_columns(best_answer_match=pl.Series(best_answer_matches),\n",
    "                             second_answer_context=pl.Series(second_answer_context),\n",
    "                             answer_score=pl.Series(highscores),\n",
    "                             best_answer_letter=pl.Series(best_answer_letters),\n",
    "                             best_answer_id=pl.Series(best_answer_ids),\n",
    "                             second_answer_id=pl.Series(second_answer_ids))"
   ]
  },
  {
   "cell_type": "code",
   "execution_count": 14,
   "id": "0140992d-28b6-4dcd-a36a-37edd337e223",
   "metadata": {
    "tags": []
   },
   "outputs": [],
   "source": [
    "def add_q_colbert_context(data, searcher):\n",
    "    num_ctx_cols = 1\n",
    "    gc.collect()\n",
    "    queries = data.with_row_count('qid')[['qid', 'question']]\n",
    "    queries = queries.with_columns(pl.col('question').str.replace_all('\\n', ' ')) \n",
    "    queries_file = './data/wiki_queries.tsv'\n",
    "    queries.write_csv(queries_file, separator='\\t', has_header=False)\n",
    "\n",
    "    c_queries = Queries(queries_file)\n",
    "\n",
    "    ranking = searcher.search_all(c_queries, k=n_results_per_question)\n",
    "    torch.cuda.empty_cache()\n",
    "\n",
    "    ranking = pl.DataFrame([(id, tup_list[0]) for id, tup_list in ranking.items()])\n",
    "    colbert_passage_ids = []\n",
    "    for row_idx in range(ranking.shape[0]):\n",
    "        for i in range(n_results_per_question):\n",
    "            passage_id = ranking[row_idx]['column_1'].list.get(i).cast(pl.UInt32).item()\n",
    "            if passage_id == data[row_idx, 'best_answer_id'] or \\\n",
    "                passage_id == data[row_idx, 'second_answer_id']:\n",
    "                if i < 2:\n",
    "                    continue\n",
    "                else:\n",
    "                    raise Exception('No unique passage_id found for question.')\n",
    "            else:\n",
    "                colbert_passage_ids.append(passage_id)\n",
    "                break     \n",
    "    \n",
    "    \n",
    "    passages = wiki_passages[['passage_id', 'titled_passage']]\n",
    "    data_p = data.with_columns(pl.Series('question_ctx_id', colbert_passage_ids, dtype=pl.UInt32))\n",
    "    for i in range(num_ctx_cols):\n",
    "        data_p = data_p.join(passages, how='left', left_on=f'question_ctx_id', right_on='passage_id', validate='m:1', suffix=f'_{i+1}')\n",
    "    data_p = data_p.rename({'titled_passage': 'question_ctx'}) \n",
    "    return data_p"
   ]
  },
  {
   "cell_type": "code",
   "execution_count": 15,
   "id": "5ef0008d-09c3-4b9c-b858-6ff6e42fe9ed",
   "metadata": {
    "tags": []
   },
   "outputs": [],
   "source": [
    "rerun = False\n",
    "\n",
    "enriched_cache_path = Path(f\"./data/qa_context_{max_words}_v_{config['colbert_indexer_version']}\")\n",
    "os.makedirs(enriched_cache_path, exist_ok=True)\n",
    "\n",
    "\n",
    "def create_or_get_searcher(searcher):\n",
    "    if searcher is None:\n",
    "        searcher = Searcher(index=indexer_name, \n",
    "                            config=colbert_config,\n",
    "                            collection=str(colbert_path/f'wiki_passages.tsv'))\n",
    "    return searcher\n",
    "\n",
    "def cached_add_q_colbert_context(data, file_name):\n",
    "    file_path = enriched_cache_path/f'{file_name}.parquet'\n",
    "    searcher = None\n",
    "    if file_path.exists() and not rerun:\n",
    "        return pl.read_parquet(file_path)\n",
    "    else:   \n",
    "        searcher = create_or_get_searcher(searcher)\n",
    "        with_context = data\n",
    "        with_context = add_answer_colbert_context(with_context, searcher)\n",
    "        with_context = add_best_answers(with_context)\n",
    "        with_context.write_parquet('./data/with_context_temp.parquet')\n",
    "        with_context = add_q_colbert_context(with_context, searcher)\n",
    "        with_context.write_parquet(file_path)\n",
    "        return with_context\n",
    "    \n",
    "\n",
    "train_file_name = f\"train_d_{config['use_train_daniel']}_o21_{config['use_osmu_21k']}\\\n",
    "_osci_{config['use_osmu_sci_6k']}_mgoksu_{config['use_mgoksu_13k']}_gigkpea_{config['use_gigkpea_3k']}\"\n",
    "\n",
    "with Run().context(RunConfig(nranks=1, index_root=str(colbert_path))):    \n",
    "    train_ctx = cached_add_q_colbert_context(train, train_file_name)\n",
    "    test_sets_ctx = {}\n",
    "    for name, data in test_sets.items():\n",
    "        test_sets_ctx[name] = cached_add_q_colbert_context(data, name)"
   ]
  },
  {
   "cell_type": "code",
   "execution_count": 16,
   "id": "45407120-ba68-45cc-9d45-7825d6c4d08a",
   "metadata": {
    "tags": []
   },
   "outputs": [],
   "source": [
    "# test_osmu_p['passage_text'].str.split(' ').list.lengths().max()"
   ]
  },
  {
   "cell_type": "markdown",
   "id": "f4f23d30-37e3-4cb6-9b19-bc929f86af41",
   "metadata": {},
   "source": [
    "## Prepare Train and Test for DeBERTa"
   ]
  },
  {
   "cell_type": "code",
   "execution_count": 17,
   "id": "e24fff00-e749-4daf-82c2-a10fbf3d1ae0",
   "metadata": {
    "tags": []
   },
   "outputs": [
    {
     "name": "stderr",
     "output_type": "stream",
     "text": [
      "Special tokens have been added in the vocabulary, make sure the associated word embeddings are fine-tuned or trained.\n",
      "Special tokens have been added in the vocabulary, make sure the associated word embeddings are fine-tuned or trained.\n"
     ]
    }
   ],
   "source": [
    "tokenizer = AutoTokenizer.from_pretrained(config['hf_model_id'])"
   ]
  },
  {
   "cell_type": "code",
   "execution_count": 18,
   "id": "62ac41ab-9963-4c50-858c-3787c620073c",
   "metadata": {
    "tags": []
   },
   "outputs": [],
   "source": [
    "max_length = config['deberta_max_length']\n",
    "\n",
    "option_to_index = {option: idx for idx, option in enumerate('ABCDE')}\n",
    "index_to_option = {v: k for k,v in option_to_index.items()}\n",
    "\n",
    "@dataclass\n",
    "class DataCollatorForMultipleChoice:\n",
    "    tokenizer: PreTrainedTokenizerBase\n",
    "    max_length: Optional[int] = None\n",
    "\n",
    "    \n",
    "    def __call__(self, input_batch):\n",
    "        # input_batch is list of samples, choices, tokens\n",
    "        additional_cols = set(input_batch[0].keys()) - set(['input_ids', 'token_type_ids', 'attention_mask', 'label'])\n",
    "        if len(additional_cols) > 0:\n",
    "            print(f'{additional_cols=}')\n",
    "        \n",
    "        label_name = None\n",
    "        if 'label' in input_batch[0].keys():\n",
    "            label_name = 'label' \n",
    "            labels = [feature.pop(label_name) for feature in input_batch]\n",
    "        batch_size = len(input_batch)\n",
    "        num_choices = len(input_batch[0]['input_ids'])\n",
    "        flattened_input = [\n",
    "            [{k: v[i] for k, v in sample.items()} for i in range(num_choices)] for sample in input_batch\n",
    "        ]\n",
    "        flattened_input = sum(flattened_input, [])\n",
    "        \n",
    "        batch = self.tokenizer.pad(\n",
    "            flattened_input,\n",
    "            padding='max_length',\n",
    "            max_length=self.max_length,\n",
    "            return_tensors='pt',\n",
    "        )\n",
    "        \n",
    "        # batch.shape = (n_samples, n_choices, n_tokens)\n",
    "        batch = {k: v.view(batch_size, num_choices, -1) for k, v in batch.items()}\n",
    "        if label_name is not None:\n",
    "            batch['labels'] = torch.tensor(labels, dtype=torch.int64)\n",
    "        #print(np.array(batch['input_ids']).shape)\n",
    "        return batch"
   ]
  },
  {
   "cell_type": "code",
   "execution_count": 19,
   "id": "59284fda-4ec7-4f75-aaae-84fa8b5e4385",
   "metadata": {
    "tags": []
   },
   "outputs": [],
   "source": [
    "def preprocess(example):\n",
    "    # adding the wikipedia page as context for the question by adding it after a [SEP] token to the question.\n",
    "#     first_sentence = [f\"\"\"{example['question']}\n",
    "# [SEP]{example['best_answer_match']}\n",
    "\n",
    "# [SEP]{example['question_ctx']}\n",
    "# \"\"\"] * 5\n",
    "# [SEP]{example['best_answer_letter']}\n",
    "    # The N/A workaround can be removed after rerunning the ColBERT search above\n",
    "    first_sentence = [f\"\"\"[CLS] {example['best_answer_match']} [SEP] {example['second_answer_context']} [SEP] {example['question_ctx']}\"\"\"] * 5\n",
    "    second_sentences = []\n",
    "    for option in 'ABCDE':\n",
    "        answer = example[option]\n",
    "        if answer is not None:\n",
    "            second_sentences.append(\" #### \" + example[\"question\"] + \" [SEP] \" + example[option] + \" [SEP]\")\n",
    "        else:\n",
    "            second_sentences.append('N/A')\n",
    "    try:\n",
    "        tokenized_example = tokenizer(first_sentence, second_sentences, truncation='longest_first', max_length=max_length)\n",
    "    except:\n",
    "        print(first_sentence, second_sentences)\n",
    "        raise\n",
    "    if 'answer' in example.keys():\n",
    "        tokenized_example['label'] = option_to_index[example['answer']]\n",
    "    \n",
    "    return tokenized_example\n",
    "\n",
    "def tokenized_dataset(data):\n",
    "    columns_to_keep = set(['input_ids', 'token_type_ids', 'attention_mask', 'label'])\n",
    "    dataset = Dataset.from_pandas(data.to_pandas(), preserve_index=False)\n",
    "    col_to_remove = set(data.columns) - columns_to_keep\n",
    "    tokenized = dataset.map(preprocess, remove_columns=col_to_remove)\n",
    "    return tokenized"
   ]
  },
  {
   "cell_type": "code",
   "execution_count": 20,
   "id": "89748f08-ce79-483f-a60f-157d7e41e43f",
   "metadata": {
    "tags": []
   },
   "outputs": [
    {
     "data": {
      "application/vnd.jupyter.widget-view+json": {
       "model_id": "72b5e397a8e947aa962aa722dc1a267b",
       "version_major": 2,
       "version_minor": 0
      },
      "text/plain": [
       "Map:   0%|          | 0/32625 [00:00<?, ? examples/s]"
      ]
     },
     "metadata": {},
     "output_type": "display_data"
    },
    {
     "data": {
      "application/vnd.jupyter.widget-view+json": {
       "model_id": "d3493bb00d564c9580509eebe2407020",
       "version_major": 2,
       "version_minor": 0
      },
      "text/plain": [
       "Map:   0%|          | 0/200 [00:00<?, ? examples/s]"
      ]
     },
     "metadata": {},
     "output_type": "display_data"
    },
    {
     "data": {
      "application/vnd.jupyter.widget-view+json": {
       "model_id": "0c70b5254ed14ff28c7f898e0b66e7e5",
       "version_major": 2,
       "version_minor": 0
      },
      "text/plain": [
       "Map:   0%|          | 0/300 [00:00<?, ? examples/s]"
      ]
     },
     "metadata": {},
     "output_type": "display_data"
    },
    {
     "data": {
      "application/vnd.jupyter.widget-view+json": {
       "model_id": "75b42ad33a494517a90393a62fd501f7",
       "version_major": 2,
       "version_minor": 0
      },
      "text/plain": [
       "Map:   0%|          | 0/300 [00:00<?, ? examples/s]"
      ]
     },
     "metadata": {},
     "output_type": "display_data"
    },
    {
     "data": {
      "application/vnd.jupyter.widget-view+json": {
       "model_id": "df6acc0bd6e44b0caccfb93306379096",
       "version_major": 2,
       "version_minor": 0
      },
      "text/plain": [
       "Map:   0%|          | 0/300 [00:00<?, ? examples/s]"
      ]
     },
     "metadata": {},
     "output_type": "display_data"
    },
    {
     "data": {
      "application/vnd.jupyter.widget-view+json": {
       "model_id": "d77f579bc9b7421cb394a0478f83843d",
       "version_major": 2,
       "version_minor": 0
      },
      "text/plain": [
       "Map:   0%|          | 0/300 [00:00<?, ? examples/s]"
      ]
     },
     "metadata": {},
     "output_type": "display_data"
    }
   ],
   "source": [
    "tokenized_train = tokenized_dataset(train_ctx)\n",
    "eval_datasets = {}\n",
    "for name, data in test_sets_ctx.items():\n",
    "    eval_datasets[name] = tokenized_dataset(data)"
   ]
  },
  {
   "cell_type": "code",
   "execution_count": 21,
   "id": "f6b8390d-b1c8-4a19-9d2b-99131e0bda56",
   "metadata": {
    "tags": []
   },
   "outputs": [
    {
     "data": {
      "image/png": "[encoded data removed]",
      "text/plain": [
       "<Figure size 600x300 with 1 Axes>"
      ]
     },
     "metadata": {},
     "output_type": "display_data"
    }
   ],
   "source": [
    "def plot_length_hist(tokenized_data):\n",
    "    length_list = []\n",
    "    for sample in tokenized_data['input_ids']:\n",
    "        for option in sample:\n",
    "            length_list.append(len(option))\n",
    "\n",
    "    plt.figure(figsize=[6,3])\n",
    "    pd.Series(length_list).hist(bins=100)\n",
    "    \n",
    "plot_length_hist(tokenized_train)"
   ]
  },
  {
   "cell_type": "markdown",
   "id": "242a4727-fea3-4135-88dd-5b7e7fa0c473",
   "metadata": {
    "tags": []
   },
   "source": [
    "## Train DeBERTa"
   ]
  },
  {
   "cell_type": "code",
   "execution_count": 22,
   "id": "5cd72562-8f5c-42f2-a1a4-124e38c66ac4",
   "metadata": {
    "tags": []
   },
   "outputs": [],
   "source": [
    "def precision_at_k(predictions, actuals, k=3):        \n",
    "    if isinstance(actuals, list):\n",
    "        actuals = np.array(actuals)\n",
    "        \n",
    "    found_at = np.where(predictions == actuals.reshape(-1, 1))\n",
    "    # found_at is a tuple with the array of found indices in the second position\n",
    "    score = 1 / (1 + found_at[1])\n",
    "    score[score < 1/k] = 0\n",
    "    return score\n",
    "\n",
    "def mean_avg_precision_at_k(predictions, actual, k=3):\n",
    "    n = predictions.shape[0]\n",
    "    row_precision = precision_at_k(predictions, actual)\n",
    "    return row_precision.sum()/n\n",
    "\n",
    "acc_metric = evaluate.load(\"accuracy\")\n",
    "def compute_metrics(eval_pred):\n",
    "    predictions, labels = eval_pred\n",
    "    predictions = np.flip(predictions.argsort(axis=1), axis=1)\n",
    "    accuracy = acc_metric.compute(predictions=predictions[:,0], references=labels)['accuracy']\n",
    "    map_at_3 = mean_avg_precision_at_k(predictions, labels)\n",
    "    return {\n",
    "        'accuracy': accuracy,\n",
    "        'map_at_3': round(map_at_3, 3)\n",
    "    }"
   ]
  },
  {
   "cell_type": "code",
   "execution_count": 23,
   "id": "29f2a1a5-1f9a-4c0a-9738-ce23c15c7f59",
   "metadata": {
    "tags": []
   },
   "outputs": [
    {
     "name": "stderr",
     "output_type": "stream",
     "text": [
      "Failed to detect the name of this notebook, you can set it manually with the WANDB_NOTEBOOK_NAME environment variable to enable code saving.\n",
      "\u001b[34m\u001b[1mwandb\u001b[0m: Currently logged in as: \u001b[33mdatadan\u001b[0m. Use \u001b[1m`wandb login --relogin`\u001b[0m to force relogin\n"
     ]
    },
    {
     "data": {
      "text/html": [
       "Tracking run with wandb version 0.15.12"
      ],
      "text/plain": [
       "<IPython.core.display.HTML object>"
      ]
     },
     "metadata": {},
     "output_type": "display_data"
    },
    {
     "data": {
      "text/html": [
       "Run data is saved locally in <code>/home/daniel/code/kaggle-science-exam/wandb/run-20231008_234325-x7frzsjz</code>"
      ],
      "text/plain": [
       "<IPython.core.display.HTML object>"
      ]
     },
     "metadata": {},
     "output_type": "display_data"
    },
    {
     "data": {
      "text/html": [
       "Syncing run <strong><a href='https://wandb.ai/datadan/Science%20Exam%20-%20Kaggle/runs/x7frzsjz' target=\"_blank\">new_prompt_sci_deb_xl_v2</a></strong> to <a href='https://wandb.ai/datadan/Science%20Exam%20-%20Kaggle' target=\"_blank\">Weights & Biases</a> (<a href='https://wandb.me/run' target=\"_blank\">docs</a>)<br/>"
      ],
      "text/plain": [
       "<IPython.core.display.HTML object>"
      ]
     },
     "metadata": {},
     "output_type": "display_data"
    },
    {
     "data": {
      "text/html": [
       " View project at <a href='https://wandb.ai/datadan/Science%20Exam%20-%20Kaggle' target=\"_blank\">https://wandb.ai/datadan/Science%20Exam%20-%20Kaggle</a>"
      ],
      "text/plain": [
       "<IPython.core.display.HTML object>"
      ]
     },
     "metadata": {},
     "output_type": "display_data"
    },
    {
     "data": {
      "text/html": [
       " View run at <a href='https://wandb.ai/datadan/Science%20Exam%20-%20Kaggle/runs/x7frzsjz' target=\"_blank\">https://wandb.ai/datadan/Science%20Exam%20-%20Kaggle/runs/x7frzsjz</a>"
      ],
      "text/plain": [
       "<IPython.core.display.HTML object>"
      ]
     },
     "metadata": {},
     "output_type": "display_data"
    },
    {
     "name": "stderr",
     "output_type": "stream",
     "text": [
      "Some weights of DebertaV2ForMultipleChoice were not initialized from the model checkpoint at microsoft/deberta-v2-xlarge and are newly initialized: ['classifier.bias', 'pooler.dense.weight', 'pooler.dense.bias', 'classifier.weight']\n",
      "You should probably TRAIN this model on a down-stream task to be able to use it for predictions and inference.\n",
      "You're using a DebertaV2TokenizerFast tokenizer. Please note that with a fast tokenizer, using the `__call__` method is faster than using a method to encode the text followed by a call to the `pad` method to get a padded encoding.\n",
      "/home/daniel/mambaforge/envs/pytorch/lib/python3.11/site-packages/torch/utils/checkpoint.py:429: UserWarning: torch.utils.checkpoint: please pass in use_reentrant=True or use_reentrant=False explicitly. The default value of use_reentrant will be updated to be False in the future. To maintain current behavior, pass use_reentrant=True. It is recommended that you use use_reentrant=False. Refer to docs for more details on the differences between the two variants.\n",
      "  warnings.warn(\n",
      "/home/daniel/mambaforge/envs/pytorch/lib/python3.11/site-packages/torch/utils/checkpoint.py:429: UserWarning: torch.utils.checkpoint: please pass in use_reentrant=True or use_reentrant=False explicitly. The default value of use_reentrant will be updated to be False in the future. To maintain current behavior, pass use_reentrant=True. It is recommended that you use use_reentrant=False. Refer to docs for more details on the differences between the two variants.\n",
      "  warnings.warn(\n",
      "/home/daniel/mambaforge/envs/pytorch/lib/python3.11/site-packages/torch/utils/checkpoint.py:429: UserWarning: torch.utils.checkpoint: please pass in use_reentrant=True or use_reentrant=False explicitly. The default value of use_reentrant will be updated to be False in the future. To maintain current behavior, pass use_reentrant=True. It is recommended that you use use_reentrant=False. Refer to docs for more details on the differences between the two variants.\n",
      "  warnings.warn(\n",
      "/home/daniel/mambaforge/envs/pytorch/lib/python3.11/site-packages/torch/utils/checkpoint.py:429: UserWarning: torch.utils.checkpoint: please pass in use_reentrant=True or use_reentrant=False explicitly. The default value of use_reentrant will be updated to be False in the future. To maintain current behavior, pass use_reentrant=True. It is recommended that you use use_reentrant=False. Refer to docs for more details on the differences between the two variants.\n",
      "  warnings.warn(\n",
      "/home/daniel/mambaforge/envs/pytorch/lib/python3.11/site-packages/torch/utils/checkpoint.py:429: UserWarning: torch.utils.checkpoint: please pass in use_reentrant=True or use_reentrant=False explicitly. The default value of use_reentrant will be updated to be False in the future. To maintain current behavior, pass use_reentrant=True. It is recommended that you use use_reentrant=False. Refer to docs for more details on the differences between the two variants.\n",
      "  warnings.warn(\n",
      "/home/daniel/mambaforge/envs/pytorch/lib/python3.11/site-packages/torch/utils/checkpoint.py:429: UserWarning: torch.utils.checkpoint: please pass in use_reentrant=True or use_reentrant=False explicitly. The default value of use_reentrant will be updated to be False in the future. To maintain current behavior, pass use_reentrant=True. It is recommended that you use use_reentrant=False. Refer to docs for more details on the differences between the two variants.\n",
      "  warnings.warn(\n",
      "/home/daniel/mambaforge/envs/pytorch/lib/python3.11/site-packages/torch/utils/checkpoint.py:429: UserWarning: torch.utils.checkpoint: please pass in use_reentrant=True or use_reentrant=False explicitly. The default value of use_reentrant will be updated to be False in the future. To maintain current behavior, pass use_reentrant=True. It is recommended that you use use_reentrant=False. Refer to docs for more details on the differences between the two variants.\n",
      "  warnings.warn(\n",
      "/home/daniel/mambaforge/envs/pytorch/lib/python3.11/site-packages/torch/utils/checkpoint.py:429: UserWarning: torch.utils.checkpoint: please pass in use_reentrant=True or use_reentrant=False explicitly. The default value of use_reentrant will be updated to be False in the future. To maintain current behavior, pass use_reentrant=True. It is recommended that you use use_reentrant=False. Refer to docs for more details on the differences between the two variants.\n",
      "  warnings.warn(\n",
      "/home/daniel/mambaforge/envs/pytorch/lib/python3.11/site-packages/torch/utils/checkpoint.py:429: UserWarning: torch.utils.checkpoint: please pass in use_reentrant=True or use_reentrant=False explicitly. The default value of use_reentrant will be updated to be False in the future. To maintain current behavior, pass use_reentrant=True. It is recommended that you use use_reentrant=False. Refer to docs for more details on the differences between the two variants.\n",
      "  warnings.warn(\n",
      "/home/daniel/mambaforge/envs/pytorch/lib/python3.11/site-packages/torch/utils/checkpoint.py:429: UserWarning: torch.utils.checkpoint: please pass in use_reentrant=True or use_reentrant=False explicitly. The default value of use_reentrant will be updated to be False in the future. To maintain current behavior, pass use_reentrant=True. It is recommended that you use use_reentrant=False. Refer to docs for more details on the differences between the two variants.\n",
      "  warnings.warn(\n",
      "/home/daniel/mambaforge/envs/pytorch/lib/python3.11/site-packages/torch/utils/checkpoint.py:429: UserWarning: torch.utils.checkpoint: please pass in use_reentrant=True or use_reentrant=False explicitly. The default value of use_reentrant will be updated to be False in the future. To maintain current behavior, pass use_reentrant=True. It is recommended that you use use_reentrant=False. Refer to docs for more details on the differences between the two variants.\n",
      "  warnings.warn(\n",
      "/home/daniel/mambaforge/envs/pytorch/lib/python3.11/site-packages/torch/utils/checkpoint.py:429: UserWarning: torch.utils.checkpoint: please pass in use_reentrant=True or use_reentrant=False explicitly. The default value of use_reentrant will be updated to be False in the future. To maintain current behavior, pass use_reentrant=True. It is recommended that you use use_reentrant=False. Refer to docs for more details on the differences between the two variants.\n",
      "  warnings.warn(\n",
      "/home/daniel/mambaforge/envs/pytorch/lib/python3.11/site-packages/torch/utils/checkpoint.py:429: UserWarning: torch.utils.checkpoint: please pass in use_reentrant=True or use_reentrant=False explicitly. The default value of use_reentrant will be updated to be False in the future. To maintain current behavior, pass use_reentrant=True. It is recommended that you use use_reentrant=False. Refer to docs for more details on the differences between the two variants.\n",
      "  warnings.warn(\n",
      "/home/daniel/mambaforge/envs/pytorch/lib/python3.11/site-packages/torch/utils/checkpoint.py:429: UserWarning: torch.utils.checkpoint: please pass in use_reentrant=True or use_reentrant=False explicitly. The default value of use_reentrant will be updated to be False in the future. To maintain current behavior, pass use_reentrant=True. It is recommended that you use use_reentrant=False. Refer to docs for more details on the differences between the two variants.\n",
      "  warnings.warn(\n",
      "/home/daniel/mambaforge/envs/pytorch/lib/python3.11/site-packages/torch/utils/checkpoint.py:429: UserWarning: torch.utils.checkpoint: please pass in use_reentrant=True or use_reentrant=False explicitly. The default value of use_reentrant will be updated to be False in the future. To maintain current behavior, pass use_reentrant=True. It is recommended that you use use_reentrant=False. Refer to docs for more details on the differences between the two variants.\n",
      "  warnings.warn(\n",
      "/home/daniel/mambaforge/envs/pytorch/lib/python3.11/site-packages/torch/utils/checkpoint.py:429: UserWarning: torch.utils.checkpoint: please pass in use_reentrant=True or use_reentrant=False explicitly. The default value of use_reentrant will be updated to be False in the future. To maintain current behavior, pass use_reentrant=True. It is recommended that you use use_reentrant=False. Refer to docs for more details on the differences between the two variants.\n",
      "  warnings.warn(\n",
      "/home/daniel/mambaforge/envs/pytorch/lib/python3.11/site-packages/torch/utils/checkpoint.py:429: UserWarning: torch.utils.checkpoint: please pass in use_reentrant=True or use_reentrant=False explicitly. The default value of use_reentrant will be updated to be False in the future. To maintain current behavior, pass use_reentrant=True. It is recommended that you use use_reentrant=False. Refer to docs for more details on the differences between the two variants.\n",
      "  warnings.warn(\n",
      "/home/daniel/mambaforge/envs/pytorch/lib/python3.11/site-packages/torch/utils/checkpoint.py:429: UserWarning: torch.utils.checkpoint: please pass in use_reentrant=True or use_reentrant=False explicitly. The default value of use_reentrant will be updated to be False in the future. To maintain current behavior, pass use_reentrant=True. It is recommended that you use use_reentrant=False. Refer to docs for more details on the differences between the two variants.\n",
      "  warnings.warn(\n",
      "/home/daniel/mambaforge/envs/pytorch/lib/python3.11/site-packages/torch/utils/checkpoint.py:429: UserWarning: torch.utils.checkpoint: please pass in use_reentrant=True or use_reentrant=False explicitly. The default value of use_reentrant will be updated to be False in the future. To maintain current behavior, pass use_reentrant=True. It is recommended that you use use_reentrant=False. Refer to docs for more details on the differences between the two variants.\n",
      "  warnings.warn(\n",
      "/home/daniel/mambaforge/envs/pytorch/lib/python3.11/site-packages/torch/utils/checkpoint.py:429: UserWarning: torch.utils.checkpoint: please pass in use_reentrant=True or use_reentrant=False explicitly. The default value of use_reentrant will be updated to be False in the future. To maintain current behavior, pass use_reentrant=True. It is recommended that you use use_reentrant=False. Refer to docs for more details on the differences between the two variants.\n",
      "  warnings.warn(\n",
      "/home/daniel/mambaforge/envs/pytorch/lib/python3.11/site-packages/torch/utils/checkpoint.py:429: UserWarning: torch.utils.checkpoint: please pass in use_reentrant=True or use_reentrant=False explicitly. The default value of use_reentrant will be updated to be False in the future. To maintain current behavior, pass use_reentrant=True. It is recommended that you use use_reentrant=False. Refer to docs for more details on the differences between the two variants.\n",
      "  warnings.warn(\n"
     ]
    },
    {
     "data": {
      "text/html": [
       "Waiting for W&B process to finish... <strong style=\"color:green\">(success).</strong>"
      ],
      "text/plain": [
       "<IPython.core.display.HTML object>"
      ]
     },
     "metadata": {},
     "output_type": "display_data"
    },
    {
     "data": {
      "application/vnd.jupyter.widget-view+json": {
       "model_id": "6f913155d6864177bdc840e05517a766",
       "version_major": 2,
       "version_minor": 0
      },
      "text/plain": [
       "VBox(children=(Label(value='0.004 MB of 0.004 MB uploaded (0.000 MB deduped)\\r'), FloatProgress(value=1.0, max…"
      ]
     },
     "metadata": {},
     "output_type": "display_data"
    },
    {
     "name": "stderr",
     "output_type": "stream",
     "text": [
      "wandb: WARNING Source type is set to 'repo' but some required information is missing from the environment. A job will not be created from this run. See https://docs.wandb.ai/guides/launch/create-job\n"
     ]
    },
    {
     "data": {
      "text/html": [
       "<style>\n",
       "    table.wandb td:nth-child(1) { padding: 0 10px; text-align: left ; width: auto;} td:nth-child(2) {text-align: left ; width: 100%}\n",
       "    .wandb-row { display: flex; flex-direction: row; flex-wrap: wrap; justify-content: flex-start; width: 100% }\n",
       "    .wandb-col { display: flex; flex-direction: column; flex-basis: 100%; flex: 1; padding: 10px; }\n",
       "    </style>\n",
       "<div class=\"wandb-row\"><div class=\"wandb-col\"><h3>Run history:</h3><br/><table class=\"wandb\"><tr><td>eval/daniel_accuracy</td><td>▁▁▁▇████████████████</td></tr><tr><td>eval/daniel_loss</td><td>███▃▁▁▁▁▁▁▁▁▁▁▁▁▁▁▁▁</td></tr><tr><td>eval/daniel_map_at_3</td><td>▁▁▂▇████████████████</td></tr><tr><td>eval/daniel_runtime</td><td>▄▄▄▂▅▃▄▂▄▃▅▄▁▅▇▅▇▇█▆</td></tr><tr><td>eval/daniel_samples_per_second</td><td>▅▅▄▇▄▆▅▇▄▆▄▅█▄▂▄▂▂▁▃</td></tr><tr><td>eval/daniel_steps_per_second</td><td>▆▆▆█▃▆▆█▆▆▆▆█▃▃▃▃▃▁▃</td></tr><tr><td>eval/gigkpea_accuracy</td><td>▂▂▁▅▆▆▇▇▇▇██████████</td></tr><tr><td>eval/gigkpea_loss</td><td>▇▇██▄▄▂▄▂▂▂▁▂▁▁▁▁▁▁▁</td></tr><tr><td>eval/gigkpea_map_at_3</td><td>▂▂▁▅▆▇▇▇▇███████████</td></tr><tr><td>eval/gigkpea_runtime</td><td>▂▁▂▂▄▁▄▂▂▃▃▄▄▃▃▃▂▅▃█</td></tr><tr><td>eval/gigkpea_samples_per_second</td><td>▇█▇▇▅█▅▇▇▆▆▅▅▆▆▆▇▄▆▁</td></tr><tr><td>eval/gigkpea_steps_per_second</td><td>▇█▇█▅█▅▇▇▇▇▅▅▅▅▇▇▄▇▁</td></tr><tr><td>eval/mgoksu_accuracy</td><td>▁▁▂▇▇▇▇█████████████</td></tr><tr><td>eval/mgoksu_loss</td><td>███▃▂▂▂▂▁▂▁▁▁▁▁▁▁▁▁▁</td></tr><tr><td>eval/mgoksu_map_at_3</td><td>▁▁▂▇▇███████████████</td></tr><tr><td>eval/mgoksu_runtime</td><td>▁▄▂▁▆▃▅▄▁▃▂▄▆▃█▄▅▆█▄</td></tr><tr><td>eval/mgoksu_samples_per_second</td><td>█▅▇▇▃▆▄▆▇▆▇▅▃▆▁▅▃▃▁▅</td></tr><tr><td>eval/mgoksu_steps_per_second</td><td>█▅██▁▅▅▅█▅█▅▁▅▁▅▅▁▁▅</td></tr><tr><td>eval/osmu_sci_6k_accuracy</td><td>▁▁▁▇▇▇▇█▇███████████</td></tr><tr><td>eval/osmu_sci_6k_loss</td><td>███▃▂▂▁▂▁▁▂▁▁▁▂▁▁▁▁▁</td></tr><tr><td>eval/osmu_sci_6k_map_at_3</td><td>▁▁▁▇▇███████████████</td></tr><tr><td>eval/osmu_sci_6k_runtime</td><td>▆▇▄▃▇▇▅▁▇▃█▆▅▅▇███▂▇</td></tr><tr><td>eval/osmu_sci_6k_samples_per_second</td><td>▃▂▅▆▂▂▄█▂▆▁▃▄▄▂▁▁▁▆▂</td></tr><tr><td>eval/osmu_sci_6k_steps_per_second</td><td>▁▁▃▆▁▁▃█▁▆▁▁▃▃▁▁▁▁▆▁</td></tr><tr><td>eval/test_accuracy</td><td>▁▂▂▇▇███████████████</td></tr><tr><td>eval/test_loss</td><td>███▃▂▂▂▁▁▁▁▁▁▁▁▁▁▁▁▁</td></tr><tr><td>eval/test_map_at_3</td><td>▁▂▃▇████████████████</td></tr><tr><td>eval/test_runtime</td><td>▃▃▃▂█▄▇▃▅▃▅▅▁▄▄▆▇▅▄▆</td></tr><tr><td>eval/test_samples_per_second</td><td>▆▆▆▇▁▅▂▆▄▆▄▄█▅▅▃▂▄▅▃</td></tr><tr><td>eval/test_steps_per_second</td><td>▅▅▅▇▁▄▂▅▄▇▄▄█▅▅▄▂▄▅▄</td></tr><tr><td>train/epoch</td><td>▁▁▁▂▂▂▂▂▂▃▃▃▃▃▃▄▄▄▄▄▅▅▅▅▅▅▆▆▆▆▆▆▇▇▇▇████</td></tr><tr><td>train/global_step</td><td>▁▁▁▂▂▂▂▂▂▃▃▃▃▃▃▄▄▄▄▄▅▅▅▅▅▅▆▆▆▆▆▆▇▇▇▇████</td></tr><tr><td>train/learning_rate</td><td>▁▁▂▂▃▄▅▆▇▇███████▇▇▇▇▆▆▆▅▅▄▄▄▃▃▃▂▂▂▁▁▁▁▁</td></tr><tr><td>train/loss</td><td>████████▅▃▂▃▂▂▂▃▁▂▁▂▂▂▂▂▂▂▃▁▁▁▂▁▁▂▂▁▂▁▁▁</td></tr><tr><td>train/total_flos</td><td>▁</td></tr><tr><td>train/train_loss</td><td>▁</td></tr><tr><td>train/train_runtime</td><td>▁</td></tr><tr><td>train/train_samples_per_second</td><td>▁</td></tr><tr><td>train/train_steps_per_second</td><td>▁</td></tr></table><br/></div><div class=\"wandb-col\"><h3>Run summary:</h3><br/><table class=\"wandb\"><tr><td>eval/daniel_accuracy</td><td>0.95333</td></tr><tr><td>eval/daniel_loss</td><td>0.16845</td></tr><tr><td>eval/daniel_map_at_3</td><td>0.973</td></tr><tr><td>eval/daniel_runtime</td><td>74.0887</td></tr><tr><td>eval/daniel_samples_per_second</td><td>4.049</td></tr><tr><td>eval/daniel_steps_per_second</td><td>0.675</td></tr><tr><td>eval/gigkpea_accuracy</td><td>0.64</td></tr><tr><td>eval/gigkpea_loss</td><td>0.90888</td></tr><tr><td>eval/gigkpea_map_at_3</td><td>0.752</td></tr><tr><td>eval/gigkpea_runtime</td><td>74.638</td></tr><tr><td>eval/gigkpea_samples_per_second</td><td>4.019</td></tr><tr><td>eval/gigkpea_steps_per_second</td><td>0.67</td></tr><tr><td>eval/mgoksu_accuracy</td><td>0.90667</td></tr><tr><td>eval/mgoksu_loss</td><td>0.26551</td></tr><tr><td>eval/mgoksu_map_at_3</td><td>0.948</td></tr><tr><td>eval/mgoksu_runtime</td><td>74.1963</td></tr><tr><td>eval/mgoksu_samples_per_second</td><td>4.043</td></tr><tr><td>eval/mgoksu_steps_per_second</td><td>0.674</td></tr><tr><td>eval/osmu_sci_6k_accuracy</td><td>0.84333</td></tr><tr><td>eval/osmu_sci_6k_loss</td><td>0.60123</td></tr><tr><td>eval/osmu_sci_6k_map_at_3</td><td>0.891</td></tr><tr><td>eval/osmu_sci_6k_runtime</td><td>74.0802</td></tr><tr><td>eval/osmu_sci_6k_samples_per_second</td><td>4.05</td></tr><tr><td>eval/osmu_sci_6k_steps_per_second</td><td>0.675</td></tr><tr><td>eval/test_accuracy</td><td>0.905</td></tr><tr><td>eval/test_loss</td><td>0.21393</td></tr><tr><td>eval/test_map_at_3</td><td>0.947</td></tr><tr><td>eval/test_runtime</td><td>49.3776</td></tr><tr><td>eval/test_samples_per_second</td><td>4.05</td></tr><tr><td>eval/test_steps_per_second</td><td>0.689</td></tr><tr><td>train/epoch</td><td>1.0</td></tr><tr><td>train/global_step</td><td>2039</td></tr><tr><td>train/learning_rate</td><td>0.0</td></tr><tr><td>train/loss</td><td>0.3286</td></tr><tr><td>train/total_flos</td><td>4.04842138580448e+17</td></tr><tr><td>train/train_loss</td><td>0.68564</td></tr><tr><td>train/train_runtime</td><td>39020.0845</td></tr><tr><td>train/train_samples_per_second</td><td>0.836</td></tr><tr><td>train/train_steps_per_second</td><td>0.052</td></tr></table><br/></div></div>"
      ],
      "text/plain": [
       "<IPython.core.display.HTML object>"
      ]
     },
     "metadata": {},
     "output_type": "display_data"
    },
    {
     "data": {
      "text/html": [
       " View run <strong style=\"color:#cdcd00\">new_prompt_sci_deb_xl_v2</strong> at: <a href='https://wandb.ai/datadan/Science%20Exam%20-%20Kaggle/runs/x7frzsjz' target=\"_blank\">https://wandb.ai/datadan/Science%20Exam%20-%20Kaggle/runs/x7frzsjz</a><br/>Synced 6 W&B file(s), 0 media file(s), 0 artifact file(s) and 0 other file(s)"
      ],
      "text/plain": [
       "<IPython.core.display.HTML object>"
      ]
     },
     "metadata": {},
     "output_type": "display_data"
    },
    {
     "data": {
      "text/html": [
       "Find logs at: <code>./wandb/run-20231008_234325-x7frzsjz/logs</code>"
      ],
      "text/plain": [
       "<IPython.core.display.HTML object>"
      ]
     },
     "metadata": {},
     "output_type": "display_data"
    }
   ],
   "source": [
    "retrain = True\n",
    "\n",
    "if not output_path.exists() or retrain:\n",
    "    wandb.init(\n",
    "        project=project_name,\n",
    "        name=run_name,\n",
    "        job_type='train',\n",
    "        config=config\n",
    "        # group=\"bert\"\n",
    "    )\n",
    "       \n",
    "    torch.cuda.empty_cache()\n",
    "    model = AutoModelForMultipleChoice.from_pretrained(config['hf_model_id'])\n",
    "\n",
    "    total_steps = len(tokenized_train) * training_args.num_train_epochs // (training_args.per_device_train_batch_size * training_args.gradient_accumulation_steps) \n",
    "    \n",
    "    if config['8_bit_adam']:\n",
    "        decay_parameters = get_parameter_names(model, [nn.LayerNorm])\n",
    "        decay_parameters = [name for name in decay_parameters if \"bias\" not in name]\n",
    "        optimizer_grouped_parameters = [\n",
    "            {\n",
    "                \"params\": [p for n, p in model.named_parameters() if n in decay_parameters],\n",
    "                \"weight_decay\": training_args.weight_decay,\n",
    "            },\n",
    "            {\n",
    "                \"params\": [p for n, p in model.named_parameters() if n not in decay_parameters],\n",
    "                \"weight_decay\": 0.0,\n",
    "            },\n",
    "        ]\n",
    "        optimizer_kwargs = {\n",
    "            \"betas\": (training_args.adam_beta1, training_args.adam_beta2),\n",
    "            \"eps\": training_args.adam_epsilon,\n",
    "        }\n",
    "        optimizer_kwargs[\"lr\"] = training_args.learning_rate\n",
    "        optimizer = bnb.optim.Adam8bit(\n",
    "            optimizer_grouped_parameters,\n",
    "            betas=(training_args.adam_beta1, training_args.adam_beta2),\n",
    "            eps=training_args.adam_epsilon,\n",
    "            lr=training_args.learning_rate,\n",
    "        )\n",
    "        max_lr=training_args.learning_rate\n",
    "    elif type(config['lr_layer_factor']) == int:\n",
    "        factor = config['lr_layer_factor']\n",
    "        base_lr = training_args.learning_rate\n",
    "        \n",
    "        embedding_lr = base_lr / factor**4\n",
    "        early_layers_lr = base_lr / factor**3\n",
    "        middle_layers_lr = base_lr / factor**2\n",
    "        late_layers_lr = base_lr / factor\n",
    "        classifier_lr = base_lr\n",
    "\n",
    "        optimizer_grouped_parameters = [\n",
    "            {'params': model.deberta.embeddings.parameters()},\n",
    "            {'params': model.deberta.encoder.layer[:8].parameters()},\n",
    "            {'params': model.deberta.encoder.layer[8:16].parameters()},\n",
    "            {'params': model.deberta.encoder.layer[16:].parameters()},\n",
    "            {'params': model.classifier.parameters()},\n",
    "        ]\n",
    "        optimizer = AdamW(optimizer_grouped_parameters,\n",
    "                          weight_decay=training_args.weight_decay)\n",
    "        max_lr = [base_lr / config['lr_layer_factor']**i for i in range(5,0,-1)]\n",
    "        \n",
    "    else:\n",
    "        optimizer = AdamW(model.parameters(),\n",
    "                          lr=training_args.learning_rate,\n",
    "                          weight_decay=training_args.weight_decay)\n",
    "        max_lr=training_args.learning_rate\n",
    "    \n",
    "    scheduler = OneCycleLR(optimizer, max_lr=max_lr, total_steps=total_steps)\n",
    "      \n",
    "    #warmup_steps = int(total_steps * training_args.warmup_ratio)\n",
    "    #scheduler = get_linear_schedule_with_warmup(optimizer, num_warmup_steps=warmup_steps, num_training_steps=total_steps)\n",
    "    \n",
    "    trainer = Trainer(\n",
    "        model=model,\n",
    "        args=training_args,\n",
    "        tokenizer=tokenizer,\n",
    "        data_collator=DataCollatorForMultipleChoice(tokenizer=tokenizer, max_length=600),\n",
    "        train_dataset=tokenized_train,\n",
    "        eval_dataset=eval_datasets,\n",
    "        compute_metrics=compute_metrics,\n",
    "        optimizers=(optimizer, scheduler)\n",
    "    )\n",
    "\n",
    "    # needed when there are multiple eval datasets\n",
    "    trainer.remove_callback(NotebookProgressCallback)\n",
    "    trainer.train()\n",
    "    # wandb.config.update(config)\n",
    "    wandb.finish()\n",
    "    trainer.save_model(output_path/run_name)\n",
    "else:\n",
    "    model = AutoModelForMultipleChoice.from_pretrained(output_path/run_name)"
   ]
  },
  {
   "cell_type": "markdown",
   "id": "33c7ffed-5442-4b18-a9b5-af19169840ee",
   "metadata": {},
   "source": [
    "## Predict Test Set"
   ]
  },
  {
   "cell_type": "code",
   "execution_count": 24,
   "id": "8311360f-b360-4f5a-ac67-fa9ffd1ec40a",
   "metadata": {},
   "outputs": [],
   "source": [
    "trainer = Trainer(\n",
    "    model=model,\n",
    "    data_collator=DataCollatorForMultipleChoice(tokenizer=tokenizer, max_length=600),\n",
    ")"
   ]
  },
  {
   "cell_type": "code",
   "execution_count": 25,
   "id": "e8278f92-4b3c-4aa8-a3b3-cd6b6468332c",
   "metadata": {
    "tags": []
   },
   "outputs": [
    {
     "data": {
      "text/plain": [
       "dict_keys(['test', 'daniel', 'osmu_sci_6k', 'mgoksu', 'gigkpea'])"
      ]
     },
     "execution_count": 25,
     "metadata": {},
     "output_type": "execute_result"
    }
   ],
   "source": [
    "test_sets_ctx.keys()"
   ]
  },
  {
   "cell_type": "code",
   "execution_count": 26,
   "id": "2a5c44ec-5da4-4c04-a1c6-5a2fec5a1599",
   "metadata": {},
   "outputs": [],
   "source": [
    "def predict_testset(test_with_passages, tokenized_testset):\n",
    "    test_logits = trainer.predict(tokenized_testset).predictions\n",
    "    test_preds = np.argsort(-test_logits, 1)\n",
    "    test_letters = np.array(list('ABCDE'))[test_preds]\n",
    "    test_letters = pl.Series(test_letters[:,:3]).list.join(' ')\n",
    "\n",
    "    return test_with_passages.with_columns(all_prediction=test_letters, prediction=test_letters.str.slice(0,1))"
   ]
  },
  {
   "cell_type": "code",
   "execution_count": 27,
   "id": "95a4eecf-3187-479f-9df7-9f6449438f23",
   "metadata": {
    "tags": []
   },
   "outputs": [
    {
     "data": {
      "text/html": [],
      "text/plain": [
       "<IPython.core.display.HTML object>"
      ]
     },
     "metadata": {},
     "output_type": "display_data"
    },
    {
     "data": {
      "text/html": [],
      "text/plain": [
       "<IPython.core.display.HTML object>"
      ]
     },
     "metadata": {},
     "output_type": "display_data"
    },
    {
     "data": {
      "text/html": [],
      "text/plain": [
       "<IPython.core.display.HTML object>"
      ]
     },
     "metadata": {},
     "output_type": "display_data"
    },
    {
     "data": {
      "text/html": [],
      "text/plain": [
       "<IPython.core.display.HTML object>"
      ]
     },
     "metadata": {},
     "output_type": "display_data"
    },
    {
     "data": {
      "text/html": [],
      "text/plain": [
       "<IPython.core.display.HTML object>"
      ]
     },
     "metadata": {},
     "output_type": "display_data"
    }
   ],
   "source": [
    "with_pred = {}\n",
    "for test_name in test_sets_ctx.keys():\n",
    "    with_pred[test_name] = predict_testset(test_sets_ctx[test_name], eval_datasets[test_name])"
   ]
  },
  {
   "cell_type": "code",
   "execution_count": 28,
   "id": "4efc3376-c115-4560-97e4-f301c929d0c4",
   "metadata": {
    "tags": []
   },
   "outputs": [
    {
     "name": "stdout",
     "output_type": "stream",
     "text": [
      "data/output/new_prompt_sci_deb_xl_v2/test.parquet\n",
      "data/output/new_prompt_sci_deb_xl_v2/daniel.parquet\n",
      "data/output/new_prompt_sci_deb_xl_v2/osmu_sci_6k.parquet\n",
      "data/output/new_prompt_sci_deb_xl_v2/mgoksu.parquet\n",
      "data/output/new_prompt_sci_deb_xl_v2/gigkpea.parquet\n"
     ]
    }
   ],
   "source": [
    "folder_path = Path(f'./data/output/{run_name}')\n",
    "os.makedirs(folder_path, exist_ok=True)\n",
    "for test_name in test_sets_ctx.keys():\n",
    "    file_path = folder_path/f'{test_name}.parquet'\n",
    "    with_pred[test_name].write_parquet(file_path)\n",
    "    print(file_path)"
   ]
  },
  {
   "cell_type": "markdown",
   "id": "3fc8880d-9dab-49c5-9d50-51f3de04694c",
   "metadata": {},
   "source": [
    "### Osmu data notes\n",
    "0. Based on the wikipedia_excerpt, the wrong answer is marked as correct."
   ]
  },
  {
   "cell_type": "code",
   "execution_count": 29,
   "id": "14c6e2e3-1ead-4ef1-988f-1ef7bf18daf8",
   "metadata": {
    "tags": []
   },
   "outputs": [
    {
     "data": {
      "text/html": [
       "<div><style>\n",
       ".dataframe > thead > tr > th,\n",
       ".dataframe > tbody > tr > td {\n",
       "  text-align: right;\n",
       "  white-space: pre-wrap;\n",
       "}\n",
       "</style>\n",
       "<small>shape: (1_902, 10)</small><table border=\"1\" class=\"dataframe\"><thead><tr><th>passage_id</th><th>section_id</th><th>title</th><th>section_title</th><th>section_index</th><th>passage_text</th><th>title_section_rank</th><th>section_passage_num</th><th>titled_passage</th><th>word_count</th></tr><tr><td>u32</td><td>u32</td><td>str</td><td>str</td><td>i64</td><td>str</td><td>u32</td><td>u32</td><td>str</td><td>u32</td></tr></thead><tbody><tr><td>4710</td><td>1844</td><td>&quot;Tetrachloronickelate&quot;</td><td>&quot;History&quot;</td><td>1</td><td>&quot;The blue colour due to the tetrachloronickelate ion was first observed in 1944 when Remy and Meyer melted cesium chloride and cesium nickel trichloride together.&quot;</td><td>1</td><td>1</td><td>&quot;Tetrachloronickelate: History: The blue colour due to the tetrachloronickelate ion was first observed in 1944 when Remy and Meyer melted cesium chloride and cesium nickel trichloride together.&quot;</td><td>27</td></tr><tr><td>17157</td><td>6336</td><td>&quot;Tetrachloroaluminate&quot;</td><td>&quot;Summary&quot;</td><td>0</td><td>&quot;Tetrachloroaluminate [AlCl4] is an Ion (chemistry) formed from aluminium and chlorine. The anion has a tetrahedral molecular geometry shape, similar to carbon tetrachloride where carbon is replaced with aluminium. Some tetrachloroaluminates are soluble in organic solvents, creating an ionic non-aqueous solution, making them suitable as component of electrolytes for batteries. For example, lithium tetrachloroaluminate is used in some lithium battery.&quot;</td><td>1</td><td>1</td><td>&quot;Tetrachloroaluminate: Summary: Tetrachloroaluminate [AlCl4] is an Ion (chemistry) formed from aluminium and chlorine. The anion has a tetrahedral molecular geometry shape, similar to carbon tetrachloride where carbon is replaced with aluminium. Some tetrachloroaluminates are soluble in organic solvents, creating an ionic non-aqueous solution, making them suitable as component of electrolytes for batteries. For example, lithium tetrachloroaluminate is used in some lithium battery.&quot;</td><td>62</td></tr><tr><td>17452</td><td>6488</td><td>&quot;2,4-Dichlorophenoxyacetic acid&quot;</td><td>&quot;Applications&quot;</td><td>4</td><td>&quot;2,4-D is primarily used as a selective herbicide which kills many terrestrial and aquatic broadleaf weeds, but not grasses. As it was discovered in the 1940s, a patent no longer governs the manufacture and sale of 2,4-D, and any company is free to produce it. Thus, it is sold in various formulations under a wide variety of brand names. 2,4-D can be found in commercial lawn herbicide mixtures, which often contain other active ingredients including mecoprop and dicamba. Over 1,500 herbicide products contain 2,4-D as an active ingredient.&quot;</td><td>1</td><td>1</td><td>&quot;2,4-Dichlorophenoxyacetic acid: Applications: 2,4-D is primarily used as a selective herbicide which kills many terrestrial and aquatic broadleaf weeds, but not grasses. As it was discovered in the 1940s, a patent no longer governs the manufacture and sale of 2,4-D, and any company is free to produce it. Thus, it is sold in various formulations under a wide variety of brand names. 2,4-D can be found in commercial lawn herbicide mixtures, which often contain other active ingredients including mecoprop and dicamba. Over 1,500 herbicide products contain 2,4-D as an active ingredient.&quot;</td><td>91</td></tr><tr><td>17453</td><td>6488</td><td>&quot;2,4-Dichlorophenoxyacetic acid&quot;</td><td>&quot;Applications&quot;</td><td>4</td><td>&quot;A wide variety of different sectors uses products containing 2,4-D to kill weeds and unwanted vegetation. In agriculture, it was the first herbicide found to be capable of selectively killing weeds but not crops. It has been used since 1945 to control broad-leafed weeds in pastures, orchards, and cereal crops such as corn, oats, rice, and wheat. Cereals, in particular, have excellent tolerance to 2,4-D when it is applied before planting. 2,4-D is the cheapest way for farmers to control winter annual weeds by spraying in the fall, often at the lowest recommended rate.&quot;</td><td>1</td><td>2</td><td>&quot;2,4-Dichlorophenoxyacetic acid: Applications: A wide variety of different sectors uses products containing 2,4-D to kill weeds and unwanted vegetation. In agriculture, it was the first herbicide found to be capable of selectively killing weeds but not crops. It has been used since 1945 to control broad-leafed weeds in pastures, orchards, and cereal crops such as corn, oats, rice, and wheat. Cereals, in particular, have excellent tolerance to 2,4-D when it is applied before planting. 2,4-D is the cheapest way for farmers to control winter annual weeds by spraying in the fall, often at the lowest recommended rate.&quot;</td><td>97</td></tr><tr><td>17454</td><td>6488</td><td>&quot;2,4-Dichlorophenoxyacetic acid&quot;</td><td>&quot;Applications&quot;</td><td>4</td><td>&quot;This is particularly effective before planting beans, peas, lentils, and chickpeas. The estimated use of 2,4-D in US agriculture is mapped by the US Geological Survey. In 2019, the latest date for which figures are available, this reached convert45000000lbkg annually. In domestic lawn and garden maintenance, 2,4-D is commonly used for weed control in lawns and other turf. It is used to kill unwanted weeds such as dandelions, plantain, clover, and chickweed. In forestry, it is used for stump treatment, trunk injection, and selective control of brush in conifer forests.&quot;</td><td>1</td><td>3</td><td>&quot;2,4-Dichlorophenoxyacetic acid: Applications: This is particularly effective before planting beans, peas, lentils, and chickpeas. The estimated use of 2,4-D in US agriculture is mapped by the US Geological Survey. In 2019, the latest date for which figures are available, this reached convert45000000lbkg annually. In domestic lawn and garden maintenance, 2,4-D is commonly used for weed control in lawns and other turf. It is used to kill unwanted weeds such as dandelions, plantain, clover, and chickweed. In forestry, it is used for stump treatment, trunk injection, and selective control of brush in conifer forests.&quot;</td><td>93</td></tr><tr><td>17455</td><td>6488</td><td>&quot;2,4-Dichlorophenoxyacetic acid&quot;</td><td>&quot;Applications&quot;</td><td>4</td><td>&quot;Along roadways, railways, and power lines, it is used to control weeds and brush which might interfere with safe operation and damage equipment. Along waterways, it is used to control aquatic weeds that might interfere with boating, fishing, and swimming or clog irrigation and hydroelectric equipment.&quot;</td><td>1</td><td>4</td><td>&quot;2,4-Dichlorophenoxyacetic acid: Applications: Along roadways, railways, and power lines, it is used to control weeds and brush which might interfere with safe operation and damage equipment. Along waterways, it is used to control aquatic weeds that might interfere with boating, fishing, and swimming or clog irrigation and hydroelectric equipment.&quot;</td><td>49</td></tr><tr><td>17456</td><td>6488</td><td>&quot;2,4-Dichlorophenoxyacetic acid&quot;</td><td>&quot;Applications&quot;</td><td>4</td><td>&quot;It is often used by government agencies to control the spread of invasive, noxious, and non-native weed species and prevent them from crowding out native species, and also to control many poisonous weeds such as poison ivy and poison oak.rp35–36 A 2010 monitoring study conducted in the US and Canada found that &quot;current exposures to 2,4-D are below applicable exposure guidance values.&quot; 2,4-D has been used in laboratories for plant research as a supplement in plant cell culture media such as MS medium since at least 1962.&quot;</td><td>1</td><td>5</td><td>&quot;2,4-Dichlorophenoxyacetic acid: Applications: It is often used by government agencies to control the spread of invasive, noxious, and non-native weed species and prevent them from crowding out native species, and also to control many poisonous weeds such as poison ivy and poison oak.rp35–36 A 2010 monitoring study conducted in the US and Canada found that &quot;current exposures to 2,4-D are below applicable exposure guidance values.&quot; 2,4-D has been used in laboratories for plant research as a supplement in plant cell culture media such as MS medium since at least 1962.&quot;</td><td>90</td></tr><tr><td>17457</td><td>6488</td><td>&quot;2,4-Dichlorophenoxyacetic acid&quot;</td><td>&quot;Applications&quot;</td><td>4</td><td>&quot;2,4-D is used in plant cell cultures as a dedifferentiation (callus induction) hormone. It is classified as an auxin plant hormone derivative.&quot;</td><td>1</td><td>6</td><td>&quot;2,4-Dichlorophenoxyacetic acid: Applications: 2,4-D is used in plant cell cultures as a dedifferentiation (callus induction) hormone. It is classified as an auxin plant hormone derivative.&quot;</td><td>25</td></tr><tr><td>17458</td><td>6489</td><td>&quot;2,4-Dichlorophenoxyacetic acid&quot;</td><td>&quot;Contaminants&quot;</td><td>8</td><td>&quot;A July 2013 Four Corners (Australian TV program) investigation found elevated levels of Dioxins and dioxin-like compounds in a generic version of 2,4-D, one of Australia&#x27;s most widely used herbicides. One scientist said the product tested by Four Corners, which was imported from China, had &quot;one of the highest dioxin readings for 2,4-D in the last 10 to 20 years, and could pose potential health risks.&quot;&quot;</td><td>1</td><td>1</td><td>&quot;2,4-Dichlorophenoxyacetic acid: Contaminants: A July 2013 Four Corners (Australian TV program) investigation found elevated levels of Dioxins and dioxin-like compounds in a generic version of 2,4-D, one of Australia&#x27;s most widely used herbicides. One scientist said the product tested by Four Corners, which was imported from China, had &quot;one of the highest dioxin readings for 2,4-D in the last 10 to 20 years, and could pose potential health risks.&quot;&quot;</td><td>69</td></tr><tr><td>18657</td><td>6995</td><td>&quot;Olmesartan/hydrochlorothiazide&quot;</td><td>&quot;Summary&quot;</td><td>0</td><td>&quot;Olmesartan/hydrochlorothiazide, sold under the brand name Benicar HCT among others, is a fixed-dose combination medication used to treat high blood pressure. It is a combination of olmesartan medoxomil, an angiotensin II receptor blocker and hydrochlorothiazide, a diuretic. It may be used if olmesartan is not sufficient to manage blood pressure. It is taken by mouth. Common side effects include nausea, dizziness, and upper respiratory tract infections. Serious side effects may include kidney problems, allergic reactions, electrolyte problems and low blood pressure. Use in pregnancy is not recommended.&quot;</td><td>1</td><td>1</td><td>&quot;Olmesartan/hydrochlorothiazide: Summary: Olmesartan/hydrochlorothiazide, sold under the brand name Benicar HCT among others, is a fixed-dose combination medication used to treat high blood pressure. It is a combination of olmesartan medoxomil, an angiotensin II receptor blocker and hydrochlorothiazide, a diuretic. It may be used if olmesartan is not sufficient to manage blood pressure. It is taken by mouth. Common side effects include nausea, dizziness, and upper respiratory tract infections. Serious side effects may include kidney problems, allergic reactions, electrolyte problems and low blood pressure. Use in pregnancy is not recommended.&quot;</td><td>89</td></tr><tr><td>18658</td><td>6995</td><td>&quot;Olmesartan/hydrochlorothiazide&quot;</td><td>&quot;Summary&quot;</td><td>0</td><td>&quot;Olmesartan works by blocking the effects of angiotensin II while hydrochlorothiazide works by increasing the loss of sodium by the kidneys. No generic version is available in the United States as of 2017. In 2020, it was the 281st most commonly prescribed medication in the United States, with more than 1nbspmillion prescriptions.&quot;</td><td>1</td><td>2</td><td>&quot;Olmesartan/hydrochlorothiazide: Summary: Olmesartan works by blocking the effects of angiotensin II while hydrochlorothiazide works by increasing the loss of sodium by the kidneys. No generic version is available in the United States as of 2017. In 2020, it was the 281st most commonly prescribed medication in the United States, with more than 1nbspmillion prescriptions.&quot;</td><td>54</td></tr><tr><td>23679</td><td>8841</td><td>&quot;Trichlorosilane&quot;</td><td>&quot;Organic synthesis&quot;</td><td>4</td><td>&quot;Trichlorosilane is a reagent in the conversion of benzoic acids to toluene derivatives. In the first step of a two-pot reaction, the carboxylic acid is first converted to the trichlosilylbenzyl compound. In the second step, the benzylic silyl derivative is converted to the toluene derivative with base.&quot;</td><td>1</td><td>1</td><td>&quot;Trichlorosilane: Organic synthesis: Trichlorosilane is a reagent in the conversion of benzoic acids to toluene derivatives. In the first step of a two-pot reaction, the carboxylic acid is first converted to the trichlosilylbenzyl compound. In the second step, the benzylic silyl derivative is converted to the toluene derivative with base.&quot;</td><td>50</td></tr><tr><td>&hellip;</td><td>&hellip;</td><td>&hellip;</td><td>&hellip;</td><td>&hellip;</td><td>&hellip;</td><td>&hellip;</td><td>&hellip;</td><td>&hellip;</td><td>&hellip;</td></tr><tr><td>2482551</td><td>890755</td><td>&quot;1,4-Dichlorobenzene&quot;</td><td>&quot;Uses&quot;</td><td>2</td><td>&quot;Disinfectant, deodorant, and pesticide p-DCB is used to control moths, Mold (fungus)s, and mildew. It also finds use as a disinfectant in waste containers and restrooms and is the characteristic smell associated with urinal cakes. Its usefulness for these applications arises from p-DCB&#x27;s low solubility in water and its relatively high Volatility (chemistry): it sublimation (chemistry) readily near room temperature. Precursor to other chemicals Nitration gives 1,4-Dichloro-2-nitrobenzene, a precursor to commercial dyes and pigments. The chloride sites on p-DCB can be nucleophilic substitution with hydroxylamine and sulfide groups.&quot;</td><td>1</td><td>1</td><td>&quot;1,4-Dichlorobenzene: Uses: Disinfectant, deodorant, and pesticide p-DCB is used to control moths, Mold (fungus)s, and mildew. It also finds use as a disinfectant in waste containers and restrooms and is the characteristic smell associated with urinal cakes. Its usefulness for these applications arises from p-DCB&#x27;s low solubility in water and its relatively high Volatility (chemistry): it sublimation (chemistry) readily near room temperature. Precursor to other chemicals Nitration gives 1,4-Dichloro-2-nitrobenzene, a precursor to commercial dyes and pigments. The chloride sites on p-DCB can be nucleophilic substitution with hydroxylamine and sulfide groups.&quot;</td><td>90</td></tr><tr><td>2482552</td><td>890755</td><td>&quot;1,4-Dichlorobenzene&quot;</td><td>&quot;Uses&quot;</td><td>2</td><td>&quot;In a growing application, p-DCB is the precursor to the high performance polymer poly(p-phenylene sulfide):&quot;</td><td>1</td><td>2</td><td>&quot;1,4-Dichlorobenzene: Uses: In a growing application, p-DCB is the precursor to the high performance polymer poly(p-phenylene sulfide):&quot;</td><td>17</td></tr><tr><td>2482683</td><td>890837</td><td>&quot;4-Nitrochlorobenzene&quot;</td><td>&quot;Safety&quot;</td><td>3</td><td>&quot;The U.S. National Institute for Occupational Safety and Health considers 4-nitrochlorobenzene as a potential occupational carcinogen. The Occupational Safety and Health Administration set a permissible exposure limit of 1 mg/m3 The American Conference of Governmental Industrial Hygienists recommends an airborne exposure limit of 0.64 mg/m3 over a time-weighted average of eight hours.&quot;</td><td>1</td><td>1</td><td>&quot;4-Nitrochlorobenzene: Safety: The U.S. National Institute for Occupational Safety and Health considers 4-nitrochlorobenzene as a potential occupational carcinogen. The Occupational Safety and Health Administration set a permissible exposure limit of 1 mg/m3 The American Conference of Governmental Industrial Hygienists recommends an airborne exposure limit of 0.64 mg/m3 over a time-weighted average of eight hours.&quot;</td><td>54</td></tr><tr><td>2493676</td><td>894820</td><td>&quot;2-Fluorodeschloroketamine&quot;</td><td>&quot;Chemistry&quot;</td><td>2</td><td>&quot;Structure The full chemical name of 2-FDCK is 2-(2-fluorophenyl)-2-(methylamino)cyclohexan-1-one. 2-FDCK belongs to a class of compounds called arylcyclohexylamines which contains various other drugs such as Phencyclidine and ketamine. Their general structure consists of a cyclohexylamine unit with an aryl group attached to the same carbon as the Amine group. 2-FDCK has an o-fluorophenyl group as an aryl substituent and the amine group is methylated. The cyclohexyl ring features a ketone group next to the amine position. The chemical structure of 2-FDCK differs from ketamine only in that there is a fluorine atom attached to the phenyl group.&quot;</td><td>1</td><td>1</td><td>&quot;2-Fluorodeschloroketamine: Chemistry: Structure The full chemical name of 2-FDCK is 2-(2-fluorophenyl)-2-(methylamino)cyclohexan-1-one. 2-FDCK belongs to a class of compounds called arylcyclohexylamines which contains various other drugs such as Phencyclidine and ketamine. Their general structure consists of a cyclohexylamine unit with an aryl group attached to the same carbon as the Amine group. 2-FDCK has an o-fluorophenyl group as an aryl substituent and the amine group is methylated. The cyclohexyl ring features a ketone group next to the amine position. The chemical structure of 2-FDCK differs from ketamine only in that there is a fluorine atom attached to the phenyl group.&quot;</td><td>99</td></tr><tr><td>2493677</td><td>894820</td><td>&quot;2-Fluorodeschloroketamine&quot;</td><td>&quot;Chemistry&quot;</td><td>2</td><td>&quot;Ketamine has a chlorine atom in that position. Synthesis 2-FDCK can be synthesized in a five-step reaction process. First 2-fluorobenzonitrile reacts with the Grignard reagent cyclopentyl magnesium bromide followed by a Halogenation reaction to obtain α-bromocyclopentyl-(2-fluorophenyl)-ketone. The reaction of the obtained ketone with methylamine at -40°C then results in the formation of α-hydroxycyclopentyl-(2-fluorophenyl)-N-methylamine. Finally, the five-membered ring cyclopentanol form is expanded to a cyclohexylketone form by a thermal rearrangement reaction. Hydrogen chloride is used to create a water-soluble HCl salt of 2-FDCK.&quot;</td><td>1</td><td>2</td><td>&quot;2-Fluorodeschloroketamine: Chemistry: Ketamine has a chlorine atom in that position. Synthesis 2-FDCK can be synthesized in a five-step reaction process. First 2-fluorobenzonitrile reacts with the Grignard reagent cyclopentyl magnesium bromide followed by a Halogenation reaction to obtain α-bromocyclopentyl-(2-fluorophenyl)-ketone. The reaction of the obtained ketone with methylamine at -40°C then results in the formation of α-hydroxycyclopentyl-(2-fluorophenyl)-N-methylamine. Finally, the five-membered ring cyclopentanol form is expanded to a cyclohexylketone form by a thermal rearrangement reaction. Hydrogen chloride is used to create a water-soluble HCl salt of 2-FDCK.&quot;</td><td>84</td></tr><tr><td>2493678</td><td>894820</td><td>&quot;2-Fluorodeschloroketamine&quot;</td><td>&quot;Chemistry&quot;</td><td>2</td><td>&quot;Detection 2-FDCK and its metabolites can be detected in urine with the use of liquid chromatography mass spectrometry (Liquid chromatography–mass spectrometry).&quot;</td><td>1</td><td>3</td><td>&quot;2-Fluorodeschloroketamine: Chemistry: Detection 2-FDCK and its metabolites can be detected in urine with the use of liquid chromatography mass spectrometry (Liquid chromatography–mass spectrometry).&quot;</td><td>23</td></tr><tr><td>2493679</td><td>894821</td><td>&quot;2-Fluorodeschloroketamine&quot;</td><td>&quot;Comparison to other halogen-substituted ketamine variants&quot;</td><td>9</td><td>&quot;For general (halogen) substitutions of ketamine, docking strength for CYP2B6 follows the pattern H Br Cl F. The parameter of internal clearance follows the pattern Br Cl F H. Lastly, Km (Michaelis–Menten kinetics) follows the pattern of Br Cl F H, and as such the in-vitro metabolism rate follows the inverse pattern, namely Br Cl F H.&quot;</td><td>1</td><td>1</td><td>&quot;2-Fluorodeschloroketamine: Comparison to other halogen-substituted ketamine variants: For general (halogen) substitutions of ketamine, docking strength for CYP2B6 follows the pattern H Br Cl F. The parameter of internal clearance follows the pattern Br Cl F H. Lastly, Km (Michaelis–Menten kinetics) follows the pattern of Br Cl F H, and as such the in-vitro metabolism rate follows the inverse pattern, namely Br Cl F H.&quot;</td><td>64</td></tr><tr><td>2493991</td><td>894984</td><td>&quot;Trichloroacetonitrile&quot;</td><td>&quot;Properties&quot;</td><td>2</td><td>&quot;Freshly-distilled trichloroacetonitrile is a colorless liquid with a pungent odor that discolours rapidly yellowish to light brown. It is sensitive towards water, acids and bases. The Bond length are 146.0Metre (C–C), 116.5pm (C≡N) and 176.3pm (C–Cl). The bond angle is 110.0° (Cl–C–Cl).&quot;</td><td>1</td><td>1</td><td>&quot;Trichloroacetonitrile: Properties: Freshly-distilled trichloroacetonitrile is a colorless liquid with a pungent odor that discolours rapidly yellowish to light brown. It is sensitive towards water, acids and bases. The Bond length are 146.0Metre (C–C), 116.5pm (C≡N) and 176.3pm (C–Cl). The bond angle is 110.0° (Cl–C–Cl).&quot;</td><td>44</td></tr><tr><td>2495083</td><td>895418</td><td>&quot;Hexachlorobutadiene&quot;</td><td>&quot;Applications&quot;</td><td>3</td><td>&quot;One of the primary applications of hexachlorobutadiene is as a solvent for chlorine, a good example of the common aphorism &quot;like dissolves like.&quot; The molar solubility of chlorine in HCBD at 0 °C is around 34% (2.17 mol/L). The solubility of another chlorine solvent, carbon tetrachloride, at 0 °C is about 30% (3.11 mol/L). One mole of C4Cl6 can dissolve more chlorine than one mole of CCl4, but the molecular weight difference between the two solvents is such that per liter of solvent, more chlorine can be dissolved in carbon tetrachloride.&quot;</td><td>1</td><td>1</td><td>&quot;Hexachlorobutadiene: Applications: One of the primary applications of hexachlorobutadiene is as a solvent for chlorine, a good example of the common aphorism &quot;like dissolves like.&quot; The molar solubility of chlorine in HCBD at 0 °C is around 34% (2.17 mol/L). The solubility of another chlorine solvent, carbon tetrachloride, at 0 °C is about 30% (3.11 mol/L). One mole of C4Cl6 can dissolve more chlorine than one mole of CCl4, but the molecular weight difference between the two solvents is such that per liter of solvent, more chlorine can be dissolved in carbon tetrachloride.&quot;</td><td>93</td></tr><tr><td>2495084</td><td>895418</td><td>&quot;Hexachlorobutadiene&quot;</td><td>&quot;Applications&quot;</td><td>3</td><td>&quot;Shown below is the molar solubility of hexachlorobutadiene compared to carbon tetrachloride at various temperatures. Just like chlorine, many other chlorine-containing compounds can be readily dissolved in a solution of hexachlorobutadiene. As a solvent, it is unreactive toward common acids and select non-nucleophilic bases. An illustrative application HCBD as a solvent is the Iron(III) chloride-catalyzed chlorination of toluene to give pentachloromethylbenzene. Hexachlorobutadiene is used exclusively over carbon tetrachloride in this reaction because ferric chloride (FeCl3) is insoluble in CCl4.&quot;</td><td>1</td><td>2</td><td>&quot;Hexachlorobutadiene: Applications: Shown below is the molar solubility of hexachlorobutadiene compared to carbon tetrachloride at various temperatures. Just like chlorine, many other chlorine-containing compounds can be readily dissolved in a solution of hexachlorobutadiene. As a solvent, it is unreactive toward common acids and select non-nucleophilic bases. An illustrative application HCBD as a solvent is the Iron(III) chloride-catalyzed chlorination of toluene to give pentachloromethylbenzene. Hexachlorobutadiene is used exclusively over carbon tetrachloride in this reaction because ferric chloride (FeCl3) is insoluble in CCl4.&quot;</td><td>81</td></tr><tr><td>2495085</td><td>895418</td><td>&quot;Hexachlorobutadiene&quot;</td><td>&quot;Applications&quot;</td><td>3</td><td>&quot;Given its affinity for chlorinated compounds, liquid HCBD is used as a scrubber in order to remove chlorine containing contaminants from gas streams. An example of this application is its use in the production of Hydrogen chloride as the primary contaminants, especially Cl2, are more soluble in hexachlorobutadiene than the gaseous hydrogen chloride. In IR spectroscopy, hexachlorobutadiene is occasionally used as a Mulling (spectroscopy) in order to analyze the stretching frequencies of C-H stretching bands. The usual mulling agent, Nujol, is a hydrocarbon and thus exhibits C-H stretching bands that can interfere with the signal from the sample.&quot;</td><td>1</td><td>3</td><td>&quot;Hexachlorobutadiene: Applications: Given its affinity for chlorinated compounds, liquid HCBD is used as a scrubber in order to remove chlorine containing contaminants from gas streams. An example of this application is its use in the production of Hydrogen chloride as the primary contaminants, especially Cl2, are more soluble in hexachlorobutadiene than the gaseous hydrogen chloride. In IR spectroscopy, hexachlorobutadiene is occasionally used as a Mulling (spectroscopy) in order to analyze the stretching frequencies of C-H stretching bands. The usual mulling agent, Nujol, is a hydrocarbon and thus exhibits C-H stretching bands that can interfere with the signal from the sample.&quot;</td><td>100</td></tr><tr><td>2495086</td><td>895418</td><td>&quot;Hexachlorobutadiene&quot;</td><td>&quot;Applications&quot;</td><td>3</td><td>&quot;Since HCBD contains no C-H bonds, it can be used instead to obtain this portion of the IR spectrum. Unfortunately, some Organometallic chemistry compounds react with HCBD, and therefore, care must be taken when selecting it as a mulling agent so as not to destroy the sample. Hexachlorobutadiene has yet another, albeit somewhat dated, application as an algicide in industrial cooling systems. Although HCBD is a potent herbicide, in recent years, this particular application has been discouraged due to the high toxicity of the compound at low concentrations.&quot;</td><td>1</td><td>4</td><td>&quot;Hexachlorobutadiene: Applications: Since HCBD contains no C-H bonds, it can be used instead to obtain this portion of the IR spectrum. Unfortunately, some Organometallic chemistry compounds react with HCBD, and therefore, care must be taken when selecting it as a mulling agent so as not to destroy the sample. Hexachlorobutadiene has yet another, albeit somewhat dated, application as an algicide in industrial cooling systems. Although HCBD is a potent herbicide, in recent years, this particular application has been discouraged due to the high toxicity of the compound at low concentrations.&quot;</td><td>90</td></tr></tbody></table></div>"
      ],
      "text/plain": [
       "shape: (1_902, 10)\n",
       "┌───────────┬───────────┬───────────┬───────────┬───┬───────────┬───────────┬───────────┬──────────┐\n",
       "│ passage_i ┆ section_i ┆ title     ┆ section_t ┆ … ┆ title_sec ┆ section_p ┆ titled_pa ┆ word_cou │\n",
       "│ d         ┆ d         ┆ ---       ┆ itle      ┆   ┆ tion_rank ┆ assage_nu ┆ ssage     ┆ nt       │\n",
       "│ ---       ┆ ---       ┆ str       ┆ ---       ┆   ┆ ---       ┆ m         ┆ ---       ┆ ---      │\n",
       "│ u32       ┆ u32       ┆           ┆ str       ┆   ┆ u32       ┆ ---       ┆ str       ┆ u32      │\n",
       "│           ┆           ┆           ┆           ┆   ┆           ┆ u32       ┆           ┆          │\n",
       "╞═══════════╪═══════════╪═══════════╪═══════════╪═══╪═══════════╪═══════════╪═══════════╪══════════╡\n",
       "│ 4710      ┆ 1844      ┆ Tetrachlo ┆ History   ┆ … ┆ 1         ┆ 1         ┆ Tetrachlo ┆ 27       │\n",
       "│           ┆           ┆ ronickela ┆           ┆   ┆           ┆           ┆ ronickela ┆          │\n",
       "│           ┆           ┆ te        ┆           ┆   ┆           ┆           ┆ te:       ┆          │\n",
       "│           ┆           ┆           ┆           ┆   ┆           ┆           ┆ History:  ┆          │\n",
       "│           ┆           ┆           ┆           ┆   ┆           ┆           ┆ The blue  ┆          │\n",
       "│           ┆           ┆           ┆           ┆   ┆           ┆           ┆ colour    ┆          │\n",
       "│           ┆           ┆           ┆           ┆   ┆           ┆           ┆ due to    ┆          │\n",
       "│           ┆           ┆           ┆           ┆   ┆           ┆           ┆ the tetra ┆          │\n",
       "│           ┆           ┆           ┆           ┆   ┆           ┆           ┆ chloronic ┆          │\n",
       "│           ┆           ┆           ┆           ┆   ┆           ┆           ┆ kelate    ┆          │\n",
       "│           ┆           ┆           ┆           ┆   ┆           ┆           ┆ ion was   ┆          │\n",
       "│           ┆           ┆           ┆           ┆   ┆           ┆           ┆ first     ┆          │\n",
       "│           ┆           ┆           ┆           ┆   ┆           ┆           ┆ observed  ┆          │\n",
       "│           ┆           ┆           ┆           ┆   ┆           ┆           ┆ in 1944   ┆          │\n",
       "│           ┆           ┆           ┆           ┆   ┆           ┆           ┆ when Remy ┆          │\n",
       "│           ┆           ┆           ┆           ┆   ┆           ┆           ┆ and Meyer ┆          │\n",
       "│           ┆           ┆           ┆           ┆   ┆           ┆           ┆ melted    ┆          │\n",
       "│           ┆           ┆           ┆           ┆   ┆           ┆           ┆ cesium    ┆          │\n",
       "│           ┆           ┆           ┆           ┆   ┆           ┆           ┆ chloride  ┆          │\n",
       "│           ┆           ┆           ┆           ┆   ┆           ┆           ┆ and       ┆          │\n",
       "│           ┆           ┆           ┆           ┆   ┆           ┆           ┆ cesium    ┆          │\n",
       "│           ┆           ┆           ┆           ┆   ┆           ┆           ┆ nickel    ┆          │\n",
       "│           ┆           ┆           ┆           ┆   ┆           ┆           ┆ trichlori ┆          │\n",
       "│           ┆           ┆           ┆           ┆   ┆           ┆           ┆ de        ┆          │\n",
       "│           ┆           ┆           ┆           ┆   ┆           ┆           ┆ together. ┆          │\n",
       "│ 17157     ┆ 6336      ┆ Tetrachlo ┆ Summary   ┆ … ┆ 1         ┆ 1         ┆ Tetrachlo ┆ 62       │\n",
       "│           ┆           ┆ roalumina ┆           ┆   ┆           ┆           ┆ roalumina ┆          │\n",
       "│           ┆           ┆ te        ┆           ┆   ┆           ┆           ┆ te:       ┆          │\n",
       "│           ┆           ┆           ┆           ┆   ┆           ┆           ┆ Summary:  ┆          │\n",
       "│           ┆           ┆           ┆           ┆   ┆           ┆           ┆ Tetrachlo ┆          │\n",
       "│           ┆           ┆           ┆           ┆   ┆           ┆           ┆ roalumina ┆          │\n",
       "│           ┆           ┆           ┆           ┆   ┆           ┆           ┆ te        ┆          │\n",
       "│           ┆           ┆           ┆           ┆   ┆           ┆           ┆ [AlCl4]   ┆          │\n",
       "│           ┆           ┆           ┆           ┆   ┆           ┆           ┆ is an Ion ┆          │\n",
       "│           ┆           ┆           ┆           ┆   ┆           ┆           ┆ (chemistr ┆          │\n",
       "│           ┆           ┆           ┆           ┆   ┆           ┆           ┆ y) formed ┆          │\n",
       "│           ┆           ┆           ┆           ┆   ┆           ┆           ┆ from      ┆          │\n",
       "│           ┆           ┆           ┆           ┆   ┆           ┆           ┆ aluminium ┆          │\n",
       "│           ┆           ┆           ┆           ┆   ┆           ┆           ┆ and       ┆          │\n",
       "│           ┆           ┆           ┆           ┆   ┆           ┆           ┆ chlorine. ┆          │\n",
       "│           ┆           ┆           ┆           ┆   ┆           ┆           ┆ The anion ┆          │\n",
       "│           ┆           ┆           ┆           ┆   ┆           ┆           ┆ has a tet ┆          │\n",
       "│           ┆           ┆           ┆           ┆   ┆           ┆           ┆ rahedral  ┆          │\n",
       "│           ┆           ┆           ┆           ┆   ┆           ┆           ┆ molecular ┆          │\n",
       "│           ┆           ┆           ┆           ┆   ┆           ┆           ┆ geometry  ┆          │\n",
       "│           ┆           ┆           ┆           ┆   ┆           ┆           ┆ shape,    ┆          │\n",
       "│           ┆           ┆           ┆           ┆   ┆           ┆           ┆ similar   ┆          │\n",
       "│           ┆           ┆           ┆           ┆   ┆           ┆           ┆ to carbon ┆          │\n",
       "│           ┆           ┆           ┆           ┆   ┆           ┆           ┆ tetrachlo ┆          │\n",
       "│           ┆           ┆           ┆           ┆   ┆           ┆           ┆ ride      ┆          │\n",
       "│           ┆           ┆           ┆           ┆   ┆           ┆           ┆ where     ┆          │\n",
       "│           ┆           ┆           ┆           ┆   ┆           ┆           ┆ carbon is ┆          │\n",
       "│           ┆           ┆           ┆           ┆   ┆           ┆           ┆ replaced  ┆          │\n",
       "│           ┆           ┆           ┆           ┆   ┆           ┆           ┆ with alum ┆          │\n",
       "│           ┆           ┆           ┆           ┆   ┆           ┆           ┆ inium.    ┆          │\n",
       "│           ┆           ┆           ┆           ┆   ┆           ┆           ┆ Some tetr ┆          │\n",
       "│           ┆           ┆           ┆           ┆   ┆           ┆           ┆ achloroal ┆          │\n",
       "│           ┆           ┆           ┆           ┆   ┆           ┆           ┆ uminates  ┆          │\n",
       "│           ┆           ┆           ┆           ┆   ┆           ┆           ┆ are       ┆          │\n",
       "│           ┆           ┆           ┆           ┆   ┆           ┆           ┆ soluble   ┆          │\n",
       "│           ┆           ┆           ┆           ┆   ┆           ┆           ┆ in        ┆          │\n",
       "│           ┆           ┆           ┆           ┆   ┆           ┆           ┆ organic   ┆          │\n",
       "│           ┆           ┆           ┆           ┆   ┆           ┆           ┆ solvents, ┆          │\n",
       "│           ┆           ┆           ┆           ┆   ┆           ┆           ┆ creating  ┆          │\n",
       "│           ┆           ┆           ┆           ┆   ┆           ┆           ┆ an ionic  ┆          │\n",
       "│           ┆           ┆           ┆           ┆   ┆           ┆           ┆ non-aqueo ┆          │\n",
       "│           ┆           ┆           ┆           ┆   ┆           ┆           ┆ us        ┆          │\n",
       "│           ┆           ┆           ┆           ┆   ┆           ┆           ┆ solution, ┆          │\n",
       "│           ┆           ┆           ┆           ┆   ┆           ┆           ┆ making    ┆          │\n",
       "│           ┆           ┆           ┆           ┆   ┆           ┆           ┆ them      ┆          │\n",
       "│           ┆           ┆           ┆           ┆   ┆           ┆           ┆ suitable  ┆          │\n",
       "│           ┆           ┆           ┆           ┆   ┆           ┆           ┆ as        ┆          │\n",
       "│           ┆           ┆           ┆           ┆   ┆           ┆           ┆ component ┆          │\n",
       "│           ┆           ┆           ┆           ┆   ┆           ┆           ┆ of electr ┆          │\n",
       "│           ┆           ┆           ┆           ┆   ┆           ┆           ┆ olytes    ┆          │\n",
       "│           ┆           ┆           ┆           ┆   ┆           ┆           ┆ for batte ┆          │\n",
       "│           ┆           ┆           ┆           ┆   ┆           ┆           ┆ ries. For ┆          │\n",
       "│           ┆           ┆           ┆           ┆   ┆           ┆           ┆ example,  ┆          │\n",
       "│           ┆           ┆           ┆           ┆   ┆           ┆           ┆ lithium   ┆          │\n",
       "│           ┆           ┆           ┆           ┆   ┆           ┆           ┆ tetrachlo ┆          │\n",
       "│           ┆           ┆           ┆           ┆   ┆           ┆           ┆ roalumina ┆          │\n",
       "│           ┆           ┆           ┆           ┆   ┆           ┆           ┆ te is     ┆          │\n",
       "│           ┆           ┆           ┆           ┆   ┆           ┆           ┆ used in   ┆          │\n",
       "│           ┆           ┆           ┆           ┆   ┆           ┆           ┆ some      ┆          │\n",
       "│           ┆           ┆           ┆           ┆   ┆           ┆           ┆ lithium   ┆          │\n",
       "│           ┆           ┆           ┆           ┆   ┆           ┆           ┆ battery.  ┆          │\n",
       "│ 17452     ┆ 6488      ┆ 2,4-Dichl ┆ Applicati ┆ … ┆ 1         ┆ 1         ┆ 2,4-Dichl ┆ 91       │\n",
       "│           ┆           ┆ orophenox ┆ ons       ┆   ┆           ┆           ┆ orophenox ┆          │\n",
       "│           ┆           ┆ yacetic   ┆           ┆   ┆           ┆           ┆ yacetic   ┆          │\n",
       "│           ┆           ┆ acid      ┆           ┆   ┆           ┆           ┆ acid: App ┆          │\n",
       "│           ┆           ┆           ┆           ┆   ┆           ┆           ┆ lications ┆          │\n",
       "│           ┆           ┆           ┆           ┆   ┆           ┆           ┆ : 2,4-D   ┆          │\n",
       "│           ┆           ┆           ┆           ┆   ┆           ┆           ┆ is        ┆          │\n",
       "│           ┆           ┆           ┆           ┆   ┆           ┆           ┆ primarily ┆          │\n",
       "│           ┆           ┆           ┆           ┆   ┆           ┆           ┆ used as a ┆          │\n",
       "│           ┆           ┆           ┆           ┆   ┆           ┆           ┆ selective ┆          │\n",
       "│           ┆           ┆           ┆           ┆   ┆           ┆           ┆ herbicide ┆          │\n",
       "│           ┆           ┆           ┆           ┆   ┆           ┆           ┆ which     ┆          │\n",
       "│           ┆           ┆           ┆           ┆   ┆           ┆           ┆ kills     ┆          │\n",
       "│           ┆           ┆           ┆           ┆   ┆           ┆           ┆ many terr ┆          │\n",
       "│           ┆           ┆           ┆           ┆   ┆           ┆           ┆ estrial   ┆          │\n",
       "│           ┆           ┆           ┆           ┆   ┆           ┆           ┆ and       ┆          │\n",
       "│           ┆           ┆           ┆           ┆   ┆           ┆           ┆ aquatic   ┆          │\n",
       "│           ┆           ┆           ┆           ┆   ┆           ┆           ┆ broadleaf ┆          │\n",
       "│           ┆           ┆           ┆           ┆   ┆           ┆           ┆ weeds,    ┆          │\n",
       "│           ┆           ┆           ┆           ┆   ┆           ┆           ┆ but not   ┆          │\n",
       "│           ┆           ┆           ┆           ┆   ┆           ┆           ┆ grasses.  ┆          │\n",
       "│           ┆           ┆           ┆           ┆   ┆           ┆           ┆ As it was ┆          │\n",
       "│           ┆           ┆           ┆           ┆   ┆           ┆           ┆ discovere ┆          │\n",
       "│           ┆           ┆           ┆           ┆   ┆           ┆           ┆ d in the  ┆          │\n",
       "│           ┆           ┆           ┆           ┆   ┆           ┆           ┆ 1940s, a  ┆          │\n",
       "│           ┆           ┆           ┆           ┆   ┆           ┆           ┆ patent no ┆          │\n",
       "│           ┆           ┆           ┆           ┆   ┆           ┆           ┆ longer    ┆          │\n",
       "│           ┆           ┆           ┆           ┆   ┆           ┆           ┆ governs   ┆          │\n",
       "│           ┆           ┆           ┆           ┆   ┆           ┆           ┆ the manuf ┆          │\n",
       "│           ┆           ┆           ┆           ┆   ┆           ┆           ┆ acture    ┆          │\n",
       "│           ┆           ┆           ┆           ┆   ┆           ┆           ┆ and sale  ┆          │\n",
       "│           ┆           ┆           ┆           ┆   ┆           ┆           ┆ of 2,4-D, ┆          │\n",
       "│           ┆           ┆           ┆           ┆   ┆           ┆           ┆ and any   ┆          │\n",
       "│           ┆           ┆           ┆           ┆   ┆           ┆           ┆ company   ┆          │\n",
       "│           ┆           ┆           ┆           ┆   ┆           ┆           ┆ is free   ┆          │\n",
       "│           ┆           ┆           ┆           ┆   ┆           ┆           ┆ to        ┆          │\n",
       "│           ┆           ┆           ┆           ┆   ┆           ┆           ┆ produce   ┆          │\n",
       "│           ┆           ┆           ┆           ┆   ┆           ┆           ┆ it. Thus, ┆          │\n",
       "│           ┆           ┆           ┆           ┆   ┆           ┆           ┆ it is     ┆          │\n",
       "│           ┆           ┆           ┆           ┆   ┆           ┆           ┆ sold in   ┆          │\n",
       "│           ┆           ┆           ┆           ┆   ┆           ┆           ┆ various   ┆          │\n",
       "│           ┆           ┆           ┆           ┆   ┆           ┆           ┆ formulati ┆          │\n",
       "│           ┆           ┆           ┆           ┆   ┆           ┆           ┆ ons under ┆          │\n",
       "│           ┆           ┆           ┆           ┆   ┆           ┆           ┆ a wide    ┆          │\n",
       "│           ┆           ┆           ┆           ┆   ┆           ┆           ┆ variety   ┆          │\n",
       "│           ┆           ┆           ┆           ┆   ┆           ┆           ┆ of brand  ┆          │\n",
       "│           ┆           ┆           ┆           ┆   ┆           ┆           ┆ names.    ┆          │\n",
       "│           ┆           ┆           ┆           ┆   ┆           ┆           ┆ 2,4-D can ┆          │\n",
       "│           ┆           ┆           ┆           ┆   ┆           ┆           ┆ be found  ┆          │\n",
       "│           ┆           ┆           ┆           ┆   ┆           ┆           ┆ in commer ┆          │\n",
       "│           ┆           ┆           ┆           ┆   ┆           ┆           ┆ cial lawn ┆          │\n",
       "│           ┆           ┆           ┆           ┆   ┆           ┆           ┆ herbicide ┆          │\n",
       "│           ┆           ┆           ┆           ┆   ┆           ┆           ┆ mixtures, ┆          │\n",
       "│           ┆           ┆           ┆           ┆   ┆           ┆           ┆ which     ┆          │\n",
       "│           ┆           ┆           ┆           ┆   ┆           ┆           ┆ often     ┆          │\n",
       "│           ┆           ┆           ┆           ┆   ┆           ┆           ┆ contain   ┆          │\n",
       "│           ┆           ┆           ┆           ┆   ┆           ┆           ┆ other     ┆          │\n",
       "│           ┆           ┆           ┆           ┆   ┆           ┆           ┆ active    ┆          │\n",
       "│           ┆           ┆           ┆           ┆   ┆           ┆           ┆ ingredien ┆          │\n",
       "│           ┆           ┆           ┆           ┆   ┆           ┆           ┆ ts        ┆          │\n",
       "│           ┆           ┆           ┆           ┆   ┆           ┆           ┆ including ┆          │\n",
       "│           ┆           ┆           ┆           ┆   ┆           ┆           ┆ mecoprop  ┆          │\n",
       "│           ┆           ┆           ┆           ┆   ┆           ┆           ┆ and       ┆          │\n",
       "│           ┆           ┆           ┆           ┆   ┆           ┆           ┆ dicamba.  ┆          │\n",
       "│           ┆           ┆           ┆           ┆   ┆           ┆           ┆ Over      ┆          │\n",
       "│           ┆           ┆           ┆           ┆   ┆           ┆           ┆ 1,500     ┆          │\n",
       "│           ┆           ┆           ┆           ┆   ┆           ┆           ┆ herbicide ┆          │\n",
       "│           ┆           ┆           ┆           ┆   ┆           ┆           ┆ products  ┆          │\n",
       "│           ┆           ┆           ┆           ┆   ┆           ┆           ┆ contain   ┆          │\n",
       "│           ┆           ┆           ┆           ┆   ┆           ┆           ┆ 2,4-D as  ┆          │\n",
       "│           ┆           ┆           ┆           ┆   ┆           ┆           ┆ an active ┆          │\n",
       "│           ┆           ┆           ┆           ┆   ┆           ┆           ┆ ingredien ┆          │\n",
       "│           ┆           ┆           ┆           ┆   ┆           ┆           ┆ t.        ┆          │\n",
       "│ 17453     ┆ 6488      ┆ 2,4-Dichl ┆ Applicati ┆ … ┆ 1         ┆ 2         ┆ 2,4-Dichl ┆ 97       │\n",
       "│           ┆           ┆ orophenox ┆ ons       ┆   ┆           ┆           ┆ orophenox ┆          │\n",
       "│           ┆           ┆ yacetic   ┆           ┆   ┆           ┆           ┆ yacetic   ┆          │\n",
       "│           ┆           ┆ acid      ┆           ┆   ┆           ┆           ┆ acid: App ┆          │\n",
       "│           ┆           ┆           ┆           ┆   ┆           ┆           ┆ lications ┆          │\n",
       "│           ┆           ┆           ┆           ┆   ┆           ┆           ┆ : A wide  ┆          │\n",
       "│           ┆           ┆           ┆           ┆   ┆           ┆           ┆ variety   ┆          │\n",
       "│           ┆           ┆           ┆           ┆   ┆           ┆           ┆ of        ┆          │\n",
       "│           ┆           ┆           ┆           ┆   ┆           ┆           ┆ different ┆          │\n",
       "│           ┆           ┆           ┆           ┆   ┆           ┆           ┆ sectors   ┆          │\n",
       "│           ┆           ┆           ┆           ┆   ┆           ┆           ┆ uses      ┆          │\n",
       "│           ┆           ┆           ┆           ┆   ┆           ┆           ┆ products  ┆          │\n",
       "│           ┆           ┆           ┆           ┆   ┆           ┆           ┆ containin ┆          │\n",
       "│           ┆           ┆           ┆           ┆   ┆           ┆           ┆ g 2,4-D   ┆          │\n",
       "│           ┆           ┆           ┆           ┆   ┆           ┆           ┆ to kill   ┆          │\n",
       "│           ┆           ┆           ┆           ┆   ┆           ┆           ┆ weeds and ┆          │\n",
       "│           ┆           ┆           ┆           ┆   ┆           ┆           ┆ unwanted  ┆          │\n",
       "│           ┆           ┆           ┆           ┆   ┆           ┆           ┆ vegetatio ┆          │\n",
       "│           ┆           ┆           ┆           ┆   ┆           ┆           ┆ n. In agr ┆          │\n",
       "│           ┆           ┆           ┆           ┆   ┆           ┆           ┆ iculture, ┆          │\n",
       "│           ┆           ┆           ┆           ┆   ┆           ┆           ┆ it was    ┆          │\n",
       "│           ┆           ┆           ┆           ┆   ┆           ┆           ┆ the first ┆          │\n",
       "│           ┆           ┆           ┆           ┆   ┆           ┆           ┆ herbicide ┆          │\n",
       "│           ┆           ┆           ┆           ┆   ┆           ┆           ┆ found to  ┆          │\n",
       "│           ┆           ┆           ┆           ┆   ┆           ┆           ┆ be        ┆          │\n",
       "│           ┆           ┆           ┆           ┆   ┆           ┆           ┆ capable   ┆          │\n",
       "│           ┆           ┆           ┆           ┆   ┆           ┆           ┆ of select ┆          │\n",
       "│           ┆           ┆           ┆           ┆   ┆           ┆           ┆ ively     ┆          │\n",
       "│           ┆           ┆           ┆           ┆   ┆           ┆           ┆ killing   ┆          │\n",
       "│           ┆           ┆           ┆           ┆   ┆           ┆           ┆ weeds but ┆          │\n",
       "│           ┆           ┆           ┆           ┆   ┆           ┆           ┆ not       ┆          │\n",
       "│           ┆           ┆           ┆           ┆   ┆           ┆           ┆ crops. It ┆          │\n",
       "│           ┆           ┆           ┆           ┆   ┆           ┆           ┆ has been  ┆          │\n",
       "│           ┆           ┆           ┆           ┆   ┆           ┆           ┆ used      ┆          │\n",
       "│           ┆           ┆           ┆           ┆   ┆           ┆           ┆ since     ┆          │\n",
       "│           ┆           ┆           ┆           ┆   ┆           ┆           ┆ 1945 to   ┆          │\n",
       "│           ┆           ┆           ┆           ┆   ┆           ┆           ┆ control   ┆          │\n",
       "│           ┆           ┆           ┆           ┆   ┆           ┆           ┆ broad-lea ┆          │\n",
       "│           ┆           ┆           ┆           ┆   ┆           ┆           ┆ fed weeds ┆          │\n",
       "│           ┆           ┆           ┆           ┆   ┆           ┆           ┆ in        ┆          │\n",
       "│           ┆           ┆           ┆           ┆   ┆           ┆           ┆ pastures, ┆          │\n",
       "│           ┆           ┆           ┆           ┆   ┆           ┆           ┆ orchards, ┆          │\n",
       "│           ┆           ┆           ┆           ┆   ┆           ┆           ┆ and       ┆          │\n",
       "│           ┆           ┆           ┆           ┆   ┆           ┆           ┆ cereal    ┆          │\n",
       "│           ┆           ┆           ┆           ┆   ┆           ┆           ┆ crops     ┆          │\n",
       "│           ┆           ┆           ┆           ┆   ┆           ┆           ┆ such as   ┆          │\n",
       "│           ┆           ┆           ┆           ┆   ┆           ┆           ┆ corn,     ┆          │\n",
       "│           ┆           ┆           ┆           ┆   ┆           ┆           ┆ oats,     ┆          │\n",
       "│           ┆           ┆           ┆           ┆   ┆           ┆           ┆ rice, and ┆          │\n",
       "│           ┆           ┆           ┆           ┆   ┆           ┆           ┆ wheat.    ┆          │\n",
       "│           ┆           ┆           ┆           ┆   ┆           ┆           ┆ Cereals,  ┆          │\n",
       "│           ┆           ┆           ┆           ┆   ┆           ┆           ┆ in partic ┆          │\n",
       "│           ┆           ┆           ┆           ┆   ┆           ┆           ┆ ular,     ┆          │\n",
       "│           ┆           ┆           ┆           ┆   ┆           ┆           ┆ have      ┆          │\n",
       "│           ┆           ┆           ┆           ┆   ┆           ┆           ┆ excellent ┆          │\n",
       "│           ┆           ┆           ┆           ┆   ┆           ┆           ┆ tolerance ┆          │\n",
       "│           ┆           ┆           ┆           ┆   ┆           ┆           ┆ to 2,4-D  ┆          │\n",
       "│           ┆           ┆           ┆           ┆   ┆           ┆           ┆ when it   ┆          │\n",
       "│           ┆           ┆           ┆           ┆   ┆           ┆           ┆ is        ┆          │\n",
       "│           ┆           ┆           ┆           ┆   ┆           ┆           ┆ applied   ┆          │\n",
       "│           ┆           ┆           ┆           ┆   ┆           ┆           ┆ before    ┆          │\n",
       "│           ┆           ┆           ┆           ┆   ┆           ┆           ┆ planting. ┆          │\n",
       "│           ┆           ┆           ┆           ┆   ┆           ┆           ┆ 2,4-D is  ┆          │\n",
       "│           ┆           ┆           ┆           ┆   ┆           ┆           ┆ the       ┆          │\n",
       "│           ┆           ┆           ┆           ┆   ┆           ┆           ┆ cheapest  ┆          │\n",
       "│           ┆           ┆           ┆           ┆   ┆           ┆           ┆ way for   ┆          │\n",
       "│           ┆           ┆           ┆           ┆   ┆           ┆           ┆ farmers   ┆          │\n",
       "│           ┆           ┆           ┆           ┆   ┆           ┆           ┆ to        ┆          │\n",
       "│           ┆           ┆           ┆           ┆   ┆           ┆           ┆ control   ┆          │\n",
       "│           ┆           ┆           ┆           ┆   ┆           ┆           ┆ winter    ┆          │\n",
       "│           ┆           ┆           ┆           ┆   ┆           ┆           ┆ annual    ┆          │\n",
       "│           ┆           ┆           ┆           ┆   ┆           ┆           ┆ weeds by  ┆          │\n",
       "│           ┆           ┆           ┆           ┆   ┆           ┆           ┆ spraying  ┆          │\n",
       "│           ┆           ┆           ┆           ┆   ┆           ┆           ┆ in the    ┆          │\n",
       "│           ┆           ┆           ┆           ┆   ┆           ┆           ┆ fall,     ┆          │\n",
       "│           ┆           ┆           ┆           ┆   ┆           ┆           ┆ often at  ┆          │\n",
       "│           ┆           ┆           ┆           ┆   ┆           ┆           ┆ the       ┆          │\n",
       "│           ┆           ┆           ┆           ┆   ┆           ┆           ┆ lowest    ┆          │\n",
       "│           ┆           ┆           ┆           ┆   ┆           ┆           ┆ recommend ┆          │\n",
       "│           ┆           ┆           ┆           ┆   ┆           ┆           ┆ ed rate.  ┆          │\n",
       "│ …         ┆ …         ┆ …         ┆ …         ┆ … ┆ …         ┆ …         ┆ …         ┆ …        │\n",
       "│ 2495083   ┆ 895418    ┆ Hexachlor ┆ Applicati ┆ … ┆ 1         ┆ 1         ┆ Hexachlor ┆ 93       │\n",
       "│           ┆           ┆ obutadien ┆ ons       ┆   ┆           ┆           ┆ obutadien ┆          │\n",
       "│           ┆           ┆ e         ┆           ┆   ┆           ┆           ┆ e: Applic ┆          │\n",
       "│           ┆           ┆           ┆           ┆   ┆           ┆           ┆ ations:   ┆          │\n",
       "│           ┆           ┆           ┆           ┆   ┆           ┆           ┆ One of    ┆          │\n",
       "│           ┆           ┆           ┆           ┆   ┆           ┆           ┆ the       ┆          │\n",
       "│           ┆           ┆           ┆           ┆   ┆           ┆           ┆ primary   ┆          │\n",
       "│           ┆           ┆           ┆           ┆   ┆           ┆           ┆ applicati ┆          │\n",
       "│           ┆           ┆           ┆           ┆   ┆           ┆           ┆ ons of    ┆          │\n",
       "│           ┆           ┆           ┆           ┆   ┆           ┆           ┆ hexachlor ┆          │\n",
       "│           ┆           ┆           ┆           ┆   ┆           ┆           ┆ obutadien ┆          │\n",
       "│           ┆           ┆           ┆           ┆   ┆           ┆           ┆ e is as a ┆          │\n",
       "│           ┆           ┆           ┆           ┆   ┆           ┆           ┆ solvent   ┆          │\n",
       "│           ┆           ┆           ┆           ┆   ┆           ┆           ┆ for       ┆          │\n",
       "│           ┆           ┆           ┆           ┆   ┆           ┆           ┆ chlorine, ┆          │\n",
       "│           ┆           ┆           ┆           ┆   ┆           ┆           ┆ a good    ┆          │\n",
       "│           ┆           ┆           ┆           ┆   ┆           ┆           ┆ example   ┆          │\n",
       "│           ┆           ┆           ┆           ┆   ┆           ┆           ┆ of the    ┆          │\n",
       "│           ┆           ┆           ┆           ┆   ┆           ┆           ┆ common    ┆          │\n",
       "│           ┆           ┆           ┆           ┆   ┆           ┆           ┆ aphorism  ┆          │\n",
       "│           ┆           ┆           ┆           ┆   ┆           ┆           ┆ \"like     ┆          │\n",
       "│           ┆           ┆           ┆           ┆   ┆           ┆           ┆ dissolves ┆          │\n",
       "│           ┆           ┆           ┆           ┆   ┆           ┆           ┆ like.\"    ┆          │\n",
       "│           ┆           ┆           ┆           ┆   ┆           ┆           ┆ The molar ┆          │\n",
       "│           ┆           ┆           ┆           ┆   ┆           ┆           ┆ solubilit ┆          │\n",
       "│           ┆           ┆           ┆           ┆   ┆           ┆           ┆ y of      ┆          │\n",
       "│           ┆           ┆           ┆           ┆   ┆           ┆           ┆ chlorine  ┆          │\n",
       "│           ┆           ┆           ┆           ┆   ┆           ┆           ┆ in HCBD   ┆          │\n",
       "│           ┆           ┆           ┆           ┆   ┆           ┆           ┆ at 0 °C   ┆          │\n",
       "│           ┆           ┆           ┆           ┆   ┆           ┆           ┆ is around ┆          │\n",
       "│           ┆           ┆           ┆           ┆   ┆           ┆           ┆ 34% (2.17 ┆          │\n",
       "│           ┆           ┆           ┆           ┆   ┆           ┆           ┆ mol/L).   ┆          │\n",
       "│           ┆           ┆           ┆           ┆   ┆           ┆           ┆ The solub ┆          │\n",
       "│           ┆           ┆           ┆           ┆   ┆           ┆           ┆ ility of  ┆          │\n",
       "│           ┆           ┆           ┆           ┆   ┆           ┆           ┆ another   ┆          │\n",
       "│           ┆           ┆           ┆           ┆   ┆           ┆           ┆ chlorine  ┆          │\n",
       "│           ┆           ┆           ┆           ┆   ┆           ┆           ┆ solvent,  ┆          │\n",
       "│           ┆           ┆           ┆           ┆   ┆           ┆           ┆ carbon    ┆          │\n",
       "│           ┆           ┆           ┆           ┆   ┆           ┆           ┆ tetrachlo ┆          │\n",
       "│           ┆           ┆           ┆           ┆   ┆           ┆           ┆ ride, at  ┆          │\n",
       "│           ┆           ┆           ┆           ┆   ┆           ┆           ┆ 0 °C is   ┆          │\n",
       "│           ┆           ┆           ┆           ┆   ┆           ┆           ┆ about 30% ┆          │\n",
       "│           ┆           ┆           ┆           ┆   ┆           ┆           ┆ (3.11     ┆          │\n",
       "│           ┆           ┆           ┆           ┆   ┆           ┆           ┆ mol/L).   ┆          │\n",
       "│           ┆           ┆           ┆           ┆   ┆           ┆           ┆ One mole  ┆          │\n",
       "│           ┆           ┆           ┆           ┆   ┆           ┆           ┆ of C4Cl6  ┆          │\n",
       "│           ┆           ┆           ┆           ┆   ┆           ┆           ┆ can       ┆          │\n",
       "│           ┆           ┆           ┆           ┆   ┆           ┆           ┆ dissolve  ┆          │\n",
       "│           ┆           ┆           ┆           ┆   ┆           ┆           ┆ more      ┆          │\n",
       "│           ┆           ┆           ┆           ┆   ┆           ┆           ┆ chlorine  ┆          │\n",
       "│           ┆           ┆           ┆           ┆   ┆           ┆           ┆ than one  ┆          │\n",
       "│           ┆           ┆           ┆           ┆   ┆           ┆           ┆ mole of   ┆          │\n",
       "│           ┆           ┆           ┆           ┆   ┆           ┆           ┆ CCl4, but ┆          │\n",
       "│           ┆           ┆           ┆           ┆   ┆           ┆           ┆ the       ┆          │\n",
       "│           ┆           ┆           ┆           ┆   ┆           ┆           ┆ molecular ┆          │\n",
       "│           ┆           ┆           ┆           ┆   ┆           ┆           ┆ weight    ┆          │\n",
       "│           ┆           ┆           ┆           ┆   ┆           ┆           ┆ differenc ┆          │\n",
       "│           ┆           ┆           ┆           ┆   ┆           ┆           ┆ e between ┆          │\n",
       "│           ┆           ┆           ┆           ┆   ┆           ┆           ┆ the two   ┆          │\n",
       "│           ┆           ┆           ┆           ┆   ┆           ┆           ┆ solvents  ┆          │\n",
       "│           ┆           ┆           ┆           ┆   ┆           ┆           ┆ is such   ┆          │\n",
       "│           ┆           ┆           ┆           ┆   ┆           ┆           ┆ that per  ┆          │\n",
       "│           ┆           ┆           ┆           ┆   ┆           ┆           ┆ liter of  ┆          │\n",
       "│           ┆           ┆           ┆           ┆   ┆           ┆           ┆ solvent,  ┆          │\n",
       "│           ┆           ┆           ┆           ┆   ┆           ┆           ┆ more      ┆          │\n",
       "│           ┆           ┆           ┆           ┆   ┆           ┆           ┆ chlorine  ┆          │\n",
       "│           ┆           ┆           ┆           ┆   ┆           ┆           ┆ can be    ┆          │\n",
       "│           ┆           ┆           ┆           ┆   ┆           ┆           ┆ dissolved ┆          │\n",
       "│           ┆           ┆           ┆           ┆   ┆           ┆           ┆ in carbon ┆          │\n",
       "│           ┆           ┆           ┆           ┆   ┆           ┆           ┆ tetrachlo ┆          │\n",
       "│           ┆           ┆           ┆           ┆   ┆           ┆           ┆ ride.     ┆          │\n",
       "│ 2495084   ┆ 895418    ┆ Hexachlor ┆ Applicati ┆ … ┆ 1         ┆ 2         ┆ Hexachlor ┆ 81       │\n",
       "│           ┆           ┆ obutadien ┆ ons       ┆   ┆           ┆           ┆ obutadien ┆          │\n",
       "│           ┆           ┆ e         ┆           ┆   ┆           ┆           ┆ e: Applic ┆          │\n",
       "│           ┆           ┆           ┆           ┆   ┆           ┆           ┆ ations:   ┆          │\n",
       "│           ┆           ┆           ┆           ┆   ┆           ┆           ┆ Shown     ┆          │\n",
       "│           ┆           ┆           ┆           ┆   ┆           ┆           ┆ below is  ┆          │\n",
       "│           ┆           ┆           ┆           ┆   ┆           ┆           ┆ the molar ┆          │\n",
       "│           ┆           ┆           ┆           ┆   ┆           ┆           ┆ solubilit ┆          │\n",
       "│           ┆           ┆           ┆           ┆   ┆           ┆           ┆ y of hexa ┆          │\n",
       "│           ┆           ┆           ┆           ┆   ┆           ┆           ┆ chlorobut ┆          │\n",
       "│           ┆           ┆           ┆           ┆   ┆           ┆           ┆ adiene    ┆          │\n",
       "│           ┆           ┆           ┆           ┆   ┆           ┆           ┆ compared  ┆          │\n",
       "│           ┆           ┆           ┆           ┆   ┆           ┆           ┆ to carbon ┆          │\n",
       "│           ┆           ┆           ┆           ┆   ┆           ┆           ┆ tetrachlo ┆          │\n",
       "│           ┆           ┆           ┆           ┆   ┆           ┆           ┆ ride at   ┆          │\n",
       "│           ┆           ┆           ┆           ┆   ┆           ┆           ┆ various   ┆          │\n",
       "│           ┆           ┆           ┆           ┆   ┆           ┆           ┆ temperatu ┆          │\n",
       "│           ┆           ┆           ┆           ┆   ┆           ┆           ┆ res. Just ┆          │\n",
       "│           ┆           ┆           ┆           ┆   ┆           ┆           ┆ like      ┆          │\n",
       "│           ┆           ┆           ┆           ┆   ┆           ┆           ┆ chlorine, ┆          │\n",
       "│           ┆           ┆           ┆           ┆   ┆           ┆           ┆ many      ┆          │\n",
       "│           ┆           ┆           ┆           ┆   ┆           ┆           ┆ other chl ┆          │\n",
       "│           ┆           ┆           ┆           ┆   ┆           ┆           ┆ orine-con ┆          │\n",
       "│           ┆           ┆           ┆           ┆   ┆           ┆           ┆ taining   ┆          │\n",
       "│           ┆           ┆           ┆           ┆   ┆           ┆           ┆ compounds ┆          │\n",
       "│           ┆           ┆           ┆           ┆   ┆           ┆           ┆ can be    ┆          │\n",
       "│           ┆           ┆           ┆           ┆   ┆           ┆           ┆ readily   ┆          │\n",
       "│           ┆           ┆           ┆           ┆   ┆           ┆           ┆ dissolved ┆          │\n",
       "│           ┆           ┆           ┆           ┆   ┆           ┆           ┆ in a      ┆          │\n",
       "│           ┆           ┆           ┆           ┆   ┆           ┆           ┆ solution  ┆          │\n",
       "│           ┆           ┆           ┆           ┆   ┆           ┆           ┆ of hexach ┆          │\n",
       "│           ┆           ┆           ┆           ┆   ┆           ┆           ┆ lorobutad ┆          │\n",
       "│           ┆           ┆           ┆           ┆   ┆           ┆           ┆ iene. As  ┆          │\n",
       "│           ┆           ┆           ┆           ┆   ┆           ┆           ┆ a         ┆          │\n",
       "│           ┆           ┆           ┆           ┆   ┆           ┆           ┆ solvent,  ┆          │\n",
       "│           ┆           ┆           ┆           ┆   ┆           ┆           ┆ it is unr ┆          │\n",
       "│           ┆           ┆           ┆           ┆   ┆           ┆           ┆ eactive   ┆          │\n",
       "│           ┆           ┆           ┆           ┆   ┆           ┆           ┆ toward    ┆          │\n",
       "│           ┆           ┆           ┆           ┆   ┆           ┆           ┆ common    ┆          │\n",
       "│           ┆           ┆           ┆           ┆   ┆           ┆           ┆ acids and ┆          │\n",
       "│           ┆           ┆           ┆           ┆   ┆           ┆           ┆ select    ┆          │\n",
       "│           ┆           ┆           ┆           ┆   ┆           ┆           ┆ non-nucle ┆          │\n",
       "│           ┆           ┆           ┆           ┆   ┆           ┆           ┆ ophilic   ┆          │\n",
       "│           ┆           ┆           ┆           ┆   ┆           ┆           ┆ bases. An ┆          │\n",
       "│           ┆           ┆           ┆           ┆   ┆           ┆           ┆ illustrat ┆          │\n",
       "│           ┆           ┆           ┆           ┆   ┆           ┆           ┆ ive appli ┆          │\n",
       "│           ┆           ┆           ┆           ┆   ┆           ┆           ┆ cation    ┆          │\n",
       "│           ┆           ┆           ┆           ┆   ┆           ┆           ┆ HCBD as a ┆          │\n",
       "│           ┆           ┆           ┆           ┆   ┆           ┆           ┆ solvent   ┆          │\n",
       "│           ┆           ┆           ┆           ┆   ┆           ┆           ┆ is the    ┆          │\n",
       "│           ┆           ┆           ┆           ┆   ┆           ┆           ┆ Iron(III) ┆          │\n",
       "│           ┆           ┆           ┆           ┆   ┆           ┆           ┆ chloride- ┆          │\n",
       "│           ┆           ┆           ┆           ┆   ┆           ┆           ┆ catalyzed ┆          │\n",
       "│           ┆           ┆           ┆           ┆   ┆           ┆           ┆ chlorinat ┆          │\n",
       "│           ┆           ┆           ┆           ┆   ┆           ┆           ┆ ion of    ┆          │\n",
       "│           ┆           ┆           ┆           ┆   ┆           ┆           ┆ toluene   ┆          │\n",
       "│           ┆           ┆           ┆           ┆   ┆           ┆           ┆ to give   ┆          │\n",
       "│           ┆           ┆           ┆           ┆   ┆           ┆           ┆ pentachlo ┆          │\n",
       "│           ┆           ┆           ┆           ┆   ┆           ┆           ┆ romethylb ┆          │\n",
       "│           ┆           ┆           ┆           ┆   ┆           ┆           ┆ enzene.   ┆          │\n",
       "│           ┆           ┆           ┆           ┆   ┆           ┆           ┆ Hexachlor ┆          │\n",
       "│           ┆           ┆           ┆           ┆   ┆           ┆           ┆ obutadien ┆          │\n",
       "│           ┆           ┆           ┆           ┆   ┆           ┆           ┆ e is used ┆          │\n",
       "│           ┆           ┆           ┆           ┆   ┆           ┆           ┆ exclusive ┆          │\n",
       "│           ┆           ┆           ┆           ┆   ┆           ┆           ┆ ly over   ┆          │\n",
       "│           ┆           ┆           ┆           ┆   ┆           ┆           ┆ carbon    ┆          │\n",
       "│           ┆           ┆           ┆           ┆   ┆           ┆           ┆ tetrachlo ┆          │\n",
       "│           ┆           ┆           ┆           ┆   ┆           ┆           ┆ ride in   ┆          │\n",
       "│           ┆           ┆           ┆           ┆   ┆           ┆           ┆ this      ┆          │\n",
       "│           ┆           ┆           ┆           ┆   ┆           ┆           ┆ reaction  ┆          │\n",
       "│           ┆           ┆           ┆           ┆   ┆           ┆           ┆ because   ┆          │\n",
       "│           ┆           ┆           ┆           ┆   ┆           ┆           ┆ ferric    ┆          │\n",
       "│           ┆           ┆           ┆           ┆   ┆           ┆           ┆ chloride  ┆          │\n",
       "│           ┆           ┆           ┆           ┆   ┆           ┆           ┆ (FeCl3)   ┆          │\n",
       "│           ┆           ┆           ┆           ┆   ┆           ┆           ┆ is        ┆          │\n",
       "│           ┆           ┆           ┆           ┆   ┆           ┆           ┆ insoluble ┆          │\n",
       "│           ┆           ┆           ┆           ┆   ┆           ┆           ┆ in CCl4.  ┆          │\n",
       "│ 2495085   ┆ 895418    ┆ Hexachlor ┆ Applicati ┆ … ┆ 1         ┆ 3         ┆ Hexachlor ┆ 100      │\n",
       "│           ┆           ┆ obutadien ┆ ons       ┆   ┆           ┆           ┆ obutadien ┆          │\n",
       "│           ┆           ┆ e         ┆           ┆   ┆           ┆           ┆ e: Applic ┆          │\n",
       "│           ┆           ┆           ┆           ┆   ┆           ┆           ┆ ations:   ┆          │\n",
       "│           ┆           ┆           ┆           ┆   ┆           ┆           ┆ Given its ┆          │\n",
       "│           ┆           ┆           ┆           ┆   ┆           ┆           ┆ affinity  ┆          │\n",
       "│           ┆           ┆           ┆           ┆   ┆           ┆           ┆ for chlor ┆          │\n",
       "│           ┆           ┆           ┆           ┆   ┆           ┆           ┆ inated    ┆          │\n",
       "│           ┆           ┆           ┆           ┆   ┆           ┆           ┆ compounds ┆          │\n",
       "│           ┆           ┆           ┆           ┆   ┆           ┆           ┆ , liquid  ┆          │\n",
       "│           ┆           ┆           ┆           ┆   ┆           ┆           ┆ HCBD is   ┆          │\n",
       "│           ┆           ┆           ┆           ┆   ┆           ┆           ┆ used as a ┆          │\n",
       "│           ┆           ┆           ┆           ┆   ┆           ┆           ┆ scrubber  ┆          │\n",
       "│           ┆           ┆           ┆           ┆   ┆           ┆           ┆ in order  ┆          │\n",
       "│           ┆           ┆           ┆           ┆   ┆           ┆           ┆ to remove ┆          │\n",
       "│           ┆           ┆           ┆           ┆   ┆           ┆           ┆ chlorine  ┆          │\n",
       "│           ┆           ┆           ┆           ┆   ┆           ┆           ┆ containin ┆          │\n",
       "│           ┆           ┆           ┆           ┆   ┆           ┆           ┆ g contami ┆          │\n",
       "│           ┆           ┆           ┆           ┆   ┆           ┆           ┆ nants     ┆          │\n",
       "│           ┆           ┆           ┆           ┆   ┆           ┆           ┆ from gas  ┆          │\n",
       "│           ┆           ┆           ┆           ┆   ┆           ┆           ┆ streams.  ┆          │\n",
       "│           ┆           ┆           ┆           ┆   ┆           ┆           ┆ An        ┆          │\n",
       "│           ┆           ┆           ┆           ┆   ┆           ┆           ┆ example   ┆          │\n",
       "│           ┆           ┆           ┆           ┆   ┆           ┆           ┆ of this   ┆          │\n",
       "│           ┆           ┆           ┆           ┆   ┆           ┆           ┆ applicati ┆          │\n",
       "│           ┆           ┆           ┆           ┆   ┆           ┆           ┆ on is its ┆          │\n",
       "│           ┆           ┆           ┆           ┆   ┆           ┆           ┆ use in    ┆          │\n",
       "│           ┆           ┆           ┆           ┆   ┆           ┆           ┆ the produ ┆          │\n",
       "│           ┆           ┆           ┆           ┆   ┆           ┆           ┆ ction of  ┆          │\n",
       "│           ┆           ┆           ┆           ┆   ┆           ┆           ┆ Hydrogen  ┆          │\n",
       "│           ┆           ┆           ┆           ┆   ┆           ┆           ┆ chloride  ┆          │\n",
       "│           ┆           ┆           ┆           ┆   ┆           ┆           ┆ as the    ┆          │\n",
       "│           ┆           ┆           ┆           ┆   ┆           ┆           ┆ primary   ┆          │\n",
       "│           ┆           ┆           ┆           ┆   ┆           ┆           ┆ contamina ┆          │\n",
       "│           ┆           ┆           ┆           ┆   ┆           ┆           ┆ nts, espe ┆          │\n",
       "│           ┆           ┆           ┆           ┆   ┆           ┆           ┆ cially    ┆          │\n",
       "│           ┆           ┆           ┆           ┆   ┆           ┆           ┆ Cl2, are  ┆          │\n",
       "│           ┆           ┆           ┆           ┆   ┆           ┆           ┆ more      ┆          │\n",
       "│           ┆           ┆           ┆           ┆   ┆           ┆           ┆ soluble   ┆          │\n",
       "│           ┆           ┆           ┆           ┆   ┆           ┆           ┆ in hexach ┆          │\n",
       "│           ┆           ┆           ┆           ┆   ┆           ┆           ┆ lorobutad ┆          │\n",
       "│           ┆           ┆           ┆           ┆   ┆           ┆           ┆ iene than ┆          │\n",
       "│           ┆           ┆           ┆           ┆   ┆           ┆           ┆ the       ┆          │\n",
       "│           ┆           ┆           ┆           ┆   ┆           ┆           ┆ gaseous   ┆          │\n",
       "│           ┆           ┆           ┆           ┆   ┆           ┆           ┆ hydrogen  ┆          │\n",
       "│           ┆           ┆           ┆           ┆   ┆           ┆           ┆ chloride. ┆          │\n",
       "│           ┆           ┆           ┆           ┆   ┆           ┆           ┆ In IR spe ┆          │\n",
       "│           ┆           ┆           ┆           ┆   ┆           ┆           ┆ ctroscopy ┆          │\n",
       "│           ┆           ┆           ┆           ┆   ┆           ┆           ┆ , hexachl ┆          │\n",
       "│           ┆           ┆           ┆           ┆   ┆           ┆           ┆ orobutadi ┆          │\n",
       "│           ┆           ┆           ┆           ┆   ┆           ┆           ┆ ene is    ┆          │\n",
       "│           ┆           ┆           ┆           ┆   ┆           ┆           ┆ occasiona ┆          │\n",
       "│           ┆           ┆           ┆           ┆   ┆           ┆           ┆ lly used  ┆          │\n",
       "│           ┆           ┆           ┆           ┆   ┆           ┆           ┆ as a      ┆          │\n",
       "│           ┆           ┆           ┆           ┆   ┆           ┆           ┆ Mulling   ┆          │\n",
       "│           ┆           ┆           ┆           ┆   ┆           ┆           ┆ (spectros ┆          │\n",
       "│           ┆           ┆           ┆           ┆   ┆           ┆           ┆ copy) in  ┆          │\n",
       "│           ┆           ┆           ┆           ┆   ┆           ┆           ┆ order to  ┆          │\n",
       "│           ┆           ┆           ┆           ┆   ┆           ┆           ┆ analyze   ┆          │\n",
       "│           ┆           ┆           ┆           ┆   ┆           ┆           ┆ the stret ┆          │\n",
       "│           ┆           ┆           ┆           ┆   ┆           ┆           ┆ ching fre ┆          │\n",
       "│           ┆           ┆           ┆           ┆   ┆           ┆           ┆ quencies  ┆          │\n",
       "│           ┆           ┆           ┆           ┆   ┆           ┆           ┆ of C-H    ┆          │\n",
       "│           ┆           ┆           ┆           ┆   ┆           ┆           ┆ stretchin ┆          │\n",
       "│           ┆           ┆           ┆           ┆   ┆           ┆           ┆ g bands.  ┆          │\n",
       "│           ┆           ┆           ┆           ┆   ┆           ┆           ┆ The usual ┆          │\n",
       "│           ┆           ┆           ┆           ┆   ┆           ┆           ┆ mulling   ┆          │\n",
       "│           ┆           ┆           ┆           ┆   ┆           ┆           ┆ agent,    ┆          │\n",
       "│           ┆           ┆           ┆           ┆   ┆           ┆           ┆ Nujol, is ┆          │\n",
       "│           ┆           ┆           ┆           ┆   ┆           ┆           ┆ a hydroca ┆          │\n",
       "│           ┆           ┆           ┆           ┆   ┆           ┆           ┆ rbon and  ┆          │\n",
       "│           ┆           ┆           ┆           ┆   ┆           ┆           ┆ thus      ┆          │\n",
       "│           ┆           ┆           ┆           ┆   ┆           ┆           ┆ exhibits  ┆          │\n",
       "│           ┆           ┆           ┆           ┆   ┆           ┆           ┆ C-H stret ┆          │\n",
       "│           ┆           ┆           ┆           ┆   ┆           ┆           ┆ ching     ┆          │\n",
       "│           ┆           ┆           ┆           ┆   ┆           ┆           ┆ bands     ┆          │\n",
       "│           ┆           ┆           ┆           ┆   ┆           ┆           ┆ that can  ┆          │\n",
       "│           ┆           ┆           ┆           ┆   ┆           ┆           ┆ interfere ┆          │\n",
       "│           ┆           ┆           ┆           ┆   ┆           ┆           ┆ with the  ┆          │\n",
       "│           ┆           ┆           ┆           ┆   ┆           ┆           ┆ signal    ┆          │\n",
       "│           ┆           ┆           ┆           ┆   ┆           ┆           ┆ from the  ┆          │\n",
       "│           ┆           ┆           ┆           ┆   ┆           ┆           ┆ sample.   ┆          │\n",
       "│ 2495086   ┆ 895418    ┆ Hexachlor ┆ Applicati ┆ … ┆ 1         ┆ 4         ┆ Hexachlor ┆ 90       │\n",
       "│           ┆           ┆ obutadien ┆ ons       ┆   ┆           ┆           ┆ obutadien ┆          │\n",
       "│           ┆           ┆ e         ┆           ┆   ┆           ┆           ┆ e: Applic ┆          │\n",
       "│           ┆           ┆           ┆           ┆   ┆           ┆           ┆ ations:   ┆          │\n",
       "│           ┆           ┆           ┆           ┆   ┆           ┆           ┆ Since     ┆          │\n",
       "│           ┆           ┆           ┆           ┆   ┆           ┆           ┆ HCBD      ┆          │\n",
       "│           ┆           ┆           ┆           ┆   ┆           ┆           ┆ contains  ┆          │\n",
       "│           ┆           ┆           ┆           ┆   ┆           ┆           ┆ no C-H    ┆          │\n",
       "│           ┆           ┆           ┆           ┆   ┆           ┆           ┆ bonds, it ┆          │\n",
       "│           ┆           ┆           ┆           ┆   ┆           ┆           ┆ can be    ┆          │\n",
       "│           ┆           ┆           ┆           ┆   ┆           ┆           ┆ used      ┆          │\n",
       "│           ┆           ┆           ┆           ┆   ┆           ┆           ┆ instead   ┆          │\n",
       "│           ┆           ┆           ┆           ┆   ┆           ┆           ┆ to obtain ┆          │\n",
       "│           ┆           ┆           ┆           ┆   ┆           ┆           ┆ this      ┆          │\n",
       "│           ┆           ┆           ┆           ┆   ┆           ┆           ┆ portion   ┆          │\n",
       "│           ┆           ┆           ┆           ┆   ┆           ┆           ┆ of the IR ┆          │\n",
       "│           ┆           ┆           ┆           ┆   ┆           ┆           ┆ spectrum. ┆          │\n",
       "│           ┆           ┆           ┆           ┆   ┆           ┆           ┆ Unfortuna ┆          │\n",
       "│           ┆           ┆           ┆           ┆   ┆           ┆           ┆ tely,     ┆          │\n",
       "│           ┆           ┆           ┆           ┆   ┆           ┆           ┆ some Orga ┆          │\n",
       "│           ┆           ┆           ┆           ┆   ┆           ┆           ┆ nometalli ┆          │\n",
       "│           ┆           ┆           ┆           ┆   ┆           ┆           ┆ c         ┆          │\n",
       "│           ┆           ┆           ┆           ┆   ┆           ┆           ┆ chemistry ┆          │\n",
       "│           ┆           ┆           ┆           ┆   ┆           ┆           ┆ compounds ┆          │\n",
       "│           ┆           ┆           ┆           ┆   ┆           ┆           ┆ react     ┆          │\n",
       "│           ┆           ┆           ┆           ┆   ┆           ┆           ┆ with      ┆          │\n",
       "│           ┆           ┆           ┆           ┆   ┆           ┆           ┆ HCBD, and ┆          │\n",
       "│           ┆           ┆           ┆           ┆   ┆           ┆           ┆ therefore ┆          │\n",
       "│           ┆           ┆           ┆           ┆   ┆           ┆           ┆ , care    ┆          │\n",
       "│           ┆           ┆           ┆           ┆   ┆           ┆           ┆ must be   ┆          │\n",
       "│           ┆           ┆           ┆           ┆   ┆           ┆           ┆ taken     ┆          │\n",
       "│           ┆           ┆           ┆           ┆   ┆           ┆           ┆ when      ┆          │\n",
       "│           ┆           ┆           ┆           ┆   ┆           ┆           ┆ selecting ┆          │\n",
       "│           ┆           ┆           ┆           ┆   ┆           ┆           ┆ it as a   ┆          │\n",
       "│           ┆           ┆           ┆           ┆   ┆           ┆           ┆ mulling   ┆          │\n",
       "│           ┆           ┆           ┆           ┆   ┆           ┆           ┆ agent so  ┆          │\n",
       "│           ┆           ┆           ┆           ┆   ┆           ┆           ┆ as not to ┆          │\n",
       "│           ┆           ┆           ┆           ┆   ┆           ┆           ┆ destroy   ┆          │\n",
       "│           ┆           ┆           ┆           ┆   ┆           ┆           ┆ the       ┆          │\n",
       "│           ┆           ┆           ┆           ┆   ┆           ┆           ┆ sample.   ┆          │\n",
       "│           ┆           ┆           ┆           ┆   ┆           ┆           ┆ Hexachlor ┆          │\n",
       "│           ┆           ┆           ┆           ┆   ┆           ┆           ┆ obutadien ┆          │\n",
       "│           ┆           ┆           ┆           ┆   ┆           ┆           ┆ e has yet ┆          │\n",
       "│           ┆           ┆           ┆           ┆   ┆           ┆           ┆ another,  ┆          │\n",
       "│           ┆           ┆           ┆           ┆   ┆           ┆           ┆ albeit    ┆          │\n",
       "│           ┆           ┆           ┆           ┆   ┆           ┆           ┆ somewhat  ┆          │\n",
       "│           ┆           ┆           ┆           ┆   ┆           ┆           ┆ dated,    ┆          │\n",
       "│           ┆           ┆           ┆           ┆   ┆           ┆           ┆ applicati ┆          │\n",
       "│           ┆           ┆           ┆           ┆   ┆           ┆           ┆ on as an  ┆          │\n",
       "│           ┆           ┆           ┆           ┆   ┆           ┆           ┆ algicide  ┆          │\n",
       "│           ┆           ┆           ┆           ┆   ┆           ┆           ┆ in indust ┆          │\n",
       "│           ┆           ┆           ┆           ┆   ┆           ┆           ┆ rial      ┆          │\n",
       "│           ┆           ┆           ┆           ┆   ┆           ┆           ┆ cooling   ┆          │\n",
       "│           ┆           ┆           ┆           ┆   ┆           ┆           ┆ systems.  ┆          │\n",
       "│           ┆           ┆           ┆           ┆   ┆           ┆           ┆ Although  ┆          │\n",
       "│           ┆           ┆           ┆           ┆   ┆           ┆           ┆ HCBD is a ┆          │\n",
       "│           ┆           ┆           ┆           ┆   ┆           ┆           ┆ potent    ┆          │\n",
       "│           ┆           ┆           ┆           ┆   ┆           ┆           ┆ herbicide ┆          │\n",
       "│           ┆           ┆           ┆           ┆   ┆           ┆           ┆ , in      ┆          │\n",
       "│           ┆           ┆           ┆           ┆   ┆           ┆           ┆ recent    ┆          │\n",
       "│           ┆           ┆           ┆           ┆   ┆           ┆           ┆ years,    ┆          │\n",
       "│           ┆           ┆           ┆           ┆   ┆           ┆           ┆ this part ┆          │\n",
       "│           ┆           ┆           ┆           ┆   ┆           ┆           ┆ icular    ┆          │\n",
       "│           ┆           ┆           ┆           ┆   ┆           ┆           ┆ applicati ┆          │\n",
       "│           ┆           ┆           ┆           ┆   ┆           ┆           ┆ on has    ┆          │\n",
       "│           ┆           ┆           ┆           ┆   ┆           ┆           ┆ been disc ┆          │\n",
       "│           ┆           ┆           ┆           ┆   ┆           ┆           ┆ ouraged   ┆          │\n",
       "│           ┆           ┆           ┆           ┆   ┆           ┆           ┆ due to    ┆          │\n",
       "│           ┆           ┆           ┆           ┆   ┆           ┆           ┆ the high  ┆          │\n",
       "│           ┆           ┆           ┆           ┆   ┆           ┆           ┆ toxicity  ┆          │\n",
       "│           ┆           ┆           ┆           ┆   ┆           ┆           ┆ of the    ┆          │\n",
       "│           ┆           ┆           ┆           ┆   ┆           ┆           ┆ compound  ┆          │\n",
       "│           ┆           ┆           ┆           ┆   ┆           ┆           ┆ at low    ┆          │\n",
       "│           ┆           ┆           ┆           ┆   ┆           ┆           ┆ concentra ┆          │\n",
       "│           ┆           ┆           ┆           ┆   ┆           ┆           ┆ tions.    ┆          │\n",
       "└───────────┴───────────┴───────────┴───────────┴───┴───────────┴───────────┴───────────┴──────────┘"
      ]
     },
     "execution_count": 29,
     "metadata": {},
     "output_type": "execute_result"
    }
   ],
   "source": [
    "wiki_passages.filter(pl.col('title').str.contains('chloro'))"
   ]
  },
  {
   "cell_type": "code",
   "execution_count": 30,
   "id": "0650cbc5-54c8-4ffe-8855-4d32055a0282",
   "metadata": {
    "tags": []
   },
   "outputs": [
    {
     "ename": "NameError",
     "evalue": "name 'test_osmu_pred' is not defined",
     "output_type": "error",
     "traceback": [
      "\u001b[0;31m---------------------------------------------------------------------------\u001b[0m",
      "\u001b[0;31mNameError\u001b[0m                                 Traceback (most recent call last)",
      "Cell \u001b[0;32mIn[30], line 1\u001b[0m\n\u001b[0;32m----> 1\u001b[0m test_osmu_pred[\u001b[38;5;241m1\u001b[39m]\n",
      "\u001b[0;31mNameError\u001b[0m: name 'test_osmu_pred' is not defined"
     ]
    }
   ],
   "source": [
    "test_osmu_pred[1]"
   ]
  },
  {
   "cell_type": "code",
   "execution_count": null,
   "id": "04031842-bdfa-458e-93a7-ce6823c2faa4",
   "metadata": {},
   "outputs": [],
   "source": [
    "# test_output = pl.DataFrame({'prediction':test_letters}).with_row_count('id')\n",
    "# test_output.write_csv('./data/submission.csv')"
   ]
  },
  {
   "cell_type": "markdown",
   "id": "cf74332a-ae4d-4c87-8020-781392de0ac5",
   "metadata": {},
   "source": [
    "## Check Test predictions"
   ]
  },
  {
   "cell_type": "code",
   "execution_count": null,
   "id": "37272c14-8671-4536-b012-272b24dc6385",
   "metadata": {
    "tags": []
   },
   "outputs": [],
   "source": [
    "check_test = test_sets_ctx['test'].with_columns(all_prediction=test_letters, prediction=test_letters.str.slice(0,1))"
   ]
  },
  {
   "cell_type": "code",
   "execution_count": null,
   "id": "ab9ff16a-7a96-4578-ac81-4187cfc5c1cc",
   "metadata": {
    "tags": []
   },
   "outputs": [],
   "source": [
    "wrong = check_test.filter(pl.col('answer') != pl.col('prediction'))\n",
    "wrong = wrong.drop(['wiki_ctx_1', 'wiki_ctx_2'])\n",
    "wrong[:4]"
   ]
  },
  {
   "cell_type": "markdown",
   "id": "0d8dad1b-d65d-4bea-8031-82348eb22379",
   "metadata": {},
   "source": [
    "### Check Test Log\n",
    "- The passages are often very similar or even contain duplications.\n",
    "- Sometimes information from the answers could help make the passages more relevant.\n",
    "\n",
    "\n",
    "0. Dynamic scaling: Incorrect context, picked answeres with incorrect negations before the correct answer\n",
    "1. Triskeles: Incorrect context, no connection of context and question apparent\n",
    "2. Regularization in terms of renomralization (physics): The context is useful, longer context might have been helpful. The answers differ in subtleties that the model does not get.\n",
    "3. Gauss law, electic flux: The model seems to miss some subtle differences. The context is missing the formula.\n",
    "4. Blocking tempereature of a spin valve: Context describes spin valves, but not the blocking temperature."
   ]
  },
  {
   "cell_type": "code",
   "execution_count": null,
   "id": "05d5a88e-13fa-4211-a61e-2c0ddc3be99e",
   "metadata": {},
   "outputs": [],
   "source": []
  },
  {
   "cell_type": "code",
   "execution_count": null,
   "id": "bfc7c28f-dc9b-4086-b010-f349abf49768",
   "metadata": {},
   "outputs": [],
   "source": []
  },
  {
   "cell_type": "code",
   "execution_count": null,
   "id": "c7963ea1-a0b9-48e8-bee6-4ac4cbec647a",
   "metadata": {},
   "outputs": [],
   "source": []
  },
  {
   "cell_type": "code",
   "execution_count": null,
   "id": "1cdc68d9-72cc-4cf9-8fb8-cb81c5b207b4",
   "metadata": {},
   "outputs": [],
   "source": []
  },
  {
   "cell_type": "code",
   "execution_count": null,
   "id": "f36408fa-f108-48f1-a0ed-a30f7074e85e",
   "metadata": {},
   "outputs": [],
   "source": []
  },
  {
   "cell_type": "code",
   "execution_count": null,
   "id": "d9655ac5-496f-453f-a141-0148673136a7",
   "metadata": {},
   "outputs": [],
   "source": []
  }
 ],
 "metadata": {
  "kernelspec": {
   "display_name": "Python [conda env:pytorch]",
   "language": "python",
   "name": "conda-env-pytorch-py"
  },
  "language_info": {
   "codemirror_mode": {
    "name": "ipython",
    "version": 3
   },
   "file_extension": ".py",
   "mimetype": "text/x-python",
   "name": "python",
   "nbconvert_exporter": "python",
   "pygments_lexer": "ipython3",
   "version": "3.11.5"
  }
 },
 "nbformat": 4,
 "nbformat_minor": 5
}
