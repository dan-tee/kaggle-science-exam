{
 "cells": [
  {
   "cell_type": "markdown",
   "id": "dbb2b24a-bb13-4e7d-902f-b2e0a2cf5821",
   "metadata": {},
   "source": [
    "# Check Test Predictions"
   ]
  },
  {
   "cell_type": "markdown",
   "id": "fb2cee2f-ee20-4458-97d8-d2ddbfbe2d9e",
   "metadata": {
    "tags": []
   },
   "source": [
    "## Ideas for Improvements\n",
    "\n",
    "### Prompting with Deberta v3\n",
    "- Can a more explicit prompt help the model?\n",
    "\n",
    "### First fine-tune the last layer, then the full model\n",
    "\n",
    "### Larger Models\n",
    "- Try out Llama instruct and Mistral, needs new data loader code.\n",
    "\n",
    "#### Inference\n",
    "- Inference can be run layer by layer: https://www.kaggle.com/competitions/kaggle-llm-science-exam/discussion/440620\n",
    "\n",
    "#### Training\n",
    "- Freeze the lower layers of the model\n",
    "    - Can we cycle through training the upper and the lower half of a model?"
   ]
  },
  {
   "cell_type": "code",
   "execution_count": 2,
   "id": "b2869e14-7707-44e7-b955-12c6d4e91c96",
   "metadata": {
    "tags": []
   },
   "outputs": [],
   "source": [
    "import polars as pl\n",
    "import numpy as np\n",
    "from pathlib import Path"
   ]
  },
  {
   "cell_type": "code",
   "execution_count": 3,
   "id": "1efa482e-569f-476a-8769-7c3c0f46ca3a",
   "metadata": {
    "tags": []
   },
   "outputs": [
    {
     "name": "stdout",
     "output_type": "stream",
     "text": [
      "Loaded 200 prediction for test_name test\n",
      "Loaded 500 prediction for test_name daniel\n",
      "Loaded 500 prediction for test_name osmu_sci_6k\n",
      "Loaded 500 prediction for test_name mgoksu\n"
     ]
    }
   ],
   "source": [
    "run_name = 'deberta_v2_xlarge'\n",
    "folder_path = Path(f'./data/output/{run_name}')\n",
    "\n",
    "test_preds = {}\n",
    "for test_name in ['test', 'daniel', 'osmu_sci_6k', 'mgoksu']:\n",
    "    file_path = folder_path/f'{test_name}.parquet'\n",
    "    test_preds[test_name] = pl.read_parquet(file_path)\n",
    "    print(f'Loaded {test_preds[test_name].shape[0]:,} prediction for test_name {test_name}')"
   ]
  },
  {
   "cell_type": "code",
   "execution_count": 4,
   "id": "3f6525b9-e86c-4889-812c-9e7936310429",
   "metadata": {
    "tags": []
   },
   "outputs": [
    {
     "data": {
      "text/plain": [
       "array(['question', 'A', 'C', 'B', 'D', 'E', 'answer', 'passage_id_A_1',\n",
       "       'answer_passage_score_A_1', 'titled_passage_A_1', 'passage_id_A_2',\n",
       "       'answer_passage_score_A_2', 'titled_passage_A_2', 'passage_id_B_1',\n",
       "       'answer_passage_score_B_1', 'titled_passage_B_1', 'passage_id_B_2',\n",
       "       'answer_passage_score_B_2', 'titled_passage_B_2', 'passage_id_C_1',\n",
       "       'answer_passage_score_C_1', 'titled_passage_C_1', 'passage_id_C_2',\n",
       "       'answer_passage_score_C_2', 'titled_passage_C_2', 'passage_id_D_1',\n",
       "       'answer_passage_score_D_1', 'titled_passage_D_1', 'passage_id_D_2',\n",
       "       'answer_passage_score_D_2', 'titled_passage_D_2', 'passage_id_E_1',\n",
       "       'answer_passage_score_E_1', 'titled_passage_E_1', 'passage_id_E_2',\n",
       "       'answer_passage_score_E_2', 'titled_passage_E_2',\n",
       "       'best_answer_match', 'second_answer_context', 'answer_score',\n",
       "       'best_answer_letter', 'best_answer_id', 'second_answer_id',\n",
       "       'question_ctx_id', 'titled_passage', 'all_prediction',\n",
       "       'prediction'], dtype='<U24')"
      ]
     },
     "execution_count": 4,
     "metadata": {},
     "output_type": "execute_result"
    }
   ],
   "source": [
    "np.array(test_preds['osmu_sci_6k'].columns)"
   ]
  },
  {
   "cell_type": "markdown",
   "id": "c3ac6eb1-cf7c-47cb-aa6f-9860f3262abb",
   "metadata": {},
   "source": [
    "## Idea Log\n",
    "- Easy: present question and answer together for answer context matching.\n",
    "- Hard: use LLM to highlight the differences between the answers.\n",
    "\n",
    "## Test Check Log\n",
    "1. The 3 answers picked are all true, but 2 are more specific and the top one is names first in the context.\n",
    "2. Picked a true answer that is less specific.\n",
    "3. IVCD: Context is missing specific information, questions ctx is the same as answer ctx 2.\n",
    "4. Partial fractions in complex analysis: Parsing problem frac1 needs to be replaced with 1/  \n",
    "\n",
    "\n",
    "## Osmu Check Log\n",
    "1. Lead astray by answer match, the question passage had the right info. The answers are short and don't contain the context of the question.\n",
    "2. Selected the other true but less specific answer.\n",
    "3. Selected the other true but less specific answer.\n"
   ]
  },
  {
   "cell_type": "code",
   "execution_count": 5,
   "id": "d0e49bd4-53c3-4dca-869b-6cdd51ac3b99",
   "metadata": {
    "tags": []
   },
   "outputs": [],
   "source": [
    "pl.Config(fmt_str_lengths=2000)\n",
    "comp_cols = ['question', 'A', 'B', 'C', 'D', 'E', 'answer', 'all_prediction', \n",
    "             'best_answer_letter', 'best_answer_match', 'second_answer_context', 'titled_passage']"
   ]
  },
  {
   "cell_type": "code",
   "execution_count": 9,
   "id": "4880de01-4c7b-44be-8e68-1a1199d901e4",
   "metadata": {
    "tags": []
   },
   "outputs": [
    {
     "data": {
      "text/plain": [
       "(10, 12)"
      ]
     },
     "execution_count": 9,
     "metadata": {},
     "output_type": "execute_result"
    }
   ],
   "source": [
    "test_preds['test'].filter(pl.col('best_answer_match') == pl.col('titled_passage'))[comp_cols].shape"
   ]
  },
  {
   "cell_type": "code",
   "execution_count": 1,
   "id": "98e3c6e5-caac-4dfb-adaf-a3f8142075a4",
   "metadata": {
    "tags": []
   },
   "outputs": [],
   "source": [
    "#test_preds['osmu_sci_6k'].filter(pl.col('answer') != pl.col('prediction'))[comp_cols]"
   ]
  },
  {
   "cell_type": "code",
   "execution_count": null,
   "id": "1b759d84-5009-4608-ad7e-7a6c4be3985f",
   "metadata": {},
   "outputs": [],
   "source": []
  },
  {
   "cell_type": "code",
   "execution_count": 8,
   "id": "1ab92a23-8da5-4699-9ce5-18f0dc4ecdeb",
   "metadata": {
    "tags": []
   },
   "outputs": [],
   "source": [
    "wiki_passages = pl.read_parquet('./data/wiki_with_category_v_4.parquet')"
   ]
  },
  {
   "cell_type": "code",
   "execution_count": 11,
   "id": "6fee6c54-4987-429b-8b78-aaee4ed28060",
   "metadata": {
    "tags": []
   },
   "outputs": [
    {
     "data": {
      "text/html": [
       "<div><style>\n",
       ".dataframe > thead > tr > th,\n",
       ".dataframe > tbody > tr > td {\n",
       "  text-align: right;\n",
       "  white-space: pre-wrap;\n",
       "}\n",
       "</style>\n",
       "<small>shape: (3, 2)</small><table border=\"1\" class=\"dataframe\"><thead><tr><th>title</th><th>section_title</th></tr><tr><td>str</td><td>str</td></tr></thead><tbody><tr><td>&quot;Intraventricular block&quot;</td><td>&quot;Summary&quot;</td></tr><tr><td>&quot;Intraventricular block&quot;</td><td>&quot;Types&quot;</td></tr><tr><td>&quot;Intraventricular block&quot;</td><td>&quot;Intraventricular conduction delay&quot;</td></tr></tbody></table></div>"
      ],
      "text/plain": [
       "shape: (3, 2)\n",
       "┌────────────────────────┬───────────────────────────────────┐\n",
       "│ title                  ┆ section_title                     │\n",
       "│ ---                    ┆ ---                               │\n",
       "│ str                    ┆ str                               │\n",
       "╞════════════════════════╪═══════════════════════════════════╡\n",
       "│ Intraventricular block ┆ Summary                           │\n",
       "│ Intraventricular block ┆ Types                             │\n",
       "│ Intraventricular block ┆ Intraventricular conduction delay │\n",
       "└────────────────────────┴───────────────────────────────────┘"
      ]
     },
     "execution_count": 11,
     "metadata": {},
     "output_type": "execute_result"
    }
   ],
   "source": [
    "wiki_passages.filter(pl.col('title') == 'Intraventricular block')[['title', 'section_title']]"
   ]
  },
  {
   "cell_type": "code",
   "execution_count": null,
   "id": "9b7993c7-35c3-4abb-8f33-693f09b623ac",
   "metadata": {},
   "outputs": [],
   "source": []
  }
 ],
 "metadata": {
  "kernelspec": {
   "display_name": "Python [conda env:pytorch]",
   "language": "python",
   "name": "conda-env-pytorch-py"
  },
  "language_info": {
   "codemirror_mode": {
    "name": "ipython",
    "version": 3
   },
   "file_extension": ".py",
   "mimetype": "text/x-python",
   "name": "python",
   "nbconvert_exporter": "python",
   "pygments_lexer": "ipython3",
   "version": "3.11.5"
  }
 },
 "nbformat": 4,
 "nbformat_minor": 5
}
