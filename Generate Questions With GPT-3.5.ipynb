{
 "cells": [
  {
   "cell_type": "markdown",
   "id": "f37de01f-d25c-481a-8835-e941352d1e9c",
   "metadata": {},
   "source": [
    "# Generate Questions With GPT 3.5"
   ]
  },
  {
   "cell_type": "code",
   "execution_count": 439,
   "id": "3ac31953-c554-46f9-93fe-52282abc96df",
   "metadata": {
    "tags": []
   },
   "outputs": [],
   "source": [
    "import os\n",
    "import json\n",
    "import polars as pl\n",
    "import pandas as pd\n",
    "import numpy as np\n",
    "import matplotlib.pyplot as plt\n",
    "import seaborn as sns\n",
    "\n",
    "import openai"
   ]
  },
  {
   "cell_type": "markdown",
   "id": "c15bc4ec-5d9b-4e39-b63c-913ef549b0cb",
   "metadata": {
    "tags": []
   },
   "source": [
    "## Load the 200 Kaggle examples"
   ]
  },
  {
   "cell_type": "code",
   "execution_count": 440,
   "id": "21392572-6d13-4ea8-b56f-573a4c9e4aad",
   "metadata": {
    "tags": []
   },
   "outputs": [
    {
     "name": "stdout",
     "output_type": "stream",
     "text": [
      "200\n"
     ]
    },
    {
     "data": {
      "text/html": [
       "<div><style>\n",
       ".dataframe > thead > tr > th,\n",
       ".dataframe > tbody > tr > td {\n",
       "  text-align: right;\n",
       "}\n",
       "</style>\n",
       "<small>shape: (3, 7)</small><table border=\"1\" class=\"dataframe\"><thead><tr><th>prompt</th><th>A</th><th>B</th><th>C</th><th>D</th><th>E</th><th>answer</th></tr><tr><td>str</td><td>str</td><td>str</td><td>str</td><td>str</td><td>str</td><td>str</td></tr></thead><tbody><tr><td>&quot;Which of the f…</td><td>&quot;MOND is a theo…</td><td>&quot;MOND is a theo…</td><td>&quot;MOND is a theo…</td><td>&quot;MOND is a theo…</td><td>&quot;MOND is a theo…</td><td>&quot;D&quot;</td></tr><tr><td>&quot;Which of the f…</td><td>&quot;Dynamic scalin…</td><td>&quot;Dynamic scalin…</td><td>&quot;Dynamic scalin…</td><td>&quot;Dynamic scalin…</td><td>&quot;Dynamic scalin…</td><td>&quot;A&quot;</td></tr><tr><td>&quot;Which of the f…</td><td>&quot;The triskeles …</td><td>&quot;The triskeles …</td><td>&quot;The triskeles …</td><td>&quot;The triskeles …</td><td>&quot;The triskeles …</td><td>&quot;A&quot;</td></tr></tbody></table></div>"
      ],
      "text/plain": [
       "shape: (3, 7)\n",
       "┌──────────────┬──────────────┬──────────────┬──────────────┬──────────────┬──────────────┬────────┐\n",
       "│ prompt       ┆ A            ┆ B            ┆ C            ┆ D            ┆ E            ┆ answer │\n",
       "│ ---          ┆ ---          ┆ ---          ┆ ---          ┆ ---          ┆ ---          ┆ ---    │\n",
       "│ str          ┆ str          ┆ str          ┆ str          ┆ str          ┆ str          ┆ str    │\n",
       "╞══════════════╪══════════════╪══════════════╪══════════════╪══════════════╪══════════════╪════════╡\n",
       "│ Which of the ┆ MOND is a    ┆ MOND is a    ┆ MOND is a    ┆ MOND is a    ┆ MOND is a    ┆ D      │\n",
       "│ following    ┆ theory that  ┆ theory that  ┆ theory that  ┆ theory that  ┆ theory that  ┆        │\n",
       "│ statement…   ┆ reduces th…  ┆ increases …  ┆ explains t…  ┆ reduces th…  ┆ eliminates…  ┆        │\n",
       "│ Which of the ┆ Dynamic      ┆ Dynamic      ┆ Dynamic      ┆ Dynamic      ┆ Dynamic      ┆ A      │\n",
       "│ following is ┆ scaling      ┆ scaling      ┆ scaling      ┆ scaling      ┆ scaling      ┆        │\n",
       "│ an acc…      ┆ refers to    ┆ refers to    ┆ refers to    ┆ refers to    ┆ refers to    ┆        │\n",
       "│              ┆ the ev…      ┆ the no…      ┆ the ev…      ┆ the no…      ┆ the ev…      ┆        │\n",
       "│ Which of the ┆ The          ┆ The          ┆ The          ┆ The          ┆ The          ┆ A      │\n",
       "│ following    ┆ triskeles    ┆ triskeles    ┆ triskeles    ┆ triskeles    ┆ triskeles    ┆        │\n",
       "│ statement…   ┆ symbol was   ┆ symbol is a  ┆ symbol is a  ┆ symbol       ┆ symbol is a  ┆        │\n",
       "│              ┆ reconst…     ┆ repres…      ┆ repres…      ┆ represents … ┆ repres…      ┆        │\n",
       "└──────────────┴──────────────┴──────────────┴──────────────┴──────────────┴──────────────┴────────┘"
      ]
     },
     "execution_count": 440,
     "metadata": {},
     "output_type": "execute_result"
    }
   ],
   "source": [
    "df_test = pl.read_csv('data/train.csv')\n",
    "df_test = df_test.drop(columns=\"id\")\n",
    "print(f'{df_test.shape[0]:,}')\n",
    "df_test[:3]"
   ]
  },
  {
   "cell_type": "code",
   "execution_count": 463,
   "id": "0e3c7321-68da-4850-9192-76e011ac7f5f",
   "metadata": {
    "tags": []
   },
   "outputs": [
    {
     "data": {
      "text/html": [
       "<div><style>\n",
       ".dataframe > thead > tr > th,\n",
       ".dataframe > tbody > tr > td {\n",
       "  text-align: right;\n",
       "}\n",
       "</style>\n",
       "<small>shape: (4, 5)</small><table border=\"1\" class=\"dataframe\"><thead><tr><th>prompt</th><th>answer</th><th>option</th><th>value</th><th>answer_length</th></tr><tr><td>str</td><td>str</td><td>str</td><td>str</td><td>u32</td></tr></thead><tbody><tr><td>&quot;Which of the f…</td><td>&quot;D&quot;</td><td>&quot;A&quot;</td><td>&quot;MOND is a theo…</td><td>164</td></tr><tr><td>&quot;Which of the f…</td><td>&quot;A&quot;</td><td>&quot;A&quot;</td><td>&quot;Dynamic scalin…</td><td>285</td></tr><tr><td>&quot;Which of the f…</td><td>&quot;A&quot;</td><td>&quot;A&quot;</td><td>&quot;The triskeles …</td><td>323</td></tr><tr><td>&quot;What is the si…</td><td>&quot;C&quot;</td><td>&quot;A&quot;</td><td>&quot;Regularizing t…</td><td>221</td></tr></tbody></table></div>"
      ],
      "text/plain": [
       "shape: (4, 5)\n",
       "┌────────────────────────────────┬────────┬────────┬───────────────────────────────┬───────────────┐\n",
       "│ prompt                         ┆ answer ┆ option ┆ value                         ┆ answer_length │\n",
       "│ ---                            ┆ ---    ┆ ---    ┆ ---                           ┆ ---           │\n",
       "│ str                            ┆ str    ┆ str    ┆ str                           ┆ u32           │\n",
       "╞════════════════════════════════╪════════╪════════╪═══════════════════════════════╪═══════════════╡\n",
       "│ Which of the following         ┆ D      ┆ A      ┆ MOND is a theory that reduces ┆ 164           │\n",
       "│ statement…                     ┆        ┆        ┆ th…                           ┆               │\n",
       "│ Which of the following is an   ┆ A      ┆ A      ┆ Dynamic scaling refers to the ┆ 285           │\n",
       "│ acc…                           ┆        ┆        ┆ ev…                           ┆               │\n",
       "│ Which of the following         ┆ A      ┆ A      ┆ The triskeles symbol was      ┆ 323           │\n",
       "│ statement…                     ┆        ┆        ┆ reconst…                      ┆               │\n",
       "│ What is the significance of    ┆ C      ┆ A      ┆ Regularizing the mass-energy  ┆ 221           │\n",
       "│ regu…                          ┆        ┆        ┆ of …                          ┆               │\n",
       "└────────────────────────────────┴────────┴────────┴───────────────────────────────┴───────────────┘"
      ]
     },
     "execution_count": 463,
     "metadata": {},
     "output_type": "execute_result"
    }
   ],
   "source": [
    "options = ['A', 'B', 'C', 'D', 'E']\n",
    "long_test = df_test.melt(['prompt', 'answer'], options, variable_name='option')\n",
    "long_test = long_test.with_columns(long_test['value'].str.lengths().alias('answer_length'))\n",
    "long_test[:4]"
   ]
  },
  {
   "cell_type": "code",
   "execution_count": 442,
   "id": "5b6de22e-aa7c-49fc-a728-31a5812e007e",
   "metadata": {
    "tags": []
   },
   "outputs": [
    {
     "data": {
      "image/png": "[encoded data removed]",
      "text/plain": [
       "<Figure size 600x200 with 1 Axes>"
      ]
     },
     "metadata": {},
     "output_type": "display_data"
    }
   ],
   "source": [
    "plt.figure(figsize=(6,2))\n",
    "sns.histplot(long_test, x='answer_length');"
   ]
  },
  {
   "cell_type": "markdown",
   "id": "bd3b6177-01a4-4781-87b1-04d860445d68",
   "metadata": {},
   "source": [
    "## Load the Wikipedia data"
   ]
  },
  {
   "cell_type": "code",
   "execution_count": 445,
   "id": "d9000dad-789b-4d8c-ae5f-d157483672af",
   "metadata": {
    "tags": []
   },
   "outputs": [
    {
     "name": "stdout",
     "output_type": "stream",
     "text": [
      "153,750\n"
     ]
    },
    {
     "data": {
      "text/plain": [
       "['title',\n",
       " 'category',\n",
       " 'page_id',\n",
       " 'parent_id',\n",
       " 'revision_id',\n",
       " 'revision_ts',\n",
       " 'short_description',\n",
       " 'sha1',\n",
       " 'page_bytes',\n",
       " 'section_index',\n",
       " 'section_title',\n",
       " 'section_level',\n",
       " 'section_text']"
      ]
     },
     "execution_count": 445,
     "metadata": {},
     "output_type": "execute_result"
    }
   ],
   "source": [
    "pages = pl.read_parquet('./data/wiki_with_category.parquet')\n",
    "print(f'{pages.shape[0]:,}')\n",
    "pages.columns"
   ]
  },
  {
   "cell_type": "code",
   "execution_count": 446,
   "id": "d7f9bb27-524f-450f-981b-f9526b28f926",
   "metadata": {
    "tags": []
   },
   "outputs": [
    {
     "data": {
      "image/png": "[encoded data removed]",
      "text/plain": [
       "<Figure size 600x200 with 1 Axes>"
      ]
     },
     "metadata": {},
     "output_type": "display_data"
    },
    {
     "name": "stdout",
     "output_type": "stream",
     "text": [
      "0.05: 167\n",
      "0.25: 534\n",
      "0.50: 1,046\n",
      "0.66: 1,554\n",
      "0.75: 1,999\n",
      "0.90: 3,676\n",
      "0.95: 5,410\n",
      "0.99: 11,647\n"
     ]
    }
   ],
   "source": [
    "pages = pages.with_columns(pages['section_text'].str.lengths().alias('length'))\n",
    "hist_output = pages['length'].hist(bins=range(0, 10000, 100))\n",
    "bin_edges = hist_output['break_point']\n",
    "counts = hist_output['length_count']\n",
    "\n",
    "plt.subplots(figsize=(6,2))\n",
    "plt.bar(bin_edges, counts, width=(bin_edges[1] - bin_edges[0]))\n",
    "plt.show()\n",
    "\n",
    "for p in [0.05, 0.25, 0.5, 0.66, 0.75, 0.9, 0.95, 0.99]:\n",
    "    print(f\"{p:.2f}: {pages['length'].quantile(p):,.0f}\")"
   ]
  },
  {
   "cell_type": "code",
   "execution_count": 447,
   "id": "b2c06fa3-6222-4f4d-bc95-c5edea1e5ccd",
   "metadata": {
    "tags": []
   },
   "outputs": [],
   "source": [
    "summaries = pages.filter(pl.col('section_title') == 'Summary')\n",
    "summaries = summaries[['page_id', 'section_text']]\n",
    "summaries = summaries.rename({'section_text':'summary'})\n",
    "non_summaries = pages.filter(pl.col('section_title') != 'Summary')\n",
    "with_sum = non_summaries.join(summaries, how='left', on='page_id')"
   ]
  },
  {
   "cell_type": "code",
   "execution_count": 477,
   "id": "4e535733-0680-476a-860b-21c1a7cc0536",
   "metadata": {
    "tags": []
   },
   "outputs": [
    {
     "data": {
      "text/plain": [
       "['title', 'section_title', 'length', 'summary', 'section_text']"
      ]
     },
     "execution_count": 477,
     "metadata": {},
     "output_type": "execute_result"
    }
   ],
   "source": [
    "sample_size = 100\n",
    "sample = with_sum[['title', 'section_title', 'length', 'summary', 'section_text']].sample(sample_size)\n",
    "sample = sample.with_columns(pl.when(cs.string().str.lengths() >= 4000)\\\n",
    "                               .then('[*] ' + cs.string().str.slice(0, 4000))\\\n",
    "                               .otherwise(cs.string())\\\n",
    "                               .keep_name())\n",
    "#with pl.Config(fmt_str_lengths=5000):\n",
    "#    display(sample[:3])\n",
    "sample.columns"
   ]
  },
  {
   "cell_type": "code",
   "execution_count": 478,
   "id": "075688b1-6cac-45db-9edf-4020386af3b7",
   "metadata": {
    "tags": []
   },
   "outputs": [],
   "source": [
    "sample_questions = df_test.sample(sample_size)\n",
    "all_new_rows = []\n",
    "for row in sample_questions.iter_rows(named=True):\n",
    "    incorrect = []\n",
    "    for letter in options:\n",
    "        if letter == row['answer']:\n",
    "            correct = row[letter]\n",
    "        else:\n",
    "            incorrect.append(row[letter])\n",
    "    \n",
    "    new_row = {'prompt': row['prompt'], 'correct': correct}\n",
    "    for i in range(4):\n",
    "        new_row[f'incorrect_{i+1}'] = incorrect[i]\n",
    "    all_new_rows.append(new_row)\n",
    "\n",
    "    \n",
    "sample_questions = pl.DataFrame(all_new_rows)\n",
    "# with pl.Config(fmt_str_lengths=5000):\n",
    "#     display(sample_questions)"
   ]
  },
  {
   "cell_type": "code",
   "execution_count": 583,
   "id": "d6fe549f-e781-4f07-b306-d71a58fcaf43",
   "metadata": {
    "tags": []
   },
   "outputs": [],
   "source": [
    "def wiki_section_to_prompt(section_row, question_row):\n",
    "    return f'''\n",
    "You are a psychometrics researcher designing a test to check the reasoning abilities of graduate students in STEM fields. \n",
    "Create a difficult to answer multiple choice question from the Wikipedia snippet below, with 6 options which are \n",
    "concise, complex and ideally more than 100 to 300 charachters long. \n",
    "\n",
    "Provide only one correct option. The options should include only one correct statement and the other statements should be incorrect.\n",
    "A partial response that is missing an aspect is not incorrect. All but one statement need to incluse a false assertion. \n",
    "\n",
    "Make sure at least one incorrect answers is longer than the correct answer. The answer can't be the option with the most charachters.\n",
    "\n",
    "Example:\n",
    "{{\n",
    "    \"question\": \"{question_row['prompt']}\",\n",
    "    \"correct\": \"{question_row['correct']}\",\n",
    "    \"incorrect_1\": \"{question_row['incorrect_1']}\",\n",
    "    \"incorrect_2\": \"{question_row['incorrect_2']}\",\n",
    "    \"incorrect_3\": \"{question_row['incorrect_3']}\",\n",
    "    \"incorrect_4\": \"{question_row['incorrect_4']}\",\n",
    "    \"incorrect_5\": \"{question_row['incorrect_4']}\"\n",
    "}}\n",
    "\n",
    "Use the following section of an Wikipedia article to inspire the question. In case the section is too specific, below there is also the summary of the page. \n",
    "\n",
    "Section: {section_row['title']}\n",
    "{section_row['summary']}\n",
    "\n",
    "Summary of: {section_row['section_title']}\n",
    "{section_row['section_text']}\n",
    "'''"
   ]
  },
  {
   "cell_type": "code",
   "execution_count": 602,
   "id": "cd68fd56-0f30-4105-816e-ad2a739ec27d",
   "metadata": {
    "tags": []
   },
   "outputs": [],
   "source": [
    "mc6_schema = {\n",
    "  \"name\": \"dummy_function\",\n",
    "  \"parameters\": {\n",
    "      \"description\": \"A multiple choice question with 6 possible answers.\",\n",
    "      \"type\": \"object\",\n",
    "      \"properties\": {\n",
    "        \"question\": {},\n",
    "        \"correct\": {},\n",
    "        \"incorrect_1\": {},\n",
    "        \"incorrect_2\": {},\n",
    "        \"incorrect_3\": {},\n",
    "        \"incorrect_4\": {},\n",
    "        \"incorrect_5\": {}\n",
    "      },\n",
    "      \"required\": [\"question\", \"correct\",  \"incorrect_1\", \"incorrect_2\", \"incorrect_3\", \"incorrect_4\", \"incorrect_5\"]\n",
    "    }\n",
    "}\n",
    "\n",
    "mc5_schema = {\n",
    "  \"name\": \"dummy_function\",\n",
    "  \"parameters\": {\n",
    "      \"type\": \"object\",\n",
    "      \"properties\": {\n",
    "        \"question\": {},\n",
    "        \"assess_correct\": {},\n",
    "        \"assess_incorrect_1\": {},\n",
    "        \"assess_incorrect_2\": {},\n",
    "        \"assess_incorrect_3\": {},\n",
    "        \"assess_incorrect_4\": {},\n",
    "        \"assess_incorrect_5\": {},\n",
    "        \"new_correct\": {},\n",
    "        \"new_incorrect_1\": {},\n",
    "        \"new_incorrect_2\": {},\n",
    "        \"new_incorrect_3\": {},\n",
    "        \"new_incorrect_4\": {}\n",
    "      },\n",
    "      \"required\": [\"question\", \"assess_correct\", \"assess_incorrect_1\", \"assess_incorrect_2\", \"assess_incorrect_3\",\n",
    "                   \"assess_incorrect_4\", \"assess_incorrect_5\", \"new_correct\", \"incorrect_1\", \"incorrect_2\", \"incorrect_3\", \"incorrect_4\"]\n",
    "    }\n",
    "}"
   ]
  },
  {
   "cell_type": "code",
   "execution_count": 521,
   "id": "0073ba72-131d-47ea-9a19-404a320cfc51",
   "metadata": {},
   "outputs": [],
   "source": [
    "openai.api_key = os.environ['OPENAI_API_KEY']\n",
    "def ask_chat_gpt(prompt, schema):\n",
    "    response = openai.ChatCompletion.create(\n",
    "        model=\"gpt-3.5-turbo-0613\",\n",
    "        messages=[\n",
    "            {\"role\": \"user\", \"content\": f\"{prompt}\"}\n",
    "        ],\n",
    "        functions = [schema],\n",
    "        function_call = {\n",
    "            \"name\": \"dummy_function\"\n",
    "        },\n",
    "        max_tokens=1500\n",
    "    )\n",
    "    response_message = response[\"choices\"][0][\"message\"]\n",
    "    return response_message['function_call']['arguments']"
   ]
  },
  {
   "cell_type": "code",
   "execution_count": 482,
   "id": "e3a8368d-c144-443b-bcec-73f40b1505d2",
   "metadata": {
    "tags": []
   },
   "outputs": [
    {
     "name": "stdout",
     "output_type": "stream",
     "text": [
      "Injury prevention Measuring effectiveness\n",
      "Birch's law Example\n",
      "Neutral particle oscillation CP violation through mixing only\n",
      "Cryptography Modern cryptography\n",
      "Tsunami Footnotes\n",
      "Hübnerite Physical properties\n",
      "Secondary calculus and cohomological physics Classical analogues\n",
      "Satellite Weapon\n",
      "Parallel coordinates Other visualizations for multivariate data\n",
      "DNA Alternative DNA structures\n",
      "Homologous recombination BIR pathway\n",
      "Stationary state Spontaneous decay\n",
      "Demography Turnover and in internal labor markets\n",
      "Entropy and life Negative entropy\n",
      "Exponential distribution Parameter estimation\n",
      "Law of the unconscious statistician Continuous case\n",
      "Acoustic cleaning Advantages of acoustic cleaners\n",
      "Energy minimization Dimer method\n",
      "Probability distribution Some specialized applications of probability distributions\n",
      "Frame of reference Definition\n",
      "Nuclear binding energy Introduction\n",
      "Time travel Time dilation\n",
      "Holonomy Special holonomy and spinors\n",
      "Lefschetz duality Formulations\n",
      "AP Calculus Topic outline\n",
      "Birth–death process M/M/c queue\n",
      "Boltzmann equation General relativity and astronomy\n",
      "Mesh generation High-order elements\n",
      "Pin group Name\n",
      "Schumann resonances \"Inverse problem\"\n",
      "Organic chemistry Solubility\n",
      "Confidentiality Medical confidentiality\n",
      "Plant breeding Plant breeders rights\n",
      "Heliocentrism Publication of De Revolutionibus (1543)\n",
      "Reciprocal altruism Theory\n",
      "Real number Axiomatic approach\n",
      "SL2(R) Topology and universal cover\n",
      "Empty lattice approximation The nearly free electron model\n",
      "Barzilai-Borwein method Modifications and related methods\n",
      "Exchange bias Technological impact\n",
      "Technology transfer Technology transfer facilitation during COVID-19 pandemic\n",
      "Frank Verstraete Awards\n",
      "Nusselt number Forced convection in turbulent pipe flow\n",
      "Cerebrum Development\n",
      "Pearson correlation coefficient Using a bootstrap\n",
      "Isometry Generalizations\n",
      "Markov odometer Nonsingular odometers\n",
      "Point mutation History\n",
      "Electromagnetism Extension to nonlinear phenomena\n",
      "Mineralogy Physical properties\n",
      "Base (chemistry) Uses of bases\n",
      "Lempel–Ziv–Welch Encoding\n",
      "DNA ligase T4\n",
      "Present Philosophy of time\n",
      "Glossary of classical algebraic geometry R\n",
      "Tradeoffs for locomotion in air and water Tradeoffs\n",
      "NMDA receptor Mechanism of action\n",
      "Bicycle and motorcycle dynamics Forward speed\n",
      "Steenrod algebra Relation to formal groups\n",
      "Ethics Animal ethics\n",
      "K-edge Use\n",
      "Pressure head Implications for gravitational anomalies on ''ψ''\n",
      "Intensive and extensive properties Intensive properties\n",
      "Excitation (magnetic) Field flashing\n",
      "Muhammad Hafeez Qureshi Legacy\n",
      "Gravitational microlensing How it works\n",
      "Metal Superalloys\n",
      "Frisch–Peierls memorandum Background\n",
      "Lambert W function Special values\n",
      "Shen Chun-shan Publications\n",
      "Genetic history of Africa Kilifi\n",
      "Linear discriminant analysis Effect size\n",
      "Sørensen–Dice coefficient Abundance version\n",
      "Natural experiment Vietnam War draft\n",
      "Proof of work Energy consumption\n",
      "Bennett's inequality Example\n",
      "Ames test Limitations\n",
      "Hermann Joseph Muller Discovery of X-ray mutagenesis\n",
      "Power (physics) Electrical power\n",
      "Distillation Alcohol distillation\n",
      "Terahertz radiation Terahertz gap\n",
      "Multivariate t-distribution Definition\n",
      "Parametric array Foundations\n",
      "Valentin Ceaușescu Early life and education\n",
      "Carbon dioxide Inert gas\n",
      "Barium Chemical reactivity\n",
      "Amine Synthesis\n",
      "Rational number ''p''-adic numbers\n",
      "Two-phase flow Acoustics\n",
      "Adenosine triphosphate Regulation\n",
      "History of special relativity Aether and electrodynamics of moving bodies\n",
      "Matter Energy\n",
      "Gauss's law Citations\n",
      "Geographic information system Map overlay\n",
      "Jahn–Teller effect JT-related effects: Orbital ordering\n",
      "Gravity gradiometry Lockheed Martin gravity gradiometers\n",
      "Steenrod algebra Motivic setting\n",
      "Tokenization (data security) System operations, limitations and evolution\n",
      "Biophotonics Optical tweezers\n",
      "Spin chemistry Zeeman interactions and magnetoreception\n"
     ]
    }
   ],
   "source": [
    "all_prompts = []\n",
    "questions = []\n",
    "for section_row, question_row in zip(sample.iter_rows(named=True), sample_questions.iter_rows(named=True)):\n",
    "    print(section_row['title'], section_row['section_title'])\n",
    "    prompt = wiki_section_to_prompt(section_row, question_row)\n",
    "    all_prompts.append(prompt, mc6_schema)\n",
    "    questions.append(ask_chat_gpt(prompt))"
   ]
  },
  {
   "cell_type": "code",
   "execution_count": 484,
   "id": "fc779e1a-6169-4b3a-bcf3-da95dc5188e4",
   "metadata": {
    "tags": []
   },
   "outputs": [],
   "source": [
    "df_q = pl.from_dicts([json.loads(q_str) for q_str in questions])\n",
    "df_q = df_q.with_columns(sample['title'], sample['section_title'])\n",
    "df_q_disk = pl.read_parquet('./data/daniel_train_aug_17.parquet')\n",
    "df_q_disk = pl.concat([df_q_disk, df_q])\n",
    "df_q.write_parquet('./data/daniel_train_aug_17.parquet')"
   ]
  },
  {
   "cell_type": "code",
   "execution_count": 486,
   "id": "354316b7-d109-43a2-bd31-d4ee91d15290",
   "metadata": {
    "tags": []
   },
   "outputs": [],
   "source": [
    "# with pl.Config(fmt_str_lengths=2000):\n",
    "#     display(df_q)"
   ]
  },
  {
   "cell_type": "code",
   "execution_count": 464,
   "id": "50cc2d8d-fb8a-442d-804a-062214863096",
   "metadata": {
    "tags": []
   },
   "outputs": [
    {
     "data": {
      "text/html": [
       "<div><style>\n",
       ".dataframe > thead > tr > th,\n",
       ".dataframe > tbody > tr > td {\n",
       "  text-align: right;\n",
       "}\n",
       "</style>\n",
       "<small>shape: (4, 4)</small><table border=\"1\" class=\"dataframe\"><thead><tr><th>question</th><th>option</th><th>value</th><th>answer_length</th></tr><tr><td>str</td><td>str</td><td>str</td><td>u32</td></tr></thead><tbody><tr><td>&quot;What is the re…</td><td>&quot;correct&quot;</td><td>&quot;Unary coding a…</td><td>186</td></tr><tr><td>&quot;What is a pron…</td><td>&quot;correct&quot;</td><td>&quot;A pronic numbe…</td><td>114</td></tr><tr><td>&quot;What is the pr…</td><td>&quot;correct&quot;</td><td>&quot;PCR is a metho…</td><td>268</td></tr><tr><td>&quot;What is force …</td><td>&quot;correct&quot;</td><td>&quot;Force is an in…</td><td>105</td></tr></tbody></table></div>"
      ],
      "text/plain": [
       "shape: (4, 4)\n",
       "┌───────────────────────────────────┬─────────┬───────────────────────────────────┬───────────────┐\n",
       "│ question                          ┆ option  ┆ value                             ┆ answer_length │\n",
       "│ ---                               ┆ ---     ┆ ---                               ┆ ---           │\n",
       "│ str                               ┆ str     ┆ str                               ┆ u32           │\n",
       "╞═══════════════════════════════════╪═════════╪═══════════════════════════════════╪═══════════════╡\n",
       "│ What is the relationship between… ┆ correct ┆ Unary coding and standard run-le… ┆ 186           │\n",
       "│ What is a pronic number?          ┆ correct ┆ A pronic number is a number that… ┆ 114           │\n",
       "│ What is the principle behind the… ┆ correct ┆ PCR is a method that allows for … ┆ 268           │\n",
       "│ What is force in physics?         ┆ correct ┆ Force is an influence that can c… ┆ 105           │\n",
       "└───────────────────────────────────┴─────────┴───────────────────────────────────┴───────────────┘"
      ]
     },
     "execution_count": 464,
     "metadata": {},
     "output_type": "execute_result"
    }
   ],
   "source": [
    "ordered_opt = ['correct', 'incorrect_1', 'incorrect_2', 'incorrect_3', 'incorrect_4', 'incorrect_5']\n",
    "long_q = df_q.melt(['question'], ordered_opt, variable_name='option')\n",
    "long_q = long_q.with_columns(long_q['value'].str.lengths().alias('answer_length'))\n",
    "long_q[:4]"
   ]
  },
  {
   "cell_type": "code",
   "execution_count": 457,
   "id": "b0faaa89-4a4a-4eb5-a771-d13704d97ed2",
   "metadata": {
    "tags": []
   },
   "outputs": [
    {
     "data": {
      "image/png": "[encoded data removed]",
      "text/plain": [
       "<Figure size 600x300 with 1 Axes>"
      ]
     },
     "metadata": {},
     "output_type": "display_data"
    }
   ],
   "source": [
    "plt.figure(figsize=(6,3))\n",
    "sns.histplot(long_test, x='answer_length', bins=10);"
   ]
  },
  {
   "cell_type": "code",
   "execution_count": 458,
   "id": "e03dd206-302b-474c-bd26-9d5c8539a28f",
   "metadata": {
    "tags": []
   },
   "outputs": [
    {
     "data": {
      "image/png": "[encoded data removed]",
      "text/plain": [
       "<Figure size 600x300 with 1 Axes>"
      ]
     },
     "metadata": {},
     "output_type": "display_data"
    }
   ],
   "source": [
    "plt.figure(figsize=(6,3))\n",
    "sns.histplot(long_q, x='answer_length', bins=10);"
   ]
  },
  {
   "cell_type": "code",
   "execution_count": 459,
   "id": "48f9a967-761f-4ea4-a155-6b3fceb2aca4",
   "metadata": {
    "tags": []
   },
   "outputs": [
    {
     "data": {
      "image/png": "[encoded data removed]",
      "text/plain": [
       "<Figure size 600x300 with 1 Axes>"
      ]
     },
     "metadata": {},
     "output_type": "display_data"
    }
   ],
   "source": [
    "plt.figure(figsize=(6,3))\n",
    "sns.histplot(long_q.filter(pl.col('option') == 'correct'), x='answer_length', bins=10);"
   ]
  },
  {
   "cell_type": "markdown",
   "id": "4b332651-03ff-4e8c-9e1e-c691a884ed90",
   "metadata": {},
   "source": [
    "## Use GPT-3.5-turbo to remove incorrect answers"
   ]
  },
  {
   "cell_type": "code",
   "execution_count": 487,
   "id": "50c914a0-dab3-42cf-9d19-6ea438c2d309",
   "metadata": {
    "tags": []
   },
   "outputs": [],
   "source": [
    "Example:\n",
    "{{\n",
    "    \"question\": \"{question_row['prompt']}\",\n",
    "    \"justification\": \"\n",
    "        1. Placeholder for an explanation why the original answer under the key \"correct\" is either correct or not.\n",
    "        2. Placeholder for an explanation why the original answer under the key \"incorrect_1\" is either correct or not. \n",
    "        3. Placeholder for an explanation why the original answer under the key \"incorrect_2\" is either correct or not. \n",
    "        4. Placeholder for an explanation why the original answer under the key \"incorrect_3\" is either correct or not. \n",
    "        5. Placeholder for an explanation why the original answer under the key \"incorrect_4\" is either correct or not.\n",
    "        6. Placeholder for an explanation why the original answer under the key \"incorrect_5\" is either correct or not.     \n",
    "    \",\n",
    "    \"new_correct\": \"New correct option text\",\n",
    "    \"new_incorrect_1\": \"New incorrect_1 option text\",\n",
    "    \"incorrect_2\": \"New incorrect_2 option text\",\n",
    "    \"new_incorrect_3\": \"New incorrect_3 option text\",\n",
    "    \"new_incorrect_4\": \"New incorrect_4 option text\"\n",
    "}}"
   ]
  },
  {
   "cell_type": "code",
   "execution_count": null,
   "id": "e8b99a48-babb-4575-bb3f-63fe84809ec0",
   "metadata": {},
   "outputs": [],
   "source": [
    "# You are a psychometrics researcher designing a test to check the reasoning abilities of graduates in STEM fields. \n",
    "# Improve a given multiple choice question with 5 options from an example with 6 options. The answers should be \n",
    "# concise, complex and ideally 100 to 300 charachters long. \n",
    "\n",
    "# Provide only one correct option with the key \"new_correct\". The other options which have keys starting with \"new_incorrect_\" should only be incorrect statements.\n",
    "# A partial response that is missing an aspect is not conisdered incorrect for this task. Make sure at least one incorrect answers is longer than the correct answer.\n",
    "\n",
    "# First go through the options provided at the end of this prompt and provide a justification for each option one by one. Explaining why each option is correct or incorrect.\n",
    "# Provide the justifications for all options in one text field called justification.\n",
    "\n",
    "# In the second step output improved answeres, by omitting or replacing correct answers under the keys starting with  \"incorrect_\". \n",
    "# If any answer under the keys starting with \"incorrect_\" is actually correct drop it. If multiple answers get dropped, create new incorrect options.\n",
    "\n",
    "# Lastly please rate the difficulty of the questions on a scale from 1 to 10. The diffculty should be seen from an expert perspective. A 5 would be a questions which most people at graduate level\n",
    "# who have studied the subject can answer, but people who have not had trainging in the subject can not answe. Again the test is for graduates, so even a 3 should be a hard question. \n",
    "\n",
    "# Here is the original question to improve on, this is not an example for the output format. The output has one incorrect answer less and additinoal fields for the justificaiton and the difficulty:\n"
   ]
  },
  {
   "cell_type": "code",
   "execution_count": 619,
   "id": "6a2c2428-4e84-44ce-8503-da0a1ff28398",
   "metadata": {
    "tags": []
   },
   "outputs": [],
   "source": [
    "def remove_option_prompt(question_row):\n",
    "    return f'''\n",
    "First assess the answers to the question below and output a very concise reason why the answer in the field assess_correct, if the answer in the field correct is really correct. Then output in the fields\n",
    "assess_incorrect_1 to assess_incorrect_5 should provide very concise reasons why the answer in the fields incorrect_1 to incorrect_5 are correct or incorrect.\n",
    "[\n",
    "\"question\": \"{question_row['question']}\",\n",
    "\"correct\": \"{question_row['correct']}\",\n",
    "\"incorrect_1\": \"{question_row['incorrect_1']}\",\n",
    "\"incorrect_2\": \"{question_row['incorrect_2']}\",\n",
    "\"incorrect_3\": \"{question_row['incorrect_3']}\",\n",
    "\"incorrect_4\": \"{question_row['incorrect_4']}\",\n",
    "\"incorrect_5\": \"{question_row['incorrect_5']}\"\n",
    "]\n",
    "\n",
    "In the second step by selecting the correct and the best four incorrect answer new_incorrect_1 to new_incorrect_4. Omit or replace correct answers in the \n",
    "fields incorrect_1 to incorrect_5. If multiple answers get dropped, create new incorrect options. Do not output a field new_incorrect_5.\n",
    "\n",
    "The output should be a json string with fields question, assess_correct, assess_incorrect_1, assess_incorrect_2, assess_incorrect_3, assess_incorrect_4, assess_incorrect_5,\n",
    "new_correct, incorrect_1, incorrect_2, incorrect_3, incorrect_4\n",
    "'''"
   ]
  },
  {
   "cell_type": "code",
   "execution_count": 620,
   "id": "dbe5a8f8-1e11-4f0b-b908-41b79c62af12",
   "metadata": {
    "tags": []
   },
   "outputs": [],
   "source": [
    "# print(remove_option_prompt(df_q[0]))"
   ]
  },
  {
   "cell_type": "code",
   "execution_count": 624,
   "id": "01d8b759-0535-42a1-9f71-5bfec3525ad1",
   "metadata": {
    "tags": []
   },
   "outputs": [],
   "source": [
    "refine_prompts = []\n",
    "refined_qs = []\n",
    "for question_row in df_q[5:10].iter_rows(named=True):\n",
    "    prompt = remove_option_prompt(question_row)\n",
    "    refine_prompts.append(prompt)\n",
    "    refined_qs.append(ask_chat_gpt(prompt, mc5_schema))"
   ]
  },
  {
   "cell_type": "code",
   "execution_count": 625,
   "id": "ac2c3bb1-7d08-4e42-ad11-9d3ff568be71",
   "metadata": {
    "tags": []
   },
   "outputs": [
    {
     "name": "stdout",
     "output_type": "stream",
     "text": [
      "{\n",
      "\"question\": \"What are the core concepts related to cryptography?\",\n",
      "\"assess_correct\": \"The correct answer is indeed correct because confidentiality, data integrity, authentication, and non-repudiation are indeed the core concepts related to cryptography.\",\n",
      "\"assess_incorrect_1\": \"The answer in incorrect_1 is incorrect because encryption is not a core concept related to cryptography.\",\n",
      "\"assess_incorrect_2\": \"The answer in incorrect_2 is incorrect because availability is not a core concept related to cryptography.\",\n",
      "\"assess_incorrect_3\": \"The answer in incorrect_3 is incorrect because availability is not a core concept related to cryptography.\",\n",
      "\"assess_incorrect_4\": \"The answer in incorrect_4 is incorrect because encryption is not a core concept related to cryptography.\",\n",
      "\"assess_incorrect_5\": \"The answer in incorrect_5 is incorrect because encryption is not a core concept related to cryptography.\",\n",
      "\"new_correct\": \"The new correct answer is confidentiality, data integrity, authentication, and non-repudiation.\",\n",
      "\"new_incorrect_1\": \"The new incorrect answer is confidentiality, availability, authentication, and non-repudiation.\",\n",
      "\"new_incorrect_2\": \"The new incorrect answer is confidentiality, data integrity, encryption, and non-repudiation.\",\n",
      "\"new_incorrect_3\": \"The new incorrect answer is confidentiality, data integrity, authentication, and encryption.\",\n",
      "\"new_incorrect_4\": \"The new incorrect answer is confidentiality, data integrity, authentication, and availability.\"\n",
      "}\n"
     ]
    }
   ],
   "source": [
    "print(refined_qs[0])"
   ]
  },
  {
   "cell_type": "code",
   "execution_count": 626,
   "id": "9f6cea80-4942-4d63-8a51-3e9c3b9f6d7b",
   "metadata": {
    "tags": []
   },
   "outputs": [
    {
     "name": "stdout",
     "output_type": "stream",
     "text": [
      "\n",
      "First assess the answers to the question below and output a very concise reason why the answer in the field assess_correct, if the answer in the field correct is really correct. Then output in the fields\n",
      "assess_incorrect_1 to assess_incorrect_5 should provide very concise reasons why the answer in the fields incorrect_1 to incorrect_5 are correct or incorrect.\n",
      "[\n",
      "\"question\": \"What are the core concepts related to cryptography?\",\n",
      "\"correct\": \"The core concepts related to cryptography are confidentiality, data integrity, authentication, and non-repudiation.\",\n",
      "\"incorrect_1\": \"The core concepts related to cryptography are confidentiality, data integrity, authentication, and encryption.\",\n",
      "\"incorrect_2\": \"The core concepts related to cryptography are confidentiality, data integrity, authentication, and availability.\",\n",
      "\"incorrect_3\": \"The core concepts related to cryptography are confidentiality, data integrity, availability, and non-repudiation.\",\n",
      "\"incorrect_4\": \"The core concepts related to cryptography are confidentiality, encryption, authentication, and non-repudiation.\",\n",
      "\"incorrect_5\": \"The core concepts related to cryptography are confidentiality, encryption, authentication, and availability.\"\n",
      "]\n",
      "\n",
      "In the second step by selecting the correct and the best four incorrect answer new_incorrect_1 to new_incorrect_4. Omit or replace correct answers in the \n",
      "fields incorrect_1 to incorrect_5. If multiple answers get dropped, create new incorrect options. Do not output a field new_incorrect_5.\n",
      "\n",
      "The output should be a json string with fields question, assess_correct, assess_incorrect_1, assess_incorrect_2, assess_incorrect_3, assess_incorrect_4, assess_incorrect_5,\n",
      "new_correct, incorrect_1, incorrect_2, incorrect_3, incorrect_4\n",
      "\n"
     ]
    }
   ],
   "source": [
    "print(refine_prompts[0])"
   ]
  },
  {
   "cell_type": "code",
   "execution_count": null,
   "id": "e9a38a64-3b9d-4cb9-92a7-1258a0601d20",
   "metadata": {},
   "outputs": [],
   "source": []
  }
 ],
 "metadata": {
  "kernelspec": {
   "display_name": "Python [conda env:pytorch]",
   "language": "python",
   "name": "conda-env-pytorch-py"
  },
  "language_info": {
   "codemirror_mode": {
    "name": "ipython",
    "version": 3
   },
   "file_extension": ".py",
   "mimetype": "text/x-python",
   "name": "python",
   "nbconvert_exporter": "python",
   "pygments_lexer": "ipython3",
   "version": "3.8.17"
  }
 },
 "nbformat": 4,
 "nbformat_minor": 5
}
