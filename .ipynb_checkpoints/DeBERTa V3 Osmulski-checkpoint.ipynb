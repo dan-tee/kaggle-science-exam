{
 "cells": [
  {
   "cell_type": "code",
   "execution_count": 37,
   "id": "139fdfa6",
   "metadata": {
    "tags": []
   },
   "outputs": [],
   "source": [
    "from typing import Optional, Union\n",
    "import pandas as pd\n",
    "import numpy as np\n",
    "import matplotlib.pyplot as plt\n",
    "import seaborn as sns\n",
    "import torch\n",
    "import evaluate\n",
    "import os\n",
    "from scipy.special import softmax\n",
    "\n",
    "from pathlib import Path\n",
    "import wandb\n",
    "from datasets import Dataset # HuggingFace\n",
    "from dataclasses import dataclass\n",
    "from transformers import AutoTokenizer\n",
    "from transformers.tokenization_utils_base import PreTrainedTokenizerBase, PaddingStrategy\n",
    "from transformers import AutoModelForMultipleChoice, TrainingArguments, Trainer, AutoModel, IntervalStrategy"
   ]
  },
  {
   "cell_type": "code",
   "execution_count": 6,
   "id": "02e8112e-6666-45df-aa0c-578309b69681",
   "metadata": {
    "tags": []
   },
   "outputs": [],
   "source": [
    "import logging\n",
    "#logging.basicConfig(level=logging.DEBUG, format='%(asctime)s %(message)s')"
   ]
  },
  {
   "cell_type": "code",
   "execution_count": 7,
   "id": "04506376-fe46-4750-8e8e-c6bb559af9e8",
   "metadata": {
    "tags": []
   },
   "outputs": [],
   "source": [
    "os.environ['WANDB_NOTEBOOK_NAME'] = 'DeBERTa V3 Osmulski.ipynb'"
   ]
  },
  {
   "cell_type": "code",
   "execution_count": 8,
   "id": "1385d217-eec6-4afb-ae8c-9e42d52425f8",
   "metadata": {
    "tags": []
   },
   "outputs": [],
   "source": [
    "os.environ['TOKENIZERS_PARALLELISM'] = 'false'"
   ]
  },
  {
   "cell_type": "code",
   "execution_count": 9,
   "id": "ec79c1af",
   "metadata": {
    "tags": []
   },
   "outputs": [],
   "source": [
    "# !conda install wandb -y"
   ]
  },
  {
   "cell_type": "code",
   "execution_count": 10,
   "id": "a7b40123",
   "metadata": {
    "tags": []
   },
   "outputs": [],
   "source": [
    "# !pip install seaborn"
   ]
  },
  {
   "cell_type": "code",
   "execution_count": 11,
   "id": "1e1c680d-d26f-41ad-add6-d205c2c9ce25",
   "metadata": {
    "tags": []
   },
   "outputs": [],
   "source": [
    "deberta_v3_large = 'microsoft/deberta-v3-large'"
   ]
  },
  {
   "cell_type": "code",
   "execution_count": 12,
   "id": "a60a98de",
   "metadata": {
    "tags": []
   },
   "outputs": [
    {
     "data": {
      "text/plain": [
       "Index(['prompt', 'A', 'B', 'C', 'D', 'E', 'answer'], dtype='object')"
      ]
     },
     "execution_count": 12,
     "metadata": {},
     "output_type": "execute_result"
    }
   ],
   "source": [
    "df_test = pd.read_csv('data/train.csv')\n",
    "df_test = df_test.drop(columns=\"id\")\n",
    "df_test.columns"
   ]
  },
  {
   "cell_type": "code",
   "execution_count": 13,
   "id": "33962dcf",
   "metadata": {
    "tags": []
   },
   "outputs": [
    {
     "name": "stdout",
     "output_type": "stream",
     "text": [
      "(5800, 7) (200, 7) (500, 7)\n"
     ]
    }
   ],
   "source": [
    "df_6000 = pd.read_csv('data/osmulski_6000.csv')\n",
    "df_train = df_6000[:5800]\n",
    "df_test_1 = df_6000[5800:]\n",
    "df_test_2 = pd.read_csv('data/osmulski_extra_train.csv')\n",
    "print(df_train.shape, df_test_1.shape, df_test_2.shape)"
   ]
  },
  {
   "cell_type": "code",
   "execution_count": 14,
   "id": "264141cb",
   "metadata": {
    "tags": []
   },
   "outputs": [],
   "source": [
    "option_to_index = {option: idx for idx, option in enumerate('ABCDE')}\n",
    "index_to_option = {v: k for k,v in option_to_index.items()}\n",
    "\n",
    "def preprocess(example):\n",
    "    first_sentence = [example['prompt']] * 5\n",
    "    second_sentences = [example[option] for option in 'ABCDE']\n",
    "    tokenized_example = tokenizer(first_sentence, second_sentences, truncation=True)\n",
    "    tokenized_example['label'] = option_to_index[example['answer']]\n",
    "    \n",
    "    return tokenized_example\n",
    "\n",
    "@dataclass\n",
    "class DataCollatorForMultipleChoice:\n",
    "    tokenizer: PreTrainedTokenizerBase\n",
    "    padding: Union[bool, str, PaddingStrategy] = True\n",
    "    max_length: Optional[int] = None\n",
    "    pad_to_multiple_of: Optional[int] = None\n",
    "    \n",
    "    def __call__(self, features):\n",
    "        label_name = 'label' if 'label' in features[0].keys() else 'labels'\n",
    "        labels = [feature.pop(label_name) for feature in features]\n",
    "        batch_size = len(features)\n",
    "        num_choices = len(features[0]['input_ids'])\n",
    "        flattened_features = [\n",
    "            [{k: v[i] for k, v in feature.items()} for i in range(num_choices)] for feature in features\n",
    "        ]\n",
    "        flattened_features = sum(flattened_features, [])\n",
    "        \n",
    "        batch = self.tokenizer.pad(\n",
    "            flattened_features,\n",
    "            padding=self.padding,\n",
    "            max_length=self.max_length,\n",
    "            pad_to_multiple_of=self.pad_to_multiple_of,\n",
    "            return_tensors='pt',\n",
    "        )\n",
    "        batch = {k: v.view(batch_size, num_choices, -1) for k, v in batch.items()}\n",
    "        batch['labels'] = torch.tensor(labels, dtype=torch.int64)\n",
    "        return batch"
   ]
  },
  {
   "cell_type": "code",
   "execution_count": 15,
   "id": "9b6ccf20",
   "metadata": {
    "tags": []
   },
   "outputs": [
    {
     "name": "stderr",
     "output_type": "stream",
     "text": [
      "Special tokens have been added in the vocabulary, make sure the associated word embeddings are fine-tuned or trained.\n",
      "/home/daniel/anaconda3/envs/pytorch/lib/python3.8/site-packages/transformers/convert_slow_tokenizer.py:454: UserWarning: The sentencepiece tokenizer that you are converting to a fast tokenizer uses the byte fallback option which is not implemented in the fast tokenizers. In practice this means that the fast version of the tokenizer can produce unknown tokens whereas the sentencepiece version would have converted these unknown tokens into a sequence of byte tokens matching the original piece of text.\n",
      "  warnings.warn(\n",
      "Special tokens have been added in the vocabulary, make sure the associated word embeddings are fine-tuned or trained.\n"
     ]
    },
    {
     "data": {
      "application/vnd.jupyter.widget-view+json": {
       "model_id": "",
       "version_major": 2,
       "version_minor": 0
      },
      "text/plain": [
       "Map:   0%|          | 0/5800 [00:00<?, ? examples/s]"
      ]
     },
     "metadata": {},
     "output_type": "display_data"
    },
    {
     "name": "stderr",
     "output_type": "stream",
     "text": [
      "Asking to truncate to max_length but no maximum length is provided and the model has no predefined maximum length. Default to no truncation.\n"
     ]
    },
    {
     "data": {
      "text/plain": [
       "Dataset({\n",
       "    features: ['input_ids', 'token_type_ids', 'attention_mask', 'label'],\n",
       "    num_rows: 5800\n",
       "})"
      ]
     },
     "execution_count": 15,
     "metadata": {},
     "output_type": "execute_result"
    }
   ],
   "source": [
    "deberta_v3_large = 'microsoft/deberta-v3-large'\n",
    "tokenizer = AutoTokenizer.from_pretrained(deberta_v3_large)\n",
    "\n",
    "train_dataset = Dataset.from_pandas(df_train, preserve_index=False)\n",
    "tokenized_train = train_dataset.map(preprocess, remove_columns=['prompt', 'A', 'B', 'C', 'D', 'E', 'answer'])\n",
    "tokenized_train"
   ]
  },
  {
   "cell_type": "code",
   "execution_count": 16,
   "id": "602f4aa9-2fbe-43fd-aff3-f78babd299f9",
   "metadata": {
    "tags": []
   },
   "outputs": [
    {
     "data": {
      "application/vnd.jupyter.widget-view+json": {
       "model_id": "",
       "version_major": 2,
       "version_minor": 0
      },
      "text/plain": [
       "Map:   0%|          | 0/200 [00:00<?, ? examples/s]"
      ]
     },
     "metadata": {},
     "output_type": "display_data"
    },
    {
     "data": {
      "text/plain": [
       "Dataset({\n",
       "    features: ['input_ids', 'token_type_ids', 'attention_mask', 'label'],\n",
       "    num_rows: 200\n",
       "})"
      ]
     },
     "execution_count": 16,
     "metadata": {},
     "output_type": "execute_result"
    }
   ],
   "source": [
    "test_dataset = Dataset.from_pandas(df_test)\n",
    "tokenized_test = test_dataset.map(preprocess, remove_columns=['prompt', 'A', 'B', 'C', 'D', 'E', 'answer'])\n",
    "tokenized_test"
   ]
  },
  {
   "cell_type": "markdown",
   "id": "28898fcf",
   "metadata": {},
   "source": [
    "## Training"
   ]
  },
  {
   "cell_type": "code",
   "execution_count": 17,
   "id": "073ee6c5-f52c-43f8-831a-a8afcd46bf3b",
   "metadata": {
    "tags": []
   },
   "outputs": [],
   "source": [
    "def precision_at_k(predictions, actuals, k=3):        \n",
    "    if isinstance(actuals, list):\n",
    "        actuals = np.array(actuals)\n",
    "        \n",
    "    found_at = np.where(predictions == actuals.reshape(-1, 1))\n",
    "    # found_at is a tuple with the array of found indices in the second position\n",
    "    score = 1 / (1 + found_at[1])\n",
    "    score[score < 1/k] = 0\n",
    "    return score\n",
    "\n",
    "def mean_avg_precision_at_k(predictions, actual, k=3):\n",
    "    n = predictions.shape[0]\n",
    "    row_precision = precision_at_k(predictions, actual)\n",
    "    return row_precision.sum()/n"
   ]
  },
  {
   "cell_type": "code",
   "execution_count": 18,
   "id": "ce703c71-7a03-4023-8fa4-1b54654897b2",
   "metadata": {
    "tags": []
   },
   "outputs": [],
   "source": [
    "def score_random():\n",
    "    n_permutations = 200\n",
    "    n_numbers = 5 \n",
    "    # In this code, np.random.rand(n_permutations, n_numbers) generates a 2D array of random numbers.\n",
    "    # argsort(axis=1) then sorts along the second dimension (i.e., sorts each row) but instead of \n",
    "    # sorting the actual numbers, it sorts their indices, effectively creating a permutation.\n",
    "    random_predictions = np.random.rand(n_permutations, n_numbers).argsort(axis=1)\n",
    "    random_actuals = np.random.randint(0, n_numbers-1, n_permutations)\n",
    "    return mean_avg_precision_at_k(random_predictions, random_actuals)\n",
    "    \n",
    "scores = []\n",
    "for i in range(100000):\n",
    "    scores.append(score_random())"
   ]
  },
  {
   "cell_type": "code",
   "execution_count": 19,
   "id": "15bea069-b5b1-42fb-a67d-d1d3d110214d",
   "metadata": {
    "tags": []
   },
   "outputs": [
    {
     "data": {
      "image/png": "[encoded data removed]",
      "text/plain": [
       "<Figure size 640x480 with 1 Axes>"
      ]
     },
     "metadata": {},
     "output_type": "display_data"
    }
   ],
   "source": [
    "pd.Series(scores).hist(bins=25)\n",
    "plt.title('Scores of Random Predictions');"
   ]
  },
  {
   "cell_type": "code",
   "execution_count": 20,
   "id": "1d3b1cec-5e3c-41f1-8803-0a411d0672da",
   "metadata": {
    "tags": []
   },
   "outputs": [],
   "source": [
    "acc_metric = evaluate.load(\"accuracy\")\n",
    "def compute_metrics(eval_pred):\n",
    "    predictions, labels = eval_pred\n",
    "    predictions = np.flip(predictions.argsort(axis=1), axis=1)\n",
    "    accuracy = acc_metric.compute(predictions=predictions[:,0], references=labels)['accuracy']\n",
    "    map_at_3 = mean_avg_precision_at_k(predictions, labels)\n",
    "    return {\n",
    "        'accuracy': accuracy,\n",
    "        'map_at_3': round(map_at_3, 3)\n",
    "    }"
   ]
  },
  {
   "cell_type": "code",
   "execution_count": 22,
   "id": "5c95a3c7",
   "metadata": {
    "tags": []
   },
   "outputs": [
    {
     "name": "stderr",
     "output_type": "stream",
     "text": [
      "Some weights of the model checkpoint at microsoft/deberta-v3-large were not used when initializing DebertaV2ForMultipleChoice: ['lm_predictions.lm_head.LayerNorm.bias', 'mask_predictions.classifier.weight', 'mask_predictions.dense.weight', 'lm_predictions.lm_head.dense.bias', 'lm_predictions.lm_head.dense.weight', 'mask_predictions.LayerNorm.weight', 'lm_predictions.lm_head.LayerNorm.weight', 'mask_predictions.classifier.bias', 'lm_predictions.lm_head.bias', 'mask_predictions.LayerNorm.bias', 'mask_predictions.dense.bias']\n",
      "- This IS expected if you are initializing DebertaV2ForMultipleChoice from the checkpoint of a model trained on another task or with another architecture (e.g. initializing a BertForSequenceClassification model from a BertForPreTraining model).\n",
      "- This IS NOT expected if you are initializing DebertaV2ForMultipleChoice from the checkpoint of a model that you expect to be exactly identical (initializing a BertForSequenceClassification model from a BertForSequenceClassification model).\n",
      "Some weights of DebertaV2ForMultipleChoice were not initialized from the model checkpoint at microsoft/deberta-v3-large and are newly initialized: ['classifier.bias', 'classifier.weight', 'pooler.dense.bias', 'pooler.dense.weight']\n",
      "You should probably TRAIN this model on a down-stream task to be able to use it for predictions and inference.\n",
      "/home/daniel/anaconda3/envs/pytorch/lib/python3.8/site-packages/transformers/optimization.py:407: FutureWarning: This implementation of AdamW is deprecated and will be removed in a future version. Use the PyTorch implementation torch.optim.AdamW instead, or set `no_deprecation_warning=True` to disable this warning\n",
      "  warnings.warn(\n",
      "\u001b[34m\u001b[1mwandb\u001b[0m: Currently logged in as: \u001b[33mdatadan\u001b[0m. Use \u001b[1m`wandb login --relogin`\u001b[0m to force relogin\n"
     ]
    },
    {
     "data": {
      "text/html": [
       "Tracking run with wandb version 0.15.8"
      ],
      "text/plain": [
       "<IPython.core.display.HTML object>"
      ]
     },
     "metadata": {},
     "output_type": "display_data"
    },
    {
     "data": {
      "text/html": [
       "Run data is saved locally in <code>/home/daniel/code/kaggle-science-exam/wandb/run-20230807_164147-af23tet0</code>"
      ],
      "text/plain": [
       "<IPython.core.display.HTML object>"
      ]
     },
     "metadata": {},
     "output_type": "display_data"
    },
    {
     "data": {
      "text/html": [
       "Syncing run <strong><a href='https://wandb.ai/datadan/huggingface/runs/af23tet0' target=\"_blank\">Train on reduced Osmulski</a></strong> to <a href='https://wandb.ai/datadan/huggingface' target=\"_blank\">Weights & Biases</a> (<a href='https://wandb.me/run' target=\"_blank\">docs</a>)<br/>"
      ],
      "text/plain": [
       "<IPython.core.display.HTML object>"
      ]
     },
     "metadata": {},
     "output_type": "display_data"
    },
    {
     "data": {
      "text/html": [
       " View project at <a href='https://wandb.ai/datadan/huggingface' target=\"_blank\">https://wandb.ai/datadan/huggingface</a>"
      ],
      "text/plain": [
       "<IPython.core.display.HTML object>"
      ]
     },
     "metadata": {},
     "output_type": "display_data"
    },
    {
     "data": {
      "text/html": [
       " View run at <a href='https://wandb.ai/datadan/huggingface/runs/af23tet0' target=\"_blank\">https://wandb.ai/datadan/huggingface/runs/af23tet0</a>"
      ],
      "text/plain": [
       "<IPython.core.display.HTML object>"
      ]
     },
     "metadata": {},
     "output_type": "display_data"
    },
    {
     "name": "stderr",
     "output_type": "stream",
     "text": [
      "You're using a DebertaV2TokenizerFast tokenizer. Please note that with a fast tokenizer, using the `__call__` method is faster than using a method to encode the text followed by a call to the `pad` method to get a padded encoding.\n"
     ]
    },
    {
     "data": {
      "text/html": [
       "\n",
       "    <div>\n",
       "      \n",
       "      <progress value='4350' max='4350' style='width:300px; height:20px; vertical-align: middle;'></progress>\n",
       "      [4350/4350 09:22, Epoch 3/3]\n",
       "    </div>\n",
       "    <table border=\"1\" class=\"dataframe\">\n",
       "  <thead>\n",
       " <tr style=\"text-align: left;\">\n",
       "      <th>Step</th>\n",
       "      <th>Training Loss</th>\n",
       "      <th>Validation Loss</th>\n",
       "      <th>Accuracy</th>\n",
       "      <th>Map At 3</th>\n",
       "    </tr>\n",
       "  </thead>\n",
       "  <tbody>\n",
       "    <tr>\n",
       "      <td>250</td>\n",
       "      <td>1.612600</td>\n",
       "      <td>1.609225</td>\n",
       "      <td>0.270000</td>\n",
       "      <td>0.430000</td>\n",
       "    </tr>\n",
       "    <tr>\n",
       "      <td>500</td>\n",
       "      <td>1.616300</td>\n",
       "      <td>1.608112</td>\n",
       "      <td>0.345000</td>\n",
       "      <td>0.514000</td>\n",
       "    </tr>\n",
       "    <tr>\n",
       "      <td>750</td>\n",
       "      <td>1.633900</td>\n",
       "      <td>1.605333</td>\n",
       "      <td>0.435000</td>\n",
       "      <td>0.613000</td>\n",
       "    </tr>\n",
       "    <tr>\n",
       "      <td>1000</td>\n",
       "      <td>1.586800</td>\n",
       "      <td>1.602573</td>\n",
       "      <td>0.565000</td>\n",
       "      <td>0.704000</td>\n",
       "    </tr>\n",
       "    <tr>\n",
       "      <td>1250</td>\n",
       "      <td>1.535900</td>\n",
       "      <td>1.529727</td>\n",
       "      <td>0.570000</td>\n",
       "      <td>0.718000</td>\n",
       "    </tr>\n",
       "    <tr>\n",
       "      <td>1500</td>\n",
       "      <td>1.243800</td>\n",
       "      <td>1.175112</td>\n",
       "      <td>0.650000</td>\n",
       "      <td>0.776000</td>\n",
       "    </tr>\n",
       "    <tr>\n",
       "      <td>1750</td>\n",
       "      <td>1.245200</td>\n",
       "      <td>1.041963</td>\n",
       "      <td>0.660000</td>\n",
       "      <td>0.788000</td>\n",
       "    </tr>\n",
       "    <tr>\n",
       "      <td>2000</td>\n",
       "      <td>1.110300</td>\n",
       "      <td>0.987762</td>\n",
       "      <td>0.675000</td>\n",
       "      <td>0.792000</td>\n",
       "    </tr>\n",
       "    <tr>\n",
       "      <td>2250</td>\n",
       "      <td>1.207200</td>\n",
       "      <td>0.973011</td>\n",
       "      <td>0.670000</td>\n",
       "      <td>0.785000</td>\n",
       "    </tr>\n",
       "    <tr>\n",
       "      <td>2500</td>\n",
       "      <td>1.037800</td>\n",
       "      <td>0.956732</td>\n",
       "      <td>0.665000</td>\n",
       "      <td>0.786000</td>\n",
       "    </tr>\n",
       "    <tr>\n",
       "      <td>2750</td>\n",
       "      <td>1.207800</td>\n",
       "      <td>0.907549</td>\n",
       "      <td>0.690000</td>\n",
       "      <td>0.797000</td>\n",
       "    </tr>\n",
       "    <tr>\n",
       "      <td>3000</td>\n",
       "      <td>0.818300</td>\n",
       "      <td>0.869373</td>\n",
       "      <td>0.675000</td>\n",
       "      <td>0.791000</td>\n",
       "    </tr>\n",
       "    <tr>\n",
       "      <td>3250</td>\n",
       "      <td>1.404000</td>\n",
       "      <td>0.852403</td>\n",
       "      <td>0.690000</td>\n",
       "      <td>0.796000</td>\n",
       "    </tr>\n",
       "    <tr>\n",
       "      <td>3500</td>\n",
       "      <td>1.177300</td>\n",
       "      <td>0.898623</td>\n",
       "      <td>0.660000</td>\n",
       "      <td>0.781000</td>\n",
       "    </tr>\n",
       "    <tr>\n",
       "      <td>3750</td>\n",
       "      <td>0.881800</td>\n",
       "      <td>0.950321</td>\n",
       "      <td>0.635000</td>\n",
       "      <td>0.761000</td>\n",
       "    </tr>\n",
       "    <tr>\n",
       "      <td>4000</td>\n",
       "      <td>0.771500</td>\n",
       "      <td>0.875815</td>\n",
       "      <td>0.665000</td>\n",
       "      <td>0.779000</td>\n",
       "    </tr>\n",
       "    <tr>\n",
       "      <td>4250</td>\n",
       "      <td>0.883700</td>\n",
       "      <td>0.896306</td>\n",
       "      <td>0.655000</td>\n",
       "      <td>0.773000</td>\n",
       "    </tr>\n",
       "  </tbody>\n",
       "</table><p>"
      ],
      "text/plain": [
       "<IPython.core.display.HTML object>"
      ]
     },
     "metadata": {},
     "output_type": "display_data"
    },
    {
     "data": {
      "text/html": [
       "Waiting for W&B process to finish... <strong style=\"color:green\">(success).</strong>"
      ],
      "text/plain": [
       "<IPython.core.display.HTML object>"
      ]
     },
     "metadata": {},
     "output_type": "display_data"
    },
    {
     "data": {
      "application/vnd.jupyter.widget-view+json": {
       "model_id": "6a269b95e5f44c218434a9113473c6fd",
       "version_major": 2,
       "version_minor": 0
      },
      "text/plain": [
       "VBox(children=(Label(value='0.003 MB of 0.003 MB uploaded (0.000 MB deduped)\\r'), FloatProgress(value=1.0, max…"
      ]
     },
     "metadata": {},
     "output_type": "display_data"
    },
    {
     "data": {
      "text/html": [
       "<style>\n",
       "    table.wandb td:nth-child(1) { padding: 0 10px; text-align: left ; width: auto;} td:nth-child(2) {text-align: left ; width: 100%}\n",
       "    .wandb-row { display: flex; flex-direction: row; flex-wrap: wrap; justify-content: flex-start; width: 100% }\n",
       "    .wandb-col { display: flex; flex-direction: column; flex-basis: 100%; flex: 1; padding: 10px; }\n",
       "    </style>\n",
       "<div class=\"wandb-row\"><div class=\"wandb-col\"><h3>Run history:</h3><br/><table class=\"wandb\"><tr><td>eval/accuracy</td><td>▁▂▄▆▆▇████████▇█▇</td></tr><tr><td>eval/loss</td><td>████▇▄▃▂▂▂▂▁▁▁▂▁▁</td></tr><tr><td>eval/map_at_3</td><td>▁▃▄▆▆█████████▇██</td></tr><tr><td>eval/runtime</td><td>▁▃▄▅▄▆▆▆▇▇▆▆▆▆█▇█</td></tr><tr><td>eval/samples_per_second</td><td>█▆▅▄▅▃▃▃▂▂▃▃▃▃▁▂▁</td></tr><tr><td>eval/steps_per_second</td><td>█▆▅▄▅▃▃▃▂▂▃▃▃▃▁▂▁</td></tr><tr><td>train/epoch</td><td>▁▁▁▁▂▂▂▂▂▃▃▃▃▃▃▄▄▄▄▄▅▅▅▅▅▅▆▆▆▆▆▇▇▇▇▇▇███</td></tr><tr><td>train/global_step</td><td>▁▁▁▂▂▂▂▂▂▃▃▃▃▃▄▄▄▄▄▄▅▅▅▅▅▅▆▆▆▆▆▇▇▇▇▇▇███</td></tr><tr><td>train/learning_rate</td><td>▁▁▁▂▂▂▂▃▃▃▃▃▄▄▄▄▅▅▅▅▅▆▆▆▆▇▇▇▇████▇▆▅▄▃▂▁</td></tr><tr><td>train/loss</td><td>███████████▇▆▆▅▅▇▄▅▅▅▇▅▃▄▄▅▃▃▁▃▄▂▃▂▃▃▄▂▃</td></tr><tr><td>train/total_flos</td><td>▁</td></tr><tr><td>train/train_loss</td><td>▁</td></tr><tr><td>train/train_runtime</td><td>▁</td></tr><tr><td>train/train_samples_per_second</td><td>▁</td></tr><tr><td>train/train_steps_per_second</td><td>▁</td></tr></table><br/></div><div class=\"wandb-col\"><h3>Run summary:</h3><br/><table class=\"wandb\"><tr><td>eval/accuracy</td><td>0.655</td></tr><tr><td>eval/loss</td><td>0.89631</td></tr><tr><td>eval/map_at_3</td><td>0.773</td></tr><tr><td>eval/runtime</td><td>2.4044</td></tr><tr><td>eval/samples_per_second</td><td>83.182</td></tr><tr><td>eval/steps_per_second</td><td>8.318</td></tr><tr><td>train/epoch</td><td>3.0</td></tr><tr><td>train/global_step</td><td>4350</td></tr><tr><td>train/learning_rate</td><td>0.0</td></tr><tr><td>train/loss</td><td>0.8477</td></tr><tr><td>train/total_flos</td><td>8034913607705880.0</td></tr><tr><td>train/train_loss</td><td>1.20149</td></tr><tr><td>train/train_runtime</td><td>566.2284</td></tr><tr><td>train/train_samples_per_second</td><td>30.73</td></tr><tr><td>train/train_steps_per_second</td><td>7.682</td></tr></table><br/></div></div>"
      ],
      "text/plain": [
       "<IPython.core.display.HTML object>"
      ]
     },
     "metadata": {},
     "output_type": "display_data"
    },
    {
     "data": {
      "text/html": [
       " View run <strong style=\"color:#cdcd00\">Train on reduced Osmulski</strong> at: <a href='https://wandb.ai/datadan/huggingface/runs/af23tet0' target=\"_blank\">https://wandb.ai/datadan/huggingface/runs/af23tet0</a><br/> View job at <a href='https://wandb.ai/datadan/huggingface/jobs/QXJ0aWZhY3RDb2xsZWN0aW9uOjg4NTI4NzEw/version_details/v2' target=\"_blank\">https://wandb.ai/datadan/huggingface/jobs/QXJ0aWZhY3RDb2xsZWN0aW9uOjg4NTI4NzEw/version_details/v2</a><br/>Synced 6 W&B file(s), 0 media file(s), 2 artifact file(s) and 0 other file(s)"
      ],
      "text/plain": [
       "<IPython.core.display.HTML object>"
      ]
     },
     "metadata": {},
     "output_type": "display_data"
    },
    {
     "data": {
      "text/html": [
       "Find logs at: <code>./wandb/run-20230807_164147-af23tet0/logs</code>"
      ],
      "text/plain": [
       "<IPython.core.display.HTML object>"
      ]
     },
     "metadata": {},
     "output_type": "display_data"
    }
   ],
   "source": [
    "retrain = False\n",
    "\n",
    "output_path = Path('./checkpoints')\n",
    "training_args = TrainingArguments(\n",
    "    warmup_ratio=0.8,\n",
    "    learning_rate=5e-6,\n",
    "    per_device_train_batch_size=4,\n",
    "    per_device_eval_batch_size=10,\n",
    "    evaluation_strategy = IntervalStrategy.STEPS,\n",
    "    logging_steps=10,\n",
    "    eval_steps=250,\n",
    "    num_train_epochs=3,\n",
    "    save_steps=5000,\n",
    "    report_to='wandb',\n",
    "    output_dir=str(output_path),\n",
    "    run_name='Train on reduced Osmulski'\n",
    ")\n",
    "\n",
    "if not output_path.exists() or retrain:\n",
    "    model = AutoModelForMultipleChoice.from_pretrained(deberta_v3_large)\n",
    "    trainer = Trainer(\n",
    "        model=model,\n",
    "        args=training_args,\n",
    "        tokenizer=tokenizer,\n",
    "        data_collator=DataCollatorForMultipleChoice(tokenizer=tokenizer),\n",
    "        train_dataset=tokenized_train,\n",
    "        eval_dataset=tokenized_test,\n",
    "        compute_metrics=compute_metrics,\n",
    "    )\n",
    "    \n",
    "    trainer.train()\n",
    "    wandb.finish()\n",
    "else:\n",
    "    model = AutoModelForMultipleChoice.from_pretrained(output_path/'checkpoint-19500')"
   ]
  },
  {
   "cell_type": "markdown",
   "id": "1f8ac5ec",
   "metadata": {},
   "source": [
    "## Predicting on the Testset"
   ]
  },
  {
   "cell_type": "code",
   "execution_count": 23,
   "id": "11a90242",
   "metadata": {
    "tags": []
   },
   "outputs": [
    {
     "data": {
      "application/vnd.jupyter.widget-view+json": {
       "model_id": "",
       "version_major": 2,
       "version_minor": 0
      },
      "text/plain": [
       "Map:   0%|          | 0/200 [00:00<?, ? examples/s]"
      ]
     },
     "metadata": {},
     "output_type": "display_data"
    },
    {
     "data": {
      "text/html": [],
      "text/plain": [
       "<IPython.core.display.HTML object>"
      ]
     },
     "metadata": {},
     "output_type": "display_data"
    },
    {
     "name": "stdout",
     "output_type": "stream",
     "text": [
      "{'accuracy': 0.645, 'map_at_3': 0.771}\n"
     ]
    },
    {
     "data": {
      "application/vnd.jupyter.widget-view+json": {
       "model_id": "",
       "version_major": 2,
       "version_minor": 0
      },
      "text/plain": [
       "Map:   0%|          | 0/200 [00:00<?, ? examples/s]"
      ]
     },
     "metadata": {},
     "output_type": "display_data"
    },
    {
     "data": {
      "text/html": [],
      "text/plain": [
       "<IPython.core.display.HTML object>"
      ]
     },
     "metadata": {},
     "output_type": "display_data"
    },
    {
     "name": "stdout",
     "output_type": "stream",
     "text": [
      "{'accuracy': 0.55, 'map_at_3': 0.702}\n"
     ]
    },
    {
     "data": {
      "application/vnd.jupyter.widget-view+json": {
       "model_id": "",
       "version_major": 2,
       "version_minor": 0
      },
      "text/plain": [
       "Map:   0%|          | 0/500 [00:00<?, ? examples/s]"
      ]
     },
     "metadata": {},
     "output_type": "display_data"
    },
    {
     "data": {
      "text/html": [],
      "text/plain": [
       "<IPython.core.display.HTML object>"
      ]
     },
     "metadata": {},
     "output_type": "display_data"
    },
    {
     "name": "stdout",
     "output_type": "stream",
     "text": [
      "{'accuracy': 0.554, 'map_at_3': 0.701}\n"
     ]
    }
   ],
   "source": [
    "def evaluate_model(test_set):\n",
    "    tokenized_test_dataset = Dataset.from_pandas(test_set).map(preprocess, remove_columns=['prompt', 'A', 'B', 'C', 'D', 'E'])\n",
    "    test_predictions = trainer.predict(tokenized_test_dataset).predictions\n",
    "    print(compute_metrics([test_predictions, tokenized_test_dataset['label']]))\n",
    "    \n",
    "evaluate_model(df_test)\n",
    "evaluate_model(df_test_1)\n",
    "evaluate_model(df_test_2)"
   ]
  },
  {
   "cell_type": "code",
   "execution_count": 31,
   "id": "84d1e74a-6365-4f84-83a0-3ade8664b72f",
   "metadata": {
    "tags": []
   },
   "outputs": [
    {
     "data": {
      "text/html": [],
      "text/plain": [
       "<IPython.core.display.HTML object>"
      ]
     },
     "metadata": {},
     "output_type": "display_data"
    }
   ],
   "source": [
    "trainer_predict = trainer.predict(tokenized_test_dataset)"
   ]
  },
  {
   "cell_type": "code",
   "execution_count": 36,
   "id": "c51d41eb-3108-4d15-afa2-2f2830ffacfb",
   "metadata": {
    "tags": []
   },
   "outputs": [
    {
     "data": {
      "text/plain": [
       "\u001b[0;31mType:\u001b[0m        ndarray\n",
       "\u001b[0;31mString form:\u001b[0m\n",
       "[[-9.81499255e-01  1.33976841e+00  1.60739362e+00  4.27693319e+00\n",
       "           6.14280045e-01]\n",
       "           [ 1.4250420 <...> 324652e+00]\n",
       "           [-1.70279473e-01 -3.30993199e+00 -1.98556447e+00 -9.87624466e-01\n",
       "           -2.38353133e+00]]\n",
       "\u001b[0;31mLength:\u001b[0m      200\n",
       "\u001b[0;31mFile:\u001b[0m        ~/anaconda3/envs/pytorch/lib/python3.8/site-packages/numpy/__init__.py\n",
       "\u001b[0;31mDocstring:\u001b[0m  \n",
       "ndarray(shape, dtype=float, buffer=None, offset=0,\n",
       "        strides=None, order=None)\n",
       "\n",
       "An array object represents a multidimensional, homogeneous array\n",
       "of fixed-size items.  An associated data-type object describes the\n",
       "format of each element in the array (its byte-order, how many bytes it\n",
       "occupies in memory, whether it is an integer, a floating point number,\n",
       "or something else, etc.)\n",
       "\n",
       "Arrays should be constructed using `array`, `zeros` or `empty` (refer\n",
       "to the See Also section below).  The parameters given here refer to\n",
       "a low-level method (`ndarray(...)`) for instantiating an array.\n",
       "\n",
       "For more information, refer to the `numpy` module and examine the\n",
       "methods and attributes of an array.\n",
       "\n",
       "Parameters\n",
       "----------\n",
       "(for the __new__ method; see Notes below)\n",
       "\n",
       "shape : tuple of ints\n",
       "    Shape of created array.\n",
       "dtype : data-type, optional\n",
       "    Any object that can be interpreted as a numpy data type.\n",
       "buffer : object exposing buffer interface, optional\n",
       "    Used to fill the array with data.\n",
       "offset : int, optional\n",
       "    Offset of array data in buffer.\n",
       "strides : tuple of ints, optional\n",
       "    Strides of data in memory.\n",
       "order : {'C', 'F'}, optional\n",
       "    Row-major (C-style) or column-major (Fortran-style) order.\n",
       "\n",
       "Attributes\n",
       "----------\n",
       "T : ndarray\n",
       "    Transpose of the array.\n",
       "data : buffer\n",
       "    The array's elements, in memory.\n",
       "dtype : dtype object\n",
       "    Describes the format of the elements in the array.\n",
       "flags : dict\n",
       "    Dictionary containing information related to memory use, e.g.,\n",
       "    'C_CONTIGUOUS', 'OWNDATA', 'WRITEABLE', etc.\n",
       "flat : numpy.flatiter object\n",
       "    Flattened version of the array as an iterator.  The iterator\n",
       "    allows assignments, e.g., ``x.flat = 3`` (See `ndarray.flat` for\n",
       "    assignment examples; TODO).\n",
       "imag : ndarray\n",
       "    Imaginary part of the array.\n",
       "real : ndarray\n",
       "    Real part of the array.\n",
       "size : int\n",
       "    Number of elements in the array.\n",
       "itemsize : int\n",
       "    The memory use of each array element in bytes.\n",
       "nbytes : int\n",
       "    The total number of bytes required to store the array data,\n",
       "    i.e., ``itemsize * size``.\n",
       "ndim : int\n",
       "    The array's number of dimensions.\n",
       "shape : tuple of ints\n",
       "    Shape of the array.\n",
       "strides : tuple of ints\n",
       "    The step-size required to move from one element to the next in\n",
       "    memory. For example, a contiguous ``(3, 4)`` array of type\n",
       "    ``int16`` in C-order has strides ``(8, 2)``.  This implies that\n",
       "    to move from element to element in memory requires jumps of 2 bytes.\n",
       "    To move from row-to-row, one needs to jump 8 bytes at a time\n",
       "    (``2 * 4``).\n",
       "ctypes : ctypes object\n",
       "    Class containing properties of the array needed for interaction\n",
       "    with ctypes.\n",
       "base : ndarray\n",
       "    If the array is a view into another array, that array is its `base`\n",
       "    (unless that array is also a view).  The `base` array is where the\n",
       "    array data is actually stored.\n",
       "\n",
       "See Also\n",
       "--------\n",
       "array : Construct an array.\n",
       "zeros : Create an array, each element of which is zero.\n",
       "empty : Create an array, but leave its allocated memory unchanged (i.e.,\n",
       "        it contains \"garbage\").\n",
       "dtype : Create a data-type.\n",
       "numpy.typing.NDArray : An ndarray alias :term:`generic <generic type>`\n",
       "                       w.r.t. its `dtype.type <numpy.dtype.type>`.\n",
       "\n",
       "Notes\n",
       "-----\n",
       "There are two modes of creating an array using ``__new__``:\n",
       "\n",
       "1. If `buffer` is None, then only `shape`, `dtype`, and `order`\n",
       "   are used.\n",
       "2. If `buffer` is an object exposing the buffer interface, then\n",
       "   all keywords are interpreted.\n",
       "\n",
       "No ``__init__`` method is needed because the array is fully initialized\n",
       "after the ``__new__`` method.\n",
       "\n",
       "Examples\n",
       "--------\n",
       "These examples illustrate the low-level `ndarray` constructor.  Refer\n",
       "to the `See Also` section above for easier ways of constructing an\n",
       "ndarray.\n",
       "\n",
       "First mode, `buffer` is None:\n",
       "\n",
       ">>> np.ndarray(shape=(2,2), dtype=float, order='F')\n",
       "array([[0.0e+000, 0.0e+000], # random\n",
       "       [     nan, 2.5e-323]])\n",
       "\n",
       "Second mode:\n",
       "\n",
       ">>> np.ndarray((2,), buffer=np.array([1,2,3]),\n",
       "...            offset=np.int_().itemsize,\n",
       "...            dtype=int) # offset = 1*itemsize, i.e. skip first element\n",
       "array([2, 3])"
      ]
     },
     "metadata": {},
     "output_type": "display_data"
    }
   ],
   "source": [
    "trainer_predict.predictions?"
   ]
  },
  {
   "cell_type": "code",
   "execution_count": 44,
   "id": "4f0840fe-6b1a-4a3f-a572-5c02ec51e72f",
   "metadata": {
    "tags": []
   },
   "outputs": [
    {
     "data": {
      "application/vnd.jupyter.widget-view+json": {
       "model_id": "",
       "version_major": 2,
       "version_minor": 0
      },
      "text/plain": [
       "Map:   0%|          | 0/200 [00:00<?, ? examples/s]"
      ]
     },
     "metadata": {},
     "output_type": "display_data"
    },
    {
     "data": {
      "text/html": [],
      "text/plain": [
       "<IPython.core.display.HTML object>"
      ]
     },
     "metadata": {},
     "output_type": "display_data"
    }
   ],
   "source": [
    "tokenized_test_dataset = Dataset.from_pandas(df_test).map(preprocess, remove_columns=['prompt', 'A', 'B', 'C', 'D', 'E'])\n",
    "test_logits = trainer.predict(tokenized_test_dataset).predictions\n",
    "test_probs = softmax(test_logits, axis=1)\n",
    "predictions = np.flip(test_logits.argsort(axis=1), axis=1)\n",
    "pred_1 = predictions[:, 0]\n",
    "pred_2 = predictions[:, 1]\n",
    "pred_3 = predictions[:, 2]\n",
    "\n",
    "row_indcs = np.arange(pred_1.shape[0])\n",
    "res = pd.DataFrame({\n",
    "    'pred_1': pred_1, \n",
    "    'prob_1': test_probs[row_indcs, pred_1],\n",
    "    'pred_2': pred_2, \n",
    "    'prob_2': test_probs[row_indcs, pred_2],\n",
    "    'pred_3': pred_3, \n",
    "    'prob_3': test_probs[row_indcs, pred_3],\n",
    "    'logit_sum': test_probs.sum(axis=1),\n",
    "    'prob_3_sum': test_probs[row_indcs, pred_1] + test_probs[row_indcs, pred_2] + test_probs[row_indcs, pred_3],\n",
    "    'actual': tokenized_test_dataset['label'],\n",
    "    'accurate': pred_1 == tokenized_test_dataset['label'],\n",
    "    'precision_at_3': precision_at_k(predictions, tokenized_test_dataset['label']).round(2)\n",
    "})"
   ]
  },
  {
   "cell_type": "code",
   "execution_count": 45,
   "id": "04a71d78-655f-46a8-9742-a398e9dbafc9",
   "metadata": {
    "tags": []
   },
   "outputs": [
    {
     "data": {
      "text/html": [
       "<div>\n",
       "<style scoped>\n",
       "    .dataframe tbody tr th:only-of-type {\n",
       "        vertical-align: middle;\n",
       "    }\n",
       "\n",
       "    .dataframe tbody tr th {\n",
       "        vertical-align: top;\n",
       "    }\n",
       "\n",
       "    .dataframe thead th {\n",
       "        text-align: right;\n",
       "    }\n",
       "</style>\n",
       "<table border=\"1\" class=\"dataframe\">\n",
       "  <thead>\n",
       "    <tr style=\"text-align: right;\">\n",
       "      <th></th>\n",
       "      <th>pred_1</th>\n",
       "      <th>prob_1</th>\n",
       "      <th>pred_2</th>\n",
       "      <th>prob_2</th>\n",
       "      <th>pred_3</th>\n",
       "      <th>prob_3</th>\n",
       "      <th>logit_sum</th>\n",
       "      <th>prob_3_sum</th>\n",
       "      <th>actual</th>\n",
       "      <th>accurate</th>\n",
       "      <th>precision_at_3</th>\n",
       "    </tr>\n",
       "  </thead>\n",
       "  <tbody>\n",
       "    <tr>\n",
       "      <th>0</th>\n",
       "      <td>3</td>\n",
       "      <td>0.867177</td>\n",
       "      <td>2</td>\n",
       "      <td>0.060082</td>\n",
       "      <td>1</td>\n",
       "      <td>0.045974</td>\n",
       "      <td>1.0</td>\n",
       "      <td>0.973232</td>\n",
       "      <td>3</td>\n",
       "      <td>True</td>\n",
       "      <td>1.00</td>\n",
       "    </tr>\n",
       "    <tr>\n",
       "      <th>1</th>\n",
       "      <td>2</td>\n",
       "      <td>0.384794</td>\n",
       "      <td>3</td>\n",
       "      <td>0.229879</td>\n",
       "      <td>0</td>\n",
       "      <td>0.216674</td>\n",
       "      <td>1.0</td>\n",
       "      <td>0.831346</td>\n",
       "      <td>0</td>\n",
       "      <td>False</td>\n",
       "      <td>0.33</td>\n",
       "    </tr>\n",
       "    <tr>\n",
       "      <th>2</th>\n",
       "      <td>0</td>\n",
       "      <td>0.692946</td>\n",
       "      <td>2</td>\n",
       "      <td>0.154489</td>\n",
       "      <td>4</td>\n",
       "      <td>0.092092</td>\n",
       "      <td>1.0</td>\n",
       "      <td>0.939527</td>\n",
       "      <td>0</td>\n",
       "      <td>True</td>\n",
       "      <td>1.00</td>\n",
       "    </tr>\n",
       "    <tr>\n",
       "      <th>3</th>\n",
       "      <td>2</td>\n",
       "      <td>0.350951</td>\n",
       "      <td>1</td>\n",
       "      <td>0.244707</td>\n",
       "      <td>0</td>\n",
       "      <td>0.237140</td>\n",
       "      <td>1.0</td>\n",
       "      <td>0.832798</td>\n",
       "      <td>2</td>\n",
       "      <td>True</td>\n",
       "      <td>1.00</td>\n",
       "    </tr>\n",
       "    <tr>\n",
       "      <th>4</th>\n",
       "      <td>0</td>\n",
       "      <td>0.345061</td>\n",
       "      <td>3</td>\n",
       "      <td>0.286901</td>\n",
       "      <td>1</td>\n",
       "      <td>0.263349</td>\n",
       "      <td>1.0</td>\n",
       "      <td>0.895311</td>\n",
       "      <td>3</td>\n",
       "      <td>False</td>\n",
       "      <td>0.50</td>\n",
       "    </tr>\n",
       "    <tr>\n",
       "      <th>5</th>\n",
       "      <td>1</td>\n",
       "      <td>0.674848</td>\n",
       "      <td>2</td>\n",
       "      <td>0.183446</td>\n",
       "      <td>3</td>\n",
       "      <td>0.059358</td>\n",
       "      <td>1.0</td>\n",
       "      <td>0.917651</td>\n",
       "      <td>1</td>\n",
       "      <td>True</td>\n",
       "      <td>1.00</td>\n",
       "    </tr>\n",
       "    <tr>\n",
       "      <th>6</th>\n",
       "      <td>0</td>\n",
       "      <td>0.599422</td>\n",
       "      <td>2</td>\n",
       "      <td>0.315494</td>\n",
       "      <td>1</td>\n",
       "      <td>0.076119</td>\n",
       "      <td>1.0</td>\n",
       "      <td>0.991035</td>\n",
       "      <td>0</td>\n",
       "      <td>True</td>\n",
       "      <td>1.00</td>\n",
       "    </tr>\n",
       "    <tr>\n",
       "      <th>7</th>\n",
       "      <td>3</td>\n",
       "      <td>0.540555</td>\n",
       "      <td>1</td>\n",
       "      <td>0.352013</td>\n",
       "      <td>4</td>\n",
       "      <td>0.096040</td>\n",
       "      <td>1.0</td>\n",
       "      <td>0.988608</td>\n",
       "      <td>3</td>\n",
       "      <td>True</td>\n",
       "      <td>1.00</td>\n",
       "    </tr>\n",
       "    <tr>\n",
       "      <th>8</th>\n",
       "      <td>0</td>\n",
       "      <td>0.509058</td>\n",
       "      <td>1</td>\n",
       "      <td>0.390489</td>\n",
       "      <td>2</td>\n",
       "      <td>0.080096</td>\n",
       "      <td>1.0</td>\n",
       "      <td>0.979643</td>\n",
       "      <td>2</td>\n",
       "      <td>False</td>\n",
       "      <td>0.33</td>\n",
       "    </tr>\n",
       "    <tr>\n",
       "      <th>9</th>\n",
       "      <td>0</td>\n",
       "      <td>0.997954</td>\n",
       "      <td>1</td>\n",
       "      <td>0.001455</td>\n",
       "      <td>4</td>\n",
       "      <td>0.000338</td>\n",
       "      <td>1.0</td>\n",
       "      <td>0.999747</td>\n",
       "      <td>0</td>\n",
       "      <td>True</td>\n",
       "      <td>1.00</td>\n",
       "    </tr>\n",
       "    <tr>\n",
       "      <th>10</th>\n",
       "      <td>1</td>\n",
       "      <td>0.311665</td>\n",
       "      <td>4</td>\n",
       "      <td>0.293321</td>\n",
       "      <td>0</td>\n",
       "      <td>0.241500</td>\n",
       "      <td>1.0</td>\n",
       "      <td>0.846486</td>\n",
       "      <td>4</td>\n",
       "      <td>False</td>\n",
       "      <td>0.50</td>\n",
       "    </tr>\n",
       "    <tr>\n",
       "      <th>11</th>\n",
       "      <td>0</td>\n",
       "      <td>0.447903</td>\n",
       "      <td>1</td>\n",
       "      <td>0.278869</td>\n",
       "      <td>2</td>\n",
       "      <td>0.144810</td>\n",
       "      <td>1.0</td>\n",
       "      <td>0.871583</td>\n",
       "      <td>0</td>\n",
       "      <td>True</td>\n",
       "      <td>1.00</td>\n",
       "    </tr>\n",
       "    <tr>\n",
       "      <th>12</th>\n",
       "      <td>2</td>\n",
       "      <td>0.997349</td>\n",
       "      <td>4</td>\n",
       "      <td>0.001130</td>\n",
       "      <td>1</td>\n",
       "      <td>0.000765</td>\n",
       "      <td>1.0</td>\n",
       "      <td>0.999244</td>\n",
       "      <td>2</td>\n",
       "      <td>True</td>\n",
       "      <td>1.00</td>\n",
       "    </tr>\n",
       "    <tr>\n",
       "      <th>13</th>\n",
       "      <td>4</td>\n",
       "      <td>0.996248</td>\n",
       "      <td>3</td>\n",
       "      <td>0.001792</td>\n",
       "      <td>2</td>\n",
       "      <td>0.000762</td>\n",
       "      <td>1.0</td>\n",
       "      <td>0.998803</td>\n",
       "      <td>3</td>\n",
       "      <td>False</td>\n",
       "      <td>0.50</td>\n",
       "    </tr>\n",
       "    <tr>\n",
       "      <th>14</th>\n",
       "      <td>1</td>\n",
       "      <td>0.967386</td>\n",
       "      <td>2</td>\n",
       "      <td>0.023223</td>\n",
       "      <td>3</td>\n",
       "      <td>0.007810</td>\n",
       "      <td>1.0</td>\n",
       "      <td>0.998418</td>\n",
       "      <td>1</td>\n",
       "      <td>True</td>\n",
       "      <td>1.00</td>\n",
       "    </tr>\n",
       "    <tr>\n",
       "      <th>15</th>\n",
       "      <td>1</td>\n",
       "      <td>0.478593</td>\n",
       "      <td>2</td>\n",
       "      <td>0.235248</td>\n",
       "      <td>3</td>\n",
       "      <td>0.168150</td>\n",
       "      <td>1.0</td>\n",
       "      <td>0.881990</td>\n",
       "      <td>1</td>\n",
       "      <td>True</td>\n",
       "      <td>1.00</td>\n",
       "    </tr>\n",
       "    <tr>\n",
       "      <th>16</th>\n",
       "      <td>2</td>\n",
       "      <td>0.889369</td>\n",
       "      <td>0</td>\n",
       "      <td>0.074125</td>\n",
       "      <td>1</td>\n",
       "      <td>0.032083</td>\n",
       "      <td>1.0</td>\n",
       "      <td>0.995578</td>\n",
       "      <td>4</td>\n",
       "      <td>False</td>\n",
       "      <td>0.00</td>\n",
       "    </tr>\n",
       "    <tr>\n",
       "      <th>17</th>\n",
       "      <td>4</td>\n",
       "      <td>0.426521</td>\n",
       "      <td>0</td>\n",
       "      <td>0.263443</td>\n",
       "      <td>3</td>\n",
       "      <td>0.261408</td>\n",
       "      <td>1.0</td>\n",
       "      <td>0.951372</td>\n",
       "      <td>4</td>\n",
       "      <td>True</td>\n",
       "      <td>1.00</td>\n",
       "    </tr>\n",
       "    <tr>\n",
       "      <th>18</th>\n",
       "      <td>3</td>\n",
       "      <td>0.457016</td>\n",
       "      <td>0</td>\n",
       "      <td>0.418056</td>\n",
       "      <td>4</td>\n",
       "      <td>0.067159</td>\n",
       "      <td>1.0</td>\n",
       "      <td>0.942232</td>\n",
       "      <td>0</td>\n",
       "      <td>False</td>\n",
       "      <td>0.50</td>\n",
       "    </tr>\n",
       "    <tr>\n",
       "      <th>19</th>\n",
       "      <td>4</td>\n",
       "      <td>0.996525</td>\n",
       "      <td>3</td>\n",
       "      <td>0.002975</td>\n",
       "      <td>1</td>\n",
       "      <td>0.000205</td>\n",
       "      <td>1.0</td>\n",
       "      <td>0.999705</td>\n",
       "      <td>4</td>\n",
       "      <td>True</td>\n",
       "      <td>1.00</td>\n",
       "    </tr>\n",
       "    <tr>\n",
       "      <th>20</th>\n",
       "      <td>3</td>\n",
       "      <td>0.978562</td>\n",
       "      <td>2</td>\n",
       "      <td>0.009485</td>\n",
       "      <td>1</td>\n",
       "      <td>0.008066</td>\n",
       "      <td>1.0</td>\n",
       "      <td>0.996114</td>\n",
       "      <td>3</td>\n",
       "      <td>True</td>\n",
       "      <td>1.00</td>\n",
       "    </tr>\n",
       "    <tr>\n",
       "      <th>21</th>\n",
       "      <td>1</td>\n",
       "      <td>0.298158</td>\n",
       "      <td>4</td>\n",
       "      <td>0.261631</td>\n",
       "      <td>3</td>\n",
       "      <td>0.221704</td>\n",
       "      <td>1.0</td>\n",
       "      <td>0.781493</td>\n",
       "      <td>3</td>\n",
       "      <td>False</td>\n",
       "      <td>0.33</td>\n",
       "    </tr>\n",
       "    <tr>\n",
       "      <th>22</th>\n",
       "      <td>3</td>\n",
       "      <td>0.694618</td>\n",
       "      <td>2</td>\n",
       "      <td>0.192220</td>\n",
       "      <td>0</td>\n",
       "      <td>0.078320</td>\n",
       "      <td>1.0</td>\n",
       "      <td>0.965157</td>\n",
       "      <td>2</td>\n",
       "      <td>False</td>\n",
       "      <td>0.50</td>\n",
       "    </tr>\n",
       "    <tr>\n",
       "      <th>23</th>\n",
       "      <td>2</td>\n",
       "      <td>0.612315</td>\n",
       "      <td>1</td>\n",
       "      <td>0.333254</td>\n",
       "      <td>3</td>\n",
       "      <td>0.036297</td>\n",
       "      <td>1.0</td>\n",
       "      <td>0.981866</td>\n",
       "      <td>2</td>\n",
       "      <td>True</td>\n",
       "      <td>1.00</td>\n",
       "    </tr>\n",
       "    <tr>\n",
       "      <th>24</th>\n",
       "      <td>0</td>\n",
       "      <td>0.319313</td>\n",
       "      <td>4</td>\n",
       "      <td>0.313440</td>\n",
       "      <td>3</td>\n",
       "      <td>0.293677</td>\n",
       "      <td>1.0</td>\n",
       "      <td>0.926429</td>\n",
       "      <td>4</td>\n",
       "      <td>False</td>\n",
       "      <td>0.50</td>\n",
       "    </tr>\n",
       "    <tr>\n",
       "      <th>25</th>\n",
       "      <td>4</td>\n",
       "      <td>0.999945</td>\n",
       "      <td>1</td>\n",
       "      <td>0.000014</td>\n",
       "      <td>3</td>\n",
       "      <td>0.000014</td>\n",
       "      <td>1.0</td>\n",
       "      <td>0.999973</td>\n",
       "      <td>4</td>\n",
       "      <td>True</td>\n",
       "      <td>1.00</td>\n",
       "    </tr>\n",
       "    <tr>\n",
       "      <th>26</th>\n",
       "      <td>0</td>\n",
       "      <td>0.513298</td>\n",
       "      <td>4</td>\n",
       "      <td>0.270580</td>\n",
       "      <td>2</td>\n",
       "      <td>0.215069</td>\n",
       "      <td>1.0</td>\n",
       "      <td>0.998947</td>\n",
       "      <td>0</td>\n",
       "      <td>True</td>\n",
       "      <td>1.00</td>\n",
       "    </tr>\n",
       "    <tr>\n",
       "      <th>27</th>\n",
       "      <td>3</td>\n",
       "      <td>0.991860</td>\n",
       "      <td>0</td>\n",
       "      <td>0.004413</td>\n",
       "      <td>2</td>\n",
       "      <td>0.002777</td>\n",
       "      <td>1.0</td>\n",
       "      <td>0.999049</td>\n",
       "      <td>3</td>\n",
       "      <td>True</td>\n",
       "      <td>1.00</td>\n",
       "    </tr>\n",
       "    <tr>\n",
       "      <th>28</th>\n",
       "      <td>2</td>\n",
       "      <td>0.345262</td>\n",
       "      <td>0</td>\n",
       "      <td>0.251166</td>\n",
       "      <td>3</td>\n",
       "      <td>0.162558</td>\n",
       "      <td>1.0</td>\n",
       "      <td>0.758986</td>\n",
       "      <td>4</td>\n",
       "      <td>False</td>\n",
       "      <td>0.00</td>\n",
       "    </tr>\n",
       "    <tr>\n",
       "      <th>29</th>\n",
       "      <td>2</td>\n",
       "      <td>0.999991</td>\n",
       "      <td>1</td>\n",
       "      <td>0.000005</td>\n",
       "      <td>4</td>\n",
       "      <td>0.000001</td>\n",
       "      <td>1.0</td>\n",
       "      <td>0.999997</td>\n",
       "      <td>2</td>\n",
       "      <td>True</td>\n",
       "      <td>1.00</td>\n",
       "    </tr>\n",
       "    <tr>\n",
       "      <th>30</th>\n",
       "      <td>1</td>\n",
       "      <td>0.948775</td>\n",
       "      <td>3</td>\n",
       "      <td>0.032165</td>\n",
       "      <td>4</td>\n",
       "      <td>0.006818</td>\n",
       "      <td>1.0</td>\n",
       "      <td>0.987758</td>\n",
       "      <td>1</td>\n",
       "      <td>True</td>\n",
       "      <td>1.00</td>\n",
       "    </tr>\n",
       "    <tr>\n",
       "      <th>31</th>\n",
       "      <td>4</td>\n",
       "      <td>0.969604</td>\n",
       "      <td>0</td>\n",
       "      <td>0.011620</td>\n",
       "      <td>3</td>\n",
       "      <td>0.011532</td>\n",
       "      <td>1.0</td>\n",
       "      <td>0.992756</td>\n",
       "      <td>4</td>\n",
       "      <td>True</td>\n",
       "      <td>1.00</td>\n",
       "    </tr>\n",
       "    <tr>\n",
       "      <th>32</th>\n",
       "      <td>3</td>\n",
       "      <td>0.338083</td>\n",
       "      <td>1</td>\n",
       "      <td>0.270573</td>\n",
       "      <td>0</td>\n",
       "      <td>0.202366</td>\n",
       "      <td>1.0</td>\n",
       "      <td>0.811022</td>\n",
       "      <td>4</td>\n",
       "      <td>False</td>\n",
       "      <td>0.00</td>\n",
       "    </tr>\n",
       "    <tr>\n",
       "      <th>33</th>\n",
       "      <td>4</td>\n",
       "      <td>0.480130</td>\n",
       "      <td>3</td>\n",
       "      <td>0.377145</td>\n",
       "      <td>1</td>\n",
       "      <td>0.136106</td>\n",
       "      <td>1.0</td>\n",
       "      <td>0.993381</td>\n",
       "      <td>3</td>\n",
       "      <td>False</td>\n",
       "      <td>0.50</td>\n",
       "    </tr>\n",
       "    <tr>\n",
       "      <th>34</th>\n",
       "      <td>2</td>\n",
       "      <td>0.292815</td>\n",
       "      <td>1</td>\n",
       "      <td>0.283962</td>\n",
       "      <td>4</td>\n",
       "      <td>0.183530</td>\n",
       "      <td>1.0</td>\n",
       "      <td>0.760307</td>\n",
       "      <td>2</td>\n",
       "      <td>True</td>\n",
       "      <td>1.00</td>\n",
       "    </tr>\n",
       "    <tr>\n",
       "      <th>35</th>\n",
       "      <td>4</td>\n",
       "      <td>0.500728</td>\n",
       "      <td>3</td>\n",
       "      <td>0.408555</td>\n",
       "      <td>1</td>\n",
       "      <td>0.078549</td>\n",
       "      <td>1.0</td>\n",
       "      <td>0.987832</td>\n",
       "      <td>1</td>\n",
       "      <td>False</td>\n",
       "      <td>0.33</td>\n",
       "    </tr>\n",
       "    <tr>\n",
       "      <th>36</th>\n",
       "      <td>4</td>\n",
       "      <td>0.416513</td>\n",
       "      <td>0</td>\n",
       "      <td>0.186835</td>\n",
       "      <td>1</td>\n",
       "      <td>0.164088</td>\n",
       "      <td>1.0</td>\n",
       "      <td>0.767437</td>\n",
       "      <td>4</td>\n",
       "      <td>True</td>\n",
       "      <td>1.00</td>\n",
       "    </tr>\n",
       "    <tr>\n",
       "      <th>37</th>\n",
       "      <td>0</td>\n",
       "      <td>0.951308</td>\n",
       "      <td>3</td>\n",
       "      <td>0.041580</td>\n",
       "      <td>2</td>\n",
       "      <td>0.006876</td>\n",
       "      <td>1.0</td>\n",
       "      <td>0.999765</td>\n",
       "      <td>0</td>\n",
       "      <td>True</td>\n",
       "      <td>1.00</td>\n",
       "    </tr>\n",
       "    <tr>\n",
       "      <th>38</th>\n",
       "      <td>4</td>\n",
       "      <td>0.809734</td>\n",
       "      <td>3</td>\n",
       "      <td>0.189950</td>\n",
       "      <td>1</td>\n",
       "      <td>0.000250</td>\n",
       "      <td>1.0</td>\n",
       "      <td>0.999934</td>\n",
       "      <td>4</td>\n",
       "      <td>True</td>\n",
       "      <td>1.00</td>\n",
       "    </tr>\n",
       "    <tr>\n",
       "      <th>39</th>\n",
       "      <td>2</td>\n",
       "      <td>0.557977</td>\n",
       "      <td>0</td>\n",
       "      <td>0.245381</td>\n",
       "      <td>4</td>\n",
       "      <td>0.136614</td>\n",
       "      <td>1.0</td>\n",
       "      <td>0.939972</td>\n",
       "      <td>4</td>\n",
       "      <td>False</td>\n",
       "      <td>0.33</td>\n",
       "    </tr>\n",
       "  </tbody>\n",
       "</table>\n",
       "</div>"
      ],
      "text/plain": [
       "    pred_1    prob_1  pred_2    prob_2  pred_3    prob_3  logit_sum  \\\n",
       "0        3  0.867177       2  0.060082       1  0.045974        1.0   \n",
       "1        2  0.384794       3  0.229879       0  0.216674        1.0   \n",
       "2        0  0.692946       2  0.154489       4  0.092092        1.0   \n",
       "3        2  0.350951       1  0.244707       0  0.237140        1.0   \n",
       "4        0  0.345061       3  0.286901       1  0.263349        1.0   \n",
       "5        1  0.674848       2  0.183446       3  0.059358        1.0   \n",
       "6        0  0.599422       2  0.315494       1  0.076119        1.0   \n",
       "7        3  0.540555       1  0.352013       4  0.096040        1.0   \n",
       "8        0  0.509058       1  0.390489       2  0.080096        1.0   \n",
       "9        0  0.997954       1  0.001455       4  0.000338        1.0   \n",
       "10       1  0.311665       4  0.293321       0  0.241500        1.0   \n",
       "11       0  0.447903       1  0.278869       2  0.144810        1.0   \n",
       "12       2  0.997349       4  0.001130       1  0.000765        1.0   \n",
       "13       4  0.996248       3  0.001792       2  0.000762        1.0   \n",
       "14       1  0.967386       2  0.023223       3  0.007810        1.0   \n",
       "15       1  0.478593       2  0.235248       3  0.168150        1.0   \n",
       "16       2  0.889369       0  0.074125       1  0.032083        1.0   \n",
       "17       4  0.426521       0  0.263443       3  0.261408        1.0   \n",
       "18       3  0.457016       0  0.418056       4  0.067159        1.0   \n",
       "19       4  0.996525       3  0.002975       1  0.000205        1.0   \n",
       "20       3  0.978562       2  0.009485       1  0.008066        1.0   \n",
       "21       1  0.298158       4  0.261631       3  0.221704        1.0   \n",
       "22       3  0.694618       2  0.192220       0  0.078320        1.0   \n",
       "23       2  0.612315       1  0.333254       3  0.036297        1.0   \n",
       "24       0  0.319313       4  0.313440       3  0.293677        1.0   \n",
       "25       4  0.999945       1  0.000014       3  0.000014        1.0   \n",
       "26       0  0.513298       4  0.270580       2  0.215069        1.0   \n",
       "27       3  0.991860       0  0.004413       2  0.002777        1.0   \n",
       "28       2  0.345262       0  0.251166       3  0.162558        1.0   \n",
       "29       2  0.999991       1  0.000005       4  0.000001        1.0   \n",
       "30       1  0.948775       3  0.032165       4  0.006818        1.0   \n",
       "31       4  0.969604       0  0.011620       3  0.011532        1.0   \n",
       "32       3  0.338083       1  0.270573       0  0.202366        1.0   \n",
       "33       4  0.480130       3  0.377145       1  0.136106        1.0   \n",
       "34       2  0.292815       1  0.283962       4  0.183530        1.0   \n",
       "35       4  0.500728       3  0.408555       1  0.078549        1.0   \n",
       "36       4  0.416513       0  0.186835       1  0.164088        1.0   \n",
       "37       0  0.951308       3  0.041580       2  0.006876        1.0   \n",
       "38       4  0.809734       3  0.189950       1  0.000250        1.0   \n",
       "39       2  0.557977       0  0.245381       4  0.136614        1.0   \n",
       "\n",
       "    prob_3_sum  actual  accurate  precision_at_3  \n",
       "0     0.973232       3      True            1.00  \n",
       "1     0.831346       0     False            0.33  \n",
       "2     0.939527       0      True            1.00  \n",
       "3     0.832798       2      True            1.00  \n",
       "4     0.895311       3     False            0.50  \n",
       "5     0.917651       1      True            1.00  \n",
       "6     0.991035       0      True            1.00  \n",
       "7     0.988608       3      True            1.00  \n",
       "8     0.979643       2     False            0.33  \n",
       "9     0.999747       0      True            1.00  \n",
       "10    0.846486       4     False            0.50  \n",
       "11    0.871583       0      True            1.00  \n",
       "12    0.999244       2      True            1.00  \n",
       "13    0.998803       3     False            0.50  \n",
       "14    0.998418       1      True            1.00  \n",
       "15    0.881990       1      True            1.00  \n",
       "16    0.995578       4     False            0.00  \n",
       "17    0.951372       4      True            1.00  \n",
       "18    0.942232       0     False            0.50  \n",
       "19    0.999705       4      True            1.00  \n",
       "20    0.996114       3      True            1.00  \n",
       "21    0.781493       3     False            0.33  \n",
       "22    0.965157       2     False            0.50  \n",
       "23    0.981866       2      True            1.00  \n",
       "24    0.926429       4     False            0.50  \n",
       "25    0.999973       4      True            1.00  \n",
       "26    0.998947       0      True            1.00  \n",
       "27    0.999049       3      True            1.00  \n",
       "28    0.758986       4     False            0.00  \n",
       "29    0.999997       2      True            1.00  \n",
       "30    0.987758       1      True            1.00  \n",
       "31    0.992756       4      True            1.00  \n",
       "32    0.811022       4     False            0.00  \n",
       "33    0.993381       3     False            0.50  \n",
       "34    0.760307       2      True            1.00  \n",
       "35    0.987832       1     False            0.33  \n",
       "36    0.767437       4      True            1.00  \n",
       "37    0.999765       0      True            1.00  \n",
       "38    0.999934       4      True            1.00  \n",
       "39    0.939972       4     False            0.33  "
      ]
     },
     "execution_count": 45,
     "metadata": {},
     "output_type": "execute_result"
    }
   ],
   "source": [
    "res[:40]"
   ]
  },
  {
   "cell_type": "code",
   "execution_count": 46,
   "id": "0b89c75e-68d4-4350-8d43-57e9d43a4f72",
   "metadata": {
    "tags": []
   },
   "outputs": [
    {
     "data": {
      "text/plain": [
       "1.00    129\n",
       "0.50     39\n",
       "0.33     17\n",
       "0.00     15\n",
       "Name: precision_at_3, dtype: int64"
      ]
     },
     "execution_count": 46,
     "metadata": {},
     "output_type": "execute_result"
    }
   ],
   "source": [
    "res['precision_at_3'].value_counts()"
   ]
  },
  {
   "cell_type": "code",
   "execution_count": 30,
   "id": "9f2c8820-1c49-4084-a52e-235a3dcdc6a6",
   "metadata": {
    "tags": []
   },
   "outputs": [
    {
     "data": {
      "text/plain": [
       "<Axes: >"
      ]
     },
     "execution_count": 30,
     "metadata": {},
     "output_type": "execute_result"
    },
    {
     "data": {
      "image/png": "[encoded data removed]",
      "text/plain": [
       "<Figure size 640x480 with 1 Axes>"
      ]
     },
     "metadata": {},
     "output_type": "display_data"
    }
   ],
   "source": [
    "res[res['accurate']]['prob_sum'].hist(bins=20)"
   ]
  },
  {
   "cell_type": "code",
   "execution_count": 50,
   "id": "5a030acc-067f-49b2-9932-eb28aeddd6e9",
   "metadata": {
    "tags": []
   },
   "outputs": [
    {
     "data": {
      "text/plain": [
       "list"
      ]
     },
     "execution_count": 50,
     "metadata": {},
     "output_type": "execute_result"
    }
   ],
   "source": [
    "type()"
   ]
  },
  {
   "cell_type": "code",
   "execution_count": null,
   "id": "d99e0a94",
   "metadata": {
    "tags": []
   },
   "outputs": [],
   "source": [
    "predictions_as_ids = np.argsort(-test_predictions, 1)\n",
    "predictions_as_ids[:3]"
   ]
  },
  {
   "cell_type": "code",
   "execution_count": 28,
   "id": "f101ff2d",
   "metadata": {
    "tags": []
   },
   "outputs": [
    {
     "ename": "NameError",
     "evalue": "name 'predictions_as_ids' is not defined",
     "output_type": "error",
     "traceback": [
      "\u001b[0;31m---------------------------------------------------------------------------\u001b[0m",
      "\u001b[0;31mNameError\u001b[0m                                 Traceback (most recent call last)",
      "Cell \u001b[0;32mIn[28], line 1\u001b[0m\n\u001b[0;32m----> 1\u001b[0m predictions_as_answer_letters \u001b[38;5;241m=\u001b[39m np\u001b[38;5;241m.\u001b[39marray(\u001b[38;5;28mlist\u001b[39m(\u001b[38;5;124m'\u001b[39m\u001b[38;5;124mABCDE\u001b[39m\u001b[38;5;124m'\u001b[39m))[\u001b[43mpredictions_as_ids\u001b[49m]\n\u001b[1;32m      2\u001b[0m predictions_as_answer_letters[:\u001b[38;5;241m3\u001b[39m]\n",
      "\u001b[0;31mNameError\u001b[0m: name 'predictions_as_ids' is not defined"
     ]
    }
   ],
   "source": [
    "predictions_as_answer_letters = np.array(list('ABCDE'))[predictions_as_ids]\n",
    "predictions_as_answer_letters[:3]"
   ]
  },
  {
   "cell_type": "code",
   "execution_count": 19,
   "id": "591ead9b",
   "metadata": {},
   "outputs": [
    {
     "data": {
      "text/plain": [
       "['D B C', 'A E B', 'A C E']"
      ]
     },
     "execution_count": 19,
     "metadata": {},
     "output_type": "execute_result"
    }
   ],
   "source": [
    "predictions_as_string = df_test['prediction'] = [\n",
    "    ' '.join(row) for row in predictions_as_answer_letters[:, :3]\n",
    "]\n",
    "predictions_as_string[:3]"
   ]
  },
  {
   "cell_type": "code",
   "execution_count": null,
   "id": "9eb36aac-1eeb-4096-9bf6-afdd3f7bd0f0",
   "metadata": {},
   "outputs": [],
   "source": []
  }
 ],
 "metadata": {
  "kernelspec": {
   "display_name": "Python [conda env:pytorch]",
   "language": "python",
   "name": "conda-env-pytorch-py"
  },
  "language_info": {
   "codemirror_mode": {
    "name": "ipython",
    "version": 3
   },
   "file_extension": ".py",
   "mimetype": "text/x-python",
   "name": "python",
   "nbconvert_exporter": "python",
   "pygments_lexer": "ipython3",
   "version": "3.8.17"
  }
 },
 "nbformat": 4,
 "nbformat_minor": 5
}
