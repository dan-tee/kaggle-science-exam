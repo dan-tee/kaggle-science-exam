{
 "cells": [
  {
   "cell_type": "markdown",
   "id": "b84ed421-c478-4163-9ac6-190defda2e72",
   "metadata": {
    "tags": []
   },
   "source": [
    "# Train With Colbert"
   ]
  },
  {
   "cell_type": "code",
   "execution_count": 1,
   "id": "97593488-22fb-401c-9a0e-e1c601b0fc21",
   "metadata": {
    "tags": []
   },
   "outputs": [],
   "source": [
    "import os\n",
    "import glob\n",
    "import polars as pl\n",
    "import polars.selectors as cs\n",
    "import pandas as pd\n",
    "import pyarrow as pa\n",
    "import numpy as np\n",
    "import matplotlib.pyplot as plt\n",
    "import seaborn as sns\n",
    "from tqdm.notebook import tqdm\n",
    "from dataclasses import dataclass\n",
    "from typing import Optional, Union\n",
    "from scipy.special import softmax\n",
    "from pathlib import Path\n",
    "\n",
    "from colbert.infra import Run, RunConfig, ColBERTConfig\n",
    "from colbert.data import Queries\n",
    "from colbert import Indexer, Searcher\n",
    "\n",
    "import wandb\n",
    "import torch\n",
    "import evaluate\n",
    "from transformers import AutoTokenizer, AutoModelForMultipleChoice, Trainer, TrainingArguments, \\\n",
    "                         IntervalStrategy, get_linear_schedule_with_warmup\n",
    "from transformers.tokenization_utils_base import PreTrainedTokenizerBase, PaddingStrategy\n",
    "from transformers.utils.notebook import NotebookProgressCallback\n",
    "from datasets import Dataset # HuggingFace\n",
    "from torch.optim import AdamW\n",
    "from torch.optim.lr_scheduler import OneCycleLR"
   ]
  },
  {
   "cell_type": "code",
   "execution_count": 2,
   "id": "2d4d9e9e-81a7-4aab-8b01-4b9cbf4773db",
   "metadata": {
    "tags": []
   },
   "outputs": [],
   "source": [
    "pl.Config(fmt_str_lengths=2000);"
   ]
  },
  {
   "cell_type": "code",
   "execution_count": 3,
   "id": "60138f6d-28db-41bf-adcb-850c260e5a22",
   "metadata": {
    "tags": []
   },
   "outputs": [],
   "source": [
    "#!conda install -c conda-forge faiss-gpu -y"
   ]
  },
  {
   "cell_type": "code",
   "execution_count": 4,
   "id": "206053ff-2baa-487e-8226-2a0e664266e2",
   "metadata": {
    "tags": []
   },
   "outputs": [
    {
     "data": {
      "text/plain": [
       "((7649, 8),\n",
       " array(['question', 'correct', 'incorrect_1', 'incorrect_2', 'incorrect_3',\n",
       "        'incorrect_4', 'title', 'section_title'], dtype='<U13'))"
      ]
     },
     "execution_count": 4,
     "metadata": {},
     "output_type": "execute_result"
    }
   ],
   "source": [
    "dfs = []\n",
    "folder_path = './data/daniel_train/v_1/*'\n",
    "columns = ['question', 'correct', 'incorrect_1', 'incorrect_2', 'incorrect_3', 'incorrect_4', 'title', 'section_title']\n",
    "\n",
    "for csv_file in glob.glob(folder_path):\n",
    "    df = pl.read_csv(csv_file)\n",
    "    dfs.append(df[columns])\n",
    "\n",
    "train_raw = pl.concat(dfs)\\\n",
    "              .filter(pl.col('question').is_not_null())\n",
    "train_raw.shape, np.array(train_raw.columns)"
   ]
  },
  {
   "cell_type": "code",
   "execution_count": 5,
   "id": "43bdc699-3447-464c-8759-8879acd67280",
   "metadata": {
    "tags": []
   },
   "outputs": [],
   "source": [
    "# train_raw.write_parquet('./data/daniel_train/v_1_combined/daniel_train_v_1.parquet')"
   ]
  },
  {
   "cell_type": "code",
   "execution_count": 6,
   "id": "d1207aec-ede1-4a80-ba91-be9048923231",
   "metadata": {
    "tags": []
   },
   "outputs": [
    {
     "name": "stdout",
     "output_type": "stream",
     "text": [
      "7149 500\n"
     ]
    }
   ],
   "source": [
    "choices_np = train_raw[['correct', 'incorrect_1', 'incorrect_2', 'incorrect_3', 'incorrect_4']].to_numpy()\n",
    "\n",
    "n_rows, n_cols = choices_np.shape\n",
    "shuffled_indices = np.array([np.random.permutation(n_cols) for _ in range(n_rows)])\n",
    "shuffled_data = np.take_along_axis(choices_np, shuffled_indices, axis=1)\n",
    "correct_positions = np.argmax(shuffled_data == choices_np[:, 0][:, np.newaxis], axis=1)\n",
    "\n",
    "answer_map = np.array(['A', 'B', 'C', 'D', 'E'])\n",
    "answers = answer_map[correct_positions]\n",
    "\n",
    "choices = pl.DataFrame({\n",
    "    'A': shuffled_data[:, 0].astype(str),\n",
    "    'B': shuffled_data[:, 1].astype(str),\n",
    "    'C': shuffled_data[:, 2].astype(str),\n",
    "    'D': shuffled_data[:, 3].astype(str),\n",
    "    'E': shuffled_data[:, 4].astype(str),\n",
    "    'answer': answers\n",
    "    },\n",
    "    [(col, pl.Utf8) for col in ['A', 'B', 'C', 'D', 'E', 'answer']]\n",
    ")\n",
    "\n",
    "train = train_raw[['question','title', 'section_title']].with_columns(choices)\n",
    "\n",
    "n_test2 = 500\n",
    "test2 = train[train.shape[0] - n_test2:]\n",
    "train = train[:train.shape[0] - n_test2]\n",
    "print(train.shape[0], test2.shape[0])"
   ]
  },
  {
   "cell_type": "code",
   "execution_count": 7,
   "id": "b8aa9a52-893e-49dd-8b92-fa961c50c330",
   "metadata": {
    "tags": []
   },
   "outputs": [
    {
     "data": {
      "text/plain": [
       "((5518, 8),\n",
       " (500, 8),\n",
       " ['question', 'A', 'C', 'B', 'D', 'E', 'answer', 'wikipedia_excerpt'])"
      ]
     },
     "execution_count": 7,
     "metadata": {},
     "output_type": "execute_result"
    }
   ],
   "source": [
    "train_osmu = pl.read_csv('./data/6000_wiki_en_sci_questions_with_excerpts.csv') \\\n",
    "               .filter(pl.col('A').is_not_null())\n",
    "train_osmu = train_osmu.rename({'prompt': 'question'})\n",
    "\n",
    "test_osmu = train_osmu[train_osmu.shape[0]- n_test2:]\n",
    "train_osmu = train_osmu[:train_osmu.shape[0]- n_test2]\n",
    "train_osmu.shape, test_osmu.shape, train_osmu.columns"
   ]
  },
  {
   "cell_type": "code",
   "execution_count": 8,
   "id": "803bdf2d-6242-4c72-9c92-d4f90e2f63b4",
   "metadata": {
    "tags": []
   },
   "outputs": [
    {
     "data": {
      "text/plain": [
       "['question', 'A', 'B', 'C', 'D', 'E', 'answer']"
      ]
     },
     "execution_count": 8,
     "metadata": {},
     "output_type": "execute_result"
    }
   ],
   "source": [
    "test = pl.read_csv('data/train.csv')\n",
    "test = test.rename({'prompt': 'question'})\n",
    "test = test.drop(columns=\"id\")\n",
    "test.columns"
   ]
  },
  {
   "cell_type": "markdown",
   "id": "bc4d7781-4310-4cfc-8ef3-9fc50ea3c4a4",
   "metadata": {
    "tags": []
   },
   "source": [
    "## Retrieve Wiki Context via ColBERT"
   ]
  },
  {
   "cell_type": "code",
   "execution_count": 16,
   "id": "7c8f318e-ba0a-4b2e-923e-51bf0d152e74",
   "metadata": {
    "tags": []
   },
   "outputs": [
    {
     "data": {
      "text/plain": [
       "['passage_id', 'section_id', 'title', 'section_title', 'passage_text']"
      ]
     },
     "execution_count": 16,
     "metadata": {},
     "output_type": "execute_result"
    }
   ],
   "source": [
    "max_words = 100\n",
    "nbits = 1\n",
    "colbert_path = Path(f'./data/colbert_max_words_{max_words}_nbits_{nbits}-v4')\n",
    "wiki_passages = pl.read_parquet(colbert_path/f'wiki_passages.parquet')\n",
    "wiki_passages.columns"
   ]
  },
  {
   "cell_type": "code",
   "execution_count": 17,
   "id": "4e420b8d-0936-4531-a8ff-be8ac44cdf1d",
   "metadata": {
    "tags": []
   },
   "outputs": [
    {
     "data": {
      "text/plain": [
       "100"
      ]
     },
     "execution_count": 17,
     "metadata": {},
     "output_type": "execute_result"
    }
   ],
   "source": [
    "word_counts = wiki_passages['passage_text'].str.split(' ').list.lengths()\n",
    "assert max_words == word_counts.max()\n",
    "word_counts.max()"
   ]
  },
  {
   "cell_type": "code",
   "execution_count": 18,
   "id": "086b8d15-7c58-4304-a61b-03ba85057199",
   "metadata": {
    "tags": []
   },
   "outputs": [
    {
     "data": {
      "image/png": "[encoded data removed]",
      "text/plain": [
       "<Figure size 600x300 with 1 Axes>"
      ]
     },
     "metadata": {},
     "output_type": "display_data"
    }
   ],
   "source": [
    "plt.figure(figsize=[6,3])\n",
    "sns.histplot(word_counts, binrange=[0, 150], bins=75)\n",
    "plt.title('Passages character length');"
   ]
  },
  {
   "cell_type": "code",
   "execution_count": 19,
   "id": "97bc9251-4b99-47be-bf46-02a8bb210b6c",
   "metadata": {
    "tags": []
   },
   "outputs": [],
   "source": [
    "n_results_per_question = 1\n",
    "\n",
    "#doc_maxlen = 160 # 512   # lenght in tokens\n",
    "#dim = 128 # 128 is max for BERT\n",
    "\n",
    "checkpoint = './checkpoints/colbertv2.0'\n",
    "\n",
    "indexer_name = f'colbert_index'\n",
    "#os.environ['COLBERT_LOAD_TORCH_EXTENSION_VERBOSE'] = 'True'\n",
    "\n",
    "config = ColBERTConfig(\n",
    "    #doc_maxlen=doc_maxlen,\n",
    "    nbits=nbits\n",
    "    #dim=dim\n",
    ")"
   ]
  },
  {
   "cell_type": "code",
   "execution_count": 20,
   "id": "dd0a46f3-2343-4a39-80cc-4fbd078fa162",
   "metadata": {
    "tags": []
   },
   "outputs": [],
   "source": [
    "# num_ctx_cols = 1\n",
    "# queries = test.with_row_count('qid')[['qid', 'question']]\n",
    "# queries = queries.with_columns(pl.col('question').str.replace_all('\\n', ' ')) \n",
    "# queries_file = './data/wiki_queries.tsv'\n",
    "# queries.write_csv(queries_file, separator='\\t', has_header=False)\n",
    "\n",
    "# c_queries = Queries(queries_file)\n",
    "\n",
    "# with Run().context(RunConfig(nranks=1,\n",
    "#                              index_root=str(colbert_path))):\n",
    "#     searcher = Searcher(index=indexer_name, \n",
    "#                         config=config,\n",
    "#                         collection=str(colbert_path/f'wiki_passages_{max_words}.tsv'))\n",
    "#     query = next(iter(c_queries.values()))\n",
    "#     result = searcher.search(query, k=n_results_per_question)\n",
    "#     match_ids, index, score = result"
   ]
  },
  {
   "cell_type": "code",
   "execution_count": 21,
   "id": "8929ebb8-16bd-453d-bc47-175248a0a010",
   "metadata": {
    "tags": []
   },
   "outputs": [],
   "source": [
    "def add_q_colbert_context(data):\n",
    "    num_ctx_cols = 1\n",
    "    queries = data.with_row_count('qid')[['qid', 'question']]\n",
    "    queries = queries.with_columns(pl.col('question').str.replace_all('\\n', ' ')) \n",
    "    queries_file = './data/wiki_queries.tsv'\n",
    "    queries.write_csv(queries_file, separator='\\t', has_header=False)\n",
    "\n",
    "    c_queries = Queries(queries_file)\n",
    "\n",
    "    searcher = Searcher(index=indexer_name, \n",
    "                        config=config,\n",
    "                        collection=str(colbert_path/f'wiki_passages_{max_words}.tsv'))\n",
    "    ranking = searcher.search_all(c_queries, k=n_results_per_question)\n",
    "\n",
    "    colbert_passage_ids = pl.DataFrame(pd.DataFrame(ranking.items()))\n",
    "    colbert_passage_ids = colbert_passage_ids \\\n",
    "        .lazy() \\\n",
    "        .select([pl.col(\"1\").list.get(i).list.get(0).alias(f\"wiki_ctx_{i+1}\").cast(pl.UInt32) for i in range(num_ctx_cols)]) \\\n",
    "        .collect()\n",
    "    \n",
    "    passages = wiki_passages[['passage_id', 'passage_text']]\n",
    "    data_p = data.with_columns(colbert_passage_ids)\n",
    "    for i in range(num_ctx_cols):\n",
    "        data_p = data_p.join(passages, how='left', left_on=f'wiki_ctx_{i+1}', right_on='passage_id', validate='m:1', suffix=f'_{i+1}')\n",
    "    return data_p"
   ]
  },
  {
   "cell_type": "code",
   "execution_count": 22,
   "id": "a03f59e8-5f99-44d5-ba14-4284c0e63cc1",
   "metadata": {
    "tags": []
   },
   "outputs": [],
   "source": [
    "a_to_e = ['A', 'B', 'C', 'D', 'E']\n",
    "score_col_prefix = 'answer_passage_score_'\n",
    "\n",
    "def add_answer_colbert_context(data):\n",
    "    n_results_per_question = 1\n",
    "    \n",
    "    for letter in a_to_e:\n",
    "        answer_queries = data.with_row_count('qid')[['qid', letter]]\n",
    "        answer_queries = answer_queries.with_columns(pl.col(letter).str.replace_all('\\n', ' ')) \n",
    "        queries_file = './data/wiki_queries.tsv'\n",
    "        answer_queries.write_csv(queries_file, separator='\\t', has_header=False)\n",
    "\n",
    "        col_a_queries = Queries(queries_file)\n",
    "\n",
    "        searcher = Searcher(index=indexer_name, \n",
    "                            config=config,\n",
    "                            collection=str(colbert_path/f'wiki_passages_{max_words}.tsv'))\n",
    "        ranking = searcher.search_all(col_a_queries, k=n_results_per_question)\n",
    "\n",
    "        ranking = pl.DataFrame(pd.DataFrame(ranking.items()))\n",
    "        answer_passage_ids = ranking['1'].list.get(0).list.get(0)\n",
    "        answer_scores = ranking['1'].list.get(0).list.get(2)\n",
    "\n",
    "        id_col_name = f'passage_id_{letter}'\n",
    "        score_col_name = f'{score_col_prefix}{letter}'\n",
    "        data = data.with_columns(**{\n",
    "            id_col_name: answer_passage_ids.cast(pl.UInt32),\n",
    "            score_col_name: answer_scores\n",
    "        })\n",
    "\n",
    "        passages = wiki_passages[['passage_id', 'passage_text']]\n",
    "        data = data.join(passages, how='left', left_on=id_col_name, right_on='passage_id', validate='m:1', suffix=f'_{letter}')\n",
    "    return data\n",
    "    \n",
    "    \n",
    "def add_best_answer(data):\n",
    "    best_answer_matches = []\n",
    "    best_answer_letters = []\n",
    "    highscores = []\n",
    "    for row in data.iter_rows(named=True):\n",
    "\n",
    "        highest_score = 0\n",
    "        highscore_letter = None\n",
    "        for letter in a_to_e:\n",
    "            score_col_name = f'{score_col_prefix}{letter}'\n",
    "            if row[score_col_name] > highest_score:\n",
    "                highest_score = row[score_col_name]\n",
    "                highscore_letter = letter\n",
    "\n",
    "        id_col_name = f'passage_text_{highscore_letter}'\n",
    "        best_answer_matches.append(row[id_col_name])\n",
    "        best_answer_letters.append(highscore_letter)\n",
    "        highscores.append(highest_score)\n",
    "\n",
    "    return data.with_columns(best_answer_match=pl.Series(best_answer_matches),\n",
    "                             answer_score=pl.Series(highscores),\n",
    "                             best_answer_letter=pl.Series(best_answer_letters))"
   ]
  },
  {
   "cell_type": "code",
   "execution_count": 23,
   "id": "5ef0008d-09c3-4b9c-b858-6ff6e42fe9ed",
   "metadata": {
    "tags": []
   },
   "outputs": [],
   "source": [
    "rerun = False\n",
    "\n",
    "enriched_cache_path = Path(f'./data/qa_context_{max_words}')\n",
    "os.makedirs(enriched_cache_path, exist_ok=True)\n",
    "\n",
    "def cached_add_q_colbert_context(data, file_name):\n",
    "    file_path = enriched_cache_path/f'{file_name}.parquet'\n",
    "    if file_path.exists() and not rerun:\n",
    "        return pl.read_parquet(file_path)\n",
    "    else:\n",
    "        with Run().context(RunConfig(nranks=1,\n",
    "                                    index_root=str(colbert_path))):\n",
    "            with_context = add_q_colbert_context(data)\n",
    "            with_context = add_answer_colbert_context(with_context)\n",
    "        with_context = add_best_answer(with_context)\n",
    "        torch.cuda.empty_cache()\n",
    "        with_context.write_parquet(file_path)\n",
    "        return with_context\n",
    "    \n",
    "train_p = cached_add_q_colbert_context(train, 'train')\n",
    "train_osmu_p = cached_add_q_colbert_context(train_osmu, 'train_osmu')\n",
    "test_p = cached_add_q_colbert_context(test, 'test')\n",
    "test2_p = cached_add_q_colbert_context(test2, 'test2')\n",
    "test_osmu_p = cached_add_q_colbert_context(test_osmu, 'test_osmu')"
   ]
  },
  {
   "cell_type": "code",
   "execution_count": 24,
   "id": "840aa5bc-83af-4d47-9b05-483868459f7c",
   "metadata": {
    "tags": []
   },
   "outputs": [
    {
     "data": {
      "text/html": [
       "<div><style>\n",
       ".dataframe > thead > tr > th,\n",
       ".dataframe > tbody > tr > td {\n",
       "  text-align: right;\n",
       "}\n",
       "</style>\n",
       "<small>shape: (1, 27)</small><table border=\"1\" class=\"dataframe\"><thead><tr><th>question</th><th>A</th><th>B</th><th>C</th><th>D</th><th>E</th><th>answer</th><th>wiki_ctx_1</th><th>passage_text</th><th>passage_id_A</th><th>answer_passage_score_A</th><th>passage_text_A</th><th>passage_id_B</th><th>answer_passage_score_B</th><th>passage_text_B</th><th>passage_id_C</th><th>answer_passage_score_C</th><th>passage_text_C</th><th>passage_id_D</th><th>answer_passage_score_D</th><th>passage_text_D</th><th>passage_id_E</th><th>answer_passage_score_E</th><th>passage_text_E</th><th>best_answer_match</th><th>answer_score</th><th>best_answer_letter</th></tr><tr><td>str</td><td>str</td><td>str</td><td>str</td><td>str</td><td>str</td><td>str</td><td>u32</td><td>str</td><td>u32</td><td>f64</td><td>str</td><td>u32</td><td>f64</td><td>str</td><td>u32</td><td>f64</td><td>str</td><td>u32</td><td>f64</td><td>str</td><td>u32</td><td>f64</td><td>str</td><td>str</td><td>f64</td><td>str</td></tr></thead><tbody><tr><td>&quot;Which of the following statements accurately desc…</td><td>&quot;MOND is a theory that reduces the observed missin…</td><td>&quot;MOND is a theory that increases the discrepancy b…</td><td>&quot;MOND is a theory that explains the missing baryon…</td><td>&quot;MOND is a theory that reduces the discrepancy bet…</td><td>&quot;MOND is a theory that eliminates the observed mis…</td><td>&quot;D&quot;</td><td>2321494</td><td>&quot;Vacuum energy and zero-point energy: In order to …</td><td>2321494</td><td>22.71875</td><td>&quot;Vacuum energy and zero-point energy: In order to …</td><td>2321494</td><td>25.0</td><td>&quot;Vacuum energy and zero-point energy: In order to …</td><td>2321494</td><td>22.734375</td><td>&quot;Vacuum energy and zero-point energy: In order to …</td><td>2321494</td><td>26.0625</td><td>&quot;Vacuum energy and zero-point energy: In order to …</td><td>2321494</td><td>22.15625</td><td>&quot;Vacuum energy and zero-point energy: In order to …</td><td>&quot;Vacuum energy and zero-point energy: In order to …</td><td>26.0625</td><td>&quot;D&quot;</td></tr></tbody></table></div>"
      ],
      "text/plain": [
       "shape: (1, 27)\n",
       "┌───────────┬───────────┬───────────┬───────────┬───┬───────────┬───────────┬───────────┬──────────┐\n",
       "│ question  ┆ A         ┆ B         ┆ C         ┆ … ┆ passage_t ┆ best_answ ┆ answer_sc ┆ best_ans │\n",
       "│ ---       ┆ ---       ┆ ---       ┆ ---       ┆   ┆ ext_E     ┆ er_match  ┆ ore       ┆ wer_lett │\n",
       "│ str       ┆ str       ┆ str       ┆ str       ┆   ┆ ---       ┆ ---       ┆ ---       ┆ er       │\n",
       "│           ┆           ┆           ┆           ┆   ┆ str       ┆ str       ┆ f64       ┆ ---      │\n",
       "│           ┆           ┆           ┆           ┆   ┆           ┆           ┆           ┆ str      │\n",
       "╞═══════════╪═══════════╪═══════════╪═══════════╪═══╪═══════════╪═══════════╪═══════════╪══════════╡\n",
       "│ Which of  ┆ MOND is a ┆ MOND is a ┆ MOND is a ┆ … ┆ Vacuum    ┆ Vacuum    ┆ 26.0625   ┆ D        │\n",
       "│ the       ┆ theory    ┆ theory    ┆ theory    ┆   ┆ energy    ┆ energy    ┆           ┆          │\n",
       "│ following ┆ that      ┆ that      ┆ that      ┆   ┆ and zero- ┆ and zero- ┆           ┆          │\n",
       "│ statement ┆ reduces   ┆ increases ┆ explains  ┆   ┆ point     ┆ point     ┆           ┆          │\n",
       "│ s accurat ┆ the       ┆ the discr ┆ the       ┆   ┆ energy:   ┆ energy:   ┆           ┆          │\n",
       "│ ely       ┆ observed  ┆ epancy    ┆ missing   ┆   ┆ In order  ┆ In order  ┆           ┆          │\n",
       "│ descr…    ┆ missing…  ┆ be…       ┆ baryoni…  ┆   ┆ to e…     ┆ to e…     ┆           ┆          │\n",
       "└───────────┴───────────┴───────────┴───────────┴───┴───────────┴───────────┴───────────┴──────────┘"
      ]
     },
     "metadata": {},
     "output_type": "display_data"
    }
   ],
   "source": [
    "with pl.Config(fmt_str_lengths=50):\n",
    "    display(test_p[0])"
   ]
  },
  {
   "cell_type": "code",
   "execution_count": 25,
   "id": "45407120-ba68-45cc-9d45-7825d6c4d08a",
   "metadata": {
    "tags": []
   },
   "outputs": [],
   "source": [
    "# test_osmu_p['passage_text'].str.split(' ').list.lengths().max()"
   ]
  },
  {
   "cell_type": "markdown",
   "id": "f4f23d30-37e3-4cb6-9b19-bc929f86af41",
   "metadata": {},
   "source": [
    "## Prepare Train and Test for DeBERTa"
   ]
  },
  {
   "cell_type": "code",
   "execution_count": 26,
   "id": "e24fff00-e749-4daf-82c2-a10fbf3d1ae0",
   "metadata": {
    "tags": []
   },
   "outputs": [
    {
     "name": "stderr",
     "output_type": "stream",
     "text": [
      "Special tokens have been added in the vocabulary, make sure the associated word embeddings are fine-tuned or trained.\n",
      "/home/daniel/anaconda3/envs/pytorch/lib/python3.8/site-packages/transformers/convert_slow_tokenizer.py:470: UserWarning: The sentencepiece tokenizer that you are converting to a fast tokenizer uses the byte fallback option which is not implemented in the fast tokenizers. In practice this means that the fast version of the tokenizer can produce unknown tokens whereas the sentencepiece version would have converted these unknown tokens into a sequence of byte tokens matching the original piece of text.\n",
      "  warnings.warn(\n",
      "Special tokens have been added in the vocabulary, make sure the associated word embeddings are fine-tuned or trained.\n"
     ]
    }
   ],
   "source": [
    "deberta_v3_large = 'microsoft/deberta-v3-large'\n",
    "tokenizer = AutoTokenizer.from_pretrained(deberta_v3_large)"
   ]
  },
  {
   "cell_type": "code",
   "execution_count": 27,
   "id": "62ac41ab-9963-4c50-858c-3787c620073c",
   "metadata": {
    "tags": []
   },
   "outputs": [],
   "source": [
    "max_length = 625\n",
    "\n",
    "option_to_index = {option: idx for idx, option in enumerate('ABCDE')}\n",
    "index_to_option = {v: k for k,v in option_to_index.items()}\n",
    "\n",
    "@dataclass\n",
    "class DataCollatorForMultipleChoice:\n",
    "    tokenizer: PreTrainedTokenizerBase\n",
    "    padding: Union[bool, str, PaddingStrategy] = True\n",
    "    max_length: Optional[int] = None\n",
    "\n",
    "    \n",
    "    def __call__(self, input_batch):\n",
    "        # input_batch is list of samples, choices, tokens\n",
    "        additional_cols = set(input_batch[0].keys()) - set(['input_ids', 'token_type_ids', 'attention_mask', 'label'])\n",
    "        if len(additional_cols) > 0:\n",
    "            print(f'{additional_cols=}')\n",
    "        \n",
    "        label_name = None\n",
    "        if 'label' in input_batch[0].keys():\n",
    "            label_name = 'label' \n",
    "            labels = [feature.pop(label_name) for feature in input_batch]\n",
    "        batch_size = len(input_batch)\n",
    "        num_choices = len(input_batch[0]['input_ids'])\n",
    "        flattened_input = [\n",
    "            [{k: v[i] for k, v in sample.items()} for i in range(num_choices)] for sample in input_batch\n",
    "        ]\n",
    "        flattened_input = sum(flattened_input, [])\n",
    "        \n",
    "        batch = self.tokenizer.pad(\n",
    "            flattened_input,\n",
    "            padding=self.padding,\n",
    "            max_length=self.max_length,\n",
    "            return_tensors='pt',\n",
    "        )\n",
    "        \n",
    "        # batch.shape = (n_samples, n_choices, n_tokens)\n",
    "        batch = {k: v.view(batch_size, num_choices, -1) for k, v in batch.items()}\n",
    "        if label_name is not None:\n",
    "            batch['labels'] = torch.tensor(labels, dtype=torch.int64)\n",
    "        #print(np.array(batch['input_ids']).shape)\n",
    "        return batch"
   ]
  },
  {
   "cell_type": "code",
   "execution_count": 28,
   "id": "59284fda-4ec7-4f75-aaae-84fa8b5e4385",
   "metadata": {
    "tags": []
   },
   "outputs": [],
   "source": [
    "def preprocess(example):\n",
    "    # adding the wikipedia page as context for the question by adding it after a [SEP] token to the question.\n",
    "    first_sentence = [f\"\"\"{example['question']}\n",
    "[SEP]{example['passage_text']}\n",
    "[SEP]{example['best_answer_letter']}\n",
    "[SEP]{example['best_answer_match']}\n",
    "\"\"\"] * 5\n",
    "    second_sentences = [example[option] for option in 'ABCDE']\n",
    "    tokenized_example = tokenizer(first_sentence, second_sentences, truncation='only_first', max_length=max_length)\n",
    "    if 'answer' in example.keys():\n",
    "        tokenized_example['label'] = option_to_index[example['answer']]\n",
    "    \n",
    "    return tokenized_example\n",
    "\n",
    "def tokenized_dataset(data):\n",
    "    columns_to_keep = set(['input_ids', 'token_type_ids', 'attention_mask', 'label'])\n",
    "    dataset = Dataset.from_pandas(data.to_pandas(), preserve_index=False)\n",
    "    col_to_remove = set(data.columns) - columns_to_keep\n",
    "    tokenized = dataset.map(preprocess, remove_columns=col_to_remove)\n",
    "    return tokenized"
   ]
  },
  {
   "cell_type": "code",
   "execution_count": 29,
   "id": "89748f08-ce79-483f-a60f-157d7e41e43f",
   "metadata": {
    "tags": []
   },
   "outputs": [
    {
     "data": {
      "application/vnd.jupyter.widget-view+json": {
       "model_id": "430af63c26e2431484be79ed25dad242",
       "version_major": 2,
       "version_minor": 0
      },
      "text/plain": [
       "Map:   0%|          | 0/200 [00:00<?, ? examples/s]"
      ]
     },
     "metadata": {},
     "output_type": "display_data"
    },
    {
     "data": {
      "application/vnd.jupyter.widget-view+json": {
       "model_id": "668f8b0d94ce404392f35dd037d54b23",
       "version_major": 2,
       "version_minor": 0
      },
      "text/plain": [
       "Map:   0%|          | 0/500 [00:00<?, ? examples/s]"
      ]
     },
     "metadata": {},
     "output_type": "display_data"
    },
    {
     "data": {
      "application/vnd.jupyter.widget-view+json": {
       "model_id": "6fbbaf1fc6f549a4ab8cffd382384eb3",
       "version_major": 2,
       "version_minor": 0
      },
      "text/plain": [
       "Map:   0%|          | 0/500 [00:00<?, ? examples/s]"
      ]
     },
     "metadata": {},
     "output_type": "display_data"
    }
   ],
   "source": [
    "# tokenized_train = tokenized_dataset(train_p)\n",
    "# tokenized_train_osmu = tokenized_dataset(train_osmu_p)\n",
    "tokenized_test = tokenized_dataset(test_p)\n",
    "tokenized_test2 = tokenized_dataset(test2_p)\n",
    "tokenized_test_osmu = tokenized_dataset(test_osmu_p)"
   ]
  },
  {
   "cell_type": "code",
   "execution_count": 30,
   "id": "08314af6-5991-4c1c-9859-377f6ba1d5e7",
   "metadata": {},
   "outputs": [
    {
     "data": {
      "application/vnd.jupyter.widget-view+json": {
       "model_id": "e0317fd42cfa48139cb60b085ae1e35e",
       "version_major": 2,
       "version_minor": 0
      },
      "text/plain": [
       "Map:   0%|          | 0/12667 [00:00<?, ? examples/s]"
      ]
     },
     "metadata": {},
     "output_type": "display_data"
    }
   ],
   "source": [
    "cols = ['question', 'A', 'B', 'C', 'D', 'E', 'answer', 'passage_text', 'best_answer_match', 'best_answer_letter']\n",
    "train_comb = pl.concat([\n",
    "    train_p[cols],\n",
    "    train_osmu_p[cols]\n",
    "])\n",
    "tokenized_train_comb = tokenized_dataset(train_comb)"
   ]
  },
  {
   "cell_type": "code",
   "execution_count": 31,
   "id": "f6b8390d-b1c8-4a19-9d2b-99131e0bda56",
   "metadata": {
    "tags": []
   },
   "outputs": [
    {
     "data": {
      "image/png": "[encoded data removed]",
      "text/plain": [
       "<Figure size 600x300 with 1 Axes>"
      ]
     },
     "metadata": {},
     "output_type": "display_data"
    }
   ],
   "source": [
    "def plot_length_hist(tokenized_data):\n",
    "    length_list = []\n",
    "    for sample in tokenized_data['input_ids']:\n",
    "        for option in sample:\n",
    "            length_list.append(len(option))\n",
    "\n",
    "    plt.figure(figsize=[6,3])\n",
    "    pd.Series(length_list).hist(bins=100)\n",
    "    \n",
    "plot_length_hist(tokenized_train_comb)"
   ]
  },
  {
   "cell_type": "markdown",
   "id": "242a4727-fea3-4135-88dd-5b7e7fa0c473",
   "metadata": {
    "tags": []
   },
   "source": [
    "## Train DeBERTa"
   ]
  },
  {
   "cell_type": "code",
   "execution_count": 32,
   "id": "5cd72562-8f5c-42f2-a1a4-124e38c66ac4",
   "metadata": {
    "tags": []
   },
   "outputs": [],
   "source": [
    "def precision_at_k(predictions, actuals, k=3):        \n",
    "    if isinstance(actuals, list):\n",
    "        actuals = np.array(actuals)\n",
    "        \n",
    "    found_at = np.where(predictions == actuals.reshape(-1, 1))\n",
    "    # found_at is a tuple with the array of found indices in the second position\n",
    "    score = 1 / (1 + found_at[1])\n",
    "    score[score < 1/k] = 0\n",
    "    return score\n",
    "\n",
    "def mean_avg_precision_at_k(predictions, actual, k=3):\n",
    "    n = predictions.shape[0]\n",
    "    row_precision = precision_at_k(predictions, actual)\n",
    "    return row_precision.sum()/n\n",
    "\n",
    "acc_metric = evaluate.load(\"accuracy\")\n",
    "def compute_metrics(eval_pred):\n",
    "    predictions, labels = eval_pred\n",
    "    predictions = np.flip(predictions.argsort(axis=1), axis=1)\n",
    "    accuracy = acc_metric.compute(predictions=predictions[:,0], references=labels)['accuracy']\n",
    "    map_at_3 = mean_avg_precision_at_k(predictions, labels)\n",
    "    return {\n",
    "        'accuracy': accuracy,\n",
    "        'map_at_3': round(map_at_3, 3)\n",
    "    }"
   ]
  },
  {
   "cell_type": "code",
   "execution_count": 33,
   "id": "29f2a1a5-1f9a-4c0a-9738-ce23c15c7f59",
   "metadata": {
    "tags": []
   },
   "outputs": [
    {
     "name": "stderr",
     "output_type": "stream",
     "text": [
      "Some weights of DebertaV2ForMultipleChoice were not initialized from the model checkpoint at microsoft/deberta-v3-large and are newly initialized: ['pooler.dense.weight', 'pooler.dense.bias', 'classifier.weight', 'classifier.bias']\n",
      "You should probably TRAIN this model on a down-stream task to be able to use it for predictions and inference.\n",
      "Failed to detect the name of this notebook, you can set it manually with the WANDB_NOTEBOOK_NAME environment variable to enable code saving.\n",
      "\u001b[34m\u001b[1mwandb\u001b[0m: Currently logged in as: \u001b[33mdatadan\u001b[0m. Use \u001b[1m`wandb login --relogin`\u001b[0m to force relogin\n"
     ]
    },
    {
     "data": {
      "text/html": [
       "wandb version 0.15.10 is available!  To upgrade, please run:\n",
       " $ pip install wandb --upgrade"
      ],
      "text/plain": [
       "<IPython.core.display.HTML object>"
      ]
     },
     "metadata": {},
     "output_type": "display_data"
    },
    {
     "data": {
      "text/html": [
       "Tracking run with wandb version 0.15.9"
      ],
      "text/plain": [
       "<IPython.core.display.HTML object>"
      ]
     },
     "metadata": {},
     "output_type": "display_data"
    },
    {
     "data": {
      "text/html": [
       "Run data is saved locally in <code>/home/daniel/code/kaggle-science-exam/wandb/run-20230915_090112-i3ulkxaa</code>"
      ],
      "text/plain": [
       "<IPython.core.display.HTML object>"
      ]
     },
     "metadata": {},
     "output_type": "display_data"
    },
    {
     "data": {
      "text/html": [
       "Syncing run <strong><a href='https://wandb.ai/datadan/huggingface/runs/i3ulkxaa' target=\"_blank\">q_and_a_v4</a></strong> to <a href='https://wandb.ai/datadan/huggingface' target=\"_blank\">Weights & Biases</a> (<a href='https://wandb.me/run' target=\"_blank\">docs</a>)<br/>"
      ],
      "text/plain": [
       "<IPython.core.display.HTML object>"
      ]
     },
     "metadata": {},
     "output_type": "display_data"
    },
    {
     "data": {
      "text/html": [
       " View project at <a href='https://wandb.ai/datadan/huggingface' target=\"_blank\">https://wandb.ai/datadan/huggingface</a>"
      ],
      "text/plain": [
       "<IPython.core.display.HTML object>"
      ]
     },
     "metadata": {},
     "output_type": "display_data"
    },
    {
     "data": {
      "text/html": [
       " View run at <a href='https://wandb.ai/datadan/huggingface/runs/i3ulkxaa' target=\"_blank\">https://wandb.ai/datadan/huggingface/runs/i3ulkxaa</a>"
      ],
      "text/plain": [
       "<IPython.core.display.HTML object>"
      ]
     },
     "metadata": {},
     "output_type": "display_data"
    },
    {
     "name": "stderr",
     "output_type": "stream",
     "text": [
      "You're using a DebertaV2TokenizerFast tokenizer. Please note that with a fast tokenizer, using the `__call__` method is faster than using a method to encode the text followed by a call to the `pad` method to get a padded encoding.\n",
      "/home/daniel/anaconda3/envs/pytorch/lib/python3.8/site-packages/transformers/tokenization_utils_base.py:2436: UserWarning: `max_length` is ignored when `padding`=`True` and there is no truncation strategy. To pad to max length, use `padding='max_length'`.\n",
      "  warnings.warn(\n",
      "/home/daniel/anaconda3/envs/pytorch/lib/python3.8/site-packages/transformers/tokenization_utils_base.py:2436: UserWarning: `max_length` is ignored when `padding`=`True` and there is no truncation strategy. To pad to max length, use `padding='max_length'`.\n",
      "  warnings.warn(\n",
      "/home/daniel/anaconda3/envs/pytorch/lib/python3.8/site-packages/transformers/tokenization_utils_base.py:2436: UserWarning: `max_length` is ignored when `padding`=`True` and there is no truncation strategy. To pad to max length, use `padding='max_length'`.\n",
      "  warnings.warn(\n",
      "/home/daniel/anaconda3/envs/pytorch/lib/python3.8/site-packages/transformers/tokenization_utils_base.py:2436: UserWarning: `max_length` is ignored when `padding`=`True` and there is no truncation strategy. To pad to max length, use `padding='max_length'`.\n",
      "  warnings.warn(\n",
      "/home/daniel/anaconda3/envs/pytorch/lib/python3.8/site-packages/transformers/tokenization_utils_base.py:2436: UserWarning: `max_length` is ignored when `padding`=`True` and there is no truncation strategy. To pad to max length, use `padding='max_length'`.\n",
      "  warnings.warn(\n",
      "/home/daniel/anaconda3/envs/pytorch/lib/python3.8/site-packages/transformers/tokenization_utils_base.py:2436: UserWarning: `max_length` is ignored when `padding`=`True` and there is no truncation strategy. To pad to max length, use `padding='max_length'`.\n",
      "  warnings.warn(\n",
      "/home/daniel/anaconda3/envs/pytorch/lib/python3.8/site-packages/transformers/tokenization_utils_base.py:2436: UserWarning: `max_length` is ignored when `padding`=`True` and there is no truncation strategy. To pad to max length, use `padding='max_length'`.\n",
      "  warnings.warn(\n",
      "/home/daniel/anaconda3/envs/pytorch/lib/python3.8/site-packages/transformers/tokenization_utils_base.py:2436: UserWarning: `max_length` is ignored when `padding`=`True` and there is no truncation strategy. To pad to max length, use `padding='max_length'`.\n",
      "  warnings.warn(\n",
      "/home/daniel/anaconda3/envs/pytorch/lib/python3.8/site-packages/transformers/tokenization_utils_base.py:2436: UserWarning: `max_length` is ignored when `padding`=`True` and there is no truncation strategy. To pad to max length, use `padding='max_length'`.\n",
      "  warnings.warn(\n",
      "/home/daniel/anaconda3/envs/pytorch/lib/python3.8/site-packages/transformers/tokenization_utils_base.py:2436: UserWarning: `max_length` is ignored when `padding`=`True` and there is no truncation strategy. To pad to max length, use `padding='max_length'`.\n",
      "  warnings.warn(\n",
      "/home/daniel/anaconda3/envs/pytorch/lib/python3.8/site-packages/transformers/tokenization_utils_base.py:2436: UserWarning: `max_length` is ignored when `padding`=`True` and there is no truncation strategy. To pad to max length, use `padding='max_length'`.\n",
      "  warnings.warn(\n",
      "/home/daniel/anaconda3/envs/pytorch/lib/python3.8/site-packages/transformers/tokenization_utils_base.py:2436: UserWarning: `max_length` is ignored when `padding`=`True` and there is no truncation strategy. To pad to max length, use `padding='max_length'`.\n",
      "  warnings.warn(\n",
      "/home/daniel/anaconda3/envs/pytorch/lib/python3.8/site-packages/transformers/tokenization_utils_base.py:2436: UserWarning: `max_length` is ignored when `padding`=`True` and there is no truncation strategy. To pad to max length, use `padding='max_length'`.\n",
      "  warnings.warn(\n",
      "/home/daniel/anaconda3/envs/pytorch/lib/python3.8/site-packages/transformers/tokenization_utils_base.py:2436: UserWarning: `max_length` is ignored when `padding`=`True` and there is no truncation strategy. To pad to max length, use `padding='max_length'`.\n",
      "  warnings.warn(\n",
      "/home/daniel/anaconda3/envs/pytorch/lib/python3.8/site-packages/transformers/tokenization_utils_base.py:2436: UserWarning: `max_length` is ignored when `padding`=`True` and there is no truncation strategy. To pad to max length, use `padding='max_length'`.\n",
      "  warnings.warn(\n",
      "/home/daniel/anaconda3/envs/pytorch/lib/python3.8/site-packages/transformers/tokenization_utils_base.py:2436: UserWarning: `max_length` is ignored when `padding`=`True` and there is no truncation strategy. To pad to max length, use `padding='max_length'`.\n",
      "  warnings.warn(\n",
      "/home/daniel/anaconda3/envs/pytorch/lib/python3.8/site-packages/transformers/tokenization_utils_base.py:2436: UserWarning: `max_length` is ignored when `padding`=`True` and there is no truncation strategy. To pad to max length, use `padding='max_length'`.\n",
      "  warnings.warn(\n"
     ]
    },
    {
     "ename": "KeyboardInterrupt",
     "evalue": "",
     "output_type": "error",
     "traceback": [
      "\u001b[0;31m---------------------------------------------------------------------------\u001b[0m",
      "\u001b[0;31mKeyboardInterrupt\u001b[0m                         Traceback (most recent call last)",
      "Cell \u001b[0;32mIn[33], line 63\u001b[0m\n\u001b[1;32m     61\u001b[0m \u001b[38;5;66;03m# needed when there are multiple eval datasets\u001b[39;00m\n\u001b[1;32m     62\u001b[0m trainer\u001b[38;5;241m.\u001b[39mremove_callback(NotebookProgressCallback)\n\u001b[0;32m---> 63\u001b[0m \u001b[43mtrainer\u001b[49m\u001b[38;5;241;43m.\u001b[39;49m\u001b[43mtrain\u001b[49m\u001b[43m(\u001b[49m\u001b[43m)\u001b[49m\n\u001b[1;32m     64\u001b[0m wandb\u001b[38;5;241m.\u001b[39mfinish()\n\u001b[1;32m     65\u001b[0m trainer\u001b[38;5;241m.\u001b[39msave_model(output_path\u001b[38;5;241m/\u001b[39mtraining_args\u001b[38;5;241m.\u001b[39mrun_name)\n",
      "File \u001b[0;32m~/anaconda3/envs/pytorch/lib/python3.8/site-packages/transformers/trainer.py:1555\u001b[0m, in \u001b[0;36mTrainer.train\u001b[0;34m(self, resume_from_checkpoint, trial, ignore_keys_for_eval, **kwargs)\u001b[0m\n\u001b[1;32m   1553\u001b[0m         hf_hub_utils\u001b[38;5;241m.\u001b[39menable_progress_bars()\n\u001b[1;32m   1554\u001b[0m \u001b[38;5;28;01melse\u001b[39;00m:\n\u001b[0;32m-> 1555\u001b[0m     \u001b[38;5;28;01mreturn\u001b[39;00m \u001b[43minner_training_loop\u001b[49m\u001b[43m(\u001b[49m\n\u001b[1;32m   1556\u001b[0m \u001b[43m        \u001b[49m\u001b[43margs\u001b[49m\u001b[38;5;241;43m=\u001b[39;49m\u001b[43margs\u001b[49m\u001b[43m,\u001b[49m\n\u001b[1;32m   1557\u001b[0m \u001b[43m        \u001b[49m\u001b[43mresume_from_checkpoint\u001b[49m\u001b[38;5;241;43m=\u001b[39;49m\u001b[43mresume_from_checkpoint\u001b[49m\u001b[43m,\u001b[49m\n\u001b[1;32m   1558\u001b[0m \u001b[43m        \u001b[49m\u001b[43mtrial\u001b[49m\u001b[38;5;241;43m=\u001b[39;49m\u001b[43mtrial\u001b[49m\u001b[43m,\u001b[49m\n\u001b[1;32m   1559\u001b[0m \u001b[43m        \u001b[49m\u001b[43mignore_keys_for_eval\u001b[49m\u001b[38;5;241;43m=\u001b[39;49m\u001b[43mignore_keys_for_eval\u001b[49m\u001b[43m,\u001b[49m\n\u001b[1;32m   1560\u001b[0m \u001b[43m    \u001b[49m\u001b[43m)\u001b[49m\n",
      "File \u001b[0;32m~/anaconda3/envs/pytorch/lib/python3.8/site-packages/transformers/trainer.py:1837\u001b[0m, in \u001b[0;36mTrainer._inner_training_loop\u001b[0;34m(self, batch_size, args, resume_from_checkpoint, trial, ignore_keys_for_eval)\u001b[0m\n\u001b[1;32m   1834\u001b[0m     \u001b[38;5;28mself\u001b[39m\u001b[38;5;241m.\u001b[39mcontrol \u001b[38;5;241m=\u001b[39m \u001b[38;5;28mself\u001b[39m\u001b[38;5;241m.\u001b[39mcallback_handler\u001b[38;5;241m.\u001b[39mon_step_begin(args, \u001b[38;5;28mself\u001b[39m\u001b[38;5;241m.\u001b[39mstate, \u001b[38;5;28mself\u001b[39m\u001b[38;5;241m.\u001b[39mcontrol)\n\u001b[1;32m   1836\u001b[0m \u001b[38;5;28;01mwith\u001b[39;00m \u001b[38;5;28mself\u001b[39m\u001b[38;5;241m.\u001b[39maccelerator\u001b[38;5;241m.\u001b[39maccumulate(model):\n\u001b[0;32m-> 1837\u001b[0m     tr_loss_step \u001b[38;5;241m=\u001b[39m \u001b[38;5;28;43mself\u001b[39;49m\u001b[38;5;241;43m.\u001b[39;49m\u001b[43mtraining_step\u001b[49m\u001b[43m(\u001b[49m\u001b[43mmodel\u001b[49m\u001b[43m,\u001b[49m\u001b[43m \u001b[49m\u001b[43minputs\u001b[49m\u001b[43m)\u001b[49m\n\u001b[1;32m   1839\u001b[0m \u001b[38;5;28;01mif\u001b[39;00m (\n\u001b[1;32m   1840\u001b[0m     args\u001b[38;5;241m.\u001b[39mlogging_nan_inf_filter\n\u001b[1;32m   1841\u001b[0m     \u001b[38;5;129;01mand\u001b[39;00m \u001b[38;5;129;01mnot\u001b[39;00m is_torch_tpu_available()\n\u001b[1;32m   1842\u001b[0m     \u001b[38;5;129;01mand\u001b[39;00m (torch\u001b[38;5;241m.\u001b[39misnan(tr_loss_step) \u001b[38;5;129;01mor\u001b[39;00m torch\u001b[38;5;241m.\u001b[39misinf(tr_loss_step))\n\u001b[1;32m   1843\u001b[0m ):\n\u001b[1;32m   1844\u001b[0m     \u001b[38;5;66;03m# if loss is nan or inf simply add the average of previous logged losses\u001b[39;00m\n\u001b[1;32m   1845\u001b[0m     tr_loss \u001b[38;5;241m+\u001b[39m\u001b[38;5;241m=\u001b[39m tr_loss \u001b[38;5;241m/\u001b[39m (\u001b[38;5;241m1\u001b[39m \u001b[38;5;241m+\u001b[39m \u001b[38;5;28mself\u001b[39m\u001b[38;5;241m.\u001b[39mstate\u001b[38;5;241m.\u001b[39mglobal_step \u001b[38;5;241m-\u001b[39m \u001b[38;5;28mself\u001b[39m\u001b[38;5;241m.\u001b[39m_globalstep_last_logged)\n",
      "File \u001b[0;32m~/anaconda3/envs/pytorch/lib/python3.8/site-packages/transformers/trainer.py:2682\u001b[0m, in \u001b[0;36mTrainer.training_step\u001b[0;34m(self, model, inputs)\u001b[0m\n\u001b[1;32m   2679\u001b[0m     \u001b[38;5;28;01mreturn\u001b[39;00m loss_mb\u001b[38;5;241m.\u001b[39mreduce_mean()\u001b[38;5;241m.\u001b[39mdetach()\u001b[38;5;241m.\u001b[39mto(\u001b[38;5;28mself\u001b[39m\u001b[38;5;241m.\u001b[39margs\u001b[38;5;241m.\u001b[39mdevice)\n\u001b[1;32m   2681\u001b[0m \u001b[38;5;28;01mwith\u001b[39;00m \u001b[38;5;28mself\u001b[39m\u001b[38;5;241m.\u001b[39mcompute_loss_context_manager():\n\u001b[0;32m-> 2682\u001b[0m     loss \u001b[38;5;241m=\u001b[39m \u001b[38;5;28;43mself\u001b[39;49m\u001b[38;5;241;43m.\u001b[39;49m\u001b[43mcompute_loss\u001b[49m\u001b[43m(\u001b[49m\u001b[43mmodel\u001b[49m\u001b[43m,\u001b[49m\u001b[43m \u001b[49m\u001b[43minputs\u001b[49m\u001b[43m)\u001b[49m\n\u001b[1;32m   2684\u001b[0m \u001b[38;5;28;01mif\u001b[39;00m \u001b[38;5;28mself\u001b[39m\u001b[38;5;241m.\u001b[39margs\u001b[38;5;241m.\u001b[39mn_gpu \u001b[38;5;241m>\u001b[39m \u001b[38;5;241m1\u001b[39m:\n\u001b[1;32m   2685\u001b[0m     loss \u001b[38;5;241m=\u001b[39m loss\u001b[38;5;241m.\u001b[39mmean()  \u001b[38;5;66;03m# mean() to average on multi-gpu parallel training\u001b[39;00m\n",
      "File \u001b[0;32m~/anaconda3/envs/pytorch/lib/python3.8/site-packages/transformers/trainer.py:2707\u001b[0m, in \u001b[0;36mTrainer.compute_loss\u001b[0;34m(self, model, inputs, return_outputs)\u001b[0m\n\u001b[1;32m   2705\u001b[0m \u001b[38;5;28;01melse\u001b[39;00m:\n\u001b[1;32m   2706\u001b[0m     labels \u001b[38;5;241m=\u001b[39m \u001b[38;5;28;01mNone\u001b[39;00m\n\u001b[0;32m-> 2707\u001b[0m outputs \u001b[38;5;241m=\u001b[39m \u001b[43mmodel\u001b[49m\u001b[43m(\u001b[49m\u001b[38;5;241;43m*\u001b[39;49m\u001b[38;5;241;43m*\u001b[39;49m\u001b[43minputs\u001b[49m\u001b[43m)\u001b[49m\n\u001b[1;32m   2708\u001b[0m \u001b[38;5;66;03m# Save past state if it exists\u001b[39;00m\n\u001b[1;32m   2709\u001b[0m \u001b[38;5;66;03m# TODO: this needs to be fixed and made cleaner later.\u001b[39;00m\n\u001b[1;32m   2710\u001b[0m \u001b[38;5;28;01mif\u001b[39;00m \u001b[38;5;28mself\u001b[39m\u001b[38;5;241m.\u001b[39margs\u001b[38;5;241m.\u001b[39mpast_index \u001b[38;5;241m>\u001b[39m\u001b[38;5;241m=\u001b[39m \u001b[38;5;241m0\u001b[39m:\n",
      "File \u001b[0;32m~/anaconda3/envs/pytorch/lib/python3.8/site-packages/torch/nn/modules/module.py:1501\u001b[0m, in \u001b[0;36mModule._call_impl\u001b[0;34m(self, *args, **kwargs)\u001b[0m\n\u001b[1;32m   1496\u001b[0m \u001b[38;5;66;03m# If we don't have any hooks, we want to skip the rest of the logic in\u001b[39;00m\n\u001b[1;32m   1497\u001b[0m \u001b[38;5;66;03m# this function, and just call forward.\u001b[39;00m\n\u001b[1;32m   1498\u001b[0m \u001b[38;5;28;01mif\u001b[39;00m \u001b[38;5;129;01mnot\u001b[39;00m (\u001b[38;5;28mself\u001b[39m\u001b[38;5;241m.\u001b[39m_backward_hooks \u001b[38;5;129;01mor\u001b[39;00m \u001b[38;5;28mself\u001b[39m\u001b[38;5;241m.\u001b[39m_backward_pre_hooks \u001b[38;5;129;01mor\u001b[39;00m \u001b[38;5;28mself\u001b[39m\u001b[38;5;241m.\u001b[39m_forward_hooks \u001b[38;5;129;01mor\u001b[39;00m \u001b[38;5;28mself\u001b[39m\u001b[38;5;241m.\u001b[39m_forward_pre_hooks\n\u001b[1;32m   1499\u001b[0m         \u001b[38;5;129;01mor\u001b[39;00m _global_backward_pre_hooks \u001b[38;5;129;01mor\u001b[39;00m _global_backward_hooks\n\u001b[1;32m   1500\u001b[0m         \u001b[38;5;129;01mor\u001b[39;00m _global_forward_hooks \u001b[38;5;129;01mor\u001b[39;00m _global_forward_pre_hooks):\n\u001b[0;32m-> 1501\u001b[0m     \u001b[38;5;28;01mreturn\u001b[39;00m \u001b[43mforward_call\u001b[49m\u001b[43m(\u001b[49m\u001b[38;5;241;43m*\u001b[39;49m\u001b[43margs\u001b[49m\u001b[43m,\u001b[49m\u001b[43m \u001b[49m\u001b[38;5;241;43m*\u001b[39;49m\u001b[38;5;241;43m*\u001b[39;49m\u001b[43mkwargs\u001b[49m\u001b[43m)\u001b[49m\n\u001b[1;32m   1502\u001b[0m \u001b[38;5;66;03m# Do not call functions when jit is used\u001b[39;00m\n\u001b[1;32m   1503\u001b[0m full_backward_hooks, non_full_backward_hooks \u001b[38;5;241m=\u001b[39m [], []\n",
      "File \u001b[0;32m~/anaconda3/envs/pytorch/lib/python3.8/site-packages/transformers/models/deberta_v2/modeling_deberta_v2.py:1616\u001b[0m, in \u001b[0;36mDebertaV2ForMultipleChoice.forward\u001b[0;34m(self, input_ids, attention_mask, token_type_ids, position_ids, inputs_embeds, labels, output_attentions, output_hidden_states, return_dict)\u001b[0m\n\u001b[1;32m   1609\u001b[0m flat_attention_mask \u001b[38;5;241m=\u001b[39m attention_mask\u001b[38;5;241m.\u001b[39mview(\u001b[38;5;241m-\u001b[39m\u001b[38;5;241m1\u001b[39m, attention_mask\u001b[38;5;241m.\u001b[39msize(\u001b[38;5;241m-\u001b[39m\u001b[38;5;241m1\u001b[39m)) \u001b[38;5;28;01mif\u001b[39;00m attention_mask \u001b[38;5;129;01mis\u001b[39;00m \u001b[38;5;129;01mnot\u001b[39;00m \u001b[38;5;28;01mNone\u001b[39;00m \u001b[38;5;28;01melse\u001b[39;00m \u001b[38;5;28;01mNone\u001b[39;00m\n\u001b[1;32m   1610\u001b[0m flat_inputs_embeds \u001b[38;5;241m=\u001b[39m (\n\u001b[1;32m   1611\u001b[0m     inputs_embeds\u001b[38;5;241m.\u001b[39mview(\u001b[38;5;241m-\u001b[39m\u001b[38;5;241m1\u001b[39m, inputs_embeds\u001b[38;5;241m.\u001b[39msize(\u001b[38;5;241m-\u001b[39m\u001b[38;5;241m2\u001b[39m), inputs_embeds\u001b[38;5;241m.\u001b[39msize(\u001b[38;5;241m-\u001b[39m\u001b[38;5;241m1\u001b[39m))\n\u001b[1;32m   1612\u001b[0m     \u001b[38;5;28;01mif\u001b[39;00m inputs_embeds \u001b[38;5;129;01mis\u001b[39;00m \u001b[38;5;129;01mnot\u001b[39;00m \u001b[38;5;28;01mNone\u001b[39;00m\n\u001b[1;32m   1613\u001b[0m     \u001b[38;5;28;01melse\u001b[39;00m \u001b[38;5;28;01mNone\u001b[39;00m\n\u001b[1;32m   1614\u001b[0m )\n\u001b[0;32m-> 1616\u001b[0m outputs \u001b[38;5;241m=\u001b[39m \u001b[38;5;28;43mself\u001b[39;49m\u001b[38;5;241;43m.\u001b[39;49m\u001b[43mdeberta\u001b[49m\u001b[43m(\u001b[49m\n\u001b[1;32m   1617\u001b[0m \u001b[43m    \u001b[49m\u001b[43mflat_input_ids\u001b[49m\u001b[43m,\u001b[49m\n\u001b[1;32m   1618\u001b[0m \u001b[43m    \u001b[49m\u001b[43mposition_ids\u001b[49m\u001b[38;5;241;43m=\u001b[39;49m\u001b[43mflat_position_ids\u001b[49m\u001b[43m,\u001b[49m\n\u001b[1;32m   1619\u001b[0m \u001b[43m    \u001b[49m\u001b[43mtoken_type_ids\u001b[49m\u001b[38;5;241;43m=\u001b[39;49m\u001b[43mflat_token_type_ids\u001b[49m\u001b[43m,\u001b[49m\n\u001b[1;32m   1620\u001b[0m \u001b[43m    \u001b[49m\u001b[43mattention_mask\u001b[49m\u001b[38;5;241;43m=\u001b[39;49m\u001b[43mflat_attention_mask\u001b[49m\u001b[43m,\u001b[49m\n\u001b[1;32m   1621\u001b[0m \u001b[43m    \u001b[49m\u001b[43minputs_embeds\u001b[49m\u001b[38;5;241;43m=\u001b[39;49m\u001b[43mflat_inputs_embeds\u001b[49m\u001b[43m,\u001b[49m\n\u001b[1;32m   1622\u001b[0m \u001b[43m    \u001b[49m\u001b[43moutput_attentions\u001b[49m\u001b[38;5;241;43m=\u001b[39;49m\u001b[43moutput_attentions\u001b[49m\u001b[43m,\u001b[49m\n\u001b[1;32m   1623\u001b[0m \u001b[43m    \u001b[49m\u001b[43moutput_hidden_states\u001b[49m\u001b[38;5;241;43m=\u001b[39;49m\u001b[43moutput_hidden_states\u001b[49m\u001b[43m,\u001b[49m\n\u001b[1;32m   1624\u001b[0m \u001b[43m    \u001b[49m\u001b[43mreturn_dict\u001b[49m\u001b[38;5;241;43m=\u001b[39;49m\u001b[43mreturn_dict\u001b[49m\u001b[43m,\u001b[49m\n\u001b[1;32m   1625\u001b[0m \u001b[43m\u001b[49m\u001b[43m)\u001b[49m\n\u001b[1;32m   1627\u001b[0m encoder_layer \u001b[38;5;241m=\u001b[39m outputs[\u001b[38;5;241m0\u001b[39m]\n\u001b[1;32m   1628\u001b[0m pooled_output \u001b[38;5;241m=\u001b[39m \u001b[38;5;28mself\u001b[39m\u001b[38;5;241m.\u001b[39mpooler(encoder_layer)\n",
      "File \u001b[0;32m~/anaconda3/envs/pytorch/lib/python3.8/site-packages/torch/nn/modules/module.py:1501\u001b[0m, in \u001b[0;36mModule._call_impl\u001b[0;34m(self, *args, **kwargs)\u001b[0m\n\u001b[1;32m   1496\u001b[0m \u001b[38;5;66;03m# If we don't have any hooks, we want to skip the rest of the logic in\u001b[39;00m\n\u001b[1;32m   1497\u001b[0m \u001b[38;5;66;03m# this function, and just call forward.\u001b[39;00m\n\u001b[1;32m   1498\u001b[0m \u001b[38;5;28;01mif\u001b[39;00m \u001b[38;5;129;01mnot\u001b[39;00m (\u001b[38;5;28mself\u001b[39m\u001b[38;5;241m.\u001b[39m_backward_hooks \u001b[38;5;129;01mor\u001b[39;00m \u001b[38;5;28mself\u001b[39m\u001b[38;5;241m.\u001b[39m_backward_pre_hooks \u001b[38;5;129;01mor\u001b[39;00m \u001b[38;5;28mself\u001b[39m\u001b[38;5;241m.\u001b[39m_forward_hooks \u001b[38;5;129;01mor\u001b[39;00m \u001b[38;5;28mself\u001b[39m\u001b[38;5;241m.\u001b[39m_forward_pre_hooks\n\u001b[1;32m   1499\u001b[0m         \u001b[38;5;129;01mor\u001b[39;00m _global_backward_pre_hooks \u001b[38;5;129;01mor\u001b[39;00m _global_backward_hooks\n\u001b[1;32m   1500\u001b[0m         \u001b[38;5;129;01mor\u001b[39;00m _global_forward_hooks \u001b[38;5;129;01mor\u001b[39;00m _global_forward_pre_hooks):\n\u001b[0;32m-> 1501\u001b[0m     \u001b[38;5;28;01mreturn\u001b[39;00m \u001b[43mforward_call\u001b[49m\u001b[43m(\u001b[49m\u001b[38;5;241;43m*\u001b[39;49m\u001b[43margs\u001b[49m\u001b[43m,\u001b[49m\u001b[43m \u001b[49m\u001b[38;5;241;43m*\u001b[39;49m\u001b[38;5;241;43m*\u001b[39;49m\u001b[43mkwargs\u001b[49m\u001b[43m)\u001b[49m\n\u001b[1;32m   1502\u001b[0m \u001b[38;5;66;03m# Do not call functions when jit is used\u001b[39;00m\n\u001b[1;32m   1503\u001b[0m full_backward_hooks, non_full_backward_hooks \u001b[38;5;241m=\u001b[39m [], []\n",
      "File \u001b[0;32m~/anaconda3/envs/pytorch/lib/python3.8/site-packages/transformers/models/deberta_v2/modeling_deberta_v2.py:1084\u001b[0m, in \u001b[0;36mDebertaV2Model.forward\u001b[0;34m(self, input_ids, attention_mask, token_type_ids, position_ids, inputs_embeds, output_attentions, output_hidden_states, return_dict)\u001b[0m\n\u001b[1;32m   1074\u001b[0m     token_type_ids \u001b[38;5;241m=\u001b[39m torch\u001b[38;5;241m.\u001b[39mzeros(input_shape, dtype\u001b[38;5;241m=\u001b[39mtorch\u001b[38;5;241m.\u001b[39mlong, device\u001b[38;5;241m=\u001b[39mdevice)\n\u001b[1;32m   1076\u001b[0m embedding_output \u001b[38;5;241m=\u001b[39m \u001b[38;5;28mself\u001b[39m\u001b[38;5;241m.\u001b[39membeddings(\n\u001b[1;32m   1077\u001b[0m     input_ids\u001b[38;5;241m=\u001b[39minput_ids,\n\u001b[1;32m   1078\u001b[0m     token_type_ids\u001b[38;5;241m=\u001b[39mtoken_type_ids,\n\u001b[0;32m   (...)\u001b[0m\n\u001b[1;32m   1081\u001b[0m     inputs_embeds\u001b[38;5;241m=\u001b[39minputs_embeds,\n\u001b[1;32m   1082\u001b[0m )\n\u001b[0;32m-> 1084\u001b[0m encoder_outputs \u001b[38;5;241m=\u001b[39m \u001b[38;5;28;43mself\u001b[39;49m\u001b[38;5;241;43m.\u001b[39;49m\u001b[43mencoder\u001b[49m\u001b[43m(\u001b[49m\n\u001b[1;32m   1085\u001b[0m \u001b[43m    \u001b[49m\u001b[43membedding_output\u001b[49m\u001b[43m,\u001b[49m\n\u001b[1;32m   1086\u001b[0m \u001b[43m    \u001b[49m\u001b[43mattention_mask\u001b[49m\u001b[43m,\u001b[49m\n\u001b[1;32m   1087\u001b[0m \u001b[43m    \u001b[49m\u001b[43moutput_hidden_states\u001b[49m\u001b[38;5;241;43m=\u001b[39;49m\u001b[38;5;28;43;01mTrue\u001b[39;49;00m\u001b[43m,\u001b[49m\n\u001b[1;32m   1088\u001b[0m \u001b[43m    \u001b[49m\u001b[43moutput_attentions\u001b[49m\u001b[38;5;241;43m=\u001b[39;49m\u001b[43moutput_attentions\u001b[49m\u001b[43m,\u001b[49m\n\u001b[1;32m   1089\u001b[0m \u001b[43m    \u001b[49m\u001b[43mreturn_dict\u001b[49m\u001b[38;5;241;43m=\u001b[39;49m\u001b[43mreturn_dict\u001b[49m\u001b[43m,\u001b[49m\n\u001b[1;32m   1090\u001b[0m \u001b[43m\u001b[49m\u001b[43m)\u001b[49m\n\u001b[1;32m   1091\u001b[0m encoded_layers \u001b[38;5;241m=\u001b[39m encoder_outputs[\u001b[38;5;241m1\u001b[39m]\n\u001b[1;32m   1093\u001b[0m \u001b[38;5;28;01mif\u001b[39;00m \u001b[38;5;28mself\u001b[39m\u001b[38;5;241m.\u001b[39mz_steps \u001b[38;5;241m>\u001b[39m \u001b[38;5;241m1\u001b[39m:\n",
      "File \u001b[0;32m~/anaconda3/envs/pytorch/lib/python3.8/site-packages/torch/nn/modules/module.py:1501\u001b[0m, in \u001b[0;36mModule._call_impl\u001b[0;34m(self, *args, **kwargs)\u001b[0m\n\u001b[1;32m   1496\u001b[0m \u001b[38;5;66;03m# If we don't have any hooks, we want to skip the rest of the logic in\u001b[39;00m\n\u001b[1;32m   1497\u001b[0m \u001b[38;5;66;03m# this function, and just call forward.\u001b[39;00m\n\u001b[1;32m   1498\u001b[0m \u001b[38;5;28;01mif\u001b[39;00m \u001b[38;5;129;01mnot\u001b[39;00m (\u001b[38;5;28mself\u001b[39m\u001b[38;5;241m.\u001b[39m_backward_hooks \u001b[38;5;129;01mor\u001b[39;00m \u001b[38;5;28mself\u001b[39m\u001b[38;5;241m.\u001b[39m_backward_pre_hooks \u001b[38;5;129;01mor\u001b[39;00m \u001b[38;5;28mself\u001b[39m\u001b[38;5;241m.\u001b[39m_forward_hooks \u001b[38;5;129;01mor\u001b[39;00m \u001b[38;5;28mself\u001b[39m\u001b[38;5;241m.\u001b[39m_forward_pre_hooks\n\u001b[1;32m   1499\u001b[0m         \u001b[38;5;129;01mor\u001b[39;00m _global_backward_pre_hooks \u001b[38;5;129;01mor\u001b[39;00m _global_backward_hooks\n\u001b[1;32m   1500\u001b[0m         \u001b[38;5;129;01mor\u001b[39;00m _global_forward_hooks \u001b[38;5;129;01mor\u001b[39;00m _global_forward_pre_hooks):\n\u001b[0;32m-> 1501\u001b[0m     \u001b[38;5;28;01mreturn\u001b[39;00m \u001b[43mforward_call\u001b[49m\u001b[43m(\u001b[49m\u001b[38;5;241;43m*\u001b[39;49m\u001b[43margs\u001b[49m\u001b[43m,\u001b[49m\u001b[43m \u001b[49m\u001b[38;5;241;43m*\u001b[39;49m\u001b[38;5;241;43m*\u001b[39;49m\u001b[43mkwargs\u001b[49m\u001b[43m)\u001b[49m\n\u001b[1;32m   1502\u001b[0m \u001b[38;5;66;03m# Do not call functions when jit is used\u001b[39;00m\n\u001b[1;32m   1503\u001b[0m full_backward_hooks, non_full_backward_hooks \u001b[38;5;241m=\u001b[39m [], []\n",
      "File \u001b[0;32m~/anaconda3/envs/pytorch/lib/python3.8/site-packages/transformers/models/deberta_v2/modeling_deberta_v2.py:520\u001b[0m, in \u001b[0;36mDebertaV2Encoder.forward\u001b[0;34m(self, hidden_states, attention_mask, output_hidden_states, output_attentions, query_states, relative_pos, return_dict)\u001b[0m\n\u001b[1;32m    511\u001b[0m     output_states \u001b[38;5;241m=\u001b[39m torch\u001b[38;5;241m.\u001b[39mutils\u001b[38;5;241m.\u001b[39mcheckpoint\u001b[38;5;241m.\u001b[39mcheckpoint(\n\u001b[1;32m    512\u001b[0m         create_custom_forward(layer_module),\n\u001b[1;32m    513\u001b[0m         next_kv,\n\u001b[0;32m   (...)\u001b[0m\n\u001b[1;32m    517\u001b[0m         rel_embeddings,\n\u001b[1;32m    518\u001b[0m     )\n\u001b[1;32m    519\u001b[0m \u001b[38;5;28;01melse\u001b[39;00m:\n\u001b[0;32m--> 520\u001b[0m     output_states \u001b[38;5;241m=\u001b[39m \u001b[43mlayer_module\u001b[49m\u001b[43m(\u001b[49m\n\u001b[1;32m    521\u001b[0m \u001b[43m        \u001b[49m\u001b[43mnext_kv\u001b[49m\u001b[43m,\u001b[49m\n\u001b[1;32m    522\u001b[0m \u001b[43m        \u001b[49m\u001b[43mattention_mask\u001b[49m\u001b[43m,\u001b[49m\n\u001b[1;32m    523\u001b[0m \u001b[43m        \u001b[49m\u001b[43mquery_states\u001b[49m\u001b[38;5;241;43m=\u001b[39;49m\u001b[43mquery_states\u001b[49m\u001b[43m,\u001b[49m\n\u001b[1;32m    524\u001b[0m \u001b[43m        \u001b[49m\u001b[43mrelative_pos\u001b[49m\u001b[38;5;241;43m=\u001b[39;49m\u001b[43mrelative_pos\u001b[49m\u001b[43m,\u001b[49m\n\u001b[1;32m    525\u001b[0m \u001b[43m        \u001b[49m\u001b[43mrel_embeddings\u001b[49m\u001b[38;5;241;43m=\u001b[39;49m\u001b[43mrel_embeddings\u001b[49m\u001b[43m,\u001b[49m\n\u001b[1;32m    526\u001b[0m \u001b[43m        \u001b[49m\u001b[43moutput_attentions\u001b[49m\u001b[38;5;241;43m=\u001b[39;49m\u001b[43moutput_attentions\u001b[49m\u001b[43m,\u001b[49m\n\u001b[1;32m    527\u001b[0m \u001b[43m    \u001b[49m\u001b[43m)\u001b[49m\n\u001b[1;32m    529\u001b[0m \u001b[38;5;28;01mif\u001b[39;00m output_attentions:\n\u001b[1;32m    530\u001b[0m     output_states, att_m \u001b[38;5;241m=\u001b[39m output_states\n",
      "File \u001b[0;32m~/anaconda3/envs/pytorch/lib/python3.8/site-packages/torch/nn/modules/module.py:1501\u001b[0m, in \u001b[0;36mModule._call_impl\u001b[0;34m(self, *args, **kwargs)\u001b[0m\n\u001b[1;32m   1496\u001b[0m \u001b[38;5;66;03m# If we don't have any hooks, we want to skip the rest of the logic in\u001b[39;00m\n\u001b[1;32m   1497\u001b[0m \u001b[38;5;66;03m# this function, and just call forward.\u001b[39;00m\n\u001b[1;32m   1498\u001b[0m \u001b[38;5;28;01mif\u001b[39;00m \u001b[38;5;129;01mnot\u001b[39;00m (\u001b[38;5;28mself\u001b[39m\u001b[38;5;241m.\u001b[39m_backward_hooks \u001b[38;5;129;01mor\u001b[39;00m \u001b[38;5;28mself\u001b[39m\u001b[38;5;241m.\u001b[39m_backward_pre_hooks \u001b[38;5;129;01mor\u001b[39;00m \u001b[38;5;28mself\u001b[39m\u001b[38;5;241m.\u001b[39m_forward_hooks \u001b[38;5;129;01mor\u001b[39;00m \u001b[38;5;28mself\u001b[39m\u001b[38;5;241m.\u001b[39m_forward_pre_hooks\n\u001b[1;32m   1499\u001b[0m         \u001b[38;5;129;01mor\u001b[39;00m _global_backward_pre_hooks \u001b[38;5;129;01mor\u001b[39;00m _global_backward_hooks\n\u001b[1;32m   1500\u001b[0m         \u001b[38;5;129;01mor\u001b[39;00m _global_forward_hooks \u001b[38;5;129;01mor\u001b[39;00m _global_forward_pre_hooks):\n\u001b[0;32m-> 1501\u001b[0m     \u001b[38;5;28;01mreturn\u001b[39;00m \u001b[43mforward_call\u001b[49m\u001b[43m(\u001b[49m\u001b[38;5;241;43m*\u001b[39;49m\u001b[43margs\u001b[49m\u001b[43m,\u001b[49m\u001b[43m \u001b[49m\u001b[38;5;241;43m*\u001b[39;49m\u001b[38;5;241;43m*\u001b[39;49m\u001b[43mkwargs\u001b[49m\u001b[43m)\u001b[49m\n\u001b[1;32m   1502\u001b[0m \u001b[38;5;66;03m# Do not call functions when jit is used\u001b[39;00m\n\u001b[1;32m   1503\u001b[0m full_backward_hooks, non_full_backward_hooks \u001b[38;5;241m=\u001b[39m [], []\n",
      "File \u001b[0;32m~/anaconda3/envs/pytorch/lib/python3.8/site-packages/transformers/models/deberta_v2/modeling_deberta_v2.py:362\u001b[0m, in \u001b[0;36mDebertaV2Layer.forward\u001b[0;34m(self, hidden_states, attention_mask, query_states, relative_pos, rel_embeddings, output_attentions)\u001b[0m\n\u001b[1;32m    353\u001b[0m \u001b[38;5;28;01mdef\u001b[39;00m \u001b[38;5;21mforward\u001b[39m(\n\u001b[1;32m    354\u001b[0m     \u001b[38;5;28mself\u001b[39m,\n\u001b[1;32m    355\u001b[0m     hidden_states,\n\u001b[0;32m   (...)\u001b[0m\n\u001b[1;32m    360\u001b[0m     output_attentions\u001b[38;5;241m=\u001b[39m\u001b[38;5;28;01mFalse\u001b[39;00m,\n\u001b[1;32m    361\u001b[0m ):\n\u001b[0;32m--> 362\u001b[0m     attention_output \u001b[38;5;241m=\u001b[39m \u001b[38;5;28;43mself\u001b[39;49m\u001b[38;5;241;43m.\u001b[39;49m\u001b[43mattention\u001b[49m\u001b[43m(\u001b[49m\n\u001b[1;32m    363\u001b[0m \u001b[43m        \u001b[49m\u001b[43mhidden_states\u001b[49m\u001b[43m,\u001b[49m\n\u001b[1;32m    364\u001b[0m \u001b[43m        \u001b[49m\u001b[43mattention_mask\u001b[49m\u001b[43m,\u001b[49m\n\u001b[1;32m    365\u001b[0m \u001b[43m        \u001b[49m\u001b[43moutput_attentions\u001b[49m\u001b[38;5;241;43m=\u001b[39;49m\u001b[43moutput_attentions\u001b[49m\u001b[43m,\u001b[49m\n\u001b[1;32m    366\u001b[0m \u001b[43m        \u001b[49m\u001b[43mquery_states\u001b[49m\u001b[38;5;241;43m=\u001b[39;49m\u001b[43mquery_states\u001b[49m\u001b[43m,\u001b[49m\n\u001b[1;32m    367\u001b[0m \u001b[43m        \u001b[49m\u001b[43mrelative_pos\u001b[49m\u001b[38;5;241;43m=\u001b[39;49m\u001b[43mrelative_pos\u001b[49m\u001b[43m,\u001b[49m\n\u001b[1;32m    368\u001b[0m \u001b[43m        \u001b[49m\u001b[43mrel_embeddings\u001b[49m\u001b[38;5;241;43m=\u001b[39;49m\u001b[43mrel_embeddings\u001b[49m\u001b[43m,\u001b[49m\n\u001b[1;32m    369\u001b[0m \u001b[43m    \u001b[49m\u001b[43m)\u001b[49m\n\u001b[1;32m    370\u001b[0m     \u001b[38;5;28;01mif\u001b[39;00m output_attentions:\n\u001b[1;32m    371\u001b[0m         attention_output, att_matrix \u001b[38;5;241m=\u001b[39m attention_output\n",
      "File \u001b[0;32m~/anaconda3/envs/pytorch/lib/python3.8/site-packages/torch/nn/modules/module.py:1501\u001b[0m, in \u001b[0;36mModule._call_impl\u001b[0;34m(self, *args, **kwargs)\u001b[0m\n\u001b[1;32m   1496\u001b[0m \u001b[38;5;66;03m# If we don't have any hooks, we want to skip the rest of the logic in\u001b[39;00m\n\u001b[1;32m   1497\u001b[0m \u001b[38;5;66;03m# this function, and just call forward.\u001b[39;00m\n\u001b[1;32m   1498\u001b[0m \u001b[38;5;28;01mif\u001b[39;00m \u001b[38;5;129;01mnot\u001b[39;00m (\u001b[38;5;28mself\u001b[39m\u001b[38;5;241m.\u001b[39m_backward_hooks \u001b[38;5;129;01mor\u001b[39;00m \u001b[38;5;28mself\u001b[39m\u001b[38;5;241m.\u001b[39m_backward_pre_hooks \u001b[38;5;129;01mor\u001b[39;00m \u001b[38;5;28mself\u001b[39m\u001b[38;5;241m.\u001b[39m_forward_hooks \u001b[38;5;129;01mor\u001b[39;00m \u001b[38;5;28mself\u001b[39m\u001b[38;5;241m.\u001b[39m_forward_pre_hooks\n\u001b[1;32m   1499\u001b[0m         \u001b[38;5;129;01mor\u001b[39;00m _global_backward_pre_hooks \u001b[38;5;129;01mor\u001b[39;00m _global_backward_hooks\n\u001b[1;32m   1500\u001b[0m         \u001b[38;5;129;01mor\u001b[39;00m _global_forward_hooks \u001b[38;5;129;01mor\u001b[39;00m _global_forward_pre_hooks):\n\u001b[0;32m-> 1501\u001b[0m     \u001b[38;5;28;01mreturn\u001b[39;00m \u001b[43mforward_call\u001b[49m\u001b[43m(\u001b[49m\u001b[38;5;241;43m*\u001b[39;49m\u001b[43margs\u001b[49m\u001b[43m,\u001b[49m\u001b[43m \u001b[49m\u001b[38;5;241;43m*\u001b[39;49m\u001b[38;5;241;43m*\u001b[39;49m\u001b[43mkwargs\u001b[49m\u001b[43m)\u001b[49m\n\u001b[1;32m   1502\u001b[0m \u001b[38;5;66;03m# Do not call functions when jit is used\u001b[39;00m\n\u001b[1;32m   1503\u001b[0m full_backward_hooks, non_full_backward_hooks \u001b[38;5;241m=\u001b[39m [], []\n",
      "File \u001b[0;32m~/anaconda3/envs/pytorch/lib/python3.8/site-packages/transformers/models/deberta_v2/modeling_deberta_v2.py:305\u001b[0m, in \u001b[0;36mDebertaV2Attention.forward\u001b[0;34m(self, hidden_states, attention_mask, output_attentions, query_states, relative_pos, rel_embeddings)\u001b[0m\n\u001b[1;32m    303\u001b[0m \u001b[38;5;28;01mif\u001b[39;00m query_states \u001b[38;5;129;01mis\u001b[39;00m \u001b[38;5;28;01mNone\u001b[39;00m:\n\u001b[1;32m    304\u001b[0m     query_states \u001b[38;5;241m=\u001b[39m hidden_states\n\u001b[0;32m--> 305\u001b[0m attention_output \u001b[38;5;241m=\u001b[39m \u001b[38;5;28;43mself\u001b[39;49m\u001b[38;5;241;43m.\u001b[39;49m\u001b[43moutput\u001b[49m\u001b[43m(\u001b[49m\u001b[43mself_output\u001b[49m\u001b[43m,\u001b[49m\u001b[43m \u001b[49m\u001b[43mquery_states\u001b[49m\u001b[43m)\u001b[49m\n\u001b[1;32m    307\u001b[0m \u001b[38;5;28;01mif\u001b[39;00m output_attentions:\n\u001b[1;32m    308\u001b[0m     \u001b[38;5;28;01mreturn\u001b[39;00m (attention_output, att_matrix)\n",
      "File \u001b[0;32m~/anaconda3/envs/pytorch/lib/python3.8/site-packages/torch/nn/modules/module.py:1501\u001b[0m, in \u001b[0;36mModule._call_impl\u001b[0;34m(self, *args, **kwargs)\u001b[0m\n\u001b[1;32m   1496\u001b[0m \u001b[38;5;66;03m# If we don't have any hooks, we want to skip the rest of the logic in\u001b[39;00m\n\u001b[1;32m   1497\u001b[0m \u001b[38;5;66;03m# this function, and just call forward.\u001b[39;00m\n\u001b[1;32m   1498\u001b[0m \u001b[38;5;28;01mif\u001b[39;00m \u001b[38;5;129;01mnot\u001b[39;00m (\u001b[38;5;28mself\u001b[39m\u001b[38;5;241m.\u001b[39m_backward_hooks \u001b[38;5;129;01mor\u001b[39;00m \u001b[38;5;28mself\u001b[39m\u001b[38;5;241m.\u001b[39m_backward_pre_hooks \u001b[38;5;129;01mor\u001b[39;00m \u001b[38;5;28mself\u001b[39m\u001b[38;5;241m.\u001b[39m_forward_hooks \u001b[38;5;129;01mor\u001b[39;00m \u001b[38;5;28mself\u001b[39m\u001b[38;5;241m.\u001b[39m_forward_pre_hooks\n\u001b[1;32m   1499\u001b[0m         \u001b[38;5;129;01mor\u001b[39;00m _global_backward_pre_hooks \u001b[38;5;129;01mor\u001b[39;00m _global_backward_hooks\n\u001b[1;32m   1500\u001b[0m         \u001b[38;5;129;01mor\u001b[39;00m _global_forward_hooks \u001b[38;5;129;01mor\u001b[39;00m _global_forward_pre_hooks):\n\u001b[0;32m-> 1501\u001b[0m     \u001b[38;5;28;01mreturn\u001b[39;00m \u001b[43mforward_call\u001b[49m\u001b[43m(\u001b[49m\u001b[38;5;241;43m*\u001b[39;49m\u001b[43margs\u001b[49m\u001b[43m,\u001b[49m\u001b[43m \u001b[49m\u001b[38;5;241;43m*\u001b[39;49m\u001b[38;5;241;43m*\u001b[39;49m\u001b[43mkwargs\u001b[49m\u001b[43m)\u001b[49m\n\u001b[1;32m   1502\u001b[0m \u001b[38;5;66;03m# Do not call functions when jit is used\u001b[39;00m\n\u001b[1;32m   1503\u001b[0m full_backward_hooks, non_full_backward_hooks \u001b[38;5;241m=\u001b[39m [], []\n",
      "File \u001b[0;32m~/anaconda3/envs/pytorch/lib/python3.8/site-packages/transformers/models/deberta_v2/modeling_deberta_v2.py:271\u001b[0m, in \u001b[0;36mDebertaV2SelfOutput.forward\u001b[0;34m(self, hidden_states, input_tensor)\u001b[0m\n\u001b[1;32m    269\u001b[0m \u001b[38;5;28;01mdef\u001b[39;00m \u001b[38;5;21mforward\u001b[39m(\u001b[38;5;28mself\u001b[39m, hidden_states, input_tensor):\n\u001b[1;32m    270\u001b[0m     hidden_states \u001b[38;5;241m=\u001b[39m \u001b[38;5;28mself\u001b[39m\u001b[38;5;241m.\u001b[39mdense(hidden_states)\n\u001b[0;32m--> 271\u001b[0m     hidden_states \u001b[38;5;241m=\u001b[39m \u001b[38;5;28;43mself\u001b[39;49m\u001b[38;5;241;43m.\u001b[39;49m\u001b[43mdropout\u001b[49m(hidden_states)\n\u001b[1;32m    272\u001b[0m     hidden_states \u001b[38;5;241m=\u001b[39m \u001b[38;5;28mself\u001b[39m\u001b[38;5;241m.\u001b[39mLayerNorm(hidden_states \u001b[38;5;241m+\u001b[39m input_tensor)\n\u001b[1;32m    273\u001b[0m     \u001b[38;5;28;01mreturn\u001b[39;00m hidden_states\n",
      "File \u001b[0;32m~/anaconda3/envs/pytorch/lib/python3.8/site-packages/torch/nn/modules/module.py:1601\u001b[0m, in \u001b[0;36mModule.__getattr__\u001b[0;34m(self, name)\u001b[0m\n\u001b[1;32m   1598\u001b[0m     \u001b[38;5;28;01mif\u001b[39;00m \u001b[38;5;124m'\u001b[39m\u001b[38;5;124m_backward_pre_hooks\u001b[39m\u001b[38;5;124m'\u001b[39m \u001b[38;5;129;01mnot\u001b[39;00m \u001b[38;5;129;01min\u001b[39;00m \u001b[38;5;28mself\u001b[39m\u001b[38;5;241m.\u001b[39m\u001b[38;5;18m__dict__\u001b[39m:\n\u001b[1;32m   1599\u001b[0m         \u001b[38;5;28mself\u001b[39m\u001b[38;5;241m.\u001b[39m_backward_pre_hooks \u001b[38;5;241m=\u001b[39m OrderedDict()\n\u001b[0;32m-> 1601\u001b[0m \u001b[38;5;28;01mdef\u001b[39;00m \u001b[38;5;21m__getattr__\u001b[39m(\u001b[38;5;28mself\u001b[39m, name: \u001b[38;5;28mstr\u001b[39m) \u001b[38;5;241m-\u001b[39m\u001b[38;5;241m>\u001b[39m Union[Tensor, \u001b[38;5;124m'\u001b[39m\u001b[38;5;124mModule\u001b[39m\u001b[38;5;124m'\u001b[39m]:\n\u001b[1;32m   1602\u001b[0m     \u001b[38;5;28;01mif\u001b[39;00m \u001b[38;5;124m'\u001b[39m\u001b[38;5;124m_parameters\u001b[39m\u001b[38;5;124m'\u001b[39m \u001b[38;5;129;01min\u001b[39;00m \u001b[38;5;28mself\u001b[39m\u001b[38;5;241m.\u001b[39m\u001b[38;5;18m__dict__\u001b[39m:\n\u001b[1;32m   1603\u001b[0m         _parameters \u001b[38;5;241m=\u001b[39m \u001b[38;5;28mself\u001b[39m\u001b[38;5;241m.\u001b[39m\u001b[38;5;18m__dict__\u001b[39m[\u001b[38;5;124m'\u001b[39m\u001b[38;5;124m_parameters\u001b[39m\u001b[38;5;124m'\u001b[39m]\n",
      "\u001b[0;31mKeyboardInterrupt\u001b[0m: "
     ]
    }
   ],
   "source": [
    "retrain = True\n",
    "\n",
    "output_path = Path('./checkpoints')\n",
    "training_args = TrainingArguments(\n",
    "    learning_rate=5e-6,\n",
    "    num_train_epochs=5,\n",
    "    #fp16=True,\n",
    "    #warmup_ratio=0.5,\n",
    "    weight_decay=0,\n",
    "    per_device_train_batch_size=1,\n",
    "    per_device_eval_batch_size=8,\n",
    "    evaluation_strategy = IntervalStrategy.STEPS,\n",
    "    logging_steps=100,\n",
    "    eval_steps=2000,\n",
    "    save_steps=20000,\n",
    "    report_to='wandb',\n",
    "    output_dir=str(output_path),\n",
    "    run_name='q_and_a_v4'\n",
    ")\n",
    "\n",
    "if not output_path.exists() or retrain:\n",
    "    model = AutoModelForMultipleChoice.from_pretrained(deberta_v3_large)\n",
    "    \n",
    "    # embedding_lr = 1e-8\n",
    "    # early_layers_lr = 1e-7\n",
    "    # middle_layers_lr = 1e-6\n",
    "    # late_layers_lr = 2e-5\n",
    "    # classifier_lr = 5e-5\n",
    "\n",
    "#     optimizer_grouped_parameters = [\n",
    "#         {'params': model.deberta.embeddings.parameters(), 'lr': embedding_lr},\n",
    "#         {'params': model.deberta.encoder.layer[:8].parameters(), 'lr': early_layers_lr},\n",
    "#         {'params': model.deberta.encoder.layer[8:16].parameters(), 'lr': middle_layers_lr},\n",
    "#         {'params': model.deberta.encoder.layer[16:].parameters(), 'lr': late_layers_lr},\n",
    "#         {'params': model.classifier.parameters(), 'lr': classifier_lr},\n",
    "#     ]\n",
    "    optimizer = AdamW(model.parameters(),\n",
    "                      lr=training_args.learning_rate,\n",
    "                      weight_decay=training_args.weight_decay)\n",
    "                      #optimizer_grouped_parameters)\n",
    "    \n",
    "    total_steps = len(tokenized_train_comb) // training_args.per_device_train_batch_size * training_args.num_train_epochs\n",
    "    #warmup_steps = int(total_steps * training_args.warmup_ratio)\n",
    "    #scheduler = get_linear_schedule_with_warmup(optimizer, num_warmup_steps=warmup_steps, num_training_steps=total_steps)\n",
    "    scheduler = OneCycleLR(optimizer, max_lr=training_args.learning_rate, total_steps=total_steps)\n",
    "    trainer = Trainer(\n",
    "        model=model,\n",
    "        args=training_args,\n",
    "        tokenizer=tokenizer,\n",
    "        data_collator=DataCollatorForMultipleChoice(tokenizer=tokenizer, max_length=600),\n",
    "        train_dataset=tokenized_train_comb,\n",
    "        eval_dataset={\n",
    "            'test': tokenized_test,\n",
    "            'test_daniel': tokenized_test2,\n",
    "            'test_osmu': tokenized_test_osmu\n",
    "        },\n",
    "        compute_metrics=compute_metrics,\n",
    "        optimizers=(optimizer, scheduler)\n",
    "    )\n",
    "\n",
    "    # needed when there are multiple eval datasets\n",
    "    trainer.remove_callback(NotebookProgressCallback)\n",
    "    trainer.train()\n",
    "    wandb.finish()\n",
    "    trainer.save_model(output_path/training_args.run_name)\n",
    "else:\n",
    "    model = AutoModelForMultipleChoice.from_pretrained(output_path/training_args.run_name)"
   ]
  },
  {
   "cell_type": "markdown",
   "id": "33c7ffed-5442-4b18-a9b5-af19169840ee",
   "metadata": {},
   "source": [
    "## Predict Test Set"
   ]
  },
  {
   "cell_type": "code",
   "execution_count": null,
   "id": "8311360f-b360-4f5a-ac67-fa9ffd1ec40a",
   "metadata": {},
   "outputs": [],
   "source": [
    "trainer = Trainer(\n",
    "    model=model,\n",
    "    data_collator=DataCollatorForMultipleChoice(tokenizer=tokenizer, max_length=600),\n",
    ")"
   ]
  },
  {
   "cell_type": "code",
   "execution_count": null,
   "id": "2a5c44ec-5da4-4c04-a1c6-5a2fec5a1599",
   "metadata": {},
   "outputs": [],
   "source": [
    "def predict_testset(test_with_passages, tokenized_testset):\n",
    "    test_logits = trainer.predict(tokenized_testset).predictions\n",
    "    test_preds = np.argsort(-test_logits, 1)\n",
    "    test_letters = np.array(list('ABCDE'))[test_preds]\n",
    "    test_letters = pl.Series(test_letters[:,:3]).list.join(' ')\n",
    "\n",
    "    return test_with_passages.with_columns(all_prediction=test_letters, prediction=test_letters.str.slice(0,1))\n",
    "    \n",
    "test_pred = predict_testset(test_p, tokenized_test)"
   ]
  },
  {
   "cell_type": "code",
   "execution_count": null,
   "id": "95a4eecf-3187-479f-9df7-9f6449438f23",
   "metadata": {
    "tags": []
   },
   "outputs": [],
   "source": [
    "test_osmu_pred = predict_testset(test_osmu_p, tokenized_test_osmu)\n"
   ]
  },
  {
   "cell_type": "markdown",
   "id": "3fc8880d-9dab-49c5-9d50-51f3de04694c",
   "metadata": {},
   "source": [
    "### Osmu data notes\n",
    "0. Based on the wikipedia_excerpt, the wrong answer is marked as correct."
   ]
  },
  {
   "cell_type": "code",
   "execution_count": null,
   "id": "14c6e2e3-1ead-4ef1-988f-1ef7bf18daf8",
   "metadata": {
    "tags": []
   },
   "outputs": [],
   "source": [
    "wiki_passages.filter(pl.col('title').str.contains('chloro'))"
   ]
  },
  {
   "cell_type": "code",
   "execution_count": 41,
   "id": "0650cbc5-54c8-4ffe-8855-4d32055a0282",
   "metadata": {
    "tags": []
   },
   "outputs": [
    {
     "data": {
      "text/html": [
       "<div><style>\n",
       ".dataframe > thead > tr > th,\n",
       ".dataframe > tbody > tr > td {\n",
       "  text-align: right;\n",
       "}\n",
       "</style>\n",
       "<small>shape: (1, 14)</small><table border=\"1\" class=\"dataframe\"><thead><tr><th>question</th><th>A</th><th>C</th><th>B</th><th>D</th><th>E</th><th>answer</th><th>wikipedia_excerpt</th><th>wiki_ctx_1</th><th>wiki_ctx_2</th><th>passage_text</th><th>passage_text_2</th><th>all_prediction</th><th>prediction</th></tr><tr><td>str</td><td>str</td><td>str</td><td>str</td><td>str</td><td>str</td><td>str</td><td>str</td><td>u32</td><td>u32</td><td>str</td><td>str</td><td>str</td><td>str</td></tr></thead><tbody><tr><td>&quot;What is the structural relationship between chloroformic acid and formic acid?&quot;</td><td>&quot;Chloroformic acid is the single acyl-halide derivative of formic acid.&quot;</td><td>&quot;Chloroformic acid is the structurally similar derivative of formic acid.&quot;</td><td>&quot;Chloroformic acid is the stable derivative of formic acid.&quot;</td><td>&quot;Chloroformic acid is the chlorinated derivative of formic acid.&quot;</td><td>&quot;Chloroformic acid is the double acyl-halide derivative of formic acid.&quot;</td><td>&quot;A&quot;</td><td>&quot;Chloroformic acid: Chloroformic acid is an unstable chemical compound with the formula ClCO2H It is the single acyl-halide derivative of carbonic acid (phosgene is the double acyl-halide derivative) Chloroformic acid is also structurally related to formic acid, which has a hydrogen instead of the chlorine Despite the similar name, it is very different from chloroform Chloroformic acid itself is too unstable to be handled for chemical reactions&quot;</td><td>130834</td><td>130837</td><td>&quot;Addition to alkenes Formic acid is unique among the carboxylic acids in its ability to participate in addition reactions with alkenes. Formic acids and alkenes readily react to form formate esters. In the presence of certain acids, including sulfuric acid and hydrofluoric acids, however, a variant of the Koch reaction occurs instead, and formic acid adds to the alkene to produce a larger carboxylic acid. Formic acid anhydride An unstable formic anhydride, H(C=O)−O−(C=O)H, can be obtained by dehydration of formic acid with N,N&#x27;-Dicyclohexylcarbodiimide in ether at low temperature.&quot;</td><td>&quot;Formic acid is unique among the carboxylic acids in its ability to participate in addition reactions with alkenes. Formic acids and alkenes readily react to form formate esters. In the presence of certain acids, including sulfuric acid and hydrofluoric acids, however, a variant of the Koch reaction occurs instead, and formic acid adds to the alkene to produce a larger carboxylic acid.&quot;</td><td>&quot;E A C&quot;</td><td>&quot;E&quot;</td></tr></tbody></table></div>"
      ],
      "text/plain": [
       "shape: (1, 14)\n",
       "┌───────────┬───────────┬───────────┬───────────┬───┬───────────┬───────────┬───────────┬──────────┐\n",
       "│ question  ┆ A         ┆ C         ┆ B         ┆ … ┆ passage_t ┆ passage_t ┆ all_predi ┆ predicti │\n",
       "│ ---       ┆ ---       ┆ ---       ┆ ---       ┆   ┆ ext       ┆ ext_2     ┆ ction     ┆ on       │\n",
       "│ str       ┆ str       ┆ str       ┆ str       ┆   ┆ ---       ┆ ---       ┆ ---       ┆ ---      │\n",
       "│           ┆           ┆           ┆           ┆   ┆ str       ┆ str       ┆ str       ┆ str      │\n",
       "╞═══════════╪═══════════╪═══════════╪═══════════╪═══╪═══════════╪═══════════╪═══════════╪══════════╡\n",
       "│ What is   ┆ Chlorofor ┆ Chlorofor ┆ Chlorofor ┆ … ┆ Addition  ┆ Formic    ┆ E A C     ┆ E        │\n",
       "│ the struc ┆ mic acid  ┆ mic acid  ┆ mic acid  ┆   ┆ to        ┆ acid is   ┆           ┆          │\n",
       "│ tural rel ┆ is the    ┆ is the    ┆ is the    ┆   ┆ alkenes   ┆ unique    ┆           ┆          │\n",
       "│ ationship ┆ single    ┆ structura ┆ stable    ┆   ┆ Formic    ┆ among the ┆           ┆          │\n",
       "│ between   ┆ acyl-hali ┆ lly       ┆ derivativ ┆   ┆ acid is   ┆ carboxyli ┆           ┆          │\n",
       "│ chlorofor ┆ de deriva ┆ similar   ┆ e of      ┆   ┆ unique    ┆ c acids   ┆           ┆          │\n",
       "│ mic acid  ┆ tive of   ┆ derivativ ┆ formic    ┆   ┆ among the ┆ in its    ┆           ┆          │\n",
       "│ and       ┆ formic    ┆ e of      ┆ acid.     ┆   ┆ carboxyli ┆ ability   ┆           ┆          │\n",
       "│ formic    ┆ acid.     ┆ formic    ┆           ┆   ┆ c acids   ┆ to partic ┆           ┆          │\n",
       "│ acid?     ┆           ┆ acid.     ┆           ┆   ┆ in its    ┆ ipate in  ┆           ┆          │\n",
       "│           ┆           ┆           ┆           ┆   ┆ ability   ┆ addition  ┆           ┆          │\n",
       "│           ┆           ┆           ┆           ┆   ┆ to partic ┆ reactions ┆           ┆          │\n",
       "│           ┆           ┆           ┆           ┆   ┆ ipate in  ┆ with      ┆           ┆          │\n",
       "│           ┆           ┆           ┆           ┆   ┆ addition  ┆ alkenes.  ┆           ┆          │\n",
       "│           ┆           ┆           ┆           ┆   ┆ reactions ┆ Formic    ┆           ┆          │\n",
       "│           ┆           ┆           ┆           ┆   ┆ with      ┆ acids and ┆           ┆          │\n",
       "│           ┆           ┆           ┆           ┆   ┆ alkenes.  ┆ alkenes   ┆           ┆          │\n",
       "│           ┆           ┆           ┆           ┆   ┆ Formic    ┆ readily   ┆           ┆          │\n",
       "│           ┆           ┆           ┆           ┆   ┆ acids and ┆ react to  ┆           ┆          │\n",
       "│           ┆           ┆           ┆           ┆   ┆ alkenes   ┆ form      ┆           ┆          │\n",
       "│           ┆           ┆           ┆           ┆   ┆ readily   ┆ formate   ┆           ┆          │\n",
       "│           ┆           ┆           ┆           ┆   ┆ react to  ┆ esters.   ┆           ┆          │\n",
       "│           ┆           ┆           ┆           ┆   ┆ form      ┆ In the    ┆           ┆          │\n",
       "│           ┆           ┆           ┆           ┆   ┆ formate   ┆ presence  ┆           ┆          │\n",
       "│           ┆           ┆           ┆           ┆   ┆ esters.   ┆ of        ┆           ┆          │\n",
       "│           ┆           ┆           ┆           ┆   ┆ In the    ┆ certain   ┆           ┆          │\n",
       "│           ┆           ┆           ┆           ┆   ┆ presence  ┆ acids,    ┆           ┆          │\n",
       "│           ┆           ┆           ┆           ┆   ┆ of        ┆ including ┆           ┆          │\n",
       "│           ┆           ┆           ┆           ┆   ┆ certain   ┆ sulfuric  ┆           ┆          │\n",
       "│           ┆           ┆           ┆           ┆   ┆ acids,    ┆ acid and  ┆           ┆          │\n",
       "│           ┆           ┆           ┆           ┆   ┆ including ┆ hydrofluo ┆           ┆          │\n",
       "│           ┆           ┆           ┆           ┆   ┆ sulfuric  ┆ ric       ┆           ┆          │\n",
       "│           ┆           ┆           ┆           ┆   ┆ acid and  ┆ acids,    ┆           ┆          │\n",
       "│           ┆           ┆           ┆           ┆   ┆ hydrofluo ┆ however,  ┆           ┆          │\n",
       "│           ┆           ┆           ┆           ┆   ┆ ric       ┆ a variant ┆           ┆          │\n",
       "│           ┆           ┆           ┆           ┆   ┆ acids,    ┆ of the    ┆           ┆          │\n",
       "│           ┆           ┆           ┆           ┆   ┆ however,  ┆ Koch      ┆           ┆          │\n",
       "│           ┆           ┆           ┆           ┆   ┆ a variant ┆ reaction  ┆           ┆          │\n",
       "│           ┆           ┆           ┆           ┆   ┆ of the    ┆ occurs    ┆           ┆          │\n",
       "│           ┆           ┆           ┆           ┆   ┆ Koch      ┆ instead,  ┆           ┆          │\n",
       "│           ┆           ┆           ┆           ┆   ┆ reaction  ┆ and       ┆           ┆          │\n",
       "│           ┆           ┆           ┆           ┆   ┆ occurs    ┆ formic    ┆           ┆          │\n",
       "│           ┆           ┆           ┆           ┆   ┆ instead,  ┆ acid adds ┆           ┆          │\n",
       "│           ┆           ┆           ┆           ┆   ┆ and       ┆ to the    ┆           ┆          │\n",
       "│           ┆           ┆           ┆           ┆   ┆ formic    ┆ alkene to ┆           ┆          │\n",
       "│           ┆           ┆           ┆           ┆   ┆ acid adds ┆ produce a ┆           ┆          │\n",
       "│           ┆           ┆           ┆           ┆   ┆ to the    ┆ larger    ┆           ┆          │\n",
       "│           ┆           ┆           ┆           ┆   ┆ alkene to ┆ carboxyli ┆           ┆          │\n",
       "│           ┆           ┆           ┆           ┆   ┆ produce a ┆ c acid.   ┆           ┆          │\n",
       "│           ┆           ┆           ┆           ┆   ┆ larger    ┆           ┆           ┆          │\n",
       "│           ┆           ┆           ┆           ┆   ┆ carboxyli ┆           ┆           ┆          │\n",
       "│           ┆           ┆           ┆           ┆   ┆ c acid.   ┆           ┆           ┆          │\n",
       "│           ┆           ┆           ┆           ┆   ┆ Formic    ┆           ┆           ┆          │\n",
       "│           ┆           ┆           ┆           ┆   ┆ acid      ┆           ┆           ┆          │\n",
       "│           ┆           ┆           ┆           ┆   ┆ anhydride ┆           ┆           ┆          │\n",
       "│           ┆           ┆           ┆           ┆   ┆ An        ┆           ┆           ┆          │\n",
       "│           ┆           ┆           ┆           ┆   ┆ unstable  ┆           ┆           ┆          │\n",
       "│           ┆           ┆           ┆           ┆   ┆ formic    ┆           ┆           ┆          │\n",
       "│           ┆           ┆           ┆           ┆   ┆ anhydride ┆           ┆           ┆          │\n",
       "│           ┆           ┆           ┆           ┆   ┆ , H(C=O)− ┆           ┆           ┆          │\n",
       "│           ┆           ┆           ┆           ┆   ┆ O−(C=O)H, ┆           ┆           ┆          │\n",
       "│           ┆           ┆           ┆           ┆   ┆ can be    ┆           ┆           ┆          │\n",
       "│           ┆           ┆           ┆           ┆   ┆ obtained  ┆           ┆           ┆          │\n",
       "│           ┆           ┆           ┆           ┆   ┆ by dehydr ┆           ┆           ┆          │\n",
       "│           ┆           ┆           ┆           ┆   ┆ ation of  ┆           ┆           ┆          │\n",
       "│           ┆           ┆           ┆           ┆   ┆ formic    ┆           ┆           ┆          │\n",
       "│           ┆           ┆           ┆           ┆   ┆ acid with ┆           ┆           ┆          │\n",
       "│           ┆           ┆           ┆           ┆   ┆ N,N'-Dicy ┆           ┆           ┆          │\n",
       "│           ┆           ┆           ┆           ┆   ┆ clohexylc ┆           ┆           ┆          │\n",
       "│           ┆           ┆           ┆           ┆   ┆ arbodiimi ┆           ┆           ┆          │\n",
       "│           ┆           ┆           ┆           ┆   ┆ de in     ┆           ┆           ┆          │\n",
       "│           ┆           ┆           ┆           ┆   ┆ ether at  ┆           ┆           ┆          │\n",
       "│           ┆           ┆           ┆           ┆   ┆ low tempe ┆           ┆           ┆          │\n",
       "│           ┆           ┆           ┆           ┆   ┆ rature.   ┆           ┆           ┆          │\n",
       "└───────────┴───────────┴───────────┴───────────┴───┴───────────┴───────────┴───────────┴──────────┘"
      ]
     },
     "execution_count": 41,
     "metadata": {},
     "output_type": "execute_result"
    }
   ],
   "source": [
    "test_osmu_pred[1]"
   ]
  },
  {
   "cell_type": "code",
   "execution_count": 26,
   "id": "04031842-bdfa-458e-93a7-ce6823c2faa4",
   "metadata": {},
   "outputs": [],
   "source": [
    "# test_output = pl.DataFrame({'prediction':test_letters}).with_row_count('id')\n",
    "# test_output.write_csv('./data/submission.csv')"
   ]
  },
  {
   "cell_type": "markdown",
   "id": "cf74332a-ae4d-4c87-8020-781392de0ac5",
   "metadata": {},
   "source": [
    "## Check Test predictions"
   ]
  },
  {
   "cell_type": "code",
   "execution_count": 27,
   "id": "37272c14-8671-4536-b012-272b24dc6385",
   "metadata": {
    "tags": []
   },
   "outputs": [],
   "source": [
    "check_test = test_p.with_columns(all_prediction=test_letters, prediction=test_letters.str.slice(0,1))"
   ]
  },
  {
   "cell_type": "code",
   "execution_count": 30,
   "id": "ab9ff16a-7a96-4578-ac81-4187cfc5c1cc",
   "metadata": {
    "tags": []
   },
   "outputs": [
    {
     "data": {
      "text/html": [
       "<div><style>\n",
       ".dataframe > thead > tr > th,\n",
       ".dataframe > tbody > tr > td {\n",
       "  text-align: right;\n",
       "}\n",
       "</style>\n",
       "<small>shape: (4, 11)</small><table border=\"1\" class=\"dataframe\"><thead><tr><th>question</th><th>A</th><th>B</th><th>C</th><th>D</th><th>E</th><th>answer</th><th>passage_text</th><th>passage_text_2</th><th>all_prediction</th><th>prediction</th></tr><tr><td>str</td><td>str</td><td>str</td><td>str</td><td>str</td><td>str</td><td>str</td><td>str</td><td>str</td><td>str</td><td>str</td></tr></thead><tbody><tr><td>&quot;Which of the following statements accurately describes the impact of Modified Newtonian Dynamics (MOND) on the observed &quot;missing baryonic mass&quot; discrepancy in galaxy clusters?&quot;</td><td>&quot;MOND is a theory that reduces the observed missing baryonic mass in galaxy clusters by postulating the existence of a new form of matter called &quot;fuzzy dark matter.&quot;&quot;</td><td>&quot;MOND is a theory that increases the discrepancy between the observed missing baryonic mass in galaxy clusters and the measured velocity dispersions from a factor of around 10 to a factor of about 20.&quot;</td><td>&quot;MOND is a theory that explains the missing baryonic mass in galaxy clusters that was previously considered dark matter by demonstrating that the mass is in the form of neutrinos and axions.&quot;</td><td>&quot;MOND is a theory that reduces the discrepancy between the observed missing baryonic mass in galaxy clusters and the measured velocity dispersions from a factor of around 10 to a factor of about 2.&quot;</td><td>&quot;MOND is a theory that eliminates the observed missing baryonic mass in galaxy clusters by imposing a new mathematical formulation of gravity that does not require the existence of dark matter.&quot;</td><td>&quot;D&quot;</td><td>&quot;There have been a number of attempts to solve the problem of galaxy rotation by modifying gravity without invoking dark matter. One of the most discussed is modified Newtonian dynamics (MOND), originally proposed by Mordehai Milgrom in 1983, which modifies the Newtonian force law at low accelerations to enhance the effective gravitational attraction. MOND has had a considerable amount of success in predicting the rotation curves of low-surface-brightness galaxies, matching the baryonic Tully–Fisher relation, and the velocity dispersions of the small satellite galaxies of the Local Group. Using data from the Spitzer Photometry and Accurate Rotation Curves (SPARC) database, a group has found that the radial acceleration traced by rotation curves could be predicted just from the observed baryon distribution (that is, including stars and gas but not dark matter). The same relation provided a good fit for 2693 samples in 153 rotating galaxies, with diverse shapes, masses, sizes, and gas fractions. Brightness in the near infrared, where the more stable light from red giants dominates, was used to estimate the density contribution due to stars more consistently. The results are consistent with MOND, and place limits on alternative explanations involving dark matter alone.&quot;</td><td>&quot;MOND departs from Newton&#x27;s laws at extremely small accelerations that are characteristic of the outer regions of galaxies as well as the inter-galaxy forces within galaxy clusters, but which are far below anything encountered in the Solar System or on Earth. unsolvedphysics What is the nature of dark matter? Is it a Elementary particle, or do the phenomena attributed to dark matter actually require a modification of the laws of gravity? MOND is an example of a class of theories known as modified models of gravity, and is an alternative to the hypothesis that the dynamics of galaxies are determined by massive, invisible dark matter halos. Since Milgrom&#x27;s original proposal, proponents of MOND have claimed to successfully predict a variety of galactic phenomena that they state are difficult to understand as consequences of dark matter. Though MOND explains the anomalously great rotational velocities of galaxies at their perimeters, it does not fully explain the velocity dispersions of individual galaxies within galaxy clusters. MOND reduces the discrepancy between the velocity dispersions and clusters&#x27; observed missing baryonic mass from a factor of around 10 to a factor of about 2.&quot;</td><td>&quot;D E C&quot;</td><td>&quot;D&quot;</td></tr><tr><td>&quot;Which of the following is an accurate definition of dynamic scaling in self-similar systems?&quot;</td><td>&quot;Dynamic scaling refers to the evolution of self-similar systems, where data obtained from snapshots at fixed times exhibits similarity to the respective data taken from snapshots of any earlier or later time. This similarity is tested by a certain time-dependent stochastic variable x.&quot;</td><td>&quot;Dynamic scaling refers to the non-evolution of self-similar systems, where data obtained from snapshots at fixed times is similar to the respective data taken from snapshots of any earlier or later time. This similarity is tested by a certain time-dependent stochastic variable x.&quot;</td><td>&quot;Dynamic scaling refers to the evolution of self-similar systems, where data obtained from snapshots at fixed times is dissimilar to the respective data taken from snapshots of any earlier or later time. This dissimilarity is tested by a certain time-independent stochastic variable y.&quot;</td><td>&quot;Dynamic scaling refers to the non-evolution of self-similar systems, where data obtained from snapshots at fixed times is dissimilar to the respective data taken from snapshots of any earlier or later time. This dissimilarity is tested by a certain time-independent stochastic variable y.&quot;</td><td>&quot;Dynamic scaling refers to the evolution of self-similar systems, where data obtained from snapshots at fixed times is independent of the respective data taken from snapshots of any earlier or later time. This independence is tested by a certain time-dependent stochastic variable z.&quot;</td><td>&quot;A&quot;</td><td>&quot;The hypothesis itself is as follows: &quot;animals of different sizes tend to move in dynamically similar fashion whenever the ratio of their speed allows it.&quot; While the dynamic similarity hypothesis may not be a truly unifying principle of animal gait patterns, it is a remarkably accurate heuristic. It has also been shown that living organisms of all shapes and sizes utilize spring mechanisms in their locomotive systems, probably in order to minimize the energy cost of locomotion. The allometric study of these systems has fostered a better understanding of why spring mechanisms are so common, how limb compliance varies with body size and speed, and how these mechanisms affect general limb kinematics and dynamics. Principles of legged locomotion identified through allometry Alexander found that animals of different sizes and masses traveling with the same Froude number consistently exhibit similar gait patterns. Duty factors—percentages of a stride during which a foot maintains contact with the ground—remain relatively constant for different animals moving with the same Froude number. The dynamic similarity hypothesis states that &quot;animals of different sizes tend to move in dynamically similar fashion whenever the ratio of their speed allows it&quot;.&quot;</td><td>&quot;The hypothesis itself is as follows: &quot;animals of different sizes tend to move in dynamically similar fashion whenever the ratio of their speed allows it.&quot; While the dynamic similarity hypothesis may not be a truly unifying principle of animal gait patterns, it is a remarkably accurate heuristic. It has also been shown that living organisms of all shapes and sizes utilize spring mechanisms in their locomotive systems, probably in order to minimize the energy cost of locomotion. The allometric study of these systems has fostered a better understanding of why spring mechanisms are so common, how limb compliance varies with body size and speed, and how these mechanisms affect general limb kinematics and dynamics.&quot;</td><td>&quot;C A E&quot;</td><td>&quot;C&quot;</td></tr><tr><td>&quot;Which of the following statements accurately describes the origin and significance of the triskeles symbol?&quot;</td><td>&quot;The triskeles symbol was reconstructed as a feminine divine triad by the rulers of Syracuse, and later adopted as an emblem. Its usage may also be related to the Greek name of Sicily, Trinacria, which means &quot;having three headlands.&quot; The head of Medusa at the center of the Sicilian triskeles represents the three headlands.&quot;</td><td>&quot;The triskeles symbol is a representation of three interlinked spirals, which was adopted as an emblem by the rulers of Syracuse. Its usage in modern flags of Sicily has its origins in the ancient Greek name for the island, Trinacria, which means &quot;Sicily with three corners.&quot; The head of Medusa at the center is a representation of the island&#x27;s rich cultural heritage.&quot;</td><td>&quot;The triskeles symbol is a representation of a triple goddess, reconstructed by the rulers of Syracuse, who adopted it as an emblem. Its significance lies in the fact that it represents the Greek name for Sicily, Trinacria, which contains the element &quot;tria,&quot; meaning three. The head of Medusa at the center of the Sicilian triskeles represents the three headlands.&quot;</td><td>&quot;The triskeles symbol represents three interlocked spiral arms, which became an emblem for the rulers of Syracuse. Its usage in modern flags of Sicily is due to the island&#x27;s rich cultural heritage, which dates back to ancient times. The head of Medusa at the center represents the lasting influence of Greek mythology on Sicilian culture.&quot;</td><td>&quot;The triskeles symbol is a representation of the Greek goddess Hecate, reconstructed by the rulers of Syracuse. Its adoption as an emblem was due to its cultural significance, as it represented the ancient Greek name for Sicily, Trinacria. The head of Medusa at the center of the Sicilian triskeles represents the island&#x27;s central location in the Mediterranean.&quot;</td><td>&quot;A&quot;</td><td>&quot;file:Andreas Cunaeus discovering the Leyden jar.png The Ancient Greeks already knew that pieces of amber could attract lightweight particles after being rubbed. The amber becomes electrified by the triboelectric effect,efnThe prefix tribo- (Greek for ‘rub’) refers to ‘friction’ mechanical separation of charge in a dielectric. The Greek word for amber is ἤλεκτρον (&quot;ēlektron&quot;) and is the origin of the word &quot;electricity&quot;. Thales of Miletus, a Pre-Socratic philosophy is thought to have accidentally commented on the phenomena of electrostatic charging, due to his belief that even lifeless things have a soul in them, hence the popular analogy of the spark. Around 1650, Otto von Guericke built a crude electrostatic generator: a sulfur ball that rotated on a shaft. When Guericke held his hand against the ball and turned the shaft quickly, a static electric charge built up. This experiment inspired the development of several forms of &quot;friction machines&quot;, that greatly helped in the study of electricity. The Leyden jar was effectively discovered independently by two parties: German deacon Ewald Georg von Kleist, who made the first discovery, and Dutch scientists Pieter van Musschenbroek and Andreas Cunaeus, who figured out how it worked only when held in the hand.&quot;</td><td>&quot;Using these sensors, Heraud says that he has been able to triangulate pulses seen from multiple sites, in order to determine the origin of the pulses. He said that the pulses are seen beginning from 11 to 18 days before an impending earthquake, and have been used to determine the location and timing of future seismic events. However, insofar as a verifiable prediction would require a publicly-stated announcement of the location, time, and size of an impending event before its occurrence, neither Quakefinder nor Heraud have yet verifiably predicted an earthquake, much less issued multiple predictions of the type that might be objectively testable for statistical significance.&quot;</td><td>&quot;D A C&quot;</td><td>&quot;D&quot;</td></tr><tr><td>&quot;What is the significance of regularization in terms of renormalization problems in physics?&quot;</td><td>&quot;Regularizing the mass-energy of an electron with a finite radius can theoretically simplify calculations involving infinities or singularities, thereby providing explanations that would otherwise be impossible to achieve.&quot;</td><td>&quot;Regularizing the mass-energy of an electron with an infinite radius allows for the breakdown of a theory that is valid under one set of conditions. This approach can be applied to other renormalization problems as well.&quot;</td><td>&quot;Regularizing the mass-energy of an electron with a finite radius is a means of demonstrating that a system below a certain size can be explained without the need for further calculations. This approach can be applied to other renormalization problems as well.&quot;</td><td>&quot;Regularizing the mass-energy of an electron with an infinite radius can be used to provide a highly accurate description of a system under specific conditions. This approach can be transferred to other renormalization problems as well.&quot;</td><td>&quot;Regularizing the mass-energy of an electron with an infinite radius is essential for explaining how a system below a certain size operates. This approach can be applied to other renormalization problems as well.&quot;</td><td>&quot;C&quot;</td><td>&quot;Renormalization and regularization In physics, especially quantum field theory, regularization is a method of modifying observables which have Singularity (mathematics) in order to make them finite by the introduction of a suitable parameter called the regulator. The regulator, also known as a &quot;cutoff&quot;, models our lack of knowledge about physics at unobserved scales (e.g. scales of small size or large energy levels). It compensates for (and requires) the possibility that &quot;new physics&quot; may be discovered at those scales which the present theory is unable to model, while enabling the current theory to give accurate predictions as an &quot;effective theory&quot; within its intended scale of use. It is distinct from renormalization, another technique to control infinities without assuming new physics, by adjusting for self-interaction feedback. Regularization was for many decades controversial even amongst its inventors, as it combines physics and epistemological claims into the same equations. However, it is now well understood and has proven to yield useful, accurate predictions.&quot;</td><td>&quot;__NOTOC__ Renormalization and regularization In theoretical physics, Pauli–Villars regularization (P–V) is a procedure that isolates divergent terms from finite parts in loop calculations in field theory (physics) in order to renormalization the theory. Wolfgang Pauli and Felix Villars published the method in 1949, based on earlier work by Richard Feynman, Ernst Stueckelberg and Dominique Rivier. In this treatment, a divergence arising from a loop integral (such as vacuum polarization or electron self-energy) is modulated by a spectrum of auxiliary particles added to the Lagrangian (field theory) or propagator. When the masses of the fictitious particles are taken as an infinite limit (i.e., once the regulator is removed) one expects to recover the original theory. This regularization (physics) is gauge invariance in an abelian theory due to the auxiliary particles being minimally coupled to the photon field through the gauge covariant derivative. It is not gauge covariant in a non-abelian theory, though, so Pauli–Villars regularization cannot be used in QCD calculations. P–V serves as an alternative to the more favorable dimensional regularization in specific circumstances, such as in chiral phenomena, where a change of dimension alters the properties of the gamma matrices. Gerard &#x27;t Hooft and Martinus J. G.&quot;</td><td>&quot;A E D&quot;</td><td>&quot;A&quot;</td></tr></tbody></table></div>"
      ],
      "text/plain": [
       "shape: (4, 11)\n",
       "┌───────────┬───────────┬───────────┬───────────┬───┬───────────┬───────────┬───────────┬──────────┐\n",
       "│ question  ┆ A         ┆ B         ┆ C         ┆ … ┆ passage_t ┆ passage_t ┆ all_predi ┆ predicti │\n",
       "│ ---       ┆ ---       ┆ ---       ┆ ---       ┆   ┆ ext       ┆ ext_2     ┆ ction     ┆ on       │\n",
       "│ str       ┆ str       ┆ str       ┆ str       ┆   ┆ ---       ┆ ---       ┆ ---       ┆ ---      │\n",
       "│           ┆           ┆           ┆           ┆   ┆ str       ┆ str       ┆ str       ┆ str      │\n",
       "╞═══════════╪═══════════╪═══════════╪═══════════╪═══╪═══════════╪═══════════╪═══════════╪══════════╡\n",
       "│ Which of  ┆ MOND is a ┆ MOND is a ┆ MOND is a ┆ … ┆ There     ┆ MOND      ┆ D E C     ┆ D        │\n",
       "│ the       ┆ theory    ┆ theory    ┆ theory    ┆   ┆ have been ┆ departs   ┆           ┆          │\n",
       "│ following ┆ that      ┆ that      ┆ that      ┆   ┆ a number  ┆ from      ┆           ┆          │\n",
       "│ statement ┆ reduces   ┆ increases ┆ explains  ┆   ┆ of        ┆ Newton's  ┆           ┆          │\n",
       "│ s accurat ┆ the       ┆ the discr ┆ the       ┆   ┆ attempts  ┆ laws at   ┆           ┆          │\n",
       "│ ely       ┆ observed  ┆ epancy    ┆ missing   ┆   ┆ to solve  ┆ extremely ┆           ┆          │\n",
       "│ describes ┆ missing   ┆ between   ┆ baryonic  ┆   ┆ the       ┆ small acc ┆           ┆          │\n",
       "│ the       ┆ baryonic  ┆ the       ┆ mass in   ┆   ┆ problem   ┆ eleration ┆           ┆          │\n",
       "│ impact of ┆ mass in   ┆ observed  ┆ galaxy    ┆   ┆ of galaxy ┆ s that    ┆           ┆          │\n",
       "│ Modified  ┆ galaxy    ┆ missing   ┆ clusters  ┆   ┆ rotation  ┆ are chara ┆           ┆          │\n",
       "│ Newtonian ┆ clusters  ┆ baryonic  ┆ that was  ┆   ┆ by        ┆ cteristic ┆           ┆          │\n",
       "│ Dynamics  ┆ by postul ┆ mass in   ┆ previousl ┆   ┆ modifying ┆ of the    ┆           ┆          │\n",
       "│ (MOND) on ┆ ating the ┆ galaxy    ┆ y conside ┆   ┆ gravity   ┆ outer     ┆           ┆          │\n",
       "│ the       ┆ existence ┆ clusters  ┆ red dark  ┆   ┆ without   ┆ regions   ┆           ┆          │\n",
       "│ observed  ┆ of a new  ┆ and the   ┆ matter by ┆   ┆ invoking  ┆ of        ┆           ┆          │\n",
       "│ \"missing  ┆ form of   ┆ measured  ┆ demonstra ┆   ┆ dark      ┆ galaxies  ┆           ┆          │\n",
       "│ baryonic  ┆ matter    ┆ velocity  ┆ ting that ┆   ┆ matter.   ┆ as well   ┆           ┆          │\n",
       "│ mass\" dis ┆ called    ┆ dispersio ┆ the mass  ┆   ┆ One of    ┆ as the    ┆           ┆          │\n",
       "│ crepancy  ┆ \"fuzzy    ┆ ns from a ┆ is in the ┆   ┆ the most  ┆ inter-gal ┆           ┆          │\n",
       "│ in galaxy ┆ dark      ┆ factor of ┆ form of   ┆   ┆ discussed ┆ axy       ┆           ┆          │\n",
       "│ clusters? ┆ matter.\"  ┆ around 10 ┆ neutrinos ┆   ┆ is        ┆ forces    ┆           ┆          │\n",
       "│           ┆           ┆ to a      ┆ and       ┆   ┆ modified  ┆ within    ┆           ┆          │\n",
       "│           ┆           ┆ factor of ┆ axions.   ┆   ┆ Newtonian ┆ galaxy    ┆           ┆          │\n",
       "│           ┆           ┆ about 20. ┆           ┆   ┆ dynamics  ┆ clusters, ┆           ┆          │\n",
       "│           ┆           ┆           ┆           ┆   ┆ (MOND),   ┆ but which ┆           ┆          │\n",
       "│           ┆           ┆           ┆           ┆   ┆ originall ┆ are far   ┆           ┆          │\n",
       "│           ┆           ┆           ┆           ┆   ┆ y         ┆ below     ┆           ┆          │\n",
       "│           ┆           ┆           ┆           ┆   ┆ proposed  ┆ anything  ┆           ┆          │\n",
       "│           ┆           ┆           ┆           ┆   ┆ by        ┆ encounter ┆           ┆          │\n",
       "│           ┆           ┆           ┆           ┆   ┆ Mordehai  ┆ ed in the ┆           ┆          │\n",
       "│           ┆           ┆           ┆           ┆   ┆ Milgrom   ┆ Solar     ┆           ┆          │\n",
       "│           ┆           ┆           ┆           ┆   ┆ in 1983,  ┆ System or ┆           ┆          │\n",
       "│           ┆           ┆           ┆           ┆   ┆ which     ┆ on Earth. ┆           ┆          │\n",
       "│           ┆           ┆           ┆           ┆   ┆ modifies  ┆ unsolvedp ┆           ┆          │\n",
       "│           ┆           ┆           ┆           ┆   ┆ the       ┆ hysics    ┆           ┆          │\n",
       "│           ┆           ┆           ┆           ┆   ┆ Newtonian ┆ What is   ┆           ┆          │\n",
       "│           ┆           ┆           ┆           ┆   ┆ force law ┆ the       ┆           ┆          │\n",
       "│           ┆           ┆           ┆           ┆   ┆ at low    ┆ nature of ┆           ┆          │\n",
       "│           ┆           ┆           ┆           ┆   ┆ accelerat ┆ dark      ┆           ┆          │\n",
       "│           ┆           ┆           ┆           ┆   ┆ ions to   ┆ matter?   ┆           ┆          │\n",
       "│           ┆           ┆           ┆           ┆   ┆ enhance   ┆ Is it a   ┆           ┆          │\n",
       "│           ┆           ┆           ┆           ┆   ┆ the       ┆ Elementar ┆           ┆          │\n",
       "│           ┆           ┆           ┆           ┆   ┆ effective ┆ y         ┆           ┆          │\n",
       "│           ┆           ┆           ┆           ┆   ┆ gravitati ┆ particle, ┆           ┆          │\n",
       "│           ┆           ┆           ┆           ┆   ┆ onal attr ┆ or do the ┆           ┆          │\n",
       "│           ┆           ┆           ┆           ┆   ┆ action.   ┆ phenomena ┆           ┆          │\n",
       "│           ┆           ┆           ┆           ┆   ┆ MOND has  ┆ attribute ┆           ┆          │\n",
       "│           ┆           ┆           ┆           ┆   ┆ had a con ┆ d to dark ┆           ┆          │\n",
       "│           ┆           ┆           ┆           ┆   ┆ siderable ┆ matter    ┆           ┆          │\n",
       "│           ┆           ┆           ┆           ┆   ┆ amount of ┆ actually  ┆           ┆          │\n",
       "│           ┆           ┆           ┆           ┆   ┆ success   ┆ require a ┆           ┆          │\n",
       "│           ┆           ┆           ┆           ┆   ┆ in predic ┆ modificat ┆           ┆          │\n",
       "│           ┆           ┆           ┆           ┆   ┆ ting the  ┆ ion of    ┆           ┆          │\n",
       "│           ┆           ┆           ┆           ┆   ┆ rotation  ┆ the laws  ┆           ┆          │\n",
       "│           ┆           ┆           ┆           ┆   ┆ curves of ┆ of        ┆           ┆          │\n",
       "│           ┆           ┆           ┆           ┆   ┆ low-surfa ┆ gravity?  ┆           ┆          │\n",
       "│           ┆           ┆           ┆           ┆   ┆ ce-bright ┆ MOND is   ┆           ┆          │\n",
       "│           ┆           ┆           ┆           ┆   ┆ ness      ┆ an        ┆           ┆          │\n",
       "│           ┆           ┆           ┆           ┆   ┆ galaxies, ┆ example   ┆           ┆          │\n",
       "│           ┆           ┆           ┆           ┆   ┆ matching  ┆ of a      ┆           ┆          │\n",
       "│           ┆           ┆           ┆           ┆   ┆ the       ┆ class of  ┆           ┆          │\n",
       "│           ┆           ┆           ┆           ┆   ┆ baryonic  ┆ theories  ┆           ┆          │\n",
       "│           ┆           ┆           ┆           ┆   ┆ Tully–Fis ┆ known as  ┆           ┆          │\n",
       "│           ┆           ┆           ┆           ┆   ┆ her       ┆ modified  ┆           ┆          │\n",
       "│           ┆           ┆           ┆           ┆   ┆ relation, ┆ models of ┆           ┆          │\n",
       "│           ┆           ┆           ┆           ┆   ┆ and the   ┆ gravity,  ┆           ┆          │\n",
       "│           ┆           ┆           ┆           ┆   ┆ velocity  ┆ and is an ┆           ┆          │\n",
       "│           ┆           ┆           ┆           ┆   ┆ dispersio ┆ alternati ┆           ┆          │\n",
       "│           ┆           ┆           ┆           ┆   ┆ ns of the ┆ ve to the ┆           ┆          │\n",
       "│           ┆           ┆           ┆           ┆   ┆ small     ┆ hypothesi ┆           ┆          │\n",
       "│           ┆           ┆           ┆           ┆   ┆ satellite ┆ s that    ┆           ┆          │\n",
       "│           ┆           ┆           ┆           ┆   ┆ galaxies  ┆ the       ┆           ┆          │\n",
       "│           ┆           ┆           ┆           ┆   ┆ of the    ┆ dynamics  ┆           ┆          │\n",
       "│           ┆           ┆           ┆           ┆   ┆ Local     ┆ of        ┆           ┆          │\n",
       "│           ┆           ┆           ┆           ┆   ┆ Group.    ┆ galaxies  ┆           ┆          │\n",
       "│           ┆           ┆           ┆           ┆   ┆ Using     ┆ are deter ┆           ┆          │\n",
       "│           ┆           ┆           ┆           ┆   ┆ data from ┆ mined by  ┆           ┆          │\n",
       "│           ┆           ┆           ┆           ┆   ┆ the       ┆ massive,  ┆           ┆          │\n",
       "│           ┆           ┆           ┆           ┆   ┆ Spitzer   ┆ invisible ┆           ┆          │\n",
       "│           ┆           ┆           ┆           ┆   ┆ Photometr ┆ dark      ┆           ┆          │\n",
       "│           ┆           ┆           ┆           ┆   ┆ y and     ┆ matter    ┆           ┆          │\n",
       "│           ┆           ┆           ┆           ┆   ┆ Accurate  ┆ halos.    ┆           ┆          │\n",
       "│           ┆           ┆           ┆           ┆   ┆ Rotation  ┆ Since     ┆           ┆          │\n",
       "│           ┆           ┆           ┆           ┆   ┆ Curves    ┆ Milgrom's ┆           ┆          │\n",
       "│           ┆           ┆           ┆           ┆   ┆ (SPARC)   ┆ original  ┆           ┆          │\n",
       "│           ┆           ┆           ┆           ┆   ┆ database, ┆ proposal, ┆           ┆          │\n",
       "│           ┆           ┆           ┆           ┆   ┆ a group   ┆ proponent ┆           ┆          │\n",
       "│           ┆           ┆           ┆           ┆   ┆ has found ┆ s of MOND ┆           ┆          │\n",
       "│           ┆           ┆           ┆           ┆   ┆ that the  ┆ have      ┆           ┆          │\n",
       "│           ┆           ┆           ┆           ┆   ┆ radial    ┆ claimed   ┆           ┆          │\n",
       "│           ┆           ┆           ┆           ┆   ┆ accelerat ┆ to succes ┆           ┆          │\n",
       "│           ┆           ┆           ┆           ┆   ┆ ion       ┆ sfully    ┆           ┆          │\n",
       "│           ┆           ┆           ┆           ┆   ┆ traced by ┆ predict a ┆           ┆          │\n",
       "│           ┆           ┆           ┆           ┆   ┆ rotation  ┆ variety   ┆           ┆          │\n",
       "│           ┆           ┆           ┆           ┆   ┆ curves    ┆ of        ┆           ┆          │\n",
       "│           ┆           ┆           ┆           ┆   ┆ could be  ┆ galactic  ┆           ┆          │\n",
       "│           ┆           ┆           ┆           ┆   ┆ predicted ┆ phenomena ┆           ┆          │\n",
       "│           ┆           ┆           ┆           ┆   ┆ just from ┆ that they ┆           ┆          │\n",
       "│           ┆           ┆           ┆           ┆   ┆ the       ┆ state are ┆           ┆          │\n",
       "│           ┆           ┆           ┆           ┆   ┆ observed  ┆ difficult ┆           ┆          │\n",
       "│           ┆           ┆           ┆           ┆   ┆ baryon    ┆ to unders ┆           ┆          │\n",
       "│           ┆           ┆           ┆           ┆   ┆ distribut ┆ tand as   ┆           ┆          │\n",
       "│           ┆           ┆           ┆           ┆   ┆ ion (that ┆ consequen ┆           ┆          │\n",
       "│           ┆           ┆           ┆           ┆   ┆ is,       ┆ ces of    ┆           ┆          │\n",
       "│           ┆           ┆           ┆           ┆   ┆ including ┆ dark      ┆           ┆          │\n",
       "│           ┆           ┆           ┆           ┆   ┆ stars and ┆ matter.   ┆           ┆          │\n",
       "│           ┆           ┆           ┆           ┆   ┆ gas but   ┆ Though    ┆           ┆          │\n",
       "│           ┆           ┆           ┆           ┆   ┆ not dark  ┆ MOND      ┆           ┆          │\n",
       "│           ┆           ┆           ┆           ┆   ┆ matter).  ┆ explains  ┆           ┆          │\n",
       "│           ┆           ┆           ┆           ┆   ┆ The same  ┆ the anoma ┆           ┆          │\n",
       "│           ┆           ┆           ┆           ┆   ┆ relation  ┆ lously    ┆           ┆          │\n",
       "│           ┆           ┆           ┆           ┆   ┆ provided  ┆ great rot ┆           ┆          │\n",
       "│           ┆           ┆           ┆           ┆   ┆ a good    ┆ ational   ┆           ┆          │\n",
       "│           ┆           ┆           ┆           ┆   ┆ fit for   ┆ velocitie ┆           ┆          │\n",
       "│           ┆           ┆           ┆           ┆   ┆ 2693      ┆ s of      ┆           ┆          │\n",
       "│           ┆           ┆           ┆           ┆   ┆ samples   ┆ galaxies  ┆           ┆          │\n",
       "│           ┆           ┆           ┆           ┆   ┆ in 153    ┆ at their  ┆           ┆          │\n",
       "│           ┆           ┆           ┆           ┆   ┆ rotating  ┆ perimeter ┆           ┆          │\n",
       "│           ┆           ┆           ┆           ┆   ┆ galaxies, ┆ s, it     ┆           ┆          │\n",
       "│           ┆           ┆           ┆           ┆   ┆ with      ┆ does not  ┆           ┆          │\n",
       "│           ┆           ┆           ┆           ┆   ┆ diverse   ┆ fully     ┆           ┆          │\n",
       "│           ┆           ┆           ┆           ┆   ┆ shapes,   ┆ explain   ┆           ┆          │\n",
       "│           ┆           ┆           ┆           ┆   ┆ masses,   ┆ the       ┆           ┆          │\n",
       "│           ┆           ┆           ┆           ┆   ┆ sizes,    ┆ velocity  ┆           ┆          │\n",
       "│           ┆           ┆           ┆           ┆   ┆ and gas   ┆ dispersio ┆           ┆          │\n",
       "│           ┆           ┆           ┆           ┆   ┆ fractions ┆ ns of ind ┆           ┆          │\n",
       "│           ┆           ┆           ┆           ┆   ┆ . Brightn ┆ ividual   ┆           ┆          │\n",
       "│           ┆           ┆           ┆           ┆   ┆ ess in    ┆ galaxies  ┆           ┆          │\n",
       "│           ┆           ┆           ┆           ┆   ┆ the near  ┆ within    ┆           ┆          │\n",
       "│           ┆           ┆           ┆           ┆   ┆ infrared, ┆ galaxy    ┆           ┆          │\n",
       "│           ┆           ┆           ┆           ┆   ┆ where the ┆ clusters. ┆           ┆          │\n",
       "│           ┆           ┆           ┆           ┆   ┆ more      ┆ MOND      ┆           ┆          │\n",
       "│           ┆           ┆           ┆           ┆   ┆ stable    ┆ reduces   ┆           ┆          │\n",
       "│           ┆           ┆           ┆           ┆   ┆ light     ┆ the discr ┆           ┆          │\n",
       "│           ┆           ┆           ┆           ┆   ┆ from red  ┆ epancy    ┆           ┆          │\n",
       "│           ┆           ┆           ┆           ┆   ┆ giants    ┆ between   ┆           ┆          │\n",
       "│           ┆           ┆           ┆           ┆   ┆ dominates ┆ the       ┆           ┆          │\n",
       "│           ┆           ┆           ┆           ┆   ┆ , was     ┆ velocity  ┆           ┆          │\n",
       "│           ┆           ┆           ┆           ┆   ┆ used to   ┆ dispersio ┆           ┆          │\n",
       "│           ┆           ┆           ┆           ┆   ┆ estimate  ┆ ns and    ┆           ┆          │\n",
       "│           ┆           ┆           ┆           ┆   ┆ the       ┆ clusters' ┆           ┆          │\n",
       "│           ┆           ┆           ┆           ┆   ┆ density   ┆ observed  ┆           ┆          │\n",
       "│           ┆           ┆           ┆           ┆   ┆ contribut ┆ missing   ┆           ┆          │\n",
       "│           ┆           ┆           ┆           ┆   ┆ ion due   ┆ baryonic  ┆           ┆          │\n",
       "│           ┆           ┆           ┆           ┆   ┆ to stars  ┆ mass from ┆           ┆          │\n",
       "│           ┆           ┆           ┆           ┆   ┆ more cons ┆ a factor  ┆           ┆          │\n",
       "│           ┆           ┆           ┆           ┆   ┆ istently. ┆ of around ┆           ┆          │\n",
       "│           ┆           ┆           ┆           ┆   ┆ The       ┆ 10 to a   ┆           ┆          │\n",
       "│           ┆           ┆           ┆           ┆   ┆ results   ┆ factor of ┆           ┆          │\n",
       "│           ┆           ┆           ┆           ┆   ┆ are consi ┆ about 2.  ┆           ┆          │\n",
       "│           ┆           ┆           ┆           ┆   ┆ stent     ┆           ┆           ┆          │\n",
       "│           ┆           ┆           ┆           ┆   ┆ with      ┆           ┆           ┆          │\n",
       "│           ┆           ┆           ┆           ┆   ┆ MOND, and ┆           ┆           ┆          │\n",
       "│           ┆           ┆           ┆           ┆   ┆ place     ┆           ┆           ┆          │\n",
       "│           ┆           ┆           ┆           ┆   ┆ limits on ┆           ┆           ┆          │\n",
       "│           ┆           ┆           ┆           ┆   ┆ alternati ┆           ┆           ┆          │\n",
       "│           ┆           ┆           ┆           ┆   ┆ ve explan ┆           ┆           ┆          │\n",
       "│           ┆           ┆           ┆           ┆   ┆ ations    ┆           ┆           ┆          │\n",
       "│           ┆           ┆           ┆           ┆   ┆ involving ┆           ┆           ┆          │\n",
       "│           ┆           ┆           ┆           ┆   ┆ dark      ┆           ┆           ┆          │\n",
       "│           ┆           ┆           ┆           ┆   ┆ matter    ┆           ┆           ┆          │\n",
       "│           ┆           ┆           ┆           ┆   ┆ alone.    ┆           ┆           ┆          │\n",
       "│ Which of  ┆ Dynamic   ┆ Dynamic   ┆ Dynamic   ┆ … ┆ The hypot ┆ The hypot ┆ C A E     ┆ C        │\n",
       "│ the       ┆ scaling   ┆ scaling   ┆ scaling   ┆   ┆ hesis     ┆ hesis     ┆           ┆          │\n",
       "│ following ┆ refers to ┆ refers to ┆ refers to ┆   ┆ itself is ┆ itself is ┆           ┆          │\n",
       "│ is an     ┆ the       ┆ the non-e ┆ the       ┆   ┆ as        ┆ as        ┆           ┆          │\n",
       "│ accurate  ┆ evolution ┆ volution  ┆ evolution ┆   ┆ follows:  ┆ follows:  ┆           ┆          │\n",
       "│ definitio ┆ of self-s ┆ of self-s ┆ of self-s ┆   ┆ \"animals  ┆ \"animals  ┆           ┆          │\n",
       "│ n of      ┆ imilar    ┆ imilar    ┆ imilar    ┆   ┆ of        ┆ of        ┆           ┆          │\n",
       "│ dynamic   ┆ systems,  ┆ systems,  ┆ systems,  ┆   ┆ different ┆ different ┆           ┆          │\n",
       "│ scaling   ┆ where     ┆ where     ┆ where     ┆   ┆ sizes     ┆ sizes     ┆           ┆          │\n",
       "│ in self-s ┆ data      ┆ data      ┆ data      ┆   ┆ tend to   ┆ tend to   ┆           ┆          │\n",
       "│ imilar    ┆ obtained  ┆ obtained  ┆ obtained  ┆   ┆ move in   ┆ move in   ┆           ┆          │\n",
       "│ systems?  ┆ from      ┆ from      ┆ from      ┆   ┆ dynamical ┆ dynamical ┆           ┆          │\n",
       "│           ┆ snapshots ┆ snapshots ┆ snapshots ┆   ┆ ly        ┆ ly        ┆           ┆          │\n",
       "│           ┆ at fixed  ┆ at fixed  ┆ at fixed  ┆   ┆ similar   ┆ similar   ┆           ┆          │\n",
       "│           ┆ times     ┆ times is  ┆ times is  ┆   ┆ fashion   ┆ fashion   ┆           ┆          │\n",
       "│           ┆ exhibits  ┆ similar   ┆ dissimila ┆   ┆ whenever  ┆ whenever  ┆           ┆          │\n",
       "│           ┆ similarit ┆ to the    ┆ r to the  ┆   ┆ the ratio ┆ the ratio ┆           ┆          │\n",
       "│           ┆ y to the  ┆ respectiv ┆ respectiv ┆   ┆ of their  ┆ of their  ┆           ┆          │\n",
       "│           ┆ respectiv ┆ e data    ┆ e data    ┆   ┆ speed     ┆ speed     ┆           ┆          │\n",
       "│           ┆ e data    ┆ taken     ┆ taken     ┆   ┆ allows    ┆ allows    ┆           ┆          │\n",
       "│           ┆ taken     ┆ from      ┆ from      ┆   ┆ it.\"      ┆ it.\"      ┆           ┆          │\n",
       "│           ┆ from      ┆ snapshots ┆ snapshots ┆   ┆ While the ┆ While the ┆           ┆          │\n",
       "│           ┆ snapshots ┆ of any    ┆ of any    ┆   ┆ dynamic   ┆ dynamic   ┆           ┆          │\n",
       "│           ┆ of any    ┆ earlier   ┆ earlier   ┆   ┆ similarit ┆ similarit ┆           ┆          │\n",
       "│           ┆ earlier   ┆ or later  ┆ or later  ┆   ┆ y hypothe ┆ y hypothe ┆           ┆          │\n",
       "│           ┆ or later  ┆ time.     ┆ time.     ┆   ┆ sis may   ┆ sis may   ┆           ┆          │\n",
       "│           ┆ time.     ┆ This simi ┆ This diss ┆   ┆ not be a  ┆ not be a  ┆           ┆          │\n",
       "│           ┆ This simi ┆ larity is ┆ imilarity ┆   ┆ truly     ┆ truly     ┆           ┆          │\n",
       "│           ┆ larity is ┆ tested by ┆ is tested ┆   ┆ unifying  ┆ unifying  ┆           ┆          │\n",
       "│           ┆ tested by ┆ a certain ┆ by a      ┆   ┆ principle ┆ principle ┆           ┆          │\n",
       "│           ┆ a certain ┆ time-depe ┆ certain   ┆   ┆ of animal ┆ of animal ┆           ┆          │\n",
       "│           ┆ time-depe ┆ ndent sto ┆ time-inde ┆   ┆ gait      ┆ gait      ┆           ┆          │\n",
       "│           ┆ ndent sto ┆ chastic   ┆ pendent   ┆   ┆ patterns, ┆ patterns, ┆           ┆          │\n",
       "│           ┆ chastic   ┆ variable  ┆ stochasti ┆   ┆ it is a   ┆ it is a   ┆           ┆          │\n",
       "│           ┆ variable  ┆ x.        ┆ c         ┆   ┆ remarkabl ┆ remarkabl ┆           ┆          │\n",
       "│           ┆ x.        ┆           ┆ variable  ┆   ┆ y         ┆ y         ┆           ┆          │\n",
       "│           ┆           ┆           ┆ y.        ┆   ┆ accurate  ┆ accurate  ┆           ┆          │\n",
       "│           ┆           ┆           ┆           ┆   ┆ heuristic ┆ heuristic ┆           ┆          │\n",
       "│           ┆           ┆           ┆           ┆   ┆ . It has  ┆ . It has  ┆           ┆          │\n",
       "│           ┆           ┆           ┆           ┆   ┆ also been ┆ also been ┆           ┆          │\n",
       "│           ┆           ┆           ┆           ┆   ┆ shown     ┆ shown     ┆           ┆          │\n",
       "│           ┆           ┆           ┆           ┆   ┆ that      ┆ that      ┆           ┆          │\n",
       "│           ┆           ┆           ┆           ┆   ┆ living    ┆ living    ┆           ┆          │\n",
       "│           ┆           ┆           ┆           ┆   ┆ organisms ┆ organisms ┆           ┆          │\n",
       "│           ┆           ┆           ┆           ┆   ┆ of all    ┆ of all    ┆           ┆          │\n",
       "│           ┆           ┆           ┆           ┆   ┆ shapes    ┆ shapes    ┆           ┆          │\n",
       "│           ┆           ┆           ┆           ┆   ┆ and sizes ┆ and sizes ┆           ┆          │\n",
       "│           ┆           ┆           ┆           ┆   ┆ utilize   ┆ utilize   ┆           ┆          │\n",
       "│           ┆           ┆           ┆           ┆   ┆ spring    ┆ spring    ┆           ┆          │\n",
       "│           ┆           ┆           ┆           ┆   ┆ mechanism ┆ mechanism ┆           ┆          │\n",
       "│           ┆           ┆           ┆           ┆   ┆ s in      ┆ s in      ┆           ┆          │\n",
       "│           ┆           ┆           ┆           ┆   ┆ their loc ┆ their loc ┆           ┆          │\n",
       "│           ┆           ┆           ┆           ┆   ┆ omotive   ┆ omotive   ┆           ┆          │\n",
       "│           ┆           ┆           ┆           ┆   ┆ systems,  ┆ systems,  ┆           ┆          │\n",
       "│           ┆           ┆           ┆           ┆   ┆ probably  ┆ probably  ┆           ┆          │\n",
       "│           ┆           ┆           ┆           ┆   ┆ in order  ┆ in order  ┆           ┆          │\n",
       "│           ┆           ┆           ┆           ┆   ┆ to        ┆ to        ┆           ┆          │\n",
       "│           ┆           ┆           ┆           ┆   ┆ minimize  ┆ minimize  ┆           ┆          │\n",
       "│           ┆           ┆           ┆           ┆   ┆ the       ┆ the       ┆           ┆          │\n",
       "│           ┆           ┆           ┆           ┆   ┆ energy    ┆ energy    ┆           ┆          │\n",
       "│           ┆           ┆           ┆           ┆   ┆ cost of   ┆ cost of   ┆           ┆          │\n",
       "│           ┆           ┆           ┆           ┆   ┆ locomotio ┆ locomotio ┆           ┆          │\n",
       "│           ┆           ┆           ┆           ┆   ┆ n. The    ┆ n. The    ┆           ┆          │\n",
       "│           ┆           ┆           ┆           ┆   ┆ allometri ┆ allometri ┆           ┆          │\n",
       "│           ┆           ┆           ┆           ┆   ┆ c study   ┆ c study   ┆           ┆          │\n",
       "│           ┆           ┆           ┆           ┆   ┆ of these  ┆ of these  ┆           ┆          │\n",
       "│           ┆           ┆           ┆           ┆   ┆ systems   ┆ systems   ┆           ┆          │\n",
       "│           ┆           ┆           ┆           ┆   ┆ has       ┆ has       ┆           ┆          │\n",
       "│           ┆           ┆           ┆           ┆   ┆ fostered  ┆ fostered  ┆           ┆          │\n",
       "│           ┆           ┆           ┆           ┆   ┆ a better  ┆ a better  ┆           ┆          │\n",
       "│           ┆           ┆           ┆           ┆   ┆ understan ┆ understan ┆           ┆          │\n",
       "│           ┆           ┆           ┆           ┆   ┆ ding of   ┆ ding of   ┆           ┆          │\n",
       "│           ┆           ┆           ┆           ┆   ┆ why       ┆ why       ┆           ┆          │\n",
       "│           ┆           ┆           ┆           ┆   ┆ spring    ┆ spring    ┆           ┆          │\n",
       "│           ┆           ┆           ┆           ┆   ┆ mechanism ┆ mechanism ┆           ┆          │\n",
       "│           ┆           ┆           ┆           ┆   ┆ s are so  ┆ s are so  ┆           ┆          │\n",
       "│           ┆           ┆           ┆           ┆   ┆ common,   ┆ common,   ┆           ┆          │\n",
       "│           ┆           ┆           ┆           ┆   ┆ how limb  ┆ how limb  ┆           ┆          │\n",
       "│           ┆           ┆           ┆           ┆   ┆ complianc ┆ complianc ┆           ┆          │\n",
       "│           ┆           ┆           ┆           ┆   ┆ e varies  ┆ e varies  ┆           ┆          │\n",
       "│           ┆           ┆           ┆           ┆   ┆ with body ┆ with body ┆           ┆          │\n",
       "│           ┆           ┆           ┆           ┆   ┆ size and  ┆ size and  ┆           ┆          │\n",
       "│           ┆           ┆           ┆           ┆   ┆ speed,    ┆ speed,    ┆           ┆          │\n",
       "│           ┆           ┆           ┆           ┆   ┆ and how   ┆ and how   ┆           ┆          │\n",
       "│           ┆           ┆           ┆           ┆   ┆ these mec ┆ these mec ┆           ┆          │\n",
       "│           ┆           ┆           ┆           ┆   ┆ hanisms   ┆ hanisms   ┆           ┆          │\n",
       "│           ┆           ┆           ┆           ┆   ┆ affect    ┆ affect    ┆           ┆          │\n",
       "│           ┆           ┆           ┆           ┆   ┆ general   ┆ general   ┆           ┆          │\n",
       "│           ┆           ┆           ┆           ┆   ┆ limb kine ┆ limb kine ┆           ┆          │\n",
       "│           ┆           ┆           ┆           ┆   ┆ matics    ┆ matics    ┆           ┆          │\n",
       "│           ┆           ┆           ┆           ┆   ┆ and       ┆ and       ┆           ┆          │\n",
       "│           ┆           ┆           ┆           ┆   ┆ dynamics. ┆ dynamics. ┆           ┆          │\n",
       "│           ┆           ┆           ┆           ┆   ┆ Principle ┆           ┆           ┆          │\n",
       "│           ┆           ┆           ┆           ┆   ┆ s of      ┆           ┆           ┆          │\n",
       "│           ┆           ┆           ┆           ┆   ┆ legged    ┆           ┆           ┆          │\n",
       "│           ┆           ┆           ┆           ┆   ┆ locomotio ┆           ┆           ┆          │\n",
       "│           ┆           ┆           ┆           ┆   ┆ n identif ┆           ┆           ┆          │\n",
       "│           ┆           ┆           ┆           ┆   ┆ ied       ┆           ┆           ┆          │\n",
       "│           ┆           ┆           ┆           ┆   ┆ through   ┆           ┆           ┆          │\n",
       "│           ┆           ┆           ┆           ┆   ┆ allometry ┆           ┆           ┆          │\n",
       "│           ┆           ┆           ┆           ┆   ┆ Alexander ┆           ┆           ┆          │\n",
       "│           ┆           ┆           ┆           ┆   ┆ found     ┆           ┆           ┆          │\n",
       "│           ┆           ┆           ┆           ┆   ┆ that      ┆           ┆           ┆          │\n",
       "│           ┆           ┆           ┆           ┆   ┆ animals   ┆           ┆           ┆          │\n",
       "│           ┆           ┆           ┆           ┆   ┆ of        ┆           ┆           ┆          │\n",
       "│           ┆           ┆           ┆           ┆   ┆ different ┆           ┆           ┆          │\n",
       "│           ┆           ┆           ┆           ┆   ┆ sizes and ┆           ┆           ┆          │\n",
       "│           ┆           ┆           ┆           ┆   ┆ masses    ┆           ┆           ┆          │\n",
       "│           ┆           ┆           ┆           ┆   ┆ traveling ┆           ┆           ┆          │\n",
       "│           ┆           ┆           ┆           ┆   ┆ with the  ┆           ┆           ┆          │\n",
       "│           ┆           ┆           ┆           ┆   ┆ same      ┆           ┆           ┆          │\n",
       "│           ┆           ┆           ┆           ┆   ┆ Froude    ┆           ┆           ┆          │\n",
       "│           ┆           ┆           ┆           ┆   ┆ number    ┆           ┆           ┆          │\n",
       "│           ┆           ┆           ┆           ┆   ┆ consisten ┆           ┆           ┆          │\n",
       "│           ┆           ┆           ┆           ┆   ┆ tly       ┆           ┆           ┆          │\n",
       "│           ┆           ┆           ┆           ┆   ┆ exhibit   ┆           ┆           ┆          │\n",
       "│           ┆           ┆           ┆           ┆   ┆ similar   ┆           ┆           ┆          │\n",
       "│           ┆           ┆           ┆           ┆   ┆ gait      ┆           ┆           ┆          │\n",
       "│           ┆           ┆           ┆           ┆   ┆ patterns. ┆           ┆           ┆          │\n",
       "│           ┆           ┆           ┆           ┆   ┆ Duty fact ┆           ┆           ┆          │\n",
       "│           ┆           ┆           ┆           ┆   ┆ ors—perce ┆           ┆           ┆          │\n",
       "│           ┆           ┆           ┆           ┆   ┆ ntages of ┆           ┆           ┆          │\n",
       "│           ┆           ┆           ┆           ┆   ┆ a stride  ┆           ┆           ┆          │\n",
       "│           ┆           ┆           ┆           ┆   ┆ during    ┆           ┆           ┆          │\n",
       "│           ┆           ┆           ┆           ┆   ┆ which a   ┆           ┆           ┆          │\n",
       "│           ┆           ┆           ┆           ┆   ┆ foot      ┆           ┆           ┆          │\n",
       "│           ┆           ┆           ┆           ┆   ┆ maintains ┆           ┆           ┆          │\n",
       "│           ┆           ┆           ┆           ┆   ┆ contact   ┆           ┆           ┆          │\n",
       "│           ┆           ┆           ┆           ┆   ┆ with the  ┆           ┆           ┆          │\n",
       "│           ┆           ┆           ┆           ┆   ┆ ground—re ┆           ┆           ┆          │\n",
       "│           ┆           ┆           ┆           ┆   ┆ main rela ┆           ┆           ┆          │\n",
       "│           ┆           ┆           ┆           ┆   ┆ tively    ┆           ┆           ┆          │\n",
       "│           ┆           ┆           ┆           ┆   ┆ constant  ┆           ┆           ┆          │\n",
       "│           ┆           ┆           ┆           ┆   ┆ for       ┆           ┆           ┆          │\n",
       "│           ┆           ┆           ┆           ┆   ┆ different ┆           ┆           ┆          │\n",
       "│           ┆           ┆           ┆           ┆   ┆ animals   ┆           ┆           ┆          │\n",
       "│           ┆           ┆           ┆           ┆   ┆ moving    ┆           ┆           ┆          │\n",
       "│           ┆           ┆           ┆           ┆   ┆ with the  ┆           ┆           ┆          │\n",
       "│           ┆           ┆           ┆           ┆   ┆ same      ┆           ┆           ┆          │\n",
       "│           ┆           ┆           ┆           ┆   ┆ Froude    ┆           ┆           ┆          │\n",
       "│           ┆           ┆           ┆           ┆   ┆ number.   ┆           ┆           ┆          │\n",
       "│           ┆           ┆           ┆           ┆   ┆ The       ┆           ┆           ┆          │\n",
       "│           ┆           ┆           ┆           ┆   ┆ dynamic   ┆           ┆           ┆          │\n",
       "│           ┆           ┆           ┆           ┆   ┆ similarit ┆           ┆           ┆          │\n",
       "│           ┆           ┆           ┆           ┆   ┆ y hypothe ┆           ┆           ┆          │\n",
       "│           ┆           ┆           ┆           ┆   ┆ sis       ┆           ┆           ┆          │\n",
       "│           ┆           ┆           ┆           ┆   ┆ states    ┆           ┆           ┆          │\n",
       "│           ┆           ┆           ┆           ┆   ┆ that      ┆           ┆           ┆          │\n",
       "│           ┆           ┆           ┆           ┆   ┆ \"animals  ┆           ┆           ┆          │\n",
       "│           ┆           ┆           ┆           ┆   ┆ of        ┆           ┆           ┆          │\n",
       "│           ┆           ┆           ┆           ┆   ┆ different ┆           ┆           ┆          │\n",
       "│           ┆           ┆           ┆           ┆   ┆ sizes     ┆           ┆           ┆          │\n",
       "│           ┆           ┆           ┆           ┆   ┆ tend to   ┆           ┆           ┆          │\n",
       "│           ┆           ┆           ┆           ┆   ┆ move in   ┆           ┆           ┆          │\n",
       "│           ┆           ┆           ┆           ┆   ┆ dynamical ┆           ┆           ┆          │\n",
       "│           ┆           ┆           ┆           ┆   ┆ ly        ┆           ┆           ┆          │\n",
       "│           ┆           ┆           ┆           ┆   ┆ similar   ┆           ┆           ┆          │\n",
       "│           ┆           ┆           ┆           ┆   ┆ fashion   ┆           ┆           ┆          │\n",
       "│           ┆           ┆           ┆           ┆   ┆ whenever  ┆           ┆           ┆          │\n",
       "│           ┆           ┆           ┆           ┆   ┆ the ratio ┆           ┆           ┆          │\n",
       "│           ┆           ┆           ┆           ┆   ┆ of their  ┆           ┆           ┆          │\n",
       "│           ┆           ┆           ┆           ┆   ┆ speed     ┆           ┆           ┆          │\n",
       "│           ┆           ┆           ┆           ┆   ┆ allows    ┆           ┆           ┆          │\n",
       "│           ┆           ┆           ┆           ┆   ┆ it\".      ┆           ┆           ┆          │\n",
       "│ Which of  ┆ The       ┆ The       ┆ The       ┆ … ┆ file:Andr ┆ Using     ┆ D A C     ┆ D        │\n",
       "│ the       ┆ triskeles ┆ triskeles ┆ triskeles ┆   ┆ eas       ┆ these     ┆           ┆          │\n",
       "│ following ┆ symbol    ┆ symbol is ┆ symbol is ┆   ┆ Cunaeus   ┆ sensors,  ┆           ┆          │\n",
       "│ statement ┆ was recon ┆ a represe ┆ a represe ┆   ┆ discoveri ┆ Heraud    ┆           ┆          │\n",
       "│ s accurat ┆ structed  ┆ ntation   ┆ ntation   ┆   ┆ ng the    ┆ says that ┆           ┆          │\n",
       "│ ely       ┆ as a      ┆ of three  ┆ of a      ┆   ┆ Leyden    ┆ he has    ┆           ┆          │\n",
       "│ describes ┆ feminine  ┆ interlink ┆ triple    ┆   ┆ jar.png   ┆ been able ┆           ┆          │\n",
       "│ the       ┆ divine    ┆ ed        ┆ goddess,  ┆   ┆ The       ┆ to triang ┆           ┆          │\n",
       "│ origin    ┆ triad by  ┆ spirals,  ┆ reconstru ┆   ┆ Ancient   ┆ ulate     ┆           ┆          │\n",
       "│ and signi ┆ the       ┆ which was ┆ cted by   ┆   ┆ Greeks    ┆ pulses    ┆           ┆          │\n",
       "│ ficance   ┆ rulers of ┆ adopted   ┆ the       ┆   ┆ already   ┆ seen from ┆           ┆          │\n",
       "│ of the    ┆ Syracuse, ┆ as an     ┆ rulers of ┆   ┆ knew that ┆ multiple  ┆           ┆          │\n",
       "│ triskeles ┆ and later ┆ emblem by ┆ Syracuse, ┆   ┆ pieces of ┆ sites, in ┆           ┆          │\n",
       "│ symbol?   ┆ adopted   ┆ the       ┆ who       ┆   ┆ amber     ┆ order to  ┆           ┆          │\n",
       "│           ┆ as an     ┆ rulers of ┆ adopted   ┆   ┆ could     ┆ determine ┆           ┆          │\n",
       "│           ┆ emblem.   ┆ Syracuse. ┆ it as an  ┆   ┆ attract   ┆ the       ┆           ┆          │\n",
       "│           ┆ Its usage ┆ Its usage ┆ emblem.   ┆   ┆ lightweig ┆ origin of ┆           ┆          │\n",
       "│           ┆ may also  ┆ in modern ┆ Its signi ┆   ┆ ht        ┆ the       ┆           ┆          │\n",
       "│           ┆ be        ┆ flags of  ┆ ficance   ┆   ┆ particles ┆ pulses.   ┆           ┆          │\n",
       "│           ┆ related   ┆ Sicily    ┆ lies in   ┆   ┆ after     ┆ He said   ┆           ┆          │\n",
       "│           ┆ to the    ┆ has its   ┆ the fact  ┆   ┆ being     ┆ that the  ┆           ┆          │\n",
       "│           ┆ Greek     ┆ origins   ┆ that it   ┆   ┆ rubbed.   ┆ pulses    ┆           ┆          │\n",
       "│           ┆ name of   ┆ in the    ┆ represent ┆   ┆ The amber ┆ are seen  ┆           ┆          │\n",
       "│           ┆ Sicily,   ┆ ancient   ┆ s the     ┆   ┆ becomes   ┆ beginning ┆           ┆          │\n",
       "│           ┆ Trinacria ┆ Greek     ┆ Greek     ┆   ┆ electrifi ┆ from 11   ┆           ┆          │\n",
       "│           ┆ , which   ┆ name for  ┆ name for  ┆   ┆ ed by the ┆ to 18     ┆           ┆          │\n",
       "│           ┆ means     ┆ the       ┆ Sicily,   ┆   ┆ triboelec ┆ days      ┆           ┆          │\n",
       "│           ┆ \"having   ┆ island,   ┆ Trinacria ┆   ┆ tric effe ┆ before an ┆           ┆          │\n",
       "│           ┆ three hea ┆ Trinacria ┆ , which   ┆   ┆ ct,efnThe ┆ impending ┆           ┆          │\n",
       "│           ┆ dlands.\"  ┆ , which   ┆ contains  ┆   ┆ prefix    ┆ earthquak ┆           ┆          │\n",
       "│           ┆ The head  ┆ means     ┆ the       ┆   ┆ tribo-    ┆ e, and    ┆           ┆          │\n",
       "│           ┆ of Medusa ┆ \"Sicily   ┆ element   ┆   ┆ (Greek    ┆ have been ┆           ┆          │\n",
       "│           ┆ at the    ┆ with      ┆ \"tria,\"   ┆   ┆ for       ┆ used to   ┆           ┆          │\n",
       "│           ┆ center of ┆ three     ┆ meaning   ┆   ┆ ‘rub’)    ┆ determine ┆           ┆          │\n",
       "│           ┆ the       ┆ corners.\" ┆ three.    ┆   ┆ refers to ┆ the       ┆           ┆          │\n",
       "│           ┆ Sicilian  ┆ The head  ┆ The head  ┆   ┆ ‘friction ┆ location  ┆           ┆          │\n",
       "│           ┆ triskeles ┆ of Medusa ┆ of Medusa ┆   ┆ ’ mechani ┆ and       ┆           ┆          │\n",
       "│           ┆ represent ┆ at the    ┆ at the    ┆   ┆ cal separ ┆ timing of ┆           ┆          │\n",
       "│           ┆ s the     ┆ center is ┆ center of ┆   ┆ ation of  ┆ future    ┆           ┆          │\n",
       "│           ┆ three hea ┆ a represe ┆ the       ┆   ┆ charge in ┆ seismic   ┆           ┆          │\n",
       "│           ┆ dlands.   ┆ ntation   ┆ Sicilian  ┆   ┆ a dielect ┆ events.   ┆           ┆          │\n",
       "│           ┆           ┆ of the    ┆ triskeles ┆   ┆ ric. The  ┆ However,  ┆           ┆          │\n",
       "│           ┆           ┆ island's  ┆ represent ┆   ┆ Greek     ┆ insofar   ┆           ┆          │\n",
       "│           ┆           ┆ rich      ┆ s the     ┆   ┆ word for  ┆ as a veri ┆           ┆          │\n",
       "│           ┆           ┆ cultural  ┆ three hea ┆   ┆ amber is  ┆ fiable    ┆           ┆          │\n",
       "│           ┆           ┆ heritage. ┆ dlands.   ┆   ┆ ἤλεκτρον  ┆ predictio ┆           ┆          │\n",
       "│           ┆           ┆           ┆           ┆   ┆ (\"ēlektro ┆ n would   ┆           ┆          │\n",
       "│           ┆           ┆           ┆           ┆   ┆ n\") and   ┆ require a ┆           ┆          │\n",
       "│           ┆           ┆           ┆           ┆   ┆ is the    ┆ publicly- ┆           ┆          │\n",
       "│           ┆           ┆           ┆           ┆   ┆ origin of ┆ stated    ┆           ┆          │\n",
       "│           ┆           ┆           ┆           ┆   ┆ the word  ┆ announcem ┆           ┆          │\n",
       "│           ┆           ┆           ┆           ┆   ┆ \"electric ┆ ent of    ┆           ┆          │\n",
       "│           ┆           ┆           ┆           ┆   ┆ ity\".     ┆ the       ┆           ┆          │\n",
       "│           ┆           ┆           ┆           ┆   ┆ Thales of ┆ location, ┆           ┆          │\n",
       "│           ┆           ┆           ┆           ┆   ┆ Miletus,  ┆ time, and ┆           ┆          │\n",
       "│           ┆           ┆           ┆           ┆   ┆ a Pre-Soc ┆ size of   ┆           ┆          │\n",
       "│           ┆           ┆           ┆           ┆   ┆ ratic phi ┆ an        ┆           ┆          │\n",
       "│           ┆           ┆           ┆           ┆   ┆ losophy   ┆ impending ┆           ┆          │\n",
       "│           ┆           ┆           ┆           ┆   ┆ is        ┆ event     ┆           ┆          │\n",
       "│           ┆           ┆           ┆           ┆   ┆ thought   ┆ before    ┆           ┆          │\n",
       "│           ┆           ┆           ┆           ┆   ┆ to have   ┆ its occur ┆           ┆          │\n",
       "│           ┆           ┆           ┆           ┆   ┆ accidenta ┆ rence,    ┆           ┆          │\n",
       "│           ┆           ┆           ┆           ┆   ┆ lly       ┆ neither   ┆           ┆          │\n",
       "│           ┆           ┆           ┆           ┆   ┆ commented ┆ Quakefind ┆           ┆          │\n",
       "│           ┆           ┆           ┆           ┆   ┆ on the    ┆ er nor    ┆           ┆          │\n",
       "│           ┆           ┆           ┆           ┆   ┆ phenomena ┆ Heraud    ┆           ┆          │\n",
       "│           ┆           ┆           ┆           ┆   ┆ of electr ┆ have yet  ┆           ┆          │\n",
       "│           ┆           ┆           ┆           ┆   ┆ ostatic   ┆ verifiabl ┆           ┆          │\n",
       "│           ┆           ┆           ┆           ┆   ┆ charging, ┆ y         ┆           ┆          │\n",
       "│           ┆           ┆           ┆           ┆   ┆ due to    ┆ predicted ┆           ┆          │\n",
       "│           ┆           ┆           ┆           ┆   ┆ his       ┆ an earthq ┆           ┆          │\n",
       "│           ┆           ┆           ┆           ┆   ┆ belief    ┆ uake,     ┆           ┆          │\n",
       "│           ┆           ┆           ┆           ┆   ┆ that even ┆ much less ┆           ┆          │\n",
       "│           ┆           ┆           ┆           ┆   ┆ lifeless  ┆ issued    ┆           ┆          │\n",
       "│           ┆           ┆           ┆           ┆   ┆ things    ┆ multiple  ┆           ┆          │\n",
       "│           ┆           ┆           ┆           ┆   ┆ have a    ┆ predictio ┆           ┆          │\n",
       "│           ┆           ┆           ┆           ┆   ┆ soul in   ┆ ns of the ┆           ┆          │\n",
       "│           ┆           ┆           ┆           ┆   ┆ them,     ┆ type that ┆           ┆          │\n",
       "│           ┆           ┆           ┆           ┆   ┆ hence the ┆ might be  ┆           ┆          │\n",
       "│           ┆           ┆           ┆           ┆   ┆ popular   ┆ objective ┆           ┆          │\n",
       "│           ┆           ┆           ┆           ┆   ┆ analogy   ┆ ly        ┆           ┆          │\n",
       "│           ┆           ┆           ┆           ┆   ┆ of the    ┆ testable  ┆           ┆          │\n",
       "│           ┆           ┆           ┆           ┆   ┆ spark.    ┆ for stati ┆           ┆          │\n",
       "│           ┆           ┆           ┆           ┆   ┆ Around    ┆ stical    ┆           ┆          │\n",
       "│           ┆           ┆           ┆           ┆   ┆ 1650,     ┆ significa ┆           ┆          │\n",
       "│           ┆           ┆           ┆           ┆   ┆ Otto von  ┆ nce.      ┆           ┆          │\n",
       "│           ┆           ┆           ┆           ┆   ┆ Guericke  ┆           ┆           ┆          │\n",
       "│           ┆           ┆           ┆           ┆   ┆ built a   ┆           ┆           ┆          │\n",
       "│           ┆           ┆           ┆           ┆   ┆ crude ele ┆           ┆           ┆          │\n",
       "│           ┆           ┆           ┆           ┆   ┆ ctrostati ┆           ┆           ┆          │\n",
       "│           ┆           ┆           ┆           ┆   ┆ c generat ┆           ┆           ┆          │\n",
       "│           ┆           ┆           ┆           ┆   ┆ or: a     ┆           ┆           ┆          │\n",
       "│           ┆           ┆           ┆           ┆   ┆ sulfur    ┆           ┆           ┆          │\n",
       "│           ┆           ┆           ┆           ┆   ┆ ball that ┆           ┆           ┆          │\n",
       "│           ┆           ┆           ┆           ┆   ┆ rotated   ┆           ┆           ┆          │\n",
       "│           ┆           ┆           ┆           ┆   ┆ on a      ┆           ┆           ┆          │\n",
       "│           ┆           ┆           ┆           ┆   ┆ shaft.    ┆           ┆           ┆          │\n",
       "│           ┆           ┆           ┆           ┆   ┆ When      ┆           ┆           ┆          │\n",
       "│           ┆           ┆           ┆           ┆   ┆ Guericke  ┆           ┆           ┆          │\n",
       "│           ┆           ┆           ┆           ┆   ┆ held his  ┆           ┆           ┆          │\n",
       "│           ┆           ┆           ┆           ┆   ┆ hand      ┆           ┆           ┆          │\n",
       "│           ┆           ┆           ┆           ┆   ┆ against   ┆           ┆           ┆          │\n",
       "│           ┆           ┆           ┆           ┆   ┆ the ball  ┆           ┆           ┆          │\n",
       "│           ┆           ┆           ┆           ┆   ┆ and       ┆           ┆           ┆          │\n",
       "│           ┆           ┆           ┆           ┆   ┆ turned    ┆           ┆           ┆          │\n",
       "│           ┆           ┆           ┆           ┆   ┆ the shaft ┆           ┆           ┆          │\n",
       "│           ┆           ┆           ┆           ┆   ┆ quickly,  ┆           ┆           ┆          │\n",
       "│           ┆           ┆           ┆           ┆   ┆ a static  ┆           ┆           ┆          │\n",
       "│           ┆           ┆           ┆           ┆   ┆ electric  ┆           ┆           ┆          │\n",
       "│           ┆           ┆           ┆           ┆   ┆ charge    ┆           ┆           ┆          │\n",
       "│           ┆           ┆           ┆           ┆   ┆ built up. ┆           ┆           ┆          │\n",
       "│           ┆           ┆           ┆           ┆   ┆ This expe ┆           ┆           ┆          │\n",
       "│           ┆           ┆           ┆           ┆   ┆ riment    ┆           ┆           ┆          │\n",
       "│           ┆           ┆           ┆           ┆   ┆ inspired  ┆           ┆           ┆          │\n",
       "│           ┆           ┆           ┆           ┆   ┆ the devel ┆           ┆           ┆          │\n",
       "│           ┆           ┆           ┆           ┆   ┆ opment of ┆           ┆           ┆          │\n",
       "│           ┆           ┆           ┆           ┆   ┆ several   ┆           ┆           ┆          │\n",
       "│           ┆           ┆           ┆           ┆   ┆ forms of  ┆           ┆           ┆          │\n",
       "│           ┆           ┆           ┆           ┆   ┆ \"friction ┆           ┆           ┆          │\n",
       "│           ┆           ┆           ┆           ┆   ┆ machines\" ┆           ┆           ┆          │\n",
       "│           ┆           ┆           ┆           ┆   ┆ , that    ┆           ┆           ┆          │\n",
       "│           ┆           ┆           ┆           ┆   ┆ greatly   ┆           ┆           ┆          │\n",
       "│           ┆           ┆           ┆           ┆   ┆ helped in ┆           ┆           ┆          │\n",
       "│           ┆           ┆           ┆           ┆   ┆ the study ┆           ┆           ┆          │\n",
       "│           ┆           ┆           ┆           ┆   ┆ of electr ┆           ┆           ┆          │\n",
       "│           ┆           ┆           ┆           ┆   ┆ icity.    ┆           ┆           ┆          │\n",
       "│           ┆           ┆           ┆           ┆   ┆ The       ┆           ┆           ┆          │\n",
       "│           ┆           ┆           ┆           ┆   ┆ Leyden    ┆           ┆           ┆          │\n",
       "│           ┆           ┆           ┆           ┆   ┆ jar was   ┆           ┆           ┆          │\n",
       "│           ┆           ┆           ┆           ┆   ┆ effective ┆           ┆           ┆          │\n",
       "│           ┆           ┆           ┆           ┆   ┆ ly discov ┆           ┆           ┆          │\n",
       "│           ┆           ┆           ┆           ┆   ┆ ered inde ┆           ┆           ┆          │\n",
       "│           ┆           ┆           ┆           ┆   ┆ pendently ┆           ┆           ┆          │\n",
       "│           ┆           ┆           ┆           ┆   ┆ by two    ┆           ┆           ┆          │\n",
       "│           ┆           ┆           ┆           ┆   ┆ parties:  ┆           ┆           ┆          │\n",
       "│           ┆           ┆           ┆           ┆   ┆ German    ┆           ┆           ┆          │\n",
       "│           ┆           ┆           ┆           ┆   ┆ deacon    ┆           ┆           ┆          │\n",
       "│           ┆           ┆           ┆           ┆   ┆ Ewald     ┆           ┆           ┆          │\n",
       "│           ┆           ┆           ┆           ┆   ┆ Georg von ┆           ┆           ┆          │\n",
       "│           ┆           ┆           ┆           ┆   ┆ Kleist,   ┆           ┆           ┆          │\n",
       "│           ┆           ┆           ┆           ┆   ┆ who made  ┆           ┆           ┆          │\n",
       "│           ┆           ┆           ┆           ┆   ┆ the first ┆           ┆           ┆          │\n",
       "│           ┆           ┆           ┆           ┆   ┆ discovery ┆           ┆           ┆          │\n",
       "│           ┆           ┆           ┆           ┆   ┆ , and     ┆           ┆           ┆          │\n",
       "│           ┆           ┆           ┆           ┆   ┆ Dutch sci ┆           ┆           ┆          │\n",
       "│           ┆           ┆           ┆           ┆   ┆ entists   ┆           ┆           ┆          │\n",
       "│           ┆           ┆           ┆           ┆   ┆ Pieter    ┆           ┆           ┆          │\n",
       "│           ┆           ┆           ┆           ┆   ┆ van Mussc ┆           ┆           ┆          │\n",
       "│           ┆           ┆           ┆           ┆   ┆ henbroek  ┆           ┆           ┆          │\n",
       "│           ┆           ┆           ┆           ┆   ┆ and       ┆           ┆           ┆          │\n",
       "│           ┆           ┆           ┆           ┆   ┆ Andreas   ┆           ┆           ┆          │\n",
       "│           ┆           ┆           ┆           ┆   ┆ Cunaeus,  ┆           ┆           ┆          │\n",
       "│           ┆           ┆           ┆           ┆   ┆ who       ┆           ┆           ┆          │\n",
       "│           ┆           ┆           ┆           ┆   ┆ figured   ┆           ┆           ┆          │\n",
       "│           ┆           ┆           ┆           ┆   ┆ out how   ┆           ┆           ┆          │\n",
       "│           ┆           ┆           ┆           ┆   ┆ it worked ┆           ┆           ┆          │\n",
       "│           ┆           ┆           ┆           ┆   ┆ only when ┆           ┆           ┆          │\n",
       "│           ┆           ┆           ┆           ┆   ┆ held in   ┆           ┆           ┆          │\n",
       "│           ┆           ┆           ┆           ┆   ┆ the hand. ┆           ┆           ┆          │\n",
       "│ What is   ┆ Regulariz ┆ Regulariz ┆ Regulariz ┆ … ┆ Renormali ┆ __NOTOC__ ┆ A E D     ┆ A        │\n",
       "│ the signi ┆ ing the   ┆ ing the   ┆ ing the   ┆   ┆ zation    ┆ Renormali ┆           ┆          │\n",
       "│ ficance   ┆ mass-ener ┆ mass-ener ┆ mass-ener ┆   ┆ and regul ┆ zation    ┆           ┆          │\n",
       "│ of regula ┆ gy of an  ┆ gy of an  ┆ gy of an  ┆   ┆ arization ┆ and regul ┆           ┆          │\n",
       "│ rization  ┆ electron  ┆ electron  ┆ electron  ┆   ┆ In        ┆ arization ┆           ┆          │\n",
       "│ in terms  ┆ with a    ┆ with an   ┆ with a    ┆   ┆ physics,  ┆ In theore ┆           ┆          │\n",
       "│ of renorm ┆ finite    ┆ infinite  ┆ finite    ┆   ┆ especiall ┆ tical     ┆           ┆          │\n",
       "│ alization ┆ radius    ┆ radius    ┆ radius is ┆   ┆ y quantum ┆ physics,  ┆           ┆          │\n",
       "│ problems  ┆ can theor ┆ allows    ┆ a means   ┆   ┆ field     ┆ Pauli–Vil ┆           ┆          │\n",
       "│ in        ┆ etically  ┆ for the   ┆ of demons ┆   ┆ theory,   ┆ lars regu ┆           ┆          │\n",
       "│ physics?  ┆ simplify  ┆ breakdown ┆ trating   ┆   ┆ regulariz ┆ larizatio ┆           ┆          │\n",
       "│           ┆ calculati ┆ of a      ┆ that a    ┆   ┆ ation is  ┆ n (P–V)   ┆           ┆          │\n",
       "│           ┆ ons       ┆ theory    ┆ system    ┆   ┆ a method  ┆ is a      ┆           ┆          │\n",
       "│           ┆ involving ┆ that is   ┆ below a   ┆   ┆ of        ┆ procedure ┆           ┆          │\n",
       "│           ┆ infinitie ┆ valid     ┆ certain   ┆   ┆ modifying ┆ that      ┆           ┆          │\n",
       "│           ┆ s or sing ┆ under one ┆ size can  ┆   ┆ observabl ┆ isolates  ┆           ┆          │\n",
       "│           ┆ ularities ┆ set of    ┆ be        ┆   ┆ es which  ┆ divergent ┆           ┆          │\n",
       "│           ┆ , thereby ┆ condition ┆ explained ┆   ┆ have Sing ┆ terms     ┆           ┆          │\n",
       "│           ┆ providing ┆ s. This   ┆ without   ┆   ┆ ularity   ┆ from      ┆           ┆          │\n",
       "│           ┆ explanati ┆ approach  ┆ the need  ┆   ┆ (mathemat ┆ finite    ┆           ┆          │\n",
       "│           ┆ ons that  ┆ can be    ┆ for       ┆   ┆ ics) in   ┆ parts in  ┆           ┆          │\n",
       "│           ┆ would     ┆ applied   ┆ further   ┆   ┆ order to  ┆ loop calc ┆           ┆          │\n",
       "│           ┆ otherwise ┆ to other  ┆ calculati ┆   ┆ make them ┆ ulations  ┆           ┆          │\n",
       "│           ┆ be imposs ┆ renormali ┆ ons. This ┆   ┆ finite by ┆ in field  ┆           ┆          │\n",
       "│           ┆ ible to   ┆ zation    ┆ approach  ┆   ┆ the intro ┆ theory    ┆           ┆          │\n",
       "│           ┆ achieve.  ┆ problems  ┆ can be    ┆   ┆ duction   ┆ (physics) ┆           ┆          │\n",
       "│           ┆           ┆ as well.  ┆ applied   ┆   ┆ of a      ┆ in order  ┆           ┆          │\n",
       "│           ┆           ┆           ┆ to other  ┆   ┆ suitable  ┆ to renorm ┆           ┆          │\n",
       "│           ┆           ┆           ┆ renormali ┆   ┆ parameter ┆ alization ┆           ┆          │\n",
       "│           ┆           ┆           ┆ zation    ┆   ┆ called    ┆ the       ┆           ┆          │\n",
       "│           ┆           ┆           ┆ problems  ┆   ┆ the regul ┆ theory.   ┆           ┆          │\n",
       "│           ┆           ┆           ┆ as well.  ┆   ┆ ator. The ┆ Wolfgang  ┆           ┆          │\n",
       "│           ┆           ┆           ┆           ┆   ┆ regulator ┆ Pauli and ┆           ┆          │\n",
       "│           ┆           ┆           ┆           ┆   ┆ , also    ┆ Felix     ┆           ┆          │\n",
       "│           ┆           ┆           ┆           ┆   ┆ known as  ┆ Villars   ┆           ┆          │\n",
       "│           ┆           ┆           ┆           ┆   ┆ a         ┆ published ┆           ┆          │\n",
       "│           ┆           ┆           ┆           ┆   ┆ \"cutoff\", ┆ the       ┆           ┆          │\n",
       "│           ┆           ┆           ┆           ┆   ┆ models    ┆ method in ┆           ┆          │\n",
       "│           ┆           ┆           ┆           ┆   ┆ our lack  ┆ 1949,     ┆           ┆          │\n",
       "│           ┆           ┆           ┆           ┆   ┆ of        ┆ based on  ┆           ┆          │\n",
       "│           ┆           ┆           ┆           ┆   ┆ knowledge ┆ earlier   ┆           ┆          │\n",
       "│           ┆           ┆           ┆           ┆   ┆ about     ┆ work by   ┆           ┆          │\n",
       "│           ┆           ┆           ┆           ┆   ┆ physics   ┆ Richard   ┆           ┆          │\n",
       "│           ┆           ┆           ┆           ┆   ┆ at unobse ┆ Feynman,  ┆           ┆          │\n",
       "│           ┆           ┆           ┆           ┆   ┆ rved      ┆ Ernst Stu ┆           ┆          │\n",
       "│           ┆           ┆           ┆           ┆   ┆ scales    ┆ eckelberg ┆           ┆          │\n",
       "│           ┆           ┆           ┆           ┆   ┆ (e.g.     ┆ and       ┆           ┆          │\n",
       "│           ┆           ┆           ┆           ┆   ┆ scales of ┆ Dominique ┆           ┆          │\n",
       "│           ┆           ┆           ┆           ┆   ┆ small     ┆ Rivier.   ┆           ┆          │\n",
       "│           ┆           ┆           ┆           ┆   ┆ size or   ┆ In this   ┆           ┆          │\n",
       "│           ┆           ┆           ┆           ┆   ┆ large     ┆ treatment ┆           ┆          │\n",
       "│           ┆           ┆           ┆           ┆   ┆ energy    ┆ , a diver ┆           ┆          │\n",
       "│           ┆           ┆           ┆           ┆   ┆ levels).  ┆ gence     ┆           ┆          │\n",
       "│           ┆           ┆           ┆           ┆   ┆ It compen ┆ arising   ┆           ┆          │\n",
       "│           ┆           ┆           ┆           ┆   ┆ sates for ┆ from a    ┆           ┆          │\n",
       "│           ┆           ┆           ┆           ┆   ┆ (and      ┆ loop      ┆           ┆          │\n",
       "│           ┆           ┆           ┆           ┆   ┆ requires) ┆ integral  ┆           ┆          │\n",
       "│           ┆           ┆           ┆           ┆   ┆ the possi ┆ (such as  ┆           ┆          │\n",
       "│           ┆           ┆           ┆           ┆   ┆ bility    ┆ vacuum    ┆           ┆          │\n",
       "│           ┆           ┆           ┆           ┆   ┆ that \"new ┆ polarizat ┆           ┆          │\n",
       "│           ┆           ┆           ┆           ┆   ┆ physics\"  ┆ ion or    ┆           ┆          │\n",
       "│           ┆           ┆           ┆           ┆   ┆ may be    ┆ electron  ┆           ┆          │\n",
       "│           ┆           ┆           ┆           ┆   ┆ discovere ┆ self-ener ┆           ┆          │\n",
       "│           ┆           ┆           ┆           ┆   ┆ d at      ┆ gy) is    ┆           ┆          │\n",
       "│           ┆           ┆           ┆           ┆   ┆ those     ┆ modulated ┆           ┆          │\n",
       "│           ┆           ┆           ┆           ┆   ┆ scales    ┆ by a      ┆           ┆          │\n",
       "│           ┆           ┆           ┆           ┆   ┆ which the ┆ spectrum  ┆           ┆          │\n",
       "│           ┆           ┆           ┆           ┆   ┆ present   ┆ of        ┆           ┆          │\n",
       "│           ┆           ┆           ┆           ┆   ┆ theory is ┆ auxiliary ┆           ┆          │\n",
       "│           ┆           ┆           ┆           ┆   ┆ unable to ┆ particles ┆           ┆          │\n",
       "│           ┆           ┆           ┆           ┆   ┆ model,    ┆ added to  ┆           ┆          │\n",
       "│           ┆           ┆           ┆           ┆   ┆ while     ┆ the Lagra ┆           ┆          │\n",
       "│           ┆           ┆           ┆           ┆   ┆ enabling  ┆ ngian     ┆           ┆          │\n",
       "│           ┆           ┆           ┆           ┆   ┆ the       ┆ (field    ┆           ┆          │\n",
       "│           ┆           ┆           ┆           ┆   ┆ current   ┆ theory)   ┆           ┆          │\n",
       "│           ┆           ┆           ┆           ┆   ┆ theory to ┆ or propag ┆           ┆          │\n",
       "│           ┆           ┆           ┆           ┆   ┆ give      ┆ ator.     ┆           ┆          │\n",
       "│           ┆           ┆           ┆           ┆   ┆ accurate  ┆ When the  ┆           ┆          │\n",
       "│           ┆           ┆           ┆           ┆   ┆ predictio ┆ masses of ┆           ┆          │\n",
       "│           ┆           ┆           ┆           ┆   ┆ ns as an  ┆ the ficti ┆           ┆          │\n",
       "│           ┆           ┆           ┆           ┆   ┆ \"effectiv ┆ tious     ┆           ┆          │\n",
       "│           ┆           ┆           ┆           ┆   ┆ e theory\" ┆ particles ┆           ┆          │\n",
       "│           ┆           ┆           ┆           ┆   ┆ within    ┆ are taken ┆           ┆          │\n",
       "│           ┆           ┆           ┆           ┆   ┆ its       ┆ as an     ┆           ┆          │\n",
       "│           ┆           ┆           ┆           ┆   ┆ intended  ┆ infinite  ┆           ┆          │\n",
       "│           ┆           ┆           ┆           ┆   ┆ scale of  ┆ limit     ┆           ┆          │\n",
       "│           ┆           ┆           ┆           ┆   ┆ use. It   ┆ (i.e.,    ┆           ┆          │\n",
       "│           ┆           ┆           ┆           ┆   ┆ is        ┆ once the  ┆           ┆          │\n",
       "│           ┆           ┆           ┆           ┆   ┆ distinct  ┆ regulator ┆           ┆          │\n",
       "│           ┆           ┆           ┆           ┆   ┆ from reno ┆ is        ┆           ┆          │\n",
       "│           ┆           ┆           ┆           ┆   ┆ rmalizati ┆ removed)  ┆           ┆          │\n",
       "│           ┆           ┆           ┆           ┆   ┆ on,       ┆ one       ┆           ┆          │\n",
       "│           ┆           ┆           ┆           ┆   ┆ another   ┆ expects   ┆           ┆          │\n",
       "│           ┆           ┆           ┆           ┆   ┆ technique ┆ to        ┆           ┆          │\n",
       "│           ┆           ┆           ┆           ┆   ┆ to        ┆ recover   ┆           ┆          │\n",
       "│           ┆           ┆           ┆           ┆   ┆ control   ┆ the       ┆           ┆          │\n",
       "│           ┆           ┆           ┆           ┆   ┆ infinitie ┆ original  ┆           ┆          │\n",
       "│           ┆           ┆           ┆           ┆   ┆ s without ┆ theory.   ┆           ┆          │\n",
       "│           ┆           ┆           ┆           ┆   ┆ assuming  ┆ This regu ┆           ┆          │\n",
       "│           ┆           ┆           ┆           ┆   ┆ new       ┆ larizatio ┆           ┆          │\n",
       "│           ┆           ┆           ┆           ┆   ┆ physics,  ┆ n         ┆           ┆          │\n",
       "│           ┆           ┆           ┆           ┆   ┆ by        ┆ (physics) ┆           ┆          │\n",
       "│           ┆           ┆           ┆           ┆   ┆ adjusting ┆ is gauge  ┆           ┆          │\n",
       "│           ┆           ┆           ┆           ┆   ┆ for self- ┆ invarianc ┆           ┆          │\n",
       "│           ┆           ┆           ┆           ┆   ┆ interacti ┆ e in an   ┆           ┆          │\n",
       "│           ┆           ┆           ┆           ┆   ┆ on        ┆ abelian   ┆           ┆          │\n",
       "│           ┆           ┆           ┆           ┆   ┆ feedback. ┆ theory    ┆           ┆          │\n",
       "│           ┆           ┆           ┆           ┆   ┆ Regulariz ┆ due to    ┆           ┆          │\n",
       "│           ┆           ┆           ┆           ┆   ┆ ation was ┆ the       ┆           ┆          │\n",
       "│           ┆           ┆           ┆           ┆   ┆ for many  ┆ auxiliary ┆           ┆          │\n",
       "│           ┆           ┆           ┆           ┆   ┆ decades   ┆ particles ┆           ┆          │\n",
       "│           ┆           ┆           ┆           ┆   ┆ controver ┆ being     ┆           ┆          │\n",
       "│           ┆           ┆           ┆           ┆   ┆ sial even ┆ minimally ┆           ┆          │\n",
       "│           ┆           ┆           ┆           ┆   ┆ amongst   ┆ coupled   ┆           ┆          │\n",
       "│           ┆           ┆           ┆           ┆   ┆ its inven ┆ to the    ┆           ┆          │\n",
       "│           ┆           ┆           ┆           ┆   ┆ tors, as  ┆ photon    ┆           ┆          │\n",
       "│           ┆           ┆           ┆           ┆   ┆ it        ┆ field     ┆           ┆          │\n",
       "│           ┆           ┆           ┆           ┆   ┆ combines  ┆ through   ┆           ┆          │\n",
       "│           ┆           ┆           ┆           ┆   ┆ physics   ┆ the gauge ┆           ┆          │\n",
       "│           ┆           ┆           ┆           ┆   ┆ and epist ┆ covariant ┆           ┆          │\n",
       "│           ┆           ┆           ┆           ┆   ┆ emologica ┆ derivativ ┆           ┆          │\n",
       "│           ┆           ┆           ┆           ┆   ┆ l claims  ┆ e. It is  ┆           ┆          │\n",
       "│           ┆           ┆           ┆           ┆   ┆ into the  ┆ not gauge ┆           ┆          │\n",
       "│           ┆           ┆           ┆           ┆   ┆ same equa ┆ covariant ┆           ┆          │\n",
       "│           ┆           ┆           ┆           ┆   ┆ tions.    ┆ in a non- ┆           ┆          │\n",
       "│           ┆           ┆           ┆           ┆   ┆ However,  ┆ abelian   ┆           ┆          │\n",
       "│           ┆           ┆           ┆           ┆   ┆ it is now ┆ theory,   ┆           ┆          │\n",
       "│           ┆           ┆           ┆           ┆   ┆ well unde ┆ though,   ┆           ┆          │\n",
       "│           ┆           ┆           ┆           ┆   ┆ rstood    ┆ so Pauli– ┆           ┆          │\n",
       "│           ┆           ┆           ┆           ┆   ┆ and has   ┆ Villars   ┆           ┆          │\n",
       "│           ┆           ┆           ┆           ┆   ┆ proven to ┆ regulariz ┆           ┆          │\n",
       "│           ┆           ┆           ┆           ┆   ┆ yield     ┆ ation     ┆           ┆          │\n",
       "│           ┆           ┆           ┆           ┆   ┆ useful,   ┆ cannot be ┆           ┆          │\n",
       "│           ┆           ┆           ┆           ┆   ┆ accurate  ┆ used in   ┆           ┆          │\n",
       "│           ┆           ┆           ┆           ┆   ┆ predictio ┆ QCD calcu ┆           ┆          │\n",
       "│           ┆           ┆           ┆           ┆   ┆ ns.       ┆ lations.  ┆           ┆          │\n",
       "│           ┆           ┆           ┆           ┆   ┆           ┆ P–V       ┆           ┆          │\n",
       "│           ┆           ┆           ┆           ┆   ┆           ┆ serves as ┆           ┆          │\n",
       "│           ┆           ┆           ┆           ┆   ┆           ┆ an altern ┆           ┆          │\n",
       "│           ┆           ┆           ┆           ┆   ┆           ┆ ative to  ┆           ┆          │\n",
       "│           ┆           ┆           ┆           ┆   ┆           ┆ the more  ┆           ┆          │\n",
       "│           ┆           ┆           ┆           ┆   ┆           ┆ favorable ┆           ┆          │\n",
       "│           ┆           ┆           ┆           ┆   ┆           ┆ dimension ┆           ┆          │\n",
       "│           ┆           ┆           ┆           ┆   ┆           ┆ al regula ┆           ┆          │\n",
       "│           ┆           ┆           ┆           ┆   ┆           ┆ rization  ┆           ┆          │\n",
       "│           ┆           ┆           ┆           ┆   ┆           ┆ in        ┆           ┆          │\n",
       "│           ┆           ┆           ┆           ┆   ┆           ┆ specific  ┆           ┆          │\n",
       "│           ┆           ┆           ┆           ┆   ┆           ┆ circumsta ┆           ┆          │\n",
       "│           ┆           ┆           ┆           ┆   ┆           ┆ nces,     ┆           ┆          │\n",
       "│           ┆           ┆           ┆           ┆   ┆           ┆ such as   ┆           ┆          │\n",
       "│           ┆           ┆           ┆           ┆   ┆           ┆ in chiral ┆           ┆          │\n",
       "│           ┆           ┆           ┆           ┆   ┆           ┆ phenomena ┆           ┆          │\n",
       "│           ┆           ┆           ┆           ┆   ┆           ┆ , where a ┆           ┆          │\n",
       "│           ┆           ┆           ┆           ┆   ┆           ┆ change of ┆           ┆          │\n",
       "│           ┆           ┆           ┆           ┆   ┆           ┆ dimension ┆           ┆          │\n",
       "│           ┆           ┆           ┆           ┆   ┆           ┆ alters    ┆           ┆          │\n",
       "│           ┆           ┆           ┆           ┆   ┆           ┆ the prope ┆           ┆          │\n",
       "│           ┆           ┆           ┆           ┆   ┆           ┆ rties of  ┆           ┆          │\n",
       "│           ┆           ┆           ┆           ┆   ┆           ┆ the gamma ┆           ┆          │\n",
       "│           ┆           ┆           ┆           ┆   ┆           ┆ matrices. ┆           ┆          │\n",
       "│           ┆           ┆           ┆           ┆   ┆           ┆ Gerard 't ┆           ┆          │\n",
       "│           ┆           ┆           ┆           ┆   ┆           ┆ Hooft and ┆           ┆          │\n",
       "│           ┆           ┆           ┆           ┆   ┆           ┆ Martinus  ┆           ┆          │\n",
       "│           ┆           ┆           ┆           ┆   ┆           ┆ J. G.     ┆           ┆          │\n",
       "└───────────┴───────────┴───────────┴───────────┴───┴───────────┴───────────┴───────────┴──────────┘"
      ]
     },
     "execution_count": 30,
     "metadata": {},
     "output_type": "execute_result"
    }
   ],
   "source": [
    "wrong = check_test#.filter(pl.col('answer') != pl.col('prediction'))\n",
    "wrong = wrong.drop(['wiki_ctx_1', 'wiki_ctx_2'])\n",
    "wrong[:4]"
   ]
  },
  {
   "cell_type": "markdown",
   "id": "0d8dad1b-d65d-4bea-8031-82348eb22379",
   "metadata": {},
   "source": [
    "### Check Test Log\n",
    "- The passages are often very similar or even contain duplications.\n",
    "- Sometimes information from the answers could help make the passages more relevant.\n",
    "\n",
    "\n",
    "0. Dynamic scaling: Incorrect context, picked answeres with incorrect negations before the correct answer\n",
    "1. Triskeles: Incorrect context, no connection of context and question apparent\n",
    "2. Regularization in terms of renomralization (physics): The context is useful, longer context might have been helpful. The answers differ in subtleties that the model does not get.\n",
    "3. Gauss law, electic flux: The model seems to miss some subtle differences. The context is missing the formula.\n",
    "4. Blocking tempereature of a spin valve: Context describes spin valves, but not the blocking temperature."
   ]
  },
  {
   "cell_type": "code",
   "execution_count": null,
   "id": "05d5a88e-13fa-4211-a61e-2c0ddc3be99e",
   "metadata": {},
   "outputs": [],
   "source": []
  },
  {
   "cell_type": "code",
   "execution_count": null,
   "id": "bfc7c28f-dc9b-4086-b010-f349abf49768",
   "metadata": {},
   "outputs": [],
   "source": []
  }
 ],
 "metadata": {
  "kernelspec": {
   "display_name": "Python [conda env:pytorch]",
   "language": "python",
   "name": "conda-env-pytorch-py"
  },
  "language_info": {
   "codemirror_mode": {
    "name": "ipython",
    "version": 3
   },
   "file_extension": ".py",
   "mimetype": "text/x-python",
   "name": "python",
   "nbconvert_exporter": "python",
   "pygments_lexer": "ipython3",
   "version": "3.8.17"
  }
 },
 "nbformat": 4,
 "nbformat_minor": 5
}
