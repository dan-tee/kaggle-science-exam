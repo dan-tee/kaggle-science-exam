{
 "cells": [
  {
   "cell_type": "markdown",
   "id": "9ec1e2d8-3265-4c14-99c1-7bf8e6a56512",
   "metadata": {
    "tags": []
   },
   "source": [
    "# Wikipedia Indexing with ColBERT\n",
    "### <span style=\"color:red\">This needs to run in the colbert conda env</span>"
   ]
  },
  {
   "cell_type": "code",
   "execution_count": 8,
   "id": "052ec193-3e4d-41be-a8be-84d5963de3a0",
   "metadata": {},
   "outputs": [],
   "source": [
    "# conda install polars pandas seaborn tqdm -c conda-forge\n",
    "# !pip install rank_bm25\n",
    "# !pip install -e './ColBERT'"
   ]
  },
  {
   "cell_type": "code",
   "execution_count": 6,
   "id": "63cca77c-5026-47ec-8479-401f6b87e322",
   "metadata": {
    "tags": []
   },
   "outputs": [],
   "source": [
    "# conda upgrade numpy -c conda-forge\n",
    "# # conda install -c conda-forge faiss-gpu"
   ]
  },
  {
   "cell_type": "code",
   "execution_count": 4,
   "id": "79a20bc5-89d2-41cf-a9c3-ad6c2569b4dc",
   "metadata": {
    "tags": []
   },
   "outputs": [
    {
     "name": "stderr",
     "output_type": "stream",
     "text": [
      "/home/daniel/mambaforge/envs/pytorch/lib/python3.10/site-packages/scipy/__init__.py:146: UserWarning: A NumPy version >=1.17.3 and <1.25.0 is required for this version of SciPy (detected version 1.26.0\n",
      "  warnings.warn(f\"A NumPy version >={np_minversion} and <{np_maxversion}\"\n"
     ]
    }
   ],
   "source": [
    "import os\n",
    "import glob\n",
    "import polars as pl\n",
    "import polars.selectors as cs\n",
    "import pandas as pd\n",
    "import pyarrow as pa\n",
    "import numpy as np\n",
    "import matplotlib.pyplot as plt\n",
    "import seaborn as sns\n",
    "from tqdm.notebook import tqdm\n",
    "from pathlib import Path\n",
    "import faiss\n",
    "\n",
    "from rank_bm25 import BM25Okapi\n",
    "from colbert.infra import Run, RunConfig, ColBERTConfig\n",
    "from colbert.data import Queries, Collection\n",
    "from colbert import Indexer, Searcher"
   ]
  },
  {
   "cell_type": "code",
   "execution_count": 5,
   "id": "d2ded6d6-ef12-4fde-9050-1da3dd0ec8fe",
   "metadata": {
    "tags": []
   },
   "outputs": [],
   "source": [
    "pl.Config(fmt_str_lengths=2000);"
   ]
  },
  {
   "cell_type": "code",
   "execution_count": 6,
   "id": "7d2e8160-d42c-4986-9b2c-c09a6f7374cf",
   "metadata": {
    "tags": []
   },
   "outputs": [],
   "source": [
    "# conda install pytorch torchvision torchaudio pytorch-cuda=11.8 -c pytorch -c nvidia -y"
   ]
  },
  {
   "cell_type": "code",
   "execution_count": 7,
   "id": "2c3b5c92-cf1b-4dc4-bb78-acaf24655132",
   "metadata": {},
   "outputs": [],
   "source": [
    "#!pip install rank_bm25"
   ]
  },
  {
   "cell_type": "code",
   "execution_count": 8,
   "id": "e73c0300-dbbf-463a-868b-ef27095970fd",
   "metadata": {
    "tags": []
   },
   "outputs": [],
   "source": [
    "# !conda list | grep bitsandbytes"
   ]
  },
  {
   "cell_type": "code",
   "execution_count": 9,
   "id": "dc30dded-8f0c-4399-a124-5b099d2f65fd",
   "metadata": {
    "tags": []
   },
   "outputs": [],
   "source": [
    "# !conda install -c conda-forge pyarrow -y"
   ]
  },
  {
   "cell_type": "code",
   "execution_count": 10,
   "id": "03d06b87-6da5-4e7d-b6f5-510d3e5f95c5",
   "metadata": {
    "tags": []
   },
   "outputs": [],
   "source": [
    "# !conda update -c conda-forge 'auto-gptq[triton]' -y"
   ]
  },
  {
   "cell_type": "code",
   "execution_count": 11,
   "id": "c174f049-e7d5-4c18-ba76-abab2e6ff4ce",
   "metadata": {
    "tags": []
   },
   "outputs": [],
   "source": [
    "# huggingface_hub.login(os.environ['HUGGING_FACE_TOKEN'])"
   ]
  },
  {
   "cell_type": "code",
   "execution_count": 12,
   "id": "34a5363a-7ae1-4ac9-ad64-2e4fd2093900",
   "metadata": {
    "tags": []
   },
   "outputs": [
    {
     "data": {
      "text/plain": [
       "((5799, 8),\n",
       " array(['question', 'correct', 'incorrect_1', 'incorrect_2', 'incorrect_3',\n",
       "        'incorrect_4', 'title', 'section_title'], dtype='<U13'))"
      ]
     },
     "execution_count": 12,
     "metadata": {},
     "output_type": "execute_result"
    }
   ],
   "source": [
    "questions = pl.read_parquet('./data/daniel_train/v_1_combined/daniel_train_v_1.parquet')\n",
    "questions = questions.filter(pl.col('question').is_not_null())\n",
    "questions.shape, np.array(questions.columns)"
   ]
  },
  {
   "cell_type": "code",
   "execution_count": 13,
   "id": "03bbd53d-40b4-4876-b61a-337b302ae46a",
   "metadata": {
    "tags": []
   },
   "outputs": [
    {
     "data": {
      "text/plain": [
       "((853470, 16),\n",
       " array(['section_id', 'title', 'category', 'page_id', 'parent_id',\n",
       "        'revision_id', 'revision_ts', 'short_description', 'sha1',\n",
       "        'page_bytes', 'section_index', 'section_title', 'section_level',\n",
       "        'section_text', 'title_section_rank', 'section_word_count'],\n",
       "       dtype='<U18'))"
      ]
     },
     "execution_count": 13,
     "metadata": {},
     "output_type": "execute_result"
    }
   ],
   "source": [
    "wiki_sections = pl.read_parquet('./data/wiki_with_category_v_4.parquet')\n",
    "section_word_counts = wiki_sections['section_text'].str.split(' ').list.lengths()\n",
    "wiki_sections = wiki_sections.with_columns(section_word_count=pl.Series(section_word_counts))\n",
    "\n",
    "wiki_sections = wiki_sections.filter(pl.col('section_word_count') > 11)\n",
    "wiki_sections.shape, np.array(wiki_sections.columns)"
   ]
  },
  {
   "cell_type": "code",
   "execution_count": 14,
   "id": "0cfed80a-95e4-4367-8c4b-35456dab91af",
   "metadata": {
    "tags": []
   },
   "outputs": [
    {
     "data": {
      "text/plain": [
       "156238"
      ]
     },
     "execution_count": 14,
     "metadata": {},
     "output_type": "execute_result"
    }
   ],
   "source": [
    "wiki_sections['title'].n_unique()"
   ]
  },
  {
   "cell_type": "code",
   "execution_count": 15,
   "id": "ee0f5f9a-e55c-4c5b-b4f8-89b32aa668a4",
   "metadata": {
    "tags": []
   },
   "outputs": [
    {
     "data": {
      "text/plain": [
       "'Mean word count: 209, median: 119'"
      ]
     },
     "execution_count": 15,
     "metadata": {},
     "output_type": "execute_result"
    },
    {
     "data": {
      "image/png": "[encoded data removed]",
      "text/plain": [
       "<Figure size 600x300 with 1 Axes>"
      ]
     },
     "metadata": {},
     "output_type": "display_data"
    }
   ],
   "source": [
    "plt.figure(figsize=[6,3])\n",
    "sns.histplot(wiki_sections['section_word_count'], binrange=[0, 1500])\n",
    "plt.title('Section Word Count')\n",
    "f'Mean word count: {section_word_counts.mean():.0f}, median: {section_word_counts.median():.0f}'"
   ]
  },
  {
   "cell_type": "code",
   "execution_count": 18,
   "id": "595c2b68-cd9d-475c-96ec-aa0ee7cb40d1",
   "metadata": {
    "tags": []
   },
   "outputs": [
    {
     "data": {
      "text/html": [
       "<div><style>\n",
       ".dataframe > thead > tr > th,\n",
       ".dataframe > tbody > tr > td {\n",
       "  text-align: right;\n",
       "  white-space: pre-wrap;\n",
       "}\n",
       "</style>\n",
       "<small>shape: (40_769,)</small><table border=\"1\" class=\"dataframe\"><thead><tr><th>section_text</th></tr><tr><td>str</td></tr></thead><tbody><tr><td>&quot;Assembly \n",
       "It is believedBy whomdateMay 2023 that the BBSome assembles sequentially, beginning with the association of BBS7, BBS chaperonins, and the CCT/TRiC complex, which functions as a scaffold to which further subunits can bind. BBS2 and BBS7 bind together first. BBS2 and BBS7 are missing in certain species, such as Drosophila, which leads to the idea that they might be more important in organizing the BBSome in higher organisms rather than directly related to the cargo and membrane binding functions of the BBSome. Then, BBS9 is added to the core complex followed by BBS5 and BBS8.\n",
       "\n",
       " Core structure \n",
       "\n",
       "BBIP1, also known as BBS18, is the smallest subunit that is located in the center of the complex. This protein domain winds through two super-helically arranged (TPR) domains of the BBS4 and BBS8 subunits, which are arranged perpendicularly and stabilized by ionic interactions. Together, the BBS18 domain clamps the other two subunits in a Y-shaped layout that serves as the backbone for the BBSome complex. It is critical for the stability and assembly of the BBSome, particularly with stabilizing the interactions between BBS4 and BBS8. BBS8 has a loop in its domain that is different across purified BBSomes which leads to the idea that this domain might be involved in tissue specific activity of the BBSome. The C-terminal helix of BBS18 also loosely interacts with the gamma-adaptin ear (GAE) domain of BBS1, the most relevant domain to cargo recognition, to also aid with structure of the complex. BBS1 then binds its N-terminal β-propeller domain to the N-terminal of the BBS4 TPR superhelix, a connection which is stabilized by hydrophobic interactions. It wraps around the BBS4 and BBS8 domains and binds its C-terminal GAE domain to the TPR domain of BBS8. BBS9 associates in a similar but reciprocal manner with its N-terminal β-propeller domain bound to the N-terminus of the TPR superhelix of BBS8. BBS9 then wraps around BBS4 and parts of BBS1 and binds its C-terminal GAE…</td></tr><tr><td>&quot;Dried fruit\n",
       "Dried fruit is fruit from which the majority of the original water content has been removed, either naturally, through sun drying (food), or through the use of specialized dryers or food dehydrator. Dried fruit has a long tradition of use dating back to the fourth millennium BC in Mesopotamia, and is prized because of its sweet taste, nutritive value, and long shelf life.\n",
       "\n",
       "A\n",
       "\n",
       " Ancho chilispaced ndashthe dried form of Poblano.\n",
       " Apple chips\n",
       " Apple#Popular usesspaced ndashcan be eaten dried or reconstituted (soaked in water, Alcoholic beverage or some other liquid) for later use.\n",
       " Dried apricotspaced ndashcan be dried either whole or in halves, with or without kernels.\n",
       "\n",
       "B\n",
       " Banana chipsspaced ndashare dried or deep-fried slices of bananas commonly found in Brazil, Indonesia (as kripik) and India.\n",
       " Black limespaced ndashis a spice used in Middle eastern cuisine made by boiling fresh Lime (fruit) in salt water and sun drying until the insides turn black.\n",
       "\n",
       "galleryclasscenterwidths200pxheights145px\n",
       "File:Apricots Drying In Cappadocia.JPG|[[Apricot]]s drying on the ground in Turkey\n",
       "|Dried [[banana chip]]s\n",
       "|Dried, ground Persian [[black lime]]\n",
       "gallery\n",
       "\n",
       "C\n",
       "\n",
       " Chenpispaced ndashis sun-dried tangerine (mandarin orange) Peel (fruit) used as a traditional seasoning in Chinese cooking and Chinese medicine.\n",
       " Dried cherry \n",
       " Chipotlespaced ndasha smoked, dried Jalapeño.\n",
       " Coconutspaced ndashcan be dried whole or halved. A common product is coconut that has been dried and shredded.\n",
       " Dried cranberryspaced ndashis made by partially dehydration fresh cranberries, a process similar to making grapes into raisins.\n",
       "\n",
       "D\n",
       " Date palm#Datess, the fruit of date palmspaced ndashcan be dried, often by sun-drying.\n",
       "\n",
       "F\n",
       " Figspaced ndashis used in food products such as fig rolls.\n",
       " Traditional dried fruitspaced ndashare types of dried fruits that are either sun-dried, such as raisins and ficus, or dehydrated in wind tunnels and other dryers, such as dried plums (prunes), apricots, and peaches.\n",
       "\n",
       "G\n",
       " …</td></tr><tr><td>&quot;Meat has been preserved by drying salted meats and through smoking since the Paleolithic era.\n",
       "\n",
       "Dried fish and seafood\n",
       "Dried fish is a method of food preservation that works by removing water from the Fish (food), which inhibits the growth of microorganisms. Open-air drying using sun and wind has been practiced since Ancient history to preserve food. Fish are also preserved through such traditional methods as Smoking (cooking) and Salting (food).\n",
       "\n",
       "B\n",
       "\n",
       " Bacalhauspaced ndashthe Portuguese language word for cod and, in a culinary context, dried and salted cod. Bacalhau dishes are common in Portugal, Brazil and Galicia (Spain), in the northwest of Spain, and to a lesser extent in former Portuguese colonies like Angola, Macau, and Goa.\n",
       " Balykspaced ndashSalted fish and dried soft parts of fish, usually coming from large valuable species: acipenseridae (e.g., sturgeon) or salmonidae (salmon).\n",
       " Bokkomsspaced ndashwhole, salted and dried Mullet (fish) (more specifically the Southern mullet, Liza richardsonii, a type of fish commonly known in the Western Cape of South Africa as &quot;harders&quot;), and is a well-known delicacy from the West Coast District Municipality region of South Africa.\n",
       " Boknafiskspaced ndasha variant of stockfish and is unsalted fish partially dried by sun and wind on drying flakes (&#x27;hjell&#x27;) or on a wall. Boknafisk is mostly associated with Nord-Norge, but it is eaten along the entire Norwegian coast down to Bergen.\n",
       " Budu (sauce)spaced ndasha sauce traditionally made by mixing anchovy and salt in the range of ratio of 2:1 to 6:1 and then fermenting for 140 to 200 days.\n",
       "\n",
       "C\n",
       " Dried clam\n",
       "Dried Cod skinspaced ndashis a cod skin that has been dried either by air drying, dehydration, sun drying or food drying. Dried cod skin is popular as a dog treat.\n",
       " Dried and salted codspaced ndashor &quot;salt cod&quot;, is cod which has been preserved by drying after salting. Cod which has been dried without the addition of salt is stockfish.\n",
       " Conpoy – a type of dried seafood product made f…</td></tr><tr><td>&quot;Some teachers assume best practices in their classroom, include such things as students sitting on the floor, listening to music, drawing, being loud or being quiet but doing so as a class. Because these students are doing these things as a class it is not differentiated Instruction. Amy Benjamin writes differentiated instruction is a &quot;variety of classroom practices that allow for differences in students&#x27; learning styles, interests, prior knowledge, socialization needs and comfort zones&quot;. To learn students individual needs we as teachers need to assess those students and pre-assessment can to be done at the beginning of the school year and to identify students learning modalities, interests and readiness for content.\n",
       "\n",
       "Modalities\n",
       "There are two types of modality theories; one is learning styles theory, the other is multiple intelligence. Learning style theory suggests that learning styles differ from student to student. A few examples of learning styles are active learners, verbal learners, and reflective learners. Learning styles#Criticism is highly criticized and lacks empirical evidence to support it. Another type of modality is multiple intelligence, which was created by Howard Gardner. He takes a physiological approach to multiple intelligence by breaking it into eight categories. These categories help teachers understand the different types of diverse learning abilities. First is logical/mathematical which means the student learns better with logic, reasoning and numbers. Verbal/ Linguistic is another way that the students&#x27; strengths are with words and language. Another type is visual/spatial in which a student would rather use graphs, charts and drawings. Students who enjoy sound, rhymes, and music are musical/rhythmical learners. Bodily/kinesthetic learners are better with their hands and have better control over their bodily motions. Another type is Naturalist/Environmental, these students are sensitive, nurturing and like to use all five sense. The seventh …</td></tr><tr><td>&quot;A list of known near-Earth asteroid close approaches less than 1 Lunar distance (astronomy) (384,400 Kilometre or 0.00256 astronomical unit) from Earth in 2009.\n",
       "\n",
       "legend2#ff9999border1px solid #ff9999Rows highlighted red indicate objects which were not discovered until after closest approach \n",
       "\n",
       "legend2#ffff99border1px solid #ffff99Rows highlighted yellow indicate objects discovered less than 24 hours before closest approach \n",
       "\n",
       "legend2#99ff99border1px solid #99ff99Rows highlighted green indicate objects discovered more than one week before closest approach \n",
       "\n",
       "legend2#99ffffborder1px solid #99ffffRows highlighted turquoise indicate objects discovered more than 7 weeks before closest approach \n",
       "\n",
       "legend2#bbccffborder1px solid #bbccffRows highlighted blue indicate objects discovered more than one year before closest approach (i.e.br objects successfully cataloged on a previous orbit, rather than being detected during final approach) \n",
       "\n",
       "This list does not include any of the List_of_bolides, none of which were discovered in advance, but were recorded by sensors designed to detect detonation of nuclear devices.\n",
       "\n",
       " Warning Times by Size \n",
       "This sub-section visualises the warning times of the close approaches listed in the above table, depending on the size of the asteroid. The sizes of the charts show the relative sizes of the asteroids to scale. For comparison, the approximate size of a person is also shown. This is based the Absolute_magnitude#Solar_System_bodies_(H) of each asteroid, an approximate measure of size based on brightness.\n",
       "\n",
       "Abs Magnitude 29-30\n",
       "File:Silhouette of man standing and facing forward.svg (size of a person for comparison)\n",
       "#invoke:Chart\n",
       "  pie chart\n",
       "  radius  17\n",
       "  slices \n",
       "    (  2 : After closest approach  : red )\n",
       "    (  0 : &lt; 24 hours before       : yellow )\n",
       "    (  0 : up to 7 days before     : lightgrey )\n",
       "    (  0 : &gt; one week before       : green )\n",
       "    (  0 : &gt; 7 weeks before        : turquoise )\n",
       "    (  0 : &gt; one year before       : blue )\n",
       "  percent  true\n",
       "  …</td></tr><tr><td>&quot;Case z geq min (X_a, X_b) is an immediate consequence of the minimum definition, in the following it will always be assumed z &lt; min (X_a, X_b) and also corner case min_a leq t leq b X(t) = min (X_a, X_b) will be excluded.\n",
       "\n",
       "Let&#x27; s assume X(t) defined in a finite number of points t_k in [a,b],   0 leq k leq n,   t_0 = a.\n",
       "\n",
       "Let  T_n   oversetundersetmathrmdef=  t_k,   0leq k leq n,  by varying the integer n be a sequence of sets  T_n  such that  T_n subset T_n+1 and  bigcup_n=0+inftyT_n be a dense set in [a,b],\n",
       "\n",
       "hence every Neighbourhood (mathematics) of each point in [a,b] contains an element of one of the sets T_n.\n",
       "\n",
       "Let  Delta z be a real positive number such that z + Delta z &lt; min (X_a, X_b).\n",
       "\n",
       "Let the Event (probability theory) E be defined as:  E   oversetundersetmathrmdef=  (min_a leq t leq bX(t) &lt; z + Delta z )   Longleftrightarrow  ( exists , t in [a,b] : X(t) &lt; z + Delta z) .\n",
       "\n",
       "Having excluded corner case min_a leq t leq b X(t) = min (X_a, X_b), it is surely P(E) &gt; 0.\n",
       "\n",
       "Let E_n ,   n = 0,1,2,ldots be the events defined as:  E_n   oversetundersetmathrmdef=  (exists ,t_k in T_n : z &lt; X(t_k) &lt; z + Delta z  ) and let  nu be the first k among the  t_k in T_n which define  E_n .\n",
       "\n",
       "Since T_n subset T_n+1 it is evidently E_n subset E_n+1. Now equation (2.1) will be proved.\n",
       "\n",
       "(2.1)                    E = bigcup_n=0+inftyE_n\n",
       "\n",
       "By the E_n  events definition,forall , n   E_n Rightarrow E, hence   bigcup_n=0+inftyE_n subset E  . It will now be verified the relation  E subsetbigcup_n=0+inftyE_n hence (2.1) will be proved.\n",
       "\n",
       "The definition of   E, the continuity of  X(t) and the hypothesis  z &lt; X_a = X(a) imply, by the intermediate value theorem,   ( exists , bartin [a,b] : z &lt; X(bart) &lt; z + Delta z).\n",
       "\n",
       "By the continuity of  X(t) and the hypothesis that   bigcup_n=0+inftyT_n is dense in [a,b] it is deducted that   exists , barn such that for  t_nu in T_barn it must be   z &lt; X(t_nu) &lt; z + Delta z  ,\n",
       "\n",
       "hence  E subset E_barn subset bigcup_n=0+inftyE_n which implies (2.1).\n",
       "\n",
       "(2.2)      P…</td></tr><tr><td>&quot;Emeishan Traps \n",
       "\n",
       " Volcanic emissions \n",
       "It is believed that the extinction, which coincided with the beginning of a major negative δ13C excursion signifying a severe disturbance of the carbon cycle, was triggered by eruptions of the Emeishan Traps large igneous province, basalt piles from which currently cover an area of 250,000 to 500,000km2, although the original volume of the basalts may have been anywhere from 500,000km3 to over 1,000,000km3. The age of the extinction event and the deposition of the Emeishan basalts are in good alignment. Reefs and other marine sediments interbedded among basalt piles indicate Emeishan volcanism initially developed underwater; terrestrial outflows of lava occurred only later in the large igneous province&#x27;s period of activity. These eruptions would have released high doses of toxic mercury (element); increased mercury concentrations are coincident with the negative carbon isotope excursion, indicating a common volcanic cause. Coronene enrichment at the Guadalupian-Lopingian boundary further confirms the existence of massive volcanic activity; coronene can only form at extremely high temperatures created either by extraterrestrial impacts or massive volcanism, with the former being ruled out because of an absence of iridium anomalies coeval with mercury and coronene anomalies. A large amount of carbon dioxide and sulfur dioxide is believed to have been discharged into the stratosphere of the Northern Hemisphere and Southern Hemispheres due to the equatorial location of the Emeishan Traps, leading to sudden global cooling and nowraplong-term global warming. The Emeishan Traps discharged between 130 and 188 teratonnes of carbon dioxide in total, doing so at a rate of between 0.08 to 0.25 gigatonnes of carbon dioxide per year, making them responsible for an increase in atmospheric carbon dioxide that was both one of the largest and one of the most precipitous in the entire geological history of the Earth. The rate of carbon dioxide em…</td></tr><tr><td>&quot;Further2022 Pacific hurricane seasonTimeline of the 2022 Pacific hurricane season\n",
       " \n",
       "On May 22, The National Hurricane Center monitored a low-pressure area located several miles off the coast of Mexico for potential development. On May 28, the system eventually developed into a tropical depression which became the first storm in the basin and was designated as One-E by the NHC. Later, the system strengthened into a tropical storm and was named Hurricane Agatha. Agatha furthermore intensified into the basin&#x27;s first hurricane. Agatha reached its peak intensity as a Category 2 hurricane and made landfall near Puerto Angel in Mexico with winds up to 105mph. This made Agatha the strongest hurricane to make landfall during the month of May in the basin.\n",
       "\n",
       "On the first week of June, the NHC first noted a low pressure area that formed off the Gulf of Tehuantepec, and designated the system as Invest 92E. On June 11, the disturbance became more organized and the system was reclassified as Tropical Depression Two-E three days later by the NHC. Later, the depression intensified to a tropical storm and was named Hurricane Blas (2022) which became the second named storm in the Eastern Pacific basin. Blas further intensified into the basin&#x27;s second hurricane. Blas&#x27;s structure continued to improve, developing a mid-level eye on the western portions of the cyclone. On June 18, Blas weakened into a tropical storm due to unfavorable conditions causing Blas&#x27;s structure to deteriorate along with its deep convection. Two days later, Blas transitioned into a post-tropical cyclone and dissipated on June 24. Blas caused four deaths, two in Guerrero and two in Puebla in Mexico. Additionally, six people died in El Salvador due to heavy rain related to Blas&#x27;s precursor disturbance and other weather systems. No coastal watches or warnings were put into effect for Blas. As a precaution, ports in Southern Mexico, an area still recovering from the impacts of Hurricane Agatha 19 days prior closed on…</td></tr><tr><td>&quot;There are two commonly used methods of measuring the incidence of abortion:\n",
       " Abortion rate– number of abortions annually per 1,000 women between 15 and 44 years of age; some sources use a range of 15–49.\n",
       " Abortion percentage– number of abortions out of 100 known pregnancies; pregnancies include live births, abortions, and miscarriages.\n",
       "\n",
       "In many places, where abortion is illegal or carries a heavy social stigma, medical reporting of abortion is not reliable. For this reason, estimates of the incidence of abortion must be made without determining certainty related to standard error. The number of abortions performed worldwide seems to have remained stable in the early 2000s, with 41.6million having been performed in 2003 and 43.8million having been performed in 2008. The abortion rate worldwide was 28 per 1000 women per year, though it was 24 per 1000 women per year for developed countries and 29 per 1000 women per year for developing countries. The same 2012 study indicated that in 2008, the estimated abortion percentage of known pregnancies was at 21% worldwide, with 26% in developed countries and 20% in developing countries.\n",
       "\n",
       "On average, the incidence of abortion is similar in countries with restrictive abortion laws and those with more liberal access to abortion. Restrictive abortion laws are associated with increases in the percentage of abortions performed unsafely. The unsafe abortion rate in developing countries is partly attributable to lack of access to modern contraceptives; according to the Guttmacher Institute, providing access to contraceptives would result in about 14.5 million fewer unsafe abortions and 38,000 fewer deaths from unsafe abortion annually worldwide.\n",
       "\n",
       "The rate of legal, induced abortion varies extensively worldwide. According to the report of employees of Guttmacher Institute it ranged from 7 per 1000 women per year (Germany and Switzerland) to 30 per 1000 women per year (Estonia) in countries with complete statistics in 2008. The proport…</td></tr><tr><td>&quot;Personal\n",
       "\n",
       "The reasons why women have abortions are diverse and vary across the world. Some of the reasons may include an inability to afford a child, domestic violence, lack of support, feeling they are too young, and the wish to complete education or advance a career. Additional reasons include not being able or willing to raise a child conceived as a result of rape or incest.\n",
       "\n",
       "Societal\n",
       "Some abortions are undergone as the result of societal pressures. These might include the preference for children of a specific sex or race, disapproval of single or early motherhood, stigmatization of people with disabilities, insufficient economic support for families, lack of access to or rejection of contraceptive methods, or efforts toward population control (such as China&#x27;s one-child policy). These factors can sometimes result in compulsory abortion or sex-selective abortion.\n",
       "\n",
       " Maternal and fetal health \n",
       "An additional factor is maternal health which was listed as the main reason by about a third of women in 3 of 27 countries and about 7% of women in a further 7 of these 27 countries.\n",
       "\n",
       "In the U.S., the Supreme Court decisions in Roe v. Wade and Doe v. Bolton: &quot;ruled that the state&#x27;s interest in the life of the fetus became compelling only at the point of viability, defined as the point at which the fetus can survive independently of its mother. Even after the point of viability, the state cannot favor the life of the fetus over the life or health of the pregnant woman. Under the right of privacy, physicians must be free to use their &quot;medical judgment for the preservation of the life or health of the mother.&quot; On the same day that the Court decided Roe, it also decided Doe v. Bolton, in which the Court defined health very broadly: &quot;The medical judgment may be exercised in the light of all factors—physical, emotional, psychological, familial, and the woman&#x27;s age—relevant to the well-being of the patient. All these factors may relate to health. This allows the attending physician …</td></tr><tr><td>&quot;Main memory\n",
       "Early computers used one of two addressing methods to access the system memory; binary (base 2) or decimal (base 10). For example, the IBM 701 (1952) used binary and could address 2048 Word (data type) of 36 bits each, while the IBM 702 (1953) used decimal and could address ten thousand 7-bit words.\n",
       "\n",
       "By the mid-1960s, binary addressing had become the standard architecture in most computer designs, and main memory sizes were most commonly powers of two. This is the most natural configuration for memory, as all combinations of their address lines map to a valid address, allowing easy aggregation into a larger block of memory with contiguous addresses.  \n",
       "\n",
       "While early documentation specified those memory sizes as exact numbers such as 4096, 8192, or val16384 units (usually word (computer), bytes, or bits), computer professionals also started using the long-established metric system prefixes &quot;kilo&quot;, &quot;mega&quot;, &quot;giga&quot;, etc., defined to be powers of 10, to mean instead the nearest powers of two; namely, 210 = 1024, 220 = 10242, 230 = 10243, etc..  The corresponding metric prefix symbols (&quot;k&quot;, &quot;M&quot;, &quot;G&quot;, etc.) where used with the same binary meanings.  The symbol for 210 = 1024 could be written either in lower case (&quot;k&quot;) or in uppercase (&quot;K&quot;).  The latter was often used intentionally to indicate the binary rather than decimal meaning. This convention (which could not be extended to higher powers) was widely used in the documentation of the IBM 360 (1964) and of the IBM System/370 (1972), of the CDC 7600, of the DEC PDP-11/70 (1975) and of the DEC VAX-11/780 (1977). \n",
       "\n",
       "In other documents, however, the metric prefixes and their symbols were used to denote powers of 10, but usually with the understanding that the values given were approximate, often truncated down. Thus, for example,  a 1967 document by CDC abbreviated &quot;216 = 64 × 1024 = val65536 words&quot; as &quot;65K words&quot; (rather than &quot;64K&quot; or &quot;66K&quot;),, while the documentation of the HP 2100 real-time computer (1974) denote…</td></tr><tr><td>&quot;There are several natural geometric notions of submanifold of a symplectic manifold  (M, omega) :\n",
       "\n",
       " Symplectic submanifolds of  M  (potentially of any even dimension) are submanifolds  S subset M  such that  omega|_S  is a symplectic form on  S .\n",
       " Isotropic submanifolds are submanifolds where the symplectic form restricts to zero, i.e. each tangent space is an isotropic subspace of the ambient manifold&#x27;s tangent space. Similarly, if each tangent subspace to a submanifold is co-isotropic (the dual of an isotropic subspace), the submanifold is called co-isotropic.\n",
       " Lagrangian submanifolds of a symplectic manifold (M,omega) are submanifolds where the restriction of the symplectic form omega to Lsubset M is vanishing, i.e. omega|_L=0 and textdim L=tfrac12dim M. Lagrangian submanifolds are the maximal isotropic submanifolds.  \n",
       "\n",
       "One major example is that the graph of a symplectomorphism in the product symplectic manifold nowrap1(M × M, ω × −ω) is Lagrangian. Their intersections display rigidity properties not possessed by smooth manifolds; the Arnold conjecture gives the sum of the submanifold&#x27;s Betti numbers as a lower bound for the number of self intersections of a smooth Lagrangian submanifold, rather than the Euler characteristic in the smooth case.\n",
       "\n",
       " Examples \n",
       "Let R2n_textbfx,textbfy have global coordinates labelled (x_1, dotsc, x_n, y_1, dotsc, y_n). Then, we can equip R_textbfx,textbfy2n with the canonical symplectic form \n",
       "\n",
       "omega =mathrmdx_1wedge mathrmdy_1 + dotsb + mathrmdx_nwedge mathrmdy_n. \n",
       "\n",
       "There is a standard Lagrangian submanifold given by Rn_x to R2n_x,y. The form omega vanishes on Rn_x because given any pair of tangent vectors X= f_i(textbfx) partial_x_i, Y=g_i(textbfx)partial_x_i, we have that omega(X,Y) = 0. To elucidate, consider the case n=1. Then, X = f(x)partial_x, Y=g(x)partial_x, and omega = mathrmdxwedge mathrmdy. Notice that when we expand this out\n",
       "\n",
       "omega(X,Y) = omega(f(x)partial_x,g(x)partial_x) = frac12f(x)g(x)(mathrmdx(partial_x)mathrmdy(par…</td></tr><tr><td>&hellip;</td></tr><tr><td>&quot;Goofy&#x27;s Success Story (1955)\n",
       " Goofy&#x27;s Cavalcade of Sports (1956)\n",
       " Goofy&#x27;s Sports Story (1957)\n",
       " A Disney Halloween (1983)\n",
       " Disneyland 30th Anniversary TV Special (1985)\n",
       " A Very Merry Christmas Parade (1989)\n",
       " Disney&#x27;s Celebrate The Spirit (1992)\n",
       " The Wonderful World Of Disney: 40 Years Of Magic (1994)\n",
       " Disneyland 40th Anniversary TV Special (1995)\n",
       " Disneyland 50th Anniversary TV Special (2005)\n",
       " Disneyland 60th Anniversary TV Special (2015)\n",
       " Mickey&#x27;s Tale of Two Witches (2021)\n",
       " Mickey and Minnie Wish Upon a Christmas (2021)\n",
       " Mickey Saves Christmas (2022)\n",
       "\n",
       "Comics\n",
       "Comic strips first called the character Dippy Dawg, but his name changed to Goofy by 1936. In the early years, the other members of Mickey Mouse&#x27;s gang considered him a meddler and a pest but eventually warmed up to him.\n",
       "\n",
       "The Mickey Mouse (comic strip) drawn by Floyd Gottfredson was generally based on what was going on in the Mickey Mouse shorts at the time, but when Donald Duck&#x27;s popularity led to Donald Duck gaining Donald Duck (comic strip), Disney decided that he was no longer allowed to appear in Gottfredson&#x27;s strips. Accordingly, Goofy remained alone as Mickey&#x27;s sidekick, replacing Horace Horsecollar as Mickey&#x27;s fellow adventurer and companion. Similarly in comics, the Mickey Mouse world with Goofy as Mickey&#x27;s sidekick was usually very separate from the Donald Duck world and crossovers were rare. Goofy also has a characteristic habit of holding his hand in front of his mouth, a trademark that was introduced by Paul Murry.\n",
       "\n",
       "A character called &quot;Glory-Bee&quot; was Goofy&#x27;s girlfriend for some years.\n",
       "\n",
       "In 1990, when Disney was publishing Disney Comics (publishing), Goofy starred in Goofy Adventures, that featured him starring in various parodies. Perhaps because of poor sales, Goofy Adventures was the first of the company&#x27;s titles to be canceled by the Disney Comics Implosion, ending at its 17th issue.\n",
       "\n",
       "Super Goof\n",
       "\n",
       "Super Goof is Goofy&#x27;s superhero alter ego who gets his powers by eating super goobers (peanuts). Goo…</td></tr><tr><td>&quot;\n",
       "\n",
       "In the 19th century, research into the subject started to intensify. Notable developments in this century include the work of Hans Christian Ørsted who discovered in 1820 that an electric current produces a magnetic field that will deflect a compass needle, of William Sturgeon who, in 1825 invented the electromagnet, of Joseph Henry and Edward Davy who invented the relay in 1835, of Georg Ohm, who in 1827 quantified the relationship between the electric current and potential difference in a Electrical conductor, of Michael Faraday (the discoverer of electromagnetic induction in 1831), and of James Clerk Maxwell, who in 1873 published a unified Maxwell&#x27;s equations of electricity and magnetism in his treatise Electricity and Magnetism.sfnLambourne2010p11\n",
       "\n",
       "In 1782, Georges-Louis Le Sage developed and presented in Berlin probably the world&#x27;s first form of Electrical telegraph, using 24 different wires, one for each letter of the alphabet. This telegraph connected two rooms. It was an electrostatic telegraph that moved gold leaf through electrical conduction.\n",
       "\n",
       "In 1795, Francisco Salva Campillo proposed an electrostatic telegraph system. Between 1803 and 1804, he worked on electrical telegraphy, and in 1804, he presented his report at the Royal Academy of Natural Sciences and Arts of Barcelona. Salva&#x27;s electrolyte telegraph system was very innovative though it was greatly influenced by and based upon two discoveries made in Europe in 1800—Alessandro Volta&#x27;s electric battery for generating an electric current and William Nicholson and Anthony Carlyle&#x27;s electrolysis of water. Electrical telegraphy may be considered the first example of electrical engineering. Electrical engineering became a profession in the later 19th century.  Practitioners had created a global electric telegraph network, and the first professional electrical engineering institutions were founded in the UK and the US to support the new discipline. Francis Ronalds created an electric telegraph system in…</td></tr><tr><td>&quot;Allotropes\n",
       "\n",
       "Phosphorus has several allotropy that exhibit strikingly diverse properties. The two most common allotropes are white phosphorus and red phosphorus.\n",
       "\n",
       "From the perspective of applications and chemical literature, the most important form of elemental phosphorus is Allotropes of phosphorus#White phosphorus, often abbreviated as WP. It is a soft, waxy solid which consists of tetrahedral chemP4 molecules, in which each atom is bound to the other three atoms by a formal single bond. This chemP4 tetrahedron is also present in liquid and gaseous phosphorus up to the temperature of convert800CF when it starts decomposing to chemP2 molecules. The chemP4 molecule in the gas phase has a P-P bond length of rg = 2.1994(3) Å as was determined by gas electron diffraction. The nature of bonding in this chemP4 tetrahedron can be described by spherical aromaticity or cluster bonding, that is the electrons are highly Delocalized electron. This has been illustrated by calculations of the magnetically induced currents, which sum up to 29 nA/T, much more than in the archetypical Aromaticity molecule benzene (11 nA/T).\n",
       "\n",
       "multiple imageperrow2total_width320caption_aligncenter\n",
       " header  fontsize100%fontSans-seriftextCrystalline structures of some phosphorus allotropes\n",
       " align  right\n",
       " image_style  border:none;\n",
       "\n",
       "image1White phosphorus molecule.jpg\n",
       " alt1\n",
       " caption1White\n",
       "\n",
       "image2redPhosphorus.jpg\n",
       " alt2\n",
       " caption2Red\n",
       "\n",
       "image3Hittorf&#x27;s violet phosphorus.png\n",
       " alt3\n",
       " caption3Violet\n",
       "\n",
       "image4BlackPhosphorus.jpg\n",
       " alt4\n",
       " caption4Black\n",
       "\n",
       "White phosphorus exists in two crystalline forms: α (alpha) and β (beta). At room temperature, the α-form is stable. It is more common, has cubic crystal structure and at convert195.2KC, it transforms into β-form, which has hexagonal crystal structure. These forms differ in terms of the relative orientations of the constituent P4 tetrahedra. The β form of white phosphorus contains three slightly different chemP4 molecules, i.e. 18 different P-P bond lengths between 2.1…</td></tr><tr><td>&quot;More citation neededsectiondateMay 2023\n",
       "Radioactive decay results in a reduction of summed rest mass, once the released energy (the disintegration energy) has escaped in some way. Although decay energy is sometimes defined as associated with the difference between the mass of the parent nuclide products and the mass of the decay products, this is true only of rest mass measurements, where some energy has been removed from the product system. This is true because the decay energy must always carry mass with it, wherever it appears (see mass in special relativity) according to the formula E=mc2. The decay energy is initially released as the energy of emitted photons plus the kinetic energy of massive emitted particles (that is, particles that have rest mass). If these particles come to thermal equilibrium with their surroundings and photons are absorbed, then the decay energy is transformed to thermal energy, which retains its mass.\n",
       "\n",
       "Decay energy, therefore, remains associated with a certain measure of the mass of the decay system, called invariant mass, which does not change during the decay, even though the energy of decay is distributed among decay particles. The energy of photons, the kinetic energy of emitted particles, and, later, the thermal energy of the surrounding matter, all contribute to the invariant mass of the system. Thus, while the sum of the rest masses of the particles is not conserved in radioactive decay, the system mass and system invariant mass (and also the system total energy) is conserved throughout any decay process. This is a restatement of the equivalent laws of conservation of energy and conservation of mass.\n",
       "\n",
       " Alpha, beta and gamma decay \n",
       "\n",
       "File:Alfa beta gamma radiation.svgEarly researchers found that an Electric field or magnetic field could split radioactive emissions into three types of beams. The rays were given the names Alpha particle, Beta particle, and Gamma ray, in increasing order of their ability to penetrate matter. Alpha de…</td></tr><tr><td>&quot;\n",
       "Image:Polar Mesospheric Clouds Illuminated by Orbital Sunrise.JPG\n",
       "\n",
       "Observed from the ground, this phenomenon is known as noctilucent clouds. From satellites, PMCs are most frequently observed above 70–75° in latitude and have a season of 60 to 80 days duration centered about a peak which occurs about 20 days after the summer solstice. This holds true for both hemispheres. Great variability in scattering is observed from day-to-day and year-to- year, but averaging over large time and space scales reveals a basic underlying symmetry and pattern. The long- term behaviour of polar mesospheric cloud frequency has been found to vary inversely with solar activity.\n",
       "\n",
       "PMC&#x27;s have four major types based on physical structure and appearance. Type I veils are very tenuous and lack well-defined structure, somewhat like cirrostratus or poorly defined cirrus. Type II bands are long streaks that often occur in groups arranged roughly parallel to each other. They are usually more widely spaced than the bands or elements seen with cirrocumulus clouds. Type III billows are arrangements of closely spaced, roughly parallel short streaks that mostly resemble cirrus. Type IV whirls are partial or, more rarely, complete rings of cloud with dark centres.\n",
       "\n",
       "When mesospheric clouds are viewed above the atmosphere, the geometrical limitations of observing from the ground are significantly reduced. They may be observed ‘edge-on’ against the comparatively dark sky background, even in full daylight. The photometer field of view must be well baffled to avoid interference from the very bright Earth about a degree beneath the cloud layer. It is a much more difficult task to observe the clouds against the bright background of the illuminated Earth, although this has been achieved in the ultraviolet in the 200 to 300nm spectral region, because of the very small albedo of the earth in this part of spectrum.\n",
       "\n",
       "American and Soviet astronauts observed the phenomenon from space as early as 1970. Most observa…</td></tr><tr><td>&quot;The Schrödinger equation allows one to calculate the stationary states and also the time evolution of quantum systems.  Exact analytical answers are available for the nonrelativistic hydrogen atom. Before we go to present a formal account, here we give an elementary overview.\n",
       "\n",
       "Given that the hydrogen atom contains a nucleus and an electron, quantum mechanics allows one to predict the probability of finding the electron at any given radial distance r. It is given by the square of a mathematical function known as the &quot;wavefunction,&quot; which is a solution of the Schrödinger equation. The lowest energy equilibrium state of the hydrogen atom is known as the ground state. The ground state wave function is known as the 1mathrms wavefunction. It is written as:\n",
       "\n",
       "Here, a_0 is the numerical value of the Bohr radius. The probability density of finding the electron at a distance r in any radial direction is the squared value of the wavefunction:\n",
       "\n",
       "The 1 mathrms wavefunction is spherically symmetric, and the surface area of a shell at distance r is 4 pi r2, so the total probability P(r) , dr of the electron being in a shell at a distance r and thickness dr is\n",
       "\n",
       "It turns out that this is a maximum at r = a_0. That is, the Bohr picture of an electron orbiting the nucleus at radius a_0 corresponds to the most probable radius. Actually, there is a finite probability that the electron may be found at any place r, with the\n",
       "probability indicated by the square of the wavefunction. Since the probability of finding the electron somewhere in the whole volume is unity, the integral of P(r) , dr is unity. Then we say that the wavefunction is properly normalized.\n",
       "\n",
       "As discussed below, the ground state 1 mathrms is also indicated by the Quantum number#Electron in an atom (n = 1, ell = 0, m = 0). The second lowest energy states, just above the ground state, are given by the quantum numbers (2, 0, 0), (2, 1, 0), and (2, 1, pm 1). These n = 2 states all have the same energy and are known as the 2 math…</td></tr><tr><td>&quot;In the twentieth century there were notable periods of polychromy in architecture, from the expressions of Art Nouveau throughout Europe, to the international flourishing of Art Deco or Art Moderne, to the development of postmodernism in the latter decades of the century. During these periods, brickwork, stone, tile, stucco and metal facades were designed with a focus on the use of new colors and patterns, while architects often looked for inspiration to historical examples ranging from Islamic tilework to English Victorian brick.\n",
       "\n",
       "Before WWI\n",
       "At the beginning of the 20th century, before the world wars, Revivalism (architecture) (including Neoclassicism and the Gothic Revival architecture) and eclecticism of historic styles were very popular in design and architecture. Art Nouveau was also in fashion during the 1900s all over the Western world. However, it fragmented by 1911 and from then it steadily faded, until it disappeared with WW1. Many of the buildings from this period have their interiors decorated with colours, through tiles, mosaics, stuccos or murals. When it comes to exteriors, most polychrome facades are decorated with ceramic tiles.\n",
       "\n",
       "gallerymodepackedheights170px\n",
       "Alphonse mucha, boutique fouquet, 1899, 02.JPG|French [[Art Nouveau]] - [https://commons.wikimedia.org/wiki/Category:Bijouterie_Fouquet Bijouterie Fouquet], [[Musée Carnavalet]], Paris, by [[Alphonse Mucha]], {{c.|1900}}{{sfn|Duncan|1994|p=43}}\n",
       "\n",
       "Clement massier.jpg|French Art Nouveau - Vase, by [[Clément Massier]], {{circa}}1900, [[lusterware]], [[Jason Jacques Gallery]], New York&lt;ref&gt;{{cite book|last1=Greenhalgh|first1=Paul|title=Ceramic - Art and Civilization|date=2019|publisher=Bloomsbury|isbn=|page=323|url=978-1-4742-3970-7|language=en}}&lt;/ref&gt;\n",
       "\n",
       "14 Avenue Gallieni, Paris (01).jpg|French Art Nouveau - Avenue Gallieni no. 14, Paris, by [[Eugène Coulon (architect)|Eugène Coulon]], 1903-1904\n",
       "\n",
       "Douai Rue Pollinchove -Façade tournesol -1902 - André Pépe Architecte.jpg|French Art Nouveau - Rue Jean…</td></tr><tr><td>&quot;The elements of the symmetric group on a set X are the permutations of X.\n",
       "\n",
       " Multiplication \n",
       "The group operation in a symmetric group is function composition, denoted by the symbol ∘ or simply by just a composition of the permutations. The composition nowrapf ∘ g of permutations f and g, pronounced &quot;f of g&quot;, maps any element x of X to f(g(x)). Concretely, let (see permutation for an explanation of notation):\n",
       "\n",
       " \n",
       " \n",
       "\n",
       "Applying f after g maps 1 first to 2 and then 2 to itself; 2 to 5 and then to 4; 3 to 4 and then to 5, and so on. So composing f and g gives\n",
       " \n",
       "\n",
       "A Cyclic permutation of length nowrap1L = k · m, taken to the kth power, will decompose into k cycles of length m: For example, (nowrap1k = 2, nowrap1m = 3),\n",
       "  (1~2~3~4~5~6)2 = (1~3~5) (2~4~6).\n",
       "\n",
       " Verification of group axioms \n",
       "To check that the symmetric group on a set X is indeed a group (mathematics), it is necessary to verify the group axioms of closure, associativity, identity, and inverses.\n",
       " The operation of function composition is closed in the set of permutations of the given set X.\n",
       " Function composition is always associative.\n",
       " The trivial bijection that assigns each element of X to itself serves as an identity for the group.\n",
       " Every bijection has an inverse function that undoes its action, and thus each element of a symmetric group does have an inverse which is a permutation too.\n",
       "\n",
       " Transpositions, sign, and the alternating group \n",
       "\n",
       "A transposition is a permutation which exchanges two elements and keeps all others fixed; for example (1 3) is a transposition. Every permutation can be written as a product of transpositions; for instance, the permutation g from above can be written as g = (1 2)(2 5)(3 4). Since g can be written as a product of an odd number of transpositions, it is then called an Even and odd permutations, whereas f is an even permutation.\n",
       "\n",
       "The representation of a permutation as a product of transpositions is not unique; however, the number of transpositions needed to represent a given permutation…</td></tr><tr><td>&quot;Image:Evolved star fusion shells.svg\n",
       "Very massive stars can undergo core collapse when nuclear fusion becomes unable to sustain the core against its own gravity; passing this threshold is the cause of all types of supernova except type Ia. The collapse may cause violent expulsion of the outer layers of the star resulting in a supernova. However, if the release of gravitational potential energy is insufficient, the star may instead collapse into a black hole or neutron star with little radiated energy.\n",
       "\n",
       "Core collapse can be caused by several different mechanisms: exceeding the Chandrasekhar limit; electron capture; Pair-instability supernova; or photodisintegration.\n",
       " When a massive star develops an iron core larger than the Chandrasekhar mass it will no longer be able to support itself by electron degeneracy pressure and will collapse further to a neutron star or black hole.\n",
       " Electron capture by magnesium in a degenerate matter O/Ne/Mg core (8–10 solar mass progenitor star) removes support and causes gravitational collapse followed by explosive oxygen fusion, with very similar results.\n",
       " Electron-positron pair production in a large post-helium burning core removes thermodynamic support and causes initial collapse followed by runaway fusion, resulting in a pair-instability supernova.\n",
       " A sufficiently large and hot stellar core may generate gamma-rays energetic enough to initiate photodisintegration directly, which will cause a complete collapse of the core.\n",
       "\n",
       "The table below lists the known reasons for core collapse in massive stars, the types of stars in which they occur, their associated supernova type, and the remnant produced. The metallicity is the proportion of elements other than hydrogen or helium, as compared to the Sun. The initial mass is the mass of the star prior to the supernova event, given in multiples of the Sun&#x27;s mass, although the mass at the time of the supernova may be much lower.\n",
       "\n",
       "Type IIn supernovae are not listed in the table. They can be produce…</td></tr><tr><td>&quot;more citations needed sectiondateMay 2021\n",
       "\n",
       "Protection from accidental contact\n",
       "Designs of plugs and sockets have gradually developed to reduce the risk of electric shock and fire. Plugs are shaped to prevent finger contact with live parts. Sockets may be recessed and plugs designed to fit closely within the recess to reduce risk of a user&#x27;s fingers contacting the live pins. Contact pins may be sheathed with insulation over part of their length, so as to reduce exposure of energized metal during insertion or removal of the socket. Sockets may have automatic shutters to stop foreign objects from being inserted into energized contacts. Some types can also include Fuse (electrical) and switches.\n",
       "\n",
       "Earthing (grounding)\n",
       "A third contact for a connection to Ground (electricity) is intended to protect against insulation failure of the connected device. Some early unearthed plug and socket types were revised to include an earthing pin or phased out in favour of earthed types. The plug is often designed so that the earth ground contact connects before the energized circuit contacts.\n",
       "\n",
       "The assigned IEC appliance classes is governed by the requirement for earthing or equivalent protection. ClassI equipment requires an earth contact in the plug and socket, while ClassII equipment is unearthed and protects the user with double insulation.\n",
       "\n",
       "AnchorPolarization\n",
       " Polarisation\n",
       "\n",
       "Where a &quot;Ground and neutral&quot; conductor exists in supply wiring, polarisation of the plug can improve safety by preserving the distinction in the equipment. For example, appliances may ensure that switches interrupt the line side of the circuit, or can connect the shell of a screw-base lampholder to neutral to reduce electric shock hazard. In some designs, polarised plugs cannot be mated with non-polarised sockets. Wiring systems where both circuit conductors have a significant potential with respect to earth do not benefit from polarised plugs.\n",
       "\n",
       "Universal sockets\n",
       "&quot;Universal&quot; or &quot;multi-standard&quot; sockets are intende…</td></tr><tr><td>&quot;Principles\n",
       "From 1977 to 2004, the influence of disease and drugs on receptivity of nonverbal communication was studied by teams at three separate medical schools using a similar paradigm. Researchers at the University of Pittsburgh, Yale University and Ohio State University had subjects observe gamblers at a slot machine awaiting payoffs. The amount of this payoff was read by nonverbal transmission prior to reinforcement. This technique was developed by and the studies directed by psychologist Robert E. Miller and psychiatrist A. James Giannini. These groups reported diminished receptive ability in heroin addicts and phencyclidine abusers, contrasted with increased receptivity in cocaine addicts. Men with major depression manifested significantly decreased ability to read nonverbal cues when compared with euthymic men.\n",
       "\n",
       "In some subjects tested for ability to read nonverbal cues, intuitive paradigms were apparently employed while in others a cause and effect approach was used. Subjects in the former group answered quickly and before reinforcement occurred. They could not give a rationale for their particular responses. Subjects in the latter category delayed their response and could offer reasons for their choice. The level of accuracy between the two groups did not vary nor did handedness.\n",
       "\n",
       "Obese women and women with premenstrual syndrome were found to also possess diminished abilities to read these cues. In contradistinction, men with bipolar disorder possessed increased abilities. A woman with total paralysis of the nerves of facial expression was found unable to transmit or receive any nonverbal facial cues whatsoever. Because of the changes in levels of accuracy on the levels of nonverbal receptivity, the members of the research team hypothesized a biochemical site in the brain which was operative for reception of nonverbal cues. Because certain drugs enhanced ability while others diminished it, the neurotransmitters dopamine and endorphin were considered to be…</td></tr><tr><td>&quot;The models in this category were derived following experiments involving natural stimulation such as light, sound, touch, or odor. In these experiments, the spike pattern resulting from each stimulus presentation varies from trial to trial, but the averaged response from several trials often converges to a clear pattern. Consequently, the models in this category generate a probabilistic relationship between the input stimulus to spike occurrences. Importantly, the recorded neurons are often located several processing steps after the sensory neurons, so that these models summarize the effects of the sequence of processing steps in a compact form\n",
       "\n",
       " The non-homogeneous Poisson process model (Siebert) \n",
       "Siebert modeled the neuron spike firing pattern using a non-homogeneous Poisson process model, following experiments involving the auditory system. According to Siebert, the probability of a spiking event at the time interval [t, t+Delta_t] is proportional to a non negative function g[s(t)], where s(t) is the raw stimulus.:\n",
       "\n",
       " P_textspike(tin[t&#x27;,t&#x27;+Delta_t])=Delta_t cdot g[s(t)]\n",
       "\n",
       "Siebert considered several functions as g[s(t)], including g[s(t)] propto s2(t) for low stimulus intensities.\n",
       "\n",
       "The main advantage of Siebert&#x27;s model is its simplicity. The shortcomings of the model is its inability to reflect properly the following phenomena:\n",
       " The transient enhancement of the neuronal firing activity in response to a step stimulus.\n",
       " The saturation of the firing rate.\n",
       " The values of inter-spike-interval-histogram at short intervals values (close to zero).\n",
       "These shortcoming are addressed by the age-dependent point process model and the two-state Markov Model.\n",
       "\n",
       " Refractoriness and age-dependent point process modelAnchorage-dependent model \n",
       "Berry and Meister studied neuronal refractoriness using a stochastic model that predicts spikes as a product of two terms, a function f(s(t))  that depends on the time-dependent  stimulus s(t) and one a recovery function  w(t-hatt)  that depends o…</td></tr></tbody></table></div>"
      ],
      "text/plain": [
       "shape: (40_769,)\n",
       "Series: 'section_text' [str]\n",
       "[\n",
       "\t\"Assembly \n",
       "It is believedBy whomdateMay 2023 that the BBSome assembles sequentially, beginning with the association of BBS7, BBS chaperonins, and the CCT/TRiC complex, which functions as a scaffold to which further subunits can bind. BBS2 and BBS7 bind together first. BBS2 and BBS7 are missing in certain species, such as Drosophila, which leads to the idea that they might be more important in organizing the BBSome in higher organisms rather than directly related to the cargo and membrane binding functions of the BBSome. Then, BBS9 is added to the core complex followed by BBS5 and BBS8.\n",
       "\n",
       " Core structure \n",
       "\n",
       "BBIP1, also known as BBS18, is the smallest subunit that is located in the center of the complex. This protein domain winds through two super-helically arranged (TPR) domains of the BBS4 and BBS8 subunits, which are arranged perpendicularly and stabilized by ionic interactions. Together, the BBS18 domain clamps the other two subunits in a Y-shaped layout that serves as the backbone for the BBSome complex. It is critical for the stability and assembly of the BBSome, particularly with stabilizing the interactions between BBS4 and BBS8. BBS8 has a loop in its domain that is different across purified BBSomes which leads to the idea that this domain might be involved in tissue specific activity of the BBSome. The C-terminal helix of BBS18 also loosely interacts with the gamma-adaptin ear (GAE) domain of BBS1, the most relevant domain to cargo recognition, to also aid with structure of the complex. BBS1 then binds its N-terminal β-propeller domain to the N-terminal of the BBS4 TPR superhelix, a connection which is stabilized by hydrophobic interactions. It wraps around the BBS4 and BBS8 domains and binds its C-terminal GAE domain to the TPR domain of BBS8. BBS9 associates in a similar but reciprocal manner with its N-terminal β-propeller domain bound to the N-terminus of the TPR superhelix of BBS8. BBS9 then wraps around BBS4 and parts of BBS1 and binds its C-terminal GAE…\n",
       "\t\"Dried fruit\n",
       "Dried fruit is fruit from which the majority of the original water content has been removed, either naturally, through sun drying (food), or through the use of specialized dryers or food dehydrator. Dried fruit has a long tradition of use dating back to the fourth millennium BC in Mesopotamia, and is prized because of its sweet taste, nutritive value, and long shelf life.\n",
       "\n",
       "A\n",
       "\n",
       " Ancho chilispaced ndashthe dried form of Poblano.\n",
       " Apple chips\n",
       " Apple#Popular usesspaced ndashcan be eaten dried or reconstituted (soaked in water, Alcoholic beverage or some other liquid) for later use.\n",
       " Dried apricotspaced ndashcan be dried either whole or in halves, with or without kernels.\n",
       "\n",
       "B\n",
       " Banana chipsspaced ndashare dried or deep-fried slices of bananas commonly found in Brazil, Indonesia (as kripik) and India.\n",
       " Black limespaced ndashis a spice used in Middle eastern cuisine made by boiling fresh Lime (fruit) in salt water and sun drying until the insides turn black.\n",
       "\n",
       "galleryclasscenterwidths200pxheights145px\n",
       "File:Apricots Drying In Cappadocia.JPG|[[Apricot]]s drying on the ground in Turkey\n",
       "|Dried [[banana chip]]s\n",
       "|Dried, ground Persian [[black lime]]\n",
       "gallery\n",
       "\n",
       "C\n",
       "\n",
       " Chenpispaced ndashis sun-dried tangerine (mandarin orange) Peel (fruit) used as a traditional seasoning in Chinese cooking and Chinese medicine.\n",
       " Dried cherry \n",
       " Chipotlespaced ndasha smoked, dried Jalapeño.\n",
       " Coconutspaced ndashcan be dried whole or halved. A common product is coconut that has been dried and shredded.\n",
       " Dried cranberryspaced ndashis made by partially dehydration fresh cranberries, a process similar to making grapes into raisins.\n",
       "\n",
       "D\n",
       " Date palm#Datess, the fruit of date palmspaced ndashcan be dried, often by sun-drying.\n",
       "\n",
       "F\n",
       " Figspaced ndashis used in food products such as fig rolls.\n",
       " Traditional dried fruitspaced ndashare types of dried fruits that are either sun-dried, such as raisins and ficus, or dehydrated in wind tunnels and other dryers, such as dried plums (prunes), apricots, and peaches.\n",
       "\n",
       "G\n",
       " …\n",
       "\t\"Meat has been preserved by drying salted meats and through smoking since the Paleolithic era.\n",
       "\n",
       "Dried fish and seafood\n",
       "Dried fish is a method of food preservation that works by removing water from the Fish (food), which inhibits the growth of microorganisms. Open-air drying using sun and wind has been practiced since Ancient history to preserve food. Fish are also preserved through such traditional methods as Smoking (cooking) and Salting (food).\n",
       "\n",
       "B\n",
       "\n",
       " Bacalhauspaced ndashthe Portuguese language word for cod and, in a culinary context, dried and salted cod. Bacalhau dishes are common in Portugal, Brazil and Galicia (Spain), in the northwest of Spain, and to a lesser extent in former Portuguese colonies like Angola, Macau, and Goa.\n",
       " Balykspaced ndashSalted fish and dried soft parts of fish, usually coming from large valuable species: acipenseridae (e.g., sturgeon) or salmonidae (salmon).\n",
       " Bokkomsspaced ndashwhole, salted and dried Mullet (fish) (more specifically the Southern mullet, Liza richardsonii, a type of fish commonly known in the Western Cape of South Africa as \"harders\"), and is a well-known delicacy from the West Coast District Municipality region of South Africa.\n",
       " Boknafiskspaced ndasha variant of stockfish and is unsalted fish partially dried by sun and wind on drying flakes ('hjell') or on a wall. Boknafisk is mostly associated with Nord-Norge, but it is eaten along the entire Norwegian coast down to Bergen.\n",
       " Budu (sauce)spaced ndasha sauce traditionally made by mixing anchovy and salt in the range of ratio of 2:1 to 6:1 and then fermenting for 140 to 200 days.\n",
       "\n",
       "C\n",
       " Dried clam\n",
       "Dried Cod skinspaced ndashis a cod skin that has been dried either by air drying, dehydration, sun drying or food drying. Dried cod skin is popular as a dog treat.\n",
       " Dried and salted codspaced ndashor \"salt cod\", is cod which has been preserved by drying after salting. Cod which has been dried without the addition of salt is stockfish.\n",
       " Conpoy – a type of dried seafood product made f…\n",
       "\t\"Some teachers assume best practices in their classroom, include such things as students sitting on the floor, listening to music, drawing, being loud or being quiet but doing so as a class. Because these students are doing these things as a class it is not differentiated Instruction. Amy Benjamin writes differentiated instruction is a \"variety of classroom practices that allow for differences in students' learning styles, interests, prior knowledge, socialization needs and comfort zones\". To learn students individual needs we as teachers need to assess those students and pre-assessment can to be done at the beginning of the school year and to identify students learning modalities, interests and readiness for content.\n",
       "\n",
       "Modalities\n",
       "There are two types of modality theories; one is learning styles theory, the other is multiple intelligence. Learning style theory suggests that learning styles differ from student to student. A few examples of learning styles are active learners, verbal learners, and reflective learners. Learning styles#Criticism is highly criticized and lacks empirical evidence to support it. Another type of modality is multiple intelligence, which was created by Howard Gardner. He takes a physiological approach to multiple intelligence by breaking it into eight categories. These categories help teachers understand the different types of diverse learning abilities. First is logical/mathematical which means the student learns better with logic, reasoning and numbers. Verbal/ Linguistic is another way that the students' strengths are with words and language. Another type is visual/spatial in which a student would rather use graphs, charts and drawings. Students who enjoy sound, rhymes, and music are musical/rhythmical learners. Bodily/kinesthetic learners are better with their hands and have better control over their bodily motions. Another type is Naturalist/Environmental, these students are sensitive, nurturing and like to use all five sense. The seventh …\n",
       "\t\"A list of known near-Earth asteroid close approaches less than 1 Lunar distance (astronomy) (384,400 Kilometre or 0.00256 astronomical unit) from Earth in 2009.\n",
       "\n",
       "legend2#ff9999border1px solid #ff9999Rows highlighted red indicate objects which were not discovered until after closest approach \n",
       "\n",
       "legend2#ffff99border1px solid #ffff99Rows highlighted yellow indicate objects discovered less than 24 hours before closest approach \n",
       "\n",
       "legend2#99ff99border1px solid #99ff99Rows highlighted green indicate objects discovered more than one week before closest approach \n",
       "\n",
       "legend2#99ffffborder1px solid #99ffffRows highlighted turquoise indicate objects discovered more than 7 weeks before closest approach \n",
       "\n",
       "legend2#bbccffborder1px solid #bbccffRows highlighted blue indicate objects discovered more than one year before closest approach (i.e.br objects successfully cataloged on a previous orbit, rather than being detected during final approach) \n",
       "\n",
       "This list does not include any of the List_of_bolides, none of which were discovered in advance, but were recorded by sensors designed to detect detonation of nuclear devices.\n",
       "\n",
       " Warning Times by Size \n",
       "This sub-section visualises the warning times of the close approaches listed in the above table, depending on the size of the asteroid. The sizes of the charts show the relative sizes of the asteroids to scale. For comparison, the approximate size of a person is also shown. This is based the Absolute_magnitude#Solar_System_bodies_(H) of each asteroid, an approximate measure of size based on brightness.\n",
       "\n",
       "Abs Magnitude 29-30\n",
       "File:Silhouette of man standing and facing forward.svg (size of a person for comparison)\n",
       "#invoke:Chart\n",
       "  pie chart\n",
       "  radius  17\n",
       "  slices \n",
       "    (  2 : After closest approach  : red )\n",
       "    (  0 : < 24 hours before       : yellow )\n",
       "    (  0 : up to 7 days before     : lightgrey )\n",
       "    (  0 : > one week before       : green )\n",
       "    (  0 : > 7 weeks before        : turquoise )\n",
       "    (  0 : > one year before       : blue )\n",
       "  percent  true\n",
       "  …\n",
       "\t\"Case z geq min (X_a, X_b) is an immediate consequence of the minimum definition, in the following it will always be assumed z < min (X_a, X_b) and also corner case min_a leq t leq b X(t) = min (X_a, X_b) will be excluded.\n",
       "\n",
       "Let' s assume X(t) defined in a finite number of points t_k in [a,b],   0 leq k leq n,   t_0 = a.\n",
       "\n",
       "Let  T_n   oversetundersetmathrmdef=  t_k,   0leq k leq n,  by varying the integer n be a sequence of sets  T_n  such that  T_n subset T_n+1 and  bigcup_n=0+inftyT_n be a dense set in [a,b],\n",
       "\n",
       "hence every Neighbourhood (mathematics) of each point in [a,b] contains an element of one of the sets T_n.\n",
       "\n",
       "Let  Delta z be a real positive number such that z + Delta z < min (X_a, X_b).\n",
       "\n",
       "Let the Event (probability theory) E be defined as:  E   oversetundersetmathrmdef=  (min_a leq t leq bX(t) < z + Delta z )   Longleftrightarrow  ( exists , t in [a,b] : X(t) < z + Delta z) .\n",
       "\n",
       "Having excluded corner case min_a leq t leq b X(t) = min (X_a, X_b), it is surely P(E) > 0.\n",
       "\n",
       "Let E_n ,   n = 0,1,2,ldots be the events defined as:  E_n   oversetundersetmathrmdef=  (exists ,t_k in T_n : z < X(t_k) < z + Delta z  ) and let  nu be the first k among the  t_k in T_n which define  E_n .\n",
       "\n",
       "Since T_n subset T_n+1 it is evidently E_n subset E_n+1. Now equation (2.1) will be proved.\n",
       "\n",
       "(2.1)                    E = bigcup_n=0+inftyE_n\n",
       "\n",
       "By the E_n  events definition,forall , n   E_n Rightarrow E, hence   bigcup_n=0+inftyE_n subset E  . It will now be verified the relation  E subsetbigcup_n=0+inftyE_n hence (2.1) will be proved.\n",
       "\n",
       "The definition of   E, the continuity of  X(t) and the hypothesis  z < X_a = X(a) imply, by the intermediate value theorem,   ( exists , bartin [a,b] : z < X(bart) < z + Delta z).\n",
       "\n",
       "By the continuity of  X(t) and the hypothesis that   bigcup_n=0+inftyT_n is dense in [a,b] it is deducted that   exists , barn such that for  t_nu in T_barn it must be   z < X(t_nu) < z + Delta z  ,\n",
       "\n",
       "hence  E subset E_barn subset bigcup_n=0+inftyE_n which implies (2.1).\n",
       "\n",
       "(2.2)      P…\n",
       "\t\"Emeishan Traps \n",
       "\n",
       " Volcanic emissions \n",
       "It is believed that the extinction, which coincided with the beginning of a major negative δ13C excursion signifying a severe disturbance of the carbon cycle, was triggered by eruptions of the Emeishan Traps large igneous province, basalt piles from which currently cover an area of 250,000 to 500,000km2, although the original volume of the basalts may have been anywhere from 500,000km3 to over 1,000,000km3. The age of the extinction event and the deposition of the Emeishan basalts are in good alignment. Reefs and other marine sediments interbedded among basalt piles indicate Emeishan volcanism initially developed underwater; terrestrial outflows of lava occurred only later in the large igneous province's period of activity. These eruptions would have released high doses of toxic mercury (element); increased mercury concentrations are coincident with the negative carbon isotope excursion, indicating a common volcanic cause. Coronene enrichment at the Guadalupian-Lopingian boundary further confirms the existence of massive volcanic activity; coronene can only form at extremely high temperatures created either by extraterrestrial impacts or massive volcanism, with the former being ruled out because of an absence of iridium anomalies coeval with mercury and coronene anomalies. A large amount of carbon dioxide and sulfur dioxide is believed to have been discharged into the stratosphere of the Northern Hemisphere and Southern Hemispheres due to the equatorial location of the Emeishan Traps, leading to sudden global cooling and nowraplong-term global warming. The Emeishan Traps discharged between 130 and 188 teratonnes of carbon dioxide in total, doing so at a rate of between 0.08 to 0.25 gigatonnes of carbon dioxide per year, making them responsible for an increase in atmospheric carbon dioxide that was both one of the largest and one of the most precipitous in the entire geological history of the Earth. The rate of carbon dioxide em…\n",
       "\t\"Further2022 Pacific hurricane seasonTimeline of the 2022 Pacific hurricane season\n",
       " \n",
       "On May 22, The National Hurricane Center monitored a low-pressure area located several miles off the coast of Mexico for potential development. On May 28, the system eventually developed into a tropical depression which became the first storm in the basin and was designated as One-E by the NHC. Later, the system strengthened into a tropical storm and was named Hurricane Agatha. Agatha furthermore intensified into the basin's first hurricane. Agatha reached its peak intensity as a Category 2 hurricane and made landfall near Puerto Angel in Mexico with winds up to 105mph. This made Agatha the strongest hurricane to make landfall during the month of May in the basin.\n",
       "\n",
       "On the first week of June, the NHC first noted a low pressure area that formed off the Gulf of Tehuantepec, and designated the system as Invest 92E. On June 11, the disturbance became more organized and the system was reclassified as Tropical Depression Two-E three days later by the NHC. Later, the depression intensified to a tropical storm and was named Hurricane Blas (2022) which became the second named storm in the Eastern Pacific basin. Blas further intensified into the basin's second hurricane. Blas's structure continued to improve, developing a mid-level eye on the western portions of the cyclone. On June 18, Blas weakened into a tropical storm due to unfavorable conditions causing Blas's structure to deteriorate along with its deep convection. Two days later, Blas transitioned into a post-tropical cyclone and dissipated on June 24. Blas caused four deaths, two in Guerrero and two in Puebla in Mexico. Additionally, six people died in El Salvador due to heavy rain related to Blas's precursor disturbance and other weather systems. No coastal watches or warnings were put into effect for Blas. As a precaution, ports in Southern Mexico, an area still recovering from the impacts of Hurricane Agatha 19 days prior closed on…\n",
       "\t\"There are two commonly used methods of measuring the incidence of abortion:\n",
       " Abortion rate– number of abortions annually per 1,000 women between 15 and 44 years of age; some sources use a range of 15–49.\n",
       " Abortion percentage– number of abortions out of 100 known pregnancies; pregnancies include live births, abortions, and miscarriages.\n",
       "\n",
       "In many places, where abortion is illegal or carries a heavy social stigma, medical reporting of abortion is not reliable. For this reason, estimates of the incidence of abortion must be made without determining certainty related to standard error. The number of abortions performed worldwide seems to have remained stable in the early 2000s, with 41.6million having been performed in 2003 and 43.8million having been performed in 2008. The abortion rate worldwide was 28 per 1000 women per year, though it was 24 per 1000 women per year for developed countries and 29 per 1000 women per year for developing countries. The same 2012 study indicated that in 2008, the estimated abortion percentage of known pregnancies was at 21% worldwide, with 26% in developed countries and 20% in developing countries.\n",
       "\n",
       "On average, the incidence of abortion is similar in countries with restrictive abortion laws and those with more liberal access to abortion. Restrictive abortion laws are associated with increases in the percentage of abortions performed unsafely. The unsafe abortion rate in developing countries is partly attributable to lack of access to modern contraceptives; according to the Guttmacher Institute, providing access to contraceptives would result in about 14.5 million fewer unsafe abortions and 38,000 fewer deaths from unsafe abortion annually worldwide.\n",
       "\n",
       "The rate of legal, induced abortion varies extensively worldwide. According to the report of employees of Guttmacher Institute it ranged from 7 per 1000 women per year (Germany and Switzerland) to 30 per 1000 women per year (Estonia) in countries with complete statistics in 2008. The proport…\n",
       "\t\"Personal\n",
       "\n",
       "The reasons why women have abortions are diverse and vary across the world. Some of the reasons may include an inability to afford a child, domestic violence, lack of support, feeling they are too young, and the wish to complete education or advance a career. Additional reasons include not being able or willing to raise a child conceived as a result of rape or incest.\n",
       "\n",
       "Societal\n",
       "Some abortions are undergone as the result of societal pressures. These might include the preference for children of a specific sex or race, disapproval of single or early motherhood, stigmatization of people with disabilities, insufficient economic support for families, lack of access to or rejection of contraceptive methods, or efforts toward population control (such as China's one-child policy). These factors can sometimes result in compulsory abortion or sex-selective abortion.\n",
       "\n",
       " Maternal and fetal health \n",
       "An additional factor is maternal health which was listed as the main reason by about a third of women in 3 of 27 countries and about 7% of women in a further 7 of these 27 countries.\n",
       "\n",
       "In the U.S., the Supreme Court decisions in Roe v. Wade and Doe v. Bolton: \"ruled that the state's interest in the life of the fetus became compelling only at the point of viability, defined as the point at which the fetus can survive independently of its mother. Even after the point of viability, the state cannot favor the life of the fetus over the life or health of the pregnant woman. Under the right of privacy, physicians must be free to use their \"medical judgment for the preservation of the life or health of the mother.\" On the same day that the Court decided Roe, it also decided Doe v. Bolton, in which the Court defined health very broadly: \"The medical judgment may be exercised in the light of all factors—physical, emotional, psychological, familial, and the woman's age—relevant to the well-being of the patient. All these factors may relate to health. This allows the attending physician …\n",
       "\t\"Main memory\n",
       "Early computers used one of two addressing methods to access the system memory; binary (base 2) or decimal (base 10). For example, the IBM 701 (1952) used binary and could address 2048 Word (data type) of 36 bits each, while the IBM 702 (1953) used decimal and could address ten thousand 7-bit words.\n",
       "\n",
       "By the mid-1960s, binary addressing had become the standard architecture in most computer designs, and main memory sizes were most commonly powers of two. This is the most natural configuration for memory, as all combinations of their address lines map to a valid address, allowing easy aggregation into a larger block of memory with contiguous addresses.  \n",
       "\n",
       "While early documentation specified those memory sizes as exact numbers such as 4096, 8192, or val16384 units (usually word (computer), bytes, or bits), computer professionals also started using the long-established metric system prefixes \"kilo\", \"mega\", \"giga\", etc., defined to be powers of 10, to mean instead the nearest powers of two; namely, 210 = 1024, 220 = 10242, 230 = 10243, etc..  The corresponding metric prefix symbols (\"k\", \"M\", \"G\", etc.) where used with the same binary meanings.  The symbol for 210 = 1024 could be written either in lower case (\"k\") or in uppercase (\"K\").  The latter was often used intentionally to indicate the binary rather than decimal meaning. This convention (which could not be extended to higher powers) was widely used in the documentation of the IBM 360 (1964) and of the IBM System/370 (1972), of the CDC 7600, of the DEC PDP-11/70 (1975) and of the DEC VAX-11/780 (1977). \n",
       "\n",
       "In other documents, however, the metric prefixes and their symbols were used to denote powers of 10, but usually with the understanding that the values given were approximate, often truncated down. Thus, for example,  a 1967 document by CDC abbreviated \"216 = 64 × 1024 = val65536 words\" as \"65K words\" (rather than \"64K\" or \"66K\"),, while the documentation of the HP 2100 real-time computer (1974) denote…\n",
       "\t\"There are several natural geometric notions of submanifold of a symplectic manifold  (M, omega) :\n",
       "\n",
       " Symplectic submanifolds of  M  (potentially of any even dimension) are submanifolds  S subset M  such that  omega|_S  is a symplectic form on  S .\n",
       " Isotropic submanifolds are submanifolds where the symplectic form restricts to zero, i.e. each tangent space is an isotropic subspace of the ambient manifold's tangent space. Similarly, if each tangent subspace to a submanifold is co-isotropic (the dual of an isotropic subspace), the submanifold is called co-isotropic.\n",
       " Lagrangian submanifolds of a symplectic manifold (M,omega) are submanifolds where the restriction of the symplectic form omega to Lsubset M is vanishing, i.e. omega|_L=0 and textdim L=tfrac12dim M. Lagrangian submanifolds are the maximal isotropic submanifolds.  \n",
       "\n",
       "One major example is that the graph of a symplectomorphism in the product symplectic manifold nowrap1(M × M, ω × −ω) is Lagrangian. Their intersections display rigidity properties not possessed by smooth manifolds; the Arnold conjecture gives the sum of the submanifold's Betti numbers as a lower bound for the number of self intersections of a smooth Lagrangian submanifold, rather than the Euler characteristic in the smooth case.\n",
       "\n",
       " Examples \n",
       "Let R2n_textbfx,textbfy have global coordinates labelled (x_1, dotsc, x_n, y_1, dotsc, y_n). Then, we can equip R_textbfx,textbfy2n with the canonical symplectic form \n",
       "\n",
       "omega =mathrmdx_1wedge mathrmdy_1 + dotsb + mathrmdx_nwedge mathrmdy_n. \n",
       "\n",
       "There is a standard Lagrangian submanifold given by Rn_x to R2n_x,y. The form omega vanishes on Rn_x because given any pair of tangent vectors X= f_i(textbfx) partial_x_i, Y=g_i(textbfx)partial_x_i, we have that omega(X,Y) = 0. To elucidate, consider the case n=1. Then, X = f(x)partial_x, Y=g(x)partial_x, and omega = mathrmdxwedge mathrmdy. Notice that when we expand this out\n",
       "\n",
       "omega(X,Y) = omega(f(x)partial_x,g(x)partial_x) = frac12f(x)g(x)(mathrmdx(partial_x)mathrmdy(par…\n",
       "\t…\n",
       "\t\"Solo short films\n",
       "\n",
       "Columns-list\n",
       " Goofy and Wilbur (1939)\n",
       " Goofy's Glider (1940)\n",
       " Baggage Buster (1941)\n",
       " The Art of Skiing (1941)\n",
       " The Art of Self Defense (1941 film) (1941)\n",
       " How to Play Baseball (1942)\n",
       " The Olympic Champ (1942)\n",
       " How to Swim (1942 film) (1942)\n",
       " How to Fish (1942)\n",
       " El Gaucho Goofy (1943, originally part of Saludos Amigos, 1942)\n",
       " Victory Vehicles (1943)\n",
       " How to Be a Sailor (1944)\n",
       " How to Play Golf (1944)\n",
       " How to Play Football (1944)\n",
       " Tiger Trouble (1945)\n",
       " African Diary (1945)\n",
       " Californy er Bust (1945)\n",
       " Hockey Homicide (1945)\n",
       " A Knight for a Day (1946)\n",
       " Double Dribble (film) (1946)\n",
       " Foul Hunting (1947)\n",
       " They're Off (1948)\n",
       " The Big Wash (1948)\n",
       " Tennis Racquet (1949)\n",
       " Goofy Gymnastics (1949)\n",
       " How to Ride a Horse (1950, originally part of The Reluctant Dragon (1941 film), 1941)\n",
       " Motor Mania (1950)\n",
       " Hold That Pose (1950)\n",
       " Lion Down (1951)\n",
       " Home Made Home (1951)\n",
       " Cold War (1951)\n",
       " Tomorrow We Diet! (1951)\n",
       " Get Rich Quick (1951)\n",
       " Fathers Are People (1951)\n",
       " No Smoking (1951 film) (1951)\n",
       " Father's Lion (1952)\n",
       " Hello Aloha (1952)\n",
       " Teachers Are People (1952)\n",
       " Two-Gun Goofy (1952)\n",
       " Man's Best Friend (1952)\n",
       " Two Weeks Vacation (1952)\n",
       " How to Be a Detective (1952)\n",
       " Father's Day Off (1953)\n",
       " For Whom the Bulls Toil (1953)\n",
       " Father's Week-end (1953)\n",
       " How to Dance (1953)\n",
       " How to Sleep (1953)\n",
       " Aquamania (1961)\n",
       " Freewayphobia (1965)\n",
       " Goofy's Freeway Troubles (1965)\n",
       " How to Hook Up Your Home Theater (2007)\n",
       " The Art of Vacationing (2012)\n",
       " How to Stay at Home (2021; series of shorts)\n",
       "\n",
       "Theatrical Donald and Goofy cartoons\n",
       "Besides his own solo cartoons and supporting character in Mickey Mouse (film series), there were also made some theatrical shorts presented as Donald Duck and Goofy cartoons (although these cartoons are commonly treated as part of Donald Duck (film series)):\n",
       "\n",
       " Polar Trappers (1938)\n",
       " The Fox Hunt (1938 film) (1938)\n",
       " Billposters (1940)\n",
       " No Sail (1945)\n",
       " Frank Duck Brings 'Em Back Alive (1946)\n",
       " Crazy with the Heat (1947)\n",
       "\n",
       "Feature films\n",
       " A Goofy Movie (1995)\n",
       " Micke…\n",
       "\t\"Goofy's Success Story (1955)\n",
       " Goofy's Cavalcade of Sports (1956)\n",
       " Goofy's Sports Story (1957)\n",
       " A Disney Halloween (1983)\n",
       " Disneyland 30th Anniversary TV Special (1985)\n",
       " A Very Merry Christmas Parade (1989)\n",
       " Disney's Celebrate The Spirit (1992)\n",
       " The Wonderful World Of Disney: 40 Years Of Magic (1994)\n",
       " Disneyland 40th Anniversary TV Special (1995)\n",
       " Disneyland 50th Anniversary TV Special (2005)\n",
       " Disneyland 60th Anniversary TV Special (2015)\n",
       " Mickey's Tale of Two Witches (2021)\n",
       " Mickey and Minnie Wish Upon a Christmas (2021)\n",
       " Mickey Saves Christmas (2022)\n",
       "\n",
       "Comics\n",
       "Comic strips first called the character Dippy Dawg, but his name changed to Goofy by 1936. In the early years, the other members of Mickey Mouse's gang considered him a meddler and a pest but eventually warmed up to him.\n",
       "\n",
       "The Mickey Mouse (comic strip) drawn by Floyd Gottfredson was generally based on what was going on in the Mickey Mouse shorts at the time, but when Donald Duck's popularity led to Donald Duck gaining Donald Duck (comic strip), Disney decided that he was no longer allowed to appear in Gottfredson's strips. Accordingly, Goofy remained alone as Mickey's sidekick, replacing Horace Horsecollar as Mickey's fellow adventurer and companion. Similarly in comics, the Mickey Mouse world with Goofy as Mickey's sidekick was usually very separate from the Donald Duck world and crossovers were rare. Goofy also has a characteristic habit of holding his hand in front of his mouth, a trademark that was introduced by Paul Murry.\n",
       "\n",
       "A character called \"Glory-Bee\" was Goofy's girlfriend for some years.\n",
       "\n",
       "In 1990, when Disney was publishing Disney Comics (publishing), Goofy starred in Goofy Adventures, that featured him starring in various parodies. Perhaps because of poor sales, Goofy Adventures was the first of the company's titles to be canceled by the Disney Comics Implosion, ending at its 17th issue.\n",
       "\n",
       "Super Goof\n",
       "\n",
       "Super Goof is Goofy's superhero alter ego who gets his powers by eating super goobers (peanuts). Goo…\n",
       "\t\"\n",
       "\n",
       "In the 19th century, research into the subject started to intensify. Notable developments in this century include the work of Hans Christian Ørsted who discovered in 1820 that an electric current produces a magnetic field that will deflect a compass needle, of William Sturgeon who, in 1825 invented the electromagnet, of Joseph Henry and Edward Davy who invented the relay in 1835, of Georg Ohm, who in 1827 quantified the relationship between the electric current and potential difference in a Electrical conductor, of Michael Faraday (the discoverer of electromagnetic induction in 1831), and of James Clerk Maxwell, who in 1873 published a unified Maxwell's equations of electricity and magnetism in his treatise Electricity and Magnetism.sfnLambourne2010p11\n",
       "\n",
       "In 1782, Georges-Louis Le Sage developed and presented in Berlin probably the world's first form of Electrical telegraph, using 24 different wires, one for each letter of the alphabet. This telegraph connected two rooms. It was an electrostatic telegraph that moved gold leaf through electrical conduction.\n",
       "\n",
       "In 1795, Francisco Salva Campillo proposed an electrostatic telegraph system. Between 1803 and 1804, he worked on electrical telegraphy, and in 1804, he presented his report at the Royal Academy of Natural Sciences and Arts of Barcelona. Salva's electrolyte telegraph system was very innovative though it was greatly influenced by and based upon two discoveries made in Europe in 1800—Alessandro Volta's electric battery for generating an electric current and William Nicholson and Anthony Carlyle's electrolysis of water. Electrical telegraphy may be considered the first example of electrical engineering. Electrical engineering became a profession in the later 19th century.  Practitioners had created a global electric telegraph network, and the first professional electrical engineering institutions were founded in the UK and the US to support the new discipline. Francis Ronalds created an electric telegraph system in…\n",
       "\t\"Allotropes\n",
       "\n",
       "Phosphorus has several allotropy that exhibit strikingly diverse properties. The two most common allotropes are white phosphorus and red phosphorus.\n",
       "\n",
       "From the perspective of applications and chemical literature, the most important form of elemental phosphorus is Allotropes of phosphorus#White phosphorus, often abbreviated as WP. It is a soft, waxy solid which consists of tetrahedral chemP4 molecules, in which each atom is bound to the other three atoms by a formal single bond. This chemP4 tetrahedron is also present in liquid and gaseous phosphorus up to the temperature of convert800CF when it starts decomposing to chemP2 molecules. The chemP4 molecule in the gas phase has a P-P bond length of rg = 2.1994(3) Å as was determined by gas electron diffraction. The nature of bonding in this chemP4 tetrahedron can be described by spherical aromaticity or cluster bonding, that is the electrons are highly Delocalized electron. This has been illustrated by calculations of the magnetically induced currents, which sum up to 29 nA/T, much more than in the archetypical Aromaticity molecule benzene (11 nA/T).\n",
       "\n",
       "multiple imageperrow2total_width320caption_aligncenter\n",
       " header  fontsize100%fontSans-seriftextCrystalline structures of some phosphorus allotropes\n",
       " align  right\n",
       " image_style  border:none;\n",
       "\n",
       "image1White phosphorus molecule.jpg\n",
       " alt1\n",
       " caption1White\n",
       "\n",
       "image2redPhosphorus.jpg\n",
       " alt2\n",
       " caption2Red\n",
       "\n",
       "image3Hittorf's violet phosphorus.png\n",
       " alt3\n",
       " caption3Violet\n",
       "\n",
       "image4BlackPhosphorus.jpg\n",
       " alt4\n",
       " caption4Black\n",
       "\n",
       "White phosphorus exists in two crystalline forms: α (alpha) and β (beta). At room temperature, the α-form is stable. It is more common, has cubic crystal structure and at convert195.2KC, it transforms into β-form, which has hexagonal crystal structure. These forms differ in terms of the relative orientations of the constituent P4 tetrahedra. The β form of white phosphorus contains three slightly different chemP4 molecules, i.e. 18 different P-P bond lengths between 2.1…\n",
       "\t\"More citation neededsectiondateMay 2023\n",
       "Radioactive decay results in a reduction of summed rest mass, once the released energy (the disintegration energy) has escaped in some way. Although decay energy is sometimes defined as associated with the difference between the mass of the parent nuclide products and the mass of the decay products, this is true only of rest mass measurements, where some energy has been removed from the product system. This is true because the decay energy must always carry mass with it, wherever it appears (see mass in special relativity) according to the formula E=mc2. The decay energy is initially released as the energy of emitted photons plus the kinetic energy of massive emitted particles (that is, particles that have rest mass). If these particles come to thermal equilibrium with their surroundings and photons are absorbed, then the decay energy is transformed to thermal energy, which retains its mass.\n",
       "\n",
       "Decay energy, therefore, remains associated with a certain measure of the mass of the decay system, called invariant mass, which does not change during the decay, even though the energy of decay is distributed among decay particles. The energy of photons, the kinetic energy of emitted particles, and, later, the thermal energy of the surrounding matter, all contribute to the invariant mass of the system. Thus, while the sum of the rest masses of the particles is not conserved in radioactive decay, the system mass and system invariant mass (and also the system total energy) is conserved throughout any decay process. This is a restatement of the equivalent laws of conservation of energy and conservation of mass.\n",
       "\n",
       " Alpha, beta and gamma decay \n",
       "\n",
       "File:Alfa beta gamma radiation.svgEarly researchers found that an Electric field or magnetic field could split radioactive emissions into three types of beams. The rays were given the names Alpha particle, Beta particle, and Gamma ray, in increasing order of their ability to penetrate matter. Alpha de…\n",
       "\t\"\n",
       "Image:Polar Mesospheric Clouds Illuminated by Orbital Sunrise.JPG\n",
       "\n",
       "Observed from the ground, this phenomenon is known as noctilucent clouds. From satellites, PMCs are most frequently observed above 70–75° in latitude and have a season of 60 to 80 days duration centered about a peak which occurs about 20 days after the summer solstice. This holds true for both hemispheres. Great variability in scattering is observed from day-to-day and year-to- year, but averaging over large time and space scales reveals a basic underlying symmetry and pattern. The long- term behaviour of polar mesospheric cloud frequency has been found to vary inversely with solar activity.\n",
       "\n",
       "PMC's have four major types based on physical structure and appearance. Type I veils are very tenuous and lack well-defined structure, somewhat like cirrostratus or poorly defined cirrus. Type II bands are long streaks that often occur in groups arranged roughly parallel to each other. They are usually more widely spaced than the bands or elements seen with cirrocumulus clouds. Type III billows are arrangements of closely spaced, roughly parallel short streaks that mostly resemble cirrus. Type IV whirls are partial or, more rarely, complete rings of cloud with dark centres.\n",
       "\n",
       "When mesospheric clouds are viewed above the atmosphere, the geometrical limitations of observing from the ground are significantly reduced. They may be observed ‘edge-on’ against the comparatively dark sky background, even in full daylight. The photometer field of view must be well baffled to avoid interference from the very bright Earth about a degree beneath the cloud layer. It is a much more difficult task to observe the clouds against the bright background of the illuminated Earth, although this has been achieved in the ultraviolet in the 200 to 300nm spectral region, because of the very small albedo of the earth in this part of spectrum.\n",
       "\n",
       "American and Soviet astronauts observed the phenomenon from space as early as 1970. Most observa…\n",
       "\t\"The Schrödinger equation allows one to calculate the stationary states and also the time evolution of quantum systems.  Exact analytical answers are available for the nonrelativistic hydrogen atom. Before we go to present a formal account, here we give an elementary overview.\n",
       "\n",
       "Given that the hydrogen atom contains a nucleus and an electron, quantum mechanics allows one to predict the probability of finding the electron at any given radial distance r. It is given by the square of a mathematical function known as the \"wavefunction,\" which is a solution of the Schrödinger equation. The lowest energy equilibrium state of the hydrogen atom is known as the ground state. The ground state wave function is known as the 1mathrms wavefunction. It is written as:\n",
       "\n",
       "Here, a_0 is the numerical value of the Bohr radius. The probability density of finding the electron at a distance r in any radial direction is the squared value of the wavefunction:\n",
       "\n",
       "The 1 mathrms wavefunction is spherically symmetric, and the surface area of a shell at distance r is 4 pi r2, so the total probability P(r) , dr of the electron being in a shell at a distance r and thickness dr is\n",
       "\n",
       "It turns out that this is a maximum at r = a_0. That is, the Bohr picture of an electron orbiting the nucleus at radius a_0 corresponds to the most probable radius. Actually, there is a finite probability that the electron may be found at any place r, with the\n",
       "probability indicated by the square of the wavefunction. Since the probability of finding the electron somewhere in the whole volume is unity, the integral of P(r) , dr is unity. Then we say that the wavefunction is properly normalized.\n",
       "\n",
       "As discussed below, the ground state 1 mathrms is also indicated by the Quantum number#Electron in an atom (n = 1, ell = 0, m = 0). The second lowest energy states, just above the ground state, are given by the quantum numbers (2, 0, 0), (2, 1, 0), and (2, 1, pm 1). These n = 2 states all have the same energy and are known as the 2 math…\n",
       "\t\"In the twentieth century there were notable periods of polychromy in architecture, from the expressions of Art Nouveau throughout Europe, to the international flourishing of Art Deco or Art Moderne, to the development of postmodernism in the latter decades of the century. During these periods, brickwork, stone, tile, stucco and metal facades were designed with a focus on the use of new colors and patterns, while architects often looked for inspiration to historical examples ranging from Islamic tilework to English Victorian brick.\n",
       "\n",
       "Before WWI\n",
       "At the beginning of the 20th century, before the world wars, Revivalism (architecture) (including Neoclassicism and the Gothic Revival architecture) and eclecticism of historic styles were very popular in design and architecture. Art Nouveau was also in fashion during the 1900s all over the Western world. However, it fragmented by 1911 and from then it steadily faded, until it disappeared with WW1. Many of the buildings from this period have their interiors decorated with colours, through tiles, mosaics, stuccos or murals. When it comes to exteriors, most polychrome facades are decorated with ceramic tiles.\n",
       "\n",
       "gallerymodepackedheights170px\n",
       "Alphonse mucha, boutique fouquet, 1899, 02.JPG|French [[Art Nouveau]] - [https://commons.wikimedia.org/wiki/Category:Bijouterie_Fouquet Bijouterie Fouquet], [[Musée Carnavalet]], Paris, by [[Alphonse Mucha]], {{c.|1900}}{{sfn|Duncan|1994|p=43}}\n",
       "\n",
       "Clement massier.jpg|French Art Nouveau - Vase, by [[Clément Massier]], {{circa}}1900, [[lusterware]], [[Jason Jacques Gallery]], New York<ref>{{cite book|last1=Greenhalgh|first1=Paul|title=Ceramic - Art and Civilization|date=2019|publisher=Bloomsbury|isbn=|page=323|url=978-1-4742-3970-7|language=en}}</ref>\n",
       "\n",
       "14 Avenue Gallieni, Paris (01).jpg|French Art Nouveau - Avenue Gallieni no. 14, Paris, by [[Eugène Coulon (architect)|Eugène Coulon]], 1903-1904\n",
       "\n",
       "Douai Rue Pollinchove -Façade tournesol -1902 - André Pépe Architecte.jpg|French Art Nouveau - Rue Jean…\n",
       "\t\"The elements of the symmetric group on a set X are the permutations of X.\n",
       "\n",
       " Multiplication \n",
       "The group operation in a symmetric group is function composition, denoted by the symbol ∘ or simply by just a composition of the permutations. The composition nowrapf ∘ g of permutations f and g, pronounced \"f of g\", maps any element x of X to f(g(x)). Concretely, let (see permutation for an explanation of notation):\n",
       "\n",
       " \n",
       " \n",
       "\n",
       "Applying f after g maps 1 first to 2 and then 2 to itself; 2 to 5 and then to 4; 3 to 4 and then to 5, and so on. So composing f and g gives\n",
       " \n",
       "\n",
       "A Cyclic permutation of length nowrap1L = k · m, taken to the kth power, will decompose into k cycles of length m: For example, (nowrap1k = 2, nowrap1m = 3),\n",
       "  (1~2~3~4~5~6)2 = (1~3~5) (2~4~6).\n",
       "\n",
       " Verification of group axioms \n",
       "To check that the symmetric group on a set X is indeed a group (mathematics), it is necessary to verify the group axioms of closure, associativity, identity, and inverses.\n",
       " The operation of function composition is closed in the set of permutations of the given set X.\n",
       " Function composition is always associative.\n",
       " The trivial bijection that assigns each element of X to itself serves as an identity for the group.\n",
       " Every bijection has an inverse function that undoes its action, and thus each element of a symmetric group does have an inverse which is a permutation too.\n",
       "\n",
       " Transpositions, sign, and the alternating group \n",
       "\n",
       "A transposition is a permutation which exchanges two elements and keeps all others fixed; for example (1 3) is a transposition. Every permutation can be written as a product of transpositions; for instance, the permutation g from above can be written as g = (1 2)(2 5)(3 4). Since g can be written as a product of an odd number of transpositions, it is then called an Even and odd permutations, whereas f is an even permutation.\n",
       "\n",
       "The representation of a permutation as a product of transpositions is not unique; however, the number of transpositions needed to represent a given permutation…\n",
       "\t\"Image:Evolved star fusion shells.svg\n",
       "Very massive stars can undergo core collapse when nuclear fusion becomes unable to sustain the core against its own gravity; passing this threshold is the cause of all types of supernova except type Ia. The collapse may cause violent expulsion of the outer layers of the star resulting in a supernova. However, if the release of gravitational potential energy is insufficient, the star may instead collapse into a black hole or neutron star with little radiated energy.\n",
       "\n",
       "Core collapse can be caused by several different mechanisms: exceeding the Chandrasekhar limit; electron capture; Pair-instability supernova; or photodisintegration.\n",
       " When a massive star develops an iron core larger than the Chandrasekhar mass it will no longer be able to support itself by electron degeneracy pressure and will collapse further to a neutron star or black hole.\n",
       " Electron capture by magnesium in a degenerate matter O/Ne/Mg core (8–10 solar mass progenitor star) removes support and causes gravitational collapse followed by explosive oxygen fusion, with very similar results.\n",
       " Electron-positron pair production in a large post-helium burning core removes thermodynamic support and causes initial collapse followed by runaway fusion, resulting in a pair-instability supernova.\n",
       " A sufficiently large and hot stellar core may generate gamma-rays energetic enough to initiate photodisintegration directly, which will cause a complete collapse of the core.\n",
       "\n",
       "The table below lists the known reasons for core collapse in massive stars, the types of stars in which they occur, their associated supernova type, and the remnant produced. The metallicity is the proportion of elements other than hydrogen or helium, as compared to the Sun. The initial mass is the mass of the star prior to the supernova event, given in multiples of the Sun's mass, although the mass at the time of the supernova may be much lower.\n",
       "\n",
       "Type IIn supernovae are not listed in the table. They can be produce…\n",
       "\t\"more citations needed sectiondateMay 2021\n",
       "\n",
       "Protection from accidental contact\n",
       "Designs of plugs and sockets have gradually developed to reduce the risk of electric shock and fire. Plugs are shaped to prevent finger contact with live parts. Sockets may be recessed and plugs designed to fit closely within the recess to reduce risk of a user's fingers contacting the live pins. Contact pins may be sheathed with insulation over part of their length, so as to reduce exposure of energized metal during insertion or removal of the socket. Sockets may have automatic shutters to stop foreign objects from being inserted into energized contacts. Some types can also include Fuse (electrical) and switches.\n",
       "\n",
       "Earthing (grounding)\n",
       "A third contact for a connection to Ground (electricity) is intended to protect against insulation failure of the connected device. Some early unearthed plug and socket types were revised to include an earthing pin or phased out in favour of earthed types. The plug is often designed so that the earth ground contact connects before the energized circuit contacts.\n",
       "\n",
       "The assigned IEC appliance classes is governed by the requirement for earthing or equivalent protection. ClassI equipment requires an earth contact in the plug and socket, while ClassII equipment is unearthed and protects the user with double insulation.\n",
       "\n",
       "AnchorPolarization\n",
       " Polarisation\n",
       "\n",
       "Where a \"Ground and neutral\" conductor exists in supply wiring, polarisation of the plug can improve safety by preserving the distinction in the equipment. For example, appliances may ensure that switches interrupt the line side of the circuit, or can connect the shell of a screw-base lampholder to neutral to reduce electric shock hazard. In some designs, polarised plugs cannot be mated with non-polarised sockets. Wiring systems where both circuit conductors have a significant potential with respect to earth do not benefit from polarised plugs.\n",
       "\n",
       "Universal sockets\n",
       "\"Universal\" or \"multi-standard\" sockets are intende…\n",
       "\t\"Principles\n",
       "From 1977 to 2004, the influence of disease and drugs on receptivity of nonverbal communication was studied by teams at three separate medical schools using a similar paradigm. Researchers at the University of Pittsburgh, Yale University and Ohio State University had subjects observe gamblers at a slot machine awaiting payoffs. The amount of this payoff was read by nonverbal transmission prior to reinforcement. This technique was developed by and the studies directed by psychologist Robert E. Miller and psychiatrist A. James Giannini. These groups reported diminished receptive ability in heroin addicts and phencyclidine abusers, contrasted with increased receptivity in cocaine addicts. Men with major depression manifested significantly decreased ability to read nonverbal cues when compared with euthymic men.\n",
       "\n",
       "In some subjects tested for ability to read nonverbal cues, intuitive paradigms were apparently employed while in others a cause and effect approach was used. Subjects in the former group answered quickly and before reinforcement occurred. They could not give a rationale for their particular responses. Subjects in the latter category delayed their response and could offer reasons for their choice. The level of accuracy between the two groups did not vary nor did handedness.\n",
       "\n",
       "Obese women and women with premenstrual syndrome were found to also possess diminished abilities to read these cues. In contradistinction, men with bipolar disorder possessed increased abilities. A woman with total paralysis of the nerves of facial expression was found unable to transmit or receive any nonverbal facial cues whatsoever. Because of the changes in levels of accuracy on the levels of nonverbal receptivity, the members of the research team hypothesized a biochemical site in the brain which was operative for reception of nonverbal cues. Because certain drugs enhanced ability while others diminished it, the neurotransmitters dopamine and endorphin were considered to be…\n",
       "\t\"The models in this category were derived following experiments involving natural stimulation such as light, sound, touch, or odor. In these experiments, the spike pattern resulting from each stimulus presentation varies from trial to trial, but the averaged response from several trials often converges to a clear pattern. Consequently, the models in this category generate a probabilistic relationship between the input stimulus to spike occurrences. Importantly, the recorded neurons are often located several processing steps after the sensory neurons, so that these models summarize the effects of the sequence of processing steps in a compact form\n",
       "\n",
       " The non-homogeneous Poisson process model (Siebert) \n",
       "Siebert modeled the neuron spike firing pattern using a non-homogeneous Poisson process model, following experiments involving the auditory system. According to Siebert, the probability of a spiking event at the time interval [t, t+Delta_t] is proportional to a non negative function g[s(t)], where s(t) is the raw stimulus.:\n",
       "\n",
       " P_textspike(tin[t',t'+Delta_t])=Delta_t cdot g[s(t)]\n",
       "\n",
       "Siebert considered several functions as g[s(t)], including g[s(t)] propto s2(t) for low stimulus intensities.\n",
       "\n",
       "The main advantage of Siebert's model is its simplicity. The shortcomings of the model is its inability to reflect properly the following phenomena:\n",
       " The transient enhancement of the neuronal firing activity in response to a step stimulus.\n",
       " The saturation of the firing rate.\n",
       " The values of inter-spike-interval-histogram at short intervals values (close to zero).\n",
       "These shortcoming are addressed by the age-dependent point process model and the two-state Markov Model.\n",
       "\n",
       " Refractoriness and age-dependent point process modelAnchorage-dependent model \n",
       "Berry and Meister studied neuronal refractoriness using a stochastic model that predicts spikes as a product of two terms, a function f(s(t))  that depends on the time-dependent  stimulus s(t) and one a recovery function  w(t-hatt)  that depends o…\n",
       "]"
      ]
     },
     "execution_count": 18,
     "metadata": {},
     "output_type": "execute_result"
    }
   ],
   "source": [
    "wiki_sections.filter(pl.col('section_word_count') > 700)['section_text']"
   ]
  },
  {
   "cell_type": "code",
   "execution_count": 13,
   "id": "6a43f35a-5c74-47e7-980c-c8d3db836e86",
   "metadata": {
    "tags": []
   },
   "outputs": [],
   "source": [
    "# with pl.Config() as cfg:\n",
    "#     cfg.set_tbl_rows(100)\n",
    "#     display(wiki_sections.filter(pl.col('section_word_count') < 15)[['title', 'section_title', 'section_text']])"
   ]
  },
  {
   "cell_type": "code",
   "execution_count": 14,
   "id": "79de5947-5a6f-489d-a0c1-eea629be5362",
   "metadata": {
    "tags": []
   },
   "outputs": [],
   "source": [
    "max_words = 100\n",
    "doc_maxlen = 150\n",
    "query_maxlen = 150\n",
    "nbits = 2\n",
    "colbert_path = Path(f'./data/colbert_max_words_{max_words}_nbits_{nbits}-v4')\n",
    "os.makedirs(colbert_path, exist_ok=True)"
   ]
  },
  {
   "cell_type": "code",
   "execution_count": 32,
   "id": "1fb9d27d-7df5-41e1-bbd3-0573084db962",
   "metadata": {
    "tags": []
   },
   "outputs": [
    {
     "data": {
      "text/plain": [
       "((2500036, 9),\n",
       " ['passage_id',\n",
       "  'section_id',\n",
       "  'title',\n",
       "  'section_title',\n",
       "  'section_index',\n",
       "  'passage_text',\n",
       "  'title_section_rank',\n",
       "  'section_passage_num',\n",
       "  'titled_passage'])"
      ]
     },
     "execution_count": 32,
     "metadata": {},
     "output_type": "execute_result"
    }
   ],
   "source": [
    "def split_text_into_chunks(text):\n",
    "    chunks = []\n",
    "    current_chunk = []\n",
    "    current_length = 0\n",
    "    last_period = -1\n",
    "    section_words = text.split()\n",
    "\n",
    "    remaining_words = list(section_words)\n",
    "    split_sum = 0\n",
    "    for word in section_words:\n",
    "        current_length += 1\n",
    "        if word.endswith('.'):\n",
    "            last_period = current_length\n",
    "        \n",
    "        if current_length == max_words:\n",
    "            if last_period > -1:\n",
    "                chunk = remaining_words[:last_period]\n",
    "                chunks.append(\" \".join(chunk))\n",
    "                remaining_words = remaining_words[last_period:]             \n",
    "                current_length = current_length - last_period\n",
    "                split_sum += last_period\n",
    "            else:\n",
    "                # If no period exists, just split it at max_words\n",
    "                chunk = remaining_words[:current_length]\n",
    "                chunks.append(\" \".join(chunk))\n",
    "                remaining_words = remaining_words[current_length:]\n",
    "                current_length = 0\n",
    "                split_sum += current_length\n",
    "            last_period = -1\n",
    "\n",
    "    if remaining_words:\n",
    "        chunks.append(\" \".join(remaining_words))\n",
    "    \n",
    "    return chunks\n",
    "\n",
    "passages = wiki_sections[['section_id', 'title', 'section_title', 'section_index', 'section_text']]\n",
    "passages = passages.with_columns(\n",
    "    pl.col(\"section_text\")\n",
    "      .map_elements(split_text_into_chunks)\\\n",
    "      .cast(pl.List(pl.Utf8)).alias('passage_text')\\\n",
    ")\n",
    "passages = passages.drop('section_text')\n",
    "passages = passages.explode('passage_text')\n",
    "\n",
    "passages = passages.with_columns(pl.col('title')\\\n",
    "                   .rank(method=\"ordinal\")\\\n",
    "                   .over(['title', 'section_index', 'section_title', 'passage_text'])\\\n",
    "                   .alias('title_section_rank'))\n",
    "passages = passages.filter(pl.col('title_section_rank') == 1)\n",
    "passages = passages.filter(pl.col('passage_text').is_not_null())\\\n",
    "                   .with_row_count('passage_id')\n",
    "\n",
    "passages = passages.with_columns(pl.col('passage_text').str.replace_all('\\n', ' '))                      \n",
    "passages_file = colbert_path/'wiki_passages'\n",
    "passages.write_parquet(str(passages_file) +'.parquet')\n",
    "passages = passages.with_columns(pl.col('passage_id').rank(method=\"min\").over([\"section_id\"]).alias('section_passage_num'))\n",
    "\n",
    "# \\s: Matches any whitespace character, including spaces, tabs, and newline characters.\n",
    "# \\S: Matches any character that is NOT a whitespace character.\n",
    "passages = passages.with_columns(pl.col('section_title').str.replace_all('<ref[^>]*>[\\s\\S]*?<\\/ref>', ''))\n",
    "passages = passages.with_columns(pl.col('passage_text').str.replace_all('<ref[^>]*>[\\s\\S]*?<\\/ref>', ''))\n",
    "passages = passages.with_columns(titled_passage=pl.col('title') +\\\n",
    "                                  ':' + pl.col('section_title') + ':'\\\n",
    "                                  + pl.col('passage_text').str.replace_all(r\"[\\n\\t]+$\", \"\"))\n",
    "passages.shape, passages.columns"
   ]
  },
  {
   "cell_type": "code",
   "execution_count": 33,
   "id": "57f469d6-38f7-4043-b695-c6cfe7874a75",
   "metadata": {
    "tags": []
   },
   "outputs": [
    {
     "data": {
      "image/png": "[encoded data removed]",
      "text/plain": [
       "<Figure size 600x300 with 1 Axes>"
      ]
     },
     "metadata": {},
     "output_type": "display_data"
    }
   ],
   "source": [
    "plt.figure(figsize=[6,3])\n",
    "sns.histplot(passages['titled_passage'].str.split(' ').list.lengths(), binrange=[0, max_words]);"
   ]
  },
  {
   "cell_type": "code",
   "execution_count": 34,
   "id": "28fad48f-85df-4294-9034-140af0425063",
   "metadata": {
    "tags": []
   },
   "outputs": [
    {
     "data": {
      "text/html": [
       "<div><style>\n",
       ".dataframe > thead > tr > th,\n",
       ".dataframe > tbody > tr > td {\n",
       "  text-align: right;\n",
       "  white-space: pre-wrap;\n",
       "}\n",
       "</style>\n",
       "<small>shape: (0, 9)</small><table border=\"1\" class=\"dataframe\"><thead><tr><th>passage_id</th><th>section_id</th><th>title</th><th>section_title</th><th>section_index</th><th>passage_text</th><th>title_section_rank</th><th>section_passage_num</th><th>titled_passage</th></tr><tr><td>u32</td><td>u32</td><td>str</td><td>str</td><td>i64</td><td>str</td><td>u32</td><td>u32</td><td>str</td></tr></thead><tbody></tbody></table></div>"
      ],
      "text/plain": [
       "shape: (0, 9)\n",
       "┌────────────┬────────────┬───────┬────────────┬───┬───────────┬───────────┬───────────┬───────────┐\n",
       "│ passage_id ┆ section_id ┆ title ┆ section_ti ┆ … ┆ passage_t ┆ title_sec ┆ section_p ┆ titled_pa │\n",
       "│ ---        ┆ ---        ┆ ---   ┆ tle        ┆   ┆ ext       ┆ tion_rank ┆ assage_nu ┆ ssage     │\n",
       "│ u32        ┆ u32        ┆ str   ┆ ---        ┆   ┆ ---       ┆ ---       ┆ m         ┆ ---       │\n",
       "│            ┆            ┆       ┆ str        ┆   ┆ str       ┆ u32       ┆ ---       ┆ str       │\n",
       "│            ┆            ┆       ┆            ┆   ┆           ┆           ┆ u32       ┆           │\n",
       "╞════════════╪════════════╪═══════╪════════════╪═══╪═══════════╪═══════════╪═══════════╪═══════════╡\n",
       "└────────────┴────────────┴───────┴────────────┴───┴───────────┴───────────┴───────────┴───────────┘"
      ]
     },
     "execution_count": 34,
     "metadata": {},
     "output_type": "execute_result"
    }
   ],
   "source": [
    "# def split_text_into_chunks(text):\n",
    "#     chunks = []\n",
    "#     current_chunk = []\n",
    "#     current_length = 0\n",
    "#     last_period = -1\n",
    "#     section_words = text.split()\n",
    "\n",
    "#     remaining_words = list(section_words)\n",
    "#     split_sum = 0\n",
    "#     for word in section_words:\n",
    "#         current_length += 1\n",
    "#         if word.endswith('.'):\n",
    "#             last_period = current_length\n",
    "        \n",
    "#         if current_length == max_words:\n",
    "#             if last_period > -1:\n",
    "#                 chunk = remaining_words[:last_period]\n",
    "#                 chunks.append(\" \".join(chunk))\n",
    "#                 remaining_words = remaining_words[last_period:]             \n",
    "#                 current_length = current_length - last_period\n",
    "#                 split_sum += last_period\n",
    "#             else:\n",
    "#                 # If no period exists, just split it at max_words\n",
    "#                 chunk = remaining_words[:current_length]\n",
    "#                 chunks.append(\" \".join(chunk))\n",
    "#                 remaining_words = remaining_words[current_length:]\n",
    "#                 current_length = 0\n",
    "#                 split_sum += current_length\n",
    "#             last_period = -1\n",
    "\n",
    "#     if remaining_words:\n",
    "#         chunks.append(\" \".join(remaining_words))\n",
    "    \n",
    "#     return chunks\n",
    "\n",
    "# passages = wiki_sections[['section_Aid', 'title', 'section_title', 'section_index', 'section_text']]\n",
    "# passages = passages.with_columns(\n",
    "#     pl.col(\"section_text\")\n",
    "#       .map_elements(split_text_into_chunks)\\\n",
    "#       .cast(pl.List(pl.Utf8)).alias('passage_text')\\\n",
    "# )\n",
    "# passages = passages.drop('section_text')\n",
    "# passages = passages.explode('passage_text')\n",
    "passages.filter(passages.drop('section_id').is_duplicated()).sort(['title', 'section_title', 'section_index', 'passage_text'])"
   ]
  },
  {
   "cell_type": "markdown",
   "id": "1802e4d8-6515-4589-a6b7-06fd52e9baaf",
   "metadata": {},
   "source": [
    "## Using ColBERT to find Wiki Section"
   ]
  },
  {
   "cell_type": "code",
   "execution_count": 35,
   "id": "db6f01a8-acbc-42b1-b7f6-f8f0c0d68046",
   "metadata": {
    "tags": []
   },
   "outputs": [
    {
     "name": "stdout",
     "output_type": "stream",
     "text": [
      "[Sep 22, 16:59:46] #> Loading collection...\n",
      "0M 1M 2M \n"
     ]
    }
   ],
   "source": [
    "checkpoint = './checkpoints/colbertv2.0'\n",
    "indexer_name = f\"colbert_wiki_indexer\"\n",
    "\n",
    "passages[['passage_id', 'titled_passage']].write_csv(str(passages_file) + '.tsv', separator='\\t', has_header=False)\n",
    "c_collection = Collection(str(passages_file) + '.tsv')\n",
    "f'Loaded {len(c_collection):,} passages'\n",
    "\n",
    "os.environ['COLBERT_LOAD_TORCH_EXTENSION_VERBOSE'] = 'True'\n",
    "\n",
    "config = ColBERTConfig(\n",
    "    doc_maxlen=doc_maxlen,\n",
    "    query_maxlen=query_maxlen, \n",
    "    nbits=nbits\n",
    ")"
   ]
  },
  {
   "cell_type": "code",
   "execution_count": 36,
   "id": "9b14b8e2-8820-4591-8436-be1a5694e432",
   "metadata": {
    "tags": []
   },
   "outputs": [
    {
     "name": "stdout",
     "output_type": "stream",
     "text": [
      "\n",
      "\n",
      "[Sep 22, 16:59:48] #> Note: Output directory data/colbert_max_words_100_nbits_2-v4/colbert_wiki_indexer already exists\n",
      "\n",
      "\n",
      "[Sep 22, 16:59:48] #> Will delete 166 files already at data/colbert_max_words_100_nbits_2-v4/colbert_wiki_indexer in 20 seconds...\n",
      "#> Starting...\n",
      "nranks = 1 \t num_gpus = 1 \t device=0\n",
      "{\n",
      "    \"query_token_id\": \"[unused0]\",\n",
      "    \"doc_token_id\": \"[unused1]\",\n",
      "    \"query_token\": \"[Q]\",\n",
      "    \"doc_token\": \"[D]\",\n",
      "    \"ncells\": null,\n",
      "    \"centroid_score_threshold\": null,\n",
      "    \"ndocs\": null,\n",
      "    \"index_path\": null,\n",
      "    \"nbits\": 2,\n",
      "    \"kmeans_niters\": 20,\n",
      "    \"resume\": false,\n",
      "    \"similarity\": \"cosine\",\n",
      "    \"bsize\": 64,\n",
      "    \"accumsteps\": 1,\n",
      "    \"lr\": 1e-5,\n",
      "    \"maxsteps\": 400000,\n",
      "    \"save_every\": null,\n",
      "    \"warmup\": 20000,\n",
      "    \"warmup_bert\": null,\n",
      "    \"relu\": false,\n",
      "    \"nway\": 64,\n",
      "    \"use_ib_negatives\": true,\n",
      "    \"reranker\": false,\n",
      "    \"distillation_alpha\": 1.0,\n",
      "    \"ignore_scores\": false,\n",
      "    \"model_name\": null,\n",
      "    \"query_maxlen\": 150,\n",
      "    \"attend_to_mask_tokens\": false,\n",
      "    \"interaction\": \"colbert\",\n",
      "    \"dim\": 128,\n",
      "    \"doc_maxlen\": 150,\n",
      "    \"mask_punctuation\": true,\n",
      "    \"checkpoint\": \".\\/checkpoints\\/colbertv2.0\",\n",
      "    \"triples\": \"\\/future\\/u\\/okhattab\\/root\\/unit\\/experiments\\/2021.10\\/downstream.distillation.round2.2_score\\/round2.nway6.cosine.ib\\/examples.64.json\",\n",
      "    \"collection\": \"data\\/colbert_max_words_100_nbits_2-v4\\/wiki_passages.tsv\",\n",
      "    \"queries\": \"\\/future\\/u\\/okhattab\\/data\\/MSMARCO\\/queries.train.tsv\",\n",
      "    \"index_name\": \"colbert_wiki_indexer\",\n",
      "    \"overwrite\": false,\n",
      "    \"root\": \"\\/home\\/daniel\\/code\\/kaggle-science-exam\\/experiments\",\n",
      "    \"experiment\": \"default\",\n",
      "    \"index_root\": \"data\\/colbert_max_words_100_nbits_2-v4\",\n",
      "    \"name\": \"2023-09\\/22\\/16.19.48\",\n",
      "    \"rank\": 0,\n",
      "    \"nranks\": 1,\n",
      "    \"amp\": true,\n",
      "    \"gpus\": 1\n",
      "}\n",
      "[Sep 22, 17:00:14] [0] \t\t # of sampled PIDs = 277131 \t sampled_pids[:3] = [1747430, 42652, 1252586]\n",
      "[Sep 22, 17:00:14] [0] \t\t #> Encoding 277131 passages..\n",
      "[Sep 22, 17:02:47] [0] \t\t avg_doclen_est = 100.79752349853516 \t len(local_sample) = 277,131\n",
      "[Sep 22, 17:02:51] [0] \t\t Creaing 131,072 partitions.\n",
      "[Sep 22, 17:02:51] [0] \t\t *Estimated* 251,997,437 embeddings.\n",
      "[Sep 22, 17:02:51] [0] \t\t #> Saving the indexing plan to data/colbert_max_words_100_nbits_2-v4/colbert_wiki_indexer/plan.json ..\n",
      "Clustering 27884119 points in 128D to 131072 clusters, redo 1 times, 20 iterations\n",
      "  Preprocessing in 1.15 s\n",
      "  Iteration 19 (1020.30 s, search 997.81 s): objective=5.97472e+06 imbalance=1.254 nsplit=0       \n",
      "[Sep 22, 17:19:58] Loading decompress_residuals_cpp extension (set COLBERT_LOAD_TORCH_EXTENSION_VERBOSE=True for more info)...\n",
      "ninja: no work to do.\n",
      "[Sep 22, 17:19:58] Loading packbits_cpp extension (set COLBERT_LOAD_TORCH_EXTENSION_VERBOSE=True for more info)...\n",
      "ninja: no work to do.\n",
      "[0.033, 0.036, 0.035, 0.031, 0.033, 0.035, 0.036, 0.032, 0.033, 0.033, 0.033, 0.033, 0.034, 0.034, 0.032, 0.036, 0.03, 0.032, 0.033, 0.032, 0.034, 0.034, 0.034, 0.034, 0.033, 0.033, 0.034, 0.033, 0.033, 0.035, 0.034, 0.035, 0.035, 0.033, 0.033, 0.031, 0.036, 0.033, 0.033, 0.038, 0.035, 0.033, 0.034, 0.036, 0.033, 0.033, 0.032, 0.037, 0.034, 0.032, 0.033, 0.033, 0.034, 0.034, 0.033, 0.033, 0.039, 0.034, 0.039, 0.033, 0.033, 0.035, 0.034, 0.036, 0.035, 0.035, 0.036, 0.035, 0.033, 0.032, 0.036, 0.032, 0.033, 0.035, 0.033, 0.036, 0.036, 0.035, 0.035, 0.035, 0.035, 0.034, 0.035, 0.035, 0.032, 0.034, 0.033, 0.035, 0.032, 0.037, 0.033, 0.036, 0.033, 0.035, 0.034, 0.034, 0.038, 0.033, 0.033, 0.034, 0.034, 0.036, 0.036, 0.033, 0.037, 0.032, 0.034, 0.033, 0.035, 0.034, 0.035, 0.035, 0.036, 0.032, 0.035, 0.033, 0.035, 0.035, 0.034, 0.035, 0.033, 0.033, 0.035, 0.035, 0.032, 0.037, 0.034, 0.033]\n",
      "[Sep 22, 17:19:58] #> Got bucket_cutoffs_quantiles = tensor([0.2500, 0.5000, 0.7500], device='cuda:0') and bucket_weights_quantiles = tensor([0.1250, 0.3750, 0.6250, 0.8750], device='cuda:0')\n",
      "[Sep 22, 17:19:58] #> Got bucket_cutoffs = tensor([-0.0271,  0.0001,  0.0275], device='cuda:0') and bucket_weights = tensor([-0.0481, -0.0125,  0.0128,  0.0486], device='cuda:0')\n",
      "[Sep 22, 17:19:58] avg_residual = 0.034088134765625\n"
     ]
    },
    {
     "name": "stderr",
     "output_type": "stream",
     "text": [
      "Using /home/daniel/.cache/torch_extensions/py310_cu118 as PyTorch extensions root...\n",
      "Detected CUDA files, patching ldflags\n",
      "Emitting ninja build file /home/daniel/.cache/torch_extensions/py310_cu118/decompress_residuals_cpp/build.ninja...\n",
      "Building extension module decompress_residuals_cpp...\n",
      "Allowing ninja to set a default number of workers... (overridable by setting the environment variable MAX_JOBS=N)\n",
      "Loading extension module decompress_residuals_cpp...\n",
      "Using /home/daniel/.cache/torch_extensions/py310_cu118 as PyTorch extensions root...\n",
      "Detected CUDA files, patching ldflags\n",
      "Emitting ninja build file /home/daniel/.cache/torch_extensions/py310_cu118/packbits_cpp/build.ninja...\n",
      "Building extension module packbits_cpp...\n",
      "Allowing ninja to set a default number of workers... (overridable by setting the environment variable MAX_JOBS=N)\n",
      "Loading extension module packbits_cpp...\n",
      "0it [00:00, ?it/s]"
     ]
    },
    {
     "name": "stdout",
     "output_type": "stream",
     "text": [
      "[Sep 22, 17:19:58] [0] \t\t #> Encoding 25000 passages..\n",
      "[Sep 22, 17:20:12] [0] \t\t #> Saving chunk 0: \t 25,000 passages and 2,536,020 embeddings. From #0 onward.\n"
     ]
    },
    {
     "name": "stderr",
     "output_type": "stream",
     "text": [
      "1it [00:15, 15.36s/it]"
     ]
    },
    {
     "name": "stdout",
     "output_type": "stream",
     "text": [
      "[Sep 22, 17:20:14] [0] \t\t #> Encoding 25000 passages..\n",
      "[Sep 22, 17:20:27] [0] \t\t #> Saving chunk 1: \t 25,000 passages and 2,535,432 embeddings. From #25,000 onward.\n"
     ]
    },
    {
     "name": "stderr",
     "output_type": "stream",
     "text": [
      "2it [00:30, 15.32s/it]"
     ]
    },
    {
     "name": "stdout",
     "output_type": "stream",
     "text": [
      "[Sep 22, 17:20:29] [0] \t\t #> Encoding 25000 passages..\n",
      "[Sep 22, 17:20:43] [0] \t\t #> Saving chunk 2: \t 25,000 passages and 2,479,842 embeddings. From #50,000 onward.\n"
     ]
    },
    {
     "name": "stderr",
     "output_type": "stream",
     "text": [
      "3it [00:46, 15.35s/it]"
     ]
    },
    {
     "name": "stdout",
     "output_type": "stream",
     "text": [
      "[Sep 22, 17:20:45] [0] \t\t #> Encoding 25000 passages..\n",
      "[Sep 22, 17:20:58] [0] \t\t #> Saving chunk 3: \t 25,000 passages and 2,501,749 embeddings. From #75,000 onward.\n"
     ]
    },
    {
     "name": "stderr",
     "output_type": "stream",
     "text": [
      "4it [01:01, 15.32s/it]"
     ]
    },
    {
     "name": "stdout",
     "output_type": "stream",
     "text": [
      "[Sep 22, 17:21:00] [0] \t\t #> Encoding 25000 passages..\n",
      "[Sep 22, 17:21:14] [0] \t\t #> Saving chunk 4: \t 25,000 passages and 2,535,548 embeddings. From #100,000 onward.\n"
     ]
    },
    {
     "name": "stderr",
     "output_type": "stream",
     "text": [
      "5it [01:16, 15.33s/it]"
     ]
    },
    {
     "name": "stdout",
     "output_type": "stream",
     "text": [
      "[Sep 22, 17:21:15] [0] \t\t #> Encoding 25000 passages..\n",
      "[Sep 22, 17:21:29] [0] \t\t #> Saving chunk 5: \t 25,000 passages and 2,520,289 embeddings. From #125,000 onward.\n"
     ]
    },
    {
     "name": "stderr",
     "output_type": "stream",
     "text": [
      "6it [01:31, 15.33s/it]"
     ]
    },
    {
     "name": "stdout",
     "output_type": "stream",
     "text": [
      "[Sep 22, 17:21:30] [0] \t\t #> Encoding 25000 passages..\n",
      "[Sep 22, 17:21:44] [0] \t\t #> Saving chunk 6: \t 25,000 passages and 2,531,034 embeddings. From #150,000 onward.\n"
     ]
    },
    {
     "name": "stderr",
     "output_type": "stream",
     "text": [
      "7it [01:47, 15.36s/it]"
     ]
    },
    {
     "name": "stdout",
     "output_type": "stream",
     "text": [
      "[Sep 22, 17:21:46] [0] \t\t #> Encoding 25000 passages..\n",
      "[Sep 22, 17:22:00] [0] \t\t #> Saving chunk 7: \t 25,000 passages and 2,527,664 embeddings. From #175,000 onward.\n"
     ]
    },
    {
     "name": "stderr",
     "output_type": "stream",
     "text": [
      "8it [02:02, 15.34s/it]"
     ]
    },
    {
     "name": "stdout",
     "output_type": "stream",
     "text": [
      "[Sep 22, 17:22:01] [0] \t\t #> Encoding 25000 passages..\n",
      "[Sep 22, 17:22:15] [0] \t\t #> Saving chunk 8: \t 25,000 passages and 2,505,959 embeddings. From #200,000 onward.\n"
     ]
    },
    {
     "name": "stderr",
     "output_type": "stream",
     "text": [
      "9it [02:17, 15.31s/it]"
     ]
    },
    {
     "name": "stdout",
     "output_type": "stream",
     "text": [
      "[Sep 22, 17:22:16] [0] \t\t #> Encoding 25000 passages..\n",
      "[Sep 22, 17:22:30] [0] \t\t #> Saving chunk 9: \t 25,000 passages and 2,493,081 embeddings. From #225,000 onward.\n"
     ]
    },
    {
     "name": "stderr",
     "output_type": "stream",
     "text": [
      "10it [02:33, 15.30s/it]"
     ]
    },
    {
     "name": "stdout",
     "output_type": "stream",
     "text": [
      "[Sep 22, 17:22:32] [0] \t\t #> Encoding 25000 passages..\n",
      "[Sep 22, 17:22:46] [0] \t\t #> Saving chunk 10: \t 25,000 passages and 2,529,373 embeddings. From #250,000 onward.\n"
     ]
    },
    {
     "name": "stderr",
     "output_type": "stream",
     "text": [
      "11it [02:48, 15.34s/it]"
     ]
    },
    {
     "name": "stdout",
     "output_type": "stream",
     "text": [
      "[Sep 22, 17:22:47] [0] \t\t #> Encoding 25000 passages..\n",
      "[Sep 22, 17:23:01] [0] \t\t #> Saving chunk 11: \t 25,000 passages and 2,522,431 embeddings. From #275,000 onward.\n"
     ]
    },
    {
     "name": "stderr",
     "output_type": "stream",
     "text": [
      "12it [03:03, 15.33s/it]"
     ]
    },
    {
     "name": "stdout",
     "output_type": "stream",
     "text": [
      "[Sep 22, 17:23:02] [0] \t\t #> Encoding 25000 passages..\n",
      "[Sep 22, 17:23:16] [0] \t\t #> Saving chunk 12: \t 25,000 passages and 2,546,846 embeddings. From #300,000 onward.\n"
     ]
    },
    {
     "name": "stderr",
     "output_type": "stream",
     "text": [
      "13it [03:19, 15.32s/it]"
     ]
    },
    {
     "name": "stdout",
     "output_type": "stream",
     "text": [
      "[Sep 22, 17:23:18] [0] \t\t #> Encoding 25000 passages..\n",
      "[Sep 22, 17:23:31] [0] \t\t #> Saving chunk 13: \t 25,000 passages and 2,514,563 embeddings. From #325,000 onward.\n"
     ]
    },
    {
     "name": "stderr",
     "output_type": "stream",
     "text": [
      "14it [03:34, 15.31s/it]"
     ]
    },
    {
     "name": "stdout",
     "output_type": "stream",
     "text": [
      "[Sep 22, 17:23:33] [0] \t\t #> Encoding 25000 passages..\n",
      "[Sep 22, 17:23:47] [0] \t\t #> Saving chunk 14: \t 25,000 passages and 2,537,450 embeddings. From #350,000 onward.\n"
     ]
    },
    {
     "name": "stderr",
     "output_type": "stream",
     "text": [
      "15it [03:49, 15.34s/it]"
     ]
    },
    {
     "name": "stdout",
     "output_type": "stream",
     "text": [
      "[Sep 22, 17:23:48] [0] \t\t #> Encoding 25000 passages..\n",
      "[Sep 22, 17:24:02] [0] \t\t #> Saving chunk 15: \t 25,000 passages and 2,475,265 embeddings. From #375,000 onward.\n"
     ]
    },
    {
     "name": "stderr",
     "output_type": "stream",
     "text": [
      "16it [04:05, 15.32s/it]"
     ]
    },
    {
     "name": "stdout",
     "output_type": "stream",
     "text": [
      "[Sep 22, 17:24:04] [0] \t\t #> Encoding 25000 passages..\n",
      "[Sep 22, 17:24:17] [0] \t\t #> Saving chunk 16: \t 25,000 passages and 2,527,323 embeddings. From #400,000 onward.\n"
     ]
    },
    {
     "name": "stderr",
     "output_type": "stream",
     "text": [
      "17it [04:20, 15.32s/it]"
     ]
    },
    {
     "name": "stdout",
     "output_type": "stream",
     "text": [
      "[Sep 22, 17:24:19] [0] \t\t #> Encoding 25000 passages..\n",
      "[Sep 22, 17:24:33] [0] \t\t #> Saving chunk 17: \t 25,000 passages and 2,519,629 embeddings. From #425,000 onward.\n"
     ]
    },
    {
     "name": "stderr",
     "output_type": "stream",
     "text": [
      "18it [04:35, 15.33s/it]"
     ]
    },
    {
     "name": "stdout",
     "output_type": "stream",
     "text": [
      "[Sep 22, 17:24:34] [0] \t\t #> Encoding 25000 passages..\n",
      "[Sep 22, 17:24:48] [0] \t\t #> Saving chunk 18: \t 25,000 passages and 2,538,199 embeddings. From #450,000 onward.\n"
     ]
    },
    {
     "name": "stderr",
     "output_type": "stream",
     "text": [
      "19it [04:51, 15.32s/it]"
     ]
    },
    {
     "name": "stdout",
     "output_type": "stream",
     "text": [
      "[Sep 22, 17:24:50] [0] \t\t #> Encoding 25000 passages..\n",
      "[Sep 22, 17:25:03] [0] \t\t #> Saving chunk 19: \t 25,000 passages and 2,523,416 embeddings. From #475,000 onward.\n"
     ]
    },
    {
     "name": "stderr",
     "output_type": "stream",
     "text": [
      "20it [05:06, 15.35s/it]"
     ]
    },
    {
     "name": "stdout",
     "output_type": "stream",
     "text": [
      "[Sep 22, 17:25:05] [0] \t\t #> Encoding 25000 passages..\n",
      "[Sep 22, 17:25:19] [0] \t\t #> Saving chunk 20: \t 25,000 passages and 2,541,488 embeddings. From #500,000 onward.\n"
     ]
    },
    {
     "name": "stderr",
     "output_type": "stream",
     "text": [
      "21it [05:21, 15.34s/it]"
     ]
    },
    {
     "name": "stdout",
     "output_type": "stream",
     "text": [
      "[Sep 22, 17:25:20] [0] \t\t #> Encoding 25000 passages..\n",
      "[Sep 22, 17:25:34] [0] \t\t #> Saving chunk 21: \t 25,000 passages and 2,459,913 embeddings. From #525,000 onward.\n"
     ]
    },
    {
     "name": "stderr",
     "output_type": "stream",
     "text": [
      "22it [05:37, 15.31s/it]"
     ]
    },
    {
     "name": "stdout",
     "output_type": "stream",
     "text": [
      "[Sep 22, 17:25:36] [0] \t\t #> Encoding 25000 passages..\n",
      "[Sep 22, 17:25:49] [0] \t\t #> Saving chunk 22: \t 25,000 passages and 2,511,940 embeddings. From #550,000 onward.\n"
     ]
    },
    {
     "name": "stderr",
     "output_type": "stream",
     "text": [
      "23it [05:52, 15.30s/it]"
     ]
    },
    {
     "name": "stdout",
     "output_type": "stream",
     "text": [
      "[Sep 22, 17:25:51] [0] \t\t #> Encoding 25000 passages..\n",
      "[Sep 22, 17:26:05] [0] \t\t #> Saving chunk 23: \t 25,000 passages and 2,524,180 embeddings. From #575,000 onward.\n"
     ]
    },
    {
     "name": "stderr",
     "output_type": "stream",
     "text": [
      "24it [06:07, 15.34s/it]"
     ]
    },
    {
     "name": "stdout",
     "output_type": "stream",
     "text": [
      "[Sep 22, 17:26:06] [0] \t\t #> Encoding 25000 passages..\n",
      "[Sep 22, 17:26:20] [0] \t\t #> Saving chunk 24: \t 25,000 passages and 2,528,093 embeddings. From #600,000 onward.\n"
     ]
    },
    {
     "name": "stderr",
     "output_type": "stream",
     "text": [
      "25it [06:23, 15.34s/it]"
     ]
    },
    {
     "name": "stdout",
     "output_type": "stream",
     "text": [
      "[Sep 22, 17:26:22] [0] \t\t #> Encoding 25000 passages..\n",
      "[Sep 22, 17:26:35] [0] \t\t #> Saving chunk 25: \t 25,000 passages and 2,533,343 embeddings. From #625,000 onward.\n"
     ]
    },
    {
     "name": "stderr",
     "output_type": "stream",
     "text": [
      "26it [06:38, 15.34s/it]"
     ]
    },
    {
     "name": "stdout",
     "output_type": "stream",
     "text": [
      "[Sep 22, 17:26:37] [0] \t\t #> Encoding 25000 passages..\n",
      "[Sep 22, 17:26:51] [0] \t\t #> Saving chunk 26: \t 25,000 passages and 2,549,127 embeddings. From #650,000 onward.\n"
     ]
    },
    {
     "name": "stderr",
     "output_type": "stream",
     "text": [
      "27it [06:53, 15.35s/it]"
     ]
    },
    {
     "name": "stdout",
     "output_type": "stream",
     "text": [
      "[Sep 22, 17:26:52] [0] \t\t #> Encoding 25000 passages..\n",
      "[Sep 22, 17:27:06] [0] \t\t #> Saving chunk 27: \t 25,000 passages and 2,481,162 embeddings. From #675,000 onward.\n"
     ]
    },
    {
     "name": "stderr",
     "output_type": "stream",
     "text": [
      "28it [07:09, 15.36s/it]"
     ]
    },
    {
     "name": "stdout",
     "output_type": "stream",
     "text": [
      "[Sep 22, 17:27:08] [0] \t\t #> Encoding 25000 passages..\n",
      "[Sep 22, 17:27:21] [0] \t\t #> Saving chunk 28: \t 25,000 passages and 2,510,530 embeddings. From #700,000 onward.\n"
     ]
    },
    {
     "name": "stderr",
     "output_type": "stream",
     "text": [
      "29it [07:24, 15.34s/it]"
     ]
    },
    {
     "name": "stdout",
     "output_type": "stream",
     "text": [
      "[Sep 22, 17:27:23] [0] \t\t #> Encoding 25000 passages..\n",
      "[Sep 22, 17:27:37] [0] \t\t #> Saving chunk 29: \t 25,000 passages and 2,527,087 embeddings. From #725,000 onward.\n"
     ]
    },
    {
     "name": "stderr",
     "output_type": "stream",
     "text": [
      "30it [07:39, 15.33s/it]"
     ]
    },
    {
     "name": "stdout",
     "output_type": "stream",
     "text": [
      "[Sep 22, 17:27:38] [0] \t\t #> Encoding 25000 passages..\n",
      "[Sep 22, 17:27:52] [0] \t\t #> Saving chunk 30: \t 25,000 passages and 2,519,382 embeddings. From #750,000 onward.\n"
     ]
    },
    {
     "name": "stderr",
     "output_type": "stream",
     "text": [
      "31it [07:55, 15.32s/it]"
     ]
    },
    {
     "name": "stdout",
     "output_type": "stream",
     "text": [
      "[Sep 22, 17:27:54] [0] \t\t #> Encoding 25000 passages..\n",
      "[Sep 22, 17:28:08] [0] \t\t #> Saving chunk 31: \t 25,000 passages and 2,527,750 embeddings. From #775,000 onward.\n"
     ]
    },
    {
     "name": "stderr",
     "output_type": "stream",
     "text": [
      "32it [08:10, 15.36s/it]"
     ]
    },
    {
     "name": "stdout",
     "output_type": "stream",
     "text": [
      "[Sep 22, 17:28:09] [0] \t\t #> Encoding 25000 passages..\n",
      "[Sep 22, 17:28:23] [0] \t\t #> Saving chunk 32: \t 25,000 passages and 2,523,626 embeddings. From #800,000 onward.\n"
     ]
    },
    {
     "name": "stderr",
     "output_type": "stream",
     "text": [
      "33it [08:25, 15.34s/it]"
     ]
    },
    {
     "name": "stdout",
     "output_type": "stream",
     "text": [
      "[Sep 22, 17:28:24] [0] \t\t #> Encoding 25000 passages..\n",
      "[Sep 22, 17:28:38] [0] \t\t #> Saving chunk 33: \t 25,000 passages and 2,520,239 embeddings. From #825,000 onward.\n"
     ]
    },
    {
     "name": "stderr",
     "output_type": "stream",
     "text": [
      "34it [08:41, 15.32s/it]"
     ]
    },
    {
     "name": "stdout",
     "output_type": "stream",
     "text": [
      "[Sep 22, 17:28:40] [0] \t\t #> Encoding 25000 passages..\n",
      "[Sep 22, 17:28:53] [0] \t\t #> Saving chunk 34: \t 25,000 passages and 2,493,626 embeddings. From #850,000 onward.\n"
     ]
    },
    {
     "name": "stderr",
     "output_type": "stream",
     "text": [
      "35it [08:56, 15.31s/it]"
     ]
    },
    {
     "name": "stdout",
     "output_type": "stream",
     "text": [
      "[Sep 22, 17:28:55] [0] \t\t #> Encoding 25000 passages..\n",
      "[Sep 22, 17:29:09] [0] \t\t #> Saving chunk 35: \t 25,000 passages and 2,541,877 embeddings. From #875,000 onward.\n"
     ]
    },
    {
     "name": "stderr",
     "output_type": "stream",
     "text": [
      "36it [09:12, 15.36s/it]"
     ]
    },
    {
     "name": "stdout",
     "output_type": "stream",
     "text": [
      "[Sep 22, 17:29:11] [0] \t\t #> Encoding 25000 passages..\n",
      "[Sep 22, 17:29:24] [0] \t\t #> Saving chunk 36: \t 25,000 passages and 2,525,852 embeddings. From #900,000 onward.\n"
     ]
    },
    {
     "name": "stderr",
     "output_type": "stream",
     "text": [
      "37it [09:27, 15.34s/it]"
     ]
    },
    {
     "name": "stdout",
     "output_type": "stream",
     "text": [
      "[Sep 22, 17:29:26] [0] \t\t #> Encoding 25000 passages..\n",
      "[Sep 22, 17:29:39] [0] \t\t #> Saving chunk 37: \t 25,000 passages and 2,516,467 embeddings. From #925,000 onward.\n"
     ]
    },
    {
     "name": "stderr",
     "output_type": "stream",
     "text": [
      "38it [09:42, 15.33s/it]"
     ]
    },
    {
     "name": "stdout",
     "output_type": "stream",
     "text": [
      "[Sep 22, 17:29:41] [0] \t\t #> Encoding 25000 passages..\n",
      "[Sep 22, 17:29:55] [0] \t\t #> Saving chunk 38: \t 25,000 passages and 2,520,130 embeddings. From #950,000 onward.\n"
     ]
    },
    {
     "name": "stderr",
     "output_type": "stream",
     "text": [
      "39it [09:57, 15.32s/it]"
     ]
    },
    {
     "name": "stdout",
     "output_type": "stream",
     "text": [
      "[Sep 22, 17:29:56] [0] \t\t #> Encoding 25000 passages..\n",
      "[Sep 22, 17:30:10] [0] \t\t #> Saving chunk 39: \t 25,000 passages and 2,539,334 embeddings. From #975,000 onward.\n"
     ]
    },
    {
     "name": "stderr",
     "output_type": "stream",
     "text": [
      "40it [10:13, 15.37s/it]"
     ]
    },
    {
     "name": "stdout",
     "output_type": "stream",
     "text": [
      "[Sep 22, 17:30:12] [0] \t\t #> Encoding 25000 passages..\n",
      "[Sep 22, 17:30:26] [0] \t\t #> Saving chunk 40: \t 25,000 passages and 2,467,877 embeddings. From #1,000,000 onward.\n"
     ]
    },
    {
     "name": "stderr",
     "output_type": "stream",
     "text": [
      "41it [10:28, 15.33s/it]"
     ]
    },
    {
     "name": "stdout",
     "output_type": "stream",
     "text": [
      "[Sep 22, 17:30:27] [0] \t\t #> Encoding 25000 passages..\n",
      "[Sep 22, 17:30:41] [0] \t\t #> Saving chunk 41: \t 25,000 passages and 2,527,990 embeddings. From #1,025,000 onward.\n"
     ]
    },
    {
     "name": "stderr",
     "output_type": "stream",
     "text": [
      "42it [10:43, 15.33s/it]"
     ]
    },
    {
     "name": "stdout",
     "output_type": "stream",
     "text": [
      "[Sep 22, 17:30:42] [0] \t\t #> Encoding 25000 passages..\n",
      "[Sep 22, 17:30:56] [0] \t\t #> Saving chunk 42: \t 25,000 passages and 2,537,450 embeddings. From #1,050,000 onward.\n"
     ]
    },
    {
     "name": "stderr",
     "output_type": "stream",
     "text": [
      "43it [10:59, 15.34s/it]"
     ]
    },
    {
     "name": "stdout",
     "output_type": "stream",
     "text": [
      "[Sep 22, 17:30:58] [0] \t\t #> Encoding 25000 passages..\n",
      "[Sep 22, 17:31:12] [0] \t\t #> Saving chunk 43: \t 25,000 passages and 2,525,111 embeddings. From #1,075,000 onward.\n"
     ]
    },
    {
     "name": "stderr",
     "output_type": "stream",
     "text": [
      "44it [11:14, 15.38s/it]"
     ]
    },
    {
     "name": "stdout",
     "output_type": "stream",
     "text": [
      "[Sep 22, 17:31:13] [0] \t\t #> Encoding 25000 passages..\n",
      "[Sep 22, 17:31:27] [0] \t\t #> Saving chunk 44: \t 25,000 passages and 2,522,197 embeddings. From #1,100,000 onward.\n"
     ]
    },
    {
     "name": "stderr",
     "output_type": "stream",
     "text": [
      "45it [11:30, 15.36s/it]"
     ]
    },
    {
     "name": "stdout",
     "output_type": "stream",
     "text": [
      "[Sep 22, 17:31:29] [0] \t\t #> Encoding 25000 passages..\n",
      "[Sep 22, 17:31:42] [0] \t\t #> Saving chunk 45: \t 25,000 passages and 2,559,364 embeddings. From #1,125,000 onward.\n"
     ]
    },
    {
     "name": "stderr",
     "output_type": "stream",
     "text": [
      "46it [11:45, 15.35s/it]"
     ]
    },
    {
     "name": "stdout",
     "output_type": "stream",
     "text": [
      "[Sep 22, 17:31:44] [0] \t\t #> Encoding 25000 passages..\n",
      "[Sep 22, 17:31:58] [0] \t\t #> Saving chunk 46: \t 25,000 passages and 2,455,249 embeddings. From #1,150,000 onward.\n"
     ]
    },
    {
     "name": "stderr",
     "output_type": "stream",
     "text": [
      "47it [12:00, 15.31s/it]"
     ]
    },
    {
     "name": "stdout",
     "output_type": "stream",
     "text": [
      "[Sep 22, 17:31:59] [0] \t\t #> Encoding 25000 passages..\n",
      "[Sep 22, 17:32:13] [0] \t\t #> Saving chunk 47: \t 25,000 passages and 2,526,136 embeddings. From #1,175,000 onward.\n"
     ]
    },
    {
     "name": "stderr",
     "output_type": "stream",
     "text": [
      "48it [12:15, 15.31s/it]"
     ]
    },
    {
     "name": "stdout",
     "output_type": "stream",
     "text": [
      "[Sep 22, 17:32:14] [0] \t\t #> Encoding 25000 passages..\n",
      "[Sep 22, 17:32:28] [0] \t\t #> Saving chunk 48: \t 25,000 passages and 2,523,385 embeddings. From #1,200,000 onward.\n"
     ]
    },
    {
     "name": "stderr",
     "output_type": "stream",
     "text": [
      "49it [12:31, 15.35s/it]"
     ]
    },
    {
     "name": "stdout",
     "output_type": "stream",
     "text": [
      "[Sep 22, 17:32:30] [0] \t\t #> Encoding 25000 passages..\n",
      "[Sep 22, 17:32:44] [0] \t\t #> Saving chunk 49: \t 25,000 passages and 2,546,639 embeddings. From #1,225,000 onward.\n"
     ]
    },
    {
     "name": "stderr",
     "output_type": "stream",
     "text": [
      "50it [12:46, 15.35s/it]"
     ]
    },
    {
     "name": "stdout",
     "output_type": "stream",
     "text": [
      "[Sep 22, 17:32:45] [0] \t\t #> Encoding 25000 passages..\n",
      "[Sep 22, 17:32:59] [0] \t\t #> Saving chunk 50: \t 25,000 passages and 2,530,664 embeddings. From #1,250,000 onward.\n"
     ]
    },
    {
     "name": "stderr",
     "output_type": "stream",
     "text": [
      "51it [13:02, 15.34s/it]"
     ]
    },
    {
     "name": "stdout",
     "output_type": "stream",
     "text": [
      "[Sep 22, 17:33:01] [0] \t\t #> Encoding 25000 passages..\n",
      "[Sep 22, 17:33:14] [0] \t\t #> Saving chunk 51: \t 25,000 passages and 2,543,427 embeddings. From #1,275,000 onward.\n"
     ]
    },
    {
     "name": "stderr",
     "output_type": "stream",
     "text": [
      "52it [13:17, 15.33s/it]"
     ]
    },
    {
     "name": "stdout",
     "output_type": "stream",
     "text": [
      "[Sep 22, 17:33:16] [0] \t\t #> Encoding 25000 passages..\n",
      "[Sep 22, 17:33:30] [0] \t\t #> Saving chunk 52: \t 25,000 passages and 2,467,721 embeddings. From #1,300,000 onward.\n"
     ]
    },
    {
     "name": "stderr",
     "output_type": "stream",
     "text": [
      "53it [13:32, 15.35s/it]"
     ]
    },
    {
     "name": "stdout",
     "output_type": "stream",
     "text": [
      "[Sep 22, 17:33:31] [0] \t\t #> Encoding 25000 passages..\n",
      "[Sep 22, 17:33:45] [0] \t\t #> Saving chunk 53: \t 25,000 passages and 2,508,308 embeddings. From #1,325,000 onward.\n"
     ]
    },
    {
     "name": "stderr",
     "output_type": "stream",
     "text": [
      "54it [13:48, 15.33s/it]"
     ]
    },
    {
     "name": "stdout",
     "output_type": "stream",
     "text": [
      "[Sep 22, 17:33:47] [0] \t\t #> Encoding 25000 passages..\n",
      "[Sep 22, 17:34:00] [0] \t\t #> Saving chunk 54: \t 25,000 passages and 2,549,960 embeddings. From #1,350,000 onward.\n"
     ]
    },
    {
     "name": "stderr",
     "output_type": "stream",
     "text": [
      "55it [14:03, 15.34s/it]"
     ]
    },
    {
     "name": "stdout",
     "output_type": "stream",
     "text": [
      "[Sep 22, 17:34:02] [0] \t\t #> Encoding 25000 passages..\n",
      "[Sep 22, 17:34:16] [0] \t\t #> Saving chunk 55: \t 25,000 passages and 2,518,968 embeddings. From #1,375,000 onward.\n"
     ]
    },
    {
     "name": "stderr",
     "output_type": "stream",
     "text": [
      "56it [14:18, 15.33s/it]"
     ]
    },
    {
     "name": "stdout",
     "output_type": "stream",
     "text": [
      "[Sep 22, 17:34:17] [0] \t\t #> Encoding 25000 passages..\n",
      "[Sep 22, 17:34:31] [0] \t\t #> Saving chunk 56: \t 25,000 passages and 2,521,924 embeddings. From #1,400,000 onward.\n"
     ]
    },
    {
     "name": "stderr",
     "output_type": "stream",
     "text": [
      "57it [14:34, 15.36s/it]"
     ]
    },
    {
     "name": "stdout",
     "output_type": "stream",
     "text": [
      "[Sep 22, 17:34:33] [0] \t\t #> Encoding 25000 passages..\n",
      "[Sep 22, 17:34:46] [0] \t\t #> Saving chunk 57: \t 25,000 passages and 2,518,738 embeddings. From #1,425,000 onward.\n"
     ]
    },
    {
     "name": "stderr",
     "output_type": "stream",
     "text": [
      "58it [14:49, 15.34s/it]"
     ]
    },
    {
     "name": "stdout",
     "output_type": "stream",
     "text": [
      "[Sep 22, 17:34:48] [0] \t\t #> Encoding 25000 passages..\n",
      "[Sep 22, 17:35:02] [0] \t\t #> Saving chunk 58: \t 25,000 passages and 2,509,768 embeddings. From #1,450,000 onward.\n"
     ]
    },
    {
     "name": "stderr",
     "output_type": "stream",
     "text": [
      "59it [15:04, 15.32s/it]"
     ]
    },
    {
     "name": "stdout",
     "output_type": "stream",
     "text": [
      "[Sep 22, 17:35:03] [0] \t\t #> Encoding 25000 passages..\n",
      "[Sep 22, 17:35:17] [0] \t\t #> Saving chunk 59: \t 25,000 passages and 2,492,727 embeddings. From #1,475,000 onward.\n"
     ]
    },
    {
     "name": "stderr",
     "output_type": "stream",
     "text": [
      "60it [15:20, 15.31s/it]"
     ]
    },
    {
     "name": "stdout",
     "output_type": "stream",
     "text": [
      "[Sep 22, 17:35:19] [0] \t\t #> Encoding 25000 passages..\n",
      "[Sep 22, 17:35:32] [0] \t\t #> Saving chunk 60: \t 25,000 passages and 2,531,395 embeddings. From #1,500,000 onward.\n"
     ]
    },
    {
     "name": "stderr",
     "output_type": "stream",
     "text": [
      "61it [15:35, 15.37s/it]"
     ]
    },
    {
     "name": "stdout",
     "output_type": "stream",
     "text": [
      "[Sep 22, 17:35:34] [0] \t\t #> Encoding 25000 passages..\n",
      "[Sep 22, 17:35:48] [0] \t\t #> Saving chunk 61: \t 25,000 passages and 2,511,674 embeddings. From #1,525,000 onward.\n"
     ]
    },
    {
     "name": "stderr",
     "output_type": "stream",
     "text": [
      "62it [15:50, 15.35s/it]"
     ]
    },
    {
     "name": "stdout",
     "output_type": "stream",
     "text": [
      "[Sep 22, 17:35:49] [0] \t\t #> Encoding 25000 passages..\n",
      "[Sep 22, 17:36:03] [0] \t\t #> Saving chunk 62: \t 25,000 passages and 2,520,197 embeddings. From #1,550,000 onward.\n"
     ]
    },
    {
     "name": "stderr",
     "output_type": "stream",
     "text": [
      "63it [16:06, 15.34s/it]"
     ]
    },
    {
     "name": "stdout",
     "output_type": "stream",
     "text": [
      "[Sep 22, 17:36:05] [0] \t\t #> Encoding 25000 passages..\n",
      "[Sep 22, 17:36:18] [0] \t\t #> Saving chunk 63: \t 25,000 passages and 2,535,960 embeddings. From #1,575,000 onward.\n"
     ]
    },
    {
     "name": "stderr",
     "output_type": "stream",
     "text": [
      "64it [16:21, 15.33s/it]"
     ]
    },
    {
     "name": "stdout",
     "output_type": "stream",
     "text": [
      "[Sep 22, 17:36:20] [0] \t\t #> Encoding 25000 passages..\n",
      "[Sep 22, 17:36:34] [0] \t\t #> Saving chunk 64: \t 25,000 passages and 2,545,639 embeddings. From #1,600,000 onward.\n"
     ]
    },
    {
     "name": "stderr",
     "output_type": "stream",
     "text": [
      "65it [16:36, 15.37s/it]"
     ]
    },
    {
     "name": "stdout",
     "output_type": "stream",
     "text": [
      "[Sep 22, 17:36:35] [0] \t\t #> Encoding 25000 passages..\n",
      "[Sep 22, 17:36:49] [0] \t\t #> Saving chunk 65: \t 25,000 passages and 2,481,096 embeddings. From #1,625,000 onward.\n"
     ]
    },
    {
     "name": "stderr",
     "output_type": "stream",
     "text": [
      "66it [16:52, 15.33s/it]"
     ]
    },
    {
     "name": "stdout",
     "output_type": "stream",
     "text": [
      "[Sep 22, 17:36:51] [0] \t\t #> Encoding 25000 passages..\n",
      "[Sep 22, 17:37:04] [0] \t\t #> Saving chunk 66: \t 25,000 passages and 2,524,302 embeddings. From #1,650,000 onward.\n"
     ]
    },
    {
     "name": "stderr",
     "output_type": "stream",
     "text": [
      "67it [17:07, 15.33s/it]"
     ]
    },
    {
     "name": "stdout",
     "output_type": "stream",
     "text": [
      "[Sep 22, 17:37:06] [0] \t\t #> Encoding 25000 passages..\n",
      "[Sep 22, 17:37:20] [0] \t\t #> Saving chunk 67: \t 25,000 passages and 2,515,289 embeddings. From #1,675,000 onward.\n"
     ]
    },
    {
     "name": "stderr",
     "output_type": "stream",
     "text": [
      "68it [17:22, 15.32s/it]"
     ]
    },
    {
     "name": "stdout",
     "output_type": "stream",
     "text": [
      "[Sep 22, 17:37:21] [0] \t\t #> Encoding 25000 passages..\n",
      "[Sep 22, 17:37:35] [0] \t\t #> Saving chunk 68: \t 25,000 passages and 2,523,297 embeddings. From #1,700,000 onward.\n"
     ]
    },
    {
     "name": "stderr",
     "output_type": "stream",
     "text": [
      "69it [17:38, 15.37s/it]"
     ]
    },
    {
     "name": "stdout",
     "output_type": "stream",
     "text": [
      "[Sep 22, 17:37:37] [0] \t\t #> Encoding 25000 passages..\n",
      "[Sep 22, 17:37:50] [0] \t\t #> Saving chunk 69: \t 25,000 passages and 2,520,093 embeddings. From #1,725,000 onward.\n"
     ]
    },
    {
     "name": "stderr",
     "output_type": "stream",
     "text": [
      "70it [17:53, 15.35s/it]"
     ]
    },
    {
     "name": "stdout",
     "output_type": "stream",
     "text": [
      "[Sep 22, 17:37:52] [0] \t\t #> Encoding 25000 passages..\n",
      "[Sep 22, 17:38:06] [0] \t\t #> Saving chunk 70: \t 25,000 passages and 2,558,548 embeddings. From #1,750,000 onward.\n"
     ]
    },
    {
     "name": "stderr",
     "output_type": "stream",
     "text": [
      "71it [18:08, 15.35s/it]"
     ]
    },
    {
     "name": "stdout",
     "output_type": "stream",
     "text": [
      "[Sep 22, 17:38:07] [0] \t\t #> Encoding 25000 passages..\n",
      "[Sep 22, 17:38:21] [0] \t\t #> Saving chunk 71: \t 25,000 passages and 2,456,125 embeddings. From #1,775,000 onward.\n"
     ]
    },
    {
     "name": "stderr",
     "output_type": "stream",
     "text": [
      "72it [18:24, 15.31s/it]"
     ]
    },
    {
     "name": "stdout",
     "output_type": "stream",
     "text": [
      "[Sep 22, 17:38:23] [0] \t\t #> Encoding 25000 passages..\n",
      "[Sep 22, 17:38:36] [0] \t\t #> Saving chunk 72: \t 25,000 passages and 2,522,577 embeddings. From #1,800,000 onward.\n"
     ]
    },
    {
     "name": "stderr",
     "output_type": "stream",
     "text": [
      "73it [18:39, 15.36s/it]"
     ]
    },
    {
     "name": "stdout",
     "output_type": "stream",
     "text": [
      "[Sep 22, 17:38:38] [0] \t\t #> Encoding 25000 passages..\n",
      "[Sep 22, 17:38:52] [0] \t\t #> Saving chunk 73: \t 25,000 passages and 2,520,658 embeddings. From #1,825,000 onward.\n"
     ]
    },
    {
     "name": "stderr",
     "output_type": "stream",
     "text": [
      "74it [18:54, 15.35s/it]"
     ]
    },
    {
     "name": "stdout",
     "output_type": "stream",
     "text": [
      "[Sep 22, 17:38:53] [0] \t\t #> Encoding 25000 passages..\n",
      "[Sep 22, 17:39:07] [0] \t\t #> Saving chunk 74: \t 25,000 passages and 2,537,564 embeddings. From #1,850,000 onward.\n"
     ]
    },
    {
     "name": "stderr",
     "output_type": "stream",
     "text": [
      "75it [19:10, 15.35s/it]"
     ]
    },
    {
     "name": "stdout",
     "output_type": "stream",
     "text": [
      "[Sep 22, 17:39:09] [0] \t\t #> Encoding 25000 passages..\n",
      "[Sep 22, 17:39:22] [0] \t\t #> Saving chunk 75: \t 25,000 passages and 2,525,430 embeddings. From #1,875,000 onward.\n"
     ]
    },
    {
     "name": "stderr",
     "output_type": "stream",
     "text": [
      "76it [19:25, 15.34s/it]"
     ]
    },
    {
     "name": "stdout",
     "output_type": "stream",
     "text": [
      "[Sep 22, 17:39:24] [0] \t\t #> Encoding 25000 passages..\n",
      "[Sep 22, 17:39:38] [0] \t\t #> Saving chunk 76: \t 25,000 passages and 2,554,020 embeddings. From #1,900,000 onward.\n"
     ]
    },
    {
     "name": "stderr",
     "output_type": "stream",
     "text": [
      "77it [19:40, 15.34s/it]"
     ]
    },
    {
     "name": "stdout",
     "output_type": "stream",
     "text": [
      "[Sep 22, 17:39:39] [0] \t\t #> Encoding 25000 passages..\n",
      "[Sep 22, 17:39:53] [0] \t\t #> Saving chunk 77: \t 25,000 passages and 2,460,732 embeddings. From #1,925,000 onward.\n"
     ]
    },
    {
     "name": "stderr",
     "output_type": "stream",
     "text": [
      "78it [19:56, 15.34s/it]"
     ]
    },
    {
     "name": "stdout",
     "output_type": "stream",
     "text": [
      "[Sep 22, 17:39:55] [0] \t\t #> Encoding 25000 passages..\n",
      "[Sep 22, 17:40:08] [0] \t\t #> Saving chunk 78: \t 25,000 passages and 2,516,194 embeddings. From #1,950,000 onward.\n"
     ]
    },
    {
     "name": "stderr",
     "output_type": "stream",
     "text": [
      "79it [20:11, 15.33s/it]"
     ]
    },
    {
     "name": "stdout",
     "output_type": "stream",
     "text": [
      "[Sep 22, 17:40:10] [0] \t\t #> Encoding 25000 passages..\n",
      "[Sep 22, 17:40:24] [0] \t\t #> Saving chunk 79: \t 25,000 passages and 2,527,805 embeddings. From #1,975,000 onward.\n"
     ]
    },
    {
     "name": "stderr",
     "output_type": "stream",
     "text": [
      "80it [20:26, 15.34s/it]"
     ]
    },
    {
     "name": "stdout",
     "output_type": "stream",
     "text": [
      "[Sep 22, 17:40:25] [0] \t\t #> Encoding 25000 passages..\n",
      "[Sep 22, 17:40:39] [0] \t\t #> Saving chunk 80: \t 25,000 passages and 2,528,952 embeddings. From #2,000,000 onward.\n"
     ]
    },
    {
     "name": "stderr",
     "output_type": "stream",
     "text": [
      "81it [20:42, 15.34s/it]"
     ]
    },
    {
     "name": "stdout",
     "output_type": "stream",
     "text": [
      "[Sep 22, 17:40:41] [0] \t\t #> Encoding 25000 passages..\n",
      "[Sep 22, 17:40:55] [0] \t\t #> Saving chunk 81: \t 25,000 passages and 2,542,179 embeddings. From #2,025,000 onward.\n"
     ]
    },
    {
     "name": "stderr",
     "output_type": "stream",
     "text": [
      "82it [20:57, 15.39s/it]"
     ]
    },
    {
     "name": "stdout",
     "output_type": "stream",
     "text": [
      "[Sep 22, 17:40:56] [0] \t\t #> Encoding 25000 passages..\n",
      "[Sep 22, 17:41:10] [0] \t\t #> Saving chunk 82: \t 25,000 passages and 2,541,751 embeddings. From #2,050,000 onward.\n"
     ]
    },
    {
     "name": "stderr",
     "output_type": "stream",
     "text": [
      "83it [21:13, 15.37s/it]"
     ]
    },
    {
     "name": "stdout",
     "output_type": "stream",
     "text": [
      "[Sep 22, 17:41:12] [0] \t\t #> Encoding 25000 passages..\n",
      "[Sep 22, 17:41:25] [0] \t\t #> Saving chunk 83: \t 25,000 passages and 2,496,360 embeddings. From #2,075,000 onward.\n"
     ]
    },
    {
     "name": "stderr",
     "output_type": "stream",
     "text": [
      "84it [21:28, 15.34s/it]"
     ]
    },
    {
     "name": "stdout",
     "output_type": "stream",
     "text": [
      "[Sep 22, 17:41:27] [0] \t\t #> Encoding 25000 passages..\n",
      "[Sep 22, 17:41:41] [0] \t\t #> Saving chunk 84: \t 25,000 passages and 2,476,694 embeddings. From #2,100,000 onward.\n"
     ]
    },
    {
     "name": "stderr",
     "output_type": "stream",
     "text": [
      "85it [21:43, 15.32s/it]"
     ]
    },
    {
     "name": "stdout",
     "output_type": "stream",
     "text": [
      "[Sep 22, 17:41:42] [0] \t\t #> Encoding 25000 passages..\n",
      "[Sep 22, 17:41:56] [0] \t\t #> Saving chunk 85: \t 25,000 passages and 2,537,341 embeddings. From #2,125,000 onward.\n"
     ]
    },
    {
     "name": "stderr",
     "output_type": "stream",
     "text": [
      "86it [21:59, 15.37s/it]"
     ]
    },
    {
     "name": "stdout",
     "output_type": "stream",
     "text": [
      "[Sep 22, 17:41:58] [0] \t\t #> Encoding 25000 passages..\n",
      "[Sep 22, 17:42:11] [0] \t\t #> Saving chunk 86: \t 25,000 passages and 2,513,946 embeddings. From #2,150,000 onward.\n"
     ]
    },
    {
     "name": "stderr",
     "output_type": "stream",
     "text": [
      "87it [22:14, 15.35s/it]"
     ]
    },
    {
     "name": "stdout",
     "output_type": "stream",
     "text": [
      "[Sep 22, 17:42:13] [0] \t\t #> Encoding 25000 passages..\n",
      "[Sep 22, 17:42:27] [0] \t\t #> Saving chunk 87: \t 25,000 passages and 2,530,238 embeddings. From #2,175,000 onward.\n"
     ]
    },
    {
     "name": "stderr",
     "output_type": "stream",
     "text": [
      "88it [22:29, 15.34s/it]"
     ]
    },
    {
     "name": "stdout",
     "output_type": "stream",
     "text": [
      "[Sep 22, 17:42:28] [0] \t\t #> Encoding 25000 passages..\n",
      "[Sep 22, 17:42:42] [0] \t\t #> Saving chunk 88: \t 25,000 passages and 2,537,244 embeddings. From #2,200,000 onward.\n"
     ]
    },
    {
     "name": "stderr",
     "output_type": "stream",
     "text": [
      "89it [22:45, 15.33s/it]"
     ]
    },
    {
     "name": "stdout",
     "output_type": "stream",
     "text": [
      "[Sep 22, 17:42:44] [0] \t\t #> Encoding 25000 passages..\n",
      "[Sep 22, 17:42:57] [0] \t\t #> Saving chunk 89: \t 25,000 passages and 2,526,048 embeddings. From #2,225,000 onward.\n"
     ]
    },
    {
     "name": "stderr",
     "output_type": "stream",
     "text": [
      "90it [23:00, 15.36s/it]"
     ]
    },
    {
     "name": "stdout",
     "output_type": "stream",
     "text": [
      "[Sep 22, 17:42:59] [0] \t\t #> Encoding 25000 passages..\n",
      "[Sep 22, 17:43:13] [0] \t\t #> Saving chunk 90: \t 25,000 passages and 2,472,424 embeddings. From #2,250,000 onward.\n"
     ]
    },
    {
     "name": "stderr",
     "output_type": "stream",
     "text": [
      "91it [23:15, 15.32s/it]"
     ]
    },
    {
     "name": "stdout",
     "output_type": "stream",
     "text": [
      "[Sep 22, 17:43:14] [0] \t\t #> Encoding 25000 passages..\n",
      "[Sep 22, 17:43:28] [0] \t\t #> Saving chunk 91: \t 25,000 passages and 2,530,685 embeddings. From #2,275,000 onward.\n"
     ]
    },
    {
     "name": "stderr",
     "output_type": "stream",
     "text": [
      "92it [23:31, 15.32s/it]"
     ]
    },
    {
     "name": "stdout",
     "output_type": "stream",
     "text": [
      "[Sep 22, 17:43:30] [0] \t\t #> Encoding 25000 passages..\n",
      "[Sep 22, 17:43:43] [0] \t\t #> Saving chunk 92: \t 25,000 passages and 2,525,495 embeddings. From #2,300,000 onward.\n"
     ]
    },
    {
     "name": "stderr",
     "output_type": "stream",
     "text": [
      "93it [23:46, 15.33s/it]"
     ]
    },
    {
     "name": "stdout",
     "output_type": "stream",
     "text": [
      "[Sep 22, 17:43:45] [0] \t\t #> Encoding 25000 passages..\n",
      "[Sep 22, 17:43:59] [0] \t\t #> Saving chunk 93: \t 25,000 passages and 2,546,079 embeddings. From #2,325,000 onward.\n"
     ]
    },
    {
     "name": "stderr",
     "output_type": "stream",
     "text": [
      "94it [24:01, 15.38s/it]"
     ]
    },
    {
     "name": "stdout",
     "output_type": "stream",
     "text": [
      "[Sep 22, 17:44:00] [0] \t\t #> Encoding 25000 passages..\n",
      "[Sep 22, 17:44:14] [0] \t\t #> Saving chunk 94: \t 25,000 passages and 2,524,451 embeddings. From #2,350,000 onward.\n"
     ]
    },
    {
     "name": "stderr",
     "output_type": "stream",
     "text": [
      "95it [24:17, 15.35s/it]"
     ]
    },
    {
     "name": "stdout",
     "output_type": "stream",
     "text": [
      "[Sep 22, 17:44:16] [0] \t\t #> Encoding 25000 passages..\n",
      "[Sep 22, 17:44:29] [0] \t\t #> Saving chunk 95: \t 25,000 passages and 2,552,658 embeddings. From #2,375,000 onward.\n"
     ]
    },
    {
     "name": "stderr",
     "output_type": "stream",
     "text": [
      "96it [24:32, 15.35s/it]"
     ]
    },
    {
     "name": "stdout",
     "output_type": "stream",
     "text": [
      "[Sep 22, 17:44:31] [0] \t\t #> Encoding 25000 passages..\n",
      "[Sep 22, 17:44:45] [0] \t\t #> Saving chunk 96: \t 25,000 passages and 2,451,935 embeddings. From #2,400,000 onward.\n"
     ]
    },
    {
     "name": "stderr",
     "output_type": "stream",
     "text": [
      "97it [24:47, 15.30s/it]"
     ]
    },
    {
     "name": "stdout",
     "output_type": "stream",
     "text": [
      "[Sep 22, 17:44:46] [0] \t\t #> Encoding 25000 passages..\n",
      "[Sep 22, 17:45:00] [0] \t\t #> Saving chunk 97: \t 25,000 passages and 2,524,447 embeddings. From #2,425,000 onward.\n"
     ]
    },
    {
     "name": "stderr",
     "output_type": "stream",
     "text": [
      "98it [25:03, 15.36s/it]"
     ]
    },
    {
     "name": "stdout",
     "output_type": "stream",
     "text": [
      "[Sep 22, 17:45:02] [0] \t\t #> Encoding 25000 passages..\n",
      "[Sep 22, 17:45:15] [0] \t\t #> Saving chunk 98: \t 25,000 passages and 2,533,525 embeddings. From #2,450,000 onward.\n"
     ]
    },
    {
     "name": "stderr",
     "output_type": "stream",
     "text": [
      "99it [25:18, 15.36s/it]"
     ]
    },
    {
     "name": "stdout",
     "output_type": "stream",
     "text": [
      "[Sep 22, 17:45:17] [0] \t\t #> Encoding 25000 passages..\n",
      "[Sep 22, 17:45:31] [0] \t\t #> Saving chunk 99: \t 25,000 passages and 2,538,812 embeddings. From #2,475,000 onward.\n"
     ]
    },
    {
     "name": "stderr",
     "output_type": "stream",
     "text": [
      "101it [25:33, 15.19s/it]\n"
     ]
    },
    {
     "name": "stdout",
     "output_type": "stream",
     "text": [
      "[Sep 22, 17:45:32] [0] \t\t #> Encoding 36 passages..\n",
      "[Sep 22, 17:45:32] [0] \t\t #> Saving chunk 100: \t 36 passages and 3,680 embeddings. From #2,500,000 onward.\n",
      "[Sep 22, 17:45:32] [0] \t\t #> Checking all files were saved...\n",
      "[Sep 22, 17:45:32] [0] \t\t Found all files!\n",
      "[Sep 22, 17:45:32] [0] \t\t #> Building IVF...\n",
      "[Sep 22, 17:45:33] [0] \t\t #> Loading codes...\n"
     ]
    },
    {
     "name": "stderr",
     "output_type": "stream",
     "text": [
      "100%|██████████| 101/101 [00:00<00:00, 423.19it/s]\n"
     ]
    },
    {
     "name": "stdout",
     "output_type": "stream",
     "text": [
      "[Sep 22, 17:45:33] [0] \t\t Sorting codes...\n",
      "[Sep 22, 17:45:46] [0] \t\t Getting unique codes...\n",
      "[Sep 22, 17:45:47] #> Optimizing IVF to store map from centroids to list of pids..\n",
      "[Sep 22, 17:45:47] #> Building the emb2pid mapping..\n",
      "[Sep 22, 17:45:49] len(emb2pid) = 251973401\n"
     ]
    },
    {
     "name": "stderr",
     "output_type": "stream",
     "text": [
      "100%|██████████| 131072/131072 [00:15<00:00, 8249.22it/s]\n"
     ]
    },
    {
     "name": "stdout",
     "output_type": "stream",
     "text": [
      "[Sep 22, 17:46:06] #> Saved optimized IVF to data/colbert_max_words_100_nbits_2-v4/colbert_wiki_indexer/ivf.pid.pt\n",
      "[Sep 22, 17:46:06] [0] \t\t #> Saving the indexing metadata to data/colbert_max_words_100_nbits_2-v4/colbert_wiki_indexer/metadata.json ..\n",
      "#> Joined...\n"
     ]
    }
   ],
   "source": [
    "rerun = True\n",
    "if rerun:\n",
    "    with Run().context(RunConfig(nranks=1, index_root=str(colbert_path))):\n",
    "        indexer = Indexer(checkpoint=checkpoint, config=config)\n",
    "        indexer.index(name=indexer_name,\n",
    "                      collection=c_collection,\n",
    "                      overwrite=True)"
   ]
  },
  {
   "cell_type": "markdown",
   "id": "7ca30d84-a62c-41db-8606-1057ad3bb6ba",
   "metadata": {
    "tags": []
   },
   "source": [
    "## Search for known sections"
   ]
  },
  {
   "cell_type": "code",
   "execution_count": 40,
   "id": "bdbb5412-0bae-4e99-beaa-da3ba63c2984",
   "metadata": {},
   "outputs": [
    {
     "name": "stdout",
     "output_type": "stream",
     "text": [
      "[Sep 22, 17:47:30] #> Loading the queries from ./data/wiki_queries.tsv ...\n",
      "[Sep 22, 17:47:30] #> Got 5799 queries. All QIDs are unique.\n",
      "\n"
     ]
    },
    {
     "data": {
      "text/plain": [
       "'Loaded 5799 queries'"
      ]
     },
     "execution_count": 40,
     "metadata": {},
     "output_type": "execute_result"
    }
   ],
   "source": [
    "queries = questions.with_row_count('qid')[['qid', 'question']]\n",
    "queries = queries.with_columns(pl.col('question').str.replace_all('\\n', ' '))\n",
    "queries_file = './data/wiki_queries.tsv'\n",
    "queries.write_csv(queries_file, separator='\\t', has_header=False)\n",
    "c_queries = Queries(queries_file)\n",
    "f'Loaded {len(c_queries)} queries'"
   ]
  },
  {
   "cell_type": "code",
   "execution_count": 43,
   "id": "5a799e41-278d-4fe7-a307-68b8c4323927",
   "metadata": {},
   "outputs": [
    {
     "name": "stdout",
     "output_type": "stream",
     "text": [
      "[Sep 22, 17:48:30] #> Loading collection...\n",
      "0M 1M 2M \n",
      "[Sep 22, 17:48:33] #> Loading codec...\n",
      "[Sep 22, 17:48:33] #> Loading IVF...\n",
      "[Sep 22, 17:48:34] #> Loading doclens...\n"
     ]
    },
    {
     "name": "stderr",
     "output_type": "stream",
     "text": [
      "100%|██████████| 101/101 [00:00<00:00, 2836.08it/s]"
     ]
    },
    {
     "name": "stdout",
     "output_type": "stream",
     "text": [
      "[Sep 22, 17:48:34] #> Loading codes and residuals...\n"
     ]
    },
    {
     "name": "stderr",
     "output_type": "stream",
     "text": [
      "\n",
      "100%|██████████| 101/101 [00:03<00:00, 31.20it/s]\n",
      "100%|██████████| 5799/5799 [00:43<00:00, 132.71it/s]\n"
     ]
    }
   ],
   "source": [
    "n_results_per_question = 3\n",
    "n_questions = 500\n",
    "\n",
    "with Run().context(RunConfig(nranks=1, index_root=str(colbert_path))):\n",
    "    searcher = Searcher(index=indexer_name, config=config)\n",
    "    ranking = searcher.search_all(c_queries, k=n_results_per_question)"
   ]
  },
  {
   "cell_type": "code",
   "execution_count": 44,
   "id": "08e29ae5-d842-427c-a991-822cfa516a51",
   "metadata": {
    "tags": []
   },
   "outputs": [],
   "source": [
    "# info.with_columns(pl.lit(1).alias(\"ones\"))\\\n",
    "#     .select([\n",
    "#         pl.all().exclude(\"ones\"),\n",
    "#         pl.col(\"ones\").cumsum().over(\"qid\").flatten().alias(\"bm25_idx\")\n",
    "#     ])"
   ]
  },
  {
   "cell_type": "code",
   "execution_count": 46,
   "id": "535aa3d3-76a1-4269-b9f1-a48f47a31cfa",
   "metadata": {
    "tags": []
   },
   "outputs": [],
   "source": [
    "# n_questions, len(ranking.flat_ranking)"
   ]
  },
  {
   "cell_type": "code",
   "execution_count": 49,
   "id": "183b29dd-f090-4a03-b385-519d3bf698c0",
   "metadata": {
    "tags": []
   },
   "outputs": [],
   "source": [
    "colbert = [tup[1] for tup in ranking.flat_ranking]\n",
    "colbert = pl.Series(\"colbert\", colbert[:n_questions * n_results_per_question], dtype=pl.UInt32)"
   ]
  },
  {
   "cell_type": "markdown",
   "id": "9b8b8942-113a-425c-9ea7-88999ab0abd4",
   "metadata": {
    "tags": []
   },
   "source": [
    "## BM25"
   ]
  },
  {
   "cell_type": "code",
   "execution_count": 50,
   "id": "fc46c02c-0d82-4e5c-a0d8-ce97d81ddb92",
   "metadata": {},
   "outputs": [
    {
     "data": {
      "application/vnd.jupyter.widget-view+json": {
       "model_id": "e423041d55134733a40d190e3010d78b",
       "version_major": 2,
       "version_minor": 0
      },
      "text/plain": [
       "  0%|          | 0/500 [00:00<?, ?it/s]"
      ]
     },
     "metadata": {},
     "output_type": "display_data"
    }
   ],
   "source": [
    "rerun_bm25 = True\n",
    "\n",
    "tokenized_corpus = [doc.split(\" \") for doc in passages['passage_text']]\n",
    "bm25_corpus = BM25Okapi(tokenized_corpus)\n",
    "\n",
    "def bm25_scores(query):\n",
    "    tokenized_query = query.split(\" \")\n",
    "    scores = pd.Series(bm25_corpus.get_scores(tokenized_query))\n",
    "    scores = scores.sort_values(ascending=False)\n",
    "    return scores\n",
    "\n",
    "\n",
    "file_path = Path('./data/bm25_scores.parquet')\n",
    "if file_path.exists() and not rerun_bm25:\n",
    "    bm25_res = pl.read_parquet(file_path)\n",
    "else:\n",
    "    scores = []\n",
    "    for question in tqdm(questions['question'][:n_questions]):\n",
    "        q_scores = pd.Series(bm25_scores(question))\n",
    "        top_10 = q_scores.sort_values(ascending=False)[:n_results_per_question].index.to_list()\n",
    "        scores.append(top_10)\n",
    "\n",
    "    bm25_res = pl.Series(\"bm25\", scores, dtype=pl.List(pl.UInt32))\n",
    "    bm25_res = questions[:n_questions][['question', 'title', 'section_title']].with_columns(bm25_res)\n",
    "    bm25_res = bm25_res.with_row_count('qid')\n",
    "    bm25_res = bm25_res.explode('bm25')\n",
    "    bm25_res = bm25_res.with_columns(pl.lit(1).alias(\"ones\"))\\\n",
    "                       .select([\n",
    "                           pl.all().exclude(\"ones\"),\n",
    "                           pl.col(\"ones\").cumsum().over(\"qid\").flatten().alias(\"result_idx\")\n",
    "                       ])\n",
    "    bm25_res = bm25_res.join(passages, how='left', left_on='bm25', right_on='passage_id', suffix='_bm25', validate='m:1')\n",
    "    bm25_res.write_parquet(file_path)"
   ]
  },
  {
   "cell_type": "markdown",
   "id": "23e9ad95-1103-4801-ab2e-bcddb69cdd99",
   "metadata": {},
   "source": [
    "### Precision"
   ]
  },
  {
   "cell_type": "code",
   "execution_count": 51,
   "id": "42e16d64-530a-4922-8ba7-7e23468b6656",
   "metadata": {
    "tags": []
   },
   "outputs": [],
   "source": [
    "colbert_col = [tup[1] for tup in ranking.flat_ranking]\n",
    "colbert_col = pl.Series(\"colbert\", colbert[:n_questions * n_results_per_question], dtype=pl.UInt32)\n",
    "res = bm25_res.with_columns(colbert_col)\n",
    "res = res.join(passages, how='left', left_on='colbert', right_on='passage_id', validate='m:1', suffix='_col')\n",
    "res = res.with_columns([\n",
    "    (pl.col('title') == pl.col('title_bm25')).alias('bm25_title_match'),\n",
    "    (pl.col('title') == pl.col('title_col')).alias('col_title_match')\n",
    "])"
   ]
  },
  {
   "cell_type": "code",
   "execution_count": 52,
   "id": "82ebe6c0-b81e-4396-91f7-7e4cff21a61e",
   "metadata": {
    "tags": []
   },
   "outputs": [
    {
     "data": {
      "text/plain": [
       "0.358"
      ]
     },
     "execution_count": 52,
     "metadata": {},
     "output_type": "execute_result"
    }
   ],
   "source": [
    "res.filter(pl.col('result_idx') == 1)['bm25_title_match'].mean()"
   ]
  },
  {
   "cell_type": "code",
   "execution_count": 53,
   "id": "08172fc1-b083-4b31-81a4-31111f0abe2c",
   "metadata": {
    "tags": []
   },
   "outputs": [
    {
     "data": {
      "text/plain": [
       "0.822"
      ]
     },
     "execution_count": 53,
     "metadata": {},
     "output_type": "execute_result"
    }
   ],
   "source": [
    "res.filter(pl.col('result_idx') == 1)['col_title_match'].mean()"
   ]
  },
  {
   "cell_type": "markdown",
   "id": "930a694a-1928-46d6-b038-f5bdad8d48cd",
   "metadata": {
    "tags": []
   },
   "source": [
    "### Recall at 2"
   ]
  },
  {
   "cell_type": "code",
   "execution_count": 54,
   "id": "d7a8eec2-a3a0-4ba8-a36e-03a97212e949",
   "metadata": {
    "tags": []
   },
   "outputs": [
    {
     "name": "stderr",
     "output_type": "stream",
     "text": [
      "/tmp/ipykernel_192498/712228529.py:1: DeprecationWarning: `groupby` is deprecated. It has been renamed to `group_by`.\n",
      "  res.filter(pl.col('result_idx') <= 2).groupby('qid').agg(pl.max('bm25_title_match'))['bm25_title_match'].mean()\n"
     ]
    },
    {
     "data": {
      "text/plain": [
       "0.452"
      ]
     },
     "execution_count": 54,
     "metadata": {},
     "output_type": "execute_result"
    }
   ],
   "source": [
    "res.filter(pl.col('result_idx') <= 2).groupby('qid').agg(pl.max('bm25_title_match'))['bm25_title_match'].mean()"
   ]
  },
  {
   "cell_type": "code",
   "execution_count": 55,
   "id": "aa088a5f-4c86-4a44-adf9-0045ac444330",
   "metadata": {
    "tags": []
   },
   "outputs": [
    {
     "name": "stderr",
     "output_type": "stream",
     "text": [
      "/tmp/ipykernel_192498/4156540472.py:1: DeprecationWarning: `groupby` is deprecated. It has been renamed to `group_by`.\n",
      "  res.filter(pl.col('result_idx') <= 2).groupby('qid').agg(pl.max('col_title_match'))['col_title_match'].mean()\n"
     ]
    },
    {
     "data": {
      "text/plain": [
       "0.898"
      ]
     },
     "execution_count": 55,
     "metadata": {},
     "output_type": "execute_result"
    }
   ],
   "source": [
    "res.filter(pl.col('result_idx') <= 2).groupby('qid').agg(pl.max('col_title_match'))['col_title_match'].mean()"
   ]
  },
  {
   "cell_type": "markdown",
   "id": "f0d750ad-c822-443a-aea6-2318517e9ef4",
   "metadata": {},
   "source": [
    "### Recall at 3"
   ]
  },
  {
   "cell_type": "code",
   "execution_count": 56,
   "id": "40b6ff13-ba74-4ef5-b03a-0f4dd8e56f4c",
   "metadata": {
    "tags": []
   },
   "outputs": [
    {
     "name": "stderr",
     "output_type": "stream",
     "text": [
      "/tmp/ipykernel_192498/1293839481.py:1: DeprecationWarning: `groupby` is deprecated. It has been renamed to `group_by`.\n",
      "  res.filter(pl.col('result_idx') <= 3).groupby('qid').agg(pl.max('bm25_title_match'))['bm25_title_match'].mean()\n"
     ]
    },
    {
     "data": {
      "text/plain": [
       "0.51"
      ]
     },
     "execution_count": 56,
     "metadata": {},
     "output_type": "execute_result"
    }
   ],
   "source": [
    "res.filter(pl.col('result_idx') <= 3).groupby('qid').agg(pl.max('bm25_title_match'))['bm25_title_match'].mean()"
   ]
  },
  {
   "cell_type": "code",
   "execution_count": 57,
   "id": "be2397de-91a7-4455-a704-69e4c38881fb",
   "metadata": {
    "tags": []
   },
   "outputs": [
    {
     "name": "stderr",
     "output_type": "stream",
     "text": [
      "/tmp/ipykernel_192498/2198504976.py:1: DeprecationWarning: `groupby` is deprecated. It has been renamed to `group_by`.\n",
      "  res.filter(pl.col('result_idx') <= 3).groupby('qid').agg(pl.max('col_title_match'))['col_title_match'].mean()\n"
     ]
    },
    {
     "data": {
      "text/plain": [
       "0.92"
      ]
     },
     "execution_count": 57,
     "metadata": {},
     "output_type": "execute_result"
    }
   ],
   "source": [
    "res.filter(pl.col('result_idx') <= 3).groupby('qid').agg(pl.max('col_title_match'))['col_title_match'].mean()"
   ]
  },
  {
   "cell_type": "code",
   "execution_count": null,
   "id": "07f97955-7217-4a53-b9c0-a78d1e1e0c98",
   "metadata": {},
   "outputs": [],
   "source": []
  },
  {
   "cell_type": "code",
   "execution_count": null,
   "id": "5a41072c-9170-43ec-9e49-c1005b4389bc",
   "metadata": {},
   "outputs": [],
   "source": []
  },
  {
   "cell_type": "code",
   "execution_count": null,
   "id": "68ea7122-cc0f-4f76-b08f-2eeed295bd50",
   "metadata": {},
   "outputs": [],
   "source": []
  },
  {
   "cell_type": "code",
   "execution_count": null,
   "id": "0825ef66-6728-493c-9ada-3710b656e9f9",
   "metadata": {},
   "outputs": [],
   "source": []
  },
  {
   "cell_type": "code",
   "execution_count": 33,
   "id": "eaf7a5be-d194-4a9a-a635-70dfc42cd415",
   "metadata": {
    "tags": []
   },
   "outputs": [
    {
     "data": {
      "text/html": [
       "<div><style>\n",
       ".dataframe > thead > tr > th,\n",
       ".dataframe > tbody > tr > td {\n",
       "  text-align: right;\n",
       "}\n",
       "</style>\n",
       "<small>shape: (2, 3)</small><table border=\"1\" class=\"dataframe\"><thead><tr><th>question</th><th>passage_text</th><th>passage_text_col</th></tr><tr><td>str</td><td>str</td><td>str</td></tr></thead><tbody><tr><td>&quot;What is the net rate of flow of electric charge through a surface called?&quot;</td><td>&quot;pp-vandalismsmallyes ElectromagnetismNetwork An electric current is a flow of charged particles, such as electrons or ions, moving through an electrical conductor or space. It is defined as the net rate of flow of electric charge through a surface.rp2rp622 The moving particles are called charge carriers, which may be one of several types of particles, depending on the conductor. In electric circuits the charge carriers are often electrons moving through a wire. In semiconductors they can be electrons or Electron hole. In an Electrolyte#Electrochemistry the charge carriers are ions, while in Plasma (physics), an ionized gas, they are ions and electrons.&quot;</td><td>&quot;pp-vandalismsmallyes ElectromagnetismNetwork An electric current is a flow of charged particles, such as electrons or ions, moving through an electrical conductor or space. It is defined as the net rate of flow of electric charge through a surface.rp2rp622 The moving particles are called charge carriers, which may be one of several types of particles, depending on the conductor. In electric circuits the charge carriers are often electrons moving through a wire. In semiconductors they can be electrons or Electron hole. In an Electrolyte#Electrochemistry the charge carriers are ions, while in Plasma (physics), an ionized gas, they are ions and electrons.&quot;</td></tr><tr><td>&quot;What is the net rate of flow of electric charge through a surface called?&quot;</td><td>&quot;In this view, electric current is a flow caused by the electromotive force and is the analogue of velocity caused by a mechanical force. At the capacitor, this current causes a &quot;displacement current&quot; whose rate of change is equal to the current. The displacement is viewed as an electric deformation (mechanics)#Strain, like a mechanical strain in a compressed spring. The existence of a flow of physical charge is denied, as is the buildup of charge on the capacitor plates.&quot;</td><td>&quot;More generally, electric current can be represented as the rate at which charge flows through a given surface as: I = fracmathrmdQmathrmdt , .&quot;</td></tr></tbody></table></div>"
      ],
      "text/plain": [
       "shape: (2, 3)\n",
       "┌────────────────────────────────┬────────────────────────────────┬────────────────────────────────┐\n",
       "│ question                       ┆ passage_text                   ┆ passage_text_col               │\n",
       "│ ---                            ┆ ---                            ┆ ---                            │\n",
       "│ str                            ┆ str                            ┆ str                            │\n",
       "╞════════════════════════════════╪════════════════════════════════╪════════════════════════════════╡\n",
       "│ What is the net rate of flow   ┆ pp-vandalismsmallyes           ┆ pp-vandalismsmallyes           │\n",
       "│ of electric charge through a   ┆ ElectromagnetismNetwork An     ┆ ElectromagnetismNetwork An     │\n",
       "│ surface called?                ┆ electric current is a flow of  ┆ electric current is a flow of  │\n",
       "│                                ┆ charged particles, such as     ┆ charged particles, such as     │\n",
       "│                                ┆ electrons or ions, moving      ┆ electrons or ions, moving      │\n",
       "│                                ┆ through an electrical          ┆ through an electrical          │\n",
       "│                                ┆ conductor or space. It is      ┆ conductor or space. It is      │\n",
       "│                                ┆ defined as the net rate of     ┆ defined as the net rate of     │\n",
       "│                                ┆ flow of electric charge        ┆ flow of electric charge        │\n",
       "│                                ┆ through a surface.rp2rp622 The ┆ through a surface.rp2rp622 The │\n",
       "│                                ┆ moving particles are called    ┆ moving particles are called    │\n",
       "│                                ┆ charge carriers, which may be  ┆ charge carriers, which may be  │\n",
       "│                                ┆ one of several types of        ┆ one of several types of        │\n",
       "│                                ┆ particles, depending on the    ┆ particles, depending on the    │\n",
       "│                                ┆ conductor. In electric         ┆ conductor. In electric         │\n",
       "│                                ┆ circuits the charge carriers   ┆ circuits the charge carriers   │\n",
       "│                                ┆ are often electrons moving     ┆ are often electrons moving     │\n",
       "│                                ┆ through a wire. In             ┆ through a wire. In             │\n",
       "│                                ┆ semiconductors they can be     ┆ semiconductors they can be     │\n",
       "│                                ┆ electrons or Electron hole. In ┆ electrons or Electron hole. In │\n",
       "│                                ┆ an                             ┆ an                             │\n",
       "│                                ┆ Electrolyte#Electrochemistry   ┆ Electrolyte#Electrochemistry   │\n",
       "│                                ┆ the charge carriers are ions,  ┆ the charge carriers are ions,  │\n",
       "│                                ┆ while in Plasma (physics), an  ┆ while in Plasma (physics), an  │\n",
       "│                                ┆ ionized gas, they are ions and ┆ ionized gas, they are ions and │\n",
       "│                                ┆ electrons.                     ┆ electrons.                     │\n",
       "│ What is the net rate of flow   ┆ In this view, electric current ┆ More generally, electric       │\n",
       "│ of electric charge through a   ┆ is a flow caused by the        ┆ current can be represented as  │\n",
       "│ surface called?                ┆ electromotive force and is the ┆ the rate at which charge flows │\n",
       "│                                ┆ analogue of velocity caused by ┆ through a given surface as: I  │\n",
       "│                                ┆ a mechanical force. At the     ┆ = fracmathrmdQmathrmdt , .     │\n",
       "│                                ┆ capacitor, this current causes ┆                                │\n",
       "│                                ┆ a \"displacement current\" whose ┆                                │\n",
       "│                                ┆ rate of change is equal to the ┆                                │\n",
       "│                                ┆ current. The displacement is   ┆                                │\n",
       "│                                ┆ viewed as an electric          ┆                                │\n",
       "│                                ┆ deformation                    ┆                                │\n",
       "│                                ┆ (mechanics)#Strain, like a     ┆                                │\n",
       "│                                ┆ mechanical strain in a         ┆                                │\n",
       "│                                ┆ compressed spring. The         ┆                                │\n",
       "│                                ┆ existence of a flow of         ┆                                │\n",
       "│                                ┆ physical charge is denied, as  ┆                                │\n",
       "│                                ┆ is the buildup of charge on    ┆                                │\n",
       "│                                ┆ the capacitor plates.          ┆                                │\n",
       "└────────────────────────────────┴────────────────────────────────┴────────────────────────────────┘"
      ]
     },
     "execution_count": 33,
     "metadata": {},
     "output_type": "execute_result"
    }
   ],
   "source": [
    "question = 2\n",
    "res[['question', 'passage_text', 'passage_text_col']][question*n_results_per_question:(question+1)*n_results_per_question]"
   ]
  },
  {
   "cell_type": "code",
   "execution_count": null,
   "id": "a04ee3bf-cd06-4c29-b443-16fcc413eb0b",
   "metadata": {},
   "outputs": [],
   "source": [
    "# res = res.with_columns([\n",
    "#     (pl.col('title') == pl.col('title_bm25')).alias('bm25_title_match'),\n",
    "#     (pl.col('title') == pl.col('title_col')).alias('col_title_match')\n",
    "# ])"
   ]
  },
  {
   "cell_type": "code",
   "execution_count": null,
   "id": "10a15bdd-40f4-44ad-ac70-6af63213f324",
   "metadata": {},
   "outputs": [],
   "source": []
  },
  {
   "cell_type": "code",
   "execution_count": null,
   "id": "4fdd6556-0c0f-4b3a-84d3-eda86adaa7c4",
   "metadata": {},
   "outputs": [],
   "source": []
  },
  {
   "cell_type": "code",
   "execution_count": null,
   "id": "435b55b4-eb21-4d4b-8b15-95bf1a3d5e97",
   "metadata": {},
   "outputs": [],
   "source": []
  },
  {
   "cell_type": "code",
   "execution_count": null,
   "id": "31702514-6ee3-4162-9adc-cfc2cbc26e24",
   "metadata": {},
   "outputs": [],
   "source": []
  },
  {
   "cell_type": "code",
   "execution_count": null,
   "id": "9800029d-1461-4ea4-8b56-158831bb0193",
   "metadata": {},
   "outputs": [],
   "source": []
  },
  {
   "cell_type": "code",
   "execution_count": null,
   "id": "a65ac748-c7db-47c6-bb71-a3e01e62b1fd",
   "metadata": {},
   "outputs": [],
   "source": []
  }
 ],
 "metadata": {
  "kernelspec": {
   "display_name": "Python [conda env:pytorch]",
   "language": "python",
   "name": "conda-env-pytorch-py"
  },
  "language_info": {
   "codemirror_mode": {
    "name": "ipython",
    "version": 3
   },
   "file_extension": ".py",
   "mimetype": "text/x-python",
   "name": "python",
   "nbconvert_exporter": "python",
   "pygments_lexer": "ipython3",
   "version": "3.10.13"
  }
 },
 "nbformat": 4,
 "nbformat_minor": 5
}
