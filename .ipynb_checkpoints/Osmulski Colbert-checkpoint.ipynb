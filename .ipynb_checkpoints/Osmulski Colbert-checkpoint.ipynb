{
 "cells": [
  {
   "cell_type": "markdown",
   "id": "b84ed421-c478-4163-9ac6-190defda2e72",
   "metadata": {
    "tags": []
   },
   "source": [
    "# Osmulski Colbert"
   ]
  },
  {
   "cell_type": "code",
   "execution_count": null,
   "id": "97593488-22fb-401c-9a0e-e1c601b0fc21",
   "metadata": {
    "tags": []
   },
   "outputs": [],
   "source": [
    "import os\n",
    "import polars as pl\n",
    "import polars.selectors as cs\n",
    "import pandas as pd\n",
    "import pyarrow as pa\n",
    "import numpy as np\n",
    "import matplotlib.pyplot as plt\n",
    "import seaborn as sns\n",
    "from tqdm.notebook import tqdm\n",
    "\n",
    "from colbert.infra import Run, RunConfig, ColBERTConfig\n",
    "from colbert.data import Queries\n",
    "from colbert import Indexer, Searcher"
   ]
  },
  {
   "cell_type": "code",
   "execution_count": 6,
   "id": "60138f6d-28db-41bf-adcb-850c260e5a22",
   "metadata": {
    "tags": []
   },
   "outputs": [],
   "source": [
    "#!conda install -c conda-forge faiss-gpu -y"
   ]
  },
  {
   "cell_type": "code",
   "execution_count": 7,
   "id": "e7da2925-6592-4949-844d-ed512cdc2c05",
   "metadata": {
    "tags": []
   },
   "outputs": [],
   "source": [
    "deberta_v3_large = 'microsoft/deberta-v3-large'"
   ]
  },
  {
   "cell_type": "code",
   "execution_count": 8,
   "id": "803bdf2d-6242-4c72-9c92-d4f90e2f63b4",
   "metadata": {
    "tags": []
   },
   "outputs": [
    {
     "data": {
      "text/plain": [
       "['prompt', 'A', 'B', 'C', 'D', 'E', 'answer']"
      ]
     },
     "execution_count": 8,
     "metadata": {},
     "output_type": "execute_result"
    }
   ],
   "source": [
    "df_test = pl.read_csv('data/train.csv')\n",
    "df_test = df_test.drop(columns=\"id\")\n",
    "df_test.columns"
   ]
  },
  {
   "cell_type": "code",
   "execution_count": 20,
   "id": "0b25661a-772f-4bc4-b284-92a766d4195d",
   "metadata": {
    "tags": []
   },
   "outputs": [
    {
     "data": {
      "text/plain": [
       "((15000, 7), ['prompt', 'A', 'B', 'C', 'D', 'E', 'answer'])"
      ]
     },
     "execution_count": 20,
     "metadata": {},
     "output_type": "execute_result"
    }
   ],
   "source": [
    "osmulski = pl.read_csv('data/osmulski_15k.csv')\n",
    "osmulski.shape, osmulski.columns"
   ]
  },
  {
   "cell_type": "markdown",
   "id": "bc4d7781-4310-4cfc-8ef3-9fc50ea3c4a4",
   "metadata": {
    "tags": []
   },
   "source": [
    "## Retrieve Wiki Context via ColBERT"
   ]
  },
  {
   "cell_type": "code",
   "execution_count": 21,
   "id": "ebd8d18a-9b72-4598-be66-20e0defbbafc",
   "metadata": {
    "tags": []
   },
   "outputs": [],
   "source": [
    "queries = osmulski.with_row_count('qid')[['qid', 'prompt']]\n",
    "queries = queries.with_columns(pl.col('prompt').str.replace_all('\\n', ' ')) \n",
    "queries_file = './data/wiki_queries.tsv'\n",
    "queries.write_csv(queries_file, separator='\\t', has_header=False)"
   ]
  },
  {
   "cell_type": "code",
   "execution_count": 22,
   "id": "98037bab-c300-4f08-be03-1771f7658e07",
   "metadata": {
    "tags": []
   },
   "outputs": [
    {
     "name": "stdout",
     "output_type": "stream",
     "text": [
      "[Aug 29, 15:01:32] #> Loading the queries from ./data/wiki_queries.tsv ...\n",
      "[Aug 29, 15:01:32] #> Got 15000 queries. All QIDs are unique.\n",
      "\n"
     ]
    }
   ],
   "source": [
    "c_queries = Queries(queries_file)"
   ]
  },
  {
   "cell_type": "code",
   "execution_count": 23,
   "id": "97bc9251-4b99-47be-bf46-02a8bb210b6c",
   "metadata": {
    "tags": []
   },
   "outputs": [],
   "source": [
    "n_results_per_question = 1\n",
    "\n",
    "nbits = 2   # encode each dimension with 2 bits\n",
    "doc_maxlen = 512   # truncate passages at 300 tokens\n",
    "dim = 128 # default is 128\n",
    "\n",
    "checkpoint = './checkpoints/open-nq-colbert-xlmr-large'\n",
    "experiment = 'wiki-science'\n",
    "indexer_name = f\"wiki_pages_index_{nbits}bits\"\n",
    "#os.environ['COLBERT_LOAD_TORCH_EXTENSION_VERBOSE'] = 'True'\n",
    "\n",
    "config = ColBERTConfig(\n",
    "    doc_maxlen=doc_maxlen,\n",
    "    nbits=nbits,\n",
    "    dim=dim\n",
    ")"
   ]
  },
  {
   "cell_type": "code",
   "execution_count": 24,
   "id": "8929ebb8-16bd-453d-bc47-175248a0a010",
   "metadata": {
    "tags": []
   },
   "outputs": [
    {
     "name": "stdout",
     "output_type": "stream",
     "text": [
      "[Aug 29, 15:01:33] #> Loading collection...\n",
      "0M \n",
      "[Aug 29, 15:01:34] #> Loading codec...\n",
      "[Aug 29, 15:01:34] #> Loading IVF...\n",
      "[Aug 29, 15:01:34] #> Loading doclens...\n"
     ]
    },
    {
     "name": "stderr",
     "output_type": "stream",
     "text": [
      "100%|██████████| 9/9 [00:00<00:00, 2510.22it/s]"
     ]
    },
    {
     "name": "stdout",
     "output_type": "stream",
     "text": [
      "[Aug 29, 15:01:34] #> Loading codes and residuals...\n"
     ]
    },
    {
     "name": "stderr",
     "output_type": "stream",
     "text": [
      "\n",
      "100%|██████████| 9/9 [00:00<00:00, 17.03it/s]\n",
      "100%|██████████| 15000/15000 [01:01<00:00, 242.27it/s]\n"
     ]
    }
   ],
   "source": [
    "with Run().context(RunConfig(nranks=1, experiment=experiment)):\n",
    "    searcher = Searcher(index=indexer_name, config=config)\n",
    "    ranking = searcher.search_all(c_queries, k=n_results_per_question)"
   ]
  },
  {
   "cell_type": "code",
   "execution_count": null,
   "id": "5ef0008d-09c3-4b9c-b858-6ff6e42fe9ed",
   "metadata": {
    "tags": []
   },
   "outputs": [],
   "source": [
    "wiki_passages = pl.read_parquet('./data/wiki_passages.parquet')\n",
    "wiki_passages.columns"
   ]
  },
  {
   "cell_type": "code",
   "execution_count": 28,
   "id": "f0633436-9752-43fb-b097-b73ed7b82009",
   "metadata": {
    "tags": []
   },
   "outputs": [
    {
     "data": {
      "text/html": [
       "<div><style>\n",
       ".dataframe > thead > tr > th,\n",
       ".dataframe > tbody > tr > td {\n",
       "  text-align: right;\n",
       "}\n",
       "</style>\n",
       "<small>shape: (15_000, 8)</small><table border=\"1\" class=\"dataframe\"><thead><tr><th>prompt</th><th>A</th><th>B</th><th>C</th><th>D</th><th>E</th><th>answer</th><th>colbert_passage_id</th></tr><tr><td>str</td><td>str</td><td>str</td><td>str</td><td>str</td><td>str</td><td>str</td><td>i64</td></tr></thead><tbody><tr><td>&quot;Who was respon…</td><td>&quot;Territorial br…</td><td>&quot;First line div…</td><td>&quot;Training Reser…</td><td>&quot;Second line di…</td><td>&quot;British home a…</td><td>&quot;C&quot;</td><td>80380</td></tr><tr><td>&quot;What film earn…</td><td>&quot;Rakshit Shetty…</td><td>&quot;Nam Areal Ondi…</td><td>&quot;Ulidavaru Kand…</td><td>&quot;The informatio…</td><td>&quot;Simple Agi Ond…</td><td>&quot;C&quot;</td><td>41971</td></tr><tr><td>&quot;What is the po…</td><td>&quot;Maklavan has a…</td><td>&quot;Maklavan has a…</td><td>&quot;Maklavan has a…</td><td>&quot;Maklavan has a…</td><td>&quot;Maklavan has a…</td><td>&quot;E&quot;</td><td>41493</td></tr><tr><td>&quot;What was the s…</td><td>&quot;$90,000&quot;</td><td>&quot;$120,000&quot;</td><td>&quot;$85,000&quot;</td><td>&quot;$100,000&quot;</td><td>&quot;$75,000&quot;</td><td>&quot;D&quot;</td><td>129433</td></tr><tr><td>&quot;What books has…</td><td>&quot;Books about Th…</td><td>&quot;Books about Th…</td><td>&quot;Books about Th…</td><td>&quot;Books about Th…</td><td>&quot;Books about Th…</td><td>&quot;A&quot;</td><td>131242</td></tr><tr><td>&quot;Who was awarde…</td><td>&quot;Walter Eric Th…</td><td>&quot;Arthur Campbel…</td><td>&quot;None of the ab…</td><td>&quot;Thomas James Y…</td><td>&quot;John Henry Wen…</td><td>&quot;E&quot;</td><td>6726</td></tr><tr><td>&quot;Which disorder…</td><td>&quot;Cryofibrinogen…</td><td>&quot;Thrombocytopen…</td><td>&quot;Von Willebrand…</td><td>&quot;Hemophilia A&quot;</td><td>&quot;Congenital hyp…</td><td>&quot;A&quot;</td><td>108087</td></tr><tr><td>&quot;According to D…</td><td>&quot;Liantinis sugg…</td><td>&quot;Liantinis sugg…</td><td>&quot;Liantinis sugg…</td><td>&quot;Liantinis sugg…</td><td>&quot;Liantinis sugg…</td><td>&quot;B&quot;</td><td>33229</td></tr><tr><td>&quot;What is a key …</td><td>&quot;It has the fir…</td><td>&quot;It was found t…</td><td>&quot;It was designe…</td><td>&quot;It arrived at …</td><td>&quot;It has a mediu…</td><td>&quot;A&quot;</td><td>54974</td></tr><tr><td>&quot;Which language…</td><td>&quot;German&quot;</td><td>&quot;English&quot;</td><td>&quot;Italian&quot;</td><td>&quot;Spanish&quot;</td><td>&quot;French&quot;</td><td>&quot;B&quot;</td><td>130844</td></tr><tr><td>&quot;What happened …</td><td>&quot;Tarun Tejpal w…</td><td>&quot;Tarun Tejpal c…</td><td>&quot;Tarun Tejpal d…</td><td>&quot;Tarun Tejpal w…</td><td>&quot;Tarun Tejpal r…</td><td>&quot;E&quot;</td><td>8302</td></tr><tr><td>&quot;Which golfer a…</td><td>&quot;Lorena Ochoa&quot;</td><td>&quot;None of the ab…</td><td>&quot;Inbee Park&quot;</td><td>&quot;Babe Zaharias&quot;</td><td>&quot;A different go…</td><td>&quot;C&quot;</td><td>45848</td></tr><tr><td>&hellip;</td><td>&hellip;</td><td>&hellip;</td><td>&hellip;</td><td>&hellip;</td><td>&hellip;</td><td>&hellip;</td><td>&hellip;</td></tr><tr><td>&quot;What was the o…</td><td>&quot;11-year-aged, …</td><td>&quot;Private label …</td><td>&quot;Serving the ne…</td><td>&quot;Distributing t…</td><td>&quot;Wine and spiri…</td><td>&quot;A&quot;</td><td>68644</td></tr><tr><td>&quot;What is the hi…</td><td>&quot;It is now comm…</td><td>&quot;It emerged fro…</td><td>&quot;It started as …</td><td>&quot;It was establi…</td><td>&quot;It was origina…</td><td>&quot;D&quot;</td><td>116172</td></tr><tr><td>&quot;How was Joshua…</td><td>&quot;Joshua Morriss…</td><td>&quot;Joshua Morriss…</td><td>&quot;The informatio…</td><td>&quot;Joshua Morriss…</td><td>&quot;Joshua Morriss…</td><td>&quot;D&quot;</td><td>1866</td></tr><tr><td>&quot;In Biomotor Un…</td><td>&quot;To earn money …</td><td>&quot;To solve intri…</td><td>&quot;To collect res…</td><td>&quot;To build a pow…</td><td>&quot;To navigate th…</td><td>&quot;A&quot;</td><td>7204</td></tr><tr><td>&quot;What act of co…</td><td>&quot;The establishm…</td><td>&quot;The commission…</td><td>&quot;The constructi…</td><td>&quot;The unveiling …</td><td>&quot;The creation o…</td><td>&quot;D&quot;</td><td>183199</td></tr><tr><td>&quot;Who was Willia…</td><td>&quot;A Spanish play…</td><td>&quot;An American pl…</td><td>&quot;A French playw…</td><td>&quot;An English pla…</td><td>&quot;An Italian pla…</td><td>&quot;D&quot;</td><td>39301</td></tr><tr><td>&quot;What is the Ne…</td><td>&quot;The Neiwan The…</td><td>&quot;The Neiwan The…</td><td>&quot;The Neiwan The…</td><td>&quot;The Neiwan The…</td><td>&quot;The Neiwan The…</td><td>&quot;B&quot;</td><td>52498</td></tr><tr><td>&quot;According to G…</td><td>&quot;The new maniac…</td><td>&quot;The map design…</td><td>&quot;The action and…</td><td>&quot;The storyline …</td><td>&quot;The psychopath…</td><td>&quot;B&quot;</td><td>44648</td></tr><tr><td>&quot;What did Alex …</td><td>&quot;Alex Kempkens …</td><td>&quot;Couples walkin…</td><td>&quot;Czech climber …</td><td>&quot;Tanks and marc…</td><td>&quot;Young soldiers…</td><td>&quot;E&quot;</td><td>47144</td></tr><tr><td>&quot;What was the c…</td><td>&quot;The penumbral …</td><td>&quot;The penumbral …</td><td>&quot;The penumbral …</td><td>&quot;The penumbral …</td><td>&quot;The penumbral …</td><td>&quot;C&quot;</td><td>43808</td></tr><tr><td>&quot;What is Bobris…</td><td>&quot;Bobrisky is a …</td><td>&quot;Bobrisky gaine…</td><td>&quot;Bobrisky is kn…</td><td>&quot;Bobrisky is an…</td><td>&quot;Bobrisky is a …</td><td>&quot;C&quot;</td><td>15268</td></tr><tr><td>&quot;Where is Georg…</td><td>&quot;Georgsmarienhü…</td><td>&quot;Georgsmarienhü…</td><td>&quot;Georgsmarienhü…</td><td>&quot;Georgsmarienhü…</td><td>&quot;Georgsmarienhü…</td><td>&quot;B&quot;</td><td>28802</td></tr></tbody></table></div>"
      ],
      "text/plain": [
       "shape: (15_000, 8)\n",
       "┌────────────┬────────────┬────────────┬────────────┬────────────┬────────────┬────────┬───────────┐\n",
       "│ prompt     ┆ A          ┆ B          ┆ C          ┆ D          ┆ E          ┆ answer ┆ colbert_p │\n",
       "│ ---        ┆ ---        ┆ ---        ┆ ---        ┆ ---        ┆ ---        ┆ ---    ┆ assage_id │\n",
       "│ str        ┆ str        ┆ str        ┆ str        ┆ str        ┆ str        ┆ str    ┆ ---       │\n",
       "│            ┆            ┆            ┆            ┆            ┆            ┆        ┆ i64       │\n",
       "╞════════════╪════════════╪════════════╪════════════╪════════════╪════════════╪════════╪═══════════╡\n",
       "│ Who was    ┆ Territoria ┆ First line ┆ Training   ┆ Second     ┆ British    ┆ C      ┆ 80380     │\n",
       "│ responsibl ┆ l brigades ┆ divisions  ┆ Reserve    ┆ line       ┆ home army  ┆        ┆           │\n",
       "│ e for the  ┆            ┆            ┆            ┆ divisions  ┆            ┆        ┆           │\n",
       "│ reor…      ┆            ┆            ┆            ┆            ┆            ┆        ┆           │\n",
       "│ What film  ┆ Rakshit    ┆ Nam Areal  ┆ Ulidavaru  ┆ The inform ┆ Simple Agi ┆ C      ┆ 41971     │\n",
       "│ earned     ┆ Shetty did ┆ Ondina     ┆ Kandanthe  ┆ ation is   ┆ Ondh Love  ┆        ┆           │\n",
       "│ Rakshit    ┆ not win    ┆            ┆            ┆ not        ┆ Story      ┆        ┆           │\n",
       "│ Shetty …   ┆ the K…     ┆            ┆            ┆ provided … ┆            ┆        ┆           │\n",
       "│ What is    ┆ Maklavan   ┆ Maklavan   ┆ Maklavan   ┆ Maklavan   ┆ Maklavan   ┆ E      ┆ 41493     │\n",
       "│ the        ┆ has a      ┆ has a      ┆ has a      ┆ has a      ┆ has a      ┆        ┆           │\n",
       "│ population ┆ population ┆ population ┆ population ┆ population ┆ population ┆        ┆           │\n",
       "│ of Maklav… ┆ of 5,0…    ┆ of 1,5…    ┆ of 2,8…    ┆ of 3,8…    ┆ of 2,1…    ┆        ┆           │\n",
       "│ What was   ┆ $90,000    ┆ $120,000   ┆ $85,000    ┆ $100,000   ┆ $75,000    ┆ D      ┆ 129433    │\n",
       "│ the stud   ┆            ┆            ┆            ┆            ┆            ┆        ┆           │\n",
       "│ fee for    ┆            ┆            ┆            ┆            ┆            ┆        ┆           │\n",
       "│ Empire…    ┆            ┆            ┆            ┆            ┆            ┆        ┆           │\n",
       "│ …          ┆ …          ┆ …          ┆ …          ┆ …          ┆ …          ┆ …      ┆ …         │\n",
       "│ What did   ┆ Alex       ┆ Couples    ┆ Czech      ┆ Tanks and  ┆ Young      ┆ E      ┆ 47144     │\n",
       "│ Alex       ┆ Kempkens   ┆ walking    ┆ climber    ┆ marching   ┆ soldiers   ┆        ┆           │\n",
       "│ Kempkens   ┆ did not    ┆ together   ┆ friends he ┆ soldiers.  ┆ as Blues   ┆        ┆           │\n",
       "│ photograp… ┆ take any   ┆ in the …   ┆ had met…   ┆            ┆ players.   ┆        ┆           │\n",
       "│            ┆ p…         ┆            ┆            ┆            ┆            ┆        ┆           │\n",
       "│ What was   ┆ The        ┆ The        ┆ The        ┆ The        ┆ The        ┆ C      ┆ 43808     │\n",
       "│ the contro ┆ penumbral  ┆ penumbral  ┆ penumbral  ┆ penumbral  ┆ penumbral  ┆        ┆           │\n",
       "│ versy      ┆ lunar      ┆ lunar      ┆ lunar      ┆ lunar      ┆ lunar      ┆        ┆           │\n",
       "│ surroun…   ┆ eclipse    ┆ eclipse    ┆ eclipse    ┆ eclipse    ┆ eclipse    ┆        ┆           │\n",
       "│            ┆ was …      ┆ occu…      ┆ was …      ┆ was …      ┆ was …      ┆        ┆           │\n",
       "│ What is    ┆ Bobrisky   ┆ Bobrisky   ┆ Bobrisky   ┆ Bobrisky   ┆ Bobrisky   ┆ C      ┆ 15268     │\n",
       "│ Bobrisky   ┆ is a       ┆ gained     ┆ is known   ┆ is an      ┆ is a       ┆        ┆           │\n",
       "│ primarily  ┆ fitness    ┆ popularity ┆ for her    ┆ activist   ┆ fashion    ┆        ┆           │\n",
       "│ known…     ┆ blogger,   ┆ on Ti…     ┆ dance …    ┆ promotin…  ┆ influencer ┆        ┆           │\n",
       "│            ┆ s…         ┆            ┆            ┆            ┆ …          ┆        ┆           │\n",
       "│ Where is   ┆ Georgsmari ┆ Georgsmari ┆ Georgsmari ┆ Georgsmari ┆ Georgsmari ┆ B      ┆ 28802     │\n",
       "│ Georgsmari ┆ enhütte is ┆ enhütte is ┆ enhütte is ┆ enhütte is ┆ enhütte is ┆        ┆           │\n",
       "│ enhütte    ┆ a town in  ┆ a town in  ┆ a town in  ┆ a town in  ┆ a town in  ┆        ┆           │\n",
       "│ locat…     ┆ t…         ┆ t…         ┆ t…         ┆ t…         ┆ t…         ┆        ┆           │\n",
       "└────────────┴────────────┴────────────┴────────────┴────────────┴────────────┴────────┴───────────┘"
      ]
     },
     "execution_count": 28,
     "metadata": {},
     "output_type": "execute_result"
    }
   ],
   "source": [
    "colbert_passage_ids = pl.Series([tup[1] for tup in ranking.flat_ranking])\n",
    "with_passage = osmulski.with_columns(colbert_passage_id=colbert_passage_ids)\n",
    "with_passage with_passage.join(wiki_passages['passage_id', '], how='left', on='passage_id')"
   ]
  },
  {
   "cell_type": "code",
   "execution_count": null,
   "id": "bc604466-e9d3-46a6-a11c-32913045c5d3",
   "metadata": {},
   "outputs": [],
   "source": [
    "test_cutoff = 14000\n",
    "df_train = osmulski[:test_cutoff]\n",
    "df_test_1 = osmulski[test_cutoff:]\n",
    "df_test_2 = pl.read_csv('data/osmulski_extra_train.csv')\n",
    "print(df_train.shape, df_test_1.shape, df_test_2.shape)"
   ]
  },
  {
   "cell_type": "code",
   "execution_count": 15,
   "id": "62ac41ab-9963-4c50-858c-3787c620073c",
   "metadata": {
    "tags": []
   },
   "outputs": [],
   "source": []
  },
  {
   "cell_type": "code",
   "execution_count": null,
   "id": "4d3c2f3a-dda9-4a7b-8529-b890f3480910",
   "metadata": {},
   "outputs": [],
   "source": [
    "ranking.flat_ranking"
   ]
  }
 ],
 "metadata": {
  "kernelspec": {
   "display_name": "Python [conda env:pytorch]",
   "language": "python",
   "name": "conda-env-pytorch-py"
  },
  "language_info": {
   "codemirror_mode": {
    "name": "ipython",
    "version": 3
   },
   "file_extension": ".py",
   "mimetype": "text/x-python",
   "name": "python",
   "nbconvert_exporter": "python",
   "pygments_lexer": "ipython3",
   "version": "3.8.17"
  }
 },
 "nbformat": 4,
 "nbformat_minor": 5
}
