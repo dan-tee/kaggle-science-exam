{
 "cells": [
  {
   "cell_type": "markdown",
   "id": "b84ed421-c478-4163-9ac6-190defda2e72",
   "metadata": {
    "tags": []
   },
   "source": [
    "# Train Colbert Context Ensemble"
   ]
  },
  {
   "cell_type": "code",
   "execution_count": 1,
   "id": "a05a1600-d54f-4f2d-8b59-088c824085f4",
   "metadata": {
    "tags": []
   },
   "outputs": [],
   "source": [
    "#pip install bitsandbytes"
   ]
  },
  {
   "cell_type": "code",
   "execution_count": 2,
   "id": "cf5baf1f-60bc-4822-9b1d-afcaf349900c",
   "metadata": {
    "tags": []
   },
   "outputs": [],
   "source": [
    "#!mamba uninstall bitsandbytes -c conda-forge -y"
   ]
  },
  {
   "cell_type": "code",
   "execution_count": 24,
   "id": "740d27c0-1b63-42c3-aafc-33ce1db7297a",
   "metadata": {
    "tags": []
   },
   "outputs": [],
   "source": [
    "import os\n",
    "project_name = \"Science Exam - Kaggle\"\n",
    "run_name = \"mix_prompt_for_ensemble_160\"\n",
    "\n",
    "config = {\n",
    "    'max_words': 100,\n",
    "    'nbits': 1,\n",
    "    'colbert_indexer_version': 6,\n",
    "    'hf_model_id': 'microsoft/deberta-v3-large',\n",
    "    'deberta_max_length': 512,\n",
    "    'large_train_deduped': False, # if this is True the individual ones below are skipped\n",
    "    'use_train_daniel': True,\n",
    "    'use_osmu_sci_6k': False,\n",
    "    'use_osmu_21k': False,\n",
    "    'use_mgoksu_13k': False,\n",
    "    'use_gigkpea_3k': False,\n",
    "    'n_extra_test_rows' : 300,\n",
    "    'lr_layer_factor': None, # set to an int to layer, None to not layer, need to be adapted to work with 8-bit Adam\n",
    "    'learning_rate': 1e-5,\n",
    "    'num_train_epochs': 1,\n",
    "    '8_bit_adam': True\n",
    "}\n",
    "\n",
    "from transformers import TrainingArguments, IntervalStrategy\n",
    "from pathlib import Path\n",
    "\n",
    "output_path = Path('./checkpoints')\n",
    "training_args = TrainingArguments(\n",
    "    learning_rate=config['learning_rate'],\n",
    "    num_train_epochs=config['num_train_epochs'],\n",
    "    # fp16=True,\n",
    "    # warmup_ratio=0.5,\n",
    "    weight_decay=0,\n",
    "    per_device_train_batch_size=8,\n",
    "    per_device_eval_batch_size=12,\n",
    "    gradient_accumulation_steps=4, # number of batches to sum up gradient for\n",
    "    gradient_checkpointing=True,\n",
    "    # optim='adafactor',\n",
    "    evaluation_strategy = IntervalStrategy.STEPS,\n",
    "    logging_steps=10,\n",
    "    eval_steps=100,\n",
    "    save_strategy='no',\n",
    "    # save_steps=20000,\n",
    "    report_to='wandb',\n",
    "    output_dir=str(output_path)\n",
    ")"
   ]
  },
  {
   "cell_type": "code",
   "execution_count": 25,
   "id": "343be254-a9b1-414a-a9b5-d33293bd0c97",
   "metadata": {
    "tags": []
   },
   "outputs": [],
   "source": [
    "os.environ['PYTORCH_CUDA_ALLOC_CONF'] = 'garbage_collection_threshold:0.6,max_split_size_mb:128'"
   ]
  },
  {
   "cell_type": "code",
   "execution_count": 5,
   "id": "97593488-22fb-401c-9a0e-e1c601b0fc21",
   "metadata": {
    "tags": []
   },
   "outputs": [],
   "source": [
    "import os\n",
    "import random\n",
    "import glob\n",
    "import math\n",
    "import gc\n",
    "import polars as pl\n",
    "import polars.selectors as cs\n",
    "import pandas as pd\n",
    "import pyarrow as pa\n",
    "import numpy as np\n",
    "import matplotlib.pyplot as plt\n",
    "import seaborn as sns\n",
    "from tqdm.notebook import tqdm\n",
    "from dataclasses import dataclass\n",
    "from typing import Optional, Union\n",
    "from scipy.special import softmax\n",
    "from functools import partial\n",
    "\n",
    "from colbert.infra import Run, RunConfig, ColBERTConfig\n",
    "from colbert.data import Queries\n",
    "from colbert import Indexer, Searcher\n",
    "\n",
    "import wandb\n",
    "\n",
    "import torch\n",
    "from torch import nn\n",
    "\n",
    "import evaluate\n",
    "from transformers import AutoTokenizer, AutoModelForMultipleChoice, Trainer, \\\n",
    "                        get_linear_schedule_with_warmup\n",
    "from transformers.integrations import WandbCallback\n",
    "from transformers.tokenization_utils_base import PreTrainedTokenizerBase, PaddingStrategy\n",
    "from transformers.utils.notebook import NotebookProgressCallback\n",
    "from transformers.trainer_pt_utils import get_parameter_names\n",
    "from datasets import Dataset # HuggingFace\n",
    "from torch.optim import AdamW\n",
    "from torch.optim.lr_scheduler import OneCycleLR\n",
    "\n",
    "import bitsandbytes as bnb"
   ]
  },
  {
   "cell_type": "code",
   "execution_count": 6,
   "id": "2d4d9e9e-81a7-4aab-8b01-4b9cbf4773db",
   "metadata": {
    "tags": []
   },
   "outputs": [],
   "source": [
    "pl.Config(fmt_str_lengths=2000);"
   ]
  },
  {
   "cell_type": "code",
   "execution_count": 7,
   "id": "60138f6d-28db-41bf-adcb-850c260e5a22",
   "metadata": {
    "tags": []
   },
   "outputs": [],
   "source": [
    "#!conda install -c conda-forge faiss-gpu -y"
   ]
  },
  {
   "cell_type": "code",
   "execution_count": 8,
   "id": "206053ff-2baa-487e-8226-2a0e664266e2",
   "metadata": {
    "tags": []
   },
   "outputs": [
    {
     "data": {
      "text/plain": [
       "'12,575'"
      ]
     },
     "execution_count": 8,
     "metadata": {},
     "output_type": "execute_result"
    }
   ],
   "source": [
    "n_extra_test = config['n_extra_test_rows']\n",
    "train_sets = []\n",
    "test_sets = {}\n",
    "\n",
    "test = pl.read_csv('data/train.csv')\n",
    "test = test.rename({'prompt': 'question'})\n",
    "test = test.drop(columns=\"id\")\n",
    "test_sets['test'] = test\n",
    "\n",
    "\n",
    "def read_training_files(file_paths, test_name):\n",
    "    if type(file_paths) == str:\n",
    "        file_paths = [file_paths]\n",
    "        \n",
    "    if file_paths[0].endswith('.parquet'):\n",
    "        train_raw = pl.concat(\n",
    "            [pl.read_parquet(file) for file in file_paths]\n",
    "        )\n",
    "    elif file_paths[0].endswith('.csv'):\n",
    "        train_raw = pl.concat(\n",
    "            [pl.read_csv(file) for file in file_paths]\n",
    "        )\n",
    "    \n",
    "    if 'prompt' in train_raw.columns:\n",
    "        train_raw = train_raw.rename({'prompt': 'question'})\n",
    "    train_cols = ['question', 'A', 'C', 'B', 'D', 'E', 'answer']\n",
    "    train_raw = train_raw[train_cols]\n",
    "    train_raw = train_raw.select(pl.all().fill_null('N/A'))\n",
    "    \n",
    "    test_split = train_raw[train_raw.shape[0] - n_extra_test:]\n",
    "    train = train_raw[:train_raw.shape[0] - n_extra_test]\n",
    "    \n",
    "    train_sets.append(train)\n",
    "    test_sets[test_name] = test_split\n",
    "\n",
    "if config['large_train_deduped']:\n",
    "    read_training_files('./data/large_train_deduped.parquet', 'combined')\n",
    "else:        \n",
    "    if config['use_train_daniel']:\n",
    "        read_training_files('./data/train_dedupe/daniel.parquet', 'daniel')\n",
    "\n",
    "    if config['use_osmu_sci_6k']:\n",
    "        read_training_files('./data/train_dedupe/osmu_sci_6k.parquet', 'osmu_sci_6k')\n",
    "    if config['use_osmu_21k']:\n",
    "        read_training_files([\n",
    "            './data/train_dedupe/osmu_15k.parquet',\n",
    "            './data/train_dedupe/osmu_5_9k.parquet'\n",
    "            ], 'osmu_21k')\n",
    "\n",
    "    if config['use_mgoksu_13k']:\n",
    "        read_training_files('./data/train_dedupe/mgoksu.parquet', 'mgoksu')\n",
    "\n",
    "    if config['use_gigkpea_3k']:\n",
    "        read_training_files('./data/train_dedupe/gigkpea.parquet', 'gigkpea')\n",
    "\n",
    "train = pl.concat(train_sets)\n",
    "f'{train.shape[0]:,}'"
   ]
  },
  {
   "cell_type": "markdown",
   "id": "bc4d7781-4310-4cfc-8ef3-9fc50ea3c4a4",
   "metadata": {
    "tags": []
   },
   "source": [
    "## Retrieve Wiki Context via ColBERT"
   ]
  },
  {
   "cell_type": "code",
   "execution_count": 9,
   "id": "7c8f318e-ba0a-4b2e-923e-51bf0d152e74",
   "metadata": {
    "tags": []
   },
   "outputs": [
    {
     "data": {
      "text/plain": [
       "['passage_id',\n",
       " 'section_id',\n",
       " 'title',\n",
       " 'section_title',\n",
       " 'section_index',\n",
       " 'passage_text',\n",
       " 'title_section_rank',\n",
       " 'section_passage_num',\n",
       " 'titled_passage',\n",
       " 'word_count']"
      ]
     },
     "execution_count": 9,
     "metadata": {},
     "output_type": "execute_result"
    }
   ],
   "source": [
    "max_words = config['max_words']\n",
    "nbits = config['nbits']\n",
    "colbert_indexer_version = config['colbert_indexer_version']\n",
    "colbert_path = Path(f'./data/colbert_max_words_{max_words}_nbits_{nbits}-v{colbert_indexer_version}')\n",
    "wiki_passages = pl.read_parquet(colbert_path/f'wiki_passages.parquet')\n",
    "wiki_passages.columns"
   ]
  },
  {
   "cell_type": "code",
   "execution_count": 10,
   "id": "4e420b8d-0936-4531-a8ff-be8ac44cdf1d",
   "metadata": {
    "tags": []
   },
   "outputs": [
    {
     "data": {
      "image/png": "[encoded data removed]",
      "text/plain": [
       "<Figure size 600x300 with 1 Axes>"
      ]
     },
     "metadata": {},
     "output_type": "display_data"
    }
   ],
   "source": [
    "word_counts = wiki_passages['titled_passage'].str.split(' ').list.lengths()\n",
    "word_counts.max()\n",
    "plt.figure(figsize=[6,3])\n",
    "sns.histplot(word_counts, binrange=[0, max_words + 50]);"
   ]
  },
  {
   "cell_type": "code",
   "execution_count": 11,
   "id": "086b8d15-7c58-4304-a61b-03ba85057199",
   "metadata": {
    "tags": []
   },
   "outputs": [
    {
     "data": {
      "image/png": "[encoded data removed]",
      "text/plain": [
       "<Figure size 600x300 with 1 Axes>"
      ]
     },
     "metadata": {},
     "output_type": "display_data"
    }
   ],
   "source": [
    "plt.figure(figsize=[6,3])\n",
    "sns.histplot(word_counts, binrange=[0, 150], bins=75)\n",
    "plt.title('Passages character length');"
   ]
  },
  {
   "cell_type": "code",
   "execution_count": 12,
   "id": "97bc9251-4b99-47be-bf46-02a8bb210b6c",
   "metadata": {
    "tags": []
   },
   "outputs": [],
   "source": [
    "n_results_per_question = 3\n",
    "\n",
    "#doc_maxlen = 160 # 512   # lenght in tokens\n",
    "#dim = 128 # 128 is max for BERT\n",
    "\n",
    "checkpoint = './checkpoints/colbertv2.0'\n",
    "\n",
    "indexer_name = f'colbert_wiki_indexer'\n",
    "#os.environ['COLBERT_LOAD_TORCH_EXTENSION_VERBOSE'] = 'True'\n",
    "\n",
    "colbert_config = ColBERTConfig(\n",
    "    doc_maxlen=config['deberta_max_length'],\n",
    "    nbits=nbits,\n",
    "    query_maxlen=160\n",
    "    #dim=dim\n",
    ")"
   ]
  },
  {
   "cell_type": "code",
   "execution_count": 13,
   "id": "a03f59e8-5f99-44d5-ba14-4284c0e63cc1",
   "metadata": {
    "tags": []
   },
   "outputs": [],
   "source": [
    "a_to_e = ['A', 'B', 'C', 'D', 'E']\n",
    "score_col_prefix = 'answer_passage_score_'\n",
    "ctx_id_prefix = 'passage_id_'\n",
    "num_answer_ctx_cols = 2\n",
    "\n",
    "def add_answer_colbert_context(data, searcher):\n",
    "    for letter in a_to_e:\n",
    "        print(f'\\n{letter=}')\n",
    "        answer_queries = data.with_columns((pl.col('question') + ' ' + pl.col(letter)).str.replace_all('\\n', ' ').alias('q_and_a'))\n",
    "        answer_queries = answer_queries.with_row_count('qid')[['qid', 'q_and_a']]\n",
    "        \n",
    "        queries_file = './data/wiki_queries.tsv'\n",
    "        answer_queries.write_csv(queries_file, separator='\\t', has_header=False)\n",
    "\n",
    "        col_a_queries = Queries(queries_file)\n",
    "       \n",
    "        ranking = searcher.search_all(col_a_queries, k=n_results_per_question)\n",
    "        gc.collect()\n",
    "        torch.cuda.empty_cache()\n",
    "\n",
    "        ranking = pl.DataFrame([(id, tup_list) for id, tup_list in ranking.items()])\n",
    "        answer_passage_ids = [ranking['column_1'].list.get(i).list.get(0) for i in range(num_answer_ctx_cols)]\n",
    "        answer_scores = [ranking['column_1'].list.get(i).list.get(2) for i in range(num_answer_ctx_cols)]\n",
    "        \n",
    "        for i in range(num_answer_ctx_cols): \n",
    "            id_col_name = f'{ctx_id_prefix}{letter}_{i+1}'\n",
    "            score_col_name = f'{score_col_prefix}{letter}_{i+1}'\n",
    "            data = data.with_columns(**{\n",
    "                id_col_name: answer_passage_ids[i].cast(pl.UInt32),\n",
    "                score_col_name: answer_scores[i]\n",
    "            })\n",
    "\n",
    "            passages = wiki_passages[['passage_id', 'titled_passage']]\n",
    "            data = data.join(passages, how='left', left_on=id_col_name, right_on='passage_id', validate='m:1', suffix=f'_{letter}_{i+1}')\n",
    "    \n",
    "    # if the job above already created the a colum titled passage, the first one will already be called titled_passage_A2\n",
    "    if 'titled_passage_A' not in data.columns:\n",
    "        data = data.rename({'titled_passage': 'titled_passage_A_1'})\n",
    "    return data\n",
    "    \n",
    "    \n",
    "# TODO make it possible to use answer context for multiple letters\n",
    "def add_best_answers(data, add_second_best):\n",
    "    best_answer_matches = []\n",
    "    second_answer_context = []\n",
    "    best_answer_letters = []\n",
    "    best_answer_ids = []\n",
    "    second_answer_ids = []\n",
    "    highscores = []\n",
    "    for row in data.iter_rows(named=True):\n",
    "        highest_score = 0\n",
    "        highscore_letter = None\n",
    "        best_answer_id = None\n",
    "        for letter in a_to_e:\n",
    "            score_col_name = f'{score_col_prefix}{letter}_1'\n",
    "            if row[score_col_name] > highest_score:\n",
    "                highest_score = row[score_col_name]\n",
    "                highscore_letter = letter\n",
    "                best_answer_id = row[f'{ctx_id_prefix}{letter}_1']\n",
    "        \n",
    "        if add_second_best:\n",
    "            second_score = 0\n",
    "            second_letter = None\n",
    "            second_num = None\n",
    "            second_answer_id = None\n",
    "            # print(highscore_letter, best_answer_id)\n",
    "            for letter in a_to_e:\n",
    "                for ctx_num in range(num_answer_ctx_cols):              \n",
    "                    if letter == highscore_letter and ctx_num == 0:\n",
    "                        continue\n",
    "                    score_col_name = f'{score_col_prefix}{letter}_{ctx_num+1}'\n",
    "                    current_ctx_id = row[f'{ctx_id_prefix}{letter}_{ctx_num+1}']\n",
    "                    # print(letter, ctx_num, current_ctx_id)\n",
    "                    if row[score_col_name] > second_score and current_ctx_id != best_answer_id:\n",
    "                        second_score = row[score_col_name]\n",
    "                        second_letter = letter\n",
    "                        second_num = ctx_num+1\n",
    "                        second_answer_id = row[f'{ctx_id_prefix}{letter}_{second_num}']\n",
    "\n",
    "        passage_col_name = f'titled_passage_{highscore_letter}_1'\n",
    "        best_answer_matches.append(row[passage_col_name])\n",
    "        best_answer_letters.append(highscore_letter)\n",
    "        highscores.append(highest_score)\n",
    "        best_answer_ids.append(best_answer_id)\n",
    "        if add_second_best:\n",
    "            passage_col_2_name = f'titled_passage_{second_letter}_{second_num}'\n",
    "            second_answer_context.append(row[passage_col_2_name])\n",
    "            second_answer_ids.append(second_answer_id)\n",
    "\n",
    "    return data.with_columns(best_answer_match=pl.Series(best_answer_matches),\n",
    "                             second_answer_context=pl.Series(second_answer_context),\n",
    "                             answer_score=pl.Series(highscores),\n",
    "                             best_answer_letter=pl.Series(best_answer_letters),\n",
    "                             best_answer_id=pl.Series(best_answer_ids),\n",
    "                             second_answer_id=pl.Series(second_answer_ids))"
   ]
  },
  {
   "cell_type": "code",
   "execution_count": 14,
   "id": "0140992d-28b6-4dcd-a36a-37edd337e223",
   "metadata": {
    "tags": []
   },
   "outputs": [],
   "source": [
    "def add_q_colbert_context(data, searcher):\n",
    "    num_ctx_cols = 1\n",
    "    queries = data.with_row_count('qid')[['qid', 'question']]\n",
    "    queries = queries.with_columns(pl.col('question').str.replace_all('\\n', ' ')) \n",
    "    queries_file = './data/wiki_queries.tsv'\n",
    "    queries.write_csv(queries_file, separator='\\t', has_header=False)\n",
    "\n",
    "    c_queries = Queries(queries_file)\n",
    "\n",
    "    ranking = searcher.search_all(c_queries, k=n_results_per_question)\n",
    "    torch.cuda.empty_cache()\n",
    "\n",
    "    ranking = pl.DataFrame([(id, tup_list) for id, tup_list in ranking.items()])\n",
    "    colbert_passage_ids = []\n",
    "    for row_idx in range(ranking.shape[0]):\n",
    "        for i in range(n_results_per_question):\n",
    "            passage_id = ranking[row_idx]['column_1'].list.get(i).list.get(0).cast(pl.UInt32).item()\n",
    "            if passage_id == data[row_idx, 'best_answer_id'] or \\\n",
    "                passage_id == data[row_idx, 'second_answer_id']:\n",
    "                if i < 2:\n",
    "                    continue\n",
    "                else:\n",
    "                    raise Exception('No unique passage_id found for question.')\n",
    "            else:\n",
    "                colbert_passage_ids.append(passage_id)\n",
    "                break     \n",
    "    \n",
    "    \n",
    "    passages = wiki_passages[['passage_id', 'titled_passage']]\n",
    "    data_p = data.with_columns(pl.Series('question_ctx_id', colbert_passage_ids, dtype=pl.UInt32))\n",
    "    for i in range(num_ctx_cols):\n",
    "        data_p = data_p.join(passages, how='left', left_on=f'question_ctx_id', right_on='passage_id', validate='m:1', suffix=f'_{i+1}')\n",
    "    data_p = data_p.rename({'titled_passage': 'question_ctx'}) \n",
    "    return data_p"
   ]
  },
  {
   "cell_type": "code",
   "execution_count": 15,
   "id": "5ef0008d-09c3-4b9c-b858-6ff6e42fe9ed",
   "metadata": {
    "tags": []
   },
   "outputs": [
    {
     "name": "stdout",
     "output_type": "stream",
     "text": [
      "[Oct 08, 16:37:55] #> Loading collection...\n",
      "0M 1M \n",
      "[Oct 08, 16:37:58] #> Loading codec...\n",
      "[Oct 08, 16:37:58] Loading decompress_residuals_cpp extension (set COLBERT_LOAD_TORCH_EXTENSION_VERBOSE=True for more info)...\n",
      "[Oct 08, 16:37:58] Loading packbits_cpp extension (set COLBERT_LOAD_TORCH_EXTENSION_VERBOSE=True for more info)...\n",
      "[Oct 08, 16:37:58] #> Loading IVF...\n",
      "[Oct 08, 16:37:58] #> Loading doclens...\n"
     ]
    },
    {
     "name": "stderr",
     "output_type": "stream",
     "text": [
      "100%|██████████| 57/57 [00:00<00:00, 2967.93it/s]"
     ]
    },
    {
     "name": "stdout",
     "output_type": "stream",
     "text": [
      "[Oct 08, 16:37:58] #> Loading codes and residuals...\n"
     ]
    },
    {
     "name": "stderr",
     "output_type": "stream",
     "text": [
      "\n",
      "100%|██████████| 57/57 [00:01<00:00, 55.95it/s]"
     ]
    },
    {
     "name": "stdout",
     "output_type": "stream",
     "text": [
      "\n",
      "letter='A'\n",
      "[Oct 08, 16:37:59] #> Loading the queries from ./data/wiki_queries.tsv ...\n",
      "[Oct 08, 16:37:59] #> Got 1258 queries. All QIDs are unique.\n",
      "\n"
     ]
    },
    {
     "name": "stderr",
     "output_type": "stream",
     "text": [
      "\n",
      "100%|██████████| 1258/1258 [00:31<00:00, 39.65it/s]\n"
     ]
    },
    {
     "name": "stdout",
     "output_type": "stream",
     "text": [
      "\n",
      "letter='B'\n",
      "[Oct 08, 16:38:32] #> Loading the queries from ./data/wiki_queries.tsv ...\n",
      "[Oct 08, 16:38:32] #> Got 1258 queries. All QIDs are unique.\n",
      "\n"
     ]
    },
    {
     "name": "stderr",
     "output_type": "stream",
     "text": [
      "100%|██████████| 1258/1258 [00:31<00:00, 40.30it/s]\n"
     ]
    },
    {
     "name": "stdout",
     "output_type": "stream",
     "text": [
      "\n",
      "letter='C'\n",
      "[Oct 08, 16:39:05] #> Loading the queries from ./data/wiki_queries.tsv ...\n",
      "[Oct 08, 16:39:05] #> Got 1258 queries. All QIDs are unique.\n",
      "\n"
     ]
    },
    {
     "name": "stderr",
     "output_type": "stream",
     "text": [
      "100%|██████████| 1258/1258 [00:31<00:00, 39.78it/s]\n"
     ]
    },
    {
     "name": "stdout",
     "output_type": "stream",
     "text": [
      "\n",
      "letter='D'\n",
      "[Oct 08, 16:39:38] #> Loading the queries from ./data/wiki_queries.tsv ...\n",
      "[Oct 08, 16:39:38] #> Got 1258 queries. All QIDs are unique.\n",
      "\n"
     ]
    },
    {
     "name": "stderr",
     "output_type": "stream",
     "text": [
      "100%|██████████| 1258/1258 [00:31<00:00, 39.89it/s]\n"
     ]
    },
    {
     "name": "stdout",
     "output_type": "stream",
     "text": [
      "\n",
      "letter='E'\n",
      "[Oct 08, 16:40:10] #> Loading the queries from ./data/wiki_queries.tsv ...\n",
      "[Oct 08, 16:40:10] #> Got 1258 queries. All QIDs are unique.\n",
      "\n"
     ]
    },
    {
     "name": "stderr",
     "output_type": "stream",
     "text": [
      "100%|██████████| 1258/1258 [00:31<00:00, 39.69it/s]\n"
     ]
    },
    {
     "name": "stdout",
     "output_type": "stream",
     "text": [
      "[Oct 08, 16:40:43] #> Loading the queries from ./data/wiki_queries.tsv ...\n",
      "[Oct 08, 16:40:43] #> Got 1258 queries. All QIDs are unique.\n",
      "\n"
     ]
    },
    {
     "name": "stderr",
     "output_type": "stream",
     "text": [
      "100%|██████████| 1258/1258 [00:12<00:00, 102.72it/s]\n"
     ]
    },
    {
     "name": "stdout",
     "output_type": "stream",
     "text": [
      "[Oct 08, 16:40:57] #> Loading collection...\n",
      "0M 1M \n",
      "[Oct 08, 16:41:00] #> Loading codec...\n",
      "[Oct 08, 16:41:00] #> Loading IVF...\n",
      "[Oct 08, 16:41:00] #> Loading doclens...\n"
     ]
    },
    {
     "name": "stderr",
     "output_type": "stream",
     "text": [
      "100%|██████████| 57/57 [00:00<00:00, 2799.41it/s]"
     ]
    },
    {
     "name": "stdout",
     "output_type": "stream",
     "text": [
      "[Oct 08, 16:41:00] #> Loading codes and residuals...\n"
     ]
    },
    {
     "name": "stderr",
     "output_type": "stream",
     "text": [
      "\n",
      "100%|██████████| 57/57 [00:00<00:00, 57.20it/s]"
     ]
    },
    {
     "name": "stdout",
     "output_type": "stream",
     "text": [
      "\n",
      "letter='A'\n",
      "[Oct 08, 16:41:01] #> Loading the queries from ./data/wiki_queries.tsv ...\n",
      "[Oct 08, 16:41:01] #> Got 200 queries. All QIDs are unique.\n",
      "\n"
     ]
    },
    {
     "name": "stderr",
     "output_type": "stream",
     "text": [
      "\n",
      "100%|██████████| 200/200 [00:05<00:00, 34.53it/s]\n"
     ]
    },
    {
     "name": "stdout",
     "output_type": "stream",
     "text": [
      "\n",
      "letter='B'\n",
      "[Oct 08, 16:41:08] #> Loading the queries from ./data/wiki_queries.tsv ...\n",
      "[Oct 08, 16:41:08] #> Got 200 queries. All QIDs are unique.\n",
      "\n"
     ]
    },
    {
     "name": "stderr",
     "output_type": "stream",
     "text": [
      "100%|██████████| 200/200 [00:05<00:00, 34.05it/s]\n"
     ]
    },
    {
     "name": "stdout",
     "output_type": "stream",
     "text": [
      "\n",
      "letter='C'\n",
      "[Oct 08, 16:41:14] #> Loading the queries from ./data/wiki_queries.tsv ...\n",
      "[Oct 08, 16:41:14] #> Got 200 queries. All QIDs are unique.\n",
      "\n"
     ]
    },
    {
     "name": "stderr",
     "output_type": "stream",
     "text": [
      "100%|██████████| 200/200 [00:05<00:00, 33.66it/s]\n"
     ]
    },
    {
     "name": "stdout",
     "output_type": "stream",
     "text": [
      "\n",
      "letter='D'\n",
      "[Oct 08, 16:41:21] #> Loading the queries from ./data/wiki_queries.tsv ...\n",
      "[Oct 08, 16:41:21] #> Got 200 queries. All QIDs are unique.\n",
      "\n"
     ]
    },
    {
     "name": "stderr",
     "output_type": "stream",
     "text": [
      "100%|██████████| 200/200 [00:05<00:00, 34.16it/s]\n"
     ]
    },
    {
     "name": "stdout",
     "output_type": "stream",
     "text": [
      "\n",
      "letter='E'\n",
      "[Oct 08, 16:41:27] #> Loading the queries from ./data/wiki_queries.tsv ...\n",
      "[Oct 08, 16:41:27] #> Got 200 queries. All QIDs are unique.\n",
      "\n"
     ]
    },
    {
     "name": "stderr",
     "output_type": "stream",
     "text": [
      "100%|██████████| 200/200 [00:06<00:00, 32.90it/s]\n"
     ]
    },
    {
     "name": "stdout",
     "output_type": "stream",
     "text": [
      "[Oct 08, 16:41:34] #> Loading the queries from ./data/wiki_queries.tsv ...\n",
      "[Oct 08, 16:41:34] #> Got 200 queries. All QIDs are unique.\n",
      "\n"
     ]
    },
    {
     "name": "stderr",
     "output_type": "stream",
     "text": [
      "100%|██████████| 200/200 [00:02<00:00, 98.34it/s] \n"
     ]
    },
    {
     "name": "stdout",
     "output_type": "stream",
     "text": [
      "[Oct 08, 16:41:36] #> Loading collection...\n",
      "0M 1M \n",
      "[Oct 08, 16:41:39] #> Loading codec...\n",
      "[Oct 08, 16:41:39] #> Loading IVF...\n",
      "[Oct 08, 16:41:39] #> Loading doclens...\n"
     ]
    },
    {
     "name": "stderr",
     "output_type": "stream",
     "text": [
      "100%|██████████| 57/57 [00:00<00:00, 2747.71it/s]"
     ]
    },
    {
     "name": "stdout",
     "output_type": "stream",
     "text": [
      "[Oct 08, 16:41:39] #> Loading codes and residuals...\n"
     ]
    },
    {
     "name": "stderr",
     "output_type": "stream",
     "text": [
      "\n",
      "100%|██████████| 57/57 [00:00<00:00, 57.69it/s]"
     ]
    },
    {
     "name": "stdout",
     "output_type": "stream",
     "text": [
      "\n",
      "letter='A'\n",
      "[Oct 08, 16:41:40] #> Loading the queries from ./data/wiki_queries.tsv ...\n",
      "[Oct 08, 16:41:40] #> Got 300 queries. All QIDs are unique.\n",
      "\n"
     ]
    },
    {
     "name": "stderr",
     "output_type": "stream",
     "text": [
      "\n",
      "100%|██████████| 300/300 [00:07<00:00, 40.75it/s]\n"
     ]
    },
    {
     "name": "stdout",
     "output_type": "stream",
     "text": [
      "\n",
      "letter='B'\n",
      "[Oct 08, 16:41:48] #> Loading the queries from ./data/wiki_queries.tsv ...\n",
      "[Oct 08, 16:41:48] #> Got 300 queries. All QIDs are unique.\n",
      "\n"
     ]
    },
    {
     "name": "stderr",
     "output_type": "stream",
     "text": [
      "100%|██████████| 300/300 [00:07<00:00, 40.35it/s]\n"
     ]
    },
    {
     "name": "stdout",
     "output_type": "stream",
     "text": [
      "\n",
      "letter='C'\n",
      "[Oct 08, 16:41:57] #> Loading the queries from ./data/wiki_queries.tsv ...\n",
      "[Oct 08, 16:41:57] #> Got 300 queries. All QIDs are unique.\n",
      "\n"
     ]
    },
    {
     "name": "stderr",
     "output_type": "stream",
     "text": [
      "100%|██████████| 300/300 [00:07<00:00, 39.20it/s]\n"
     ]
    },
    {
     "name": "stdout",
     "output_type": "stream",
     "text": [
      "\n",
      "letter='D'\n",
      "[Oct 08, 16:42:05] #> Loading the queries from ./data/wiki_queries.tsv ...\n",
      "[Oct 08, 16:42:05] #> Got 300 queries. All QIDs are unique.\n",
      "\n"
     ]
    },
    {
     "name": "stderr",
     "output_type": "stream",
     "text": [
      "100%|██████████| 300/300 [00:07<00:00, 41.15it/s]\n"
     ]
    },
    {
     "name": "stdout",
     "output_type": "stream",
     "text": [
      "\n",
      "letter='E'\n",
      "[Oct 08, 16:42:13] #> Loading the queries from ./data/wiki_queries.tsv ...\n",
      "[Oct 08, 16:42:13] #> Got 300 queries. All QIDs are unique.\n",
      "\n"
     ]
    },
    {
     "name": "stderr",
     "output_type": "stream",
     "text": [
      "100%|██████████| 300/300 [00:07<00:00, 39.88it/s]\n"
     ]
    },
    {
     "name": "stdout",
     "output_type": "stream",
     "text": [
      "[Oct 08, 16:42:21] #> Loading the queries from ./data/wiki_queries.tsv ...\n",
      "[Oct 08, 16:42:21] #> Got 300 queries. All QIDs are unique.\n",
      "\n"
     ]
    },
    {
     "name": "stderr",
     "output_type": "stream",
     "text": [
      "100%|██████████| 300/300 [00:03<00:00, 94.72it/s] \n"
     ]
    }
   ],
   "source": [
    "rerun = False\n",
    "\n",
    "enriched_cache_path = Path(f\"./data/qa_context_{max_words}_v_{config['colbert_indexer_version']}\")\n",
    "os.makedirs(enriched_cache_path, exist_ok=True)\n",
    "\n",
    "\n",
    "def create_or_get_searcher(searcher):\n",
    "    if searcher is None:\n",
    "        searcher = Searcher(index=indexer_name, \n",
    "                            config=colbert_config,\n",
    "                            collection=str(colbert_path/f'wiki_passages.tsv'))\n",
    "    return searcher\n",
    "\n",
    "def cached_add_q_colbert_context(data, file_name):\n",
    "    file_path = enriched_cache_path/f'{file_name}.parquet'\n",
    "    searcher = None\n",
    "    if file_path.exists() and not rerun:\n",
    "        return pl.read_parquet(file_path)\n",
    "    else:   \n",
    "        searcher = create_or_get_searcher(searcher)\n",
    "        with_context = data\n",
    "        with_context = add_answer_colbert_context(with_context, searcher)\n",
    "        with_context = add_best_answers(with_context, add_second_best=True)\n",
    "        with_context.write_parquet('./data/with_context_temp.parquet')\n",
    "        with_context = add_q_colbert_context(with_context, searcher)\n",
    "        with_context.write_parquet(file_path)\n",
    "        return with_context\n",
    "    \n",
    "\n",
    "train_file_name = f\"train_d_{config['use_train_daniel']}_o21_{config['use_osmu_21k']}\\\n",
    "_osci_{config['use_osmu_sci_6k']}_mgoksu_{config['use_mgoksu_13k']}_gigkpea_{config['use_gigkpea_3k']}\"\n",
    "\n",
    "with Run().context(RunConfig(nranks=1, index_root=str(colbert_path))):  \n",
    "    n_splits = 10\n",
    "    step = math.ceil(train.shape[0] / n_splits)\n",
    "    train_splits = []\n",
    "    for i in range(0, train.shape[0], step):\n",
    "        train_splits.append(train[i:i+step])\n",
    "    assert train.shape[0] == pl.Series([train_chunk.shape[0] for train_chunk in train_splits]).sum()\n",
    "    \n",
    "    train_ctx = []\n",
    "    for train_chunk in train_splits:\n",
    "         train_ctx.append(cached_add_q_colbert_context(train_chunk, train_file_name))\n",
    "    train_ctx = pl.concat(train_ctx)\n",
    "\n",
    "    test_sets_ctx = {}\n",
    "    for name, data in test_sets.items():\n",
    "        test_sets_ctx[name] = cached_add_q_colbert_context(data, name)"
   ]
  },
  {
   "cell_type": "code",
   "execution_count": 16,
   "id": "45407120-ba68-45cc-9d45-7825d6c4d08a",
   "metadata": {
    "tags": []
   },
   "outputs": [],
   "source": [
    "# test_osmu_p['passage_text'].str.split(' ').list.lengths().max()"
   ]
  },
  {
   "cell_type": "markdown",
   "id": "f4f23d30-37e3-4cb6-9b19-bc929f86af41",
   "metadata": {},
   "source": [
    "## Prepare Train and Test for DeBERTa"
   ]
  },
  {
   "cell_type": "code",
   "execution_count": 17,
   "id": "e24fff00-e749-4daf-82c2-a10fbf3d1ae0",
   "metadata": {
    "tags": []
   },
   "outputs": [
    {
     "name": "stderr",
     "output_type": "stream",
     "text": [
      "Special tokens have been added in the vocabulary, make sure the associated word embeddings are fine-tuned or trained.\n",
      "/home/daniel/mambaforge/envs/pytorch/lib/python3.11/site-packages/transformers/convert_slow_tokenizer.py:473: UserWarning: The sentencepiece tokenizer that you are converting to a fast tokenizer uses the byte fallback option which is not implemented in the fast tokenizers. In practice this means that the fast version of the tokenizer can produce unknown tokens whereas the sentencepiece version would have converted these unknown tokens into a sequence of byte tokens matching the original piece of text.\n",
      "  warnings.warn(\n",
      "Special tokens have been added in the vocabulary, make sure the associated word embeddings are fine-tuned or trained.\n"
     ]
    }
   ],
   "source": [
    "tokenizer = AutoTokenizer.from_pretrained(config['hf_model_id'])"
   ]
  },
  {
   "cell_type": "code",
   "execution_count": 18,
   "id": "62ac41ab-9963-4c50-858c-3787c620073c",
   "metadata": {
    "tags": []
   },
   "outputs": [],
   "source": [
    "max_length = config['deberta_max_length']\n",
    "\n",
    "option_to_index = {option: idx for idx, option in enumerate('ABCDE')}\n",
    "index_to_option = {v: k for k,v in option_to_index.items()}\n",
    "\n",
    "@dataclass\n",
    "class DataCollatorForMultipleChoice:\n",
    "    tokenizer: PreTrainedTokenizerBase\n",
    "    max_length: Optional[int] = None\n",
    "\n",
    "    \n",
    "    def __call__(self, input_batch):\n",
    "        # input_batch is list of samples, choices, tokens\n",
    "        additional_cols = set(input_batch[0].keys()) - set(['input_ids', 'token_type_ids', 'attention_mask', 'label'])\n",
    "        if len(additional_cols) > 0:\n",
    "            print(f'{additional_cols=}')\n",
    "        \n",
    "        label_name = None\n",
    "        if 'label' in input_batch[0].keys():\n",
    "            label_name = 'label' \n",
    "            labels = [feature.pop(label_name) for feature in input_batch]\n",
    "        batch_size = len(input_batch)\n",
    "        num_choices = len(input_batch[0]['input_ids'])\n",
    "        flattened_input = [\n",
    "            [{k: v[i] for k, v in sample.items()} for i in range(num_choices)] for sample in input_batch\n",
    "        ]\n",
    "        flattened_input = sum(flattened_input, [])\n",
    "        \n",
    "        batch = self.tokenizer.pad(\n",
    "            flattened_input,\n",
    "            padding='max_length',\n",
    "            max_length=self.max_length,\n",
    "            return_tensors='pt',\n",
    "        )\n",
    "        \n",
    "        # batch.shape = (n_samples, n_choices, n_tokens)\n",
    "        batch = {k: v.view(batch_size, num_choices, -1) for k, v in batch.items()}\n",
    "        if label_name is not None:\n",
    "            batch['labels'] = torch.tensor(labels, dtype=torch.int64)\n",
    "        #print(np.array(batch['input_ids']).shape)\n",
    "        return batch"
   ]
  },
  {
   "cell_type": "code",
   "execution_count": 19,
   "id": "59284fda-4ec7-4f75-aaae-84fa8b5e4385",
   "metadata": {
    "tags": []
   },
   "outputs": [],
   "source": [
    "def preprocess(example, ctx_col=None):\n",
    "    # adding the wikipedia page as context for the question by adding it after a [SEP] token to the question.\n",
    "#     first_sentence = [f\"\"\"{example['question']}\n",
    "# [SEP]{example['best_answer_match']}\n",
    "\n",
    "# [SEP]{example['question_ctx']}\n",
    "# \"\"\"] * 5\n",
    "# [SEP]{example['best_answer_letter']}\n",
    "    \n",
    "    if ctx_col is None:\n",
    "        rand = random.randint(0,1)\n",
    "        if rand == 0:\n",
    "            first_sentence = [f\"{example['best_answer_match']}\"] * 5\n",
    "        elif rand == 1:\n",
    "            first_sentence = [f\"{example['question_ctx']}\"] * 5\n",
    "        else:\n",
    "            raise Exception('Unexpected random number.')\n",
    "    else:\n",
    "        first_sentence = [f\"{example[ctx_col]}\"] * 5\n",
    "    \n",
    "    second_sentences = []\n",
    "    for option in 'ABCDE':\n",
    "        answer = example[option]\n",
    "        second_sentences.append(\" #### \" + example[\"question\"] + \" [SEP] \" + example[option])\n",
    "\n",
    "    try:\n",
    "        tokenized_example = tokenizer(first_sentence, second_sentences, truncation='only_first', max_length=max_length)\n",
    "    except:\n",
    "        print(first_sentence, second_sentences)\n",
    "        raise\n",
    "    if 'answer' in example.keys():\n",
    "        tokenized_example['label'] = option_to_index[example['answer']]\n",
    "    \n",
    "    return tokenized_example\n",
    "\n",
    "def tokenized_dataset(data, ctx_col=None):\n",
    "    columns_to_keep = set(['input_ids', 'token_type_ids', 'attention_mask', 'label'])\n",
    "    dataset = Dataset.from_pandas(data.to_pandas(), preserve_index=False)\n",
    "    col_to_remove = set(data.columns) - columns_to_keep\n",
    "    if ctx_col is not None:\n",
    "        f_process = partial(preprocess, ctx_col=ctx_col)\n",
    "    else:\n",
    "        f_process = preprocess\n",
    "    tokenized = dataset.map(f_process, remove_columns=col_to_remove)\n",
    "    return tokenized"
   ]
  },
  {
   "cell_type": "code",
   "execution_count": 20,
   "id": "89748f08-ce79-483f-a60f-157d7e41e43f",
   "metadata": {
    "tags": []
   },
   "outputs": [
    {
     "data": {
      "application/vnd.jupyter.widget-view+json": {
       "model_id": "4498e12c77b744e8aa3e9bd8b0503042",
       "version_major": 2,
       "version_minor": 0
      },
      "text/plain": [
       "Map:   0%|          | 0/12580 [00:00<?, ? examples/s]"
      ]
     },
     "metadata": {},
     "output_type": "display_data"
    },
    {
     "data": {
      "application/vnd.jupyter.widget-view+json": {
       "model_id": "2f973eb6132e47d99e3ea07f7e623d2c",
       "version_major": 2,
       "version_minor": 0
      },
      "text/plain": [
       "Map:   0%|          | 0/200 [00:00<?, ? examples/s]"
      ]
     },
     "metadata": {},
     "output_type": "display_data"
    },
    {
     "data": {
      "application/vnd.jupyter.widget-view+json": {
       "model_id": "61846735bafd48bfa00197c6bc34af53",
       "version_major": 2,
       "version_minor": 0
      },
      "text/plain": [
       "Map:   0%|          | 0/300 [00:00<?, ? examples/s]"
      ]
     },
     "metadata": {},
     "output_type": "display_data"
    }
   ],
   "source": [
    "tokenized_train = tokenized_dataset(train_ctx)\n",
    "eval_datasets = {}\n",
    "for name, data in test_sets_ctx.items():\n",
    "    eval_datasets[name] = tokenized_dataset(data)"
   ]
  },
  {
   "cell_type": "code",
   "execution_count": 21,
   "id": "f6b8390d-b1c8-4a19-9d2b-99131e0bda56",
   "metadata": {
    "tags": []
   },
   "outputs": [
    {
     "data": {
      "image/png": "[encoded data removed]",
      "text/plain": [
       "<Figure size 600x300 with 1 Axes>"
      ]
     },
     "metadata": {},
     "output_type": "display_data"
    }
   ],
   "source": [
    "def plot_length_hist(tokenized_data):\n",
    "    length_list = []\n",
    "    for sample in tokenized_data['input_ids']:\n",
    "        for option in sample:\n",
    "            length_list.append(len(option))\n",
    "\n",
    "    plt.figure(figsize=[6,3])\n",
    "    pd.Series(length_list).hist(bins=100)\n",
    "    \n",
    "plot_length_hist(tokenized_train)"
   ]
  },
  {
   "cell_type": "markdown",
   "id": "242a4727-fea3-4135-88dd-5b7e7fa0c473",
   "metadata": {
    "tags": []
   },
   "source": [
    "## Train DeBERTa"
   ]
  },
  {
   "cell_type": "code",
   "execution_count": 22,
   "id": "5cd72562-8f5c-42f2-a1a4-124e38c66ac4",
   "metadata": {
    "tags": []
   },
   "outputs": [],
   "source": [
    "def precision_at_k(predictions, actuals, k=3):        \n",
    "    if isinstance(actuals, list):\n",
    "        actuals = np.array(actuals)\n",
    "        \n",
    "    found_at = np.where(predictions == actuals.reshape(-1, 1))\n",
    "    # found_at is a tuple with the array of found indices in the second position\n",
    "    score = 1 / (1 + found_at[1])\n",
    "    score[score < 1/k] = 0\n",
    "    return score\n",
    "\n",
    "def mean_avg_precision_at_k(predictions, actual, k=3):\n",
    "    ''' :param np.array predictions: A 2-dim array with a row for each question.\n",
    "                                     A row looks like [0, 2, 4, 3, 1], translating to A is the top prediction, C the second one.\n",
    "        :param np.array actual: A 1-dim array with an integer 0-4 denoting the correct answer.\n",
    "    '''\n",
    "    n = predictions.shape[0]\n",
    "    row_precision = precision_at_k(predictions, actual)\n",
    "    return row_precision.sum()/n\n",
    "\n",
    "acc_metric = evaluate.load(\"accuracy\")\n",
    "def compute_metrics(eval_pred):\n",
    "    predictions, labels = eval_pred\n",
    "    predictions = np.flip(predictions.argsort(axis=1), axis=1)\n",
    "    accuracy = acc_metric.compute(predictions=predictions[:,0], references=labels)['accuracy']\n",
    "    map_at_3 = mean_avg_precision_at_k(predictions, labels)\n",
    "    return {\n",
    "        'accuracy': accuracy,\n",
    "        'map_at_3': round(map_at_3, 3)\n",
    "    }"
   ]
  },
  {
   "cell_type": "code",
   "execution_count": 23,
   "id": "29f2a1a5-1f9a-4c0a-9738-ce23c15c7f59",
   "metadata": {
    "tags": []
   },
   "outputs": [
    {
     "ename": "OSError",
     "evalue": "checkpoints/mix_prompt_for_ensemble_160 is not a local folder and is not a valid model identifier listed on 'https://huggingface.co/models'\nIf this is a private repository, make sure to pass a token having permission to this repo either by logging in with `huggingface-cli login` or by passing `token=<your_token>`",
     "output_type": "error",
     "traceback": [
      "\u001b[0;31m---------------------------------------------------------------------------\u001b[0m",
      "\u001b[0;31mHTTPError\u001b[0m                                 Traceback (most recent call last)",
      "File \u001b[0;32m~/mambaforge/envs/pytorch/lib/python3.11/site-packages/huggingface_hub/utils/_errors.py:261\u001b[0m, in \u001b[0;36mhf_raise_for_status\u001b[0;34m(response, endpoint_name)\u001b[0m\n\u001b[1;32m    260\u001b[0m \u001b[38;5;28;01mtry\u001b[39;00m:\n\u001b[0;32m--> 261\u001b[0m     response\u001b[38;5;241m.\u001b[39mraise_for_status()\n\u001b[1;32m    262\u001b[0m \u001b[38;5;28;01mexcept\u001b[39;00m HTTPError \u001b[38;5;28;01mas\u001b[39;00m e:\n",
      "File \u001b[0;32m~/mambaforge/envs/pytorch/lib/python3.11/site-packages/requests/models.py:1021\u001b[0m, in \u001b[0;36mResponse.raise_for_status\u001b[0;34m(self)\u001b[0m\n\u001b[1;32m   1020\u001b[0m \u001b[38;5;28;01mif\u001b[39;00m http_error_msg:\n\u001b[0;32m-> 1021\u001b[0m     \u001b[38;5;28;01mraise\u001b[39;00m HTTPError(http_error_msg, response\u001b[38;5;241m=\u001b[39m\u001b[38;5;28mself\u001b[39m)\n",
      "\u001b[0;31mHTTPError\u001b[0m: 404 Client Error: Not Found for url: https://huggingface.co/checkpoints/mix_prompt_for_ensemble_160/resolve/main/config.json",
      "\nThe above exception was the direct cause of the following exception:\n",
      "\u001b[0;31mRepositoryNotFoundError\u001b[0m                   Traceback (most recent call last)",
      "File \u001b[0;32m~/mambaforge/envs/pytorch/lib/python3.11/site-packages/transformers/utils/hub.py:429\u001b[0m, in \u001b[0;36mcached_file\u001b[0;34m(path_or_repo_id, filename, cache_dir, force_download, resume_download, proxies, token, revision, local_files_only, subfolder, repo_type, user_agent, _raise_exceptions_for_missing_entries, _raise_exceptions_for_connection_errors, _commit_hash, **deprecated_kwargs)\u001b[0m\n\u001b[1;32m    427\u001b[0m \u001b[38;5;28;01mtry\u001b[39;00m:\n\u001b[1;32m    428\u001b[0m     \u001b[38;5;66;03m# Load from URL or cache if already cached\u001b[39;00m\n\u001b[0;32m--> 429\u001b[0m     resolved_file \u001b[38;5;241m=\u001b[39m hf_hub_download(\n\u001b[1;32m    430\u001b[0m         path_or_repo_id,\n\u001b[1;32m    431\u001b[0m         filename,\n\u001b[1;32m    432\u001b[0m         subfolder\u001b[38;5;241m=\u001b[39m\u001b[38;5;28;01mNone\u001b[39;00m \u001b[38;5;28;01mif\u001b[39;00m \u001b[38;5;28mlen\u001b[39m(subfolder) \u001b[38;5;241m==\u001b[39m \u001b[38;5;241m0\u001b[39m \u001b[38;5;28;01melse\u001b[39;00m subfolder,\n\u001b[1;32m    433\u001b[0m         repo_type\u001b[38;5;241m=\u001b[39mrepo_type,\n\u001b[1;32m    434\u001b[0m         revision\u001b[38;5;241m=\u001b[39mrevision,\n\u001b[1;32m    435\u001b[0m         cache_dir\u001b[38;5;241m=\u001b[39mcache_dir,\n\u001b[1;32m    436\u001b[0m         user_agent\u001b[38;5;241m=\u001b[39muser_agent,\n\u001b[1;32m    437\u001b[0m         force_download\u001b[38;5;241m=\u001b[39mforce_download,\n\u001b[1;32m    438\u001b[0m         proxies\u001b[38;5;241m=\u001b[39mproxies,\n\u001b[1;32m    439\u001b[0m         resume_download\u001b[38;5;241m=\u001b[39mresume_download,\n\u001b[1;32m    440\u001b[0m         token\u001b[38;5;241m=\u001b[39mtoken,\n\u001b[1;32m    441\u001b[0m         local_files_only\u001b[38;5;241m=\u001b[39mlocal_files_only,\n\u001b[1;32m    442\u001b[0m     )\n\u001b[1;32m    443\u001b[0m \u001b[38;5;28;01mexcept\u001b[39;00m GatedRepoError \u001b[38;5;28;01mas\u001b[39;00m e:\n",
      "File \u001b[0;32m~/mambaforge/envs/pytorch/lib/python3.11/site-packages/huggingface_hub/utils/_validators.py:118\u001b[0m, in \u001b[0;36mvalidate_hf_hub_args.<locals>._inner_fn\u001b[0;34m(*args, **kwargs)\u001b[0m\n\u001b[1;32m    116\u001b[0m     kwargs \u001b[38;5;241m=\u001b[39m smoothly_deprecate_use_auth_token(fn_name\u001b[38;5;241m=\u001b[39mfn\u001b[38;5;241m.\u001b[39m\u001b[38;5;18m__name__\u001b[39m, has_token\u001b[38;5;241m=\u001b[39mhas_token, kwargs\u001b[38;5;241m=\u001b[39mkwargs)\n\u001b[0;32m--> 118\u001b[0m \u001b[38;5;28;01mreturn\u001b[39;00m fn(\u001b[38;5;241m*\u001b[39margs, \u001b[38;5;241m*\u001b[39m\u001b[38;5;241m*\u001b[39mkwargs)\n",
      "File \u001b[0;32m~/mambaforge/envs/pytorch/lib/python3.11/site-packages/huggingface_hub/file_download.py:1346\u001b[0m, in \u001b[0;36mhf_hub_download\u001b[0;34m(repo_id, filename, subfolder, repo_type, revision, endpoint, library_name, library_version, cache_dir, local_dir, local_dir_use_symlinks, user_agent, force_download, force_filename, proxies, etag_timeout, resume_download, token, local_files_only, legacy_cache_layout)\u001b[0m\n\u001b[1;32m   1344\u001b[0m \u001b[38;5;28;01melif\u001b[39;00m \u001b[38;5;28misinstance\u001b[39m(head_call_error, RepositoryNotFoundError) \u001b[38;5;129;01mor\u001b[39;00m \u001b[38;5;28misinstance\u001b[39m(head_call_error, GatedRepoError):\n\u001b[1;32m   1345\u001b[0m     \u001b[38;5;66;03m# Repo not found => let's raise the actual error\u001b[39;00m\n\u001b[0;32m-> 1346\u001b[0m     \u001b[38;5;28;01mraise\u001b[39;00m head_call_error\n\u001b[1;32m   1347\u001b[0m \u001b[38;5;28;01melse\u001b[39;00m:\n\u001b[1;32m   1348\u001b[0m     \u001b[38;5;66;03m# Otherwise: most likely a connection issue or Hub downtime => let's warn the user\u001b[39;00m\n",
      "File \u001b[0;32m~/mambaforge/envs/pytorch/lib/python3.11/site-packages/huggingface_hub/file_download.py:1232\u001b[0m, in \u001b[0;36mhf_hub_download\u001b[0;34m(repo_id, filename, subfolder, repo_type, revision, endpoint, library_name, library_version, cache_dir, local_dir, local_dir_use_symlinks, user_agent, force_download, force_filename, proxies, etag_timeout, resume_download, token, local_files_only, legacy_cache_layout)\u001b[0m\n\u001b[1;32m   1231\u001b[0m \u001b[38;5;28;01mtry\u001b[39;00m:\n\u001b[0;32m-> 1232\u001b[0m     metadata \u001b[38;5;241m=\u001b[39m get_hf_file_metadata(\n\u001b[1;32m   1233\u001b[0m         url\u001b[38;5;241m=\u001b[39murl,\n\u001b[1;32m   1234\u001b[0m         token\u001b[38;5;241m=\u001b[39mtoken,\n\u001b[1;32m   1235\u001b[0m         proxies\u001b[38;5;241m=\u001b[39mproxies,\n\u001b[1;32m   1236\u001b[0m         timeout\u001b[38;5;241m=\u001b[39metag_timeout,\n\u001b[1;32m   1237\u001b[0m     )\n\u001b[1;32m   1238\u001b[0m \u001b[38;5;28;01mexcept\u001b[39;00m EntryNotFoundError \u001b[38;5;28;01mas\u001b[39;00m http_error:\n\u001b[1;32m   1239\u001b[0m     \u001b[38;5;66;03m# Cache the non-existence of the file and raise\u001b[39;00m\n",
      "File \u001b[0;32m~/mambaforge/envs/pytorch/lib/python3.11/site-packages/huggingface_hub/utils/_validators.py:118\u001b[0m, in \u001b[0;36mvalidate_hf_hub_args.<locals>._inner_fn\u001b[0;34m(*args, **kwargs)\u001b[0m\n\u001b[1;32m    116\u001b[0m     kwargs \u001b[38;5;241m=\u001b[39m smoothly_deprecate_use_auth_token(fn_name\u001b[38;5;241m=\u001b[39mfn\u001b[38;5;241m.\u001b[39m\u001b[38;5;18m__name__\u001b[39m, has_token\u001b[38;5;241m=\u001b[39mhas_token, kwargs\u001b[38;5;241m=\u001b[39mkwargs)\n\u001b[0;32m--> 118\u001b[0m \u001b[38;5;28;01mreturn\u001b[39;00m fn(\u001b[38;5;241m*\u001b[39margs, \u001b[38;5;241m*\u001b[39m\u001b[38;5;241m*\u001b[39mkwargs)\n",
      "File \u001b[0;32m~/mambaforge/envs/pytorch/lib/python3.11/site-packages/huggingface_hub/file_download.py:1608\u001b[0m, in \u001b[0;36mget_hf_file_metadata\u001b[0;34m(url, token, proxies, timeout)\u001b[0m\n\u001b[1;32m   1599\u001b[0m r \u001b[38;5;241m=\u001b[39m _request_wrapper(\n\u001b[1;32m   1600\u001b[0m     method\u001b[38;5;241m=\u001b[39m\u001b[38;5;124m\"\u001b[39m\u001b[38;5;124mHEAD\u001b[39m\u001b[38;5;124m\"\u001b[39m,\n\u001b[1;32m   1601\u001b[0m     url\u001b[38;5;241m=\u001b[39murl,\n\u001b[0;32m   (...)\u001b[0m\n\u001b[1;32m   1606\u001b[0m     timeout\u001b[38;5;241m=\u001b[39mtimeout,\n\u001b[1;32m   1607\u001b[0m )\n\u001b[0;32m-> 1608\u001b[0m hf_raise_for_status(r)\n\u001b[1;32m   1610\u001b[0m \u001b[38;5;66;03m# Return\u001b[39;00m\n",
      "File \u001b[0;32m~/mambaforge/envs/pytorch/lib/python3.11/site-packages/huggingface_hub/utils/_errors.py:293\u001b[0m, in \u001b[0;36mhf_raise_for_status\u001b[0;34m(response, endpoint_name)\u001b[0m\n\u001b[1;32m    285\u001b[0m     message \u001b[38;5;241m=\u001b[39m (\n\u001b[1;32m    286\u001b[0m         \u001b[38;5;124mf\u001b[39m\u001b[38;5;124m\"\u001b[39m\u001b[38;5;132;01m{\u001b[39;00mresponse\u001b[38;5;241m.\u001b[39mstatus_code\u001b[38;5;132;01m}\u001b[39;00m\u001b[38;5;124m Client Error.\u001b[39m\u001b[38;5;124m\"\u001b[39m\n\u001b[1;32m    287\u001b[0m         \u001b[38;5;241m+\u001b[39m \u001b[38;5;124m\"\u001b[39m\u001b[38;5;130;01m\\n\u001b[39;00m\u001b[38;5;130;01m\\n\u001b[39;00m\u001b[38;5;124m\"\u001b[39m\n\u001b[0;32m   (...)\u001b[0m\n\u001b[1;32m    291\u001b[0m         \u001b[38;5;124m\"\u001b[39m\u001b[38;5;124m make sure you are authenticated.\u001b[39m\u001b[38;5;124m\"\u001b[39m\n\u001b[1;32m    292\u001b[0m     )\n\u001b[0;32m--> 293\u001b[0m     \u001b[38;5;28;01mraise\u001b[39;00m RepositoryNotFoundError(message, response) \u001b[38;5;28;01mfrom\u001b[39;00m \u001b[38;5;21;01me\u001b[39;00m\n\u001b[1;32m    295\u001b[0m \u001b[38;5;28;01melif\u001b[39;00m response\u001b[38;5;241m.\u001b[39mstatus_code \u001b[38;5;241m==\u001b[39m \u001b[38;5;241m400\u001b[39m:\n",
      "\u001b[0;31mRepositoryNotFoundError\u001b[0m: 404 Client Error. (Request ID: Root=1-6522bfe1-58a023142438de462c554e00;8a110f4e-99ec-440f-b270-dc563c478a43)\n\nRepository Not Found for url: https://huggingface.co/checkpoints/mix_prompt_for_ensemble_160/resolve/main/config.json.\nPlease make sure you specified the correct `repo_id` and `repo_type`.\nIf you are trying to access a private or gated repo, make sure you are authenticated.",
      "\nThe above exception was the direct cause of the following exception:\n",
      "\u001b[0;31mOSError\u001b[0m                                   Traceback (most recent call last)",
      "Cell \u001b[0;32mIn[23], line 92\u001b[0m\n\u001b[1;32m     90\u001b[0m     trainer\u001b[38;5;241m.\u001b[39msave_model(output_path\u001b[38;5;241m/\u001b[39mrun_name)\n\u001b[1;32m     91\u001b[0m \u001b[38;5;28;01melse\u001b[39;00m:\n\u001b[0;32m---> 92\u001b[0m     model \u001b[38;5;241m=\u001b[39m AutoModelForMultipleChoice\u001b[38;5;241m.\u001b[39mfrom_pretrained(output_path\u001b[38;5;241m/\u001b[39mrun_name)\n",
      "File \u001b[0;32m~/mambaforge/envs/pytorch/lib/python3.11/site-packages/transformers/models/auto/auto_factory.py:494\u001b[0m, in \u001b[0;36m_BaseAutoModelClass.from_pretrained\u001b[0;34m(cls, pretrained_model_name_or_path, *model_args, **kwargs)\u001b[0m\n\u001b[1;32m    491\u001b[0m \u001b[38;5;28;01mif\u001b[39;00m commit_hash \u001b[38;5;129;01mis\u001b[39;00m \u001b[38;5;28;01mNone\u001b[39;00m:\n\u001b[1;32m    492\u001b[0m     \u001b[38;5;28;01mif\u001b[39;00m \u001b[38;5;129;01mnot\u001b[39;00m \u001b[38;5;28misinstance\u001b[39m(config, PretrainedConfig):\n\u001b[1;32m    493\u001b[0m         \u001b[38;5;66;03m# We make a call to the config file first (which may be absent) to get the commit hash as soon as possible\u001b[39;00m\n\u001b[0;32m--> 494\u001b[0m         resolved_config_file \u001b[38;5;241m=\u001b[39m cached_file(\n\u001b[1;32m    495\u001b[0m             pretrained_model_name_or_path,\n\u001b[1;32m    496\u001b[0m             CONFIG_NAME,\n\u001b[1;32m    497\u001b[0m             _raise_exceptions_for_missing_entries\u001b[38;5;241m=\u001b[39m\u001b[38;5;28;01mFalse\u001b[39;00m,\n\u001b[1;32m    498\u001b[0m             _raise_exceptions_for_connection_errors\u001b[38;5;241m=\u001b[39m\u001b[38;5;28;01mFalse\u001b[39;00m,\n\u001b[1;32m    499\u001b[0m             \u001b[38;5;241m*\u001b[39m\u001b[38;5;241m*\u001b[39mhub_kwargs,\n\u001b[1;32m    500\u001b[0m         )\n\u001b[1;32m    501\u001b[0m         commit_hash \u001b[38;5;241m=\u001b[39m extract_commit_hash(resolved_config_file, commit_hash)\n\u001b[1;32m    502\u001b[0m     \u001b[38;5;28;01melse\u001b[39;00m:\n",
      "File \u001b[0;32m~/mambaforge/envs/pytorch/lib/python3.11/site-packages/transformers/utils/hub.py:450\u001b[0m, in \u001b[0;36mcached_file\u001b[0;34m(path_or_repo_id, filename, cache_dir, force_download, resume_download, proxies, token, revision, local_files_only, subfolder, repo_type, user_agent, _raise_exceptions_for_missing_entries, _raise_exceptions_for_connection_errors, _commit_hash, **deprecated_kwargs)\u001b[0m\n\u001b[1;32m    444\u001b[0m     \u001b[38;5;28;01mraise\u001b[39;00m \u001b[38;5;167;01mEnvironmentError\u001b[39;00m(\n\u001b[1;32m    445\u001b[0m         \u001b[38;5;124m\"\u001b[39m\u001b[38;5;124mYou are trying to access a gated repo.\u001b[39m\u001b[38;5;130;01m\\n\u001b[39;00m\u001b[38;5;124mMake sure to request access at \u001b[39m\u001b[38;5;124m\"\u001b[39m\n\u001b[1;32m    446\u001b[0m         \u001b[38;5;124mf\u001b[39m\u001b[38;5;124m\"\u001b[39m\u001b[38;5;124mhttps://huggingface.co/\u001b[39m\u001b[38;5;132;01m{\u001b[39;00mpath_or_repo_id\u001b[38;5;132;01m}\u001b[39;00m\u001b[38;5;124m and pass a token having permission to this repo either \u001b[39m\u001b[38;5;124m\"\u001b[39m\n\u001b[1;32m    447\u001b[0m         \u001b[38;5;124m\"\u001b[39m\u001b[38;5;124mby logging in with `huggingface-cli login` or by passing `token=<your_token>`.\u001b[39m\u001b[38;5;124m\"\u001b[39m\n\u001b[1;32m    448\u001b[0m     ) \u001b[38;5;28;01mfrom\u001b[39;00m \u001b[38;5;21;01me\u001b[39;00m\n\u001b[1;32m    449\u001b[0m \u001b[38;5;28;01mexcept\u001b[39;00m RepositoryNotFoundError \u001b[38;5;28;01mas\u001b[39;00m e:\n\u001b[0;32m--> 450\u001b[0m     \u001b[38;5;28;01mraise\u001b[39;00m \u001b[38;5;167;01mEnvironmentError\u001b[39;00m(\n\u001b[1;32m    451\u001b[0m         \u001b[38;5;124mf\u001b[39m\u001b[38;5;124m\"\u001b[39m\u001b[38;5;132;01m{\u001b[39;00mpath_or_repo_id\u001b[38;5;132;01m}\u001b[39;00m\u001b[38;5;124m is not a local folder and is not a valid model identifier \u001b[39m\u001b[38;5;124m\"\u001b[39m\n\u001b[1;32m    452\u001b[0m         \u001b[38;5;124m\"\u001b[39m\u001b[38;5;124mlisted on \u001b[39m\u001b[38;5;124m'\u001b[39m\u001b[38;5;124mhttps://huggingface.co/models\u001b[39m\u001b[38;5;124m'\u001b[39m\u001b[38;5;130;01m\\n\u001b[39;00m\u001b[38;5;124mIf this is a private repository, make sure to pass a token \u001b[39m\u001b[38;5;124m\"\u001b[39m\n\u001b[1;32m    453\u001b[0m         \u001b[38;5;124m\"\u001b[39m\u001b[38;5;124mhaving permission to this repo either by logging in with `huggingface-cli login` or by passing \u001b[39m\u001b[38;5;124m\"\u001b[39m\n\u001b[1;32m    454\u001b[0m         \u001b[38;5;124m\"\u001b[39m\u001b[38;5;124m`token=<your_token>`\u001b[39m\u001b[38;5;124m\"\u001b[39m\n\u001b[1;32m    455\u001b[0m     ) \u001b[38;5;28;01mfrom\u001b[39;00m \u001b[38;5;21;01me\u001b[39;00m\n\u001b[1;32m    456\u001b[0m \u001b[38;5;28;01mexcept\u001b[39;00m RevisionNotFoundError \u001b[38;5;28;01mas\u001b[39;00m e:\n\u001b[1;32m    457\u001b[0m     \u001b[38;5;28;01mraise\u001b[39;00m \u001b[38;5;167;01mEnvironmentError\u001b[39;00m(\n\u001b[1;32m    458\u001b[0m         \u001b[38;5;124mf\u001b[39m\u001b[38;5;124m\"\u001b[39m\u001b[38;5;132;01m{\u001b[39;00mrevision\u001b[38;5;132;01m}\u001b[39;00m\u001b[38;5;124m is not a valid git identifier (branch name, tag name or commit id) that exists \u001b[39m\u001b[38;5;124m\"\u001b[39m\n\u001b[1;32m    459\u001b[0m         \u001b[38;5;124m\"\u001b[39m\u001b[38;5;124mfor this model name. Check the model page at \u001b[39m\u001b[38;5;124m\"\u001b[39m\n\u001b[1;32m    460\u001b[0m         \u001b[38;5;124mf\u001b[39m\u001b[38;5;124m\"\u001b[39m\u001b[38;5;124m'\u001b[39m\u001b[38;5;124mhttps://huggingface.co/\u001b[39m\u001b[38;5;132;01m{\u001b[39;00mpath_or_repo_id\u001b[38;5;132;01m}\u001b[39;00m\u001b[38;5;124m'\u001b[39m\u001b[38;5;124m for available revisions.\u001b[39m\u001b[38;5;124m\"\u001b[39m\n\u001b[1;32m    461\u001b[0m     ) \u001b[38;5;28;01mfrom\u001b[39;00m \u001b[38;5;21;01me\u001b[39;00m\n",
      "\u001b[0;31mOSError\u001b[0m: checkpoints/mix_prompt_for_ensemble_160 is not a local folder and is not a valid model identifier listed on 'https://huggingface.co/models'\nIf this is a private repository, make sure to pass a token having permission to this repo either by logging in with `huggingface-cli login` or by passing `token=<your_token>`"
     ]
    }
   ],
   "source": [
    "retrain = True\n",
    "\n",
    "if not output_path.exists() or retrain:\n",
    "    wandb.init(\n",
    "        project=project_name,\n",
    "        name=run_name,\n",
    "        job_type='train',\n",
    "        config=config\n",
    "        # group=\"bert\"\n",
    "    )\n",
    "       \n",
    "    torch.cuda.empty_cache()\n",
    "    model = AutoModelForMultipleChoice.from_pretrained(config['hf_model_id'])\n",
    "\n",
    "    total_steps = len(tokenized_train) * training_args.num_train_epochs // (training_args.per_device_train_batch_size * training_args.gradient_accumulation_steps) \n",
    "    \n",
    "    if config['8_bit_adam']:\n",
    "        decay_parameters = get_parameter_names(model, [nn.LayerNorm])\n",
    "        decay_parameters = [name for name in decay_parameters if \"bias\" not in name]\n",
    "        optimizer_grouped_parameters = [\n",
    "            {\n",
    "                \"params\": [p for n, p in model.named_parameters() if n in decay_parameters],\n",
    "                \"weight_decay\": training_args.weight_decay,\n",
    "            },\n",
    "            {\n",
    "                \"params\": [p for n, p in model.named_parameters() if n not in decay_parameters],\n",
    "                \"weight_decay\": 0.0,\n",
    "            },\n",
    "        ]\n",
    "        optimizer_kwargs = {\n",
    "            \"betas\": (training_args.adam_beta1, training_args.adam_beta2),\n",
    "            \"eps\": training_args.adam_epsilon,\n",
    "        }\n",
    "        optimizer_kwargs[\"lr\"] = training_args.learning_rate\n",
    "        optimizer = bnb.optim.Adam8bit(\n",
    "            optimizer_grouped_parameters,\n",
    "            betas=(training_args.adam_beta1, training_args.adam_beta2),\n",
    "            eps=training_args.adam_epsilon,\n",
    "            lr=training_args.learning_rate,\n",
    "        )\n",
    "        max_lr=training_args.learning_rate\n",
    "    elif type(config['lr_layer_factor']) == int:\n",
    "        factor = config['lr_layer_factor']\n",
    "        base_lr = training_args.learning_rate\n",
    "        \n",
    "        embedding_lr = base_lr / factor**4\n",
    "        early_layers_lr = base_lr / factor**3\n",
    "        middle_layers_lr = base_lr / factor**2\n",
    "        late_layers_lr = base_lr / factor\n",
    "        classifier_lr = base_lr\n",
    "\n",
    "        optimizer_grouped_parameters = [\n",
    "            {'params': model.deberta.embeddings.parameters()},\n",
    "            {'params': model.deberta.encoder.layer[:8].parameters()},\n",
    "            {'params': model.deberta.encoder.layer[8:16].parameters()},\n",
    "            {'params': model.deberta.encoder.layer[16:].parameters()},\n",
    "            {'params': model.classifier.parameters()},\n",
    "        ]\n",
    "        optimizer = AdamW(optimizer_grouped_parameters,\n",
    "                          weight_decay=training_args.weight_decay)\n",
    "        max_lr = [base_lr / config['lr_layer_factor']**i for i in range(5,0,-1)]\n",
    "        \n",
    "    else:\n",
    "        optimizer = AdamW(model.parameters(),\n",
    "                          lr=training_args.learning_rate,\n",
    "                          weight_decay=training_args.weight_decay)\n",
    "        max_lr=training_args.learning_rate\n",
    "    \n",
    "    scheduler = OneCycleLR(optimizer, max_lr=max_lr, total_steps=total_steps)\n",
    "      \n",
    "    #warmup_steps = int(total_steps * training_args.warmup_ratio)\n",
    "    #scheduler = get_linear_schedule_with_warmup(optimizer, num_warmup_steps=warmup_steps, num_training_steps=total_steps)\n",
    "    \n",
    "    trainer = Trainer(\n",
    "        model=model,\n",
    "        args=training_args,\n",
    "        tokenizer=tokenizer,\n",
    "        data_collator=DataCollatorForMultipleChoice(tokenizer=tokenizer, max_length=600),\n",
    "        train_dataset=tokenized_train,\n",
    "        eval_dataset=eval_datasets,\n",
    "        compute_metrics=compute_metrics,\n",
    "        optimizers=(optimizer, scheduler)\n",
    "    )\n",
    "\n",
    "    # needed when there are multiple eval datasets\n",
    "    trainer.remove_callback(NotebookProgressCallback)\n",
    "    trainer.train()\n",
    "    # wandb.config.update(config)\n",
    "    wandb.finish()\n",
    "    trainer.save_model(output_path/run_name)\n",
    "else:\n",
    "    model = AutoModelForMultipleChoice.from_pretrained(output_path/run_name)"
   ]
  },
  {
   "cell_type": "markdown",
   "id": "33c7ffed-5442-4b18-a9b5-af19169840ee",
   "metadata": {},
   "source": [
    "## Predict Test Set"
   ]
  },
  {
   "cell_type": "code",
   "execution_count": null,
   "id": "8311360f-b360-4f5a-ac67-fa9ffd1ec40a",
   "metadata": {},
   "outputs": [],
   "source": [
    "trainer = Trainer(\n",
    "    model=model,\n",
    "    data_collator=DataCollatorForMultipleChoice(tokenizer=tokenizer, max_length=600),\n",
    ")"
   ]
  },
  {
   "cell_type": "code",
   "execution_count": null,
   "id": "e8278f92-4b3c-4aa8-a3b3-cd6b6468332c",
   "metadata": {
    "tags": []
   },
   "outputs": [],
   "source": [
    "test_sets_ctx.keys()"
   ]
  },
  {
   "cell_type": "code",
   "execution_count": null,
   "id": "e7fb0acb-2a82-465f-b7f0-dbd8957f6a18",
   "metadata": {
    "tags": []
   },
   "outputs": [],
   "source": [
    "def testset_probs(name, col):\n",
    "    tokenized = tokenized_dataset(test_sets_ctx[name], col)\n",
    "    logits = trainer.predict(tokenized).predictions\n",
    "    probs = softmax(logits, axis=1)\n",
    "    return probs"
   ]
  },
  {
   "cell_type": "code",
   "execution_count": null,
   "id": "3b8e3afa-1d93-4b51-918b-11630e4dd772",
   "metadata": {
    "tags": []
   },
   "outputs": [],
   "source": [
    "test_set = 'osmu_21k'\n",
    "best_match_p = testset_probs(test_set, 'best_answer_match')\n",
    "second_match_p = testset_probs(test_set, 'second_answer_context')\n",
    "p_q_ctx =  testset_probs(test_set, 'question_ctx')"
   ]
  },
  {
   "cell_type": "code",
   "execution_count": null,
   "id": "a77b149e-6577-43a2-b29e-07fbd6b9f504",
   "metadata": {
    "tags": []
   },
   "outputs": [],
   "source": [
    "max_probs = np.maximum(best_match_p, second_match_p, p_q_ctx)\n",
    "avg_probs = (best_match_p + second_match_p + p_q_ctx) / 3"
   ]
  },
  {
   "cell_type": "code",
   "execution_count": null,
   "id": "4b50f9b9-90f2-45f1-868f-a2f2bf9878d5",
   "metadata": {
    "tags": []
   },
   "outputs": [],
   "source": [
    "answer_idcs = test_sets_ctx[test_set]['answer'].map_dict(option_to_index)\\\n",
    "                                               .to_numpy()"
   ]
  },
  {
   "cell_type": "code",
   "execution_count": null,
   "id": "7a637f5d-224a-45bf-8e79-74c273e6c227",
   "metadata": {
    "tags": []
   },
   "outputs": [],
   "source": [
    "test_preds = np.argsort(-avg_probs, 1)\n",
    "mean_avg_precision_at_k(test_preds, answer_idcs)"
   ]
  },
  {
   "cell_type": "code",
   "execution_count": null,
   "id": "bcc37a53-805c-4cbe-992f-4440f2e7d7b0",
   "metadata": {
    "tags": []
   },
   "outputs": [],
   "source": [
    "test_preds = np.argsort(-max_probs, 1)\n",
    "mean_avg_precision_at_k(test_preds, answer_idcs)"
   ]
  },
  {
   "cell_type": "code",
   "execution_count": null,
   "id": "b6731afc-8253-4037-be94-4e811f1e2098",
   "metadata": {},
   "outputs": [],
   "source": []
  },
  {
   "cell_type": "code",
   "execution_count": null,
   "id": "0070b9a6-4ddd-4518-93d6-9046f7a63dbe",
   "metadata": {},
   "outputs": [],
   "source": []
  },
  {
   "cell_type": "code",
   "execution_count": null,
   "id": "2a5c44ec-5da4-4c04-a1c6-5a2fec5a1599",
   "metadata": {},
   "outputs": [],
   "source": [
    "def predict_testset(test_with_passages, tokenized_testset):\n",
    "    test_logits = trainer.predict(tokenized_testset).predictions\n",
    "    test_preds = np.argsort(-test_logits, 1)\n",
    "    test_letters = np.array(list('ABCDE'))[test_preds]\n",
    "    test_letters = pl.Series(test_letters[:,:3]).list.join(' ')\n",
    "\n",
    "    return test_with_passages.with_columns(all_prediction=test_letters, prediction=test_letters.str.slice(0,1))"
   ]
  },
  {
   "cell_type": "code",
   "execution_count": null,
   "id": "95a4eecf-3187-479f-9df7-9f6449438f23",
   "metadata": {
    "tags": []
   },
   "outputs": [],
   "source": [
    "with_pred = {}\n",
    "for test_name in test_sets_ctx.keys():\n",
    "    with_pred[test_name] = predict_testset(test_sets_ctx[test_name], eval_datasets[test_name])"
   ]
  },
  {
   "cell_type": "code",
   "execution_count": null,
   "id": "4efc3376-c115-4560-97e4-f301c929d0c4",
   "metadata": {
    "tags": []
   },
   "outputs": [],
   "source": [
    "folder_path = Path(f'./data/output/{run_name}')\n",
    "os.makedirs(folder_path, exist_ok=True)\n",
    "for test_name in test_sets_ctx.keys():\n",
    "    file_path = folder_path/f'{test_name}.parquet'\n",
    "    with_pred[test_name].write_parquet(file_path)\n",
    "    print(file_path)"
   ]
  },
  {
   "cell_type": "markdown",
   "id": "3fc8880d-9dab-49c5-9d50-51f3de04694c",
   "metadata": {},
   "source": [
    "### Osmu data notes\n",
    "0. Based on the wikipedia_excerpt, the wrong answer is marked as correct."
   ]
  },
  {
   "cell_type": "code",
   "execution_count": null,
   "id": "14c6e2e3-1ead-4ef1-988f-1ef7bf18daf8",
   "metadata": {
    "tags": []
   },
   "outputs": [],
   "source": [
    "wiki_passages.filter(pl.col('title').str.contains('chloro'))"
   ]
  },
  {
   "cell_type": "code",
   "execution_count": null,
   "id": "0650cbc5-54c8-4ffe-8855-4d32055a0282",
   "metadata": {
    "tags": []
   },
   "outputs": [],
   "source": [
    "test_osmu_pred[1]"
   ]
  },
  {
   "cell_type": "code",
   "execution_count": null,
   "id": "04031842-bdfa-458e-93a7-ce6823c2faa4",
   "metadata": {},
   "outputs": [],
   "source": [
    "# test_output = pl.DataFrame({'prediction':test_letters}).with_row_count('id')\n",
    "# test_output.write_csv('./data/submission.csv')"
   ]
  },
  {
   "cell_type": "markdown",
   "id": "cf74332a-ae4d-4c87-8020-781392de0ac5",
   "metadata": {},
   "source": [
    "## Check Test predictions"
   ]
  },
  {
   "cell_type": "code",
   "execution_count": null,
   "id": "37272c14-8671-4536-b012-272b24dc6385",
   "metadata": {
    "tags": []
   },
   "outputs": [],
   "source": [
    "check_test = test_sets_ctx['test'].with_columns(all_prediction=test_letters, prediction=test_letters.str.slice(0,1))"
   ]
  },
  {
   "cell_type": "code",
   "execution_count": null,
   "id": "ab9ff16a-7a96-4578-ac81-4187cfc5c1cc",
   "metadata": {
    "tags": []
   },
   "outputs": [],
   "source": [
    "wrong = check_test.filter(pl.col('answer') != pl.col('prediction'))\n",
    "wrong = wrong.drop(['wiki_ctx_1', 'wiki_ctx_2'])\n",
    "wrong[:4]"
   ]
  },
  {
   "cell_type": "markdown",
   "id": "0d8dad1b-d65d-4bea-8031-82348eb22379",
   "metadata": {},
   "source": [
    "### Check Test Log\n",
    "- The passages are often very similar or even contain duplications.\n",
    "- Sometimes information from the answers could help make the passages more relevant.\n",
    "\n",
    "\n",
    "0. Dynamic scaling: Incorrect context, picked answeres with incorrect negations before the correct answer\n",
    "1. Triskeles: Incorrect context, no connection of context and question apparent\n",
    "2. Regularization in terms of renomralization (physics): The context is useful, longer context might have been helpful. The answers differ in subtleties that the model does not get.\n",
    "3. Gauss law, electic flux: The model seems to miss some subtle differences. The context is missing the formula.\n",
    "4. Blocking tempereature of a spin valve: Context describes spin valves, but not the blocking temperature."
   ]
  },
  {
   "cell_type": "code",
   "execution_count": null,
   "id": "05d5a88e-13fa-4211-a61e-2c0ddc3be99e",
   "metadata": {},
   "outputs": [],
   "source": []
  },
  {
   "cell_type": "code",
   "execution_count": null,
   "id": "bfc7c28f-dc9b-4086-b010-f349abf49768",
   "metadata": {},
   "outputs": [],
   "source": []
  },
  {
   "cell_type": "code",
   "execution_count": null,
   "id": "c7963ea1-a0b9-48e8-bee6-4ac4cbec647a",
   "metadata": {},
   "outputs": [],
   "source": []
  },
  {
   "cell_type": "code",
   "execution_count": null,
   "id": "1cdc68d9-72cc-4cf9-8fb8-cb81c5b207b4",
   "metadata": {},
   "outputs": [],
   "source": []
  },
  {
   "cell_type": "code",
   "execution_count": null,
   "id": "f36408fa-f108-48f1-a0ed-a30f7074e85e",
   "metadata": {},
   "outputs": [],
   "source": []
  },
  {
   "cell_type": "code",
   "execution_count": null,
   "id": "d9655ac5-496f-453f-a141-0148673136a7",
   "metadata": {},
   "outputs": [],
   "source": []
  }
 ],
 "metadata": {
  "kernelspec": {
   "display_name": "Python [conda env:pytorch]",
   "language": "python",
   "name": "conda-env-pytorch-py"
  },
  "language_info": {
   "codemirror_mode": {
    "name": "ipython",
    "version": 3
   },
   "file_extension": ".py",
   "mimetype": "text/x-python",
   "name": "python",
   "nbconvert_exporter": "python",
   "pygments_lexer": "ipython3",
   "version": "3.11.5"
  }
 },
 "nbformat": 4,
 "nbformat_minor": 5
}
