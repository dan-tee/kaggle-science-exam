{
 "cells": [
  {
   "cell_type": "markdown",
   "id": "d3e6c859-c0cd-486c-88a1-07f17403d86c",
   "metadata": {
    "tags": []
   },
   "source": [
    "# Filter Out Duplicate Questions"
   ]
  },
  {
   "cell_type": "code",
   "execution_count": 2,
   "id": "cff14b89-5a1e-45fa-be65-a108490172ed",
   "metadata": {
    "tags": []
   },
   "outputs": [],
   "source": [
    "import os\n",
    "import polars as pl\n",
    "from pathlib import Path\n",
    "import seaborn as sns\n",
    "import matplotlib.pyplot as plt\n",
    "\n",
    "import faiss\n",
    "from colbert.infra import Run, RunConfig, ColBERTConfig\n",
    "from colbert.data import Queries, Collection\n",
    "from colbert import Indexer, Searcher"
   ]
  },
  {
   "cell_type": "code",
   "execution_count": 254,
   "id": "96db49cb-70da-47eb-9759-d17c7975423e",
   "metadata": {
    "tags": []
   },
   "outputs": [
    {
     "data": {
      "text/plain": [
       "'54,725'"
      ]
     },
     "execution_count": 254,
     "metadata": {},
     "output_type": "execute_result"
    }
   ],
   "source": [
    "train_sets = []\n",
    "\n",
    "test = pl.read_csv('data/train.csv')\n",
    "test = test.rename({'prompt': 'question'})\n",
    "test = test.drop(columns=\"id\")\n",
    "\n",
    "\n",
    "def read_training_files(file_paths, dataset_name):\n",
    "    if type(file_paths) == str:\n",
    "        file_paths = [file_paths]\n",
    "        \n",
    "    if file_paths[0].endswith('.parquet'):\n",
    "        train_raw = pl.concat(\n",
    "            [pl.read_parquet(file) for file in file_paths]\n",
    "        )\n",
    "    elif file_paths[0].endswith('.csv'):\n",
    "        train_raw = pl.concat(\n",
    "            [pl.read_csv(file) for file in file_paths]\n",
    "        )\n",
    "    \n",
    "    if 'prompt' in train_raw.columns:\n",
    "        train_raw = train_raw.rename({'prompt': 'question'})\n",
    "    \n",
    "    train_cols = ['question', 'A', 'C', 'B', 'D', 'E', 'answer']\n",
    "    train_raw = train_raw[train_cols]\n",
    "    train_raw = train_raw.select(pl.all()\\\n",
    "                         .fill_null('N/A'))\\\n",
    "                         .with_columns(dataset_name=pl.lit(dataset_name))\n",
    "    train_sets.append(train_raw)\n",
    "\n",
    "\n",
    "read_training_files('./data/daniel_train/combined_deduped.parquet', 'daniel')\n",
    "read_training_files('./data/6000_wiki_en_sci_questions_with_excerpts.csv', 'osmu_sci_6k')\n",
    "read_training_files('./data/osmu_5900_examples.csv', 'osmu_5_9k')\n",
    "read_training_files('./data/osmulski_15k.csv', 'osmu_15k')\n",
    "read_training_files('./data/mgoksu_13k.csv', 'mgoksu')\n",
    "read_training_files('./data/gigkpeaeums_train.csv', 'gigkpea')\n",
    "    \n",
    "train = pl.concat(train_sets)\n",
    "f'{train.shape[0]:,}'"
   ]
  },
  {
   "cell_type": "markdown",
   "id": "4960ba2b-cd5a-4d9d-80e8-b829d73c04e0",
   "metadata": {},
   "source": [
    "## Create ColBERT Indexer for questions"
   ]
  },
  {
   "cell_type": "code",
   "execution_count": 3,
   "id": "fc0bd2c9-c52e-4eeb-99a3-f1c78f745e2e",
   "metadata": {
    "tags": []
   },
   "outputs": [
    {
     "data": {
      "text/plain": [
       "(54725, 9)"
      ]
     },
     "execution_count": 3,
     "metadata": {},
     "output_type": "execute_result"
    }
   ],
   "source": [
    "train = pl.read_parquet('./data/large_train_deduped.parquet')\n",
    "train.shape"
   ]
  },
  {
   "cell_type": "code",
   "execution_count": 257,
   "id": "df88bf40-17a6-45bf-8be5-83bc192d9175",
   "metadata": {},
   "outputs": [],
   "source": [
    "train = train.drop('question_id').with_row_count('question_id')"
   ]
  },
  {
   "cell_type": "code",
   "execution_count": 258,
   "id": "060c5833-6816-4879-8885-4b8a38fe6f47",
   "metadata": {
    "tags": []
   },
   "outputs": [],
   "source": [
    "max_words = 100\n",
    "doc_maxlen = 150\n",
    "query_maxlen = 150\n",
    "nbits = 2\n",
    "colbert_path = Path(f'./data/question_indexer_max_words_{max_words}')\n",
    "os.makedirs(colbert_path, exist_ok=True)"
   ]
  },
  {
   "cell_type": "code",
   "execution_count": 259,
   "id": "48d9b443-f6a5-4443-8c1c-b528b6983352",
   "metadata": {
    "tags": []
   },
   "outputs": [
    {
     "name": "stdout",
     "output_type": "stream",
     "text": [
      "[Oct 05, 23:21:12] #> Loading collection...\n",
      "0M \n"
     ]
    }
   ],
   "source": [
    "checkpoint = './checkpoints/colbertv2.0'\n",
    "indexer_name = f\"question_indexer\"\n",
    "\n",
    "questions_file = str(colbert_path/'questions') + '.tsv'\n",
    "\n",
    "train.with_columns(pl.col('question').str.replace_all('\\n', ' ').alias('question'))[['question_id', 'question']]\\\n",
    "     .write_csv(questions_file, separator='\\t', has_header=False)\n",
    "c_collection = Collection(questions_file)\n",
    "f'Loaded {len(c_collection):,} passages'\n",
    "\n",
    "os.environ['COLBERT_LOAD_TORCH_EXTENSION_VERBOSE'] = 'False'\n",
    "\n",
    "config = ColBERTConfig(\n",
    "    doc_maxlen=doc_maxlen,\n",
    "    query_maxlen=query_maxlen, \n",
    "    nbits=nbits\n",
    ")"
   ]
  },
  {
   "cell_type": "code",
   "execution_count": 260,
   "id": "e32ddf44-b27e-4197-91c2-5048a43e4b18",
   "metadata": {
    "tags": []
   },
   "outputs": [
    {
     "name": "stdout",
     "output_type": "stream",
     "text": [
      "\n",
      "\n",
      "[Oct 05, 23:21:16] #> Note: Output directory data/question_indexer_max_words_100/question_indexer already exists\n",
      "\n",
      "\n",
      "[Oct 05, 23:21:16] #> Will delete 18 files already at data/question_indexer_max_words_100/question_indexer in 20 seconds...\n",
      "#> Starting...\n",
      "nranks = 1 \t num_gpus = 1 \t device=0\n",
      "{\n",
      "    \"query_token_id\": \"[unused0]\",\n",
      "    \"doc_token_id\": \"[unused1]\",\n",
      "    \"query_token\": \"[Q]\",\n",
      "    \"doc_token\": \"[D]\",\n",
      "    \"ncells\": null,\n",
      "    \"centroid_score_threshold\": null,\n",
      "    \"ndocs\": null,\n",
      "    \"index_path\": null,\n",
      "    \"nbits\": 2,\n",
      "    \"kmeans_niters\": 20,\n",
      "    \"resume\": false,\n",
      "    \"similarity\": \"cosine\",\n",
      "    \"bsize\": 64,\n",
      "    \"accumsteps\": 1,\n",
      "    \"lr\": 1e-5,\n",
      "    \"maxsteps\": 400000,\n",
      "    \"save_every\": null,\n",
      "    \"warmup\": 20000,\n",
      "    \"warmup_bert\": null,\n",
      "    \"relu\": false,\n",
      "    \"nway\": 64,\n",
      "    \"use_ib_negatives\": true,\n",
      "    \"reranker\": false,\n",
      "    \"distillation_alpha\": 1.0,\n",
      "    \"ignore_scores\": false,\n",
      "    \"model_name\": null,\n",
      "    \"query_maxlen\": 150,\n",
      "    \"attend_to_mask_tokens\": false,\n",
      "    \"interaction\": \"colbert\",\n",
      "    \"dim\": 128,\n",
      "    \"doc_maxlen\": 150,\n",
      "    \"mask_punctuation\": true,\n",
      "    \"checkpoint\": \".\\/checkpoints\\/colbertv2.0\",\n",
      "    \"triples\": \"\\/future\\/u\\/okhattab\\/root\\/unit\\/experiments\\/2021.10\\/downstream.distillation.round2.2_score\\/round2.nway6.cosine.ib\\/examples.64.json\",\n",
      "    \"collection\": \"data\\/question_indexer_max_words_100\\/questions.tsv\",\n",
      "    \"queries\": \"\\/future\\/u\\/okhattab\\/data\\/MSMARCO\\/queries.train.tsv\",\n",
      "    \"index_name\": \"question_indexer\",\n",
      "    \"overwrite\": false,\n",
      "    \"root\": \"\\/home\\/daniel\\/code\\/kaggle-science-exam\\/experiments\",\n",
      "    \"experiment\": \"default\",\n",
      "    \"index_root\": \"data\\/question_indexer_max_words_100\",\n",
      "    \"name\": \"2023-10\\/05\\/21.35.32\",\n",
      "    \"rank\": 0,\n",
      "    \"nranks\": 1,\n",
      "    \"amp\": true,\n",
      "    \"gpus\": 1\n",
      "}\n",
      "[Oct 05, 23:21:38] [0] \t\t # of sampled PIDs = 41002 \t sampled_pids[:3] = [27303, 48017, 666]\n",
      "[Oct 05, 23:21:38] [0] \t\t #> Encoding 41002 passages..\n",
      "[Oct 05, 23:21:51] [0] \t\t avg_doclen_est = 17.454904556274414 \t len(local_sample) = 41,002\n",
      "[Oct 05, 23:21:51] [0] \t\t Creaing 8,192 partitions.\n",
      "[Oct 05, 23:21:51] [0] \t\t *Estimated* 955,219 embeddings.\n",
      "[Oct 05, 23:21:51] [0] \t\t #> Saving the indexing plan to data/question_indexer_max_words_100/question_indexer/plan.json ..\n",
      "Clustering 679902 points in 128D to 8192 clusters, redo 1 times, 20 iterations\n",
      "  Preprocessing in 0.03 s\n",
      "  Iteration 19 (2.69 s, search 2.36 s): objective=235959 imbalance=1.314 nsplit=0       \n",
      "[Oct 05, 23:21:54] Loading decompress_residuals_cpp extension (set COLBERT_LOAD_TORCH_EXTENSION_VERBOSE=True for more info)...\n",
      "[Oct 05, 23:21:54] Loading packbits_cpp extension (set COLBERT_LOAD_TORCH_EXTENSION_VERBOSE=True for more info)...\n",
      "[0.045, 0.043, 0.047, 0.043, 0.042, 0.043, 0.042, 0.042, 0.041, 0.043, 0.043, 0.042, 0.044, 0.043, 0.042, 0.045, 0.041, 0.041, 0.041, 0.043, 0.044, 0.043, 0.044, 0.042, 0.042, 0.043, 0.045, 0.043, 0.042, 0.045, 0.047, 0.044, 0.045, 0.046, 0.043, 0.041, 0.044, 0.042, 0.043, 0.045, 0.044, 0.042, 0.043, 0.043, 0.042, 0.043, 0.041, 0.049, 0.044, 0.041, 0.043, 0.043, 0.043, 0.044, 0.041, 0.043, 0.046, 0.044, 0.048, 0.043, 0.041, 0.042, 0.042, 0.046, 0.05, 0.044, 0.045, 0.045, 0.039, 0.042, 0.045, 0.043, 0.045, 0.043, 0.041, 0.046, 0.043, 0.045, 0.044, 0.043, 0.046, 0.042, 0.044, 0.043, 0.042, 0.043, 0.043, 0.044, 0.04, 0.046, 0.042, 0.045, 0.041, 0.044, 0.043, 0.043, 0.046, 0.042, 0.044, 0.043, 0.048, 0.043, 0.044, 0.042, 0.045, 0.042, 0.044, 0.043, 0.044, 0.043, 0.043, 0.043, 0.047, 0.041, 0.044, 0.041, 0.043, 0.046, 0.044, 0.043, 0.043, 0.043, 0.043, 0.045, 0.041, 0.046, 0.045, 0.043]\n",
      "[Oct 05, 23:21:54] #> Got bucket_cutoffs_quantiles = tensor([0.2500, 0.5000, 0.7500], device='cuda:0') and bucket_weights_quantiles = tensor([0.1250, 0.3750, 0.6250, 0.8750], device='cuda:0')\n",
      "[Oct 05, 23:21:54] #> Got bucket_cutoffs = tensor([-0.0341,  0.0004,  0.0349], device='cuda:0') and bucket_weights = tensor([-0.0612, -0.0155,  0.0162,  0.0621], device='cuda:0')\n",
      "[Oct 05, 23:21:54] avg_residual = 0.043426513671875\n",
      "[Oct 05, 23:21:54] [0] \t\t #> Encoding 25000 passages..\n"
     ]
    },
    {
     "name": "stderr",
     "output_type": "stream",
     "text": [
      "0it [00:00, ?it/s]"
     ]
    },
    {
     "name": "stdout",
     "output_type": "stream",
     "text": [
      "[Oct 05, 23:22:03] [0] \t\t #> Saving chunk 0: \t 25,000 passages and 421,018 embeddings. From #0 onward.\n",
      "[Oct 05, 23:22:03] [0] \t\t #> Encoding 25000 passages..\n"
     ]
    },
    {
     "name": "stderr",
     "output_type": "stream",
     "text": [
      "1it [00:08,  8.92s/it]"
     ]
    },
    {
     "name": "stdout",
     "output_type": "stream",
     "text": [
      "[Oct 05, 23:22:10] [0] \t\t #> Saving chunk 1: \t 25,000 passages and 464,213 embeddings. From #25,000 onward.\n",
      "[Oct 05, 23:22:10] [0] \t\t #> Encoding 4725 passages..\n"
     ]
    },
    {
     "name": "stderr",
     "output_type": "stream",
     "text": [
      "2it [00:15,  7.66s/it]"
     ]
    },
    {
     "name": "stdout",
     "output_type": "stream",
     "text": [
      "[Oct 05, 23:22:11] [0] \t\t #> Saving chunk 2: \t 4,725 passages and 70,118 embeddings. From #50,000 onward.\n",
      "[Oct 05, 23:22:11] [0] \t\t #> Checking all files were saved...\n",
      "[Oct 05, 23:22:11] [0] \t\t Found all files!\n",
      "[Oct 05, 23:22:11] [0] \t\t #> Building IVF...\n",
      "[Oct 05, 23:22:11] [0] \t\t #> Loading codes...\n",
      "[Oct 05, 23:22:11] [0] \t\t Sorting codes...\n",
      "[Oct 05, 23:22:11] [0] \t\t Getting unique codes...\n",
      "[Oct 05, 23:22:11] #> Optimizing IVF to store map from centroids to list of pids..\n",
      "[Oct 05, 23:22:11] #> Building the emb2pid mapping..\n",
      "[Oct 05, 23:22:11] len(emb2pid) = 955349\n",
      "[Oct 05, 23:22:11] #> Saved optimized IVF to data/question_indexer_max_words_100/question_indexer/ivf.pid.pt\n",
      "[Oct 05, 23:22:11] [0] \t\t #> Saving the indexing metadata to data/question_indexer_max_words_100/question_indexer/metadata.json ..\n"
     ]
    },
    {
     "name": "stderr",
     "output_type": "stream",
     "text": [
      "3it [00:16,  5.66s/it]\n",
      "100%|██████████| 3/3 [00:00<00:00, 1442.83it/s]\n",
      "100%|██████████| 8192/8192 [00:00<00:00, 162477.37it/s]\n"
     ]
    },
    {
     "name": "stdout",
     "output_type": "stream",
     "text": [
      "#> Joined...\n",
      "[Oct 05, 23:22:12] #> Loading codec...\n",
      "[Oct 05, 23:22:12] #> Loading IVF...\n",
      "[Oct 05, 23:22:12] #> Loading doclens...\n"
     ]
    },
    {
     "name": "stderr",
     "output_type": "stream",
     "text": [
      "100%|██████████| 3/3 [00:00<00:00, 4159.64it/s]"
     ]
    },
    {
     "name": "stdout",
     "output_type": "stream",
     "text": [
      "[Oct 05, 23:22:13] #> Loading codes and residuals...\n"
     ]
    },
    {
     "name": "stderr",
     "output_type": "stream",
     "text": [
      "\n",
      "100%|██████████| 3/3 [00:00<00:00, 368.64it/s]"
     ]
    },
    {
     "name": "stdout",
     "output_type": "stream",
     "text": [
      "[Oct 05, 23:22:13] #> Loading the queries from data/question_indexer_max_words_100/questions.tsv ...\n",
      "[Oct 05, 23:22:13] #> Got 54725 queries. All QIDs are unique.\n",
      "\n"
     ]
    },
    {
     "name": "stderr",
     "output_type": "stream",
     "text": [
      "\n",
      "100%|██████████| 54725/54725 [02:26<00:00, 372.53it/s]\n"
     ]
    }
   ],
   "source": [
    "rerun_index = True\n",
    "n_results_per_question = 5\n",
    "\n",
    "with Run().context(RunConfig(nranks=1, index_root=str(colbert_path))):\n",
    "    if rerun_index:   \n",
    "        indexer = Indexer(checkpoint=checkpoint, config=config)\n",
    "        indexer.index(name=indexer_name,\n",
    "                      collection=c_collection,\n",
    "                      overwrite=True)\n",
    "        \n",
    "    searcher = Searcher(index=indexer_name, \n",
    "                        config=config,\n",
    "                        collection=c_collection)\n",
    "    questions = Queries(questions_file)\n",
    "\n",
    "    ranking = searcher.search_all(questions, k=n_results_per_question)\n",
    "    \n",
    "row_tuples = []\n",
    "for question_idx, tup_list in ranking.items():\n",
    "    for res_tuple in tup_list:\n",
    "        row_tuples.append({\n",
    "            'question_idx': question_idx,\n",
    "            'result_idx': res_tuple[1],\n",
    "            'found_question_id': res_tuple[0],\n",
    "            'score': res_tuple[2]\n",
    "        })\n",
    "ranking = pl.DataFrame(row_tuples)"
   ]
  },
  {
   "cell_type": "code",
   "execution_count": 262,
   "id": "6e5db23e-6f07-4000-bd46-64a07647d032",
   "metadata": {},
   "outputs": [
    {
     "data": {
      "text/plain": [
       "<Axes: ylabel='Count'>"
      ]
     },
     "execution_count": 262,
     "metadata": {},
     "output_type": "execute_result"
    },
    {
     "data": {
      "image/png": "[encoded data removed]",
      "text/plain": [
       "<Figure size 600x200 with 1 Axes>"
      ]
     },
     "metadata": {},
     "output_type": "display_data"
    }
   ],
   "source": [
    "plt.figure(figsize=[6,2])\n",
    "no_self_rank = ranking.filter(pl.col('question_idx') > pl.col('found_question_id'))\n",
    "sns.histplot(no_self_rank['score'])"
   ]
  },
  {
   "cell_type": "code",
   "execution_count": 263,
   "id": "f6c561c7-c432-4921-9765-464cef779eb1",
   "metadata": {},
   "outputs": [],
   "source": [
    "high_rank = no_self_rank.filter(pl.col('score') > 115)"
   ]
  },
  {
   "cell_type": "code",
   "execution_count": 264,
   "id": "1dba9d49-84a5-42ff-8e1c-a0c3532b5502",
   "metadata": {
    "tags": []
   },
   "outputs": [
    {
     "data": {
      "text/html": [
       "<div><style>\n",
       ".dataframe > thead > tr > th,\n",
       ".dataframe > tbody > tr > td {\n",
       "  text-align: right;\n",
       "  white-space: pre-wrap;\n",
       "}\n",
       "</style>\n",
       "<small>shape: (0,)</small><table border=\"1\" class=\"dataframe\"><thead><tr><th>found_question_id</th></tr><tr><td>i64</td></tr></thead><tbody></tbody></table></div>"
      ],
      "text/plain": [
       "shape: (0,)\n",
       "Series: 'found_question_id' [i64]\n",
       "[\n",
       "]"
      ]
     },
     "execution_count": 264,
     "metadata": {},
     "output_type": "execute_result"
    }
   ],
   "source": [
    "to_delete = high_rank.filter(pl.col('question_idx') < pl.col('found_question_id'))['found_question_id'].unique()\n",
    "to_delete"
   ]
  },
  {
   "cell_type": "code",
   "execution_count": 265,
   "id": "21ae843d-ecbf-452b-8e6f-16a28fe7fbfa",
   "metadata": {
    "tags": []
   },
   "outputs": [
    {
     "data": {
      "text/plain": [
       "(54725, 9)"
      ]
     },
     "execution_count": 265,
     "metadata": {},
     "output_type": "execute_result"
    }
   ],
   "source": [
    "train.shape"
   ]
  },
  {
   "cell_type": "code",
   "execution_count": 266,
   "id": "bc3d236b-5376-49c9-84d4-f95b36975a8c",
   "metadata": {
    "tags": []
   },
   "outputs": [
    {
     "data": {
      "text/plain": [
       "(54725, 9)"
      ]
     },
     "execution_count": 266,
     "metadata": {},
     "output_type": "execute_result"
    }
   ],
   "source": [
    "to_save = train.filter(~pl.col('question_id').is_in(to_delete))\n",
    "to_save.write_parquet('./data/large_train_deduped.parquet')\n",
    "to_save.shape"
   ]
  },
  {
   "cell_type": "code",
   "execution_count": 233,
   "id": "3e192fdb-1b13-4be4-a03a-1b92a3910780",
   "metadata": {
    "tags": []
   },
   "outputs": [],
   "source": [
    "pl.Config(fmt_str_lengths=2000);"
   ]
  },
  {
   "cell_type": "code",
   "execution_count": 251,
   "id": "2d8d84f0-e676-41e2-b830-11e01a448e63",
   "metadata": {
    "tags": []
   },
   "outputs": [
    {
     "name": "stdout",
     "output_type": "stream",
     "text": [
      "131.25\n",
      "118 118\n"
     ]
    },
    {
     "data": {
      "text/html": [
       "<div><style>\n",
       ".dataframe > thead > tr > th,\n",
       ".dataframe > tbody > tr > td {\n",
       "  text-align: right;\n",
       "  white-space: pre-wrap;\n",
       "}\n",
       "</style>\n",
       "<small>shape: (2, 9)</small><table border=\"1\" class=\"dataframe\"><thead><tr><th>question_id</th><th>question</th><th>A</th><th>C</th><th>B</th><th>D</th><th>E</th><th>answer</th><th>dataset_name</th></tr><tr><td>u32</td><td>str</td><td>str</td><td>str</td><td>str</td><td>str</td><td>str</td><td>str</td><td>str</td></tr></thead><tbody><tr><td>118</td><td>&quot;What determines the quality of a ruby and affects its value?&quot;</td><td>&quot;Its color, cut, clarity, and carat weight.&quot;</td><td>&quot;The type of corundum it belongs to and the element chromium in it.&quot;</td><td>&quot;The level of silk in the gem and whether it has been heat treated.&quot;</td><td>&quot;The size, number, location, and visibility of inclusions.&quot;</td><td>&quot;The brightness and shade of red, and whether it is a birthstone for July.&quot;</td><td>&quot;A&quot;</td><td>&quot;daniel&quot;</td></tr><tr><td>118</td><td>&quot;What determines the quality of a ruby and affects its value?&quot;</td><td>&quot;Its color, cut, clarity, and carat weight.&quot;</td><td>&quot;The type of corundum it belongs to and the element chromium in it.&quot;</td><td>&quot;The level of silk in the gem and whether it has been heat treated.&quot;</td><td>&quot;The size, number, location, and visibility of inclusions.&quot;</td><td>&quot;The brightness and shade of red, and whether it is a birthstone for July.&quot;</td><td>&quot;A&quot;</td><td>&quot;daniel&quot;</td></tr></tbody></table></div>"
      ],
      "text/plain": [
       "shape: (2, 9)\n",
       "┌────────────┬────────────┬───────────┬───────────┬───┬───────────┬───────────┬────────┬───────────┐\n",
       "│ question_i ┆ question   ┆ A         ┆ C         ┆ … ┆ D         ┆ E         ┆ answer ┆ dataset_n │\n",
       "│ d          ┆ ---        ┆ ---       ┆ ---       ┆   ┆ ---       ┆ ---       ┆ ---    ┆ ame       │\n",
       "│ ---        ┆ str        ┆ str       ┆ str       ┆   ┆ str       ┆ str       ┆ str    ┆ ---       │\n",
       "│ u32        ┆            ┆           ┆           ┆   ┆           ┆           ┆        ┆ str       │\n",
       "╞════════════╪════════════╪═══════════╪═══════════╪═══╪═══════════╪═══════════╪════════╪═══════════╡\n",
       "│ 118        ┆ What       ┆ Its       ┆ The type  ┆ … ┆ The size, ┆ The brigh ┆ A      ┆ daniel    │\n",
       "│            ┆ determines ┆ color,    ┆ of        ┆   ┆ number,   ┆ tness and ┆        ┆           │\n",
       "│            ┆ the        ┆ cut,      ┆ corundum  ┆   ┆ location, ┆ shade of  ┆        ┆           │\n",
       "│            ┆ quality of ┆ clarity,  ┆ it        ┆   ┆ and visib ┆ red, and  ┆        ┆           │\n",
       "│            ┆ a ruby and ┆ and carat ┆ belongs   ┆   ┆ ility of  ┆ whether   ┆        ┆           │\n",
       "│            ┆ affects    ┆ weight.   ┆ to and    ┆   ┆ inclusion ┆ it is a   ┆        ┆           │\n",
       "│            ┆ its value? ┆           ┆ the       ┆   ┆ s.        ┆ birthston ┆        ┆           │\n",
       "│            ┆            ┆           ┆ element   ┆   ┆           ┆ e for     ┆        ┆           │\n",
       "│            ┆            ┆           ┆ chromium  ┆   ┆           ┆ July.     ┆        ┆           │\n",
       "│            ┆            ┆           ┆ in it.    ┆   ┆           ┆           ┆        ┆           │\n",
       "│ 118        ┆ What       ┆ Its       ┆ The type  ┆ … ┆ The size, ┆ The brigh ┆ A      ┆ daniel    │\n",
       "│            ┆ determines ┆ color,    ┆ of        ┆   ┆ number,   ┆ tness and ┆        ┆           │\n",
       "│            ┆ the        ┆ cut,      ┆ corundum  ┆   ┆ location, ┆ shade of  ┆        ┆           │\n",
       "│            ┆ quality of ┆ clarity,  ┆ it        ┆   ┆ and visib ┆ red, and  ┆        ┆           │\n",
       "│            ┆ a ruby and ┆ and carat ┆ belongs   ┆   ┆ ility of  ┆ whether   ┆        ┆           │\n",
       "│            ┆ affects    ┆ weight.   ┆ to and    ┆   ┆ inclusion ┆ it is a   ┆        ┆           │\n",
       "│            ┆ its value? ┆           ┆ the       ┆   ┆ s.        ┆ birthston ┆        ┆           │\n",
       "│            ┆            ┆           ┆ element   ┆   ┆           ┆ e for     ┆        ┆           │\n",
       "│            ┆            ┆           ┆ chromium  ┆   ┆           ┆ July.     ┆        ┆           │\n",
       "│            ┆            ┆           ┆ in it.    ┆   ┆           ┆           ┆        ┆           │\n",
       "└────────────┴────────────┴───────────┴───────────┴───┴───────────┴───────────┴────────┴───────────┘"
      ]
     },
     "execution_count": 251,
     "metadata": {},
     "output_type": "execute_result"
    }
   ],
   "source": [
    "i = 0\n",
    "print(high_rank[i]['score'].item())\n",
    "j = high_rank[i]['found_question_id'].item()\n",
    "i_q_idx = high_rank[i]['question_idx'].item()\n",
    "print(i_q_idx, j)\n",
    "train[[i_q_idx, j]]"
   ]
  },
  {
   "cell_type": "code",
   "execution_count": null,
   "id": "77c19406-66f7-4057-8933-f9d64186e374",
   "metadata": {},
   "outputs": [],
   "source": []
  },
  {
   "cell_type": "code",
   "execution_count": null,
   "id": "c50158a9-15df-406e-84cd-a0b37999d99c",
   "metadata": {},
   "outputs": [],
   "source": []
  },
  {
   "cell_type": "code",
   "execution_count": null,
   "id": "f99f05e1-b68e-482f-b2bf-37277c10389d",
   "metadata": {},
   "outputs": [],
   "source": []
  },
  {
   "cell_type": "code",
   "execution_count": null,
   "id": "a42b4cc5-82e4-4514-9611-537baf734ebb",
   "metadata": {},
   "outputs": [],
   "source": []
  },
  {
   "cell_type": "code",
   "execution_count": 125,
   "id": "98d011cb-c57a-4cfa-ae08-9cc9d39c736a",
   "metadata": {
    "tags": []
   },
   "outputs": [
    {
     "data": {
      "text/plain": [
       "['question', 'A', 'C', 'B', 'D', 'E', 'answer', 'dataset_name']"
      ]
     },
     "execution_count": 125,
     "metadata": {},
     "output_type": "execute_result"
    }
   ],
   "source": [
    "train.columns"
   ]
  },
  {
   "cell_type": "code",
   "execution_count": 127,
   "id": "d27bd245-8639-4c95-8938-8acb6f1f70c7",
   "metadata": {
    "tags": []
   },
   "outputs": [
    {
     "data": {
      "text/plain": [
       "(12949, 9)"
      ]
     },
     "execution_count": 127,
     "metadata": {},
     "output_type": "execute_result"
    }
   ],
   "source": [
    "daniel.shape"
   ]
  },
  {
   "cell_type": "code",
   "execution_count": 126,
   "id": "a5b6fbf4-6d4b-48c6-bcd5-9826c925dd8b",
   "metadata": {
    "tags": []
   },
   "outputs": [
    {
     "data": {
      "text/html": [
       "<div><style>\n",
       ".dataframe > thead > tr > th,\n",
       ".dataframe > tbody > tr > td {\n",
       "  text-align: right;\n",
       "  white-space: pre-wrap;\n",
       "}\n",
       "</style>\n",
       "<small>shape: (12_875, 9)</small><table border=\"1\" class=\"dataframe\"><thead><tr><th>question</th><th>title</th><th>section_title</th><th>A</th><th>B</th><th>C</th><th>D</th><th>E</th><th>answer</th></tr><tr><td>str</td><td>str</td><td>str</td><td>str</td><td>str</td><td>str</td><td>str</td><td>str</td><td>str</td></tr></thead><tbody><tr><td>&quot;What is the main purpose of the ANTARES project?&quot;</td><td>&quot;ANTARES (telescope)&quot;</td><td>&quot;Experimental goals&quot;</td><td>&quot;ANTARES is an observatory that studies the behavior of black holes in the center of galaxies and their impact on the surrounding space.&quot;</td><td>&quot;ANTARES is a neutrino detector designed to locate and observe neutrino flux from cosmic origins in the Southern Hemisphere of the Earth.&quot;</td><td>&quot;ANTARES is a particle accelerator that aims to collide high-energy particles to create new particles and study their properties.&quot;</td><td>&quot;ANTARES is a satellite that is orbiting the Earth to study the effects of microgravity on plant growth and development.&quot;</td><td>&quot;ANTARES is a solar telescope focused on studying the dynamics of the Sun&#x27;s outer atmosphere and its magnetic field.&quot;</td><td>&quot;B&quot;</td></tr><tr><td>&quot;What is the primary control theory input on bikes?&quot;</td><td>&quot;Bicycle and motorcycle dynamics&quot;</td><td>&quot;Braking technique&quot;</td><td>&quot;The primary control theory input on bikes is the speed of the bike, not the steering torque.&quot;</td><td>&quot;The primary control theory input on bikes is the length of the wheelbase, not the steering torque.&quot;</td><td>&quot;The primary control theory input on bikes is steering torque, not position.&quot;</td><td>&quot;The primary control theory input on bikes is the rider&#x27;s weight distribution, not the steering torque.&quot;</td><td>&quot;The primary control theory input on bikes is the position of the handlebars, not the torque.&quot;</td><td>&quot;C&quot;</td></tr><tr><td>&quot;What is a Fermi gas and how is it characterized in thermal equilibrium? &quot;</td><td>&quot;Fermi gas&quot;</td><td>&quot;Treatment at finite temperature&quot;</td><td>&quot;A Fermi gas is an idealized model of many interacting bosons, such as photons, mesons, and gluons. It is characterized in thermal equilibrium by the energy distribution of bosons, which is determined by their number density, temperature, and the set of available energy states.&quot;</td><td>&quot;A Fermi gas is an idealized model of many non-interacting fermions, such as electrons, protons, and neutrons. It is characterized in thermal equilibrium by the energy distribution of fermions, which is determined by their number density, temperature, and the set of available energy states.&quot;</td><td>&quot;A Fermi gas is an idealized model of many non-interacting fermions, such as electrons, protons, and neutrons. It is characterized in thermal equilibrium by the energy distribution of fermions, which is determined by their spin, mass, and the set of available energy levels.&quot;</td><td>&quot;A Fermi gas is a model of many interacting bosons, such as photons, mesons, and gluons. It is characterized in thermal equilibrium by the energy distribution of bosons, which is determined by their spin, mass, and the set of available energy levels.&quot;</td><td>&quot;A Fermi gas is a model of many interacting fermions, such as electrons, protons, and neutrons. It is characterized in thermal equilibrium by the energy distribution of fermions, which is determined by their spin, mass, and the set of available energy levels.&quot;</td><td>&quot;B&quot;</td></tr><tr><td>&quot;What are the two distinctively different types of rheometers?&quot;</td><td>&quot;Rheometer&quot;</td><td>&quot;Other types of extensional rheometers&quot;</td><td>&quot;Rotational or shear type rheometers and rheometers that apply extensional stress or extensional strain.&quot;</td><td>&quot;Rotational or shear type rheometers and capillary/contraction flow rheometers.&quot;</td><td>&quot;Rotational or shear type rheometers and acoustic rheometers.&quot;</td><td>&quot;Acoustic rheometers and falling plate rheometers.&quot;</td><td>&quot;Rotational or shear type rheometers and falling plate rheometers.&quot;</td><td>&quot;A&quot;</td></tr><tr><td>&quot;What is silk and how is it produced?&quot;</td><td>&quot;Silk&quot;</td><td>&quot;Medicine&quot;</td><td>&quot;Silk is a type of wool fiber obtained from sheep. The shimmering appearance of silk is due to the spiral-like structure of the silk fiber. Silk is mainly produced by the larvae of spiders.&quot;</td><td>&quot;Silk is a natural fiber protein fiber produced by certain insect larvae to form cocoons. The shimmering appearance of silk is due to the triangular-like structure of the silk fiber. Silk is mainly produced by the larvae of moth caterpillars.&quot;</td><td>&quot;Silk is a plant-based fiber obtained from the leaves of the mulberry tree. The shimmering appearance of silk is due to the rhombus-like structure of the silk fiber. Silk is mainly produced by the larvae of bees.&quot;</td><td>&quot;Silk is a synthetic fiber made from recycled plastic bottles. The shimmering appearance of silk is due to the rectangular-like structure of the silk fiber. Silk is mainly produced by the larvae of the silkworm.&quot;</td><td>&quot;Silk is a synthetic fiber made from petroleum-based chemicals. The shimmering appearance of silk is due to the hexagonal-like structure of the silk fiber. Silk is mainly produced by the larvae of beetles.&quot;</td><td>&quot;B&quot;</td></tr><tr><td>&quot;What is the purpose of a projection-valued measure in functional analysis and spectral theory?&quot;</td><td>&quot;Projection-valued measure&quot;</td><td>&quot;Extensions of projection-valued measures, integrals and the spectral theorem&quot;</td><td>&quot;A projection-valued measure is used to express results in combinatorics, such as the pigeonhole principle and Ramsey&#x27;s theorem. It allows for the integration of integer-valued functions with respect to the measure, resulting in a combinatorial object.&quot;</td><td>&quot;A projection-valued measure is used to express results in number theory, such as the prime number theorem and the Riemann Hypothesis. It allows for the integration of real-valued functions with respect to the measure, resulting in a complex number.&quot;</td><td>&quot;A projection-valued measure is used to express results in probability theory, such as the law of large numbers and the central limit theorem. It allows for the integration of probability density functions with respect to the measure, resulting in a cumulative distribution function.&quot;</td><td>&quot;A projection-valued measure is used to express results in algebraic geometry, such as the Nullstellensatz and the Riemann-Roch theorem. It allows for the integration of polynomial functions with respect to the measure, resulting in an algebraic variety.&quot;</td><td>&quot;A projection-valued measure is used to express results in spectral theory, such as the spectral theorem for self-adjoint operators and the Borel functional calculus. It allows for the integration of complex-valued functions with respect to the measure, resulting in a linear operator on a Hilbert space.&quot;</td><td>&quot;E&quot;</td></tr><tr><td>&quot;Which isoform of the androgen receptor is a full-length protein with a molecular weight of 110 kDa?&quot;</td><td>&quot;Androgen receptor&quot;</td><td>&quot;Isoforms&quot;</td><td>&quot;AR-D&quot;</td><td>&quot;AR-C&quot;</td><td>&quot;AR-A&quot;</td><td>&quot;AR-E&quot;</td><td>&quot;AR-B&quot;</td><td>&quot;E&quot;</td></tr><tr><td>&quot;According to physicist David Deutsch&#x27;s book &#x27;The Fabric of Reality&#x27;, what is his theory of everything (TOE) based on?&quot;</td><td>&quot;The Fabric of Reality&quot;</td><td>&quot;Overview&quot;</td><td>&quot;David Deutsch&#x27;s theory of everything (TOE) is based solely on the multiverse principle, which states that there are infinite parallel universes.&quot;</td><td>&quot;David Deutsch&#x27;s theory of everything (TOE) is based on Karl Popper&#x27;s epistemology, emphasizing a non-realist interpretation of scientific theories and an instrumental approach.&quot;</td><td>&quot;David Deutsch&#x27;s theory of everything (TOE) is based on computational principles, focusing on the behavior of information processing systems, such as Turing machines.&quot;</td><td>&quot;David Deutsch&#x27;s theory of everything (TOE) is based on mutual support among the multiverse, computational, epistemological, and evolutionary principles. It aims not at the reduction of everything to particle physics, but rather at (weakly) emergence.&quot;</td><td>&quot;David Deutsch&#x27;s theory of everything (TOE) is based on reductionism and aims at reducing everything to particle physics, disregarding other principles such as the multiverse, computational, epistemological, and evolutionary principles.&quot;</td><td>&quot;D&quot;</td></tr><tr><td>&quot;What is the Lempel-Ziv-Welch algorithm?&quot;</td><td>&quot;Lempel–Ziv–Welch&quot;</td><td>&quot;Encoding&quot;</td><td>&quot;The Lempel-Ziv-Welch (LZW) algorithm is a specific type of lossy data compression algorithm that was published by Terry Welch in 1978 as an improved implementation of the LZ77 and LZ78 algorithm originally developed by Abraham Lempel and Jacob Ziv.&quot;</td><td>&quot;The Lempel-Ziv-Welch (LZW) algorithm is a universal lossless data compression algorithm that was published by Terry Welch in 1984 as an improved implementation of the LZ77 and LZ78 algorithm originally developed by Abraham Lempel and Jacob Ziv in 1978.&quot;</td><td>&quot;The Lempel-Ziv-Welch (LZW) algorithm is a lossless data compression algorithm that was published by Abraham Lempel and Jacob Ziv in 1978.&quot;</td><td>&quot;The Lempel-Ziv-Welch (LZW) algorithm is a lossless data compression algorithm that was published by Terry Welch in 1978 as an improved implementation of the LZ77 and LZ78 algorithm originally developed by Abraham Lempel and Jacob Ziv.&quot;</td><td>&quot;The Lempel-Ziv-Welch (LZW) algorithm is a specific type of lossy data compression algorithm that was published by Abraham Lempel, Jacob Ziv, and Terry Welch in 1984.&quot;</td><td>&quot;B&quot;</td></tr><tr><td>&quot;Which equation describes waves or standing wave fields in classical physics, such as mechanical waves and electromagnetic waves?&quot;</td><td>&quot;Wave equation&quot;</td><td>&quot;Reflection and transmission at the boundary of two media&quot;</td><td>&quot;The equation for reflectivity and transmissivity&quot;</td><td>&quot;The continuity condition at the boundary&quot;</td><td>&quot;The (two-way) wave equation&quot;</td><td>&quot;The first-order one-way wave equation&quot;</td><td>&quot;The waveform equation for incident waves&quot;</td><td>&quot;C&quot;</td></tr><tr><td>&quot;What is the 331 model in particle physics?&quot;</td><td>&quot;331 model&quot;</td><td>&quot;Details&quot;</td><td>&quot;The 331 model is an extension of the electroweak gauge symmetry from SU(2)_L times U(1)_Y to ,SU(3)_L times U(1)_X, with SU(2)_L subset SU(3)_L.&quot;</td><td>&quot;The 331 model is an extension of the electroweak gauge symmetry from SU(3)_L times U(1)_Y to ,SU(4)_L times U(1)_X, with SU(3)_L subset SU(4)_L.&quot;</td><td>&quot;The 331 model is an extension of the electroweak gauge symmetry from SU(3)_L times U(1)_Y to ,SU(5)_L times U(1)_X, with SU(3)_L subset SU(5)_L.&quot;</td><td>&quot;The 331 model is an extension of the electroweak gauge symmetry from SU(2)_L times U(1)_Y to ,SU(5)_L times U(1)_X, with SU(2)_L subset SU(5)_L.&quot;</td><td>&quot;The 331 model is an extension of the electroweak gauge symmetry from SU(2)_L times U(1)_Y to ,SU(4)_L times U(1)_X, with SU(2)_L subset SU(4)_L.&quot;</td><td>&quot;A&quot;</td></tr><tr><td>&quot;What is the mathematical concept in percolation theory that describes the formation of long-range connectivity in random systems?&quot;</td><td>&quot;Percolation threshold&quot;</td><td>&quot;Archimedean duals (Laves lattices)&quot;</td><td>&quot;Percolation threshold&quot;</td><td>&quot;Lattice model&quot;</td><td>&quot;Occupation probability&quot;</td><td>&quot;Giant connected component&quot;</td><td>&quot;Critical surface&quot;</td><td>&quot;A&quot;</td></tr><tr><td>&hellip;</td><td>&hellip;</td><td>&hellip;</td><td>&hellip;</td><td>&hellip;</td><td>&hellip;</td><td>&hellip;</td><td>&hellip;</td><td>&hellip;</td></tr><tr><td>&quot;What is the wave equation?&quot;</td><td>&quot;Wave equation&quot;</td><td>&quot;Monochromatic spherical wave&quot;</td><td>&quot;The wave equation is a second-order linear partial differential equation that describes waves or standing wave fields in various fields of physics, such as mechanical waves and electromagnetic radiation.&quot;</td><td>&quot;The wave equation is a type of water turbine used in hydroelectric generating stations to generate electricity.&quot;</td><td>&quot;The wave equation is a type of air trap or standpipe used to dampen the sound of moving water in plumbing systems.&quot;</td><td>&quot;The wave equation is a type of water pump used to increase the pressure of water in pipelines.&quot;</td><td>&quot;The wave equation is a type of plumbing tool used to break pipelines and absorb the potentially damaging forces caused by moving water.&quot;</td><td>&quot;A&quot;</td></tr><tr><td>&quot;What causes leaf spots on plants?&quot;</td><td>&quot;Leaf spot&quot;</td><td>&quot;Virus&quot;</td><td>&quot;Leaf spots on plants are primarily caused by injuries from nematodes and have no relation to fungal, bacterial, or viral plant diseases.&quot;</td><td>&quot;Leaf spots on plants are caused by herbicides and have no relation to fungal, bacterial, or viral plant diseases.&quot;</td><td>&quot;Leaf spots on plants can be caused by fungal, bacterial, or viral plant diseases, as well as injuries from nematodes, insects, environmental factors, toxicity, or herbicides.&quot;</td><td>&quot;Leaf spots on plants are primarily caused by environmental factors such as prolonged wet and humid conditions and have no relation to fungal, bacterial, or viral plant diseases.&quot;</td><td>&quot;Leaf spots on plants are strictly caused by fungal diseases and have no relation to bacterial or viral plant diseases.&quot;</td><td>&quot;C&quot;</td></tr><tr><td>&quot;What is the main purpose of Perlin noise in computer graphics?&quot;</td><td>&quot;Perlin noise&quot;</td><td>&quot;Dot product&quot;</td><td>&quot;Perlin noise is used to calculate the dot product between gradient vectors and offset vectors.&quot;</td><td>&quot;Perlin noise is used to normalize the offset vector to a length of 1 before calculating the dot product.&quot;</td><td>&quot;Perlin noise is primarily used as a scenery generator and for creating image textures.&quot;</td><td>&quot;Perlin noise is used to identify the unique grid cell in which a candidate point lies.&quot;</td><td>&quot;Perlin noise is used to determine the value of a candidate point on a grid.&quot;</td><td>&quot;C&quot;</td></tr><tr><td>&quot;What experiment provided the first direct, quantitative confirmation of the time dilation factor and tested the contribution of relativistic time dilation to the Doppler effect of light?&quot;</td><td>&quot;Ives–Stilwell experiment&quot;</td><td>&quot;The experiment of 1941&quot;</td><td>&quot;The Kennedy–Thorndike experiment&quot;</td><td>&quot;The Ives–Stilwell experiment&quot;</td><td>&quot;The Mössbauer rotor experiments&quot;</td><td>&quot;Modern experiments have confirmed the relativistic Doppler effect&quot;</td><td>&quot;The Michelson–Morley experiment&quot;</td><td>&quot;B&quot;</td></tr><tr><td>&quot;What is ram feeding?&quot;</td><td>&quot;Aquatic feeding mechanisms&quot;</td><td>&quot;Ram feeding&quot;</td><td>&quot;Ram feeding is a method of feeding where the predator releases toxins into the water, immobilizing the prey and allowing the predator to capture it easily. This feeding mechanism is commonly observed in venomous aquatic species such as stonefish and lionfish.&quot;</td><td>&quot;Ram feeding is a method of feeding where the predator moves backward with its mouth open, expelling water forcefully and capturing the prey in the process. This feeding mechanism is commonly observed in bony fish and allows them to capture fast-moving prey in open water.&quot;</td><td>&quot;Ram feeding is a method of feeding where the predator uses its sharp teeth to tear apart the prey into smaller pieces before consuming it. This feeding mechanism is commonly observed in predatory sharks and helps them process larger prey more efficiently.&quot;</td><td>&quot;Ram feeding is a method of feeding underwater in which the predator moves forward with its mouth open, engulfing the prey along with the water surrounding it. During ram feeding, the prey remains fixed in space, and the predator moves its jaws past the prey to capture it. The motion of the head may induce a bow wave in the fluid which pushes the prey away from the jaws, but this can be avoided by allowing water to flow through the jaw. This can be accomplished by means of a swept-back mouth, as in balaenid whales, or by allowing water to flow out through the gills, as in sharks and herring. A number of species have evolved narrow snouts, as in gar fish and Water snake (disambiguation)s.&quot;</td><td>&quot;Ram feeding is a method of feeding underwater in which the predator remains stationary with its mouth open, waiting for the prey to swim by and get caught inside its mouth. The prey is then captured by the predator closing its mouth and swallowing the prey whole.&quot;</td><td>&quot;D&quot;</td></tr><tr><td>&quot;What is the purpose of immunocytochemistry (ICC) in research?&quot;</td><td>&quot;Immunocytochemistry&quot;</td><td>&quot;Methods&quot;</td><td>&quot;ICC is a method to obtain immunological detection on tissues using chromogens, but it does not provide information about gene expression or sub-cellular compartments.&quot;</td><td>&quot;ICC is used to visualize the anatomical localization of a specific protein or antigen in cells but does not provide information about gene expression or sub-cellular compartments.&quot;</td><td>&quot;ICC allows researchers to evaluate whether or not cells in a particular sample gene expression the antigen in question and determine which sub-cellular compartments are expressing the antigen.&quot;</td><td>&quot;ICC is used to visualize the location of proteins and dynamic processes in cells, but it does not provide information about gene expression or sub-cellular compartments.&quot;</td><td>&quot;ICC is a technique used to amplify the primary antibody by using a secondary antibody, but it does not provide information about gene expression or sub-cellular compartments.&quot;</td><td>&quot;C&quot;</td></tr><tr><td>&quot;What is the McClintock effect, also known as menstrual synchrony?&quot;</td><td>&quot;Menstrual synchrony&quot;</td><td>&quot;Media attention&quot;</td><td>&quot;A process where women living together experience their menstrual cycles becoming less synchronized in time.&quot;</td><td>&quot;A contested process where women living together experience their menstrual cycles becoming more synchronized in time.&quot;</td><td>&quot;A process where women living apart experience their menstrual cycles becoming more synchronized in time.&quot;</td><td>&quot;A process where women living together experience their menstrual cycles becoming more synchronized with the lunar phases.&quot;</td><td>&quot;A proven process where women living together always experience their menstrual cycles becoming synchronized in time.&quot;</td><td>&quot;B&quot;</td></tr><tr><td>&quot;What is the role of the FOXP2 gene in humans?&quot;</td><td>&quot;FOXP2&quot;</td><td>&quot;Evolution&quot;</td><td>&quot;FOXP2 is required for the proper development of speech and language in humans&quot;</td><td>&quot;FOXP2 is responsible for the development of motor skills in humans&quot;</td><td>&quot;FOXP2 is involved in the regulation of gene expression in humans&quot;</td><td>&quot;FOXP2 is essential for the maintenance of homeostasis in humans&quot;</td><td>&quot;FOXP2 plays a role in the development of the brain, heart, lungs, and digestive system in humans&quot;</td><td>&quot;A&quot;</td></tr><tr><td>&quot;What is the classification system used to define the severity of chronic limb ischemia?&quot;</td><td>&quot;Peripheral artery disease&quot;</td><td>&quot;Classification&quot;</td><td>&quot;The TASC classification system&quot;</td><td>&quot;The Society for Vascular Surgery classification system&quot;</td><td>&quot;The WIfI classification system&quot;</td><td>&quot;The International Society of Cardiovascular Surgery classification system&quot;</td><td>&quot;The Fontaine and Rutherford systems&quot;</td><td>&quot;E&quot;</td></tr><tr><td>&quot;What is the main innovation of the Skatecycle?&quot;</td><td>&quot;Centreless wheel&quot;</td><td>&quot;Skatecycle&quot;</td><td>&quot;Hubless wheels and a 3-axis twisting axle.&quot;</td><td>&quot;Hubless wheels and a 2-axis twisting axle.&quot;</td><td>&quot;Hubless wheels and a 2-axis pivoting axle.&quot;</td><td>&quot;Pneumatic wheels and a 3-axis pivoting axle.&quot;</td><td>&quot;Pneumatic wheels and a 2-axis twisting axle.&quot;</td><td>&quot;B&quot;</td></tr><tr><td>&quot;What is the Hausdorff dimension of the Sierpiński curve?&quot;</td><td>&quot;Sierpiński curve&quot;</td><td>&quot;Representation as Lindenmayer system&quot;</td><td>&quot;5&quot;</td><td>&quot;3&quot;</td><td>&quot;2&quot;</td><td>&quot;4&quot;</td><td>&quot;1&quot;</td><td>&quot;C&quot;</td></tr><tr><td>&quot;What is the purpose of the DEBUG.EXE command in operating systems such as DOS, OS/2, and Microsoft Windows? DEBUG can act as an Assembly language assembler, disassembler, or hex dump program allowing users to interactively examine computer storage contents, make changes, and selectively execute COM file, EXE, and other file types. What other subcommands can be used with DEBUG?&quot;</td><td>&quot;Debug (command)&quot;</td><td>&quot;Syntax&quot;</td><td>&quot;The DEBUG command can be used with subcommands such as &#x27;M&#x27; to merge files, &#x27;G&#x27; to generate reports, &#x27;L&#x27; to list file attributes, and &#x27;V&#x27; to verify file integrity.&quot;</td><td>&quot;The DEBUG command can be used with subcommands such as &#x27;A&#x27; to enter assembler mode, &#x27;D&#x27; to perform a hex dump, &#x27;T&#x27; to trace, and &#x27;U&#x27; to unassemble (disassemble) a program in memory.&quot;</td><td>&quot;The DEBUG command can be used with subcommands such as &#x27;H&#x27; to hide files, &#x27;I&#x27; to install software, &#x27;W&#x27; to wipe hard drives, and &#x27;X&#x27; to execute batch files.&quot;</td><td>&quot;The DEBUG command can be used with subcommands such as &#x27;F&#x27; to format disk drives, &#x27;R&#x27; to recover lost data, &#x27;S&#x27; to scan for viruses, and &#x27;C&#x27; to copy files between directories.&quot;</td><td>&quot;The DEBUG command can be used with subcommands such as &#x27;B&#x27; to backup system files, &#x27;E&#x27; to edit text files, &#x27;P&#x27; to print documents, and &#x27;N&#x27; to navigate file directories.&quot;</td><td>&quot;B&quot;</td></tr></tbody></table></div>"
      ],
      "text/plain": [
       "shape: (12_875, 9)\n",
       "┌────────────┬────────────┬───────────┬───────────┬───┬───────────┬───────────┬───────────┬────────┐\n",
       "│ question   ┆ title      ┆ section_t ┆ A         ┆ … ┆ C         ┆ D         ┆ E         ┆ answer │\n",
       "│ ---        ┆ ---        ┆ itle      ┆ ---       ┆   ┆ ---       ┆ ---       ┆ ---       ┆ ---    │\n",
       "│ str        ┆ str        ┆ ---       ┆ str       ┆   ┆ str       ┆ str       ┆ str       ┆ str    │\n",
       "│            ┆            ┆ str       ┆           ┆   ┆           ┆           ┆           ┆        │\n",
       "╞════════════╪════════════╪═══════════╪═══════════╪═══╪═══════════╪═══════════╪═══════════╪════════╡\n",
       "│ What is    ┆ ANTARES    ┆ Experimen ┆ ANTARES   ┆ … ┆ ANTARES   ┆ ANTARES   ┆ ANTARES   ┆ B      │\n",
       "│ the main   ┆ (telescope ┆ tal goals ┆ is an obs ┆   ┆ is a      ┆ is a      ┆ is a      ┆        │\n",
       "│ purpose of ┆ )          ┆           ┆ ervatory  ┆   ┆ particle  ┆ satellite ┆ solar     ┆        │\n",
       "│ the        ┆            ┆           ┆ that      ┆   ┆ accelerat ┆ that is   ┆ telescope ┆        │\n",
       "│ ANTARES    ┆            ┆           ┆ studies   ┆   ┆ or that   ┆ orbiting  ┆ focused   ┆        │\n",
       "│ project?   ┆            ┆           ┆ the       ┆   ┆ aims to   ┆ the Earth ┆ on        ┆        │\n",
       "│            ┆            ┆           ┆ behavior  ┆   ┆ collide   ┆ to study  ┆ studying  ┆        │\n",
       "│            ┆            ┆           ┆ of black  ┆   ┆ high-ener ┆ the       ┆ the       ┆        │\n",
       "│            ┆            ┆           ┆ holes in  ┆   ┆ gy        ┆ effects   ┆ dynamics  ┆        │\n",
       "│            ┆            ┆           ┆ the       ┆   ┆ particles ┆ of microg ┆ of the    ┆        │\n",
       "│            ┆            ┆           ┆ center of ┆   ┆ to create ┆ ravity on ┆ Sun's     ┆        │\n",
       "│            ┆            ┆           ┆ galaxies  ┆   ┆ new       ┆ plant     ┆ outer atm ┆        │\n",
       "│            ┆            ┆           ┆ and their ┆   ┆ particles ┆ growth    ┆ osphere   ┆        │\n",
       "│            ┆            ┆           ┆ impact on ┆   ┆ and study ┆ and devel ┆ and its   ┆        │\n",
       "│            ┆            ┆           ┆ the surro ┆   ┆ their pro ┆ opment.   ┆ magnetic  ┆        │\n",
       "│            ┆            ┆           ┆ unding    ┆   ┆ perties.  ┆           ┆ field.    ┆        │\n",
       "│            ┆            ┆           ┆ space.    ┆   ┆           ┆           ┆           ┆        │\n",
       "│ What is    ┆ Bicycle    ┆ Braking   ┆ The       ┆ … ┆ The       ┆ The       ┆ The       ┆ C      │\n",
       "│ the        ┆ and        ┆ technique ┆ primary   ┆   ┆ primary   ┆ primary   ┆ primary   ┆        │\n",
       "│ primary    ┆ motorcycle ┆           ┆ control   ┆   ┆ control   ┆ control   ┆ control   ┆        │\n",
       "│ control    ┆ dynamics   ┆           ┆ theory    ┆   ┆ theory    ┆ theory    ┆ theory    ┆        │\n",
       "│ theory     ┆            ┆           ┆ input on  ┆   ┆ input on  ┆ input on  ┆ input on  ┆        │\n",
       "│ input on   ┆            ┆           ┆ bikes is  ┆   ┆ bikes is  ┆ bikes is  ┆ bikes is  ┆        │\n",
       "│ bikes?     ┆            ┆           ┆ the speed ┆   ┆ steering  ┆ the       ┆ the       ┆        │\n",
       "│            ┆            ┆           ┆ of the    ┆   ┆ torque,   ┆ rider's   ┆ position  ┆        │\n",
       "│            ┆            ┆           ┆ bike, not ┆   ┆ not       ┆ weight    ┆ of the    ┆        │\n",
       "│            ┆            ┆           ┆ the       ┆   ┆ position. ┆ distribut ┆ handlebar ┆        │\n",
       "│            ┆            ┆           ┆ steering  ┆   ┆           ┆ ion, not  ┆ s, not    ┆        │\n",
       "│            ┆            ┆           ┆ torque.   ┆   ┆           ┆ the       ┆ the       ┆        │\n",
       "│            ┆            ┆           ┆           ┆   ┆           ┆ steering  ┆ torque.   ┆        │\n",
       "│            ┆            ┆           ┆           ┆   ┆           ┆ torque.   ┆           ┆        │\n",
       "│ What is a  ┆ Fermi gas  ┆ Treatment ┆ A Fermi   ┆ … ┆ A Fermi   ┆ A Fermi   ┆ A Fermi   ┆ B      │\n",
       "│ Fermi gas  ┆            ┆ at finite ┆ gas is an ┆   ┆ gas is an ┆ gas is a  ┆ gas is a  ┆        │\n",
       "│ and how is ┆            ┆ temperatu ┆ idealized ┆   ┆ idealized ┆ model of  ┆ model of  ┆        │\n",
       "│ it charact ┆            ┆ re        ┆ model of  ┆   ┆ model of  ┆ many inte ┆ many inte ┆        │\n",
       "│ erized in  ┆            ┆           ┆ many inte ┆   ┆ many non- ┆ racting   ┆ racting   ┆        │\n",
       "│ thermal    ┆            ┆           ┆ racting   ┆   ┆ interacti ┆ bosons,   ┆ fermions, ┆        │\n",
       "│ equilibriu ┆            ┆           ┆ bosons,   ┆   ┆ ng        ┆ such as   ┆ such as   ┆        │\n",
       "│ m?         ┆            ┆           ┆ such as   ┆   ┆ fermions, ┆ photons,  ┆ electrons ┆        │\n",
       "│            ┆            ┆           ┆ photons,  ┆   ┆ such as   ┆ mesons,   ┆ ,         ┆        │\n",
       "│            ┆            ┆           ┆ mesons,   ┆   ┆ electrons ┆ and       ┆ protons,  ┆        │\n",
       "│            ┆            ┆           ┆ and       ┆   ┆ ,         ┆ gluons.   ┆ and       ┆        │\n",
       "│            ┆            ┆           ┆ gluons.   ┆   ┆ protons,  ┆ It is cha ┆ neutrons. ┆        │\n",
       "│            ┆            ┆           ┆ It is cha ┆   ┆ and       ┆ racterize ┆ It is cha ┆        │\n",
       "│            ┆            ┆           ┆ racterize ┆   ┆ neutrons. ┆ d in      ┆ racterize ┆        │\n",
       "│            ┆            ┆           ┆ d in      ┆   ┆ It is cha ┆ thermal   ┆ d in      ┆        │\n",
       "│            ┆            ┆           ┆ thermal   ┆   ┆ racterize ┆ equilibri ┆ thermal   ┆        │\n",
       "│            ┆            ┆           ┆ equilibri ┆   ┆ d in      ┆ um by the ┆ equilibri ┆        │\n",
       "│            ┆            ┆           ┆ um by the ┆   ┆ thermal   ┆ energy    ┆ um by the ┆        │\n",
       "│            ┆            ┆           ┆ energy    ┆   ┆ equilibri ┆ distribut ┆ energy    ┆        │\n",
       "│            ┆            ┆           ┆ distribut ┆   ┆ um by the ┆ ion of    ┆ distribut ┆        │\n",
       "│            ┆            ┆           ┆ ion of    ┆   ┆ energy    ┆ bosons,   ┆ ion of    ┆        │\n",
       "│            ┆            ┆           ┆ bosons,   ┆   ┆ distribut ┆ which is  ┆ fermions, ┆        │\n",
       "│            ┆            ┆           ┆ which is  ┆   ┆ ion of    ┆ determine ┆ which is  ┆        │\n",
       "│            ┆            ┆           ┆ determine ┆   ┆ fermions, ┆ d by      ┆ determine ┆        │\n",
       "│            ┆            ┆           ┆ d by      ┆   ┆ which is  ┆ their     ┆ d by      ┆        │\n",
       "│            ┆            ┆           ┆ their     ┆   ┆ determine ┆ spin,     ┆ their     ┆        │\n",
       "│            ┆            ┆           ┆ number    ┆   ┆ d by      ┆ mass, and ┆ spin,     ┆        │\n",
       "│            ┆            ┆           ┆ density,  ┆   ┆ their     ┆ the set   ┆ mass, and ┆        │\n",
       "│            ┆            ┆           ┆ temperatu ┆   ┆ spin,     ┆ of        ┆ the set   ┆        │\n",
       "│            ┆            ┆           ┆ re, and   ┆   ┆ mass, and ┆ available ┆ of        ┆        │\n",
       "│            ┆            ┆           ┆ the set   ┆   ┆ the set   ┆ energy    ┆ available ┆        │\n",
       "│            ┆            ┆           ┆ of        ┆   ┆ of        ┆ levels.   ┆ energy    ┆        │\n",
       "│            ┆            ┆           ┆ available ┆   ┆ available ┆           ┆ levels.   ┆        │\n",
       "│            ┆            ┆           ┆ energy    ┆   ┆ energy    ┆           ┆           ┆        │\n",
       "│            ┆            ┆           ┆ states.   ┆   ┆ levels.   ┆           ┆           ┆        │\n",
       "│ What are   ┆ Rheometer  ┆ Other     ┆ Rotationa ┆ … ┆ Rotationa ┆ Acoustic  ┆ Rotationa ┆ A      │\n",
       "│ the two    ┆            ┆ types of  ┆ l or      ┆   ┆ l or      ┆ rheometer ┆ l or      ┆        │\n",
       "│ distinctiv ┆            ┆ extension ┆ shear     ┆   ┆ shear     ┆ s and     ┆ shear     ┆        │\n",
       "│ ely        ┆            ┆ al rheome ┆ type rheo ┆   ┆ type rheo ┆ falling   ┆ type rheo ┆        │\n",
       "│ different  ┆            ┆ ters      ┆ meters    ┆   ┆ meters    ┆ plate rhe ┆ meters    ┆        │\n",
       "│ types of   ┆            ┆           ┆ and rheom ┆   ┆ and       ┆ ometers.  ┆ and       ┆        │\n",
       "│ rheometers ┆            ┆           ┆ eters     ┆   ┆ acoustic  ┆           ┆ falling   ┆        │\n",
       "│ ?          ┆            ┆           ┆ that      ┆   ┆ rheometer ┆           ┆ plate rhe ┆        │\n",
       "│            ┆            ┆           ┆ apply ext ┆   ┆ s.        ┆           ┆ ometers.  ┆        │\n",
       "│            ┆            ┆           ┆ ensional  ┆   ┆           ┆           ┆           ┆        │\n",
       "│            ┆            ┆           ┆ stress or ┆   ┆           ┆           ┆           ┆        │\n",
       "│            ┆            ┆           ┆ extension ┆   ┆           ┆           ┆           ┆        │\n",
       "│            ┆            ┆           ┆ al        ┆   ┆           ┆           ┆           ┆        │\n",
       "│            ┆            ┆           ┆ strain.   ┆   ┆           ┆           ┆           ┆        │\n",
       "│ …          ┆ …          ┆ …         ┆ …         ┆ … ┆ …         ┆ …         ┆ …         ┆ …      │\n",
       "│ What is    ┆ Peripheral ┆ Classific ┆ The TASC  ┆ … ┆ The WIfI  ┆ The Inter ┆ The       ┆ E      │\n",
       "│ the classi ┆ artery     ┆ ation     ┆ classific ┆   ┆ classific ┆ national  ┆ Fontaine  ┆        │\n",
       "│ fication   ┆ disease    ┆           ┆ ation     ┆   ┆ ation     ┆ Society   ┆ and Ruthe ┆        │\n",
       "│ system     ┆            ┆           ┆ system    ┆   ┆ system    ┆ of Cardio ┆ rford     ┆        │\n",
       "│ used to    ┆            ┆           ┆           ┆   ┆           ┆ vascular  ┆ systems   ┆        │\n",
       "│ define the ┆            ┆           ┆           ┆   ┆           ┆ Surgery   ┆           ┆        │\n",
       "│ severity   ┆            ┆           ┆           ┆   ┆           ┆ classific ┆           ┆        │\n",
       "│ of chronic ┆            ┆           ┆           ┆   ┆           ┆ ation     ┆           ┆        │\n",
       "│ limb       ┆            ┆           ┆           ┆   ┆           ┆ system    ┆           ┆        │\n",
       "│ ischemia?  ┆            ┆           ┆           ┆   ┆           ┆           ┆           ┆        │\n",
       "│ What is    ┆ Centreless ┆ Skatecycl ┆ Hubless   ┆ … ┆ Hubless   ┆ Pneumatic ┆ Pneumatic ┆ B      │\n",
       "│ the main   ┆ wheel      ┆ e         ┆ wheels    ┆   ┆ wheels    ┆ wheels    ┆ wheels    ┆        │\n",
       "│ innovation ┆            ┆           ┆ and a     ┆   ┆ and a     ┆ and a     ┆ and a     ┆        │\n",
       "│ of the Ska ┆            ┆           ┆ 3-axis    ┆   ┆ 2-axis    ┆ 3-axis    ┆ 2-axis    ┆        │\n",
       "│ tecycle?   ┆            ┆           ┆ twisting  ┆   ┆ pivoting  ┆ pivoting  ┆ twisting  ┆        │\n",
       "│            ┆            ┆           ┆ axle.     ┆   ┆ axle.     ┆ axle.     ┆ axle.     ┆        │\n",
       "│ What is    ┆ Sierpiński ┆ Represent ┆ 5         ┆ … ┆ 2         ┆ 4         ┆ 1         ┆ C      │\n",
       "│ the        ┆ curve      ┆ ation as  ┆           ┆   ┆           ┆           ┆           ┆        │\n",
       "│ Hausdorff  ┆            ┆ Lindenmay ┆           ┆   ┆           ┆           ┆           ┆        │\n",
       "│ dimension  ┆            ┆ er system ┆           ┆   ┆           ┆           ┆           ┆        │\n",
       "│ of the     ┆            ┆           ┆           ┆   ┆           ┆           ┆           ┆        │\n",
       "│ Sierpiński ┆            ┆           ┆           ┆   ┆           ┆           ┆           ┆        │\n",
       "│ curve?     ┆            ┆           ┆           ┆   ┆           ┆           ┆           ┆        │\n",
       "│ What is    ┆ Debug      ┆ Syntax    ┆ The DEBUG ┆ … ┆ The DEBUG ┆ The DEBUG ┆ The DEBUG ┆ B      │\n",
       "│ the        ┆ (command)  ┆           ┆ command   ┆   ┆ command   ┆ command   ┆ command   ┆        │\n",
       "│ purpose of ┆            ┆           ┆ can be    ┆   ┆ can be    ┆ can be    ┆ can be    ┆        │\n",
       "│ the        ┆            ┆           ┆ used with ┆   ┆ used with ┆ used with ┆ used with ┆        │\n",
       "│ DEBUG.EXE  ┆            ┆           ┆ subcomman ┆   ┆ subcomman ┆ subcomman ┆ subcomman ┆        │\n",
       "│ command in ┆            ┆           ┆ ds such   ┆   ┆ ds such   ┆ ds such   ┆ ds such   ┆        │\n",
       "│ operating  ┆            ┆           ┆ as 'M' to ┆   ┆ as 'H' to ┆ as 'F' to ┆ as 'B' to ┆        │\n",
       "│ systems    ┆            ┆           ┆ merge     ┆   ┆ hide      ┆ format    ┆ backup    ┆        │\n",
       "│ such as    ┆            ┆           ┆ files,    ┆   ┆ files,    ┆ disk      ┆ system    ┆        │\n",
       "│ DOS, OS/2, ┆            ┆           ┆ 'G' to    ┆   ┆ 'I' to    ┆ drives,   ┆ files,    ┆        │\n",
       "│ and        ┆            ┆           ┆ generate  ┆   ┆ install   ┆ 'R' to    ┆ 'E' to    ┆        │\n",
       "│ Microsoft  ┆            ┆           ┆ reports,  ┆   ┆ software, ┆ recover   ┆ edit text ┆        │\n",
       "│ Windows?   ┆            ┆           ┆ 'L' to    ┆   ┆ 'W' to    ┆ lost      ┆ files,    ┆        │\n",
       "│ DEBUG can  ┆            ┆           ┆ list file ┆   ┆ wipe hard ┆ data, 'S' ┆ 'P' to    ┆        │\n",
       "│ act as an  ┆            ┆           ┆ attribute ┆   ┆ drives,   ┆ to scan   ┆ print doc ┆        │\n",
       "│ Assembly   ┆            ┆           ┆ s, and    ┆   ┆ and 'X'   ┆ for       ┆ uments,   ┆        │\n",
       "│ language   ┆            ┆           ┆ 'V' to    ┆   ┆ to        ┆ viruses,  ┆ and 'N'   ┆        │\n",
       "│ assembler, ┆            ┆           ┆ verify    ┆   ┆ execute   ┆ and 'C'   ┆ to        ┆        │\n",
       "│ disassembl ┆            ┆           ┆ file inte ┆   ┆ batch     ┆ to copy   ┆ navigate  ┆        │\n",
       "│ er, or hex ┆            ┆           ┆ grity.    ┆   ┆ files.    ┆ files     ┆ file dire ┆        │\n",
       "│ dump       ┆            ┆           ┆           ┆   ┆           ┆ between   ┆ ctories.  ┆        │\n",
       "│ program    ┆            ┆           ┆           ┆   ┆           ┆ directori ┆           ┆        │\n",
       "│ allowing   ┆            ┆           ┆           ┆   ┆           ┆ es.       ┆           ┆        │\n",
       "│ users to   ┆            ┆           ┆           ┆   ┆           ┆           ┆           ┆        │\n",
       "│ interactiv ┆            ┆           ┆           ┆   ┆           ┆           ┆           ┆        │\n",
       "│ ely        ┆            ┆           ┆           ┆   ┆           ┆           ┆           ┆        │\n",
       "│ examine    ┆            ┆           ┆           ┆   ┆           ┆           ┆           ┆        │\n",
       "│ computer   ┆            ┆           ┆           ┆   ┆           ┆           ┆           ┆        │\n",
       "│ storage    ┆            ┆           ┆           ┆   ┆           ┆           ┆           ┆        │\n",
       "│ contents,  ┆            ┆           ┆           ┆   ┆           ┆           ┆           ┆        │\n",
       "│ make       ┆            ┆           ┆           ┆   ┆           ┆           ┆           ┆        │\n",
       "│ changes,   ┆            ┆           ┆           ┆   ┆           ┆           ┆           ┆        │\n",
       "│ and select ┆            ┆           ┆           ┆   ┆           ┆           ┆           ┆        │\n",
       "│ ively      ┆            ┆           ┆           ┆   ┆           ┆           ┆           ┆        │\n",
       "│ execute    ┆            ┆           ┆           ┆   ┆           ┆           ┆           ┆        │\n",
       "│ COM file,  ┆            ┆           ┆           ┆   ┆           ┆           ┆           ┆        │\n",
       "│ EXE, and   ┆            ┆           ┆           ┆   ┆           ┆           ┆           ┆        │\n",
       "│ other file ┆            ┆           ┆           ┆   ┆           ┆           ┆           ┆        │\n",
       "│ types.     ┆            ┆           ┆           ┆   ┆           ┆           ┆           ┆        │\n",
       "│ What other ┆            ┆           ┆           ┆   ┆           ┆           ┆           ┆        │\n",
       "│ subcommand ┆            ┆           ┆           ┆   ┆           ┆           ┆           ┆        │\n",
       "│ s can be   ┆            ┆           ┆           ┆   ┆           ┆           ┆           ┆        │\n",
       "│ used with  ┆            ┆           ┆           ┆   ┆           ┆           ┆           ┆        │\n",
       "│ DEBUG?     ┆            ┆           ┆           ┆   ┆           ┆           ┆           ┆        │\n",
       "└────────────┴────────────┴───────────┴───────────┴───┴───────────┴───────────┴───────────┴────────┘"
      ]
     },
     "execution_count": 126,
     "metadata": {},
     "output_type": "execute_result"
    }
   ],
   "source": [
    "daniel.unique(subset=['title', 'section_title'])"
   ]
  },
  {
   "cell_type": "code",
   "execution_count": 129,
   "id": "76c665a3-0bd3-40f9-bd6d-aeaa9243a6da",
   "metadata": {
    "tags": []
   },
   "outputs": [],
   "source": [
    "daniel = pl.concat([\n",
    "    pl.read_parquet('./data/daniel_train/train_shuffled.parquet'),\n",
    "    pl.read_parquet('./data/daniel_train/train_shuffled_v_2.parquet')\n",
    "])\n",
    "daniel = daniel.unique(subset=['title', 'section_title'])\n",
    "daniel.write_parquet('./data/daniel_train/combined_deduped.parquet')"
   ]
  },
  {
   "cell_type": "code",
   "execution_count": 130,
   "id": "580d9085-8976-461c-add9-8e85fa349c46",
   "metadata": {
    "tags": []
   },
   "outputs": [
    {
     "data": {
      "text/html": [
       "<div><style>\n",
       ".dataframe > thead > tr > th,\n",
       ".dataframe > tbody > tr > td {\n",
       "  text-align: right;\n",
       "  white-space: pre-wrap;\n",
       "}\n",
       "</style>\n",
       "<small>shape: (0, 9)</small><table border=\"1\" class=\"dataframe\"><thead><tr><th>question</th><th>title</th><th>section_title</th><th>A</th><th>B</th><th>C</th><th>D</th><th>E</th><th>answer</th></tr><tr><td>str</td><td>str</td><td>str</td><td>str</td><td>str</td><td>str</td><td>str</td><td>str</td><td>str</td></tr></thead><tbody></tbody></table></div>"
      ],
      "text/plain": [
       "shape: (0, 9)\n",
       "┌──────────┬───────┬───────────────┬─────┬───┬─────┬─────┬─────┬────────┐\n",
       "│ question ┆ title ┆ section_title ┆ A   ┆ … ┆ C   ┆ D   ┆ E   ┆ answer │\n",
       "│ ---      ┆ ---   ┆ ---           ┆ --- ┆   ┆ --- ┆ --- ┆ --- ┆ ---    │\n",
       "│ str      ┆ str   ┆ str           ┆ str ┆   ┆ str ┆ str ┆ str ┆ str    │\n",
       "╞══════════╪═══════╪═══════════════╪═════╪═══╪═════╪═════╪═════╪════════╡\n",
       "└──────────┴───────┴───────────────┴─────┴───┴─────┴─────┴─────┴────────┘"
      ]
     },
     "execution_count": 130,
     "metadata": {},
     "output_type": "execute_result"
    }
   ],
   "source": [
    "daniel.filter(pl.Series(daniel[['title', 'section_title']].is_duplicated())).sort('title')"
   ]
  },
  {
   "cell_type": "code",
   "execution_count": 10,
   "id": "d11bc0c8-8130-4d20-9779-9dc58b687e2e",
   "metadata": {
    "tags": []
   },
   "outputs": [],
   "source": [
    "names = ['daniel', 'osmu_sci_6k', 'osmu_5_9k', 'osmu_15k', 'mgoksu', 'gigkpea']\n",
    "os.makedirs('./data/train_dedupe', exist_ok=True)\n",
    "for dataset_name in names:\n",
    "    train.filter(pl.col('dataset_name') == dataset_name)\\\n",
    "         .write_parquet(f'./data/train_dedupe/{dataset_name}.parquet')"
   ]
  },
  {
   "cell_type": "code",
   "execution_count": null,
   "id": "5c5de1bf-e9b1-433b-ab28-27d19343cd23",
   "metadata": {},
   "outputs": [],
   "source": []
  }
 ],
 "metadata": {
  "kernelspec": {
   "display_name": "Python [conda env:pytorch]",
   "language": "python",
   "name": "conda-env-pytorch-py"
  },
  "language_info": {
   "codemirror_mode": {
    "name": "ipython",
    "version": 3
   },
   "file_extension": ".py",
   "mimetype": "text/x-python",
   "name": "python",
   "nbconvert_exporter": "python",
   "pygments_lexer": "ipython3",
   "version": "3.11.5"
  }
 },
 "nbformat": 4,
 "nbformat_minor": 5
}
