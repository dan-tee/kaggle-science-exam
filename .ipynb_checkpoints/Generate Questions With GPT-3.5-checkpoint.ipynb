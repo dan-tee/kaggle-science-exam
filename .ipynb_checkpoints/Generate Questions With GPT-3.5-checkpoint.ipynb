{
 "cells": [
  {
   "cell_type": "markdown",
   "id": "f37de01f-d25c-481a-8835-e941352d1e9c",
   "metadata": {},
   "source": [
    "# Generate Questions With GPT 3.5"
   ]
  },
  {
   "cell_type": "code",
   "execution_count": 391,
   "id": "3ac31953-c554-46f9-93fe-52282abc96df",
   "metadata": {
    "tags": []
   },
   "outputs": [],
   "source": [
    "import os\n",
    "import json\n",
    "import polars as pl\n",
    "import pandas as pd\n",
    "import numpy as np\n",
    "import matplotlib.pyplot as plt\n",
    "import seaborn as sns\n",
    "\n",
    "import openai"
   ]
  },
  {
   "cell_type": "markdown",
   "id": "c15bc4ec-5d9b-4e39-b63c-913ef549b0cb",
   "metadata": {
    "tags": []
   },
   "source": [
    "## Load the 200 Kaggle examples"
   ]
  },
  {
   "cell_type": "code",
   "execution_count": 2,
   "id": "21392572-6d13-4ea8-b56f-573a4c9e4aad",
   "metadata": {
    "tags": []
   },
   "outputs": [
    {
     "name": "stdout",
     "output_type": "stream",
     "text": [
      "200\n"
     ]
    },
    {
     "data": {
      "text/html": [
       "<div><style>\n",
       ".dataframe > thead > tr > th,\n",
       ".dataframe > tbody > tr > td {\n",
       "  text-align: right;\n",
       "}\n",
       "</style>\n",
       "<small>shape: (3, 7)</small><table border=\"1\" class=\"dataframe\"><thead><tr><th>prompt</th><th>A</th><th>B</th><th>C</th><th>D</th><th>E</th><th>answer</th></tr><tr><td>str</td><td>str</td><td>str</td><td>str</td><td>str</td><td>str</td><td>str</td></tr></thead><tbody><tr><td>&quot;Which of the f…</td><td>&quot;MOND is a theo…</td><td>&quot;MOND is a theo…</td><td>&quot;MOND is a theo…</td><td>&quot;MOND is a theo…</td><td>&quot;MOND is a theo…</td><td>&quot;D&quot;</td></tr><tr><td>&quot;Which of the f…</td><td>&quot;Dynamic scalin…</td><td>&quot;Dynamic scalin…</td><td>&quot;Dynamic scalin…</td><td>&quot;Dynamic scalin…</td><td>&quot;Dynamic scalin…</td><td>&quot;A&quot;</td></tr><tr><td>&quot;Which of the f…</td><td>&quot;The triskeles …</td><td>&quot;The triskeles …</td><td>&quot;The triskeles …</td><td>&quot;The triskeles …</td><td>&quot;The triskeles …</td><td>&quot;A&quot;</td></tr></tbody></table></div>"
      ],
      "text/plain": [
       "shape: (3, 7)\n",
       "┌──────────────┬──────────────┬──────────────┬──────────────┬──────────────┬──────────────┬────────┐\n",
       "│ prompt       ┆ A            ┆ B            ┆ C            ┆ D            ┆ E            ┆ answer │\n",
       "│ ---          ┆ ---          ┆ ---          ┆ ---          ┆ ---          ┆ ---          ┆ ---    │\n",
       "│ str          ┆ str          ┆ str          ┆ str          ┆ str          ┆ str          ┆ str    │\n",
       "╞══════════════╪══════════════╪══════════════╪══════════════╪══════════════╪══════════════╪════════╡\n",
       "│ Which of the ┆ MOND is a    ┆ MOND is a    ┆ MOND is a    ┆ MOND is a    ┆ MOND is a    ┆ D      │\n",
       "│ following    ┆ theory that  ┆ theory that  ┆ theory that  ┆ theory that  ┆ theory that  ┆        │\n",
       "│ statement…   ┆ reduces th…  ┆ increases …  ┆ explains t…  ┆ reduces th…  ┆ eliminates…  ┆        │\n",
       "│ Which of the ┆ Dynamic      ┆ Dynamic      ┆ Dynamic      ┆ Dynamic      ┆ Dynamic      ┆ A      │\n",
       "│ following is ┆ scaling      ┆ scaling      ┆ scaling      ┆ scaling      ┆ scaling      ┆        │\n",
       "│ an acc…      ┆ refers to    ┆ refers to    ┆ refers to    ┆ refers to    ┆ refers to    ┆        │\n",
       "│              ┆ the ev…      ┆ the no…      ┆ the ev…      ┆ the no…      ┆ the ev…      ┆        │\n",
       "│ Which of the ┆ The          ┆ The          ┆ The          ┆ The          ┆ The          ┆ A      │\n",
       "│ following    ┆ triskeles    ┆ triskeles    ┆ triskeles    ┆ triskeles    ┆ triskeles    ┆        │\n",
       "│ statement…   ┆ symbol was   ┆ symbol is a  ┆ symbol is a  ┆ symbol       ┆ symbol is a  ┆        │\n",
       "│              ┆ reconst…     ┆ repres…      ┆ repres…      ┆ represents … ┆ repres…      ┆        │\n",
       "└──────────────┴──────────────┴──────────────┴──────────────┴──────────────┴──────────────┴────────┘"
      ]
     },
     "execution_count": 2,
     "metadata": {},
     "output_type": "execute_result"
    }
   ],
   "source": [
    "df_test = pl.read_csv('data/train.csv')\n",
    "df_test = df_test.drop(columns=\"id\")\n",
    "print(f'{df_test.shape[0]:,}')\n",
    "df_test[:3]"
   ]
  },
  {
   "cell_type": "code",
   "execution_count": 339,
   "id": "0e3c7321-68da-4850-9192-76e011ac7f5f",
   "metadata": {
    "tags": []
   },
   "outputs": [
    {
     "data": {
      "text/html": [
       "<div><style>\n",
       ".dataframe > thead > tr > th,\n",
       ".dataframe > tbody > tr > td {\n",
       "  text-align: right;\n",
       "}\n",
       "</style>\n",
       "<small>shape: (4, 5)</small><table border=\"1\" class=\"dataframe\"><thead><tr><th>prompt</th><th>answer</th><th>option</th><th>value</th><th>answer_length</th></tr><tr><td>str</td><td>str</td><td>str</td><td>str</td><td>u32</td></tr></thead><tbody><tr><td>&quot;Which of the f…</td><td>&quot;D&quot;</td><td>&quot;A&quot;</td><td>&quot;MOND is a theo…</td><td>164</td></tr><tr><td>&quot;Which of the f…</td><td>&quot;A&quot;</td><td>&quot;A&quot;</td><td>&quot;Dynamic scalin…</td><td>285</td></tr><tr><td>&quot;Which of the f…</td><td>&quot;A&quot;</td><td>&quot;A&quot;</td><td>&quot;The triskeles …</td><td>323</td></tr><tr><td>&quot;What is the si…</td><td>&quot;C&quot;</td><td>&quot;A&quot;</td><td>&quot;Regularizing t…</td><td>221</td></tr></tbody></table></div>"
      ],
      "text/plain": [
       "shape: (4, 5)\n",
       "┌────────────────────────────────┬────────┬────────┬───────────────────────────────┬───────────────┐\n",
       "│ prompt                         ┆ answer ┆ option ┆ value                         ┆ answer_length │\n",
       "│ ---                            ┆ ---    ┆ ---    ┆ ---                           ┆ ---           │\n",
       "│ str                            ┆ str    ┆ str    ┆ str                           ┆ u32           │\n",
       "╞════════════════════════════════╪════════╪════════╪═══════════════════════════════╪═══════════════╡\n",
       "│ Which of the following         ┆ D      ┆ A      ┆ MOND is a theory that reduces ┆ 164           │\n",
       "│ statement…                     ┆        ┆        ┆ th…                           ┆               │\n",
       "│ Which of the following is an   ┆ A      ┆ A      ┆ Dynamic scaling refers to the ┆ 285           │\n",
       "│ acc…                           ┆        ┆        ┆ ev…                           ┆               │\n",
       "│ Which of the following         ┆ A      ┆ A      ┆ The triskeles symbol was      ┆ 323           │\n",
       "│ statement…                     ┆        ┆        ┆ reconst…                      ┆               │\n",
       "│ What is the significance of    ┆ C      ┆ A      ┆ Regularizing the mass-energy  ┆ 221           │\n",
       "│ regu…                          ┆        ┆        ┆ of …                          ┆               │\n",
       "└────────────────────────────────┴────────┴────────┴───────────────────────────────┴───────────────┘"
      ]
     },
     "execution_count": 339,
     "metadata": {},
     "output_type": "execute_result"
    }
   ],
   "source": [
    "options = ['A', 'B', 'C', 'D', 'E']\n",
    "long_test = df_test.melt(['prompt', 'answer'], options, variable_name='option')\n",
    "long_test = long_test.with_columns(long_test['value'].str.lengths().alias('answer_length'))\n",
    "long_test[:4]"
   ]
  },
  {
   "cell_type": "code",
   "execution_count": 340,
   "id": "5b6de22e-aa7c-49fc-a728-31a5812e007e",
   "metadata": {
    "tags": []
   },
   "outputs": [
    {
     "data": {
      "image/png": "[encoded data removed]",
      "text/plain": [
       "<Figure size 600x200 with 1 Axes>"
      ]
     },
     "metadata": {},
     "output_type": "display_data"
    }
   ],
   "source": [
    "plt.figure(figsize=(6,2))\n",
    "sns.histplot(long_test, x='answer_length');"
   ]
  },
  {
   "cell_type": "markdown",
   "id": "bd3b6177-01a4-4781-87b1-04d860445d68",
   "metadata": {},
   "source": [
    "## Load the Wikipedia data"
   ]
  },
  {
   "cell_type": "code",
   "execution_count": 189,
   "id": "d9000dad-789b-4d8c-ae5f-d157483672af",
   "metadata": {
    "tags": []
   },
   "outputs": [
    {
     "name": "stdout",
     "output_type": "stream",
     "text": [
      "153,750\n"
     ]
    },
    {
     "data": {
      "text/plain": [
       "['title',\n",
       " 'category',\n",
       " 'page_id',\n",
       " 'parent_id',\n",
       " 'revision_id',\n",
       " 'revision_ts',\n",
       " 'short_description',\n",
       " 'sha1',\n",
       " 'page_bytes',\n",
       " 'section_index',\n",
       " 'section_title',\n",
       " 'section_level',\n",
       " 'section_text']"
      ]
     },
     "execution_count": 189,
     "metadata": {},
     "output_type": "execute_result"
    }
   ],
   "source": [
    "pages = pl.read_parquet('./data/wiki_with_category.parquet')\n",
    "print(f'{pages.shape[0]:,}')\n",
    "pages.columns"
   ]
  },
  {
   "cell_type": "code",
   "execution_count": 6,
   "id": "d7f9bb27-524f-450f-981b-f9526b28f926",
   "metadata": {
    "tags": []
   },
   "outputs": [
    {
     "name": "stderr",
     "output_type": "stream",
     "text": [
      "/home/daniel/anaconda3/envs/pytorch/lib/python3.8/site-packages/matplotlib/transforms.py:2041: RuntimeWarning: invalid value encountered in scalar add\n",
      "  self._mtx[0, 2] += tx\n",
      "/home/daniel/anaconda3/envs/pytorch/lib/python3.8/site-packages/matplotlib/transforms.py:383: RuntimeWarning: invalid value encountered in scalar subtract\n",
      "  return (x0, y0, x1 - x0, y1 - y0)\n"
     ]
    },
    {
     "data": {
      "image/png": "[encoded data removed]",
      "text/plain": [
       "<Figure size 600x200 with 1 Axes>"
      ]
     },
     "metadata": {},
     "output_type": "display_data"
    },
    {
     "name": "stdout",
     "output_type": "stream",
     "text": [
      "0.05: 167\n",
      "0.25: 534\n",
      "0.50: 1,047\n",
      "0.66: 1,556\n",
      "0.75: 2,001\n",
      "0.90: 3,679\n",
      "0.95: 5,414\n",
      "0.99: 11,650\n"
     ]
    }
   ],
   "source": [
    "pages = pages.with_columns(pages['section_text'].str.lengths().alias('length'))\n",
    "hist_output = pages['length'].hist(bins=range(0, 10000, 100))\n",
    "bin_edges = hist_output['break_point']\n",
    "counts = hist_output['length_count']\n",
    "\n",
    "plt.subplots(figsize=(6,2))\n",
    "plt.bar(bin_edges, counts, width=(bin_edges[1] - bin_edges[0]))\n",
    "plt.show()\n",
    "\n",
    "for p in [0.05, 0.25, 0.5, 0.66, 0.75, 0.9, 0.95, 0.99]:\n",
    "    print(f\"{p:.2f}: {pages['length'].quantile(p):,.0f}\")"
   ]
  },
  {
   "cell_type": "code",
   "execution_count": 65,
   "id": "b2c06fa3-6222-4f4d-bc95-c5edea1e5ccd",
   "metadata": {
    "tags": []
   },
   "outputs": [],
   "source": [
    "summaries = pages.filter(pl.col('section_title') == 'Summary')\n",
    "summaries = summaries[['page_id', 'section_text']]\n",
    "summaries = summaries.rename({'section_text':'summary'})\n",
    "non_summaries = pages.filter(pl.col('section_title') != 'Summary')\n",
    "with_sum = non_summaries.join(summaries, how='left', on='page_id')"
   ]
  },
  {
   "cell_type": "code",
   "execution_count": 399,
   "id": "4e535733-0680-476a-860b-21c1a7cc0536",
   "metadata": {
    "tags": []
   },
   "outputs": [
    {
     "data": {
      "text/plain": [
       "['title', 'section_title', 'length', 'summary', 'section_text']"
      ]
     },
     "execution_count": 399,
     "metadata": {},
     "output_type": "execute_result"
    }
   ],
   "source": [
    "sample_size = 10\n",
    "sample = with_sum[['title', 'section_title', 'length', 'summary', 'section_text']].sample(sample_size)\n",
    "sample = sample.with_columns(pl.when(cs.string().str.lengths() >= 4000)\\\n",
    "                               .then('[*] ' + cs.string().str.slice(0, 4000))\\\n",
    "                               .otherwise(cs.string())\\\n",
    "                               .keep_name())\n",
    "#with pl.Config(fmt_str_lengths=5000):\n",
    "#    display(sample[:3])\n",
    "sample.columns"
   ]
  },
  {
   "cell_type": "code",
   "execution_count": 400,
   "id": "075688b1-6cac-45db-9edf-4020386af3b7",
   "metadata": {
    "tags": []
   },
   "outputs": [],
   "source": [
    "sample_questions = df_test.sample(sample_size)\n",
    "all_new_rows = []\n",
    "for row in sample_questions.iter_rows(named=True):\n",
    "    incorrect = []\n",
    "    for letter in options:\n",
    "        if letter == row['answer']:\n",
    "            correct = row[letter]\n",
    "        else:\n",
    "            incorrect.append(row[letter])\n",
    "    \n",
    "    new_row = {'prompt': row['prompt'], 'correct': correct}\n",
    "    for i in range(4):\n",
    "        new_row[f'incorrect_{i+1}'] = incorrect[i]\n",
    "    all_new_rows.append(new_row)\n",
    "\n",
    "    \n",
    "sample_questions = pl.DataFrame(all_new_rows)\n",
    "# with pl.Config(fmt_str_lengths=5000):\n",
    "#     display(sample_questions)"
   ]
  },
  {
   "cell_type": "code",
   "execution_count": 401,
   "id": "d6fe549f-e781-4f07-b306-d71a58fcaf43",
   "metadata": {
    "tags": []
   },
   "outputs": [],
   "source": [
    "def wiki_section_to_prompt(section_row, question_row):\n",
    "    return f'''\n",
    "You are a psychometrics researcher designing a test to check the reasoning abilities of graduate students in STEM fields. \n",
    "Create a difficult to answer multiple choice question from the Wikipedia snippet below, with 6 options which are \n",
    "concise, complex and ideally more than 200 charachters long. Provide only one correct option. The options should include only one correct statement and the other statements should be incorrect.\n",
    "A partial response that is missing an aspect is not incorrect. All but one statement need to incluse a false assertion. Make sure there are also incorrect answers that are longer than the correct answer.\n",
    "Example:\n",
    "{{\n",
    "    \"question\": \"{question_row['prompt']}\",\n",
    "    \"correct\": \"{question_row['correct']}\",\n",
    "    \"incorrect_1\": \"{question_row['incorrect_1']}\",\n",
    "    \"incorrect_2\": \"{question_row['incorrect_2']}\",\n",
    "    \"incorrect_3\": \"{question_row['incorrect_3']}\",\n",
    "    \"incorrect_4\": \"{question_row['incorrect_4']}\",\n",
    "    \"incorrect_5\": \"gibberish + {question_row['incorrect_4']}\"\n",
    "}}\n",
    "\n",
    "Use the following section of an Wikipedia article to inspire the question. In case the section is too specific, below there is also the summary of the page. \n",
    "\n",
    "Section: {section_row['title']}\n",
    "{section_row['summary']}\n",
    "\n",
    "Summary of: {section_row['section_title']}\n",
    "{section_row['section_text']}\n",
    "'''"
   ]
  },
  {
   "cell_type": "code",
   "execution_count": 402,
   "id": "cd68fd56-0f30-4105-816e-ad2a739ec27d",
   "metadata": {
    "tags": []
   },
   "outputs": [],
   "source": [
    "mc5_schema = {\n",
    "  \"name\": \"mc5_dummy_function\",\n",
    "  \"parameters\": {\n",
    "      \"description\": \"A multiple choice question with 6 possible answers A-E and a field denoting the correct answer.\",\n",
    "      \"type\": \"object\",\n",
    "      \"properties\": {\n",
    "        \"question\": {},\n",
    "        \"correct\": {},\n",
    "        \"incorrect_1\": {},\n",
    "        \"incorrect_2\": {},\n",
    "        \"incorrect_3\": {},\n",
    "        \"incorrect_4\": {},\n",
    "        \"incorrect_5\": {}\n",
    "      },\n",
    "      \"required\": [\"question\", \"correct\",  \"incorrect_1\", \"incorrect_2\", \"incorrect_3\", \"incorrect_4\"]\n",
    "    }\n",
    "}"
   ]
  },
  {
   "cell_type": "code",
   "execution_count": 403,
   "id": "0073ba72-131d-47ea-9a19-404a320cfc51",
   "metadata": {},
   "outputs": [],
   "source": [
    "openai.api_key = os.environ['OPENAI_API_KEY']\n",
    "def ask_chat_gpt(prompt):\n",
    "    response = openai.ChatCompletion.create(\n",
    "        model=\"gpt-3.5-turbo-0613\",\n",
    "        messages=[\n",
    "            {\"role\": \"user\", \"content\": f\"{prompt}\"}\n",
    "        ],\n",
    "        functions = [mc5_schema],\n",
    "        function_call = {\n",
    "            \"name\": \"mc5_dummy_function\"\n",
    "        },\n",
    "        max_tokens=1500\n",
    "    )\n",
    "    response_message = response[\"choices\"][0][\"message\"]\n",
    "    return response_message['function_call']['arguments']"
   ]
  },
  {
   "cell_type": "code",
   "execution_count": 404,
   "id": "e3a8368d-c144-443b-bcec-73f40b1505d2",
   "metadata": {
    "tags": []
   },
   "outputs": [
    {
     "name": "stdout",
     "output_type": "stream",
     "text": [
      "Stellar corona Flares\n",
      "Quantum spacetime Models\n",
      "Kármán line Interpretations of the definition\n",
      "Cuticle Botany\n",
      "Squeezed coherent state Operator representation\n",
      "Lead Bulk\n",
      "Turner syndrome Inheritance\n",
      "Complex random variable Variance and pseudo-variance\n",
      "Wirtinger derivatives Historical references\n",
      "Binding site Binding curves\n"
     ]
    }
   ],
   "source": [
    "all_prompts = []\n",
    "questions = []\n",
    "for section_row, question_row in zip(sample.iter_rows(named=True), sample_questions.iter_rows(named=True)):\n",
    "    print(section_row['title'], section_row['section_title'])\n",
    "    prompt = wiki_section_to_prompt(section_row, question_row)\n",
    "    all_prompts.append(prompt)\n",
    "    questions.append(ask_chat_gpt(prompt))"
   ]
  },
  {
   "cell_type": "code",
   "execution_count": 405,
   "id": "fc779e1a-6169-4b3a-bcf3-da95dc5188e4",
   "metadata": {
    "tags": []
   },
   "outputs": [],
   "source": [
    "df_q = pl.from_dicts([json.loads(q_str) for q_str in questions])\n",
    "df_q = df_q.with_columns(sample['title'], sample['section_title'])\n",
    "df_q.write_parquet('./data/daniel_train_aug_17.parquet')"
   ]
  },
  {
   "cell_type": "code",
   "execution_count": 406,
   "id": "354316b7-d109-43a2-bd31-d4ee91d15290",
   "metadata": {
    "tags": []
   },
   "outputs": [
    {
     "data": {
      "text/html": [
       "<div><style>\n",
       ".dataframe > thead > tr > th,\n",
       ".dataframe > tbody > tr > td {\n",
       "  text-align: right;\n",
       "}\n",
       "</style>\n",
       "<small>shape: (10, 9)</small><table border=\"1\" class=\"dataframe\"><thead><tr><th>question</th><th>correct</th><th>incorrect_1</th><th>incorrect_2</th><th>incorrect_3</th><th>incorrect_4</th><th>incorrect_5</th><th>title</th><th>section_title</th></tr><tr><td>str</td><td>str</td><td>str</td><td>str</td><td>str</td><td>str</td><td>str</td><td>str</td><td>str</td></tr></thead><tbody><tr><td>&quot;What is the corona?&quot;</td><td>&quot;The corona is the outermost layer of a star&#x27;s stellar atmosphere consisting of plasma.&quot;</td><td>&quot;The corona is the innermost layer of a star&#x27;s stellar atmosphere consisting of solid matter.&quot;</td><td>&quot;The corona is the middle layer of a star&#x27;s stellar atmosphere consisting of liquid matter.&quot;</td><td>&quot;The corona is the outermost layer of a star&#x27;s stellar atmosphere consisting of gas.&quot;</td><td>&quot;The corona is the middle layer of a star&#x27;s stellar atmosphere consisting of plasma.&quot;</td><td>null</td><td>&quot;Stellar corona&quot;</td><td>&quot;Flares&quot;</td></tr><tr><td>&quot;Which of the following statements is true about quantum spacetime?&quot;</td><td>&quot;Quantum spacetime is a generalization of the usual concept of spacetime where some variables do not commute and form a different Lie algebra.&quot;</td><td>&quot;Quantum spacetime is a theory that combines quantum mechanics and general relativity to describe the behavior of spacetime.&quot;</td><td>&quot;Quantum spacetime is a mathematical theory that deals with the discrete nature of spacetime.&quot;</td><td>&quot;Quantum spacetime is a concept in which spacetime is quantized into small, indivisible units.&quot;</td><td>&quot;Quantum spacetime is a theory that proposes the existence of extra dimensions beyond the three spatial dimensions and one temporal dimension.&quot;</td><td>&quot;Quantum spacetime is a model that explains the behavior of particles and fields at extremely small scales.&quot;</td><td>&quot;Quantum spacetime&quot;</td><td>&quot;Models&quot;</td></tr><tr><td>&quot;What is the Kármán line?&quot;</td><td>&quot;The Kármán line is a proposed conventional boundary between Earth&#x27;s atmosphere and outer space set by the international record-keeping body Fédération Aéronautique Internationale at an altitude of 100 km (62 mi) above mean sea level.&quot;</td><td>&quot;The Kármán line is a theoretical limit of altitude for airplane flight calculated by Theodore von Kármán in 1957.&quot;</td><td>&quot;The Kármán line is a region below the boundary of Outer Space that includes substantially lower regions as well, often referred to as the &#x27;edge of space&#x27;.&quot;</td><td>&quot;The Kármán line is the altitude reachable by a conventional airplane or a high-altitude balloon, well above the conventional flight altitudes.&quot;</td><td>&quot;The Kármán line is an international legal definition of the demarcation between a country&#x27;s air space and outer space.&quot;</td><td>&quot;The Kármán line is a physical boundary in the atmosphere where there is a noticeable change in its characteristics, marking the transition to outer space.&quot;</td><td>&quot;Kármán line&quot;</td><td>&quot;Interpretations of the definition&quot;</td></tr><tr><td>&quot;What is the purpose of plant cuticles?&quot;</td><td>&quot;Plant cuticles function as permeability barriers for water and water-soluble materials. They prevent plant surfaces from becoming wetting and also help to prevent plants from drying out.&quot;</td><td>&quot;Plant cuticles function as absorbent layers, allowing plants to take in more water and nutrients.&quot;</td><td>&quot;Plant cuticles function as protective shields, shielding the plant from physical damage and predators.&quot;</td><td>&quot;Plant cuticles function as conduits for the movement of nutrients and water between plant tissues.&quot;</td><td>&quot;Plant cuticles function as sensors, detecting changes in environmental conditions and triggering response mechanisms.&quot;</td><td>null</td><td>&quot;Cuticle&quot;</td><td>&quot;Botany&quot;</td></tr><tr><td>&quot;According to the Wikipedia snippet, what is a squeezed coherent state?&quot;</td><td>&quot;A squeezed coherent state is a quantum state that has reduced uncertainty in one of its quadrature components and increased uncertainty in the other.&quot;</td><td>&quot;A squeezed coherent state is a quantum state that has equal uncertainty in both of its quadrature components.&quot;</td><td>&quot;A squeezed coherent state is a quantum state that has increased uncertainty in both of its quadrature components.&quot;</td><td>&quot;A squeezed coherent state is a quantum state that has reduced uncertainty in both of its quadrature components.&quot;</td><td>&quot;A squeezed coherent state is a quantum state that has reduced uncertainty in one of its quadrature components and equal uncertainty in the other.&quot;</td><td>&quot;A squeezed coherent state is a quantum state that has increased uncertainty in one of its quadrature components and reduced uncertainty in the other.&quot;</td><td>&quot;Squeezed coherent state&quot;</td><td>&quot;Operator representation&quot;</td></tr><tr><td>&quot;What are the characteristics and uses of lead?&quot;</td><td>&quot;Lead is a heavy metal with a bright, shiny gray appearance. It has high density, malleability, and a low melting point. It is used in construction, plumbing, batteries, bullets, and radiation shielding.&quot;</td><td>&quot;Lead is a rare metal that is denser than tungsten and gold. It has a high resistance to corrosion and is often used in jewelry.&quot;</td><td>&quot;Lead is a soft metal that can be easily scratched with a fingernail. It has a high tensile strength and is commonly used in the aerospace industry.&quot;</td><td>&quot;Lead is a superconductor at temperatures lower than 7.19 Kelvin. It has a low electrical resistivity and conductivity, similar to other industrial metals.&quot;</td><td>&quot;Lead is a toxic metal that accumulates in soft tissues and bones. It damages the nervous system and affects general health, cardiovascular, and renal systems.&quot;</td><td>null</td><td>&quot;Lead&quot;</td><td>&quot;Bulk&quot;</td></tr><tr><td>&quot;What is Turner syndrome?&quot;</td><td>&quot;Turner syndrome (TS), also known as 45,X, or 45,X0, is a genetic disorder in which a female has a single X chromosome, compared to the two sex chromosomes (XX or XY) in most people. Signs and symptoms vary among those affected. Often, a short and webbed neck, low-set ears, low hairline at the back of the neck, short stature, and edema hands and feet are seen at birth. Typically, those affected Amenorrhea or breasts without Hormone replacement therapy and are Infertile without reproductive technology. Congenital heart defect, Diabetes mellitus, and Hypothyroidism occur in the disorder more frequently than average. Most people with Turner syndrome have normal intelligence; however, many have problems with spatial visualization that may be needed in order to learn mathematics. Vision and hearing problems also occur more often than average.&quot;</td><td>&quot;Turner syndrome (TS), also known as 47,X, or 45,X1, is a genetic disorder in which a female has two X chromosomes, compared to the one sex chromosome (XY or YY) in most people. Signs and symptoms vary among those affected. Often, a short and webbed neck, low-set ears, low hairline at the back of the neck, short stature, and edema hands and feet are seen at birth. Typically, those affected experience normal hormone levels and are fertile without reproductive technology. Congenital heart defect, Diabetes mellitus, and Hypothyroidism occur in the disorder less frequently than average. Most people with Turner syndrome have below-average intelligence; however, many have no problems with spatial visualization that may be needed in order to learn mathematics. Vision and hearing problems rarely occur.&quot;</td><td>&quot;Turner syndrome (TS), also known as 46,X, or 45,X1, is a genetic disorder in which a female has a single X chromosome, compared to the two sex chromosomes (XY or YX) in most people. Signs and symptoms vary among those affected. Often, a long and thin neck, high-set ears, high hairline at the back of the neck, tall stature, and edema hands and feet are seen at birth. Typically, those affected experience normal hormone levels and are fertile without reproductive technology. Congenital heart defect, Diabetes mellitus, and Hypothyroidism rarely occur in the disorder. Most people with Turner syndrome have above-average intelligence; however, many have problems with spatial visualization that may be needed in order to learn mathematics. Vision and hearing problems rarely occur.&quot;</td><td>&quot;Turner syndrome (TS), also known as 45,X, or 45,X0, is a genetic disorder in which a female has a single Y chromosome, compared to the two sex chromosomes (XX or XY) in most people. Signs and symptoms vary among those affected. Often, a short and webbed neck, low-set ears, low hairline at the back of the neck, short stature, and edema hands and feet are seen at birth. Typically, those affected Amenorrhea or breasts without Hormone replacement therapy and are Infertile without reproductive technology. Congenital heart defect, Diabetes mellitus, and Hypothyroidism occur in the disorder more frequently than average. Most people with Turner syndrome have normal intelligence; however, many have problems with spatial visualization that may be needed in order to learn mathematics. Vision and hearing problems also occur more often than average.&quot;</td><td>&quot;Turner syndrome (TS), also known as 45,X, or 45,X0, is a genetic disorder in which a male has a single X chromosome, compared to the two sex chromosomes (XX or XY) in most people. Signs and symptoms vary among those affected. Often, a short and webbed neck, low-set ears, low hairline at the back of the neck, short stature, and edema hands and feet are seen at birth. Typically, those affected Amenorrhea or breasts without Hormone replacement therapy and are Infertile without reproductive technology. Congenital heart defect, Diabetes mellitus, and Hypothyroidism occur in the disorder more frequently than average. Most people with Turner syndrome have normal intelligence; however, many have problems with spatial visualization that may be needed in order to learn mathematics. Vision and hearing problems also occur more often than average.&quot;</td><td>&quot;Turner syndrome (TS), also known as 45,X, or 45,X0, is a genetic disorder in which a female has a single X chromosome, compared to the two sex chromosomes (XX or XY) in most people. Signs and symptoms vary among those affected. Often, a tall and thin neck, high-set ears, high hairline at the back of the neck, tall stature, and edema hands and feet are seen at birth. Typically, those affected experience normal hormone levels and are fertile without reproductive technology. Congenital heart defect, Diabetes mellitus, and Hypothyroidism rarely occur in the disorder. Most people with Turner syndrome have above-average intelligence; however, many have no problems with spatial visualization that may be needed in order to learn mathematics. Vision and hearing problems rarely occur.&quot;</td><td>&quot;Turner syndrome&quot;</td><td>&quot;Inheritance&quot;</td></tr><tr><td>&quot;Which of the following statements about complex random variables is correct?&quot;</td><td>&quot;Complex random variables can always be considered as pairs of real random variables: their real and imaginary parts.&quot;</td><td>&quot;Complex random variables can only take complex numbers with real parts.&quot;</td><td>&quot;Complex random variables are a generalization of imaginary-valued random variables to complex numbers.&quot;</td><td>&quot;Complex random variables have the same probability distribution for both real and imaginary parts.&quot;</td><td>&quot;Complex random variables are used primarily in statistics and probability theory.&quot;</td><td>null</td><td>&quot;Complex random variable&quot;</td><td>&quot;Variance and pseudo-variance&quot;</td></tr><tr><td>&quot;What are Wirtinger derivatives used for in complex analysis and several complex variables?&quot;</td><td>&quot;Wirtinger derivatives are used to construct a differential calculus for holomorphic functions, antiholomorphic functions, or differentiable functions on a domain of analysis.&quot;</td><td>&quot;Wirtinger derivatives are used to solve the Dirichlet problem for several complex variables.&quot;</td><td>&quot;Wirtinger derivatives are used to determine the boundary of a domain of holomorphy in several complex variables.&quot;</td><td>&quot;Wirtinger derivatives are used to solve the Cauchy problem for several complex variables.&quot;</td><td>&quot;Wirtinger derivatives are used to calculate the hyperbolic secant distribution in complex analysis and several complex variables.&quot;</td><td>&quot;Wirtinger derivatives are used to investigate the hypersurfaces of 4-dimensional space in complex analysis and several complex variables.&quot;</td><td>&quot;Wirtinger derivatives&quot;</td><td>&quot;Historical references&quot;</td></tr><tr><td>&quot;What is the purpose of the Michaelis Menten equation in determining the shape of a binding curve?&quot;</td><td>&quot;To account for the enzyme reactions taking place in a solution and describe the binding behavior of ligand to a protein.&quot;</td><td>&quot;To evaluate the binding affinities of oxygen to hemoglobin and myoglobin in the blood.&quot;</td><td>&quot;To induce a favorable conformation change that allows for increased binding favorability of oxygen for heme groups on hemoglobin.&quot;</td><td>&quot;To sigmoidally represent the increased binding favorability for oxygen by hemoglobin due to its cooperative binding behavior.&quot;</td><td>&quot;To describe the fractional saturation of ligands bound to all available binding sites.&quot;</td><td>&quot;To reflect whether or not the protein exhibits cooperative binding or noncooperative binding behavior.&quot;</td><td>&quot;Binding site&quot;</td><td>&quot;Binding curves&quot;</td></tr></tbody></table></div>"
      ],
      "text/plain": [
       "shape: (10, 9)\n",
       "┌───────────┬───────────┬───────────┬───────────┬───┬───────────┬───────────┬───────────┬──────────┐\n",
       "│ question  ┆ correct   ┆ incorrect ┆ incorrect ┆ … ┆ incorrect ┆ incorrect ┆ title     ┆ section_ │\n",
       "│ ---       ┆ ---       ┆ _1        ┆ _2        ┆   ┆ _4        ┆ _5        ┆ ---       ┆ title    │\n",
       "│ str       ┆ str       ┆ ---       ┆ ---       ┆   ┆ ---       ┆ ---       ┆ str       ┆ ---      │\n",
       "│           ┆           ┆ str       ┆ str       ┆   ┆ str       ┆ str       ┆           ┆ str      │\n",
       "╞═══════════╪═══════════╪═══════════╪═══════════╪═══╪═══════════╪═══════════╪═══════════╪══════════╡\n",
       "│ What is   ┆ The       ┆ The       ┆ The       ┆ … ┆ The       ┆ null      ┆ Stellar   ┆ Flares   │\n",
       "│ the       ┆ corona is ┆ corona is ┆ corona is ┆   ┆ corona is ┆           ┆ corona    ┆          │\n",
       "│ corona?   ┆ the       ┆ the       ┆ the       ┆   ┆ the       ┆           ┆           ┆          │\n",
       "│           ┆ outermost ┆ innermost ┆ middle    ┆   ┆ middle    ┆           ┆           ┆          │\n",
       "│           ┆ layer of  ┆ layer of  ┆ layer of  ┆   ┆ layer of  ┆           ┆           ┆          │\n",
       "│           ┆ a star's  ┆ a star's  ┆ a star's  ┆   ┆ a star's  ┆           ┆           ┆          │\n",
       "│           ┆ stellar   ┆ stellar   ┆ stellar   ┆   ┆ stellar   ┆           ┆           ┆          │\n",
       "│           ┆ atmospher ┆ atmospher ┆ atmospher ┆   ┆ atmospher ┆           ┆           ┆          │\n",
       "│           ┆ e consist ┆ e consist ┆ e consist ┆   ┆ e consist ┆           ┆           ┆          │\n",
       "│           ┆ ing of    ┆ ing of    ┆ ing of    ┆   ┆ ing of    ┆           ┆           ┆          │\n",
       "│           ┆ plasma.   ┆ solid     ┆ liquid    ┆   ┆ plasma.   ┆           ┆           ┆          │\n",
       "│           ┆           ┆ matter.   ┆ matter.   ┆   ┆           ┆           ┆           ┆          │\n",
       "│ Which of  ┆ Quantum   ┆ Quantum   ┆ Quantum   ┆ … ┆ Quantum   ┆ Quantum   ┆ Quantum   ┆ Models   │\n",
       "│ the       ┆ spacetime ┆ spacetime ┆ spacetime ┆   ┆ spacetime ┆ spacetime ┆ spacetime ┆          │\n",
       "│ following ┆ is a gene ┆ is a      ┆ is a math ┆   ┆ is a      ┆ is a      ┆           ┆          │\n",
       "│ statement ┆ ralizatio ┆ theory    ┆ ematical  ┆   ┆ theory    ┆ model     ┆           ┆          │\n",
       "│ s is true ┆ n of the  ┆ that      ┆ theory    ┆   ┆ that      ┆ that      ┆           ┆          │\n",
       "│ about     ┆ usual     ┆ combines  ┆ that      ┆   ┆ proposes  ┆ explains  ┆           ┆          │\n",
       "│ quantum   ┆ concept   ┆ quantum   ┆ deals     ┆   ┆ the       ┆ the       ┆           ┆          │\n",
       "│ spacetime ┆ of        ┆ mechanics ┆ with the  ┆   ┆ existence ┆ behavior  ┆           ┆          │\n",
       "│ ?         ┆ spacetime ┆ and       ┆ discrete  ┆   ┆ of extra  ┆ of        ┆           ┆          │\n",
       "│           ┆ where     ┆ general   ┆ nature of ┆   ┆ dimension ┆ particles ┆           ┆          │\n",
       "│           ┆ some      ┆ relativit ┆ spacetime ┆   ┆ s beyond  ┆ and       ┆           ┆          │\n",
       "│           ┆ variables ┆ y to      ┆ .         ┆   ┆ the three ┆ fields at ┆           ┆          │\n",
       "│           ┆ do not    ┆ describe  ┆           ┆   ┆ spatial   ┆ extremely ┆           ┆          │\n",
       "│           ┆ commute   ┆ the       ┆           ┆   ┆ dimension ┆ small     ┆           ┆          │\n",
       "│           ┆ and form  ┆ behavior  ┆           ┆   ┆ s and one ┆ scales.   ┆           ┆          │\n",
       "│           ┆ a         ┆ of spacet ┆           ┆   ┆ temporal  ┆           ┆           ┆          │\n",
       "│           ┆ different ┆ ime.      ┆           ┆   ┆ dimension ┆           ┆           ┆          │\n",
       "│           ┆ Lie       ┆           ┆           ┆   ┆ .         ┆           ┆           ┆          │\n",
       "│           ┆ algebra.  ┆           ┆           ┆   ┆           ┆           ┆           ┆          │\n",
       "│ What is   ┆ The       ┆ The       ┆ The       ┆ … ┆ The       ┆ The       ┆ Kármán    ┆ Interpre │\n",
       "│ the       ┆ Kármán    ┆ Kármán    ┆ Kármán    ┆   ┆ Kármán    ┆ Kármán    ┆ line      ┆ tations  │\n",
       "│ Kármán    ┆ line is a ┆ line is a ┆ line is a ┆   ┆ line is   ┆ line is a ┆           ┆ of the   │\n",
       "│ line?     ┆ proposed  ┆ theoretic ┆ region    ┆   ┆ an intern ┆ physical  ┆           ┆ definiti │\n",
       "│           ┆ conventio ┆ al limit  ┆ below the ┆   ┆ ational   ┆ boundary  ┆           ┆ on       │\n",
       "│           ┆ nal       ┆ of        ┆ boundary  ┆   ┆ legal def ┆ in the    ┆           ┆          │\n",
       "│           ┆ boundary  ┆ altitude  ┆ of Outer  ┆   ┆ inition   ┆ atmospher ┆           ┆          │\n",
       "│           ┆ between   ┆ for       ┆ Space     ┆   ┆ of the    ┆ e where   ┆           ┆          │\n",
       "│           ┆ Earth's   ┆ airplane  ┆ that      ┆   ┆ demarcati ┆ there is  ┆           ┆          │\n",
       "│           ┆ atmospher ┆ flight    ┆ includes  ┆   ┆ on        ┆ a noticea ┆           ┆          │\n",
       "│           ┆ e and     ┆ calculate ┆ substanti ┆   ┆ between a ┆ ble       ┆           ┆          │\n",
       "│           ┆ outer     ┆ d by      ┆ ally      ┆   ┆ country's ┆ change in ┆           ┆          │\n",
       "│           ┆ space set ┆ Theodore  ┆ lower     ┆   ┆ air space ┆ its chara ┆           ┆          │\n",
       "│           ┆ by the    ┆ von       ┆ regions   ┆   ┆ and outer ┆ cteristic ┆           ┆          │\n",
       "│           ┆ internati ┆ Kármán in ┆ as well,  ┆   ┆ space.    ┆ s,        ┆           ┆          │\n",
       "│           ┆ onal reco ┆ 1957.     ┆ often     ┆   ┆           ┆ marking   ┆           ┆          │\n",
       "│           ┆ rd-keepin ┆           ┆ referred  ┆   ┆           ┆ the trans ┆           ┆          │\n",
       "│           ┆ g body    ┆           ┆ to as the ┆   ┆           ┆ ition to  ┆           ┆          │\n",
       "│           ┆ Fédératio ┆           ┆ 'edge of  ┆   ┆           ┆ outer     ┆           ┆          │\n",
       "│           ┆ n Aéronau ┆           ┆ space'.   ┆   ┆           ┆ space.    ┆           ┆          │\n",
       "│           ┆ tique Int ┆           ┆           ┆   ┆           ┆           ┆           ┆          │\n",
       "│           ┆ ernationa ┆           ┆           ┆   ┆           ┆           ┆           ┆          │\n",
       "│           ┆ le at an  ┆           ┆           ┆   ┆           ┆           ┆           ┆          │\n",
       "│           ┆ altitude  ┆           ┆           ┆   ┆           ┆           ┆           ┆          │\n",
       "│           ┆ of 100 km ┆           ┆           ┆   ┆           ┆           ┆           ┆          │\n",
       "│           ┆ (62 mi)   ┆           ┆           ┆   ┆           ┆           ┆           ┆          │\n",
       "│           ┆ above     ┆           ┆           ┆   ┆           ┆           ┆           ┆          │\n",
       "│           ┆ mean sea  ┆           ┆           ┆   ┆           ┆           ┆           ┆          │\n",
       "│           ┆ level.    ┆           ┆           ┆   ┆           ┆           ┆           ┆          │\n",
       "│ What is   ┆ Plant     ┆ Plant     ┆ Plant     ┆ … ┆ Plant     ┆ null      ┆ Cuticle   ┆ Botany   │\n",
       "│ the       ┆ cuticles  ┆ cuticles  ┆ cuticles  ┆   ┆ cuticles  ┆           ┆           ┆          │\n",
       "│ purpose   ┆ function  ┆ function  ┆ function  ┆   ┆ function  ┆           ┆           ┆          │\n",
       "│ of plant  ┆ as permea ┆ as        ┆ as protec ┆   ┆ as        ┆           ┆           ┆          │\n",
       "│ cuticles? ┆ bility    ┆ absorbent ┆ tive      ┆   ┆ sensors,  ┆           ┆           ┆          │\n",
       "│           ┆ barriers  ┆ layers,   ┆ shields,  ┆   ┆ detecting ┆           ┆           ┆          │\n",
       "│           ┆ for water ┆ allowing  ┆ shielding ┆   ┆ changes   ┆           ┆           ┆          │\n",
       "│           ┆ and water ┆ plants to ┆ the plant ┆   ┆ in enviro ┆           ┆           ┆          │\n",
       "│           ┆ -soluble  ┆ take in   ┆ from      ┆   ┆ nmental   ┆           ┆           ┆          │\n",
       "│           ┆ materials ┆ more      ┆ physical  ┆   ┆ condition ┆           ┆           ┆          │\n",
       "│           ┆ . They    ┆ water and ┆ damage    ┆   ┆ s and tri ┆           ┆           ┆          │\n",
       "│           ┆ prevent   ┆ nutrients ┆ and preda ┆   ┆ ggering   ┆           ┆           ┆          │\n",
       "│           ┆ plant     ┆ .         ┆ tors.     ┆   ┆ response  ┆           ┆           ┆          │\n",
       "│           ┆ surfaces  ┆           ┆           ┆   ┆ mechanism ┆           ┆           ┆          │\n",
       "│           ┆ from      ┆           ┆           ┆   ┆ s.        ┆           ┆           ┆          │\n",
       "│           ┆ becoming  ┆           ┆           ┆   ┆           ┆           ┆           ┆          │\n",
       "│           ┆ wetting   ┆           ┆           ┆   ┆           ┆           ┆           ┆          │\n",
       "│           ┆ and also  ┆           ┆           ┆   ┆           ┆           ┆           ┆          │\n",
       "│           ┆ help to   ┆           ┆           ┆   ┆           ┆           ┆           ┆          │\n",
       "│           ┆ prevent   ┆           ┆           ┆   ┆           ┆           ┆           ┆          │\n",
       "│           ┆ plants    ┆           ┆           ┆   ┆           ┆           ┆           ┆          │\n",
       "│           ┆ from      ┆           ┆           ┆   ┆           ┆           ┆           ┆          │\n",
       "│           ┆ drying    ┆           ┆           ┆   ┆           ┆           ┆           ┆          │\n",
       "│           ┆ out.      ┆           ┆           ┆   ┆           ┆           ┆           ┆          │\n",
       "│ …         ┆ …         ┆ …         ┆ …         ┆ … ┆ …         ┆ …         ┆ …         ┆ …        │\n",
       "│ What is   ┆ Turner    ┆ Turner    ┆ Turner    ┆ … ┆ Turner    ┆ Turner    ┆ Turner    ┆ Inherita │\n",
       "│ Turner    ┆ syndrome  ┆ syndrome  ┆ syndrome  ┆   ┆ syndrome  ┆ syndrome  ┆ syndrome  ┆ nce      │\n",
       "│ syndrome? ┆ (TS),     ┆ (TS),     ┆ (TS),     ┆   ┆ (TS),     ┆ (TS),     ┆           ┆          │\n",
       "│           ┆ also      ┆ also      ┆ also      ┆   ┆ also      ┆ also      ┆           ┆          │\n",
       "│           ┆ known as  ┆ known as  ┆ known as  ┆   ┆ known as  ┆ known as  ┆           ┆          │\n",
       "│           ┆ 45,X, or  ┆ 47,X, or  ┆ 46,X, or  ┆   ┆ 45,X, or  ┆ 45,X, or  ┆           ┆          │\n",
       "│           ┆ 45,X0, is ┆ 45,X1, is ┆ 45,X1, is ┆   ┆ 45,X0, is ┆ 45,X0, is ┆           ┆          │\n",
       "│           ┆ a genetic ┆ a genetic ┆ a genetic ┆   ┆ a genetic ┆ a genetic ┆           ┆          │\n",
       "│           ┆ disorder  ┆ disorder  ┆ disorder  ┆   ┆ disorder  ┆ disorder  ┆           ┆          │\n",
       "│           ┆ in which  ┆ in which  ┆ in which  ┆   ┆ in which  ┆ in which  ┆           ┆          │\n",
       "│           ┆ a female  ┆ a female  ┆ a female  ┆   ┆ a male    ┆ a female  ┆           ┆          │\n",
       "│           ┆ has a     ┆ has two X ┆ has a     ┆   ┆ has a     ┆ has a     ┆           ┆          │\n",
       "│           ┆ single X  ┆ chromosom ┆ single X  ┆   ┆ single X  ┆ single X  ┆           ┆          │\n",
       "│           ┆ chromosom ┆ es,       ┆ chromosom ┆   ┆ chromosom ┆ chromosom ┆           ┆          │\n",
       "│           ┆ e,        ┆ compared  ┆ e,        ┆   ┆ e,        ┆ e,        ┆           ┆          │\n",
       "│           ┆ compared  ┆ to the    ┆ compared  ┆   ┆ compared  ┆ compared  ┆           ┆          │\n",
       "│           ┆ to the    ┆ one sex   ┆ to the    ┆   ┆ to the    ┆ to the    ┆           ┆          │\n",
       "│           ┆ two sex   ┆ chromosom ┆ two sex   ┆   ┆ two sex   ┆ two sex   ┆           ┆          │\n",
       "│           ┆ chromosom ┆ e (XY or  ┆ chromosom ┆   ┆ chromosom ┆ chromosom ┆           ┆          │\n",
       "│           ┆ es (XX or ┆ YY) in    ┆ es (XY or ┆   ┆ es (XX or ┆ es (XX or ┆           ┆          │\n",
       "│           ┆ XY) in    ┆ most      ┆ YX) in    ┆   ┆ XY) in    ┆ XY) in    ┆           ┆          │\n",
       "│           ┆ most      ┆ people.   ┆ most      ┆   ┆ most      ┆ most      ┆           ┆          │\n",
       "│           ┆ people.   ┆ Signs and ┆ people.   ┆   ┆ people.   ┆ people.   ┆           ┆          │\n",
       "│           ┆ Signs and ┆ symptoms  ┆ Signs and ┆   ┆ Signs and ┆ Signs and ┆           ┆          │\n",
       "│           ┆ symptoms  ┆ vary      ┆ symptoms  ┆   ┆ symptoms  ┆ symptoms  ┆           ┆          │\n",
       "│           ┆ vary      ┆ among     ┆ vary      ┆   ┆ vary      ┆ vary      ┆           ┆          │\n",
       "│           ┆ among     ┆ those     ┆ among     ┆   ┆ among     ┆ among     ┆           ┆          │\n",
       "│           ┆ those     ┆ affected. ┆ those     ┆   ┆ those     ┆ those     ┆           ┆          │\n",
       "│           ┆ affected. ┆ Often, a  ┆ affected. ┆   ┆ affected. ┆ affected. ┆           ┆          │\n",
       "│           ┆ Often, a  ┆ short and ┆ Often, a  ┆   ┆ Often, a  ┆ Often, a  ┆           ┆          │\n",
       "│           ┆ short and ┆ webbed    ┆ long and  ┆   ┆ short and ┆ tall and  ┆           ┆          │\n",
       "│           ┆ webbed    ┆ neck,     ┆ thin      ┆   ┆ webbed    ┆ thin      ┆           ┆          │\n",
       "│           ┆ neck,     ┆ low-set   ┆ neck,     ┆   ┆ neck,     ┆ neck,     ┆           ┆          │\n",
       "│           ┆ low-set   ┆ ears, low ┆ high-set  ┆   ┆ low-set   ┆ high-set  ┆           ┆          │\n",
       "│           ┆ ears, low ┆ hairline  ┆ ears,     ┆   ┆ ears, low ┆ ears,     ┆           ┆          │\n",
       "│           ┆ hairline  ┆ at the    ┆ high      ┆   ┆ hairline  ┆ high      ┆           ┆          │\n",
       "│           ┆ at the    ┆ back of   ┆ hairline  ┆   ┆ at the    ┆ hairline  ┆           ┆          │\n",
       "│           ┆ back of   ┆ the neck, ┆ at the    ┆   ┆ back of   ┆ at the    ┆           ┆          │\n",
       "│           ┆ the neck, ┆ short     ┆ back of   ┆   ┆ the neck, ┆ back of   ┆           ┆          │\n",
       "│           ┆ short     ┆ stature,  ┆ the neck, ┆   ┆ short     ┆ the neck, ┆           ┆          │\n",
       "│           ┆ stature,  ┆ and edema ┆ tall      ┆   ┆ stature,  ┆ tall      ┆           ┆          │\n",
       "│           ┆ and edema ┆ hands and ┆ stature,  ┆   ┆ and edema ┆ stature,  ┆           ┆          │\n",
       "│           ┆ hands and ┆ feet are  ┆ and edema ┆   ┆ hands and ┆ and edema ┆           ┆          │\n",
       "│           ┆ feet are  ┆ seen at   ┆ hands and ┆   ┆ feet are  ┆ hands and ┆           ┆          │\n",
       "│           ┆ seen at   ┆ birth.    ┆ feet are  ┆   ┆ seen at   ┆ feet are  ┆           ┆          │\n",
       "│           ┆ birth.    ┆ Typically ┆ seen at   ┆   ┆ birth.    ┆ seen at   ┆           ┆          │\n",
       "│           ┆ Typically ┆ , those   ┆ birth.    ┆   ┆ Typically ┆ birth.    ┆           ┆          │\n",
       "│           ┆ , those   ┆ affected  ┆ Typically ┆   ┆ , those   ┆ Typically ┆           ┆          │\n",
       "│           ┆ affected  ┆ experienc ┆ , those   ┆   ┆ affected  ┆ , those   ┆           ┆          │\n",
       "│           ┆ Amenorrhe ┆ e normal  ┆ affected  ┆   ┆ Amenorrhe ┆ affected  ┆           ┆          │\n",
       "│           ┆ a or      ┆ hormone   ┆ experienc ┆   ┆ a or      ┆ experienc ┆           ┆          │\n",
       "│           ┆ breasts   ┆ levels    ┆ e normal  ┆   ┆ breasts   ┆ e normal  ┆           ┆          │\n",
       "│           ┆ without   ┆ and are   ┆ hormone   ┆   ┆ without   ┆ hormone   ┆           ┆          │\n",
       "│           ┆ Hormone   ┆ fertile   ┆ levels    ┆   ┆ Hormone   ┆ levels    ┆           ┆          │\n",
       "│           ┆ replaceme ┆ without   ┆ and are   ┆   ┆ replaceme ┆ and are   ┆           ┆          │\n",
       "│           ┆ nt        ┆ reproduct ┆ fertile   ┆   ┆ nt        ┆ fertile   ┆           ┆          │\n",
       "│           ┆ therapy   ┆ ive techn ┆ without   ┆   ┆ therapy   ┆ without   ┆           ┆          │\n",
       "│           ┆ and are   ┆ ology.    ┆ reproduct ┆   ┆ and are   ┆ reproduct ┆           ┆          │\n",
       "│           ┆ Infertile ┆ Congenita ┆ ive techn ┆   ┆ Infertile ┆ ive techn ┆           ┆          │\n",
       "│           ┆ without   ┆ l heart   ┆ ology.    ┆   ┆ without   ┆ ology.    ┆           ┆          │\n",
       "│           ┆ reproduct ┆ defect,   ┆ Congenita ┆   ┆ reproduct ┆ Congenita ┆           ┆          │\n",
       "│           ┆ ive techn ┆ Diabetes  ┆ l heart   ┆   ┆ ive techn ┆ l heart   ┆           ┆          │\n",
       "│           ┆ ology.    ┆ mellitus, ┆ defect,   ┆   ┆ ology.    ┆ defect,   ┆           ┆          │\n",
       "│           ┆ Congenita ┆ and Hypot ┆ Diabetes  ┆   ┆ Congenita ┆ Diabetes  ┆           ┆          │\n",
       "│           ┆ l heart   ┆ hyroidism ┆ mellitus, ┆   ┆ l heart   ┆ mellitus, ┆           ┆          │\n",
       "│           ┆ defect,   ┆ occur in  ┆ and Hypot ┆   ┆ defect,   ┆ and Hypot ┆           ┆          │\n",
       "│           ┆ Diabetes  ┆ the       ┆ hyroidism ┆   ┆ Diabetes  ┆ hyroidism ┆           ┆          │\n",
       "│           ┆ mellitus, ┆ disorder  ┆ rarely    ┆   ┆ mellitus, ┆ rarely    ┆           ┆          │\n",
       "│           ┆ and Hypot ┆ less freq ┆ occur in  ┆   ┆ and Hypot ┆ occur in  ┆           ┆          │\n",
       "│           ┆ hyroidism ┆ uently    ┆ the       ┆   ┆ hyroidism ┆ the       ┆           ┆          │\n",
       "│           ┆ occur in  ┆ than      ┆ disorder. ┆   ┆ occur in  ┆ disorder. ┆           ┆          │\n",
       "│           ┆ the       ┆ average.  ┆ Most      ┆   ┆ the       ┆ Most      ┆           ┆          │\n",
       "│           ┆ disorder  ┆ Most      ┆ people    ┆   ┆ disorder  ┆ people    ┆           ┆          │\n",
       "│           ┆ more freq ┆ people    ┆ with      ┆   ┆ more freq ┆ with      ┆           ┆          │\n",
       "│           ┆ uently    ┆ with      ┆ Turner    ┆   ┆ uently    ┆ Turner    ┆           ┆          │\n",
       "│           ┆ than      ┆ Turner    ┆ syndrome  ┆   ┆ than      ┆ syndrome  ┆           ┆          │\n",
       "│           ┆ average.  ┆ syndrome  ┆ have abov ┆   ┆ average.  ┆ have abov ┆           ┆          │\n",
       "│           ┆ Most      ┆ have belo ┆ e-average ┆   ┆ Most      ┆ e-average ┆           ┆          │\n",
       "│           ┆ people    ┆ w-average ┆ intellige ┆   ┆ people    ┆ intellige ┆           ┆          │\n",
       "│           ┆ with      ┆ intellige ┆ nce;      ┆   ┆ with      ┆ nce;      ┆           ┆          │\n",
       "│           ┆ Turner    ┆ nce;      ┆ however,  ┆   ┆ Turner    ┆ however,  ┆           ┆          │\n",
       "│           ┆ syndrome  ┆ however,  ┆ many have ┆   ┆ syndrome  ┆ many have ┆           ┆          │\n",
       "│           ┆ have      ┆ many have ┆ problems  ┆   ┆ have      ┆ no        ┆           ┆          │\n",
       "│           ┆ normal    ┆ no        ┆ with      ┆   ┆ normal    ┆ problems  ┆           ┆          │\n",
       "│           ┆ intellige ┆ problems  ┆ spatial   ┆   ┆ intellige ┆ with      ┆           ┆          │\n",
       "│           ┆ nce;      ┆ with      ┆ visualiza ┆   ┆ nce;      ┆ spatial   ┆           ┆          │\n",
       "│           ┆ however,  ┆ spatial   ┆ tion that ┆   ┆ however,  ┆ visualiza ┆           ┆          │\n",
       "│           ┆ many have ┆ visualiza ┆ may be    ┆   ┆ many have ┆ tion that ┆           ┆          │\n",
       "│           ┆ problems  ┆ tion that ┆ needed in ┆   ┆ problems  ┆ may be    ┆           ┆          │\n",
       "│           ┆ with      ┆ may be    ┆ order to  ┆   ┆ with      ┆ needed in ┆           ┆          │\n",
       "│           ┆ spatial   ┆ needed in ┆ learn mat ┆   ┆ spatial   ┆ order to  ┆           ┆          │\n",
       "│           ┆ visualiza ┆ order to  ┆ hematics. ┆   ┆ visualiza ┆ learn mat ┆           ┆          │\n",
       "│           ┆ tion that ┆ learn mat ┆ Vision    ┆   ┆ tion that ┆ hematics. ┆           ┆          │\n",
       "│           ┆ may be    ┆ hematics. ┆ and       ┆   ┆ may be    ┆ Vision    ┆           ┆          │\n",
       "│           ┆ needed in ┆ Vision    ┆ hearing   ┆   ┆ needed in ┆ and       ┆           ┆          │\n",
       "│           ┆ order to  ┆ and       ┆ problems  ┆   ┆ order to  ┆ hearing   ┆           ┆          │\n",
       "│           ┆ learn mat ┆ hearing   ┆ rarely    ┆   ┆ learn mat ┆ problems  ┆           ┆          │\n",
       "│           ┆ hematics. ┆ problems  ┆ occur.    ┆   ┆ hematics. ┆ rarely    ┆           ┆          │\n",
       "│           ┆ Vision    ┆ rarely    ┆           ┆   ┆ Vision    ┆ occur.    ┆           ┆          │\n",
       "│           ┆ and       ┆ occur.    ┆           ┆   ┆ and       ┆           ┆           ┆          │\n",
       "│           ┆ hearing   ┆           ┆           ┆   ┆ hearing   ┆           ┆           ┆          │\n",
       "│           ┆ problems  ┆           ┆           ┆   ┆ problems  ┆           ┆           ┆          │\n",
       "│           ┆ also      ┆           ┆           ┆   ┆ also      ┆           ┆           ┆          │\n",
       "│           ┆ occur     ┆           ┆           ┆   ┆ occur     ┆           ┆           ┆          │\n",
       "│           ┆ more      ┆           ┆           ┆   ┆ more      ┆           ┆           ┆          │\n",
       "│           ┆ often     ┆           ┆           ┆   ┆ often     ┆           ┆           ┆          │\n",
       "│           ┆ than      ┆           ┆           ┆   ┆ than      ┆           ┆           ┆          │\n",
       "│           ┆ average.  ┆           ┆           ┆   ┆ average.  ┆           ┆           ┆          │\n",
       "│ Which of  ┆ Complex   ┆ Complex   ┆ Complex   ┆ … ┆ Complex   ┆ null      ┆ Complex   ┆ Variance │\n",
       "│ the       ┆ random    ┆ random    ┆ random    ┆   ┆ random    ┆           ┆ random    ┆ and pseu │\n",
       "│ following ┆ variables ┆ variables ┆ variables ┆   ┆ variables ┆           ┆ variable  ┆ do-varia │\n",
       "│ statement ┆ can       ┆ can only  ┆ are a gen ┆   ┆ are used  ┆           ┆           ┆ nce      │\n",
       "│ s about   ┆ always be ┆ take      ┆ eralizati ┆   ┆ primarily ┆           ┆           ┆          │\n",
       "│ complex   ┆ considere ┆ complex   ┆ on of ima ┆   ┆ in statis ┆           ┆           ┆          │\n",
       "│ random    ┆ d as      ┆ numbers   ┆ ginary-va ┆   ┆ tics and  ┆           ┆           ┆          │\n",
       "│ variables ┆ pairs of  ┆ with real ┆ lued      ┆   ┆ probabili ┆           ┆           ┆          │\n",
       "│ is        ┆ real      ┆ parts.    ┆ random    ┆   ┆ ty        ┆           ┆           ┆          │\n",
       "│ correct?  ┆ random    ┆           ┆ variables ┆   ┆ theory.   ┆           ┆           ┆          │\n",
       "│           ┆ variables ┆           ┆ to        ┆   ┆           ┆           ┆           ┆          │\n",
       "│           ┆ : their   ┆           ┆ complex   ┆   ┆           ┆           ┆           ┆          │\n",
       "│           ┆ real and  ┆           ┆ numbers.  ┆   ┆           ┆           ┆           ┆          │\n",
       "│           ┆ imaginary ┆           ┆           ┆   ┆           ┆           ┆           ┆          │\n",
       "│           ┆ parts.    ┆           ┆           ┆   ┆           ┆           ┆           ┆          │\n",
       "│ What are  ┆ Wirtinger ┆ Wirtinger ┆ Wirtinger ┆ … ┆ Wirtinger ┆ Wirtinger ┆ Wirtinger ┆ Historic │\n",
       "│ Wirtinger ┆ derivativ ┆ derivativ ┆ derivativ ┆   ┆ derivativ ┆ derivativ ┆ derivativ ┆ al refer │\n",
       "│ derivativ ┆ es are    ┆ es are    ┆ es are    ┆   ┆ es are    ┆ es are    ┆ es        ┆ ences    │\n",
       "│ es used   ┆ used to   ┆ used to   ┆ used to   ┆   ┆ used to   ┆ used to   ┆           ┆          │\n",
       "│ for in    ┆ construct ┆ solve the ┆ determine ┆   ┆ calculate ┆ investiga ┆           ┆          │\n",
       "│ complex   ┆ a differe ┆ Dirichlet ┆ the       ┆   ┆ the hyper ┆ te the    ┆           ┆          │\n",
       "│ analysis  ┆ ntial     ┆ problem   ┆ boundary  ┆   ┆ bolic     ┆ hypersurf ┆           ┆          │\n",
       "│ and       ┆ calculus  ┆ for       ┆ of a      ┆   ┆ secant    ┆ aces of   ┆           ┆          │\n",
       "│ several   ┆ for holom ┆ several   ┆ domain of ┆   ┆ distribut ┆ 4-dimensi ┆           ┆          │\n",
       "│ complex   ┆ orphic    ┆ complex   ┆ holomorph ┆   ┆ ion in    ┆ onal      ┆           ┆          │\n",
       "│ variables ┆ functions ┆ variables ┆ y in      ┆   ┆ complex   ┆ space in  ┆           ┆          │\n",
       "│ ?         ┆ , antihol ┆ .         ┆ several   ┆   ┆ analysis  ┆ complex   ┆           ┆          │\n",
       "│           ┆ omorphic  ┆           ┆ complex   ┆   ┆ and       ┆ analysis  ┆           ┆          │\n",
       "│           ┆ functions ┆           ┆ variables ┆   ┆ several   ┆ and       ┆           ┆          │\n",
       "│           ┆ , or diff ┆           ┆ .         ┆   ┆ complex   ┆ several   ┆           ┆          │\n",
       "│           ┆ erentiabl ┆           ┆           ┆   ┆ variables ┆ complex   ┆           ┆          │\n",
       "│           ┆ e         ┆           ┆           ┆   ┆ .         ┆ variables ┆           ┆          │\n",
       "│           ┆ functions ┆           ┆           ┆   ┆           ┆ .         ┆           ┆          │\n",
       "│           ┆ on a      ┆           ┆           ┆   ┆           ┆           ┆           ┆          │\n",
       "│           ┆ domain of ┆           ┆           ┆   ┆           ┆           ┆           ┆          │\n",
       "│           ┆ analysis. ┆           ┆           ┆   ┆           ┆           ┆           ┆          │\n",
       "│ What is   ┆ To        ┆ To        ┆ To induce ┆ … ┆ To        ┆ To        ┆ Binding   ┆ Binding  │\n",
       "│ the       ┆ account   ┆ evaluate  ┆ a         ┆   ┆ describe  ┆ reflect   ┆ site      ┆ curves   │\n",
       "│ purpose   ┆ for the   ┆ the       ┆ favorable ┆   ┆ the fract ┆ whether   ┆           ┆          │\n",
       "│ of the    ┆ enzyme    ┆ binding   ┆ conformat ┆   ┆ ional sat ┆ or not    ┆           ┆          │\n",
       "│ Michaelis ┆ reactions ┆ affinitie ┆ ion       ┆   ┆ uration   ┆ the       ┆           ┆          │\n",
       "│ Menten    ┆ taking    ┆ s of      ┆ change    ┆   ┆ of        ┆ protein   ┆           ┆          │\n",
       "│ equation  ┆ place in  ┆ oxygen to ┆ that      ┆   ┆ ligands   ┆ exhibits  ┆           ┆          │\n",
       "│ in determ ┆ a         ┆ hemoglobi ┆ allows    ┆   ┆ bound to  ┆ cooperati ┆           ┆          │\n",
       "│ ining the ┆ solution  ┆ n and     ┆ for       ┆   ┆ all       ┆ ve        ┆           ┆          │\n",
       "│ shape of  ┆ and       ┆ myoglobin ┆ increased ┆   ┆ available ┆ binding   ┆           ┆          │\n",
       "│ a binding ┆ describe  ┆ in the    ┆ binding   ┆   ┆ binding   ┆ or noncoo ┆           ┆          │\n",
       "│ curve?    ┆ the       ┆ blood.    ┆ favorabil ┆   ┆ sites.    ┆ perative  ┆           ┆          │\n",
       "│           ┆ binding   ┆           ┆ ity of    ┆   ┆           ┆ binding   ┆           ┆          │\n",
       "│           ┆ behavior  ┆           ┆ oxygen    ┆   ┆           ┆ behavior. ┆           ┆          │\n",
       "│           ┆ of ligand ┆           ┆ for heme  ┆   ┆           ┆           ┆           ┆          │\n",
       "│           ┆ to a      ┆           ┆ groups on ┆   ┆           ┆           ┆           ┆          │\n",
       "│           ┆ protein.  ┆           ┆ hemoglobi ┆   ┆           ┆           ┆           ┆          │\n",
       "│           ┆           ┆           ┆ n.        ┆   ┆           ┆           ┆           ┆          │\n",
       "└───────────┴───────────┴───────────┴───────────┴───┴───────────┴───────────┴───────────┴──────────┘"
      ]
     },
     "metadata": {},
     "output_type": "display_data"
    }
   ],
   "source": [
    "with pl.Config(fmt_str_lengths=2000):\n",
    "    display(df_q)"
   ]
  },
  {
   "cell_type": "code",
   "execution_count": 381,
   "id": "1c2282b6-f836-4ea7-a9a0-aaa5ee24c3ca",
   "metadata": {
    "tags": []
   },
   "outputs": [
    {
     "name": "stdout",
     "output_type": "stream",
     "text": [
      "{\n",
      "    \"question\": \"What is the difference between a countably-additive vector measure and a non-countably-additive vector measure?\",\n",
      "    \"correct\": \"A countably-additive vector measure assigns a value to countable unions of sets, while a non-countably-additive vector measure does not.\",\n",
      "    \"incorrect_1\": \"A countably-additive vector measure assigns a value to finite unions of sets, while a non-countably-additive vector measure does not.\",\n",
      "    \"incorrect_2\": \"A countably-additive vector measure assigns a value to all sets, while a non-countably-additive vector measure assigns a value only to certain sets.\",\n",
      "    \"incorrect_3\": \"A countably-additive vector measure assigns a value to countable intersections of sets, while a non-countably-additive vector measure does not.\",\n",
      "    \"incorrect_4\": \"A countably-additive vector measure assigns a value to infinite unions of sets, while a non-countably-additive vector measure does not.\"\n",
      "}\n"
     ]
    }
   ],
   "source": []
  },
  {
   "cell_type": "code",
   "execution_count": 382,
   "id": "f08e35c0-e911-4e1a-9e28-9a353efc178d",
   "metadata": {
    "tags": []
   },
   "outputs": [
    {
     "name": "stdout",
     "output_type": "stream",
     "text": [
      "\n",
      "You are a psychometrics researcher designing a test to check the reasoning abilities of graduate students in STEM fields. \n",
      "Create a difficult to answer multiple choice question from the Wikipedia snippet below, with 5 options which are \n",
      "concise, complex and ideally more than 200 charachters long. Provide only one correct option. The options should include only one correct statement and the other statements should be incorrect.\n",
      "A partial response that is missing an aspect is not incorrect. All but one statement need to incluse a false assertion.\n",
      "Example:\n",
      "{\n",
      "    \"question\": \"What is the relationship between the Cauchy momentum equation and the Navier-Stokes equation?\",\n",
      "    \"correct\": \"The Navier-Stokes equation can be derived from the Cauchy momentum equation by specifying the stress tensor through a constitutive relation, expressing the shear tensor in terms of viscosity and fluid velocity, and assuming constant density and viscosity.\",\n",
      "    \"incorrect_1\": \"The Navier-Stokes equation is a simplified version of the Cauchy momentum equation that only applies to situations with constant density and viscosity.\",\n",
      "    \"incorrect_2\": \"The Navier-Stokes equation is a special case of the Cauchy momentum equation, which is a more general equation that applies to all non-relativistic momentum conservation situations.\",\n",
      "    \"incorrect_3\": \"The Cauchy momentum equation and the Navier-Stokes equation are completely unrelated and cannot be used interchangeably in any situation.\",\n",
      "    \"incorrect_4\": \"The Cauchy momentum equation is a special case of the Navier-Stokes equation, which is a more general equation that applies to all non-relativistic momentum conservation situations.\"\n",
      "}\n",
      "\n",
      "Use the following section of an Wikipedia article to inspire the question. In case the section is too specific, below there is also the summary of the page. \n",
      "\n",
      "Section: Vector measure\n",
      "Use dmy datesdateApril 2022\n",
      "In mathematics, a vector measure is a function (mathematics) defined on a family of sets and taking vector space values satisfying certain properties. It is a generalization of the concept of finite measure (mathematics), which takes nonnegative real number values only.\n",
      "\n",
      "Summary of: Examples\n",
      "Consider the field of sets made up of the interval [0, 1] together with the family mathcal F of all Lebesgue measurable sets contained in this interval. For any such set A, define\n",
      "\n",
      "where chi is the indicator function of A. Depending on where mu is declared to take values, two different outcomes are observed.\n",
      "\n",
      " mu, viewed as a function from mathcal F to the Lp space Linfty([0, 1]), is a vector measure which is not countably-additive.\n",
      " mu, viewed as a function from mathcal F to the Lp-space L1([0, 1]), is a countably-additive vector measure.\n",
      "\n",
      "Both of these statements follow quite easily from the criterion (EquationNote*) stated above.\n",
      "\n"
     ]
    }
   ],
   "source": []
  },
  {
   "cell_type": "code",
   "execution_count": null,
   "id": "50cc2d8d-fb8a-442d-804a-062214863096",
   "metadata": {},
   "outputs": [],
   "source": []
  }
 ],
 "metadata": {
  "kernelspec": {
   "display_name": "Python [conda env:pytorch]",
   "language": "python",
   "name": "conda-env-pytorch-py"
  },
  "language_info": {
   "codemirror_mode": {
    "name": "ipython",
    "version": 3
   },
   "file_extension": ".py",
   "mimetype": "text/x-python",
   "name": "python",
   "nbconvert_exporter": "python",
   "pygments_lexer": "ipython3",
   "version": "3.8.17"
  }
 },
 "nbformat": 4,
 "nbformat_minor": 5
}
